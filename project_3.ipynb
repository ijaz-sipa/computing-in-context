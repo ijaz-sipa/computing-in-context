{
 "cells": [
  {
   "cell_type": "markdown",
   "metadata": {},
   "source": [
    "## **Project 3**"
   ]
  },
  {
   "cell_type": "markdown",
   "metadata": {},
   "source": [
    "- **Dataset(s) to be used:** [[U.S Energy Info](https://www.eia.gov/state/seds/seds-data-complete.php?sid=US#PricesExpenditures)]\n",
    "[[U.S. Bureau of Economic Analysis (BEA)](https://apps.bea.gov/itable/?ReqID=70&step=1#eyJhcHBpZCI6NzAsInN0ZXBzIjpbMSwyOSwyNSwzMSwyNiwyNywzMCwzMF0sImRhdGEiOltbIlRhYmxlSWQiLCI2MDAiXSxbIk1ham9yX0FyZWEiLCIwIl0sWyJTdGF0ZSIsWyIwIl1dLFsiQXJlYSIsWyJYWCJdXSxbIlN0YXRpc3RpYyIsIi0xIl0sWyJVbml0X29mX21lYXN1cmUiLCJMZXZlbHMiXSxbIlllYXIiLFsiLTEiXV0sWyJZZWFyQmVnaW4iLCItMSJdLFsiWWVhcl9FbmQiLCItMSJdXX0=)]\n",
    "- **Analysis question:** Do states with higher energy expenditure as a % of GDP also have higher consumer spending levels and employment?\n",
    "- **Columns that will (likely) be used:**\n",
    "  - State\n",
    "  - Energy expenditures as percent of current-dollar gross domestic product (GDP)\n",
    "  - Per capita personal consumption expenditures\n",
    "  - Employment\n",
    "  - Prices\n",
    "- (If you're using multiple datasets) **Columns to be used to merge/join them:**\n",
    "  - [U.S Energy Info] - [State]\n",
    "  - [U.S. Bureau of Economic Analysis (BEA)] - [GeoName]\n",
    "- **Hypothesis**: States with higher consumer spending have a lower proportion of GDP spent on energy and higher employment. (Richers states invest more on renewable so energy expenditure is low as renewable energy is cheap)\n",
    "\n",
    "- **Site URL:** [[Project Website](https://project-1-2-3-computing-context.readthedocs.io/en/latest/index.html)]"
   ]
  },
  {
   "cell_type": "code",
   "execution_count": 2,
   "metadata": {},
   "outputs": [],
   "source": [
    "import plotly.io as pio\n",
    "\n",
    "pio.renderers.default = \"vscode+jupyterlab+notebook_connected\""
   ]
  },
  {
   "cell_type": "markdown",
   "metadata": {},
   "source": []
  },
  {
   "cell_type": "markdown",
   "metadata": {},
   "source": [
    "Previously in Project 2, I explored if the state energy expenditure has fallen over time as renewable energy consumption increased. Now I will explore the relationship between share of Energy expenditure as a % of GDP and consumer spending."
   ]
  },
  {
   "cell_type": "markdown",
   "metadata": {},
   "source": [
    "***First, I need to import packages***"
   ]
  },
  {
   "cell_type": "code",
   "execution_count": 3,
   "metadata": {},
   "outputs": [],
   "source": [
    "import pandas as pd\n",
    "import plotly.express as px"
   ]
  },
  {
   "cell_type": "markdown",
   "metadata": {},
   "source": [
    "***Import the state level consumer spending dataset***"
   ]
  },
  {
   "cell_type": "code",
   "execution_count": 4,
   "metadata": {},
   "outputs": [
    {
     "data": {
      "text/html": [
       "<div>\n",
       "<style scoped>\n",
       "    .dataframe tbody tr th:only-of-type {\n",
       "        vertical-align: middle;\n",
       "    }\n",
       "\n",
       "    .dataframe tbody tr th {\n",
       "        vertical-align: top;\n",
       "    }\n",
       "\n",
       "    .dataframe thead th {\n",
       "        text-align: right;\n",
       "    }\n",
       "</style>\n",
       "<table border=\"1\" class=\"dataframe\">\n",
       "  <thead>\n",
       "    <tr style=\"text-align: right;\">\n",
       "      <th></th>\n",
       "      <th>GeoFips</th>\n",
       "      <th>GeoName</th>\n",
       "      <th>LineCode</th>\n",
       "      <th>Description</th>\n",
       "      <th>1998</th>\n",
       "      <th>1999</th>\n",
       "      <th>2000</th>\n",
       "      <th>2001</th>\n",
       "      <th>2002</th>\n",
       "      <th>2003</th>\n",
       "      <th>...</th>\n",
       "      <th>2014</th>\n",
       "      <th>2015</th>\n",
       "      <th>2016</th>\n",
       "      <th>2017</th>\n",
       "      <th>2018</th>\n",
       "      <th>2019</th>\n",
       "      <th>2020</th>\n",
       "      <th>2021</th>\n",
       "      <th>2022</th>\n",
       "      <th>2023</th>\n",
       "    </tr>\n",
       "  </thead>\n",
       "  <tbody>\n",
       "    <tr>\n",
       "      <th>0</th>\n",
       "      <td>00000</td>\n",
       "      <td>United States</td>\n",
       "      <td>NaN</td>\n",
       "      <td>Real dollar statistics</td>\n",
       "      <td>NaN</td>\n",
       "      <td>NaN</td>\n",
       "      <td>NaN</td>\n",
       "      <td>NaN</td>\n",
       "      <td>NaN</td>\n",
       "      <td>NaN</td>\n",
       "      <td>...</td>\n",
       "      <td>NaN</td>\n",
       "      <td>NaN</td>\n",
       "      <td>NaN</td>\n",
       "      <td>NaN</td>\n",
       "      <td>NaN</td>\n",
       "      <td>NaN</td>\n",
       "      <td>NaN</td>\n",
       "      <td>NaN</td>\n",
       "      <td>NaN</td>\n",
       "      <td>NaN</td>\n",
       "    </tr>\n",
       "    <tr>\n",
       "      <th>1</th>\n",
       "      <td>00000</td>\n",
       "      <td>United States</td>\n",
       "      <td>1.0</td>\n",
       "      <td>Real GDP (millions of chained 2017 dollars) 1</td>\n",
       "      <td>12924876.0</td>\n",
       "      <td>13543774.0</td>\n",
       "      <td>14096033.0</td>\n",
       "      <td>14230726.0</td>\n",
       "      <td>14472712.0</td>\n",
       "      <td>14877312.0</td>\n",
       "      <td>...</td>\n",
       "      <td>18261714.0</td>\n",
       "      <td>18799622.0</td>\n",
       "      <td>19141672.0</td>\n",
       "      <td>19612102.0</td>\n",
       "      <td>20193896.0</td>\n",
       "      <td>20715671.0</td>\n",
       "      <td>20267585.0</td>\n",
       "      <td>21494798.0</td>\n",
       "      <td>22034828.0</td>\n",
       "      <td>22671096.0</td>\n",
       "    </tr>\n",
       "    <tr>\n",
       "      <th>2</th>\n",
       "      <td>00000</td>\n",
       "      <td>United States</td>\n",
       "      <td>2.0</td>\n",
       "      <td>Real personal income (millions of constant (...</td>\n",
       "      <td>(NA)</td>\n",
       "      <td>(NA)</td>\n",
       "      <td>(NA)</td>\n",
       "      <td>(NA)</td>\n",
       "      <td>(NA)</td>\n",
       "      <td>(NA)</td>\n",
       "      <td>...</td>\n",
       "      <td>15216230.2</td>\n",
       "      <td>15896447.7</td>\n",
       "      <td>16162029.4</td>\n",
       "      <td>16658962.0</td>\n",
       "      <td>17163074.0</td>\n",
       "      <td>17720998.0</td>\n",
       "      <td>18741358.9</td>\n",
       "      <td>19626220.8</td>\n",
       "      <td>18803662.1</td>\n",
       "      <td>(NA)</td>\n",
       "    </tr>\n",
       "    <tr>\n",
       "      <th>3</th>\n",
       "      <td>00000</td>\n",
       "      <td>United States</td>\n",
       "      <td>3.0</td>\n",
       "      <td>Real PCE (millions of constant (2017) dollar...</td>\n",
       "      <td>(NA)</td>\n",
       "      <td>(NA)</td>\n",
       "      <td>(NA)</td>\n",
       "      <td>(NA)</td>\n",
       "      <td>(NA)</td>\n",
       "      <td>(NA)</td>\n",
       "      <td>...</td>\n",
       "      <td>12226445.7</td>\n",
       "      <td>12638789.0</td>\n",
       "      <td>12949012.2</td>\n",
       "      <td>13290625.5</td>\n",
       "      <td>13654925.4</td>\n",
       "      <td>13928263.5</td>\n",
       "      <td>13576965.0</td>\n",
       "      <td>14718156.7</td>\n",
       "      <td>15090796.8</td>\n",
       "      <td>(NA)</td>\n",
       "    </tr>\n",
       "    <tr>\n",
       "      <th>4</th>\n",
       "      <td>00000</td>\n",
       "      <td>United States</td>\n",
       "      <td>NaN</td>\n",
       "      <td>Current dollar statistics (millions of dollars)</td>\n",
       "      <td>NaN</td>\n",
       "      <td>NaN</td>\n",
       "      <td>NaN</td>\n",
       "      <td>NaN</td>\n",
       "      <td>NaN</td>\n",
       "      <td>NaN</td>\n",
       "      <td>...</td>\n",
       "      <td>NaN</td>\n",
       "      <td>NaN</td>\n",
       "      <td>NaN</td>\n",
       "      <td>NaN</td>\n",
       "      <td>NaN</td>\n",
       "      <td>NaN</td>\n",
       "      <td>NaN</td>\n",
       "      <td>NaN</td>\n",
       "      <td>NaN</td>\n",
       "      <td>NaN</td>\n",
       "    </tr>\n",
       "    <tr>\n",
       "      <th>...</th>\n",
       "      <td>...</td>\n",
       "      <td>...</td>\n",
       "      <td>...</td>\n",
       "      <td>...</td>\n",
       "      <td>...</td>\n",
       "      <td>...</td>\n",
       "      <td>...</td>\n",
       "      <td>...</td>\n",
       "      <td>...</td>\n",
       "      <td>...</td>\n",
       "      <td>...</td>\n",
       "      <td>...</td>\n",
       "      <td>...</td>\n",
       "      <td>...</td>\n",
       "      <td>...</td>\n",
       "      <td>...</td>\n",
       "      <td>...</td>\n",
       "      <td>...</td>\n",
       "      <td>...</td>\n",
       "      <td>...</td>\n",
       "      <td>...</td>\n",
       "    </tr>\n",
       "    <tr>\n",
       "      <th>1100</th>\n",
       "      <td>8. Per capita PCE estimates are in current dol...</td>\n",
       "      <td>NaN</td>\n",
       "      <td>NaN</td>\n",
       "      <td>NaN</td>\n",
       "      <td>NaN</td>\n",
       "      <td>NaN</td>\n",
       "      <td>NaN</td>\n",
       "      <td>NaN</td>\n",
       "      <td>NaN</td>\n",
       "      <td>NaN</td>\n",
       "      <td>...</td>\n",
       "      <td>NaN</td>\n",
       "      <td>NaN</td>\n",
       "      <td>NaN</td>\n",
       "      <td>NaN</td>\n",
       "      <td>NaN</td>\n",
       "      <td>NaN</td>\n",
       "      <td>NaN</td>\n",
       "      <td>NaN</td>\n",
       "      <td>NaN</td>\n",
       "      <td>NaN</td>\n",
       "    </tr>\n",
       "    <tr>\n",
       "      <th>1101</th>\n",
       "      <td>9. Regional price parities (RPPs) measure pric...</td>\n",
       "      <td>NaN</td>\n",
       "      <td>NaN</td>\n",
       "      <td>NaN</td>\n",
       "      <td>NaN</td>\n",
       "      <td>NaN</td>\n",
       "      <td>NaN</td>\n",
       "      <td>NaN</td>\n",
       "      <td>NaN</td>\n",
       "      <td>NaN</td>\n",
       "      <td>...</td>\n",
       "      <td>NaN</td>\n",
       "      <td>NaN</td>\n",
       "      <td>NaN</td>\n",
       "      <td>NaN</td>\n",
       "      <td>NaN</td>\n",
       "      <td>NaN</td>\n",
       "      <td>NaN</td>\n",
       "      <td>NaN</td>\n",
       "      <td>NaN</td>\n",
       "      <td>NaN</td>\n",
       "    </tr>\n",
       "    <tr>\n",
       "      <th>1102</th>\n",
       "      <td>10. Implicit regional price deflators (IRPDs) ...</td>\n",
       "      <td>NaN</td>\n",
       "      <td>NaN</td>\n",
       "      <td>NaN</td>\n",
       "      <td>NaN</td>\n",
       "      <td>NaN</td>\n",
       "      <td>NaN</td>\n",
       "      <td>NaN</td>\n",
       "      <td>NaN</td>\n",
       "      <td>NaN</td>\n",
       "      <td>...</td>\n",
       "      <td>NaN</td>\n",
       "      <td>NaN</td>\n",
       "      <td>NaN</td>\n",
       "      <td>NaN</td>\n",
       "      <td>NaN</td>\n",
       "      <td>NaN</td>\n",
       "      <td>NaN</td>\n",
       "      <td>NaN</td>\n",
       "      <td>NaN</td>\n",
       "      <td>NaN</td>\n",
       "    </tr>\n",
       "    <tr>\n",
       "      <th>1103</th>\n",
       "      <td>(NA) In the latest year (NA) indicates the sta...</td>\n",
       "      <td>NaN</td>\n",
       "      <td>NaN</td>\n",
       "      <td>NaN</td>\n",
       "      <td>NaN</td>\n",
       "      <td>NaN</td>\n",
       "      <td>NaN</td>\n",
       "      <td>NaN</td>\n",
       "      <td>NaN</td>\n",
       "      <td>NaN</td>\n",
       "      <td>...</td>\n",
       "      <td>NaN</td>\n",
       "      <td>NaN</td>\n",
       "      <td>NaN</td>\n",
       "      <td>NaN</td>\n",
       "      <td>NaN</td>\n",
       "      <td>NaN</td>\n",
       "      <td>NaN</td>\n",
       "      <td>NaN</td>\n",
       "      <td>NaN</td>\n",
       "      <td>NaN</td>\n",
       "    </tr>\n",
       "    <tr>\n",
       "      <th>1104</th>\n",
       "      <td>Last updated: October 3, 2024.</td>\n",
       "      <td>NaN</td>\n",
       "      <td>NaN</td>\n",
       "      <td>NaN</td>\n",
       "      <td>NaN</td>\n",
       "      <td>NaN</td>\n",
       "      <td>NaN</td>\n",
       "      <td>NaN</td>\n",
       "      <td>NaN</td>\n",
       "      <td>NaN</td>\n",
       "      <td>...</td>\n",
       "      <td>NaN</td>\n",
       "      <td>NaN</td>\n",
       "      <td>NaN</td>\n",
       "      <td>NaN</td>\n",
       "      <td>NaN</td>\n",
       "      <td>NaN</td>\n",
       "      <td>NaN</td>\n",
       "      <td>NaN</td>\n",
       "      <td>NaN</td>\n",
       "      <td>NaN</td>\n",
       "    </tr>\n",
       "  </tbody>\n",
       "</table>\n",
       "<p>1105 rows × 30 columns</p>\n",
       "</div>"
      ],
      "text/plain": [
       "                                                GeoFips        GeoName  \\\n",
       "0                                                 00000  United States   \n",
       "1                                                 00000  United States   \n",
       "2                                                 00000  United States   \n",
       "3                                                 00000  United States   \n",
       "4                                                 00000  United States   \n",
       "...                                                 ...            ...   \n",
       "1100  8. Per capita PCE estimates are in current dol...            NaN   \n",
       "1101  9. Regional price parities (RPPs) measure pric...            NaN   \n",
       "1102  10. Implicit regional price deflators (IRPDs) ...            NaN   \n",
       "1103  (NA) In the latest year (NA) indicates the sta...            NaN   \n",
       "1104                     Last updated: October 3, 2024.            NaN   \n",
       "\n",
       "      LineCode                                        Description        1998  \\\n",
       "0          NaN                             Real dollar statistics         NaN   \n",
       "1          1.0      Real GDP (millions of chained 2017 dollars) 1  12924876.0   \n",
       "2          2.0    Real personal income (millions of constant (...        (NA)   \n",
       "3          3.0    Real PCE (millions of constant (2017) dollar...        (NA)   \n",
       "4          NaN    Current dollar statistics (millions of dollars)         NaN   \n",
       "...        ...                                                ...         ...   \n",
       "1100       NaN                                                NaN         NaN   \n",
       "1101       NaN                                                NaN         NaN   \n",
       "1102       NaN                                                NaN         NaN   \n",
       "1103       NaN                                                NaN         NaN   \n",
       "1104       NaN                                                NaN         NaN   \n",
       "\n",
       "            1999        2000        2001        2002        2003  ...  \\\n",
       "0            NaN         NaN         NaN         NaN         NaN  ...   \n",
       "1     13543774.0  14096033.0  14230726.0  14472712.0  14877312.0  ...   \n",
       "2           (NA)        (NA)        (NA)        (NA)        (NA)  ...   \n",
       "3           (NA)        (NA)        (NA)        (NA)        (NA)  ...   \n",
       "4            NaN         NaN         NaN         NaN         NaN  ...   \n",
       "...          ...         ...         ...         ...         ...  ...   \n",
       "1100         NaN         NaN         NaN         NaN         NaN  ...   \n",
       "1101         NaN         NaN         NaN         NaN         NaN  ...   \n",
       "1102         NaN         NaN         NaN         NaN         NaN  ...   \n",
       "1103         NaN         NaN         NaN         NaN         NaN  ...   \n",
       "1104         NaN         NaN         NaN         NaN         NaN  ...   \n",
       "\n",
       "            2014        2015        2016        2017        2018        2019  \\\n",
       "0            NaN         NaN         NaN         NaN         NaN         NaN   \n",
       "1     18261714.0  18799622.0  19141672.0  19612102.0  20193896.0  20715671.0   \n",
       "2     15216230.2  15896447.7  16162029.4  16658962.0  17163074.0  17720998.0   \n",
       "3     12226445.7  12638789.0  12949012.2  13290625.5  13654925.4  13928263.5   \n",
       "4            NaN         NaN         NaN         NaN         NaN         NaN   \n",
       "...          ...         ...         ...         ...         ...         ...   \n",
       "1100         NaN         NaN         NaN         NaN         NaN         NaN   \n",
       "1101         NaN         NaN         NaN         NaN         NaN         NaN   \n",
       "1102         NaN         NaN         NaN         NaN         NaN         NaN   \n",
       "1103         NaN         NaN         NaN         NaN         NaN         NaN   \n",
       "1104         NaN         NaN         NaN         NaN         NaN         NaN   \n",
       "\n",
       "            2020        2021        2022        2023  \n",
       "0            NaN         NaN         NaN         NaN  \n",
       "1     20267585.0  21494798.0  22034828.0  22671096.0  \n",
       "2     18741358.9  19626220.8  18803662.1        (NA)  \n",
       "3     13576965.0  14718156.7  15090796.8        (NA)  \n",
       "4            NaN         NaN         NaN         NaN  \n",
       "...          ...         ...         ...         ...  \n",
       "1100         NaN         NaN         NaN         NaN  \n",
       "1101         NaN         NaN         NaN         NaN  \n",
       "1102         NaN         NaN         NaN         NaN  \n",
       "1103         NaN         NaN         NaN         NaN  \n",
       "1104         NaN         NaN         NaN         NaN  \n",
       "\n",
       "[1105 rows x 30 columns]"
      ]
     },
     "execution_count": 4,
     "metadata": {},
     "output_type": "execute_result"
    }
   ],
   "source": [
    "consumer_data = pd.read_csv(\"income_exp_state.csv\", skiprows=3) ## data starts from row 4, so skipping first 3 rows\n",
    "consumer_data"
   ]
  },
  {
   "cell_type": "markdown",
   "metadata": {},
   "source": [
    "***Checking values for all columns before reshaping***"
   ]
  },
  {
   "cell_type": "code",
   "execution_count": 5,
   "metadata": {},
   "outputs": [
    {
     "data": {
      "text/html": [
       "<div>\n",
       "<style scoped>\n",
       "    .dataframe tbody tr th:only-of-type {\n",
       "        vertical-align: middle;\n",
       "    }\n",
       "\n",
       "    .dataframe tbody tr th {\n",
       "        vertical-align: top;\n",
       "    }\n",
       "\n",
       "    .dataframe thead th {\n",
       "        text-align: right;\n",
       "    }\n",
       "</style>\n",
       "<table border=\"1\" class=\"dataframe\">\n",
       "  <thead>\n",
       "    <tr style=\"text-align: right;\">\n",
       "      <th></th>\n",
       "      <th>GeoFips</th>\n",
       "      <th>GeoName</th>\n",
       "      <th>LineCode</th>\n",
       "      <th>Description</th>\n",
       "      <th>1998</th>\n",
       "      <th>1999</th>\n",
       "      <th>2000</th>\n",
       "      <th>2001</th>\n",
       "      <th>2002</th>\n",
       "      <th>2003</th>\n",
       "      <th>...</th>\n",
       "      <th>2014</th>\n",
       "      <th>2015</th>\n",
       "      <th>2016</th>\n",
       "      <th>2017</th>\n",
       "      <th>2018</th>\n",
       "      <th>2019</th>\n",
       "      <th>2020</th>\n",
       "      <th>2021</th>\n",
       "      <th>2022</th>\n",
       "      <th>2023</th>\n",
       "    </tr>\n",
       "  </thead>\n",
       "  <tbody>\n",
       "    <tr>\n",
       "      <th>0</th>\n",
       "      <td>00000</td>\n",
       "      <td>United States</td>\n",
       "      <td>NaN</td>\n",
       "      <td>Real dollar statistics</td>\n",
       "      <td>NaN</td>\n",
       "      <td>NaN</td>\n",
       "      <td>NaN</td>\n",
       "      <td>NaN</td>\n",
       "      <td>NaN</td>\n",
       "      <td>NaN</td>\n",
       "      <td>...</td>\n",
       "      <td>NaN</td>\n",
       "      <td>NaN</td>\n",
       "      <td>NaN</td>\n",
       "      <td>NaN</td>\n",
       "      <td>NaN</td>\n",
       "      <td>NaN</td>\n",
       "      <td>NaN</td>\n",
       "      <td>NaN</td>\n",
       "      <td>NaN</td>\n",
       "      <td>NaN</td>\n",
       "    </tr>\n",
       "    <tr>\n",
       "      <th>1</th>\n",
       "      <td>00000</td>\n",
       "      <td>United States</td>\n",
       "      <td>1.0</td>\n",
       "      <td>Real GDP (millions of chained 2017 dollars) 1</td>\n",
       "      <td>12924876.0</td>\n",
       "      <td>13543774.0</td>\n",
       "      <td>14096033.0</td>\n",
       "      <td>14230726.0</td>\n",
       "      <td>14472712.0</td>\n",
       "      <td>14877312.0</td>\n",
       "      <td>...</td>\n",
       "      <td>18261714.0</td>\n",
       "      <td>18799622.0</td>\n",
       "      <td>19141672.0</td>\n",
       "      <td>19612102.0</td>\n",
       "      <td>20193896.0</td>\n",
       "      <td>20715671.0</td>\n",
       "      <td>20267585.0</td>\n",
       "      <td>21494798.0</td>\n",
       "      <td>22034828.0</td>\n",
       "      <td>22671096.0</td>\n",
       "    </tr>\n",
       "    <tr>\n",
       "      <th>2</th>\n",
       "      <td>00000</td>\n",
       "      <td>United States</td>\n",
       "      <td>2.0</td>\n",
       "      <td>Real personal income (millions of constant (...</td>\n",
       "      <td>(NA)</td>\n",
       "      <td>(NA)</td>\n",
       "      <td>(NA)</td>\n",
       "      <td>(NA)</td>\n",
       "      <td>(NA)</td>\n",
       "      <td>(NA)</td>\n",
       "      <td>...</td>\n",
       "      <td>15216230.2</td>\n",
       "      <td>15896447.7</td>\n",
       "      <td>16162029.4</td>\n",
       "      <td>16658962.0</td>\n",
       "      <td>17163074.0</td>\n",
       "      <td>17720998.0</td>\n",
       "      <td>18741358.9</td>\n",
       "      <td>19626220.8</td>\n",
       "      <td>18803662.1</td>\n",
       "      <td>(NA)</td>\n",
       "    </tr>\n",
       "    <tr>\n",
       "      <th>3</th>\n",
       "      <td>00000</td>\n",
       "      <td>United States</td>\n",
       "      <td>3.0</td>\n",
       "      <td>Real PCE (millions of constant (2017) dollar...</td>\n",
       "      <td>(NA)</td>\n",
       "      <td>(NA)</td>\n",
       "      <td>(NA)</td>\n",
       "      <td>(NA)</td>\n",
       "      <td>(NA)</td>\n",
       "      <td>(NA)</td>\n",
       "      <td>...</td>\n",
       "      <td>12226445.7</td>\n",
       "      <td>12638789.0</td>\n",
       "      <td>12949012.2</td>\n",
       "      <td>13290625.5</td>\n",
       "      <td>13654925.4</td>\n",
       "      <td>13928263.5</td>\n",
       "      <td>13576965.0</td>\n",
       "      <td>14718156.7</td>\n",
       "      <td>15090796.8</td>\n",
       "      <td>(NA)</td>\n",
       "    </tr>\n",
       "    <tr>\n",
       "      <th>4</th>\n",
       "      <td>00000</td>\n",
       "      <td>United States</td>\n",
       "      <td>NaN</td>\n",
       "      <td>Current dollar statistics (millions of dollars)</td>\n",
       "      <td>NaN</td>\n",
       "      <td>NaN</td>\n",
       "      <td>NaN</td>\n",
       "      <td>NaN</td>\n",
       "      <td>NaN</td>\n",
       "      <td>NaN</td>\n",
       "      <td>...</td>\n",
       "      <td>NaN</td>\n",
       "      <td>NaN</td>\n",
       "      <td>NaN</td>\n",
       "      <td>NaN</td>\n",
       "      <td>NaN</td>\n",
       "      <td>NaN</td>\n",
       "      <td>NaN</td>\n",
       "      <td>NaN</td>\n",
       "      <td>NaN</td>\n",
       "      <td>NaN</td>\n",
       "    </tr>\n",
       "    <tr>\n",
       "      <th>...</th>\n",
       "      <td>...</td>\n",
       "      <td>...</td>\n",
       "      <td>...</td>\n",
       "      <td>...</td>\n",
       "      <td>...</td>\n",
       "      <td>...</td>\n",
       "      <td>...</td>\n",
       "      <td>...</td>\n",
       "      <td>...</td>\n",
       "      <td>...</td>\n",
       "      <td>...</td>\n",
       "      <td>...</td>\n",
       "      <td>...</td>\n",
       "      <td>...</td>\n",
       "      <td>...</td>\n",
       "      <td>...</td>\n",
       "      <td>...</td>\n",
       "      <td>...</td>\n",
       "      <td>...</td>\n",
       "      <td>...</td>\n",
       "      <td>...</td>\n",
       "    </tr>\n",
       "    <tr>\n",
       "      <th>1087</th>\n",
       "      <td>56000</td>\n",
       "      <td>Wyoming</td>\n",
       "      <td>NaN</td>\n",
       "      <td>Price indexes</td>\n",
       "      <td>NaN</td>\n",
       "      <td>NaN</td>\n",
       "      <td>NaN</td>\n",
       "      <td>NaN</td>\n",
       "      <td>NaN</td>\n",
       "      <td>NaN</td>\n",
       "      <td>...</td>\n",
       "      <td>NaN</td>\n",
       "      <td>NaN</td>\n",
       "      <td>NaN</td>\n",
       "      <td>NaN</td>\n",
       "      <td>NaN</td>\n",
       "      <td>NaN</td>\n",
       "      <td>NaN</td>\n",
       "      <td>NaN</td>\n",
       "      <td>NaN</td>\n",
       "      <td>NaN</td>\n",
       "    </tr>\n",
       "    <tr>\n",
       "      <th>1088</th>\n",
       "      <td>56000</td>\n",
       "      <td>Wyoming</td>\n",
       "      <td>13.0</td>\n",
       "      <td>Regional price parities (RPPs) 9</td>\n",
       "      <td>(NA)</td>\n",
       "      <td>(NA)</td>\n",
       "      <td>(NA)</td>\n",
       "      <td>(NA)</td>\n",
       "      <td>(NA)</td>\n",
       "      <td>(NA)</td>\n",
       "      <td>...</td>\n",
       "      <td>97.424</td>\n",
       "      <td>96.972</td>\n",
       "      <td>97.747</td>\n",
       "      <td>97.185</td>\n",
       "      <td>92.345</td>\n",
       "      <td>94.108</td>\n",
       "      <td>91.826</td>\n",
       "      <td>91.489</td>\n",
       "      <td>91.903</td>\n",
       "      <td>(NA)</td>\n",
       "    </tr>\n",
       "    <tr>\n",
       "      <th>1089</th>\n",
       "      <td>56000</td>\n",
       "      <td>Wyoming</td>\n",
       "      <td>14.0</td>\n",
       "      <td>Implicit regional price deflator 10</td>\n",
       "      <td>(NA)</td>\n",
       "      <td>(NA)</td>\n",
       "      <td>(NA)</td>\n",
       "      <td>(NA)</td>\n",
       "      <td>(NA)</td>\n",
       "      <td>(NA)</td>\n",
       "      <td>...</td>\n",
       "      <td>94.619</td>\n",
       "      <td>94.353</td>\n",
       "      <td>96.070</td>\n",
       "      <td>97.185</td>\n",
       "      <td>94.236</td>\n",
       "      <td>97.415</td>\n",
       "      <td>96.082</td>\n",
       "      <td>99.724</td>\n",
       "      <td>106.647</td>\n",
       "      <td>(NA)</td>\n",
       "    </tr>\n",
       "    <tr>\n",
       "      <th>1090</th>\n",
       "      <td>56000</td>\n",
       "      <td>Wyoming</td>\n",
       "      <td>NaN</td>\n",
       "      <td>Employment</td>\n",
       "      <td>NaN</td>\n",
       "      <td>NaN</td>\n",
       "      <td>NaN</td>\n",
       "      <td>NaN</td>\n",
       "      <td>NaN</td>\n",
       "      <td>NaN</td>\n",
       "      <td>...</td>\n",
       "      <td>NaN</td>\n",
       "      <td>NaN</td>\n",
       "      <td>NaN</td>\n",
       "      <td>NaN</td>\n",
       "      <td>NaN</td>\n",
       "      <td>NaN</td>\n",
       "      <td>NaN</td>\n",
       "      <td>NaN</td>\n",
       "      <td>NaN</td>\n",
       "      <td>NaN</td>\n",
       "    </tr>\n",
       "    <tr>\n",
       "      <th>1091</th>\n",
       "      <td>56000</td>\n",
       "      <td>Wyoming</td>\n",
       "      <td>15.0</td>\n",
       "      <td>Total employment (number of jobs)</td>\n",
       "      <td>310043</td>\n",
       "      <td>315198</td>\n",
       "      <td>324653</td>\n",
       "      <td>330130</td>\n",
       "      <td>334129</td>\n",
       "      <td>336769</td>\n",
       "      <td>...</td>\n",
       "      <td>406401</td>\n",
       "      <td>406045</td>\n",
       "      <td>398144</td>\n",
       "      <td>398968</td>\n",
       "      <td>404591</td>\n",
       "      <td>407870</td>\n",
       "      <td>401353</td>\n",
       "      <td>419813</td>\n",
       "      <td>430153</td>\n",
       "      <td>443007</td>\n",
       "    </tr>\n",
       "  </tbody>\n",
       "</table>\n",
       "<p>1092 rows × 30 columns</p>\n",
       "</div>"
      ],
      "text/plain": [
       "     GeoFips        GeoName  LineCode  \\\n",
       "0      00000  United States       NaN   \n",
       "1      00000  United States       1.0   \n",
       "2      00000  United States       2.0   \n",
       "3      00000  United States       3.0   \n",
       "4      00000  United States       NaN   \n",
       "...      ...            ...       ...   \n",
       "1087   56000        Wyoming       NaN   \n",
       "1088   56000        Wyoming      13.0   \n",
       "1089   56000        Wyoming      14.0   \n",
       "1090   56000        Wyoming       NaN   \n",
       "1091   56000        Wyoming      15.0   \n",
       "\n",
       "                                            Description        1998  \\\n",
       "0                                Real dollar statistics         NaN   \n",
       "1         Real GDP (millions of chained 2017 dollars) 1  12924876.0   \n",
       "2       Real personal income (millions of constant (...        (NA)   \n",
       "3       Real PCE (millions of constant (2017) dollar...        (NA)   \n",
       "4       Current dollar statistics (millions of dollars)         NaN   \n",
       "...                                                 ...         ...   \n",
       "1087                                      Price indexes         NaN   \n",
       "1088                   Regional price parities (RPPs) 9        (NA)   \n",
       "1089                Implicit regional price deflator 10        (NA)   \n",
       "1090                                         Employment         NaN   \n",
       "1091                  Total employment (number of jobs)      310043   \n",
       "\n",
       "            1999        2000        2001        2002        2003  ...  \\\n",
       "0            NaN         NaN         NaN         NaN         NaN  ...   \n",
       "1     13543774.0  14096033.0  14230726.0  14472712.0  14877312.0  ...   \n",
       "2           (NA)        (NA)        (NA)        (NA)        (NA)  ...   \n",
       "3           (NA)        (NA)        (NA)        (NA)        (NA)  ...   \n",
       "4            NaN         NaN         NaN         NaN         NaN  ...   \n",
       "...          ...         ...         ...         ...         ...  ...   \n",
       "1087         NaN         NaN         NaN         NaN         NaN  ...   \n",
       "1088        (NA)        (NA)        (NA)        (NA)        (NA)  ...   \n",
       "1089        (NA)        (NA)        (NA)        (NA)        (NA)  ...   \n",
       "1090         NaN         NaN         NaN         NaN         NaN  ...   \n",
       "1091      315198      324653      330130      334129      336769  ...   \n",
       "\n",
       "            2014        2015        2016        2017        2018        2019  \\\n",
       "0            NaN         NaN         NaN         NaN         NaN         NaN   \n",
       "1     18261714.0  18799622.0  19141672.0  19612102.0  20193896.0  20715671.0   \n",
       "2     15216230.2  15896447.7  16162029.4  16658962.0  17163074.0  17720998.0   \n",
       "3     12226445.7  12638789.0  12949012.2  13290625.5  13654925.4  13928263.5   \n",
       "4            NaN         NaN         NaN         NaN         NaN         NaN   \n",
       "...          ...         ...         ...         ...         ...         ...   \n",
       "1087         NaN         NaN         NaN         NaN         NaN         NaN   \n",
       "1088      97.424      96.972      97.747      97.185      92.345      94.108   \n",
       "1089      94.619      94.353      96.070      97.185      94.236      97.415   \n",
       "1090         NaN         NaN         NaN         NaN         NaN         NaN   \n",
       "1091      406401      406045      398144      398968      404591      407870   \n",
       "\n",
       "            2020        2021        2022        2023  \n",
       "0            NaN         NaN         NaN         NaN  \n",
       "1     20267585.0  21494798.0  22034828.0  22671096.0  \n",
       "2     18741358.9  19626220.8  18803662.1        (NA)  \n",
       "3     13576965.0  14718156.7  15090796.8        (NA)  \n",
       "4            NaN         NaN         NaN         NaN  \n",
       "...          ...         ...         ...         ...  \n",
       "1087         NaN         NaN         NaN         NaN  \n",
       "1088      91.826      91.489      91.903        (NA)  \n",
       "1089      96.082      99.724     106.647        (NA)  \n",
       "1090         NaN         NaN         NaN         NaN  \n",
       "1091      401353      419813      430153      443007  \n",
       "\n",
       "[1092 rows x 30 columns]"
      ]
     },
     "execution_count": 5,
     "metadata": {},
     "output_type": "execute_result"
    }
   ],
   "source": [
    "consumer_data[\"Description\"].unique()\n",
    "consumer_data[\"GeoFips\"].unique()\n",
    "\n",
    "consumer_data = consumer_data.dropna(subset=['GeoName']) ## dropping all missing values under GeoName as these are not states\n",
    "consumer_data"
   ]
  },
  {
   "cell_type": "markdown",
   "metadata": {},
   "source": [
    "***Cleaning data***"
   ]
  },
  {
   "cell_type": "code",
   "execution_count": 6,
   "metadata": {},
   "outputs": [
    {
     "name": "stderr",
     "output_type": "stream",
     "text": [
      "C:\\Users\\ijaza\\AppData\\Local\\Temp\\ipykernel_22300\\2612609433.py:4: SettingWithCopyWarning:\n",
      "\n",
      "\n",
      "A value is trying to be set on a copy of a slice from a DataFrame.\n",
      "Try using .loc[row_indexer,col_indexer] = value instead\n",
      "\n",
      "See the caveats in the documentation: https://pandas.pydata.org/pandas-docs/stable/user_guide/indexing.html#returning-a-view-versus-a-copy\n",
      "\n"
     ]
    },
    {
     "data": {
      "text/html": [
       "<div>\n",
       "<style scoped>\n",
       "    .dataframe tbody tr th:only-of-type {\n",
       "        vertical-align: middle;\n",
       "    }\n",
       "\n",
       "    .dataframe tbody tr th {\n",
       "        vertical-align: top;\n",
       "    }\n",
       "\n",
       "    .dataframe thead th {\n",
       "        text-align: right;\n",
       "    }\n",
       "</style>\n",
       "<table border=\"1\" class=\"dataframe\">\n",
       "  <thead>\n",
       "    <tr style=\"text-align: right;\">\n",
       "      <th></th>\n",
       "      <th>GeoFips</th>\n",
       "      <th>GeoName</th>\n",
       "      <th>LineCode</th>\n",
       "      <th>Description</th>\n",
       "      <th>1998</th>\n",
       "      <th>1999</th>\n",
       "      <th>2000</th>\n",
       "      <th>2001</th>\n",
       "      <th>2002</th>\n",
       "      <th>2003</th>\n",
       "      <th>...</th>\n",
       "      <th>2014</th>\n",
       "      <th>2015</th>\n",
       "      <th>2016</th>\n",
       "      <th>2017</th>\n",
       "      <th>2018</th>\n",
       "      <th>2019</th>\n",
       "      <th>2020</th>\n",
       "      <th>2021</th>\n",
       "      <th>2022</th>\n",
       "      <th>2023</th>\n",
       "    </tr>\n",
       "  </thead>\n",
       "  <tbody>\n",
       "    <tr>\n",
       "      <th>15</th>\n",
       "      <td>00000</td>\n",
       "      <td>United States</td>\n",
       "      <td>12.0</td>\n",
       "      <td>Per capita personal consumption expenditures (...</td>\n",
       "      <td>21306</td>\n",
       "      <td>22519</td>\n",
       "      <td>23983</td>\n",
       "      <td>24823</td>\n",
       "      <td>25550</td>\n",
       "      <td>26682</td>\n",
       "      <td>...</td>\n",
       "      <td>37192</td>\n",
       "      <td>38211</td>\n",
       "      <td>39236</td>\n",
       "      <td>40691</td>\n",
       "      <td>42413</td>\n",
       "      <td>43719</td>\n",
       "      <td>42910</td>\n",
       "      <td>48529</td>\n",
       "      <td>53082</td>\n",
       "      <td>56202</td>\n",
       "    </tr>\n",
       "    <tr>\n",
       "      <th>20</th>\n",
       "      <td>00000</td>\n",
       "      <td>United States</td>\n",
       "      <td>15.0</td>\n",
       "      <td>Total employment (number of jobs)</td>\n",
       "      <td>158481200</td>\n",
       "      <td>161531300</td>\n",
       "      <td>165370800</td>\n",
       "      <td>165522200</td>\n",
       "      <td>165095100</td>\n",
       "      <td>165921500</td>\n",
       "      <td>...</td>\n",
       "      <td>186239800</td>\n",
       "      <td>190325800</td>\n",
       "      <td>193425900</td>\n",
       "      <td>196394100</td>\n",
       "      <td>200292200</td>\n",
       "      <td>201622200</td>\n",
       "      <td>195262600</td>\n",
       "      <td>202706100</td>\n",
       "      <td>210414200</td>\n",
       "      <td>216314200</td>\n",
       "    </tr>\n",
       "    <tr>\n",
       "      <th>36</th>\n",
       "      <td>01000</td>\n",
       "      <td>Alabama</td>\n",
       "      <td>12.0</td>\n",
       "      <td>Per capita personal consumption expenditures (...</td>\n",
       "      <td>18235</td>\n",
       "      <td>19157</td>\n",
       "      <td>20158</td>\n",
       "      <td>20868</td>\n",
       "      <td>21700</td>\n",
       "      <td>22673</td>\n",
       "      <td>...</td>\n",
       "      <td>30365</td>\n",
       "      <td>31130</td>\n",
       "      <td>32005</td>\n",
       "      <td>33020</td>\n",
       "      <td>34053</td>\n",
       "      <td>35388</td>\n",
       "      <td>34944</td>\n",
       "      <td>39382</td>\n",
       "      <td>42508</td>\n",
       "      <td>44529</td>\n",
       "    </tr>\n",
       "    <tr>\n",
       "      <th>41</th>\n",
       "      <td>01000</td>\n",
       "      <td>Alabama</td>\n",
       "      <td>15.0</td>\n",
       "      <td>Total employment (number of jobs)</td>\n",
       "      <td>2361892</td>\n",
       "      <td>2378217</td>\n",
       "      <td>2392225</td>\n",
       "      <td>2376053</td>\n",
       "      <td>2364829</td>\n",
       "      <td>2371429</td>\n",
       "      <td>...</td>\n",
       "      <td>2552256</td>\n",
       "      <td>2587641</td>\n",
       "      <td>2619761</td>\n",
       "      <td>2649222</td>\n",
       "      <td>2692424</td>\n",
       "      <td>2712014</td>\n",
       "      <td>2670753</td>\n",
       "      <td>2769122</td>\n",
       "      <td>2854910</td>\n",
       "      <td>2939353</td>\n",
       "    </tr>\n",
       "    <tr>\n",
       "      <th>57</th>\n",
       "      <td>02000</td>\n",
       "      <td>Alaska</td>\n",
       "      <td>12.0</td>\n",
       "      <td>Per capita personal consumption expenditures (...</td>\n",
       "      <td>24110</td>\n",
       "      <td>25423</td>\n",
       "      <td>27243</td>\n",
       "      <td>28599</td>\n",
       "      <td>30252</td>\n",
       "      <td>31704</td>\n",
       "      <td>...</td>\n",
       "      <td>44251</td>\n",
       "      <td>45018</td>\n",
       "      <td>45703</td>\n",
       "      <td>47074</td>\n",
       "      <td>48904</td>\n",
       "      <td>50179</td>\n",
       "      <td>47839</td>\n",
       "      <td>54127</td>\n",
       "      <td>59239</td>\n",
       "      <td>62900</td>\n",
       "    </tr>\n",
       "    <tr>\n",
       "      <th>...</th>\n",
       "      <td>...</td>\n",
       "      <td>...</td>\n",
       "      <td>...</td>\n",
       "      <td>...</td>\n",
       "      <td>...</td>\n",
       "      <td>...</td>\n",
       "      <td>...</td>\n",
       "      <td>...</td>\n",
       "      <td>...</td>\n",
       "      <td>...</td>\n",
       "      <td>...</td>\n",
       "      <td>...</td>\n",
       "      <td>...</td>\n",
       "      <td>...</td>\n",
       "      <td>...</td>\n",
       "      <td>...</td>\n",
       "      <td>...</td>\n",
       "      <td>...</td>\n",
       "      <td>...</td>\n",
       "      <td>...</td>\n",
       "      <td>...</td>\n",
       "    </tr>\n",
       "    <tr>\n",
       "      <th>1049</th>\n",
       "      <td>54000</td>\n",
       "      <td>West Virginia</td>\n",
       "      <td>15.0</td>\n",
       "      <td>Total employment (number of jobs)</td>\n",
       "      <td>868370</td>\n",
       "      <td>868236</td>\n",
       "      <td>875561</td>\n",
       "      <td>872546</td>\n",
       "      <td>871215</td>\n",
       "      <td>868312</td>\n",
       "      <td>...</td>\n",
       "      <td>911678</td>\n",
       "      <td>904270</td>\n",
       "      <td>890209</td>\n",
       "      <td>888822</td>\n",
       "      <td>898085</td>\n",
       "      <td>881641</td>\n",
       "      <td>840976</td>\n",
       "      <td>864611</td>\n",
       "      <td>885312</td>\n",
       "      <td>903815</td>\n",
       "    </tr>\n",
       "    <tr>\n",
       "      <th>1065</th>\n",
       "      <td>55000</td>\n",
       "      <td>Wisconsin</td>\n",
       "      <td>12.0</td>\n",
       "      <td>Per capita personal consumption expenditures (...</td>\n",
       "      <td>20564</td>\n",
       "      <td>21823</td>\n",
       "      <td>23235</td>\n",
       "      <td>24124</td>\n",
       "      <td>24937</td>\n",
       "      <td>26184</td>\n",
       "      <td>...</td>\n",
       "      <td>35815</td>\n",
       "      <td>36631</td>\n",
       "      <td>37578</td>\n",
       "      <td>39054</td>\n",
       "      <td>40432</td>\n",
       "      <td>41505</td>\n",
       "      <td>40496</td>\n",
       "      <td>45690</td>\n",
       "      <td>49930</td>\n",
       "      <td>52593</td>\n",
       "    </tr>\n",
       "    <tr>\n",
       "      <th>1070</th>\n",
       "      <td>55000</td>\n",
       "      <td>Wisconsin</td>\n",
       "      <td>15.0</td>\n",
       "      <td>Total employment (number of jobs)</td>\n",
       "      <td>3287793</td>\n",
       "      <td>3350388</td>\n",
       "      <td>3413585</td>\n",
       "      <td>3403719</td>\n",
       "      <td>3395194</td>\n",
       "      <td>3413427</td>\n",
       "      <td>...</td>\n",
       "      <td>3585944</td>\n",
       "      <td>3624473</td>\n",
       "      <td>3657732</td>\n",
       "      <td>3678859</td>\n",
       "      <td>3721096</td>\n",
       "      <td>3717587</td>\n",
       "      <td>3580658</td>\n",
       "      <td>3682359</td>\n",
       "      <td>3775679</td>\n",
       "      <td>3855150</td>\n",
       "    </tr>\n",
       "    <tr>\n",
       "      <th>1086</th>\n",
       "      <td>56000</td>\n",
       "      <td>Wyoming</td>\n",
       "      <td>12.0</td>\n",
       "      <td>Per capita personal consumption expenditures (...</td>\n",
       "      <td>20184</td>\n",
       "      <td>21566</td>\n",
       "      <td>22979</td>\n",
       "      <td>23867</td>\n",
       "      <td>24616</td>\n",
       "      <td>26018</td>\n",
       "      <td>...</td>\n",
       "      <td>39564</td>\n",
       "      <td>39653</td>\n",
       "      <td>40452</td>\n",
       "      <td>41471</td>\n",
       "      <td>42888</td>\n",
       "      <td>43915</td>\n",
       "      <td>44408</td>\n",
       "      <td>49298</td>\n",
       "      <td>53869</td>\n",
       "      <td>56941</td>\n",
       "    </tr>\n",
       "    <tr>\n",
       "      <th>1091</th>\n",
       "      <td>56000</td>\n",
       "      <td>Wyoming</td>\n",
       "      <td>15.0</td>\n",
       "      <td>Total employment (number of jobs)</td>\n",
       "      <td>310043</td>\n",
       "      <td>315198</td>\n",
       "      <td>324653</td>\n",
       "      <td>330130</td>\n",
       "      <td>334129</td>\n",
       "      <td>336769</td>\n",
       "      <td>...</td>\n",
       "      <td>406401</td>\n",
       "      <td>406045</td>\n",
       "      <td>398144</td>\n",
       "      <td>398968</td>\n",
       "      <td>404591</td>\n",
       "      <td>407870</td>\n",
       "      <td>401353</td>\n",
       "      <td>419813</td>\n",
       "      <td>430153</td>\n",
       "      <td>443007</td>\n",
       "    </tr>\n",
       "  </tbody>\n",
       "</table>\n",
       "<p>104 rows × 30 columns</p>\n",
       "</div>"
      ],
      "text/plain": [
       "     GeoFips        GeoName  LineCode  \\\n",
       "15     00000  United States      12.0   \n",
       "20     00000  United States      15.0   \n",
       "36     01000        Alabama      12.0   \n",
       "41     01000        Alabama      15.0   \n",
       "57     02000         Alaska      12.0   \n",
       "...      ...            ...       ...   \n",
       "1049   54000  West Virginia      15.0   \n",
       "1065   55000      Wisconsin      12.0   \n",
       "1070   55000      Wisconsin      15.0   \n",
       "1086   56000        Wyoming      12.0   \n",
       "1091   56000        Wyoming      15.0   \n",
       "\n",
       "                                            Description       1998       1999  \\\n",
       "15    Per capita personal consumption expenditures (...      21306      22519   \n",
       "20                    Total employment (number of jobs)  158481200  161531300   \n",
       "36    Per capita personal consumption expenditures (...      18235      19157   \n",
       "41                    Total employment (number of jobs)    2361892    2378217   \n",
       "57    Per capita personal consumption expenditures (...      24110      25423   \n",
       "...                                                 ...        ...        ...   \n",
       "1049                  Total employment (number of jobs)     868370     868236   \n",
       "1065  Per capita personal consumption expenditures (...      20564      21823   \n",
       "1070                  Total employment (number of jobs)    3287793    3350388   \n",
       "1086  Per capita personal consumption expenditures (...      20184      21566   \n",
       "1091                  Total employment (number of jobs)     310043     315198   \n",
       "\n",
       "           2000       2001       2002       2003  ...       2014       2015  \\\n",
       "15        23983      24823      25550      26682  ...      37192      38211   \n",
       "20    165370800  165522200  165095100  165921500  ...  186239800  190325800   \n",
       "36        20158      20868      21700      22673  ...      30365      31130   \n",
       "41      2392225    2376053    2364829    2371429  ...    2552256    2587641   \n",
       "57        27243      28599      30252      31704  ...      44251      45018   \n",
       "...         ...        ...        ...        ...  ...        ...        ...   \n",
       "1049     875561     872546     871215     868312  ...     911678     904270   \n",
       "1065      23235      24124      24937      26184  ...      35815      36631   \n",
       "1070    3413585    3403719    3395194    3413427  ...    3585944    3624473   \n",
       "1086      22979      23867      24616      26018  ...      39564      39653   \n",
       "1091     324653     330130     334129     336769  ...     406401     406045   \n",
       "\n",
       "           2016       2017       2018       2019       2020       2021  \\\n",
       "15        39236      40691      42413      43719      42910      48529   \n",
       "20    193425900  196394100  200292200  201622200  195262600  202706100   \n",
       "36        32005      33020      34053      35388      34944      39382   \n",
       "41      2619761    2649222    2692424    2712014    2670753    2769122   \n",
       "57        45703      47074      48904      50179      47839      54127   \n",
       "...         ...        ...        ...        ...        ...        ...   \n",
       "1049     890209     888822     898085     881641     840976     864611   \n",
       "1065      37578      39054      40432      41505      40496      45690   \n",
       "1070    3657732    3678859    3721096    3717587    3580658    3682359   \n",
       "1086      40452      41471      42888      43915      44408      49298   \n",
       "1091     398144     398968     404591     407870     401353     419813   \n",
       "\n",
       "           2022       2023  \n",
       "15        53082      56202  \n",
       "20    210414200  216314200  \n",
       "36        42508      44529  \n",
       "41      2854910    2939353  \n",
       "57        59239      62900  \n",
       "...         ...        ...  \n",
       "1049     885312     903815  \n",
       "1065      49930      52593  \n",
       "1070    3775679    3855150  \n",
       "1086      53869      56941  \n",
       "1091     430153     443007  \n",
       "\n",
       "[104 rows x 30 columns]"
      ]
     },
     "execution_count": 6,
     "metadata": {},
     "output_type": "execute_result"
    }
   ],
   "source": [
    "## After trying to filter my variables of interest, I found that the description column has spaces before each text so I need to remove them\n",
    "\n",
    "consumer_data[\"Description\"].unique() \n",
    "consumer_data['Description'] = consumer_data['Description'].str.lstrip()\n",
    "\n",
    "consumer_data_filtered = consumer_data[consumer_data['Description'].isin(['Total employment (number of jobs)', 'Per capita personal consumption expenditures (PCE) 8'])]\n",
    "consumer_data_filtered\n"
   ]
  },
  {
   "cell_type": "markdown",
   "metadata": {},
   "source": [
    "***Need to reshape data for analysis***"
   ]
  },
  {
   "cell_type": "code",
   "execution_count": 7,
   "metadata": {},
   "outputs": [
    {
     "data": {
      "text/html": [
       "<div>\n",
       "<style scoped>\n",
       "    .dataframe tbody tr th:only-of-type {\n",
       "        vertical-align: middle;\n",
       "    }\n",
       "\n",
       "    .dataframe tbody tr th {\n",
       "        vertical-align: top;\n",
       "    }\n",
       "\n",
       "    .dataframe thead th {\n",
       "        text-align: right;\n",
       "    }\n",
       "</style>\n",
       "<table border=\"1\" class=\"dataframe\">\n",
       "  <thead>\n",
       "    <tr style=\"text-align: right;\">\n",
       "      <th>Description</th>\n",
       "      <th>GeoName</th>\n",
       "      <th>Year</th>\n",
       "      <th>Per capita personal consumption expenditures (PCE) 8</th>\n",
       "      <th>Total employment (number of jobs)</th>\n",
       "    </tr>\n",
       "  </thead>\n",
       "  <tbody>\n",
       "    <tr>\n",
       "      <th>0</th>\n",
       "      <td>Alabama</td>\n",
       "      <td>1998</td>\n",
       "      <td>18235</td>\n",
       "      <td>2361892</td>\n",
       "    </tr>\n",
       "    <tr>\n",
       "      <th>1</th>\n",
       "      <td>Alabama</td>\n",
       "      <td>1999</td>\n",
       "      <td>19157</td>\n",
       "      <td>2378217</td>\n",
       "    </tr>\n",
       "    <tr>\n",
       "      <th>2</th>\n",
       "      <td>Alabama</td>\n",
       "      <td>2000</td>\n",
       "      <td>20158</td>\n",
       "      <td>2392225</td>\n",
       "    </tr>\n",
       "    <tr>\n",
       "      <th>3</th>\n",
       "      <td>Alabama</td>\n",
       "      <td>2001</td>\n",
       "      <td>20868</td>\n",
       "      <td>2376053</td>\n",
       "    </tr>\n",
       "    <tr>\n",
       "      <th>4</th>\n",
       "      <td>Alabama</td>\n",
       "      <td>2002</td>\n",
       "      <td>21700</td>\n",
       "      <td>2364829</td>\n",
       "    </tr>\n",
       "    <tr>\n",
       "      <th>...</th>\n",
       "      <td>...</td>\n",
       "      <td>...</td>\n",
       "      <td>...</td>\n",
       "      <td>...</td>\n",
       "    </tr>\n",
       "    <tr>\n",
       "      <th>1347</th>\n",
       "      <td>Wyoming</td>\n",
       "      <td>2019</td>\n",
       "      <td>43915</td>\n",
       "      <td>407870</td>\n",
       "    </tr>\n",
       "    <tr>\n",
       "      <th>1348</th>\n",
       "      <td>Wyoming</td>\n",
       "      <td>2020</td>\n",
       "      <td>44408</td>\n",
       "      <td>401353</td>\n",
       "    </tr>\n",
       "    <tr>\n",
       "      <th>1349</th>\n",
       "      <td>Wyoming</td>\n",
       "      <td>2021</td>\n",
       "      <td>49298</td>\n",
       "      <td>419813</td>\n",
       "    </tr>\n",
       "    <tr>\n",
       "      <th>1350</th>\n",
       "      <td>Wyoming</td>\n",
       "      <td>2022</td>\n",
       "      <td>53869</td>\n",
       "      <td>430153</td>\n",
       "    </tr>\n",
       "    <tr>\n",
       "      <th>1351</th>\n",
       "      <td>Wyoming</td>\n",
       "      <td>2023</td>\n",
       "      <td>56941</td>\n",
       "      <td>443007</td>\n",
       "    </tr>\n",
       "  </tbody>\n",
       "</table>\n",
       "<p>1352 rows × 4 columns</p>\n",
       "</div>"
      ],
      "text/plain": [
       "Description  GeoName  Year  \\\n",
       "0            Alabama  1998   \n",
       "1            Alabama  1999   \n",
       "2            Alabama  2000   \n",
       "3            Alabama  2001   \n",
       "4            Alabama  2002   \n",
       "...              ...   ...   \n",
       "1347         Wyoming  2019   \n",
       "1348         Wyoming  2020   \n",
       "1349         Wyoming  2021   \n",
       "1350         Wyoming  2022   \n",
       "1351         Wyoming  2023   \n",
       "\n",
       "Description Per capita personal consumption expenditures (PCE) 8  \\\n",
       "0                                                        18235     \n",
       "1                                                        19157     \n",
       "2                                                        20158     \n",
       "3                                                        20868     \n",
       "4                                                        21700     \n",
       "...                                                        ...     \n",
       "1347                                                     43915     \n",
       "1348                                                     44408     \n",
       "1349                                                     49298     \n",
       "1350                                                     53869     \n",
       "1351                                                     56941     \n",
       "\n",
       "Description Total employment (number of jobs)  \n",
       "0                                     2361892  \n",
       "1                                     2378217  \n",
       "2                                     2392225  \n",
       "3                                     2376053  \n",
       "4                                     2364829  \n",
       "...                                       ...  \n",
       "1347                                   407870  \n",
       "1348                                   401353  \n",
       "1349                                   419813  \n",
       "1350                                   430153  \n",
       "1351                                   443007  \n",
       "\n",
       "[1352 rows x 4 columns]"
      ]
     },
     "execution_count": 7,
     "metadata": {},
     "output_type": "execute_result"
    }
   ],
   "source": [
    "## making each year column only one single column\n",
    "consumer_data_melted = pd.melt(\n",
    "    consumer_data_filtered,\n",
    "    id_vars=[\"GeoName\", \"Description\"],  \n",
    "    var_name=\"Year\",  \n",
    "    value_name=\"Value\"  \n",
    ")\n",
    "consumer_data_melted\n",
    "consumer_data_melted[\"Year\"].unique() ## checking unique values\n",
    "\n",
    "## Dropping non year values\n",
    "consumer_data_melted = consumer_data_melted[(consumer_data_melted['Year'] != 'GeoFips') & (consumer_data_melted['Year'] != 'LineCode')]\n",
    "consumer_data_melted\n",
    "\n",
    "## Took help from chat gpt to do this reshape\n",
    "\n",
    "consumer_data_new = consumer_data_melted.pivot_table(\n",
    "    index=['GeoName', 'Year'],\n",
    "    columns='Description',\n",
    "    values='Value',\n",
    "    aggfunc='first'\n",
    "    ).reset_index()\n",
    "\n",
    "consumer_data_new\n",
    "\n"
   ]
  },
  {
   "cell_type": "code",
   "execution_count": 8,
   "metadata": {},
   "outputs": [
    {
     "data": {
      "text/html": [
       "<div>\n",
       "<style scoped>\n",
       "    .dataframe tbody tr th:only-of-type {\n",
       "        vertical-align: middle;\n",
       "    }\n",
       "\n",
       "    .dataframe tbody tr th {\n",
       "        vertical-align: top;\n",
       "    }\n",
       "\n",
       "    .dataframe thead th {\n",
       "        text-align: right;\n",
       "    }\n",
       "</style>\n",
       "<table border=\"1\" class=\"dataframe\">\n",
       "  <thead>\n",
       "    <tr style=\"text-align: right;\">\n",
       "      <th>Description</th>\n",
       "      <th>State</th>\n",
       "      <th>Year</th>\n",
       "      <th>Per capita Consumption</th>\n",
       "      <th>Total Employment</th>\n",
       "    </tr>\n",
       "  </thead>\n",
       "  <tbody>\n",
       "    <tr>\n",
       "      <th>0</th>\n",
       "      <td>Alabama</td>\n",
       "      <td>1998</td>\n",
       "      <td>18235</td>\n",
       "      <td>2361892</td>\n",
       "    </tr>\n",
       "    <tr>\n",
       "      <th>1</th>\n",
       "      <td>Alabama</td>\n",
       "      <td>1999</td>\n",
       "      <td>19157</td>\n",
       "      <td>2378217</td>\n",
       "    </tr>\n",
       "    <tr>\n",
       "      <th>2</th>\n",
       "      <td>Alabama</td>\n",
       "      <td>2000</td>\n",
       "      <td>20158</td>\n",
       "      <td>2392225</td>\n",
       "    </tr>\n",
       "    <tr>\n",
       "      <th>3</th>\n",
       "      <td>Alabama</td>\n",
       "      <td>2001</td>\n",
       "      <td>20868</td>\n",
       "      <td>2376053</td>\n",
       "    </tr>\n",
       "    <tr>\n",
       "      <th>4</th>\n",
       "      <td>Alabama</td>\n",
       "      <td>2002</td>\n",
       "      <td>21700</td>\n",
       "      <td>2364829</td>\n",
       "    </tr>\n",
       "    <tr>\n",
       "      <th>...</th>\n",
       "      <td>...</td>\n",
       "      <td>...</td>\n",
       "      <td>...</td>\n",
       "      <td>...</td>\n",
       "    </tr>\n",
       "    <tr>\n",
       "      <th>1347</th>\n",
       "      <td>Wyoming</td>\n",
       "      <td>2019</td>\n",
       "      <td>43915</td>\n",
       "      <td>407870</td>\n",
       "    </tr>\n",
       "    <tr>\n",
       "      <th>1348</th>\n",
       "      <td>Wyoming</td>\n",
       "      <td>2020</td>\n",
       "      <td>44408</td>\n",
       "      <td>401353</td>\n",
       "    </tr>\n",
       "    <tr>\n",
       "      <th>1349</th>\n",
       "      <td>Wyoming</td>\n",
       "      <td>2021</td>\n",
       "      <td>49298</td>\n",
       "      <td>419813</td>\n",
       "    </tr>\n",
       "    <tr>\n",
       "      <th>1350</th>\n",
       "      <td>Wyoming</td>\n",
       "      <td>2022</td>\n",
       "      <td>53869</td>\n",
       "      <td>430153</td>\n",
       "    </tr>\n",
       "    <tr>\n",
       "      <th>1351</th>\n",
       "      <td>Wyoming</td>\n",
       "      <td>2023</td>\n",
       "      <td>56941</td>\n",
       "      <td>443007</td>\n",
       "    </tr>\n",
       "  </tbody>\n",
       "</table>\n",
       "<p>1352 rows × 4 columns</p>\n",
       "</div>"
      ],
      "text/plain": [
       "Description    State  Year Per capita Consumption Total Employment\n",
       "0            Alabama  1998                  18235          2361892\n",
       "1            Alabama  1999                  19157          2378217\n",
       "2            Alabama  2000                  20158          2392225\n",
       "3            Alabama  2001                  20868          2376053\n",
       "4            Alabama  2002                  21700          2364829\n",
       "...              ...   ...                    ...              ...\n",
       "1347         Wyoming  2019                  43915           407870\n",
       "1348         Wyoming  2020                  44408           401353\n",
       "1349         Wyoming  2021                  49298           419813\n",
       "1350         Wyoming  2022                  53869           430153\n",
       "1351         Wyoming  2023                  56941           443007\n",
       "\n",
       "[1352 rows x 4 columns]"
      ]
     },
     "execution_count": 8,
     "metadata": {},
     "output_type": "execute_result"
    }
   ],
   "source": [
    "consumer_data_new_1 = consumer_data_new.rename(columns={'GeoName':'State', 'Per capita personal consumption expenditures (PCE) 8': 'Per capita Consumption', 'Total employment (number of jobs)': 'Total Employment'})\n",
    "consumer_data_new_1"
   ]
  },
  {
   "cell_type": "markdown",
   "metadata": {},
   "source": [
    "***I now have a cleaned dataset, however, my energy data has a state variable which has state abbreviations, while this dataset has full name, so to standardize both, i will replace the full state name under State column in this dataset to abbrevited names.***"
   ]
  },
  {
   "cell_type": "code",
   "execution_count": 9,
   "metadata": {},
   "outputs": [
    {
     "data": {
      "text/html": [
       "<div>\n",
       "<style scoped>\n",
       "    .dataframe tbody tr th:only-of-type {\n",
       "        vertical-align: middle;\n",
       "    }\n",
       "\n",
       "    .dataframe tbody tr th {\n",
       "        vertical-align: top;\n",
       "    }\n",
       "\n",
       "    .dataframe thead th {\n",
       "        text-align: right;\n",
       "    }\n",
       "</style>\n",
       "<table border=\"1\" class=\"dataframe\">\n",
       "  <thead>\n",
       "    <tr style=\"text-align: right;\">\n",
       "      <th>Description</th>\n",
       "      <th>State</th>\n",
       "      <th>Year</th>\n",
       "      <th>Per capita Consumption</th>\n",
       "      <th>Total Employment</th>\n",
       "    </tr>\n",
       "  </thead>\n",
       "  <tbody>\n",
       "    <tr>\n",
       "      <th>0</th>\n",
       "      <td>AL</td>\n",
       "      <td>1998</td>\n",
       "      <td>18235</td>\n",
       "      <td>2361892</td>\n",
       "    </tr>\n",
       "    <tr>\n",
       "      <th>1</th>\n",
       "      <td>AL</td>\n",
       "      <td>1999</td>\n",
       "      <td>19157</td>\n",
       "      <td>2378217</td>\n",
       "    </tr>\n",
       "    <tr>\n",
       "      <th>2</th>\n",
       "      <td>AL</td>\n",
       "      <td>2000</td>\n",
       "      <td>20158</td>\n",
       "      <td>2392225</td>\n",
       "    </tr>\n",
       "    <tr>\n",
       "      <th>3</th>\n",
       "      <td>AL</td>\n",
       "      <td>2001</td>\n",
       "      <td>20868</td>\n",
       "      <td>2376053</td>\n",
       "    </tr>\n",
       "    <tr>\n",
       "      <th>4</th>\n",
       "      <td>AL</td>\n",
       "      <td>2002</td>\n",
       "      <td>21700</td>\n",
       "      <td>2364829</td>\n",
       "    </tr>\n",
       "    <tr>\n",
       "      <th>...</th>\n",
       "      <td>...</td>\n",
       "      <td>...</td>\n",
       "      <td>...</td>\n",
       "      <td>...</td>\n",
       "    </tr>\n",
       "    <tr>\n",
       "      <th>1347</th>\n",
       "      <td>WY</td>\n",
       "      <td>2019</td>\n",
       "      <td>43915</td>\n",
       "      <td>407870</td>\n",
       "    </tr>\n",
       "    <tr>\n",
       "      <th>1348</th>\n",
       "      <td>WY</td>\n",
       "      <td>2020</td>\n",
       "      <td>44408</td>\n",
       "      <td>401353</td>\n",
       "    </tr>\n",
       "    <tr>\n",
       "      <th>1349</th>\n",
       "      <td>WY</td>\n",
       "      <td>2021</td>\n",
       "      <td>49298</td>\n",
       "      <td>419813</td>\n",
       "    </tr>\n",
       "    <tr>\n",
       "      <th>1350</th>\n",
       "      <td>WY</td>\n",
       "      <td>2022</td>\n",
       "      <td>53869</td>\n",
       "      <td>430153</td>\n",
       "    </tr>\n",
       "    <tr>\n",
       "      <th>1351</th>\n",
       "      <td>WY</td>\n",
       "      <td>2023</td>\n",
       "      <td>56941</td>\n",
       "      <td>443007</td>\n",
       "    </tr>\n",
       "  </tbody>\n",
       "</table>\n",
       "<p>1352 rows × 4 columns</p>\n",
       "</div>"
      ],
      "text/plain": [
       "Description State  Year Per capita Consumption Total Employment\n",
       "0              AL  1998                  18235          2361892\n",
       "1              AL  1999                  19157          2378217\n",
       "2              AL  2000                  20158          2392225\n",
       "3              AL  2001                  20868          2376053\n",
       "4              AL  2002                  21700          2364829\n",
       "...           ...   ...                    ...              ...\n",
       "1347           WY  2019                  43915           407870\n",
       "1348           WY  2020                  44408           401353\n",
       "1349           WY  2021                  49298           419813\n",
       "1350           WY  2022                  53869           430153\n",
       "1351           WY  2023                  56941           443007\n",
       "\n",
       "[1352 rows x 4 columns]"
      ]
     },
     "execution_count": 9,
     "metadata": {},
     "output_type": "execute_result"
    }
   ],
   "source": [
    "state_abbreviations = {\n",
    "    'Alabama': 'AL', 'Alaska': 'AK', 'Arizona': 'AZ', 'Arkansas': 'AR', 'California': 'CA',\n",
    "    'Colorado': 'CO', 'Connecticut': 'CT', 'Delaware': 'DE', 'Florida': 'FL', 'Georgia': 'GA',\n",
    "    'Hawaii': 'HI', 'Idaho': 'ID', 'Illinois': 'IL', 'Indiana': 'IN', 'Iowa': 'IA',\n",
    "    'Kansas': 'KS', 'Kentucky': 'KY', 'Louisiana': 'LA', 'Maine': 'ME', 'Maryland': 'MD',\n",
    "    'Massachusetts': 'MA', 'Michigan': 'MI', 'Minnesota': 'MN', 'Mississippi': 'MS', 'Missouri': 'MO',\n",
    "    'Montana': 'MT', 'Nebraska': 'NE', 'Nevada': 'NV', 'New Hampshire': 'NH', 'New Jersey': 'NJ',\n",
    "    'New Mexico': 'NM', 'New York': 'NY', 'North Carolina': 'NC', 'North Dakota': 'ND', 'Ohio': 'OH',\n",
    "    'Oklahoma': 'OK', 'Oregon': 'OR', 'Pennsylvania': 'PA', 'Rhode Island': 'RI', 'South Carolina': 'SC',\n",
    "    'South Dakota': 'SD', 'Tennessee': 'TN', 'Texas': 'TX', 'Utah': 'UT', 'Vermont': 'VT',\n",
    "    'Virginia': 'VA', 'Washington': 'WA', 'West Virginia': 'WV', 'Wisconsin': 'WI', 'Wyoming': 'WY',\n",
    "    'United States': 'US'\n",
    "}\n",
    "\n",
    "consumer_data_new_1['State'] = consumer_data_new_1['State'].replace(state_abbreviations)\n",
    "consumer_data_new_1"
   ]
  },
  {
   "cell_type": "code",
   "execution_count": 10,
   "metadata": {},
   "outputs": [
    {
     "name": "stdout",
     "output_type": "stream",
     "text": [
      "object\n"
     ]
    }
   ],
   "source": [
    "print(consumer_data_new_1['Year'].dtype) ## I wanted to drop year values to only 2000-2022 but it seems my year column is not int so i need to convert\n"
   ]
  },
  {
   "cell_type": "code",
   "execution_count": 11,
   "metadata": {},
   "outputs": [
    {
     "name": "stdout",
     "output_type": "stream",
     "text": [
      "int64\n"
     ]
    },
    {
     "data": {
      "text/html": [
       "<div>\n",
       "<style scoped>\n",
       "    .dataframe tbody tr th:only-of-type {\n",
       "        vertical-align: middle;\n",
       "    }\n",
       "\n",
       "    .dataframe tbody tr th {\n",
       "        vertical-align: top;\n",
       "    }\n",
       "\n",
       "    .dataframe thead th {\n",
       "        text-align: right;\n",
       "    }\n",
       "</style>\n",
       "<table border=\"1\" class=\"dataframe\">\n",
       "  <thead>\n",
       "    <tr style=\"text-align: right;\">\n",
       "      <th>Description</th>\n",
       "      <th>State</th>\n",
       "      <th>Year</th>\n",
       "      <th>Per capita Consumption</th>\n",
       "      <th>Total Employment</th>\n",
       "    </tr>\n",
       "  </thead>\n",
       "  <tbody>\n",
       "    <tr>\n",
       "      <th>0</th>\n",
       "      <td>AL</td>\n",
       "      <td>1998</td>\n",
       "      <td>18235</td>\n",
       "      <td>2361892</td>\n",
       "    </tr>\n",
       "    <tr>\n",
       "      <th>1</th>\n",
       "      <td>AL</td>\n",
       "      <td>1999</td>\n",
       "      <td>19157</td>\n",
       "      <td>2378217</td>\n",
       "    </tr>\n",
       "    <tr>\n",
       "      <th>2</th>\n",
       "      <td>AL</td>\n",
       "      <td>2000</td>\n",
       "      <td>20158</td>\n",
       "      <td>2392225</td>\n",
       "    </tr>\n",
       "    <tr>\n",
       "      <th>3</th>\n",
       "      <td>AL</td>\n",
       "      <td>2001</td>\n",
       "      <td>20868</td>\n",
       "      <td>2376053</td>\n",
       "    </tr>\n",
       "    <tr>\n",
       "      <th>4</th>\n",
       "      <td>AL</td>\n",
       "      <td>2002</td>\n",
       "      <td>21700</td>\n",
       "      <td>2364829</td>\n",
       "    </tr>\n",
       "    <tr>\n",
       "      <th>...</th>\n",
       "      <td>...</td>\n",
       "      <td>...</td>\n",
       "      <td>...</td>\n",
       "      <td>...</td>\n",
       "    </tr>\n",
       "    <tr>\n",
       "      <th>1347</th>\n",
       "      <td>WY</td>\n",
       "      <td>2019</td>\n",
       "      <td>43915</td>\n",
       "      <td>407870</td>\n",
       "    </tr>\n",
       "    <tr>\n",
       "      <th>1348</th>\n",
       "      <td>WY</td>\n",
       "      <td>2020</td>\n",
       "      <td>44408</td>\n",
       "      <td>401353</td>\n",
       "    </tr>\n",
       "    <tr>\n",
       "      <th>1349</th>\n",
       "      <td>WY</td>\n",
       "      <td>2021</td>\n",
       "      <td>49298</td>\n",
       "      <td>419813</td>\n",
       "    </tr>\n",
       "    <tr>\n",
       "      <th>1350</th>\n",
       "      <td>WY</td>\n",
       "      <td>2022</td>\n",
       "      <td>53869</td>\n",
       "      <td>430153</td>\n",
       "    </tr>\n",
       "    <tr>\n",
       "      <th>1351</th>\n",
       "      <td>WY</td>\n",
       "      <td>2023</td>\n",
       "      <td>56941</td>\n",
       "      <td>443007</td>\n",
       "    </tr>\n",
       "  </tbody>\n",
       "</table>\n",
       "<p>1352 rows × 4 columns</p>\n",
       "</div>"
      ],
      "text/plain": [
       "Description State  Year Per capita Consumption Total Employment\n",
       "0              AL  1998                  18235          2361892\n",
       "1              AL  1999                  19157          2378217\n",
       "2              AL  2000                  20158          2392225\n",
       "3              AL  2001                  20868          2376053\n",
       "4              AL  2002                  21700          2364829\n",
       "...           ...   ...                    ...              ...\n",
       "1347           WY  2019                  43915           407870\n",
       "1348           WY  2020                  44408           401353\n",
       "1349           WY  2021                  49298           419813\n",
       "1350           WY  2022                  53869           430153\n",
       "1351           WY  2023                  56941           443007\n",
       "\n",
       "[1352 rows x 4 columns]"
      ]
     },
     "execution_count": 11,
     "metadata": {},
     "output_type": "execute_result"
    }
   ],
   "source": [
    "consumer_data_new_1['Year'] = pd.to_numeric(consumer_data_new['Year'])\n",
    "print(consumer_data_new_1['Year'].dtype)\n",
    "consumer_data_new_1"
   ]
  },
  {
   "cell_type": "code",
   "execution_count": 12,
   "metadata": {},
   "outputs": [
    {
     "data": {
      "text/html": [
       "<div>\n",
       "<style scoped>\n",
       "    .dataframe tbody tr th:only-of-type {\n",
       "        vertical-align: middle;\n",
       "    }\n",
       "\n",
       "    .dataframe tbody tr th {\n",
       "        vertical-align: top;\n",
       "    }\n",
       "\n",
       "    .dataframe thead th {\n",
       "        text-align: right;\n",
       "    }\n",
       "</style>\n",
       "<table border=\"1\" class=\"dataframe\">\n",
       "  <thead>\n",
       "    <tr style=\"text-align: right;\">\n",
       "      <th>Description</th>\n",
       "      <th>index</th>\n",
       "      <th>State</th>\n",
       "      <th>Year</th>\n",
       "      <th>Per capita Consumption</th>\n",
       "      <th>Total Employment</th>\n",
       "    </tr>\n",
       "  </thead>\n",
       "  <tbody>\n",
       "    <tr>\n",
       "      <th>0</th>\n",
       "      <td>2</td>\n",
       "      <td>AL</td>\n",
       "      <td>2000</td>\n",
       "      <td>20158</td>\n",
       "      <td>2392225</td>\n",
       "    </tr>\n",
       "    <tr>\n",
       "      <th>1</th>\n",
       "      <td>3</td>\n",
       "      <td>AL</td>\n",
       "      <td>2001</td>\n",
       "      <td>20868</td>\n",
       "      <td>2376053</td>\n",
       "    </tr>\n",
       "    <tr>\n",
       "      <th>2</th>\n",
       "      <td>4</td>\n",
       "      <td>AL</td>\n",
       "      <td>2002</td>\n",
       "      <td>21700</td>\n",
       "      <td>2364829</td>\n",
       "    </tr>\n",
       "    <tr>\n",
       "      <th>3</th>\n",
       "      <td>5</td>\n",
       "      <td>AL</td>\n",
       "      <td>2003</td>\n",
       "      <td>22673</td>\n",
       "      <td>2371429</td>\n",
       "    </tr>\n",
       "    <tr>\n",
       "      <th>4</th>\n",
       "      <td>6</td>\n",
       "      <td>AL</td>\n",
       "      <td>2004</td>\n",
       "      <td>23932</td>\n",
       "      <td>2425650</td>\n",
       "    </tr>\n",
       "    <tr>\n",
       "      <th>...</th>\n",
       "      <td>...</td>\n",
       "      <td>...</td>\n",
       "      <td>...</td>\n",
       "      <td>...</td>\n",
       "      <td>...</td>\n",
       "    </tr>\n",
       "    <tr>\n",
       "      <th>1191</th>\n",
       "      <td>1346</td>\n",
       "      <td>WY</td>\n",
       "      <td>2018</td>\n",
       "      <td>42888</td>\n",
       "      <td>404591</td>\n",
       "    </tr>\n",
       "    <tr>\n",
       "      <th>1192</th>\n",
       "      <td>1347</td>\n",
       "      <td>WY</td>\n",
       "      <td>2019</td>\n",
       "      <td>43915</td>\n",
       "      <td>407870</td>\n",
       "    </tr>\n",
       "    <tr>\n",
       "      <th>1193</th>\n",
       "      <td>1348</td>\n",
       "      <td>WY</td>\n",
       "      <td>2020</td>\n",
       "      <td>44408</td>\n",
       "      <td>401353</td>\n",
       "    </tr>\n",
       "    <tr>\n",
       "      <th>1194</th>\n",
       "      <td>1349</td>\n",
       "      <td>WY</td>\n",
       "      <td>2021</td>\n",
       "      <td>49298</td>\n",
       "      <td>419813</td>\n",
       "    </tr>\n",
       "    <tr>\n",
       "      <th>1195</th>\n",
       "      <td>1350</td>\n",
       "      <td>WY</td>\n",
       "      <td>2022</td>\n",
       "      <td>53869</td>\n",
       "      <td>430153</td>\n",
       "    </tr>\n",
       "  </tbody>\n",
       "</table>\n",
       "<p>1196 rows × 5 columns</p>\n",
       "</div>"
      ],
      "text/plain": [
       "Description  index State  Year Per capita Consumption Total Employment\n",
       "0                2    AL  2000                  20158          2392225\n",
       "1                3    AL  2001                  20868          2376053\n",
       "2                4    AL  2002                  21700          2364829\n",
       "3                5    AL  2003                  22673          2371429\n",
       "4                6    AL  2004                  23932          2425650\n",
       "...            ...   ...   ...                    ...              ...\n",
       "1191          1346    WY  2018                  42888           404591\n",
       "1192          1347    WY  2019                  43915           407870\n",
       "1193          1348    WY  2020                  44408           401353\n",
       "1194          1349    WY  2021                  49298           419813\n",
       "1195          1350    WY  2022                  53869           430153\n",
       "\n",
       "[1196 rows x 5 columns]"
      ]
     },
     "execution_count": 12,
     "metadata": {},
     "output_type": "execute_result"
    }
   ],
   "source": [
    "### I only want to keep data for years 2000-2022\n",
    "\n",
    "consumer_data_clean = consumer_data_new_1[\n",
    "    (consumer_data_new_1[\"Year\"].astype(int) >= 2000) & (consumer_data_new_1[\"Year\"].astype(int) <= 2022)\n",
    "].reset_index()\n",
    "consumer_data_clean"
   ]
  },
  {
   "cell_type": "markdown",
   "metadata": {},
   "source": [
    "***Now I have a cleaned reshaped dataset that I can merge with my energy consumption dataset for analysis. Before that, I will need to setup my energy expenditure dataset in the same way for merging***"
   ]
  },
  {
   "cell_type": "code",
   "execution_count": 13,
   "metadata": {},
   "outputs": [
    {
     "data": {
      "text/html": [
       "<div>\n",
       "<style scoped>\n",
       "    .dataframe tbody tr th:only-of-type {\n",
       "        vertical-align: middle;\n",
       "    }\n",
       "\n",
       "    .dataframe tbody tr th {\n",
       "        vertical-align: top;\n",
       "    }\n",
       "\n",
       "    .dataframe thead th {\n",
       "        text-align: right;\n",
       "    }\n",
       "</style>\n",
       "<table border=\"1\" class=\"dataframe\">\n",
       "  <thead>\n",
       "    <tr style=\"text-align: right;\">\n",
       "      <th></th>\n",
       "      <th>State</th>\n",
       "      <th>Year</th>\n",
       "      <th>Exp_GDP_%</th>\n",
       "    </tr>\n",
       "  </thead>\n",
       "  <tbody>\n",
       "    <tr>\n",
       "      <th>0</th>\n",
       "      <td>AK</td>\n",
       "      <td>2000</td>\n",
       "      <td>10.55</td>\n",
       "    </tr>\n",
       "    <tr>\n",
       "      <th>1</th>\n",
       "      <td>AL</td>\n",
       "      <td>2000</td>\n",
       "      <td>9.99</td>\n",
       "    </tr>\n",
       "    <tr>\n",
       "      <th>2</th>\n",
       "      <td>AR</td>\n",
       "      <td>2000</td>\n",
       "      <td>10.39</td>\n",
       "    </tr>\n",
       "    <tr>\n",
       "      <th>3</th>\n",
       "      <td>AZ</td>\n",
       "      <td>2000</td>\n",
       "      <td>6.41</td>\n",
       "    </tr>\n",
       "    <tr>\n",
       "      <th>4</th>\n",
       "      <td>CA</td>\n",
       "      <td>2000</td>\n",
       "      <td>5.04</td>\n",
       "    </tr>\n",
       "    <tr>\n",
       "      <th>...</th>\n",
       "      <td>...</td>\n",
       "      <td>...</td>\n",
       "      <td>...</td>\n",
       "    </tr>\n",
       "    <tr>\n",
       "      <th>1191</th>\n",
       "      <td>WA</td>\n",
       "      <td>2022</td>\n",
       "      <td>4.62</td>\n",
       "    </tr>\n",
       "    <tr>\n",
       "      <th>1192</th>\n",
       "      <td>WI</td>\n",
       "      <td>2022</td>\n",
       "      <td>7.71</td>\n",
       "    </tr>\n",
       "    <tr>\n",
       "      <th>1193</th>\n",
       "      <td>WV</td>\n",
       "      <td>2022</td>\n",
       "      <td>11.16</td>\n",
       "    </tr>\n",
       "    <tr>\n",
       "      <th>1194</th>\n",
       "      <td>WY</td>\n",
       "      <td>2022</td>\n",
       "      <td>13.30</td>\n",
       "    </tr>\n",
       "    <tr>\n",
       "      <th>1195</th>\n",
       "      <td>US</td>\n",
       "      <td>2022</td>\n",
       "      <td>6.68</td>\n",
       "    </tr>\n",
       "  </tbody>\n",
       "</table>\n",
       "<p>1196 rows × 3 columns</p>\n",
       "</div>"
      ],
      "text/plain": [
       "     State  Year  Exp_GDP_%\n",
       "0       AK  2000      10.55\n",
       "1       AL  2000       9.99\n",
       "2       AR  2000      10.39\n",
       "3       AZ  2000       6.41\n",
       "4       CA  2000       5.04\n",
       "...    ...   ...        ...\n",
       "1191    WA  2022       4.62\n",
       "1192    WI  2022       7.71\n",
       "1193    WV  2022      11.16\n",
       "1194    WY  2022      13.30\n",
       "1195    US  2022       6.68\n",
       "\n",
       "[1196 rows x 3 columns]"
      ]
     },
     "execution_count": 13,
     "metadata": {},
     "output_type": "execute_result"
    }
   ],
   "source": [
    "energy_exp_gdp = pd.read_excel(\"pr_ex_tot.xlsx\",sheet_name=\"Expenditures per GDP\", header=2)\n",
    "energy_exp_gdp\n",
    "\n",
    "energy_expgdp_melted = pd.melt(\n",
    "    energy_exp_gdp,\n",
    "    id_vars=[\"State\"],  \n",
    "    var_name=\"Year\",    \n",
    "    value_name=\"Exp_GDP_%\" \n",
    ")\n",
    "energy_expgdp_melted\n",
    "\n",
    "## only keep years 2000-2022\n",
    "filter_energy_expgdp = energy_expgdp_melted[\n",
    "    (energy_expgdp_melted[\"Year\"].astype(int) >= 2000) & (energy_expgdp_melted[\"Year\"].astype(int) <= 2022)\n",
    "].reset_index()\n",
    "filter_energy_expgdp\n",
    "\n",
    "filter_energy_expgdp = filter_energy_expgdp.drop(['index'], axis=1) # dropping index columns\n",
    "filter_energy_expgdp"
   ]
  },
  {
   "cell_type": "markdown",
   "metadata": {},
   "source": [
    "***Now merging two datasets***"
   ]
  },
  {
   "cell_type": "code",
   "execution_count": 14,
   "metadata": {},
   "outputs": [
    {
     "data": {
      "text/html": [
       "<div>\n",
       "<style scoped>\n",
       "    .dataframe tbody tr th:only-of-type {\n",
       "        vertical-align: middle;\n",
       "    }\n",
       "\n",
       "    .dataframe tbody tr th {\n",
       "        vertical-align: top;\n",
       "    }\n",
       "\n",
       "    .dataframe thead th {\n",
       "        text-align: right;\n",
       "    }\n",
       "</style>\n",
       "<table border=\"1\" class=\"dataframe\">\n",
       "  <thead>\n",
       "    <tr style=\"text-align: right;\">\n",
       "      <th></th>\n",
       "      <th>State</th>\n",
       "      <th>Year</th>\n",
       "      <th>Exp_GDP_%</th>\n",
       "      <th>index</th>\n",
       "      <th>Per capita Consumption</th>\n",
       "      <th>Total Employment</th>\n",
       "    </tr>\n",
       "  </thead>\n",
       "  <tbody>\n",
       "    <tr>\n",
       "      <th>0</th>\n",
       "      <td>AK</td>\n",
       "      <td>2000</td>\n",
       "      <td>10.55</td>\n",
       "      <td>28</td>\n",
       "      <td>27243</td>\n",
       "      <td>389734</td>\n",
       "    </tr>\n",
       "    <tr>\n",
       "      <th>1</th>\n",
       "      <td>AL</td>\n",
       "      <td>2000</td>\n",
       "      <td>9.99</td>\n",
       "      <td>2</td>\n",
       "      <td>20158</td>\n",
       "      <td>2392225</td>\n",
       "    </tr>\n",
       "    <tr>\n",
       "      <th>2</th>\n",
       "      <td>AR</td>\n",
       "      <td>2000</td>\n",
       "      <td>10.39</td>\n",
       "      <td>80</td>\n",
       "      <td>18878</td>\n",
       "      <td>1482449</td>\n",
       "    </tr>\n",
       "    <tr>\n",
       "      <th>3</th>\n",
       "      <td>AZ</td>\n",
       "      <td>2000</td>\n",
       "      <td>6.41</td>\n",
       "      <td>54</td>\n",
       "      <td>23528</td>\n",
       "      <td>2801510</td>\n",
       "    </tr>\n",
       "    <tr>\n",
       "      <th>4</th>\n",
       "      <td>CA</td>\n",
       "      <td>2000</td>\n",
       "      <td>5.04</td>\n",
       "      <td>106</td>\n",
       "      <td>24843</td>\n",
       "      <td>19228895</td>\n",
       "    </tr>\n",
       "    <tr>\n",
       "      <th>...</th>\n",
       "      <td>...</td>\n",
       "      <td>...</td>\n",
       "      <td>...</td>\n",
       "      <td>...</td>\n",
       "      <td>...</td>\n",
       "      <td>...</td>\n",
       "    </tr>\n",
       "    <tr>\n",
       "      <th>1168</th>\n",
       "      <td>WA</td>\n",
       "      <td>2022</td>\n",
       "      <td>4.62</td>\n",
       "      <td>1272</td>\n",
       "      <td>57104</td>\n",
       "      <td>4764618</td>\n",
       "    </tr>\n",
       "    <tr>\n",
       "      <th>1169</th>\n",
       "      <td>WI</td>\n",
       "      <td>2022</td>\n",
       "      <td>7.71</td>\n",
       "      <td>1324</td>\n",
       "      <td>49930</td>\n",
       "      <td>3775679</td>\n",
       "    </tr>\n",
       "    <tr>\n",
       "      <th>1170</th>\n",
       "      <td>WV</td>\n",
       "      <td>2022</td>\n",
       "      <td>11.16</td>\n",
       "      <td>1298</td>\n",
       "      <td>44977</td>\n",
       "      <td>885312</td>\n",
       "    </tr>\n",
       "    <tr>\n",
       "      <th>1171</th>\n",
       "      <td>WY</td>\n",
       "      <td>2022</td>\n",
       "      <td>13.30</td>\n",
       "      <td>1350</td>\n",
       "      <td>53869</td>\n",
       "      <td>430153</td>\n",
       "    </tr>\n",
       "    <tr>\n",
       "      <th>1172</th>\n",
       "      <td>US</td>\n",
       "      <td>2022</td>\n",
       "      <td>6.68</td>\n",
       "      <td>1168</td>\n",
       "      <td>53082</td>\n",
       "      <td>210414200</td>\n",
       "    </tr>\n",
       "  </tbody>\n",
       "</table>\n",
       "<p>1173 rows × 6 columns</p>\n",
       "</div>"
      ],
      "text/plain": [
       "     State  Year  Exp_GDP_%  index Per capita Consumption Total Employment\n",
       "0       AK  2000      10.55     28                  27243           389734\n",
       "1       AL  2000       9.99      2                  20158          2392225\n",
       "2       AR  2000      10.39     80                  18878          1482449\n",
       "3       AZ  2000       6.41     54                  23528          2801510\n",
       "4       CA  2000       5.04    106                  24843         19228895\n",
       "...    ...   ...        ...    ...                    ...              ...\n",
       "1168    WA  2022       4.62   1272                  57104          4764618\n",
       "1169    WI  2022       7.71   1324                  49930          3775679\n",
       "1170    WV  2022      11.16   1298                  44977           885312\n",
       "1171    WY  2022      13.30   1350                  53869           430153\n",
       "1172    US  2022       6.68   1168                  53082        210414200\n",
       "\n",
       "[1173 rows x 6 columns]"
      ]
     },
     "execution_count": 14,
     "metadata": {},
     "output_type": "execute_result"
    }
   ],
   "source": [
    "#### Merge datasets on State and Year\n",
    "merged_df1 = pd.merge(filter_energy_expgdp, consumer_data_clean, on=[\"State\", \"Year\"], how=\"inner\")\n",
    "merged_df1"
   ]
  },
  {
   "cell_type": "code",
   "execution_count": 15,
   "metadata": {},
   "outputs": [
    {
     "data": {
      "text/plain": [
       "array([2000, 2001, 2002, 2003, 2004, 2005, 2006, 2007, 2008, 2009, 2010,\n",
       "       2011, 2012, 2013, 2014, 2015, 2016, 2017, 2018, 2019, 2020, 2021,\n",
       "       2022], dtype=object)"
      ]
     },
     "execution_count": 15,
     "metadata": {},
     "output_type": "execute_result"
    }
   ],
   "source": [
    "merged_df1[\"Year\"].unique()"
   ]
  },
  {
   "cell_type": "code",
   "execution_count": 16,
   "metadata": {},
   "outputs": [
    {
     "name": "stdout",
     "output_type": "stream",
     "text": [
      "int64\n"
     ]
    }
   ],
   "source": [
    "## Converted the Year Variable to int\n",
    "merged_df1['Year'] = pd.to_numeric(merged_df1['Year'])\n",
    "print(merged_df1['Year'].dtype)"
   ]
  },
  {
   "cell_type": "markdown",
   "metadata": {},
   "source": [
    "***Now after merging, let us first look at the trend of per capita consumption and Employment from 2000-2022***"
   ]
  },
  {
   "cell_type": "code",
   "execution_count": 17,
   "metadata": {},
   "outputs": [
    {
     "data": {
      "text/html": [
       "        <script type=\"text/javascript\">\n",
       "        window.PlotlyConfig = {MathJaxConfig: 'local'};\n",
       "        if (window.MathJax && window.MathJax.Hub && window.MathJax.Hub.Config) {window.MathJax.Hub.Config({SVG: {font: \"STIX-Web\"}});}\n",
       "        if (typeof require !== 'undefined') {\n",
       "        require.undef(\"plotly\");\n",
       "        requirejs.config({\n",
       "            paths: {\n",
       "                'plotly': ['https://cdn.plot.ly/plotly-2.32.0.min']\n",
       "            }\n",
       "        });\n",
       "        require(['plotly'], function(Plotly) {\n",
       "            window._Plotly = Plotly;\n",
       "        });\n",
       "        }\n",
       "        </script>\n",
       "        "
      ]
     },
     "metadata": {},
     "output_type": "display_data"
    },
    {
     "data": {
      "application/vnd.plotly.v1+json": {
       "config": {
        "plotlyServerURL": "https://plot.ly"
       },
       "data": [
        {
         "hovertemplate": "variable=Per capita Consumption<br>Year=%{x}<br>value=%{y}<extra></extra>",
         "legendgroup": "Per capita Consumption",
         "line": {
          "color": "#636efa",
          "dash": "solid"
         },
         "marker": {
          "symbol": "circle"
         },
         "mode": "lines",
         "name": "Per capita Consumption",
         "orientation": "h",
         "showlegend": true,
         "type": "scatter",
         "x": [
          2000,
          2001,
          2002,
          2003,
          2004,
          2005,
          2006,
          2007,
          2008,
          2009,
          2010,
          2011,
          2012,
          2013,
          2014,
          2015,
          2016,
          2017,
          2018,
          2019,
          2020,
          2021,
          2022
         ],
         "xaxis": "x",
         "y": [
          "23983",
          "24823",
          "25550",
          "26682",
          "28114",
          "29674",
          "31092",
          "32356",
          "33049",
          "32243",
          "33164",
          "34309",
          "35144",
          "35955",
          "37192",
          "38211",
          "39236",
          "40691",
          "42413",
          "43719",
          "42910",
          "48529",
          "53082"
         ],
         "yaxis": "y"
        },
        {
         "hovertemplate": "variable=Total Employment<br>Year=%{x}<br>value=%{y}<extra></extra>",
         "legendgroup": "Total Employment",
         "line": {
          "color": "#EF553B",
          "dash": "solid"
         },
         "marker": {
          "symbol": "circle"
         },
         "mode": "lines",
         "name": "Total Employment",
         "orientation": "h",
         "showlegend": true,
         "type": "scatter",
         "x": [
          2000,
          2001,
          2002,
          2003,
          2004,
          2005,
          2006,
          2007,
          2008,
          2009,
          2010,
          2011,
          2012,
          2013,
          2014,
          2015,
          2016,
          2017,
          2018,
          2019,
          2020,
          2021,
          2022
         ],
         "xaxis": "x",
         "y": [
          "165370800",
          "165522200",
          "165095100",
          "165921500",
          "168839700",
          "172338400",
          "175868600",
          "179543700",
          "179213900",
          "173636700",
          "172901700",
          "176091700",
          "178979700",
          "182328100",
          "186239800",
          "190325800",
          "193425900",
          "196394100",
          "200292200",
          "201622200",
          "195262600",
          "202706100",
          "210414200"
         ],
         "yaxis": "y"
        }
       ],
       "layout": {
        "legend": {
         "title": {
          "text": "variable"
         },
         "tracegroupgap": 0
        },
        "template": {
         "data": {
          "bar": [
           {
            "error_x": {
             "color": "#2a3f5f"
            },
            "error_y": {
             "color": "#2a3f5f"
            },
            "marker": {
             "line": {
              "color": "#E5ECF6",
              "width": 0.5
             },
             "pattern": {
              "fillmode": "overlay",
              "size": 10,
              "solidity": 0.2
             }
            },
            "type": "bar"
           }
          ],
          "barpolar": [
           {
            "marker": {
             "line": {
              "color": "#E5ECF6",
              "width": 0.5
             },
             "pattern": {
              "fillmode": "overlay",
              "size": 10,
              "solidity": 0.2
             }
            },
            "type": "barpolar"
           }
          ],
          "carpet": [
           {
            "aaxis": {
             "endlinecolor": "#2a3f5f",
             "gridcolor": "white",
             "linecolor": "white",
             "minorgridcolor": "white",
             "startlinecolor": "#2a3f5f"
            },
            "baxis": {
             "endlinecolor": "#2a3f5f",
             "gridcolor": "white",
             "linecolor": "white",
             "minorgridcolor": "white",
             "startlinecolor": "#2a3f5f"
            },
            "type": "carpet"
           }
          ],
          "choropleth": [
           {
            "colorbar": {
             "outlinewidth": 0,
             "ticks": ""
            },
            "type": "choropleth"
           }
          ],
          "contour": [
           {
            "colorbar": {
             "outlinewidth": 0,
             "ticks": ""
            },
            "colorscale": [
             [
              0,
              "#0d0887"
             ],
             [
              0.1111111111111111,
              "#46039f"
             ],
             [
              0.2222222222222222,
              "#7201a8"
             ],
             [
              0.3333333333333333,
              "#9c179e"
             ],
             [
              0.4444444444444444,
              "#bd3786"
             ],
             [
              0.5555555555555556,
              "#d8576b"
             ],
             [
              0.6666666666666666,
              "#ed7953"
             ],
             [
              0.7777777777777778,
              "#fb9f3a"
             ],
             [
              0.8888888888888888,
              "#fdca26"
             ],
             [
              1,
              "#f0f921"
             ]
            ],
            "type": "contour"
           }
          ],
          "contourcarpet": [
           {
            "colorbar": {
             "outlinewidth": 0,
             "ticks": ""
            },
            "type": "contourcarpet"
           }
          ],
          "heatmap": [
           {
            "colorbar": {
             "outlinewidth": 0,
             "ticks": ""
            },
            "colorscale": [
             [
              0,
              "#0d0887"
             ],
             [
              0.1111111111111111,
              "#46039f"
             ],
             [
              0.2222222222222222,
              "#7201a8"
             ],
             [
              0.3333333333333333,
              "#9c179e"
             ],
             [
              0.4444444444444444,
              "#bd3786"
             ],
             [
              0.5555555555555556,
              "#d8576b"
             ],
             [
              0.6666666666666666,
              "#ed7953"
             ],
             [
              0.7777777777777778,
              "#fb9f3a"
             ],
             [
              0.8888888888888888,
              "#fdca26"
             ],
             [
              1,
              "#f0f921"
             ]
            ],
            "type": "heatmap"
           }
          ],
          "heatmapgl": [
           {
            "colorbar": {
             "outlinewidth": 0,
             "ticks": ""
            },
            "colorscale": [
             [
              0,
              "#0d0887"
             ],
             [
              0.1111111111111111,
              "#46039f"
             ],
             [
              0.2222222222222222,
              "#7201a8"
             ],
             [
              0.3333333333333333,
              "#9c179e"
             ],
             [
              0.4444444444444444,
              "#bd3786"
             ],
             [
              0.5555555555555556,
              "#d8576b"
             ],
             [
              0.6666666666666666,
              "#ed7953"
             ],
             [
              0.7777777777777778,
              "#fb9f3a"
             ],
             [
              0.8888888888888888,
              "#fdca26"
             ],
             [
              1,
              "#f0f921"
             ]
            ],
            "type": "heatmapgl"
           }
          ],
          "histogram": [
           {
            "marker": {
             "pattern": {
              "fillmode": "overlay",
              "size": 10,
              "solidity": 0.2
             }
            },
            "type": "histogram"
           }
          ],
          "histogram2d": [
           {
            "colorbar": {
             "outlinewidth": 0,
             "ticks": ""
            },
            "colorscale": [
             [
              0,
              "#0d0887"
             ],
             [
              0.1111111111111111,
              "#46039f"
             ],
             [
              0.2222222222222222,
              "#7201a8"
             ],
             [
              0.3333333333333333,
              "#9c179e"
             ],
             [
              0.4444444444444444,
              "#bd3786"
             ],
             [
              0.5555555555555556,
              "#d8576b"
             ],
             [
              0.6666666666666666,
              "#ed7953"
             ],
             [
              0.7777777777777778,
              "#fb9f3a"
             ],
             [
              0.8888888888888888,
              "#fdca26"
             ],
             [
              1,
              "#f0f921"
             ]
            ],
            "type": "histogram2d"
           }
          ],
          "histogram2dcontour": [
           {
            "colorbar": {
             "outlinewidth": 0,
             "ticks": ""
            },
            "colorscale": [
             [
              0,
              "#0d0887"
             ],
             [
              0.1111111111111111,
              "#46039f"
             ],
             [
              0.2222222222222222,
              "#7201a8"
             ],
             [
              0.3333333333333333,
              "#9c179e"
             ],
             [
              0.4444444444444444,
              "#bd3786"
             ],
             [
              0.5555555555555556,
              "#d8576b"
             ],
             [
              0.6666666666666666,
              "#ed7953"
             ],
             [
              0.7777777777777778,
              "#fb9f3a"
             ],
             [
              0.8888888888888888,
              "#fdca26"
             ],
             [
              1,
              "#f0f921"
             ]
            ],
            "type": "histogram2dcontour"
           }
          ],
          "mesh3d": [
           {
            "colorbar": {
             "outlinewidth": 0,
             "ticks": ""
            },
            "type": "mesh3d"
           }
          ],
          "parcoords": [
           {
            "line": {
             "colorbar": {
              "outlinewidth": 0,
              "ticks": ""
             }
            },
            "type": "parcoords"
           }
          ],
          "pie": [
           {
            "automargin": true,
            "type": "pie"
           }
          ],
          "scatter": [
           {
            "fillpattern": {
             "fillmode": "overlay",
             "size": 10,
             "solidity": 0.2
            },
            "type": "scatter"
           }
          ],
          "scatter3d": [
           {
            "line": {
             "colorbar": {
              "outlinewidth": 0,
              "ticks": ""
             }
            },
            "marker": {
             "colorbar": {
              "outlinewidth": 0,
              "ticks": ""
             }
            },
            "type": "scatter3d"
           }
          ],
          "scattercarpet": [
           {
            "marker": {
             "colorbar": {
              "outlinewidth": 0,
              "ticks": ""
             }
            },
            "type": "scattercarpet"
           }
          ],
          "scattergeo": [
           {
            "marker": {
             "colorbar": {
              "outlinewidth": 0,
              "ticks": ""
             }
            },
            "type": "scattergeo"
           }
          ],
          "scattergl": [
           {
            "marker": {
             "colorbar": {
              "outlinewidth": 0,
              "ticks": ""
             }
            },
            "type": "scattergl"
           }
          ],
          "scattermapbox": [
           {
            "marker": {
             "colorbar": {
              "outlinewidth": 0,
              "ticks": ""
             }
            },
            "type": "scattermapbox"
           }
          ],
          "scatterpolar": [
           {
            "marker": {
             "colorbar": {
              "outlinewidth": 0,
              "ticks": ""
             }
            },
            "type": "scatterpolar"
           }
          ],
          "scatterpolargl": [
           {
            "marker": {
             "colorbar": {
              "outlinewidth": 0,
              "ticks": ""
             }
            },
            "type": "scatterpolargl"
           }
          ],
          "scatterternary": [
           {
            "marker": {
             "colorbar": {
              "outlinewidth": 0,
              "ticks": ""
             }
            },
            "type": "scatterternary"
           }
          ],
          "surface": [
           {
            "colorbar": {
             "outlinewidth": 0,
             "ticks": ""
            },
            "colorscale": [
             [
              0,
              "#0d0887"
             ],
             [
              0.1111111111111111,
              "#46039f"
             ],
             [
              0.2222222222222222,
              "#7201a8"
             ],
             [
              0.3333333333333333,
              "#9c179e"
             ],
             [
              0.4444444444444444,
              "#bd3786"
             ],
             [
              0.5555555555555556,
              "#d8576b"
             ],
             [
              0.6666666666666666,
              "#ed7953"
             ],
             [
              0.7777777777777778,
              "#fb9f3a"
             ],
             [
              0.8888888888888888,
              "#fdca26"
             ],
             [
              1,
              "#f0f921"
             ]
            ],
            "type": "surface"
           }
          ],
          "table": [
           {
            "cells": {
             "fill": {
              "color": "#EBF0F8"
             },
             "line": {
              "color": "white"
             }
            },
            "header": {
             "fill": {
              "color": "#C8D4E3"
             },
             "line": {
              "color": "white"
             }
            },
            "type": "table"
           }
          ]
         },
         "layout": {
          "annotationdefaults": {
           "arrowcolor": "#2a3f5f",
           "arrowhead": 0,
           "arrowwidth": 1
          },
          "autotypenumbers": "strict",
          "coloraxis": {
           "colorbar": {
            "outlinewidth": 0,
            "ticks": ""
           }
          },
          "colorscale": {
           "diverging": [
            [
             0,
             "#8e0152"
            ],
            [
             0.1,
             "#c51b7d"
            ],
            [
             0.2,
             "#de77ae"
            ],
            [
             0.3,
             "#f1b6da"
            ],
            [
             0.4,
             "#fde0ef"
            ],
            [
             0.5,
             "#f7f7f7"
            ],
            [
             0.6,
             "#e6f5d0"
            ],
            [
             0.7,
             "#b8e186"
            ],
            [
             0.8,
             "#7fbc41"
            ],
            [
             0.9,
             "#4d9221"
            ],
            [
             1,
             "#276419"
            ]
           ],
           "sequential": [
            [
             0,
             "#0d0887"
            ],
            [
             0.1111111111111111,
             "#46039f"
            ],
            [
             0.2222222222222222,
             "#7201a8"
            ],
            [
             0.3333333333333333,
             "#9c179e"
            ],
            [
             0.4444444444444444,
             "#bd3786"
            ],
            [
             0.5555555555555556,
             "#d8576b"
            ],
            [
             0.6666666666666666,
             "#ed7953"
            ],
            [
             0.7777777777777778,
             "#fb9f3a"
            ],
            [
             0.8888888888888888,
             "#fdca26"
            ],
            [
             1,
             "#f0f921"
            ]
           ],
           "sequentialminus": [
            [
             0,
             "#0d0887"
            ],
            [
             0.1111111111111111,
             "#46039f"
            ],
            [
             0.2222222222222222,
             "#7201a8"
            ],
            [
             0.3333333333333333,
             "#9c179e"
            ],
            [
             0.4444444444444444,
             "#bd3786"
            ],
            [
             0.5555555555555556,
             "#d8576b"
            ],
            [
             0.6666666666666666,
             "#ed7953"
            ],
            [
             0.7777777777777778,
             "#fb9f3a"
            ],
            [
             0.8888888888888888,
             "#fdca26"
            ],
            [
             1,
             "#f0f921"
            ]
           ]
          },
          "colorway": [
           "#636efa",
           "#EF553B",
           "#00cc96",
           "#ab63fa",
           "#FFA15A",
           "#19d3f3",
           "#FF6692",
           "#B6E880",
           "#FF97FF",
           "#FECB52"
          ],
          "font": {
           "color": "#2a3f5f"
          },
          "geo": {
           "bgcolor": "white",
           "lakecolor": "white",
           "landcolor": "#E5ECF6",
           "showlakes": true,
           "showland": true,
           "subunitcolor": "white"
          },
          "hoverlabel": {
           "align": "left"
          },
          "hovermode": "closest",
          "mapbox": {
           "style": "light"
          },
          "paper_bgcolor": "white",
          "plot_bgcolor": "#E5ECF6",
          "polar": {
           "angularaxis": {
            "gridcolor": "white",
            "linecolor": "white",
            "ticks": ""
           },
           "bgcolor": "#E5ECF6",
           "radialaxis": {
            "gridcolor": "white",
            "linecolor": "white",
            "ticks": ""
           }
          },
          "scene": {
           "xaxis": {
            "backgroundcolor": "#E5ECF6",
            "gridcolor": "white",
            "gridwidth": 2,
            "linecolor": "white",
            "showbackground": true,
            "ticks": "",
            "zerolinecolor": "white"
           },
           "yaxis": {
            "backgroundcolor": "#E5ECF6",
            "gridcolor": "white",
            "gridwidth": 2,
            "linecolor": "white",
            "showbackground": true,
            "ticks": "",
            "zerolinecolor": "white"
           },
           "zaxis": {
            "backgroundcolor": "#E5ECF6",
            "gridcolor": "white",
            "gridwidth": 2,
            "linecolor": "white",
            "showbackground": true,
            "ticks": "",
            "zerolinecolor": "white"
           }
          },
          "shapedefaults": {
           "line": {
            "color": "#2a3f5f"
           }
          },
          "ternary": {
           "aaxis": {
            "gridcolor": "white",
            "linecolor": "white",
            "ticks": ""
           },
           "baxis": {
            "gridcolor": "white",
            "linecolor": "white",
            "ticks": ""
           },
           "bgcolor": "#E5ECF6",
           "caxis": {
            "gridcolor": "white",
            "linecolor": "white",
            "ticks": ""
           }
          },
          "title": {
           "x": 0.05
          },
          "xaxis": {
           "automargin": true,
           "gridcolor": "white",
           "linecolor": "white",
           "ticks": "",
           "title": {
            "standoff": 15
           },
           "zerolinecolor": "white",
           "zerolinewidth": 2
          },
          "yaxis": {
           "automargin": true,
           "gridcolor": "white",
           "linecolor": "white",
           "ticks": "",
           "title": {
            "standoff": 15
           },
           "zerolinecolor": "white",
           "zerolinewidth": 2
          }
         }
        },
        "title": {
         "text": "US per Capita Consumption and Employment Over Time (2000-2022)"
        },
        "xaxis": {
         "anchor": "y",
         "domain": [
          0,
          1
         ],
         "title": {
          "text": "Year"
         }
        },
        "yaxis": {
         "anchor": "x",
         "domain": [
          0,
          1
         ],
         "title": {
          "text": "Value"
         }
        }
       }
      },
      "text/html": [
       "<div>                            <div id=\"51c9b133-adfe-47c3-b140-87e11dc95bd3\" class=\"plotly-graph-div\" style=\"height:525px; width:100%;\"></div>            <script type=\"text/javascript\">                require([\"plotly\"], function(Plotly) {                    window.PLOTLYENV=window.PLOTLYENV || {};                                    if (document.getElementById(\"51c9b133-adfe-47c3-b140-87e11dc95bd3\")) {                    Plotly.newPlot(                        \"51c9b133-adfe-47c3-b140-87e11dc95bd3\",                        [{\"hovertemplate\":\"variable=Per capita Consumption\\u003cbr\\u003eYear=%{x}\\u003cbr\\u003evalue=%{y}\\u003cextra\\u003e\\u003c\\u002fextra\\u003e\",\"legendgroup\":\"Per capita Consumption\",\"line\":{\"color\":\"#636efa\",\"dash\":\"solid\"},\"marker\":{\"symbol\":\"circle\"},\"mode\":\"lines\",\"name\":\"Per capita Consumption\",\"orientation\":\"h\",\"showlegend\":true,\"x\":[2000,2001,2002,2003,2004,2005,2006,2007,2008,2009,2010,2011,2012,2013,2014,2015,2016,2017,2018,2019,2020,2021,2022],\"xaxis\":\"x\",\"y\":[\"23983\",\"24823\",\"25550\",\"26682\",\"28114\",\"29674\",\"31092\",\"32356\",\"33049\",\"32243\",\"33164\",\"34309\",\"35144\",\"35955\",\"37192\",\"38211\",\"39236\",\"40691\",\"42413\",\"43719\",\"42910\",\"48529\",\"53082\"],\"yaxis\":\"y\",\"type\":\"scatter\"},{\"hovertemplate\":\"variable=Total Employment\\u003cbr\\u003eYear=%{x}\\u003cbr\\u003evalue=%{y}\\u003cextra\\u003e\\u003c\\u002fextra\\u003e\",\"legendgroup\":\"Total Employment\",\"line\":{\"color\":\"#EF553B\",\"dash\":\"solid\"},\"marker\":{\"symbol\":\"circle\"},\"mode\":\"lines\",\"name\":\"Total Employment\",\"orientation\":\"h\",\"showlegend\":true,\"x\":[2000,2001,2002,2003,2004,2005,2006,2007,2008,2009,2010,2011,2012,2013,2014,2015,2016,2017,2018,2019,2020,2021,2022],\"xaxis\":\"x\",\"y\":[\"165370800\",\"165522200\",\"165095100\",\"165921500\",\"168839700\",\"172338400\",\"175868600\",\"179543700\",\"179213900\",\"173636700\",\"172901700\",\"176091700\",\"178979700\",\"182328100\",\"186239800\",\"190325800\",\"193425900\",\"196394100\",\"200292200\",\"201622200\",\"195262600\",\"202706100\",\"210414200\"],\"yaxis\":\"y\",\"type\":\"scatter\"}],                        {\"template\":{\"data\":{\"histogram2dcontour\":[{\"type\":\"histogram2dcontour\",\"colorbar\":{\"outlinewidth\":0,\"ticks\":\"\"},\"colorscale\":[[0.0,\"#0d0887\"],[0.1111111111111111,\"#46039f\"],[0.2222222222222222,\"#7201a8\"],[0.3333333333333333,\"#9c179e\"],[0.4444444444444444,\"#bd3786\"],[0.5555555555555556,\"#d8576b\"],[0.6666666666666666,\"#ed7953\"],[0.7777777777777778,\"#fb9f3a\"],[0.8888888888888888,\"#fdca26\"],[1.0,\"#f0f921\"]]}],\"choropleth\":[{\"type\":\"choropleth\",\"colorbar\":{\"outlinewidth\":0,\"ticks\":\"\"}}],\"histogram2d\":[{\"type\":\"histogram2d\",\"colorbar\":{\"outlinewidth\":0,\"ticks\":\"\"},\"colorscale\":[[0.0,\"#0d0887\"],[0.1111111111111111,\"#46039f\"],[0.2222222222222222,\"#7201a8\"],[0.3333333333333333,\"#9c179e\"],[0.4444444444444444,\"#bd3786\"],[0.5555555555555556,\"#d8576b\"],[0.6666666666666666,\"#ed7953\"],[0.7777777777777778,\"#fb9f3a\"],[0.8888888888888888,\"#fdca26\"],[1.0,\"#f0f921\"]]}],\"heatmap\":[{\"type\":\"heatmap\",\"colorbar\":{\"outlinewidth\":0,\"ticks\":\"\"},\"colorscale\":[[0.0,\"#0d0887\"],[0.1111111111111111,\"#46039f\"],[0.2222222222222222,\"#7201a8\"],[0.3333333333333333,\"#9c179e\"],[0.4444444444444444,\"#bd3786\"],[0.5555555555555556,\"#d8576b\"],[0.6666666666666666,\"#ed7953\"],[0.7777777777777778,\"#fb9f3a\"],[0.8888888888888888,\"#fdca26\"],[1.0,\"#f0f921\"]]}],\"heatmapgl\":[{\"type\":\"heatmapgl\",\"colorbar\":{\"outlinewidth\":0,\"ticks\":\"\"},\"colorscale\":[[0.0,\"#0d0887\"],[0.1111111111111111,\"#46039f\"],[0.2222222222222222,\"#7201a8\"],[0.3333333333333333,\"#9c179e\"],[0.4444444444444444,\"#bd3786\"],[0.5555555555555556,\"#d8576b\"],[0.6666666666666666,\"#ed7953\"],[0.7777777777777778,\"#fb9f3a\"],[0.8888888888888888,\"#fdca26\"],[1.0,\"#f0f921\"]]}],\"contourcarpet\":[{\"type\":\"contourcarpet\",\"colorbar\":{\"outlinewidth\":0,\"ticks\":\"\"}}],\"contour\":[{\"type\":\"contour\",\"colorbar\":{\"outlinewidth\":0,\"ticks\":\"\"},\"colorscale\":[[0.0,\"#0d0887\"],[0.1111111111111111,\"#46039f\"],[0.2222222222222222,\"#7201a8\"],[0.3333333333333333,\"#9c179e\"],[0.4444444444444444,\"#bd3786\"],[0.5555555555555556,\"#d8576b\"],[0.6666666666666666,\"#ed7953\"],[0.7777777777777778,\"#fb9f3a\"],[0.8888888888888888,\"#fdca26\"],[1.0,\"#f0f921\"]]}],\"surface\":[{\"type\":\"surface\",\"colorbar\":{\"outlinewidth\":0,\"ticks\":\"\"},\"colorscale\":[[0.0,\"#0d0887\"],[0.1111111111111111,\"#46039f\"],[0.2222222222222222,\"#7201a8\"],[0.3333333333333333,\"#9c179e\"],[0.4444444444444444,\"#bd3786\"],[0.5555555555555556,\"#d8576b\"],[0.6666666666666666,\"#ed7953\"],[0.7777777777777778,\"#fb9f3a\"],[0.8888888888888888,\"#fdca26\"],[1.0,\"#f0f921\"]]}],\"mesh3d\":[{\"type\":\"mesh3d\",\"colorbar\":{\"outlinewidth\":0,\"ticks\":\"\"}}],\"scatter\":[{\"fillpattern\":{\"fillmode\":\"overlay\",\"size\":10,\"solidity\":0.2},\"type\":\"scatter\"}],\"parcoords\":[{\"type\":\"parcoords\",\"line\":{\"colorbar\":{\"outlinewidth\":0,\"ticks\":\"\"}}}],\"scatterpolargl\":[{\"type\":\"scatterpolargl\",\"marker\":{\"colorbar\":{\"outlinewidth\":0,\"ticks\":\"\"}}}],\"bar\":[{\"error_x\":{\"color\":\"#2a3f5f\"},\"error_y\":{\"color\":\"#2a3f5f\"},\"marker\":{\"line\":{\"color\":\"#E5ECF6\",\"width\":0.5},\"pattern\":{\"fillmode\":\"overlay\",\"size\":10,\"solidity\":0.2}},\"type\":\"bar\"}],\"scattergeo\":[{\"type\":\"scattergeo\",\"marker\":{\"colorbar\":{\"outlinewidth\":0,\"ticks\":\"\"}}}],\"scatterpolar\":[{\"type\":\"scatterpolar\",\"marker\":{\"colorbar\":{\"outlinewidth\":0,\"ticks\":\"\"}}}],\"histogram\":[{\"marker\":{\"pattern\":{\"fillmode\":\"overlay\",\"size\":10,\"solidity\":0.2}},\"type\":\"histogram\"}],\"scattergl\":[{\"type\":\"scattergl\",\"marker\":{\"colorbar\":{\"outlinewidth\":0,\"ticks\":\"\"}}}],\"scatter3d\":[{\"type\":\"scatter3d\",\"line\":{\"colorbar\":{\"outlinewidth\":0,\"ticks\":\"\"}},\"marker\":{\"colorbar\":{\"outlinewidth\":0,\"ticks\":\"\"}}}],\"scattermapbox\":[{\"type\":\"scattermapbox\",\"marker\":{\"colorbar\":{\"outlinewidth\":0,\"ticks\":\"\"}}}],\"scatterternary\":[{\"type\":\"scatterternary\",\"marker\":{\"colorbar\":{\"outlinewidth\":0,\"ticks\":\"\"}}}],\"scattercarpet\":[{\"type\":\"scattercarpet\",\"marker\":{\"colorbar\":{\"outlinewidth\":0,\"ticks\":\"\"}}}],\"carpet\":[{\"aaxis\":{\"endlinecolor\":\"#2a3f5f\",\"gridcolor\":\"white\",\"linecolor\":\"white\",\"minorgridcolor\":\"white\",\"startlinecolor\":\"#2a3f5f\"},\"baxis\":{\"endlinecolor\":\"#2a3f5f\",\"gridcolor\":\"white\",\"linecolor\":\"white\",\"minorgridcolor\":\"white\",\"startlinecolor\":\"#2a3f5f\"},\"type\":\"carpet\"}],\"table\":[{\"cells\":{\"fill\":{\"color\":\"#EBF0F8\"},\"line\":{\"color\":\"white\"}},\"header\":{\"fill\":{\"color\":\"#C8D4E3\"},\"line\":{\"color\":\"white\"}},\"type\":\"table\"}],\"barpolar\":[{\"marker\":{\"line\":{\"color\":\"#E5ECF6\",\"width\":0.5},\"pattern\":{\"fillmode\":\"overlay\",\"size\":10,\"solidity\":0.2}},\"type\":\"barpolar\"}],\"pie\":[{\"automargin\":true,\"type\":\"pie\"}]},\"layout\":{\"autotypenumbers\":\"strict\",\"colorway\":[\"#636efa\",\"#EF553B\",\"#00cc96\",\"#ab63fa\",\"#FFA15A\",\"#19d3f3\",\"#FF6692\",\"#B6E880\",\"#FF97FF\",\"#FECB52\"],\"font\":{\"color\":\"#2a3f5f\"},\"hovermode\":\"closest\",\"hoverlabel\":{\"align\":\"left\"},\"paper_bgcolor\":\"white\",\"plot_bgcolor\":\"#E5ECF6\",\"polar\":{\"bgcolor\":\"#E5ECF6\",\"angularaxis\":{\"gridcolor\":\"white\",\"linecolor\":\"white\",\"ticks\":\"\"},\"radialaxis\":{\"gridcolor\":\"white\",\"linecolor\":\"white\",\"ticks\":\"\"}},\"ternary\":{\"bgcolor\":\"#E5ECF6\",\"aaxis\":{\"gridcolor\":\"white\",\"linecolor\":\"white\",\"ticks\":\"\"},\"baxis\":{\"gridcolor\":\"white\",\"linecolor\":\"white\",\"ticks\":\"\"},\"caxis\":{\"gridcolor\":\"white\",\"linecolor\":\"white\",\"ticks\":\"\"}},\"coloraxis\":{\"colorbar\":{\"outlinewidth\":0,\"ticks\":\"\"}},\"colorscale\":{\"sequential\":[[0.0,\"#0d0887\"],[0.1111111111111111,\"#46039f\"],[0.2222222222222222,\"#7201a8\"],[0.3333333333333333,\"#9c179e\"],[0.4444444444444444,\"#bd3786\"],[0.5555555555555556,\"#d8576b\"],[0.6666666666666666,\"#ed7953\"],[0.7777777777777778,\"#fb9f3a\"],[0.8888888888888888,\"#fdca26\"],[1.0,\"#f0f921\"]],\"sequentialminus\":[[0.0,\"#0d0887\"],[0.1111111111111111,\"#46039f\"],[0.2222222222222222,\"#7201a8\"],[0.3333333333333333,\"#9c179e\"],[0.4444444444444444,\"#bd3786\"],[0.5555555555555556,\"#d8576b\"],[0.6666666666666666,\"#ed7953\"],[0.7777777777777778,\"#fb9f3a\"],[0.8888888888888888,\"#fdca26\"],[1.0,\"#f0f921\"]],\"diverging\":[[0,\"#8e0152\"],[0.1,\"#c51b7d\"],[0.2,\"#de77ae\"],[0.3,\"#f1b6da\"],[0.4,\"#fde0ef\"],[0.5,\"#f7f7f7\"],[0.6,\"#e6f5d0\"],[0.7,\"#b8e186\"],[0.8,\"#7fbc41\"],[0.9,\"#4d9221\"],[1,\"#276419\"]]},\"xaxis\":{\"gridcolor\":\"white\",\"linecolor\":\"white\",\"ticks\":\"\",\"title\":{\"standoff\":15},\"zerolinecolor\":\"white\",\"automargin\":true,\"zerolinewidth\":2},\"yaxis\":{\"gridcolor\":\"white\",\"linecolor\":\"white\",\"ticks\":\"\",\"title\":{\"standoff\":15},\"zerolinecolor\":\"white\",\"automargin\":true,\"zerolinewidth\":2},\"scene\":{\"xaxis\":{\"backgroundcolor\":\"#E5ECF6\",\"gridcolor\":\"white\",\"linecolor\":\"white\",\"showbackground\":true,\"ticks\":\"\",\"zerolinecolor\":\"white\",\"gridwidth\":2},\"yaxis\":{\"backgroundcolor\":\"#E5ECF6\",\"gridcolor\":\"white\",\"linecolor\":\"white\",\"showbackground\":true,\"ticks\":\"\",\"zerolinecolor\":\"white\",\"gridwidth\":2},\"zaxis\":{\"backgroundcolor\":\"#E5ECF6\",\"gridcolor\":\"white\",\"linecolor\":\"white\",\"showbackground\":true,\"ticks\":\"\",\"zerolinecolor\":\"white\",\"gridwidth\":2}},\"shapedefaults\":{\"line\":{\"color\":\"#2a3f5f\"}},\"annotationdefaults\":{\"arrowcolor\":\"#2a3f5f\",\"arrowhead\":0,\"arrowwidth\":1},\"geo\":{\"bgcolor\":\"white\",\"landcolor\":\"#E5ECF6\",\"subunitcolor\":\"white\",\"showland\":true,\"showlakes\":true,\"lakecolor\":\"white\"},\"title\":{\"x\":0.05},\"mapbox\":{\"style\":\"light\"}}},\"xaxis\":{\"anchor\":\"y\",\"domain\":[0.0,1.0],\"title\":{\"text\":\"Year\"}},\"yaxis\":{\"anchor\":\"x\",\"domain\":[0.0,1.0],\"title\":{\"text\":\"Value\"}},\"legend\":{\"title\":{\"text\":\"variable\"},\"tracegroupgap\":0},\"title\":{\"text\":\"US per Capita Consumption and Employment Over Time (2000-2022)\"}},                        {\"responsive\": true}                    ).then(function(){\n",
       "                            \n",
       "var gd = document.getElementById('51c9b133-adfe-47c3-b140-87e11dc95bd3');\n",
       "var x = new MutationObserver(function (mutations, observer) {{\n",
       "        var display = window.getComputedStyle(gd).display;\n",
       "        if (!display || display === 'none') {{\n",
       "            console.log([gd, 'removed!']);\n",
       "            Plotly.purge(gd);\n",
       "            observer.disconnect();\n",
       "        }}\n",
       "}});\n",
       "\n",
       "// Listen for the removal of the full notebook cells\n",
       "var notebookContainer = gd.closest('#notebook-container');\n",
       "if (notebookContainer) {{\n",
       "    x.observe(notebookContainer, {childList: true});\n",
       "}}\n",
       "\n",
       "// Listen for the clearing of the current output cell\n",
       "var outputEl = gd.closest('.output');\n",
       "if (outputEl) {{\n",
       "    x.observe(outputEl, {childList: true});\n",
       "}}\n",
       "\n",
       "                        })                };                });            </script>        </div>"
      ]
     },
     "metadata": {},
     "output_type": "display_data"
    }
   ],
   "source": [
    "alldata_US=merged_df1[merged_df1[\"State\"]==\"US\"]\n",
    "\n",
    "fig_1 = px.line(alldata_US, x='Year', y=['Per capita Consumption','Total Employment'], \n",
    "              title=\"US per Capita Consumption and Employment Over Time (2000-2022)\")\n",
    "fig_1.update_layout(yaxis_title=\"Value\")\n",
    "fig_1.show()"
   ]
  },
  {
   "cell_type": "markdown",
   "metadata": {},
   "source": [
    "The trend line analysis shows total employment and per capita consumption has only been increasing since 2000. Renewable energy consumption has also shown an increasing trend in project 2."
   ]
  },
  {
   "cell_type": "markdown",
   "metadata": {},
   "source": [
    "Now let us see the trend in share of renewable energy expenditure "
   ]
  },
  {
   "cell_type": "code",
   "execution_count": 18,
   "metadata": {},
   "outputs": [
    {
     "data": {
      "application/vnd.plotly.v1+json": {
       "config": {
        "plotlyServerURL": "https://plot.ly"
       },
       "data": [
        {
         "hovertemplate": "variable=Exp_GDP_%<br>Year=%{x}<br>value=%{y}<extra></extra>",
         "legendgroup": "Exp_GDP_%",
         "line": {
          "color": "#636efa",
          "dash": "solid"
         },
         "marker": {
          "symbol": "circle"
         },
         "mode": "lines",
         "name": "Exp_GDP_%",
         "orientation": "v",
         "showlegend": true,
         "type": "scatter",
         "x": [
          2000,
          2001,
          2002,
          2003,
          2004,
          2005,
          2006,
          2007,
          2008,
          2009,
          2010,
          2011,
          2012,
          2013,
          2014,
          2015,
          2016,
          2017,
          2018,
          2019,
          2020,
          2021,
          2022
         ],
         "xaxis": "x",
         "y": [
          6.71,
          6.58,
          6.08,
          6.59,
          7.13,
          8.02,
          8.39,
          8.52,
          9.54,
          7.37,
          8.07,
          8.93,
          8.34,
          8.15,
          7.92,
          6.17,
          5.52,
          5.79,
          6.16,
          5.69,
          4.73,
          5.58,
          6.68
         ],
         "yaxis": "y"
        }
       ],
       "layout": {
        "legend": {
         "title": {
          "text": "variable"
         },
         "tracegroupgap": 0
        },
        "template": {
         "data": {
          "bar": [
           {
            "error_x": {
             "color": "#2a3f5f"
            },
            "error_y": {
             "color": "#2a3f5f"
            },
            "marker": {
             "line": {
              "color": "#E5ECF6",
              "width": 0.5
             },
             "pattern": {
              "fillmode": "overlay",
              "size": 10,
              "solidity": 0.2
             }
            },
            "type": "bar"
           }
          ],
          "barpolar": [
           {
            "marker": {
             "line": {
              "color": "#E5ECF6",
              "width": 0.5
             },
             "pattern": {
              "fillmode": "overlay",
              "size": 10,
              "solidity": 0.2
             }
            },
            "type": "barpolar"
           }
          ],
          "carpet": [
           {
            "aaxis": {
             "endlinecolor": "#2a3f5f",
             "gridcolor": "white",
             "linecolor": "white",
             "minorgridcolor": "white",
             "startlinecolor": "#2a3f5f"
            },
            "baxis": {
             "endlinecolor": "#2a3f5f",
             "gridcolor": "white",
             "linecolor": "white",
             "minorgridcolor": "white",
             "startlinecolor": "#2a3f5f"
            },
            "type": "carpet"
           }
          ],
          "choropleth": [
           {
            "colorbar": {
             "outlinewidth": 0,
             "ticks": ""
            },
            "type": "choropleth"
           }
          ],
          "contour": [
           {
            "colorbar": {
             "outlinewidth": 0,
             "ticks": ""
            },
            "colorscale": [
             [
              0,
              "#0d0887"
             ],
             [
              0.1111111111111111,
              "#46039f"
             ],
             [
              0.2222222222222222,
              "#7201a8"
             ],
             [
              0.3333333333333333,
              "#9c179e"
             ],
             [
              0.4444444444444444,
              "#bd3786"
             ],
             [
              0.5555555555555556,
              "#d8576b"
             ],
             [
              0.6666666666666666,
              "#ed7953"
             ],
             [
              0.7777777777777778,
              "#fb9f3a"
             ],
             [
              0.8888888888888888,
              "#fdca26"
             ],
             [
              1,
              "#f0f921"
             ]
            ],
            "type": "contour"
           }
          ],
          "contourcarpet": [
           {
            "colorbar": {
             "outlinewidth": 0,
             "ticks": ""
            },
            "type": "contourcarpet"
           }
          ],
          "heatmap": [
           {
            "colorbar": {
             "outlinewidth": 0,
             "ticks": ""
            },
            "colorscale": [
             [
              0,
              "#0d0887"
             ],
             [
              0.1111111111111111,
              "#46039f"
             ],
             [
              0.2222222222222222,
              "#7201a8"
             ],
             [
              0.3333333333333333,
              "#9c179e"
             ],
             [
              0.4444444444444444,
              "#bd3786"
             ],
             [
              0.5555555555555556,
              "#d8576b"
             ],
             [
              0.6666666666666666,
              "#ed7953"
             ],
             [
              0.7777777777777778,
              "#fb9f3a"
             ],
             [
              0.8888888888888888,
              "#fdca26"
             ],
             [
              1,
              "#f0f921"
             ]
            ],
            "type": "heatmap"
           }
          ],
          "heatmapgl": [
           {
            "colorbar": {
             "outlinewidth": 0,
             "ticks": ""
            },
            "colorscale": [
             [
              0,
              "#0d0887"
             ],
             [
              0.1111111111111111,
              "#46039f"
             ],
             [
              0.2222222222222222,
              "#7201a8"
             ],
             [
              0.3333333333333333,
              "#9c179e"
             ],
             [
              0.4444444444444444,
              "#bd3786"
             ],
             [
              0.5555555555555556,
              "#d8576b"
             ],
             [
              0.6666666666666666,
              "#ed7953"
             ],
             [
              0.7777777777777778,
              "#fb9f3a"
             ],
             [
              0.8888888888888888,
              "#fdca26"
             ],
             [
              1,
              "#f0f921"
             ]
            ],
            "type": "heatmapgl"
           }
          ],
          "histogram": [
           {
            "marker": {
             "pattern": {
              "fillmode": "overlay",
              "size": 10,
              "solidity": 0.2
             }
            },
            "type": "histogram"
           }
          ],
          "histogram2d": [
           {
            "colorbar": {
             "outlinewidth": 0,
             "ticks": ""
            },
            "colorscale": [
             [
              0,
              "#0d0887"
             ],
             [
              0.1111111111111111,
              "#46039f"
             ],
             [
              0.2222222222222222,
              "#7201a8"
             ],
             [
              0.3333333333333333,
              "#9c179e"
             ],
             [
              0.4444444444444444,
              "#bd3786"
             ],
             [
              0.5555555555555556,
              "#d8576b"
             ],
             [
              0.6666666666666666,
              "#ed7953"
             ],
             [
              0.7777777777777778,
              "#fb9f3a"
             ],
             [
              0.8888888888888888,
              "#fdca26"
             ],
             [
              1,
              "#f0f921"
             ]
            ],
            "type": "histogram2d"
           }
          ],
          "histogram2dcontour": [
           {
            "colorbar": {
             "outlinewidth": 0,
             "ticks": ""
            },
            "colorscale": [
             [
              0,
              "#0d0887"
             ],
             [
              0.1111111111111111,
              "#46039f"
             ],
             [
              0.2222222222222222,
              "#7201a8"
             ],
             [
              0.3333333333333333,
              "#9c179e"
             ],
             [
              0.4444444444444444,
              "#bd3786"
             ],
             [
              0.5555555555555556,
              "#d8576b"
             ],
             [
              0.6666666666666666,
              "#ed7953"
             ],
             [
              0.7777777777777778,
              "#fb9f3a"
             ],
             [
              0.8888888888888888,
              "#fdca26"
             ],
             [
              1,
              "#f0f921"
             ]
            ],
            "type": "histogram2dcontour"
           }
          ],
          "mesh3d": [
           {
            "colorbar": {
             "outlinewidth": 0,
             "ticks": ""
            },
            "type": "mesh3d"
           }
          ],
          "parcoords": [
           {
            "line": {
             "colorbar": {
              "outlinewidth": 0,
              "ticks": ""
             }
            },
            "type": "parcoords"
           }
          ],
          "pie": [
           {
            "automargin": true,
            "type": "pie"
           }
          ],
          "scatter": [
           {
            "fillpattern": {
             "fillmode": "overlay",
             "size": 10,
             "solidity": 0.2
            },
            "type": "scatter"
           }
          ],
          "scatter3d": [
           {
            "line": {
             "colorbar": {
              "outlinewidth": 0,
              "ticks": ""
             }
            },
            "marker": {
             "colorbar": {
              "outlinewidth": 0,
              "ticks": ""
             }
            },
            "type": "scatter3d"
           }
          ],
          "scattercarpet": [
           {
            "marker": {
             "colorbar": {
              "outlinewidth": 0,
              "ticks": ""
             }
            },
            "type": "scattercarpet"
           }
          ],
          "scattergeo": [
           {
            "marker": {
             "colorbar": {
              "outlinewidth": 0,
              "ticks": ""
             }
            },
            "type": "scattergeo"
           }
          ],
          "scattergl": [
           {
            "marker": {
             "colorbar": {
              "outlinewidth": 0,
              "ticks": ""
             }
            },
            "type": "scattergl"
           }
          ],
          "scattermapbox": [
           {
            "marker": {
             "colorbar": {
              "outlinewidth": 0,
              "ticks": ""
             }
            },
            "type": "scattermapbox"
           }
          ],
          "scatterpolar": [
           {
            "marker": {
             "colorbar": {
              "outlinewidth": 0,
              "ticks": ""
             }
            },
            "type": "scatterpolar"
           }
          ],
          "scatterpolargl": [
           {
            "marker": {
             "colorbar": {
              "outlinewidth": 0,
              "ticks": ""
             }
            },
            "type": "scatterpolargl"
           }
          ],
          "scatterternary": [
           {
            "marker": {
             "colorbar": {
              "outlinewidth": 0,
              "ticks": ""
             }
            },
            "type": "scatterternary"
           }
          ],
          "surface": [
           {
            "colorbar": {
             "outlinewidth": 0,
             "ticks": ""
            },
            "colorscale": [
             [
              0,
              "#0d0887"
             ],
             [
              0.1111111111111111,
              "#46039f"
             ],
             [
              0.2222222222222222,
              "#7201a8"
             ],
             [
              0.3333333333333333,
              "#9c179e"
             ],
             [
              0.4444444444444444,
              "#bd3786"
             ],
             [
              0.5555555555555556,
              "#d8576b"
             ],
             [
              0.6666666666666666,
              "#ed7953"
             ],
             [
              0.7777777777777778,
              "#fb9f3a"
             ],
             [
              0.8888888888888888,
              "#fdca26"
             ],
             [
              1,
              "#f0f921"
             ]
            ],
            "type": "surface"
           }
          ],
          "table": [
           {
            "cells": {
             "fill": {
              "color": "#EBF0F8"
             },
             "line": {
              "color": "white"
             }
            },
            "header": {
             "fill": {
              "color": "#C8D4E3"
             },
             "line": {
              "color": "white"
             }
            },
            "type": "table"
           }
          ]
         },
         "layout": {
          "annotationdefaults": {
           "arrowcolor": "#2a3f5f",
           "arrowhead": 0,
           "arrowwidth": 1
          },
          "autotypenumbers": "strict",
          "coloraxis": {
           "colorbar": {
            "outlinewidth": 0,
            "ticks": ""
           }
          },
          "colorscale": {
           "diverging": [
            [
             0,
             "#8e0152"
            ],
            [
             0.1,
             "#c51b7d"
            ],
            [
             0.2,
             "#de77ae"
            ],
            [
             0.3,
             "#f1b6da"
            ],
            [
             0.4,
             "#fde0ef"
            ],
            [
             0.5,
             "#f7f7f7"
            ],
            [
             0.6,
             "#e6f5d0"
            ],
            [
             0.7,
             "#b8e186"
            ],
            [
             0.8,
             "#7fbc41"
            ],
            [
             0.9,
             "#4d9221"
            ],
            [
             1,
             "#276419"
            ]
           ],
           "sequential": [
            [
             0,
             "#0d0887"
            ],
            [
             0.1111111111111111,
             "#46039f"
            ],
            [
             0.2222222222222222,
             "#7201a8"
            ],
            [
             0.3333333333333333,
             "#9c179e"
            ],
            [
             0.4444444444444444,
             "#bd3786"
            ],
            [
             0.5555555555555556,
             "#d8576b"
            ],
            [
             0.6666666666666666,
             "#ed7953"
            ],
            [
             0.7777777777777778,
             "#fb9f3a"
            ],
            [
             0.8888888888888888,
             "#fdca26"
            ],
            [
             1,
             "#f0f921"
            ]
           ],
           "sequentialminus": [
            [
             0,
             "#0d0887"
            ],
            [
             0.1111111111111111,
             "#46039f"
            ],
            [
             0.2222222222222222,
             "#7201a8"
            ],
            [
             0.3333333333333333,
             "#9c179e"
            ],
            [
             0.4444444444444444,
             "#bd3786"
            ],
            [
             0.5555555555555556,
             "#d8576b"
            ],
            [
             0.6666666666666666,
             "#ed7953"
            ],
            [
             0.7777777777777778,
             "#fb9f3a"
            ],
            [
             0.8888888888888888,
             "#fdca26"
            ],
            [
             1,
             "#f0f921"
            ]
           ]
          },
          "colorway": [
           "#636efa",
           "#EF553B",
           "#00cc96",
           "#ab63fa",
           "#FFA15A",
           "#19d3f3",
           "#FF6692",
           "#B6E880",
           "#FF97FF",
           "#FECB52"
          ],
          "font": {
           "color": "#2a3f5f"
          },
          "geo": {
           "bgcolor": "white",
           "lakecolor": "white",
           "landcolor": "#E5ECF6",
           "showlakes": true,
           "showland": true,
           "subunitcolor": "white"
          },
          "hoverlabel": {
           "align": "left"
          },
          "hovermode": "closest",
          "mapbox": {
           "style": "light"
          },
          "paper_bgcolor": "white",
          "plot_bgcolor": "#E5ECF6",
          "polar": {
           "angularaxis": {
            "gridcolor": "white",
            "linecolor": "white",
            "ticks": ""
           },
           "bgcolor": "#E5ECF6",
           "radialaxis": {
            "gridcolor": "white",
            "linecolor": "white",
            "ticks": ""
           }
          },
          "scene": {
           "xaxis": {
            "backgroundcolor": "#E5ECF6",
            "gridcolor": "white",
            "gridwidth": 2,
            "linecolor": "white",
            "showbackground": true,
            "ticks": "",
            "zerolinecolor": "white"
           },
           "yaxis": {
            "backgroundcolor": "#E5ECF6",
            "gridcolor": "white",
            "gridwidth": 2,
            "linecolor": "white",
            "showbackground": true,
            "ticks": "",
            "zerolinecolor": "white"
           },
           "zaxis": {
            "backgroundcolor": "#E5ECF6",
            "gridcolor": "white",
            "gridwidth": 2,
            "linecolor": "white",
            "showbackground": true,
            "ticks": "",
            "zerolinecolor": "white"
           }
          },
          "shapedefaults": {
           "line": {
            "color": "#2a3f5f"
           }
          },
          "ternary": {
           "aaxis": {
            "gridcolor": "white",
            "linecolor": "white",
            "ticks": ""
           },
           "baxis": {
            "gridcolor": "white",
            "linecolor": "white",
            "ticks": ""
           },
           "bgcolor": "#E5ECF6",
           "caxis": {
            "gridcolor": "white",
            "linecolor": "white",
            "ticks": ""
           }
          },
          "title": {
           "x": 0.05
          },
          "xaxis": {
           "automargin": true,
           "gridcolor": "white",
           "linecolor": "white",
           "ticks": "",
           "title": {
            "standoff": 15
           },
           "zerolinecolor": "white",
           "zerolinewidth": 2
          },
          "yaxis": {
           "automargin": true,
           "gridcolor": "white",
           "linecolor": "white",
           "ticks": "",
           "title": {
            "standoff": 15
           },
           "zerolinecolor": "white",
           "zerolinewidth": 2
          }
         }
        },
        "title": {
         "text": "US share of renewable energy expense Over Time (2000-2022)"
        },
        "xaxis": {
         "anchor": "y",
         "domain": [
          0,
          1
         ],
         "title": {
          "text": "Year"
         }
        },
        "yaxis": {
         "anchor": "x",
         "domain": [
          0,
          1
         ],
         "title": {
          "text": "value"
         }
        }
       }
      },
      "text/html": [
       "<div>                            <div id=\"2ad2808e-0a4e-455b-8c25-9f918448a62d\" class=\"plotly-graph-div\" style=\"height:525px; width:100%;\"></div>            <script type=\"text/javascript\">                require([\"plotly\"], function(Plotly) {                    window.PLOTLYENV=window.PLOTLYENV || {};                                    if (document.getElementById(\"2ad2808e-0a4e-455b-8c25-9f918448a62d\")) {                    Plotly.newPlot(                        \"2ad2808e-0a4e-455b-8c25-9f918448a62d\",                        [{\"hovertemplate\":\"variable=Exp_GDP_%\\u003cbr\\u003eYear=%{x}\\u003cbr\\u003evalue=%{y}\\u003cextra\\u003e\\u003c\\u002fextra\\u003e\",\"legendgroup\":\"Exp_GDP_%\",\"line\":{\"color\":\"#636efa\",\"dash\":\"solid\"},\"marker\":{\"symbol\":\"circle\"},\"mode\":\"lines\",\"name\":\"Exp_GDP_%\",\"orientation\":\"v\",\"showlegend\":true,\"x\":[2000,2001,2002,2003,2004,2005,2006,2007,2008,2009,2010,2011,2012,2013,2014,2015,2016,2017,2018,2019,2020,2021,2022],\"xaxis\":\"x\",\"y\":[6.71,6.58,6.08,6.59,7.13,8.02,8.39,8.52,9.54,7.37,8.07,8.93,8.34,8.15,7.92,6.17,5.52,5.79,6.16,5.69,4.73,5.58,6.68],\"yaxis\":\"y\",\"type\":\"scatter\"}],                        {\"template\":{\"data\":{\"histogram2dcontour\":[{\"type\":\"histogram2dcontour\",\"colorbar\":{\"outlinewidth\":0,\"ticks\":\"\"},\"colorscale\":[[0.0,\"#0d0887\"],[0.1111111111111111,\"#46039f\"],[0.2222222222222222,\"#7201a8\"],[0.3333333333333333,\"#9c179e\"],[0.4444444444444444,\"#bd3786\"],[0.5555555555555556,\"#d8576b\"],[0.6666666666666666,\"#ed7953\"],[0.7777777777777778,\"#fb9f3a\"],[0.8888888888888888,\"#fdca26\"],[1.0,\"#f0f921\"]]}],\"choropleth\":[{\"type\":\"choropleth\",\"colorbar\":{\"outlinewidth\":0,\"ticks\":\"\"}}],\"histogram2d\":[{\"type\":\"histogram2d\",\"colorbar\":{\"outlinewidth\":0,\"ticks\":\"\"},\"colorscale\":[[0.0,\"#0d0887\"],[0.1111111111111111,\"#46039f\"],[0.2222222222222222,\"#7201a8\"],[0.3333333333333333,\"#9c179e\"],[0.4444444444444444,\"#bd3786\"],[0.5555555555555556,\"#d8576b\"],[0.6666666666666666,\"#ed7953\"],[0.7777777777777778,\"#fb9f3a\"],[0.8888888888888888,\"#fdca26\"],[1.0,\"#f0f921\"]]}],\"heatmap\":[{\"type\":\"heatmap\",\"colorbar\":{\"outlinewidth\":0,\"ticks\":\"\"},\"colorscale\":[[0.0,\"#0d0887\"],[0.1111111111111111,\"#46039f\"],[0.2222222222222222,\"#7201a8\"],[0.3333333333333333,\"#9c179e\"],[0.4444444444444444,\"#bd3786\"],[0.5555555555555556,\"#d8576b\"],[0.6666666666666666,\"#ed7953\"],[0.7777777777777778,\"#fb9f3a\"],[0.8888888888888888,\"#fdca26\"],[1.0,\"#f0f921\"]]}],\"heatmapgl\":[{\"type\":\"heatmapgl\",\"colorbar\":{\"outlinewidth\":0,\"ticks\":\"\"},\"colorscale\":[[0.0,\"#0d0887\"],[0.1111111111111111,\"#46039f\"],[0.2222222222222222,\"#7201a8\"],[0.3333333333333333,\"#9c179e\"],[0.4444444444444444,\"#bd3786\"],[0.5555555555555556,\"#d8576b\"],[0.6666666666666666,\"#ed7953\"],[0.7777777777777778,\"#fb9f3a\"],[0.8888888888888888,\"#fdca26\"],[1.0,\"#f0f921\"]]}],\"contourcarpet\":[{\"type\":\"contourcarpet\",\"colorbar\":{\"outlinewidth\":0,\"ticks\":\"\"}}],\"contour\":[{\"type\":\"contour\",\"colorbar\":{\"outlinewidth\":0,\"ticks\":\"\"},\"colorscale\":[[0.0,\"#0d0887\"],[0.1111111111111111,\"#46039f\"],[0.2222222222222222,\"#7201a8\"],[0.3333333333333333,\"#9c179e\"],[0.4444444444444444,\"#bd3786\"],[0.5555555555555556,\"#d8576b\"],[0.6666666666666666,\"#ed7953\"],[0.7777777777777778,\"#fb9f3a\"],[0.8888888888888888,\"#fdca26\"],[1.0,\"#f0f921\"]]}],\"surface\":[{\"type\":\"surface\",\"colorbar\":{\"outlinewidth\":0,\"ticks\":\"\"},\"colorscale\":[[0.0,\"#0d0887\"],[0.1111111111111111,\"#46039f\"],[0.2222222222222222,\"#7201a8\"],[0.3333333333333333,\"#9c179e\"],[0.4444444444444444,\"#bd3786\"],[0.5555555555555556,\"#d8576b\"],[0.6666666666666666,\"#ed7953\"],[0.7777777777777778,\"#fb9f3a\"],[0.8888888888888888,\"#fdca26\"],[1.0,\"#f0f921\"]]}],\"mesh3d\":[{\"type\":\"mesh3d\",\"colorbar\":{\"outlinewidth\":0,\"ticks\":\"\"}}],\"scatter\":[{\"fillpattern\":{\"fillmode\":\"overlay\",\"size\":10,\"solidity\":0.2},\"type\":\"scatter\"}],\"parcoords\":[{\"type\":\"parcoords\",\"line\":{\"colorbar\":{\"outlinewidth\":0,\"ticks\":\"\"}}}],\"scatterpolargl\":[{\"type\":\"scatterpolargl\",\"marker\":{\"colorbar\":{\"outlinewidth\":0,\"ticks\":\"\"}}}],\"bar\":[{\"error_x\":{\"color\":\"#2a3f5f\"},\"error_y\":{\"color\":\"#2a3f5f\"},\"marker\":{\"line\":{\"color\":\"#E5ECF6\",\"width\":0.5},\"pattern\":{\"fillmode\":\"overlay\",\"size\":10,\"solidity\":0.2}},\"type\":\"bar\"}],\"scattergeo\":[{\"type\":\"scattergeo\",\"marker\":{\"colorbar\":{\"outlinewidth\":0,\"ticks\":\"\"}}}],\"scatterpolar\":[{\"type\":\"scatterpolar\",\"marker\":{\"colorbar\":{\"outlinewidth\":0,\"ticks\":\"\"}}}],\"histogram\":[{\"marker\":{\"pattern\":{\"fillmode\":\"overlay\",\"size\":10,\"solidity\":0.2}},\"type\":\"histogram\"}],\"scattergl\":[{\"type\":\"scattergl\",\"marker\":{\"colorbar\":{\"outlinewidth\":0,\"ticks\":\"\"}}}],\"scatter3d\":[{\"type\":\"scatter3d\",\"line\":{\"colorbar\":{\"outlinewidth\":0,\"ticks\":\"\"}},\"marker\":{\"colorbar\":{\"outlinewidth\":0,\"ticks\":\"\"}}}],\"scattermapbox\":[{\"type\":\"scattermapbox\",\"marker\":{\"colorbar\":{\"outlinewidth\":0,\"ticks\":\"\"}}}],\"scatterternary\":[{\"type\":\"scatterternary\",\"marker\":{\"colorbar\":{\"outlinewidth\":0,\"ticks\":\"\"}}}],\"scattercarpet\":[{\"type\":\"scattercarpet\",\"marker\":{\"colorbar\":{\"outlinewidth\":0,\"ticks\":\"\"}}}],\"carpet\":[{\"aaxis\":{\"endlinecolor\":\"#2a3f5f\",\"gridcolor\":\"white\",\"linecolor\":\"white\",\"minorgridcolor\":\"white\",\"startlinecolor\":\"#2a3f5f\"},\"baxis\":{\"endlinecolor\":\"#2a3f5f\",\"gridcolor\":\"white\",\"linecolor\":\"white\",\"minorgridcolor\":\"white\",\"startlinecolor\":\"#2a3f5f\"},\"type\":\"carpet\"}],\"table\":[{\"cells\":{\"fill\":{\"color\":\"#EBF0F8\"},\"line\":{\"color\":\"white\"}},\"header\":{\"fill\":{\"color\":\"#C8D4E3\"},\"line\":{\"color\":\"white\"}},\"type\":\"table\"}],\"barpolar\":[{\"marker\":{\"line\":{\"color\":\"#E5ECF6\",\"width\":0.5},\"pattern\":{\"fillmode\":\"overlay\",\"size\":10,\"solidity\":0.2}},\"type\":\"barpolar\"}],\"pie\":[{\"automargin\":true,\"type\":\"pie\"}]},\"layout\":{\"autotypenumbers\":\"strict\",\"colorway\":[\"#636efa\",\"#EF553B\",\"#00cc96\",\"#ab63fa\",\"#FFA15A\",\"#19d3f3\",\"#FF6692\",\"#B6E880\",\"#FF97FF\",\"#FECB52\"],\"font\":{\"color\":\"#2a3f5f\"},\"hovermode\":\"closest\",\"hoverlabel\":{\"align\":\"left\"},\"paper_bgcolor\":\"white\",\"plot_bgcolor\":\"#E5ECF6\",\"polar\":{\"bgcolor\":\"#E5ECF6\",\"angularaxis\":{\"gridcolor\":\"white\",\"linecolor\":\"white\",\"ticks\":\"\"},\"radialaxis\":{\"gridcolor\":\"white\",\"linecolor\":\"white\",\"ticks\":\"\"}},\"ternary\":{\"bgcolor\":\"#E5ECF6\",\"aaxis\":{\"gridcolor\":\"white\",\"linecolor\":\"white\",\"ticks\":\"\"},\"baxis\":{\"gridcolor\":\"white\",\"linecolor\":\"white\",\"ticks\":\"\"},\"caxis\":{\"gridcolor\":\"white\",\"linecolor\":\"white\",\"ticks\":\"\"}},\"coloraxis\":{\"colorbar\":{\"outlinewidth\":0,\"ticks\":\"\"}},\"colorscale\":{\"sequential\":[[0.0,\"#0d0887\"],[0.1111111111111111,\"#46039f\"],[0.2222222222222222,\"#7201a8\"],[0.3333333333333333,\"#9c179e\"],[0.4444444444444444,\"#bd3786\"],[0.5555555555555556,\"#d8576b\"],[0.6666666666666666,\"#ed7953\"],[0.7777777777777778,\"#fb9f3a\"],[0.8888888888888888,\"#fdca26\"],[1.0,\"#f0f921\"]],\"sequentialminus\":[[0.0,\"#0d0887\"],[0.1111111111111111,\"#46039f\"],[0.2222222222222222,\"#7201a8\"],[0.3333333333333333,\"#9c179e\"],[0.4444444444444444,\"#bd3786\"],[0.5555555555555556,\"#d8576b\"],[0.6666666666666666,\"#ed7953\"],[0.7777777777777778,\"#fb9f3a\"],[0.8888888888888888,\"#fdca26\"],[1.0,\"#f0f921\"]],\"diverging\":[[0,\"#8e0152\"],[0.1,\"#c51b7d\"],[0.2,\"#de77ae\"],[0.3,\"#f1b6da\"],[0.4,\"#fde0ef\"],[0.5,\"#f7f7f7\"],[0.6,\"#e6f5d0\"],[0.7,\"#b8e186\"],[0.8,\"#7fbc41\"],[0.9,\"#4d9221\"],[1,\"#276419\"]]},\"xaxis\":{\"gridcolor\":\"white\",\"linecolor\":\"white\",\"ticks\":\"\",\"title\":{\"standoff\":15},\"zerolinecolor\":\"white\",\"automargin\":true,\"zerolinewidth\":2},\"yaxis\":{\"gridcolor\":\"white\",\"linecolor\":\"white\",\"ticks\":\"\",\"title\":{\"standoff\":15},\"zerolinecolor\":\"white\",\"automargin\":true,\"zerolinewidth\":2},\"scene\":{\"xaxis\":{\"backgroundcolor\":\"#E5ECF6\",\"gridcolor\":\"white\",\"linecolor\":\"white\",\"showbackground\":true,\"ticks\":\"\",\"zerolinecolor\":\"white\",\"gridwidth\":2},\"yaxis\":{\"backgroundcolor\":\"#E5ECF6\",\"gridcolor\":\"white\",\"linecolor\":\"white\",\"showbackground\":true,\"ticks\":\"\",\"zerolinecolor\":\"white\",\"gridwidth\":2},\"zaxis\":{\"backgroundcolor\":\"#E5ECF6\",\"gridcolor\":\"white\",\"linecolor\":\"white\",\"showbackground\":true,\"ticks\":\"\",\"zerolinecolor\":\"white\",\"gridwidth\":2}},\"shapedefaults\":{\"line\":{\"color\":\"#2a3f5f\"}},\"annotationdefaults\":{\"arrowcolor\":\"#2a3f5f\",\"arrowhead\":0,\"arrowwidth\":1},\"geo\":{\"bgcolor\":\"white\",\"landcolor\":\"#E5ECF6\",\"subunitcolor\":\"white\",\"showland\":true,\"showlakes\":true,\"lakecolor\":\"white\"},\"title\":{\"x\":0.05},\"mapbox\":{\"style\":\"light\"}}},\"xaxis\":{\"anchor\":\"y\",\"domain\":[0.0,1.0],\"title\":{\"text\":\"Year\"}},\"yaxis\":{\"anchor\":\"x\",\"domain\":[0.0,1.0],\"title\":{\"text\":\"value\"}},\"legend\":{\"title\":{\"text\":\"variable\"},\"tracegroupgap\":0},\"title\":{\"text\":\"US share of renewable energy expense Over Time (2000-2022)\"}},                        {\"responsive\": true}                    ).then(function(){\n",
       "                            \n",
       "var gd = document.getElementById('2ad2808e-0a4e-455b-8c25-9f918448a62d');\n",
       "var x = new MutationObserver(function (mutations, observer) {{\n",
       "        var display = window.getComputedStyle(gd).display;\n",
       "        if (!display || display === 'none') {{\n",
       "            console.log([gd, 'removed!']);\n",
       "            Plotly.purge(gd);\n",
       "            observer.disconnect();\n",
       "        }}\n",
       "}});\n",
       "\n",
       "// Listen for the removal of the full notebook cells\n",
       "var notebookContainer = gd.closest('#notebook-container');\n",
       "if (notebookContainer) {{\n",
       "    x.observe(notebookContainer, {childList: true});\n",
       "}}\n",
       "\n",
       "// Listen for the clearing of the current output cell\n",
       "var outputEl = gd.closest('.output');\n",
       "if (outputEl) {{\n",
       "    x.observe(outputEl, {childList: true});\n",
       "}}\n",
       "\n",
       "                        })                };                });            </script>        </div>"
      ]
     },
     "metadata": {},
     "output_type": "display_data"
    }
   ],
   "source": [
    "fig_2 = px.line(alldata_US, x='Year', y=['Exp_GDP_%'], \n",
    "              title=\"US share of renewable energy expense Over Time (2000-2022)\")\n",
    "fig_2.show()"
   ]
  },
  {
   "cell_type": "markdown",
   "metadata": {},
   "source": [
    "We saw an increase in per capita consumption and employment over time however, the share of energy expenditure has fallen especially since 2010."
   ]
  },
  {
   "cell_type": "code",
   "execution_count": 19,
   "metadata": {},
   "outputs": [
    {
     "name": "stdout",
     "output_type": "stream",
     "text": [
      "Total Employment           object\n",
      "Per capita Consumption     object\n",
      "Exp_GDP_%                 float64\n",
      "dtype: object\n"
     ]
    }
   ],
   "source": [
    "## We will calculate the average  for each variables (per capita consumption, employement and Energy expenditure share of GDP) for each state\n",
    "\n",
    "## first checking the type of varibles\n",
    "average_all = ['Total Employment', 'Per capita Consumption', 'Exp_GDP_%']\n",
    "print(merged_df1[average_all].dtypes)\n",
    "\n",
    "\n"
   ]
  },
  {
   "cell_type": "code",
   "execution_count": 20,
   "metadata": {},
   "outputs": [
    {
     "name": "stdout",
     "output_type": "stream",
     "text": [
      "Total Employment            int64\n",
      "Per capita Consumption      int64\n",
      "Exp_GDP_%                 float64\n",
      "dtype: object\n"
     ]
    }
   ],
   "source": [
    "## Per capita Consumption and TOtal employment are string so need to convert\n",
    "\n",
    "merged_df1['Total Employment'] = pd.to_numeric(merged_df1['Total Employment'])\n",
    "merged_df1['Per capita Consumption'] = pd.to_numeric(merged_df1['Per capita Consumption'])\n",
    "\n",
    "print(merged_df1[average_all].dtypes)"
   ]
  },
  {
   "cell_type": "code",
   "execution_count": 21,
   "metadata": {},
   "outputs": [
    {
     "data": {
      "text/html": [
       "<div>\n",
       "<style scoped>\n",
       "    .dataframe tbody tr th:only-of-type {\n",
       "        vertical-align: middle;\n",
       "    }\n",
       "\n",
       "    .dataframe tbody tr th {\n",
       "        vertical-align: top;\n",
       "    }\n",
       "\n",
       "    .dataframe thead th {\n",
       "        text-align: right;\n",
       "    }\n",
       "</style>\n",
       "<table border=\"1\" class=\"dataframe\">\n",
       "  <thead>\n",
       "    <tr style=\"text-align: right;\">\n",
       "      <th></th>\n",
       "      <th>State</th>\n",
       "      <th>Total Employment</th>\n",
       "      <th>Per capita Consumption</th>\n",
       "      <th>Exp_GDP_%</th>\n",
       "    </tr>\n",
       "  </thead>\n",
       "  <tbody>\n",
       "    <tr>\n",
       "      <th>0</th>\n",
       "      <td>AK</td>\n",
       "      <td>4.379371e+05</td>\n",
       "      <td>41150.347826</td>\n",
       "      <td>11.329130</td>\n",
       "    </tr>\n",
       "    <tr>\n",
       "      <th>1</th>\n",
       "      <td>AL</td>\n",
       "      <td>2.553123e+06</td>\n",
       "      <td>29126.869565</td>\n",
       "      <td>10.753913</td>\n",
       "    </tr>\n",
       "    <tr>\n",
       "      <th>2</th>\n",
       "      <td>AR</td>\n",
       "      <td>1.579881e+06</td>\n",
       "      <td>28250.130435</td>\n",
       "      <td>10.673043</td>\n",
       "    </tr>\n",
       "    <tr>\n",
       "      <th>3</th>\n",
       "      <td>AZ</td>\n",
       "      <td>3.418561e+06</td>\n",
       "      <td>33303.347826</td>\n",
       "      <td>7.084783</td>\n",
       "    </tr>\n",
       "    <tr>\n",
       "      <th>4</th>\n",
       "      <td>CA</td>\n",
       "      <td>2.141554e+07</td>\n",
       "      <td>38036.478261</td>\n",
       "      <td>5.433913</td>\n",
       "    </tr>\n",
       "    <tr>\n",
       "      <th>5</th>\n",
       "      <td>CO</td>\n",
       "      <td>3.370921e+06</td>\n",
       "      <td>38332.304348</td>\n",
       "      <td>5.760870</td>\n",
       "    </tr>\n",
       "    <tr>\n",
       "      <th>6</th>\n",
       "      <td>CT</td>\n",
       "      <td>2.224724e+06</td>\n",
       "      <td>42960.695652</td>\n",
       "      <td>5.486087</td>\n",
       "    </tr>\n",
       "    <tr>\n",
       "      <th>7</th>\n",
       "      <td>DE</td>\n",
       "      <td>5.515645e+05</td>\n",
       "      <td>39005.347826</td>\n",
       "      <td>5.449565</td>\n",
       "    </tr>\n",
       "    <tr>\n",
       "      <th>8</th>\n",
       "      <td>FL</td>\n",
       "      <td>1.083945e+07</td>\n",
       "      <td>36905.956522</td>\n",
       "      <td>6.784783</td>\n",
       "    </tr>\n",
       "    <tr>\n",
       "      <th>9</th>\n",
       "      <td>GA</td>\n",
       "      <td>5.602557e+06</td>\n",
       "      <td>31910.478261</td>\n",
       "      <td>7.311304</td>\n",
       "    </tr>\n",
       "    <tr>\n",
       "      <th>10</th>\n",
       "      <td>HI</td>\n",
       "      <td>8.458198e+05</td>\n",
       "      <td>36854.565217</td>\n",
       "      <td>8.235652</td>\n",
       "    </tr>\n",
       "    <tr>\n",
       "      <th>11</th>\n",
       "      <td>IA</td>\n",
       "      <td>1.991257e+06</td>\n",
       "      <td>31752.217391</td>\n",
       "      <td>9.064783</td>\n",
       "    </tr>\n",
       "    <tr>\n",
       "      <th>12</th>\n",
       "      <td>ID</td>\n",
       "      <td>9.287856e+05</td>\n",
       "      <td>28809.086957</td>\n",
       "      <td>9.254783</td>\n",
       "    </tr>\n",
       "    <tr>\n",
       "      <th>13</th>\n",
       "      <td>IL</td>\n",
       "      <td>7.526039e+06</td>\n",
       "      <td>36303.217391</td>\n",
       "      <td>5.991304</td>\n",
       "    </tr>\n",
       "    <tr>\n",
       "      <th>14</th>\n",
       "      <td>IN</td>\n",
       "      <td>3.728800e+06</td>\n",
       "      <td>31427.043478</td>\n",
       "      <td>8.945217</td>\n",
       "    </tr>\n",
       "    <tr>\n",
       "      <th>15</th>\n",
       "      <td>KS</td>\n",
       "      <td>1.843683e+06</td>\n",
       "      <td>32522.260870</td>\n",
       "      <td>8.253913</td>\n",
       "    </tr>\n",
       "    <tr>\n",
       "      <th>16</th>\n",
       "      <td>KY</td>\n",
       "      <td>2.411497e+06</td>\n",
       "      <td>29972.217391</td>\n",
       "      <td>10.400870</td>\n",
       "    </tr>\n",
       "    <tr>\n",
       "      <th>17</th>\n",
       "      <td>LA</td>\n",
       "      <td>2.566859e+06</td>\n",
       "      <td>30590.782609</td>\n",
       "      <td>16.020870</td>\n",
       "    </tr>\n",
       "    <tr>\n",
       "      <th>18</th>\n",
       "      <td>MA</td>\n",
       "      <td>4.365874e+06</td>\n",
       "      <td>44192.782609</td>\n",
       "      <td>5.436957</td>\n",
       "    </tr>\n",
       "    <tr>\n",
       "      <th>19</th>\n",
       "      <td>MD</td>\n",
       "      <td>3.462340e+06</td>\n",
       "      <td>38193.173913</td>\n",
       "      <td>5.927826</td>\n",
       "    </tr>\n",
       "    <tr>\n",
       "      <th>20</th>\n",
       "      <td>ME</td>\n",
       "      <td>8.145194e+05</td>\n",
       "      <td>37168.304348</td>\n",
       "      <td>10.796087</td>\n",
       "    </tr>\n",
       "    <tr>\n",
       "      <th>21</th>\n",
       "      <td>MI</td>\n",
       "      <td>5.453083e+06</td>\n",
       "      <td>33494.043478</td>\n",
       "      <td>7.565652</td>\n",
       "    </tr>\n",
       "    <tr>\n",
       "      <th>22</th>\n",
       "      <td>MN</td>\n",
       "      <td>3.543828e+06</td>\n",
       "      <td>37938.173913</td>\n",
       "      <td>6.814783</td>\n",
       "    </tr>\n",
       "    <tr>\n",
       "      <th>23</th>\n",
       "      <td>MO</td>\n",
       "      <td>3.603156e+06</td>\n",
       "      <td>33694.173913</td>\n",
       "      <td>7.919565</td>\n",
       "    </tr>\n",
       "    <tr>\n",
       "      <th>24</th>\n",
       "      <td>MS</td>\n",
       "      <td>1.533822e+06</td>\n",
       "      <td>26960.173913</td>\n",
       "      <td>12.462174</td>\n",
       "    </tr>\n",
       "    <tr>\n",
       "      <th>25</th>\n",
       "      <td>MT</td>\n",
       "      <td>6.353923e+05</td>\n",
       "      <td>34391.869565</td>\n",
       "      <td>11.510435</td>\n",
       "    </tr>\n",
       "    <tr>\n",
       "      <th>26</th>\n",
       "      <td>NC</td>\n",
       "      <td>5.488011e+06</td>\n",
       "      <td>31740.000000</td>\n",
       "      <td>6.983478</td>\n",
       "    </tr>\n",
       "    <tr>\n",
       "      <th>27</th>\n",
       "      <td>ND</td>\n",
       "      <td>5.233342e+05</td>\n",
       "      <td>36471.347826</td>\n",
       "      <td>11.432174</td>\n",
       "    </tr>\n",
       "    <tr>\n",
       "      <th>28</th>\n",
       "      <td>NE</td>\n",
       "      <td>1.252090e+06</td>\n",
       "      <td>33735.478261</td>\n",
       "      <td>8.033478</td>\n",
       "    </tr>\n",
       "    <tr>\n",
       "      <th>29</th>\n",
       "      <td>NH</td>\n",
       "      <td>8.414658e+05</td>\n",
       "      <td>42245.608696</td>\n",
       "      <td>7.396087</td>\n",
       "    </tr>\n",
       "    <tr>\n",
       "      <th>30</th>\n",
       "      <td>NJ</td>\n",
       "      <td>5.163630e+06</td>\n",
       "      <td>41572.391304</td>\n",
       "      <td>6.145652</td>\n",
       "    </tr>\n",
       "    <tr>\n",
       "      <th>31</th>\n",
       "      <td>NM</td>\n",
       "      <td>1.065763e+06</td>\n",
       "      <td>29659.869565</td>\n",
       "      <td>8.431739</td>\n",
       "    </tr>\n",
       "    <tr>\n",
       "      <th>32</th>\n",
       "      <td>NV</td>\n",
       "      <td>1.601992e+06</td>\n",
       "      <td>34562.304348</td>\n",
       "      <td>7.034783</td>\n",
       "    </tr>\n",
       "    <tr>\n",
       "      <th>33</th>\n",
       "      <td>NY</td>\n",
       "      <td>1.143827e+07</td>\n",
       "      <td>38702.304348</td>\n",
       "      <td>4.531304</td>\n",
       "    </tr>\n",
       "    <tr>\n",
       "      <th>34</th>\n",
       "      <td>OH</td>\n",
       "      <td>6.778883e+06</td>\n",
       "      <td>32947.478261</td>\n",
       "      <td>7.671739</td>\n",
       "    </tr>\n",
       "    <tr>\n",
       "      <th>35</th>\n",
       "      <td>OK</td>\n",
       "      <td>2.175884e+06</td>\n",
       "      <td>29105.782609</td>\n",
       "      <td>9.834783</td>\n",
       "    </tr>\n",
       "    <tr>\n",
       "      <th>36</th>\n",
       "      <td>OR</td>\n",
       "      <td>2.306082e+06</td>\n",
       "      <td>34270.173913</td>\n",
       "      <td>6.944348</td>\n",
       "    </tr>\n",
       "    <tr>\n",
       "      <th>37</th>\n",
       "      <td>PA</td>\n",
       "      <td>7.306776e+06</td>\n",
       "      <td>36969.000000</td>\n",
       "      <td>7.207391</td>\n",
       "    </tr>\n",
       "    <tr>\n",
       "      <th>38</th>\n",
       "      <td>RI</td>\n",
       "      <td>6.126568e+05</td>\n",
       "      <td>36128.000000</td>\n",
       "      <td>6.628261</td>\n",
       "    </tr>\n",
       "    <tr>\n",
       "      <th>39</th>\n",
       "      <td>SC</td>\n",
       "      <td>2.538638e+06</td>\n",
       "      <td>31298.347826</td>\n",
       "      <td>9.666087</td>\n",
       "    </tr>\n",
       "    <tr>\n",
       "      <th>40</th>\n",
       "      <td>SD</td>\n",
       "      <td>5.674496e+05</td>\n",
       "      <td>32941.782609</td>\n",
       "      <td>8.854783</td>\n",
       "    </tr>\n",
       "    <tr>\n",
       "      <th>41</th>\n",
       "      <td>TN</td>\n",
       "      <td>3.764459e+06</td>\n",
       "      <td>31195.913043</td>\n",
       "      <td>8.307391</td>\n",
       "    </tr>\n",
       "    <tr>\n",
       "      <th>42</th>\n",
       "      <td>TX</td>\n",
       "      <td>1.511892e+07</td>\n",
       "      <td>32851.000000</td>\n",
       "      <td>9.588696</td>\n",
       "    </tr>\n",
       "    <tr>\n",
       "      <th>43</th>\n",
       "      <td>US</td>\n",
       "      <td>1.825363e+08</td>\n",
       "      <td>35309.608696</td>\n",
       "      <td>7.072174</td>\n",
       "    </tr>\n",
       "    <tr>\n",
       "      <th>44</th>\n",
       "      <td>UT</td>\n",
       "      <td>1.755587e+06</td>\n",
       "      <td>29891.043478</td>\n",
       "      <td>6.507826</td>\n",
       "    </tr>\n",
       "    <tr>\n",
       "      <th>45</th>\n",
       "      <td>VA</td>\n",
       "      <td>4.903066e+06</td>\n",
       "      <td>36638.391304</td>\n",
       "      <td>6.472174</td>\n",
       "    </tr>\n",
       "    <tr>\n",
       "      <th>46</th>\n",
       "      <td>VT</td>\n",
       "      <td>4.205199e+05</td>\n",
       "      <td>39274.869565</td>\n",
       "      <td>9.196087</td>\n",
       "    </tr>\n",
       "    <tr>\n",
       "      <th>47</th>\n",
       "      <td>WA</td>\n",
       "      <td>4.010646e+06</td>\n",
       "      <td>37681.956522</td>\n",
       "      <td>5.482174</td>\n",
       "    </tr>\n",
       "    <tr>\n",
       "      <th>48</th>\n",
       "      <td>WI</td>\n",
       "      <td>3.552981e+06</td>\n",
       "      <td>33985.478261</td>\n",
       "      <td>7.619565</td>\n",
       "    </tr>\n",
       "    <tr>\n",
       "      <th>49</th>\n",
       "      <td>WV</td>\n",
       "      <td>8.913498e+05</td>\n",
       "      <td>30001.260870</td>\n",
       "      <td>11.146957</td>\n",
       "    </tr>\n",
       "    <tr>\n",
       "      <th>50</th>\n",
       "      <td>WY</td>\n",
       "      <td>3.832646e+05</td>\n",
       "      <td>35983.304348</td>\n",
       "      <td>12.449130</td>\n",
       "    </tr>\n",
       "  </tbody>\n",
       "</table>\n",
       "</div>"
      ],
      "text/plain": [
       "   State  Total Employment  Per capita Consumption  Exp_GDP_%\n",
       "0     AK      4.379371e+05            41150.347826  11.329130\n",
       "1     AL      2.553123e+06            29126.869565  10.753913\n",
       "2     AR      1.579881e+06            28250.130435  10.673043\n",
       "3     AZ      3.418561e+06            33303.347826   7.084783\n",
       "4     CA      2.141554e+07            38036.478261   5.433913\n",
       "5     CO      3.370921e+06            38332.304348   5.760870\n",
       "6     CT      2.224724e+06            42960.695652   5.486087\n",
       "7     DE      5.515645e+05            39005.347826   5.449565\n",
       "8     FL      1.083945e+07            36905.956522   6.784783\n",
       "9     GA      5.602557e+06            31910.478261   7.311304\n",
       "10    HI      8.458198e+05            36854.565217   8.235652\n",
       "11    IA      1.991257e+06            31752.217391   9.064783\n",
       "12    ID      9.287856e+05            28809.086957   9.254783\n",
       "13    IL      7.526039e+06            36303.217391   5.991304\n",
       "14    IN      3.728800e+06            31427.043478   8.945217\n",
       "15    KS      1.843683e+06            32522.260870   8.253913\n",
       "16    KY      2.411497e+06            29972.217391  10.400870\n",
       "17    LA      2.566859e+06            30590.782609  16.020870\n",
       "18    MA      4.365874e+06            44192.782609   5.436957\n",
       "19    MD      3.462340e+06            38193.173913   5.927826\n",
       "20    ME      8.145194e+05            37168.304348  10.796087\n",
       "21    MI      5.453083e+06            33494.043478   7.565652\n",
       "22    MN      3.543828e+06            37938.173913   6.814783\n",
       "23    MO      3.603156e+06            33694.173913   7.919565\n",
       "24    MS      1.533822e+06            26960.173913  12.462174\n",
       "25    MT      6.353923e+05            34391.869565  11.510435\n",
       "26    NC      5.488011e+06            31740.000000   6.983478\n",
       "27    ND      5.233342e+05            36471.347826  11.432174\n",
       "28    NE      1.252090e+06            33735.478261   8.033478\n",
       "29    NH      8.414658e+05            42245.608696   7.396087\n",
       "30    NJ      5.163630e+06            41572.391304   6.145652\n",
       "31    NM      1.065763e+06            29659.869565   8.431739\n",
       "32    NV      1.601992e+06            34562.304348   7.034783\n",
       "33    NY      1.143827e+07            38702.304348   4.531304\n",
       "34    OH      6.778883e+06            32947.478261   7.671739\n",
       "35    OK      2.175884e+06            29105.782609   9.834783\n",
       "36    OR      2.306082e+06            34270.173913   6.944348\n",
       "37    PA      7.306776e+06            36969.000000   7.207391\n",
       "38    RI      6.126568e+05            36128.000000   6.628261\n",
       "39    SC      2.538638e+06            31298.347826   9.666087\n",
       "40    SD      5.674496e+05            32941.782609   8.854783\n",
       "41    TN      3.764459e+06            31195.913043   8.307391\n",
       "42    TX      1.511892e+07            32851.000000   9.588696\n",
       "43    US      1.825363e+08            35309.608696   7.072174\n",
       "44    UT      1.755587e+06            29891.043478   6.507826\n",
       "45    VA      4.903066e+06            36638.391304   6.472174\n",
       "46    VT      4.205199e+05            39274.869565   9.196087\n",
       "47    WA      4.010646e+06            37681.956522   5.482174\n",
       "48    WI      3.552981e+06            33985.478261   7.619565\n",
       "49    WV      8.913498e+05            30001.260870  11.146957\n",
       "50    WY      3.832646e+05            35983.304348  12.449130"
      ]
     },
     "execution_count": 21,
     "metadata": {},
     "output_type": "execute_result"
    }
   ],
   "source": [
    "# Calculate average for each state\n",
    "state_averages = merged_df1.groupby('State')[average_all].mean().reset_index()\n",
    "state_averages\n"
   ]
  },
  {
   "cell_type": "markdown",
   "metadata": {},
   "source": [
    "Now lets analyze a scatter plot to see the relationship with share of expenditure of GDP and per capita consumption"
   ]
  },
  {
   "cell_type": "code",
   "execution_count": 22,
   "metadata": {},
   "outputs": [
    {
     "data": {
      "application/vnd.plotly.v1+json": {
       "config": {
        "plotlyServerURL": "https://plot.ly"
       },
       "data": [
        {
         "hovertemplate": "Energy Expenditure Share of GDP=%{x}<br>Per capita Consumption=%{y}<br>State=%{text}<extra></extra>",
         "legendgroup": "",
         "marker": {
          "color": "#636efa",
          "symbol": "circle"
         },
         "mode": "markers+text",
         "name": "",
         "orientation": "v",
         "showlegend": false,
         "text": [
          "AK",
          "AL",
          "AR",
          "AZ",
          "CA",
          "CO",
          "CT",
          "DE",
          "FL",
          "GA",
          "HI",
          "IA",
          "ID",
          "IL",
          "IN",
          "KS",
          "KY",
          "LA",
          "MA",
          "MD",
          "ME",
          "MI",
          "MN",
          "MO",
          "MS",
          "MT",
          "NC",
          "ND",
          "NE",
          "NH",
          "NJ",
          "NM",
          "NV",
          "NY",
          "OH",
          "OK",
          "OR",
          "PA",
          "RI",
          "SC",
          "SD",
          "TN",
          "TX",
          "US",
          "UT",
          "VA",
          "VT",
          "WA",
          "WI",
          "WV",
          "WY"
         ],
         "type": "scatter",
         "x": [
          11.32913043478261,
          10.753913043478262,
          10.673043478260869,
          7.084782608695652,
          5.433913043478261,
          5.760869565217392,
          5.486086956521739,
          5.449565217391305,
          6.784782608695651,
          7.311304347826087,
          8.235652173913042,
          9.064782608695653,
          9.25478260869565,
          5.9913043478260875,
          8.945217391304348,
          8.253913043478262,
          10.400869565217391,
          16.020869565217392,
          5.4369565217391305,
          5.927826086956522,
          10.796086956521739,
          7.565652173913043,
          6.814782608695652,
          7.9195652173913045,
          12.462173913043477,
          11.510434782608696,
          6.983478260869566,
          11.432173913043478,
          8.033478260869567,
          7.396086956521739,
          6.145652173913043,
          8.431739130434783,
          7.034782608695653,
          4.531304347826087,
          7.671739130434782,
          9.834782608695653,
          6.944347826086957,
          7.207391304347826,
          6.628260869565217,
          9.666086956521738,
          8.854782608695652,
          8.307391304347826,
          9.588695652173913,
          7.072173913043478,
          6.507826086956522,
          6.472173913043479,
          9.19608695652174,
          5.482173913043479,
          7.619565217391305,
          11.14695652173913,
          12.449130434782608
         ],
         "xaxis": "x",
         "y": [
          41150.34782608696,
          29126.869565217392,
          28250.130434782608,
          33303.34782608696,
          38036.47826086957,
          38332.30434782609,
          42960.69565217391,
          39005.34782608696,
          36905.95652173913,
          31910.478260869564,
          36854.565217391304,
          31752.217391304348,
          28809.08695652174,
          36303.217391304344,
          31427.043478260868,
          32522.260869565216,
          29972.217391304348,
          30590.782608695652,
          44192.782608695656,
          38193.17391304348,
          37168.30434782609,
          33494.04347826087,
          37938.17391304348,
          33694.17391304348,
          26960.17391304348,
          34391.86956521739,
          31740,
          36471.34782608696,
          33735.47826086957,
          42245.608695652176,
          41572.391304347824,
          29659.869565217392,
          34562.30434782609,
          38702.30434782609,
          32947.47826086957,
          29105.782608695652,
          34270.17391304348,
          36969,
          36128,
          31298.347826086956,
          32941.782608695656,
          31195.91304347826,
          32851,
          35309.608695652176,
          29891.043478260868,
          36638.391304347824,
          39274.86956521739,
          37681.95652173913,
          33985.47826086957,
          30001.260869565216,
          35983.30434782609
         ],
         "yaxis": "y"
        },
        {
         "hovertemplate": "<b>OLS trendline</b><br>Per capita Consumption = -898.524 * Exp_GDP_% + 42097.3<br>R<sup>2</sup>=0.256085<br><br>Energy Expenditure Share of GDP=%{x}<br>Per capita Consumption=%{y} <b>(trend)</b><extra></extra>",
         "legendgroup": "",
         "marker": {
          "color": "#636efa",
          "symbol": "circle"
         },
         "mode": "lines",
         "name": "",
         "showlegend": false,
         "type": "scatter",
         "x": [
          4.531304347826087,
          5.433913043478261,
          5.4369565217391305,
          5.449565217391305,
          5.482173913043479,
          5.486086956521739,
          5.760869565217392,
          5.927826086956522,
          5.9913043478260875,
          6.145652173913043,
          6.472173913043479,
          6.507826086956522,
          6.628260869565217,
          6.784782608695651,
          6.814782608695652,
          6.944347826086957,
          6.983478260869566,
          7.034782608695653,
          7.072173913043478,
          7.084782608695652,
          7.207391304347826,
          7.311304347826087,
          7.396086956521739,
          7.565652173913043,
          7.619565217391305,
          7.671739130434782,
          7.9195652173913045,
          8.033478260869567,
          8.235652173913042,
          8.253913043478262,
          8.307391304347826,
          8.431739130434783,
          8.854782608695652,
          8.945217391304348,
          9.064782608695653,
          9.19608695652174,
          9.25478260869565,
          9.588695652173913,
          9.666086956521738,
          9.834782608695653,
          10.400869565217391,
          10.673043478260869,
          10.753913043478262,
          10.796086956521739,
          11.14695652173913,
          11.32913043478261,
          11.432173913043478,
          11.510434782608696,
          12.449130434782608,
          12.462173913043477,
          16.020869565217392
         ],
         "xaxis": "x",
         "y": [
          38025.8215525572,
          37214.80640393711,
          37212.07176711614,
          37200.74255742924,
          37171.442877204536,
          37167.92691557757,
          36921.028276883975,
          36771.01391413344,
          36713.97720329599,
          36575.29205023235,
          36281.904585582204,
          36249.87026853651,
          36141.656782906575,
          36001.01831782794,
          35974.062612021204,
          35857.645215928336,
          35822.485599658685,
          35776.387436105135,
          35742.79046944746,
          35731.461259760574,
          35621.29446211564,
          35527.92614779955,
          35451.7469792153,
          35299.38864204678,
          35250.946504075255,
          35204.067015715715,
          34981.38944600788,
          34879.03589642288,
          34697.37787902965,
          34680.97005810381,
          34632.918582535276,
          34521.18913527837,
          34141.074617163074,
          34059.816837339866,
          33952.38467651591,
          33834.40463081106,
          33781.66520640658,
          33481.6364809055,
          33412.09857317218,
          33260.52156080966,
          32751.879112108618,
          32507.324447833,
          32434.661240875706,
          32396.76698778508,
          32081.502428567153,
          31917.814881711747,
          31825.22789220165,
          31754.908659662335,
          30911.468531593557,
          30899.748659503675,
          27702.17689097984
         ],
         "yaxis": "y"
        }
       ],
       "layout": {
        "legend": {
         "tracegroupgap": 0
        },
        "template": {
         "data": {
          "bar": [
           {
            "error_x": {
             "color": "#2a3f5f"
            },
            "error_y": {
             "color": "#2a3f5f"
            },
            "marker": {
             "line": {
              "color": "#E5ECF6",
              "width": 0.5
             },
             "pattern": {
              "fillmode": "overlay",
              "size": 10,
              "solidity": 0.2
             }
            },
            "type": "bar"
           }
          ],
          "barpolar": [
           {
            "marker": {
             "line": {
              "color": "#E5ECF6",
              "width": 0.5
             },
             "pattern": {
              "fillmode": "overlay",
              "size": 10,
              "solidity": 0.2
             }
            },
            "type": "barpolar"
           }
          ],
          "carpet": [
           {
            "aaxis": {
             "endlinecolor": "#2a3f5f",
             "gridcolor": "white",
             "linecolor": "white",
             "minorgridcolor": "white",
             "startlinecolor": "#2a3f5f"
            },
            "baxis": {
             "endlinecolor": "#2a3f5f",
             "gridcolor": "white",
             "linecolor": "white",
             "minorgridcolor": "white",
             "startlinecolor": "#2a3f5f"
            },
            "type": "carpet"
           }
          ],
          "choropleth": [
           {
            "colorbar": {
             "outlinewidth": 0,
             "ticks": ""
            },
            "type": "choropleth"
           }
          ],
          "contour": [
           {
            "colorbar": {
             "outlinewidth": 0,
             "ticks": ""
            },
            "colorscale": [
             [
              0,
              "#0d0887"
             ],
             [
              0.1111111111111111,
              "#46039f"
             ],
             [
              0.2222222222222222,
              "#7201a8"
             ],
             [
              0.3333333333333333,
              "#9c179e"
             ],
             [
              0.4444444444444444,
              "#bd3786"
             ],
             [
              0.5555555555555556,
              "#d8576b"
             ],
             [
              0.6666666666666666,
              "#ed7953"
             ],
             [
              0.7777777777777778,
              "#fb9f3a"
             ],
             [
              0.8888888888888888,
              "#fdca26"
             ],
             [
              1,
              "#f0f921"
             ]
            ],
            "type": "contour"
           }
          ],
          "contourcarpet": [
           {
            "colorbar": {
             "outlinewidth": 0,
             "ticks": ""
            },
            "type": "contourcarpet"
           }
          ],
          "heatmap": [
           {
            "colorbar": {
             "outlinewidth": 0,
             "ticks": ""
            },
            "colorscale": [
             [
              0,
              "#0d0887"
             ],
             [
              0.1111111111111111,
              "#46039f"
             ],
             [
              0.2222222222222222,
              "#7201a8"
             ],
             [
              0.3333333333333333,
              "#9c179e"
             ],
             [
              0.4444444444444444,
              "#bd3786"
             ],
             [
              0.5555555555555556,
              "#d8576b"
             ],
             [
              0.6666666666666666,
              "#ed7953"
             ],
             [
              0.7777777777777778,
              "#fb9f3a"
             ],
             [
              0.8888888888888888,
              "#fdca26"
             ],
             [
              1,
              "#f0f921"
             ]
            ],
            "type": "heatmap"
           }
          ],
          "heatmapgl": [
           {
            "colorbar": {
             "outlinewidth": 0,
             "ticks": ""
            },
            "colorscale": [
             [
              0,
              "#0d0887"
             ],
             [
              0.1111111111111111,
              "#46039f"
             ],
             [
              0.2222222222222222,
              "#7201a8"
             ],
             [
              0.3333333333333333,
              "#9c179e"
             ],
             [
              0.4444444444444444,
              "#bd3786"
             ],
             [
              0.5555555555555556,
              "#d8576b"
             ],
             [
              0.6666666666666666,
              "#ed7953"
             ],
             [
              0.7777777777777778,
              "#fb9f3a"
             ],
             [
              0.8888888888888888,
              "#fdca26"
             ],
             [
              1,
              "#f0f921"
             ]
            ],
            "type": "heatmapgl"
           }
          ],
          "histogram": [
           {
            "marker": {
             "pattern": {
              "fillmode": "overlay",
              "size": 10,
              "solidity": 0.2
             }
            },
            "type": "histogram"
           }
          ],
          "histogram2d": [
           {
            "colorbar": {
             "outlinewidth": 0,
             "ticks": ""
            },
            "colorscale": [
             [
              0,
              "#0d0887"
             ],
             [
              0.1111111111111111,
              "#46039f"
             ],
             [
              0.2222222222222222,
              "#7201a8"
             ],
             [
              0.3333333333333333,
              "#9c179e"
             ],
             [
              0.4444444444444444,
              "#bd3786"
             ],
             [
              0.5555555555555556,
              "#d8576b"
             ],
             [
              0.6666666666666666,
              "#ed7953"
             ],
             [
              0.7777777777777778,
              "#fb9f3a"
             ],
             [
              0.8888888888888888,
              "#fdca26"
             ],
             [
              1,
              "#f0f921"
             ]
            ],
            "type": "histogram2d"
           }
          ],
          "histogram2dcontour": [
           {
            "colorbar": {
             "outlinewidth": 0,
             "ticks": ""
            },
            "colorscale": [
             [
              0,
              "#0d0887"
             ],
             [
              0.1111111111111111,
              "#46039f"
             ],
             [
              0.2222222222222222,
              "#7201a8"
             ],
             [
              0.3333333333333333,
              "#9c179e"
             ],
             [
              0.4444444444444444,
              "#bd3786"
             ],
             [
              0.5555555555555556,
              "#d8576b"
             ],
             [
              0.6666666666666666,
              "#ed7953"
             ],
             [
              0.7777777777777778,
              "#fb9f3a"
             ],
             [
              0.8888888888888888,
              "#fdca26"
             ],
             [
              1,
              "#f0f921"
             ]
            ],
            "type": "histogram2dcontour"
           }
          ],
          "mesh3d": [
           {
            "colorbar": {
             "outlinewidth": 0,
             "ticks": ""
            },
            "type": "mesh3d"
           }
          ],
          "parcoords": [
           {
            "line": {
             "colorbar": {
              "outlinewidth": 0,
              "ticks": ""
             }
            },
            "type": "parcoords"
           }
          ],
          "pie": [
           {
            "automargin": true,
            "type": "pie"
           }
          ],
          "scatter": [
           {
            "fillpattern": {
             "fillmode": "overlay",
             "size": 10,
             "solidity": 0.2
            },
            "type": "scatter"
           }
          ],
          "scatter3d": [
           {
            "line": {
             "colorbar": {
              "outlinewidth": 0,
              "ticks": ""
             }
            },
            "marker": {
             "colorbar": {
              "outlinewidth": 0,
              "ticks": ""
             }
            },
            "type": "scatter3d"
           }
          ],
          "scattercarpet": [
           {
            "marker": {
             "colorbar": {
              "outlinewidth": 0,
              "ticks": ""
             }
            },
            "type": "scattercarpet"
           }
          ],
          "scattergeo": [
           {
            "marker": {
             "colorbar": {
              "outlinewidth": 0,
              "ticks": ""
             }
            },
            "type": "scattergeo"
           }
          ],
          "scattergl": [
           {
            "marker": {
             "colorbar": {
              "outlinewidth": 0,
              "ticks": ""
             }
            },
            "type": "scattergl"
           }
          ],
          "scattermapbox": [
           {
            "marker": {
             "colorbar": {
              "outlinewidth": 0,
              "ticks": ""
             }
            },
            "type": "scattermapbox"
           }
          ],
          "scatterpolar": [
           {
            "marker": {
             "colorbar": {
              "outlinewidth": 0,
              "ticks": ""
             }
            },
            "type": "scatterpolar"
           }
          ],
          "scatterpolargl": [
           {
            "marker": {
             "colorbar": {
              "outlinewidth": 0,
              "ticks": ""
             }
            },
            "type": "scatterpolargl"
           }
          ],
          "scatterternary": [
           {
            "marker": {
             "colorbar": {
              "outlinewidth": 0,
              "ticks": ""
             }
            },
            "type": "scatterternary"
           }
          ],
          "surface": [
           {
            "colorbar": {
             "outlinewidth": 0,
             "ticks": ""
            },
            "colorscale": [
             [
              0,
              "#0d0887"
             ],
             [
              0.1111111111111111,
              "#46039f"
             ],
             [
              0.2222222222222222,
              "#7201a8"
             ],
             [
              0.3333333333333333,
              "#9c179e"
             ],
             [
              0.4444444444444444,
              "#bd3786"
             ],
             [
              0.5555555555555556,
              "#d8576b"
             ],
             [
              0.6666666666666666,
              "#ed7953"
             ],
             [
              0.7777777777777778,
              "#fb9f3a"
             ],
             [
              0.8888888888888888,
              "#fdca26"
             ],
             [
              1,
              "#f0f921"
             ]
            ],
            "type": "surface"
           }
          ],
          "table": [
           {
            "cells": {
             "fill": {
              "color": "#EBF0F8"
             },
             "line": {
              "color": "white"
             }
            },
            "header": {
             "fill": {
              "color": "#C8D4E3"
             },
             "line": {
              "color": "white"
             }
            },
            "type": "table"
           }
          ]
         },
         "layout": {
          "annotationdefaults": {
           "arrowcolor": "#2a3f5f",
           "arrowhead": 0,
           "arrowwidth": 1
          },
          "autotypenumbers": "strict",
          "coloraxis": {
           "colorbar": {
            "outlinewidth": 0,
            "ticks": ""
           }
          },
          "colorscale": {
           "diverging": [
            [
             0,
             "#8e0152"
            ],
            [
             0.1,
             "#c51b7d"
            ],
            [
             0.2,
             "#de77ae"
            ],
            [
             0.3,
             "#f1b6da"
            ],
            [
             0.4,
             "#fde0ef"
            ],
            [
             0.5,
             "#f7f7f7"
            ],
            [
             0.6,
             "#e6f5d0"
            ],
            [
             0.7,
             "#b8e186"
            ],
            [
             0.8,
             "#7fbc41"
            ],
            [
             0.9,
             "#4d9221"
            ],
            [
             1,
             "#276419"
            ]
           ],
           "sequential": [
            [
             0,
             "#0d0887"
            ],
            [
             0.1111111111111111,
             "#46039f"
            ],
            [
             0.2222222222222222,
             "#7201a8"
            ],
            [
             0.3333333333333333,
             "#9c179e"
            ],
            [
             0.4444444444444444,
             "#bd3786"
            ],
            [
             0.5555555555555556,
             "#d8576b"
            ],
            [
             0.6666666666666666,
             "#ed7953"
            ],
            [
             0.7777777777777778,
             "#fb9f3a"
            ],
            [
             0.8888888888888888,
             "#fdca26"
            ],
            [
             1,
             "#f0f921"
            ]
           ],
           "sequentialminus": [
            [
             0,
             "#0d0887"
            ],
            [
             0.1111111111111111,
             "#46039f"
            ],
            [
             0.2222222222222222,
             "#7201a8"
            ],
            [
             0.3333333333333333,
             "#9c179e"
            ],
            [
             0.4444444444444444,
             "#bd3786"
            ],
            [
             0.5555555555555556,
             "#d8576b"
            ],
            [
             0.6666666666666666,
             "#ed7953"
            ],
            [
             0.7777777777777778,
             "#fb9f3a"
            ],
            [
             0.8888888888888888,
             "#fdca26"
            ],
            [
             1,
             "#f0f921"
            ]
           ]
          },
          "colorway": [
           "#636efa",
           "#EF553B",
           "#00cc96",
           "#ab63fa",
           "#FFA15A",
           "#19d3f3",
           "#FF6692",
           "#B6E880",
           "#FF97FF",
           "#FECB52"
          ],
          "font": {
           "color": "#2a3f5f"
          },
          "geo": {
           "bgcolor": "white",
           "lakecolor": "white",
           "landcolor": "#E5ECF6",
           "showlakes": true,
           "showland": true,
           "subunitcolor": "white"
          },
          "hoverlabel": {
           "align": "left"
          },
          "hovermode": "closest",
          "mapbox": {
           "style": "light"
          },
          "paper_bgcolor": "white",
          "plot_bgcolor": "#E5ECF6",
          "polar": {
           "angularaxis": {
            "gridcolor": "white",
            "linecolor": "white",
            "ticks": ""
           },
           "bgcolor": "#E5ECF6",
           "radialaxis": {
            "gridcolor": "white",
            "linecolor": "white",
            "ticks": ""
           }
          },
          "scene": {
           "xaxis": {
            "backgroundcolor": "#E5ECF6",
            "gridcolor": "white",
            "gridwidth": 2,
            "linecolor": "white",
            "showbackground": true,
            "ticks": "",
            "zerolinecolor": "white"
           },
           "yaxis": {
            "backgroundcolor": "#E5ECF6",
            "gridcolor": "white",
            "gridwidth": 2,
            "linecolor": "white",
            "showbackground": true,
            "ticks": "",
            "zerolinecolor": "white"
           },
           "zaxis": {
            "backgroundcolor": "#E5ECF6",
            "gridcolor": "white",
            "gridwidth": 2,
            "linecolor": "white",
            "showbackground": true,
            "ticks": "",
            "zerolinecolor": "white"
           }
          },
          "shapedefaults": {
           "line": {
            "color": "#2a3f5f"
           }
          },
          "ternary": {
           "aaxis": {
            "gridcolor": "white",
            "linecolor": "white",
            "ticks": ""
           },
           "baxis": {
            "gridcolor": "white",
            "linecolor": "white",
            "ticks": ""
           },
           "bgcolor": "#E5ECF6",
           "caxis": {
            "gridcolor": "white",
            "linecolor": "white",
            "ticks": ""
           }
          },
          "title": {
           "x": 0.05
          },
          "xaxis": {
           "automargin": true,
           "gridcolor": "white",
           "linecolor": "white",
           "ticks": "",
           "title": {
            "standoff": 15
           },
           "zerolinecolor": "white",
           "zerolinewidth": 2
          },
          "yaxis": {
           "automargin": true,
           "gridcolor": "white",
           "linecolor": "white",
           "ticks": "",
           "title": {
            "standoff": 15
           },
           "zerolinecolor": "white",
           "zerolinewidth": 2
          }
         }
        },
        "title": {
         "text": "Scatter plot of Per capita Consumption & Energy Expenditure Share of GDP"
        },
        "xaxis": {
         "anchor": "y",
         "domain": [
          0,
          1
         ],
         "title": {
          "text": "Energy Expenditure Share of GDP"
         }
        },
        "yaxis": {
         "anchor": "x",
         "domain": [
          0,
          1
         ],
         "title": {
          "text": "Per capita Consumption"
         }
        }
       }
      },
      "text/html": [
       "<div>                            <div id=\"61e57a97-1f81-4eb2-bab3-4fb3745b31fd\" class=\"plotly-graph-div\" style=\"height:525px; width:100%;\"></div>            <script type=\"text/javascript\">                require([\"plotly\"], function(Plotly) {                    window.PLOTLYENV=window.PLOTLYENV || {};                                    if (document.getElementById(\"61e57a97-1f81-4eb2-bab3-4fb3745b31fd\")) {                    Plotly.newPlot(                        \"61e57a97-1f81-4eb2-bab3-4fb3745b31fd\",                        [{\"hovertemplate\":\"Energy Expenditure Share of GDP=%{x}\\u003cbr\\u003ePer capita Consumption=%{y}\\u003cbr\\u003eState=%{text}\\u003cextra\\u003e\\u003c\\u002fextra\\u003e\",\"legendgroup\":\"\",\"marker\":{\"color\":\"#636efa\",\"symbol\":\"circle\"},\"mode\":\"markers+text\",\"name\":\"\",\"orientation\":\"v\",\"showlegend\":false,\"text\":[\"AK\",\"AL\",\"AR\",\"AZ\",\"CA\",\"CO\",\"CT\",\"DE\",\"FL\",\"GA\",\"HI\",\"IA\",\"ID\",\"IL\",\"IN\",\"KS\",\"KY\",\"LA\",\"MA\",\"MD\",\"ME\",\"MI\",\"MN\",\"MO\",\"MS\",\"MT\",\"NC\",\"ND\",\"NE\",\"NH\",\"NJ\",\"NM\",\"NV\",\"NY\",\"OH\",\"OK\",\"OR\",\"PA\",\"RI\",\"SC\",\"SD\",\"TN\",\"TX\",\"US\",\"UT\",\"VA\",\"VT\",\"WA\",\"WI\",\"WV\",\"WY\"],\"x\":[11.32913043478261,10.753913043478262,10.673043478260869,7.084782608695652,5.433913043478261,5.760869565217392,5.486086956521739,5.449565217391305,6.784782608695651,7.311304347826087,8.235652173913042,9.064782608695653,9.25478260869565,5.9913043478260875,8.945217391304348,8.253913043478262,10.400869565217391,16.020869565217392,5.4369565217391305,5.927826086956522,10.796086956521739,7.565652173913043,6.814782608695652,7.9195652173913045,12.462173913043477,11.510434782608696,6.983478260869566,11.432173913043478,8.033478260869567,7.396086956521739,6.145652173913043,8.431739130434783,7.034782608695653,4.531304347826087,7.671739130434782,9.834782608695653,6.944347826086957,7.207391304347826,6.628260869565217,9.666086956521738,8.854782608695652,8.307391304347826,9.588695652173913,7.072173913043478,6.507826086956522,6.472173913043479,9.19608695652174,5.482173913043479,7.619565217391305,11.14695652173913,12.449130434782608],\"xaxis\":\"x\",\"y\":[41150.34782608696,29126.869565217392,28250.130434782608,33303.34782608696,38036.47826086957,38332.30434782609,42960.69565217391,39005.34782608696,36905.95652173913,31910.478260869564,36854.565217391304,31752.217391304348,28809.08695652174,36303.217391304344,31427.043478260868,32522.260869565216,29972.217391304348,30590.782608695652,44192.782608695656,38193.17391304348,37168.30434782609,33494.04347826087,37938.17391304348,33694.17391304348,26960.17391304348,34391.86956521739,31740.0,36471.34782608696,33735.47826086957,42245.608695652176,41572.391304347824,29659.869565217392,34562.30434782609,38702.30434782609,32947.47826086957,29105.782608695652,34270.17391304348,36969.0,36128.0,31298.347826086956,32941.782608695656,31195.91304347826,32851.0,35309.608695652176,29891.043478260868,36638.391304347824,39274.86956521739,37681.95652173913,33985.47826086957,30001.260869565216,35983.30434782609],\"yaxis\":\"y\",\"type\":\"scatter\"},{\"hovertemplate\":\"\\u003cb\\u003eOLS trendline\\u003c\\u002fb\\u003e\\u003cbr\\u003ePer capita Consumption = -898.524 * Exp_GDP_% + 42097.3\\u003cbr\\u003eR\\u003csup\\u003e2\\u003c\\u002fsup\\u003e=0.256085\\u003cbr\\u003e\\u003cbr\\u003eEnergy Expenditure Share of GDP=%{x}\\u003cbr\\u003ePer capita Consumption=%{y} \\u003cb\\u003e(trend)\\u003c\\u002fb\\u003e\\u003cextra\\u003e\\u003c\\u002fextra\\u003e\",\"legendgroup\":\"\",\"marker\":{\"color\":\"#636efa\",\"symbol\":\"circle\"},\"mode\":\"lines\",\"name\":\"\",\"showlegend\":false,\"x\":[4.531304347826087,5.433913043478261,5.4369565217391305,5.449565217391305,5.482173913043479,5.486086956521739,5.760869565217392,5.927826086956522,5.9913043478260875,6.145652173913043,6.472173913043479,6.507826086956522,6.628260869565217,6.784782608695651,6.814782608695652,6.944347826086957,6.983478260869566,7.034782608695653,7.072173913043478,7.084782608695652,7.207391304347826,7.311304347826087,7.396086956521739,7.565652173913043,7.619565217391305,7.671739130434782,7.9195652173913045,8.033478260869567,8.235652173913042,8.253913043478262,8.307391304347826,8.431739130434783,8.854782608695652,8.945217391304348,9.064782608695653,9.19608695652174,9.25478260869565,9.588695652173913,9.666086956521738,9.834782608695653,10.400869565217391,10.673043478260869,10.753913043478262,10.796086956521739,11.14695652173913,11.32913043478261,11.432173913043478,11.510434782608696,12.449130434782608,12.462173913043477,16.020869565217392],\"xaxis\":\"x\",\"y\":[38025.8215525572,37214.80640393711,37212.07176711614,37200.74255742924,37171.442877204536,37167.92691557757,36921.028276883975,36771.01391413344,36713.97720329599,36575.29205023235,36281.904585582204,36249.87026853651,36141.656782906575,36001.01831782794,35974.062612021204,35857.645215928336,35822.485599658685,35776.387436105135,35742.79046944746,35731.461259760574,35621.29446211564,35527.92614779955,35451.7469792153,35299.38864204678,35250.946504075255,35204.067015715715,34981.38944600788,34879.03589642288,34697.37787902965,34680.97005810381,34632.918582535276,34521.18913527837,34141.074617163074,34059.816837339866,33952.38467651591,33834.40463081106,33781.66520640658,33481.6364809055,33412.09857317218,33260.52156080966,32751.879112108618,32507.324447833,32434.661240875706,32396.76698778508,32081.502428567153,31917.814881711747,31825.22789220165,31754.908659662335,30911.468531593557,30899.748659503675,27702.17689097984],\"yaxis\":\"y\",\"type\":\"scatter\"}],                        {\"template\":{\"data\":{\"histogram2dcontour\":[{\"type\":\"histogram2dcontour\",\"colorbar\":{\"outlinewidth\":0,\"ticks\":\"\"},\"colorscale\":[[0.0,\"#0d0887\"],[0.1111111111111111,\"#46039f\"],[0.2222222222222222,\"#7201a8\"],[0.3333333333333333,\"#9c179e\"],[0.4444444444444444,\"#bd3786\"],[0.5555555555555556,\"#d8576b\"],[0.6666666666666666,\"#ed7953\"],[0.7777777777777778,\"#fb9f3a\"],[0.8888888888888888,\"#fdca26\"],[1.0,\"#f0f921\"]]}],\"choropleth\":[{\"type\":\"choropleth\",\"colorbar\":{\"outlinewidth\":0,\"ticks\":\"\"}}],\"histogram2d\":[{\"type\":\"histogram2d\",\"colorbar\":{\"outlinewidth\":0,\"ticks\":\"\"},\"colorscale\":[[0.0,\"#0d0887\"],[0.1111111111111111,\"#46039f\"],[0.2222222222222222,\"#7201a8\"],[0.3333333333333333,\"#9c179e\"],[0.4444444444444444,\"#bd3786\"],[0.5555555555555556,\"#d8576b\"],[0.6666666666666666,\"#ed7953\"],[0.7777777777777778,\"#fb9f3a\"],[0.8888888888888888,\"#fdca26\"],[1.0,\"#f0f921\"]]}],\"heatmap\":[{\"type\":\"heatmap\",\"colorbar\":{\"outlinewidth\":0,\"ticks\":\"\"},\"colorscale\":[[0.0,\"#0d0887\"],[0.1111111111111111,\"#46039f\"],[0.2222222222222222,\"#7201a8\"],[0.3333333333333333,\"#9c179e\"],[0.4444444444444444,\"#bd3786\"],[0.5555555555555556,\"#d8576b\"],[0.6666666666666666,\"#ed7953\"],[0.7777777777777778,\"#fb9f3a\"],[0.8888888888888888,\"#fdca26\"],[1.0,\"#f0f921\"]]}],\"heatmapgl\":[{\"type\":\"heatmapgl\",\"colorbar\":{\"outlinewidth\":0,\"ticks\":\"\"},\"colorscale\":[[0.0,\"#0d0887\"],[0.1111111111111111,\"#46039f\"],[0.2222222222222222,\"#7201a8\"],[0.3333333333333333,\"#9c179e\"],[0.4444444444444444,\"#bd3786\"],[0.5555555555555556,\"#d8576b\"],[0.6666666666666666,\"#ed7953\"],[0.7777777777777778,\"#fb9f3a\"],[0.8888888888888888,\"#fdca26\"],[1.0,\"#f0f921\"]]}],\"contourcarpet\":[{\"type\":\"contourcarpet\",\"colorbar\":{\"outlinewidth\":0,\"ticks\":\"\"}}],\"contour\":[{\"type\":\"contour\",\"colorbar\":{\"outlinewidth\":0,\"ticks\":\"\"},\"colorscale\":[[0.0,\"#0d0887\"],[0.1111111111111111,\"#46039f\"],[0.2222222222222222,\"#7201a8\"],[0.3333333333333333,\"#9c179e\"],[0.4444444444444444,\"#bd3786\"],[0.5555555555555556,\"#d8576b\"],[0.6666666666666666,\"#ed7953\"],[0.7777777777777778,\"#fb9f3a\"],[0.8888888888888888,\"#fdca26\"],[1.0,\"#f0f921\"]]}],\"surface\":[{\"type\":\"surface\",\"colorbar\":{\"outlinewidth\":0,\"ticks\":\"\"},\"colorscale\":[[0.0,\"#0d0887\"],[0.1111111111111111,\"#46039f\"],[0.2222222222222222,\"#7201a8\"],[0.3333333333333333,\"#9c179e\"],[0.4444444444444444,\"#bd3786\"],[0.5555555555555556,\"#d8576b\"],[0.6666666666666666,\"#ed7953\"],[0.7777777777777778,\"#fb9f3a\"],[0.8888888888888888,\"#fdca26\"],[1.0,\"#f0f921\"]]}],\"mesh3d\":[{\"type\":\"mesh3d\",\"colorbar\":{\"outlinewidth\":0,\"ticks\":\"\"}}],\"scatter\":[{\"fillpattern\":{\"fillmode\":\"overlay\",\"size\":10,\"solidity\":0.2},\"type\":\"scatter\"}],\"parcoords\":[{\"type\":\"parcoords\",\"line\":{\"colorbar\":{\"outlinewidth\":0,\"ticks\":\"\"}}}],\"scatterpolargl\":[{\"type\":\"scatterpolargl\",\"marker\":{\"colorbar\":{\"outlinewidth\":0,\"ticks\":\"\"}}}],\"bar\":[{\"error_x\":{\"color\":\"#2a3f5f\"},\"error_y\":{\"color\":\"#2a3f5f\"},\"marker\":{\"line\":{\"color\":\"#E5ECF6\",\"width\":0.5},\"pattern\":{\"fillmode\":\"overlay\",\"size\":10,\"solidity\":0.2}},\"type\":\"bar\"}],\"scattergeo\":[{\"type\":\"scattergeo\",\"marker\":{\"colorbar\":{\"outlinewidth\":0,\"ticks\":\"\"}}}],\"scatterpolar\":[{\"type\":\"scatterpolar\",\"marker\":{\"colorbar\":{\"outlinewidth\":0,\"ticks\":\"\"}}}],\"histogram\":[{\"marker\":{\"pattern\":{\"fillmode\":\"overlay\",\"size\":10,\"solidity\":0.2}},\"type\":\"histogram\"}],\"scattergl\":[{\"type\":\"scattergl\",\"marker\":{\"colorbar\":{\"outlinewidth\":0,\"ticks\":\"\"}}}],\"scatter3d\":[{\"type\":\"scatter3d\",\"line\":{\"colorbar\":{\"outlinewidth\":0,\"ticks\":\"\"}},\"marker\":{\"colorbar\":{\"outlinewidth\":0,\"ticks\":\"\"}}}],\"scattermapbox\":[{\"type\":\"scattermapbox\",\"marker\":{\"colorbar\":{\"outlinewidth\":0,\"ticks\":\"\"}}}],\"scatterternary\":[{\"type\":\"scatterternary\",\"marker\":{\"colorbar\":{\"outlinewidth\":0,\"ticks\":\"\"}}}],\"scattercarpet\":[{\"type\":\"scattercarpet\",\"marker\":{\"colorbar\":{\"outlinewidth\":0,\"ticks\":\"\"}}}],\"carpet\":[{\"aaxis\":{\"endlinecolor\":\"#2a3f5f\",\"gridcolor\":\"white\",\"linecolor\":\"white\",\"minorgridcolor\":\"white\",\"startlinecolor\":\"#2a3f5f\"},\"baxis\":{\"endlinecolor\":\"#2a3f5f\",\"gridcolor\":\"white\",\"linecolor\":\"white\",\"minorgridcolor\":\"white\",\"startlinecolor\":\"#2a3f5f\"},\"type\":\"carpet\"}],\"table\":[{\"cells\":{\"fill\":{\"color\":\"#EBF0F8\"},\"line\":{\"color\":\"white\"}},\"header\":{\"fill\":{\"color\":\"#C8D4E3\"},\"line\":{\"color\":\"white\"}},\"type\":\"table\"}],\"barpolar\":[{\"marker\":{\"line\":{\"color\":\"#E5ECF6\",\"width\":0.5},\"pattern\":{\"fillmode\":\"overlay\",\"size\":10,\"solidity\":0.2}},\"type\":\"barpolar\"}],\"pie\":[{\"automargin\":true,\"type\":\"pie\"}]},\"layout\":{\"autotypenumbers\":\"strict\",\"colorway\":[\"#636efa\",\"#EF553B\",\"#00cc96\",\"#ab63fa\",\"#FFA15A\",\"#19d3f3\",\"#FF6692\",\"#B6E880\",\"#FF97FF\",\"#FECB52\"],\"font\":{\"color\":\"#2a3f5f\"},\"hovermode\":\"closest\",\"hoverlabel\":{\"align\":\"left\"},\"paper_bgcolor\":\"white\",\"plot_bgcolor\":\"#E5ECF6\",\"polar\":{\"bgcolor\":\"#E5ECF6\",\"angularaxis\":{\"gridcolor\":\"white\",\"linecolor\":\"white\",\"ticks\":\"\"},\"radialaxis\":{\"gridcolor\":\"white\",\"linecolor\":\"white\",\"ticks\":\"\"}},\"ternary\":{\"bgcolor\":\"#E5ECF6\",\"aaxis\":{\"gridcolor\":\"white\",\"linecolor\":\"white\",\"ticks\":\"\"},\"baxis\":{\"gridcolor\":\"white\",\"linecolor\":\"white\",\"ticks\":\"\"},\"caxis\":{\"gridcolor\":\"white\",\"linecolor\":\"white\",\"ticks\":\"\"}},\"coloraxis\":{\"colorbar\":{\"outlinewidth\":0,\"ticks\":\"\"}},\"colorscale\":{\"sequential\":[[0.0,\"#0d0887\"],[0.1111111111111111,\"#46039f\"],[0.2222222222222222,\"#7201a8\"],[0.3333333333333333,\"#9c179e\"],[0.4444444444444444,\"#bd3786\"],[0.5555555555555556,\"#d8576b\"],[0.6666666666666666,\"#ed7953\"],[0.7777777777777778,\"#fb9f3a\"],[0.8888888888888888,\"#fdca26\"],[1.0,\"#f0f921\"]],\"sequentialminus\":[[0.0,\"#0d0887\"],[0.1111111111111111,\"#46039f\"],[0.2222222222222222,\"#7201a8\"],[0.3333333333333333,\"#9c179e\"],[0.4444444444444444,\"#bd3786\"],[0.5555555555555556,\"#d8576b\"],[0.6666666666666666,\"#ed7953\"],[0.7777777777777778,\"#fb9f3a\"],[0.8888888888888888,\"#fdca26\"],[1.0,\"#f0f921\"]],\"diverging\":[[0,\"#8e0152\"],[0.1,\"#c51b7d\"],[0.2,\"#de77ae\"],[0.3,\"#f1b6da\"],[0.4,\"#fde0ef\"],[0.5,\"#f7f7f7\"],[0.6,\"#e6f5d0\"],[0.7,\"#b8e186\"],[0.8,\"#7fbc41\"],[0.9,\"#4d9221\"],[1,\"#276419\"]]},\"xaxis\":{\"gridcolor\":\"white\",\"linecolor\":\"white\",\"ticks\":\"\",\"title\":{\"standoff\":15},\"zerolinecolor\":\"white\",\"automargin\":true,\"zerolinewidth\":2},\"yaxis\":{\"gridcolor\":\"white\",\"linecolor\":\"white\",\"ticks\":\"\",\"title\":{\"standoff\":15},\"zerolinecolor\":\"white\",\"automargin\":true,\"zerolinewidth\":2},\"scene\":{\"xaxis\":{\"backgroundcolor\":\"#E5ECF6\",\"gridcolor\":\"white\",\"linecolor\":\"white\",\"showbackground\":true,\"ticks\":\"\",\"zerolinecolor\":\"white\",\"gridwidth\":2},\"yaxis\":{\"backgroundcolor\":\"#E5ECF6\",\"gridcolor\":\"white\",\"linecolor\":\"white\",\"showbackground\":true,\"ticks\":\"\",\"zerolinecolor\":\"white\",\"gridwidth\":2},\"zaxis\":{\"backgroundcolor\":\"#E5ECF6\",\"gridcolor\":\"white\",\"linecolor\":\"white\",\"showbackground\":true,\"ticks\":\"\",\"zerolinecolor\":\"white\",\"gridwidth\":2}},\"shapedefaults\":{\"line\":{\"color\":\"#2a3f5f\"}},\"annotationdefaults\":{\"arrowcolor\":\"#2a3f5f\",\"arrowhead\":0,\"arrowwidth\":1},\"geo\":{\"bgcolor\":\"white\",\"landcolor\":\"#E5ECF6\",\"subunitcolor\":\"white\",\"showland\":true,\"showlakes\":true,\"lakecolor\":\"white\"},\"title\":{\"x\":0.05},\"mapbox\":{\"style\":\"light\"}}},\"xaxis\":{\"anchor\":\"y\",\"domain\":[0.0,1.0],\"title\":{\"text\":\"Energy Expenditure Share of GDP\"}},\"yaxis\":{\"anchor\":\"x\",\"domain\":[0.0,1.0],\"title\":{\"text\":\"Per capita Consumption\"}},\"legend\":{\"tracegroupgap\":0},\"title\":{\"text\":\"Scatter plot of Per capita Consumption & Energy Expenditure Share of GDP\"}},                        {\"responsive\": true}                    ).then(function(){\n",
       "                            \n",
       "var gd = document.getElementById('61e57a97-1f81-4eb2-bab3-4fb3745b31fd');\n",
       "var x = new MutationObserver(function (mutations, observer) {{\n",
       "        var display = window.getComputedStyle(gd).display;\n",
       "        if (!display || display === 'none') {{\n",
       "            console.log([gd, 'removed!']);\n",
       "            Plotly.purge(gd);\n",
       "            observer.disconnect();\n",
       "        }}\n",
       "}});\n",
       "\n",
       "// Listen for the removal of the full notebook cells\n",
       "var notebookContainer = gd.closest('#notebook-container');\n",
       "if (notebookContainer) {{\n",
       "    x.observe(notebookContainer, {childList: true});\n",
       "}}\n",
       "\n",
       "// Listen for the clearing of the current output cell\n",
       "var outputEl = gd.closest('.output');\n",
       "if (outputEl) {{\n",
       "    x.observe(outputEl, {childList: true});\n",
       "}}\n",
       "\n",
       "                        })                };                });            </script>        </div>"
      ]
     },
     "metadata": {},
     "output_type": "display_data"
    }
   ],
   "source": [
    "fig_scatter = px.scatter(state_averages,\n",
    "            x=\"Exp_GDP_%\",\n",
    "            y=\"Per capita Consumption\",\n",
    "            title=\"Scatter plot of Per capita Consumption & Energy Expenditure Share of GDP\",\n",
    "            labels={'Per capita Consumption in $': 'Per capita Consumption', 'Exp_GDP_%': 'Energy Expenditure Share of GDP'},\n",
    "            trendline=\"ols\",\n",
    "            text='State')\n",
    "\n",
    "fig_scatter.show()"
   ]
  },
  {
   "cell_type": "markdown",
   "metadata": {},
   "source": [
    "A negative correlation is observed between average per capita consumption and energy expenditure share of GDP across the majority of states. This finding supports the notion that higher levels of consumption may be associated with increased energy efficiency. However, outliers such as Arkansas and Maine suggest that it is not true for all states."
   ]
  },
  {
   "cell_type": "markdown",
   "metadata": {},
   "source": [
    "A similar graphical analysis can be done for employment and share of GDP"
   ]
  },
  {
   "cell_type": "code",
   "execution_count": null,
   "metadata": {},
   "outputs": [
    {
     "data": {
      "application/vnd.plotly.v1+json": {
       "config": {
        "plotlyServerURL": "https://plot.ly"
       },
       "data": [
        {
         "hovertemplate": "Energy Expenditure Share of GDP=%{x}<br>Total Employment=%{y}<br>State=%{text}<extra></extra>",
         "legendgroup": "",
         "marker": {
          "color": "#636efa",
          "symbol": "circle"
         },
         "mode": "markers+text",
         "name": "",
         "orientation": "v",
         "showlegend": false,
         "text": [
          "AK",
          "AL",
          "AR",
          "AZ",
          "CA",
          "CO",
          "CT",
          "DE",
          "FL",
          "GA",
          "HI",
          "IA",
          "ID",
          "IL",
          "IN",
          "KS",
          "KY",
          "LA",
          "MA",
          "MD",
          "ME",
          "MI",
          "MN",
          "MO",
          "MS",
          "MT",
          "NC",
          "ND",
          "NE",
          "NH",
          "NJ",
          "NM",
          "NV",
          "NY",
          "OH",
          "OK",
          "OR",
          "PA",
          "RI",
          "SC",
          "SD",
          "TN",
          "TX",
          "UT",
          "VA",
          "VT",
          "WA",
          "WI",
          "WV",
          "WY"
         ],
         "type": "scatter",
         "x": [
          11.32913043478261,
          10.753913043478262,
          10.673043478260869,
          7.084782608695652,
          5.433913043478261,
          5.760869565217392,
          5.486086956521739,
          5.449565217391305,
          6.784782608695651,
          7.311304347826087,
          8.235652173913042,
          9.064782608695653,
          9.25478260869565,
          5.9913043478260875,
          8.945217391304348,
          8.253913043478262,
          10.400869565217391,
          16.020869565217392,
          5.4369565217391305,
          5.927826086956522,
          10.796086956521739,
          7.565652173913043,
          6.814782608695652,
          7.9195652173913045,
          12.462173913043477,
          11.510434782608696,
          6.983478260869566,
          11.432173913043478,
          8.033478260869567,
          7.396086956521739,
          6.145652173913043,
          8.431739130434783,
          7.034782608695653,
          4.531304347826087,
          7.671739130434782,
          9.834782608695653,
          6.944347826086957,
          7.207391304347826,
          6.628260869565217,
          9.666086956521738,
          8.854782608695652,
          8.307391304347826,
          9.588695652173913,
          6.507826086956522,
          6.472173913043479,
          9.19608695652174,
          5.482173913043479,
          7.619565217391305,
          11.14695652173913,
          12.449130434782608
         ],
         "xaxis": "x",
         "y": [
          437937.0869565217,
          2553123.434782609,
          1579881.4347826086,
          3418561.0434782607,
          21415544.913043477,
          3370920.913043478,
          2224724.304347826,
          551564.4782608695,
          10839449.391304348,
          5602557.260869565,
          845819.8260869565,
          1991256.8260869565,
          928785.6086956522,
          7526039,
          3728799.8260869565,
          1843682.608695652,
          2411496.652173913,
          2566858.5217391304,
          4365874.217391305,
          3462340.304347826,
          814519.3913043478,
          5453083.043478261,
          3543828,
          3603156.4782608696,
          1533822.0869565217,
          635392.3478260869,
          5488011.130434782,
          523334.17391304346,
          1252090.3043478262,
          841465.8260869565,
          5163629.782608695,
          1065763.043478261,
          1601992.3043478262,
          11438274.304347826,
          6778882.695652174,
          2175884.2608695654,
          2306082.086956522,
          7306776.478260869,
          612656.8260869565,
          2538637.6086956523,
          567449.5652173914,
          3764458.6086956523,
          15118922.956521738,
          1755586.7826086956,
          4903066.0869565215,
          420519.9130434783,
          4010645.695652174,
          3552980.7391304346,
          891349.7826086957,
          383264.5652173913
         ],
         "yaxis": "y"
        },
        {
         "hovertemplate": "<b>OLS trendline</b><br>Total Employment = -651604 * Exp_GDP_% + 9.03255e+06<br>R<sup>2</sup>=0.144653<br><br>Energy Expenditure Share of GDP=%{x}<br>Total Employment=%{y} <b>(trend)</b><extra></extra>",
         "legendgroup": "",
         "marker": {
          "color": "#636efa",
          "symbol": "circle"
         },
         "mode": "lines",
         "name": "",
         "showlegend": false,
         "type": "scatter",
         "x": [
          4.531304347826087,
          5.433913043478261,
          5.4369565217391305,
          5.449565217391305,
          5.482173913043479,
          5.486086956521739,
          5.760869565217392,
          5.927826086956522,
          5.9913043478260875,
          6.145652173913043,
          6.472173913043479,
          6.507826086956522,
          6.628260869565217,
          6.784782608695651,
          6.814782608695652,
          6.944347826086957,
          6.983478260869566,
          7.034782608695653,
          7.084782608695652,
          7.207391304347826,
          7.311304347826087,
          7.396086956521739,
          7.565652173913043,
          7.619565217391305,
          7.671739130434782,
          7.9195652173913045,
          8.033478260869567,
          8.235652173913042,
          8.253913043478262,
          8.307391304347826,
          8.431739130434783,
          8.854782608695652,
          8.945217391304348,
          9.064782608695653,
          9.19608695652174,
          9.25478260869565,
          9.588695652173913,
          9.666086956521738,
          9.834782608695653,
          10.400869565217391,
          10.673043478260869,
          10.753913043478262,
          10.796086956521739,
          11.14695652173913,
          11.32913043478261,
          11.432173913043478,
          11.510434782608696,
          12.449130434782608,
          12.462173913043477,
          16.020869565217392
         ],
         "xaxis": "x",
         "y": [
          6079933.665646281,
          5491790.312365059,
          5489807.17003704,
          5481591.294678101,
          5460343.341163606,
          5457793.586741867,
          5278744.165126389,
          5169954.643132174,
          5128591.960290624,
          5028018.3136553485,
          4815255.472463537,
          4792024.376621023,
          4713548.601640821,
          4611558.4247712465,
          4592010.30753791,
          4507585.1055736495,
          4482087.561356256,
          4448657.447826783,
          4416077.252437891,
          4336184.9472233895,
          4268474.802023866,
          4213230.122886179,
          4102740.7646108046,
          4067610.814800173,
          4033614.0891769817,
          3872129.642466819,
          3797903.4581895154,
          3666166.146399648,
          3654267.2924315287,
          3619420.6486677583,
          3538395.119265816,
          3262738.3356711017,
          3203810.6779242344,
          3125901.5150377527,
          3040343.0888860533,
          3002096.772559963,
          2784517.728571533,
          2734089.2522304654,
          2624166.5060488107,
          2255302.0330371773,
          2077952.4477028595,
          2025257.5229869103,
          1997776.8364414973,
          1769148.8566255318,
          1650443.6229912192,
          1583300.0898854146,
          1532305.0014506262,
          920647.2462800303,
          912148.0648742327,
          -1406711.9286743253
         ],
         "yaxis": "y"
        }
       ],
       "layout": {
        "legend": {
         "tracegroupgap": 0
        },
        "template": {
         "data": {
          "bar": [
           {
            "error_x": {
             "color": "#2a3f5f"
            },
            "error_y": {
             "color": "#2a3f5f"
            },
            "marker": {
             "line": {
              "color": "#E5ECF6",
              "width": 0.5
             },
             "pattern": {
              "fillmode": "overlay",
              "size": 10,
              "solidity": 0.2
             }
            },
            "type": "bar"
           }
          ],
          "barpolar": [
           {
            "marker": {
             "line": {
              "color": "#E5ECF6",
              "width": 0.5
             },
             "pattern": {
              "fillmode": "overlay",
              "size": 10,
              "solidity": 0.2
             }
            },
            "type": "barpolar"
           }
          ],
          "carpet": [
           {
            "aaxis": {
             "endlinecolor": "#2a3f5f",
             "gridcolor": "white",
             "linecolor": "white",
             "minorgridcolor": "white",
             "startlinecolor": "#2a3f5f"
            },
            "baxis": {
             "endlinecolor": "#2a3f5f",
             "gridcolor": "white",
             "linecolor": "white",
             "minorgridcolor": "white",
             "startlinecolor": "#2a3f5f"
            },
            "type": "carpet"
           }
          ],
          "choropleth": [
           {
            "colorbar": {
             "outlinewidth": 0,
             "ticks": ""
            },
            "type": "choropleth"
           }
          ],
          "contour": [
           {
            "colorbar": {
             "outlinewidth": 0,
             "ticks": ""
            },
            "colorscale": [
             [
              0,
              "#0d0887"
             ],
             [
              0.1111111111111111,
              "#46039f"
             ],
             [
              0.2222222222222222,
              "#7201a8"
             ],
             [
              0.3333333333333333,
              "#9c179e"
             ],
             [
              0.4444444444444444,
              "#bd3786"
             ],
             [
              0.5555555555555556,
              "#d8576b"
             ],
             [
              0.6666666666666666,
              "#ed7953"
             ],
             [
              0.7777777777777778,
              "#fb9f3a"
             ],
             [
              0.8888888888888888,
              "#fdca26"
             ],
             [
              1,
              "#f0f921"
             ]
            ],
            "type": "contour"
           }
          ],
          "contourcarpet": [
           {
            "colorbar": {
             "outlinewidth": 0,
             "ticks": ""
            },
            "type": "contourcarpet"
           }
          ],
          "heatmap": [
           {
            "colorbar": {
             "outlinewidth": 0,
             "ticks": ""
            },
            "colorscale": [
             [
              0,
              "#0d0887"
             ],
             [
              0.1111111111111111,
              "#46039f"
             ],
             [
              0.2222222222222222,
              "#7201a8"
             ],
             [
              0.3333333333333333,
              "#9c179e"
             ],
             [
              0.4444444444444444,
              "#bd3786"
             ],
             [
              0.5555555555555556,
              "#d8576b"
             ],
             [
              0.6666666666666666,
              "#ed7953"
             ],
             [
              0.7777777777777778,
              "#fb9f3a"
             ],
             [
              0.8888888888888888,
              "#fdca26"
             ],
             [
              1,
              "#f0f921"
             ]
            ],
            "type": "heatmap"
           }
          ],
          "heatmapgl": [
           {
            "colorbar": {
             "outlinewidth": 0,
             "ticks": ""
            },
            "colorscale": [
             [
              0,
              "#0d0887"
             ],
             [
              0.1111111111111111,
              "#46039f"
             ],
             [
              0.2222222222222222,
              "#7201a8"
             ],
             [
              0.3333333333333333,
              "#9c179e"
             ],
             [
              0.4444444444444444,
              "#bd3786"
             ],
             [
              0.5555555555555556,
              "#d8576b"
             ],
             [
              0.6666666666666666,
              "#ed7953"
             ],
             [
              0.7777777777777778,
              "#fb9f3a"
             ],
             [
              0.8888888888888888,
              "#fdca26"
             ],
             [
              1,
              "#f0f921"
             ]
            ],
            "type": "heatmapgl"
           }
          ],
          "histogram": [
           {
            "marker": {
             "pattern": {
              "fillmode": "overlay",
              "size": 10,
              "solidity": 0.2
             }
            },
            "type": "histogram"
           }
          ],
          "histogram2d": [
           {
            "colorbar": {
             "outlinewidth": 0,
             "ticks": ""
            },
            "colorscale": [
             [
              0,
              "#0d0887"
             ],
             [
              0.1111111111111111,
              "#46039f"
             ],
             [
              0.2222222222222222,
              "#7201a8"
             ],
             [
              0.3333333333333333,
              "#9c179e"
             ],
             [
              0.4444444444444444,
              "#bd3786"
             ],
             [
              0.5555555555555556,
              "#d8576b"
             ],
             [
              0.6666666666666666,
              "#ed7953"
             ],
             [
              0.7777777777777778,
              "#fb9f3a"
             ],
             [
              0.8888888888888888,
              "#fdca26"
             ],
             [
              1,
              "#f0f921"
             ]
            ],
            "type": "histogram2d"
           }
          ],
          "histogram2dcontour": [
           {
            "colorbar": {
             "outlinewidth": 0,
             "ticks": ""
            },
            "colorscale": [
             [
              0,
              "#0d0887"
             ],
             [
              0.1111111111111111,
              "#46039f"
             ],
             [
              0.2222222222222222,
              "#7201a8"
             ],
             [
              0.3333333333333333,
              "#9c179e"
             ],
             [
              0.4444444444444444,
              "#bd3786"
             ],
             [
              0.5555555555555556,
              "#d8576b"
             ],
             [
              0.6666666666666666,
              "#ed7953"
             ],
             [
              0.7777777777777778,
              "#fb9f3a"
             ],
             [
              0.8888888888888888,
              "#fdca26"
             ],
             [
              1,
              "#f0f921"
             ]
            ],
            "type": "histogram2dcontour"
           }
          ],
          "mesh3d": [
           {
            "colorbar": {
             "outlinewidth": 0,
             "ticks": ""
            },
            "type": "mesh3d"
           }
          ],
          "parcoords": [
           {
            "line": {
             "colorbar": {
              "outlinewidth": 0,
              "ticks": ""
             }
            },
            "type": "parcoords"
           }
          ],
          "pie": [
           {
            "automargin": true,
            "type": "pie"
           }
          ],
          "scatter": [
           {
            "fillpattern": {
             "fillmode": "overlay",
             "size": 10,
             "solidity": 0.2
            },
            "type": "scatter"
           }
          ],
          "scatter3d": [
           {
            "line": {
             "colorbar": {
              "outlinewidth": 0,
              "ticks": ""
             }
            },
            "marker": {
             "colorbar": {
              "outlinewidth": 0,
              "ticks": ""
             }
            },
            "type": "scatter3d"
           }
          ],
          "scattercarpet": [
           {
            "marker": {
             "colorbar": {
              "outlinewidth": 0,
              "ticks": ""
             }
            },
            "type": "scattercarpet"
           }
          ],
          "scattergeo": [
           {
            "marker": {
             "colorbar": {
              "outlinewidth": 0,
              "ticks": ""
             }
            },
            "type": "scattergeo"
           }
          ],
          "scattergl": [
           {
            "marker": {
             "colorbar": {
              "outlinewidth": 0,
              "ticks": ""
             }
            },
            "type": "scattergl"
           }
          ],
          "scattermapbox": [
           {
            "marker": {
             "colorbar": {
              "outlinewidth": 0,
              "ticks": ""
             }
            },
            "type": "scattermapbox"
           }
          ],
          "scatterpolar": [
           {
            "marker": {
             "colorbar": {
              "outlinewidth": 0,
              "ticks": ""
             }
            },
            "type": "scatterpolar"
           }
          ],
          "scatterpolargl": [
           {
            "marker": {
             "colorbar": {
              "outlinewidth": 0,
              "ticks": ""
             }
            },
            "type": "scatterpolargl"
           }
          ],
          "scatterternary": [
           {
            "marker": {
             "colorbar": {
              "outlinewidth": 0,
              "ticks": ""
             }
            },
            "type": "scatterternary"
           }
          ],
          "surface": [
           {
            "colorbar": {
             "outlinewidth": 0,
             "ticks": ""
            },
            "colorscale": [
             [
              0,
              "#0d0887"
             ],
             [
              0.1111111111111111,
              "#46039f"
             ],
             [
              0.2222222222222222,
              "#7201a8"
             ],
             [
              0.3333333333333333,
              "#9c179e"
             ],
             [
              0.4444444444444444,
              "#bd3786"
             ],
             [
              0.5555555555555556,
              "#d8576b"
             ],
             [
              0.6666666666666666,
              "#ed7953"
             ],
             [
              0.7777777777777778,
              "#fb9f3a"
             ],
             [
              0.8888888888888888,
              "#fdca26"
             ],
             [
              1,
              "#f0f921"
             ]
            ],
            "type": "surface"
           }
          ],
          "table": [
           {
            "cells": {
             "fill": {
              "color": "#EBF0F8"
             },
             "line": {
              "color": "white"
             }
            },
            "header": {
             "fill": {
              "color": "#C8D4E3"
             },
             "line": {
              "color": "white"
             }
            },
            "type": "table"
           }
          ]
         },
         "layout": {
          "annotationdefaults": {
           "arrowcolor": "#2a3f5f",
           "arrowhead": 0,
           "arrowwidth": 1
          },
          "autotypenumbers": "strict",
          "coloraxis": {
           "colorbar": {
            "outlinewidth": 0,
            "ticks": ""
           }
          },
          "colorscale": {
           "diverging": [
            [
             0,
             "#8e0152"
            ],
            [
             0.1,
             "#c51b7d"
            ],
            [
             0.2,
             "#de77ae"
            ],
            [
             0.3,
             "#f1b6da"
            ],
            [
             0.4,
             "#fde0ef"
            ],
            [
             0.5,
             "#f7f7f7"
            ],
            [
             0.6,
             "#e6f5d0"
            ],
            [
             0.7,
             "#b8e186"
            ],
            [
             0.8,
             "#7fbc41"
            ],
            [
             0.9,
             "#4d9221"
            ],
            [
             1,
             "#276419"
            ]
           ],
           "sequential": [
            [
             0,
             "#0d0887"
            ],
            [
             0.1111111111111111,
             "#46039f"
            ],
            [
             0.2222222222222222,
             "#7201a8"
            ],
            [
             0.3333333333333333,
             "#9c179e"
            ],
            [
             0.4444444444444444,
             "#bd3786"
            ],
            [
             0.5555555555555556,
             "#d8576b"
            ],
            [
             0.6666666666666666,
             "#ed7953"
            ],
            [
             0.7777777777777778,
             "#fb9f3a"
            ],
            [
             0.8888888888888888,
             "#fdca26"
            ],
            [
             1,
             "#f0f921"
            ]
           ],
           "sequentialminus": [
            [
             0,
             "#0d0887"
            ],
            [
             0.1111111111111111,
             "#46039f"
            ],
            [
             0.2222222222222222,
             "#7201a8"
            ],
            [
             0.3333333333333333,
             "#9c179e"
            ],
            [
             0.4444444444444444,
             "#bd3786"
            ],
            [
             0.5555555555555556,
             "#d8576b"
            ],
            [
             0.6666666666666666,
             "#ed7953"
            ],
            [
             0.7777777777777778,
             "#fb9f3a"
            ],
            [
             0.8888888888888888,
             "#fdca26"
            ],
            [
             1,
             "#f0f921"
            ]
           ]
          },
          "colorway": [
           "#636efa",
           "#EF553B",
           "#00cc96",
           "#ab63fa",
           "#FFA15A",
           "#19d3f3",
           "#FF6692",
           "#B6E880",
           "#FF97FF",
           "#FECB52"
          ],
          "font": {
           "color": "#2a3f5f"
          },
          "geo": {
           "bgcolor": "white",
           "lakecolor": "white",
           "landcolor": "#E5ECF6",
           "showlakes": true,
           "showland": true,
           "subunitcolor": "white"
          },
          "hoverlabel": {
           "align": "left"
          },
          "hovermode": "closest",
          "mapbox": {
           "style": "light"
          },
          "paper_bgcolor": "white",
          "plot_bgcolor": "#E5ECF6",
          "polar": {
           "angularaxis": {
            "gridcolor": "white",
            "linecolor": "white",
            "ticks": ""
           },
           "bgcolor": "#E5ECF6",
           "radialaxis": {
            "gridcolor": "white",
            "linecolor": "white",
            "ticks": ""
           }
          },
          "scene": {
           "xaxis": {
            "backgroundcolor": "#E5ECF6",
            "gridcolor": "white",
            "gridwidth": 2,
            "linecolor": "white",
            "showbackground": true,
            "ticks": "",
            "zerolinecolor": "white"
           },
           "yaxis": {
            "backgroundcolor": "#E5ECF6",
            "gridcolor": "white",
            "gridwidth": 2,
            "linecolor": "white",
            "showbackground": true,
            "ticks": "",
            "zerolinecolor": "white"
           },
           "zaxis": {
            "backgroundcolor": "#E5ECF6",
            "gridcolor": "white",
            "gridwidth": 2,
            "linecolor": "white",
            "showbackground": true,
            "ticks": "",
            "zerolinecolor": "white"
           }
          },
          "shapedefaults": {
           "line": {
            "color": "#2a3f5f"
           }
          },
          "ternary": {
           "aaxis": {
            "gridcolor": "white",
            "linecolor": "white",
            "ticks": ""
           },
           "baxis": {
            "gridcolor": "white",
            "linecolor": "white",
            "ticks": ""
           },
           "bgcolor": "#E5ECF6",
           "caxis": {
            "gridcolor": "white",
            "linecolor": "white",
            "ticks": ""
           }
          },
          "title": {
           "x": 0.05
          },
          "xaxis": {
           "automargin": true,
           "gridcolor": "white",
           "linecolor": "white",
           "ticks": "",
           "title": {
            "standoff": 15
           },
           "zerolinecolor": "white",
           "zerolinewidth": 2
          },
          "yaxis": {
           "automargin": true,
           "gridcolor": "white",
           "linecolor": "white",
           "ticks": "",
           "title": {
            "standoff": 15
           },
           "zerolinecolor": "white",
           "zerolinewidth": 2
          }
         }
        },
        "title": {
         "text": "Scatter plot of Total Employment & Energy Expenditure Share of GDP"
        },
        "xaxis": {
         "anchor": "y",
         "domain": [
          0,
          1
         ],
         "title": {
          "text": "Energy Expenditure Share of GDP"
         }
        },
        "yaxis": {
         "anchor": "x",
         "domain": [
          0,
          1
         ],
         "title": {
          "text": "Total Employment"
         }
        }
       }
      },
      "text/html": [
       "<div>                            <div id=\"1b6b696b-b593-49da-9556-44766bd9affc\" class=\"plotly-graph-div\" style=\"height:525px; width:100%;\"></div>            <script type=\"text/javascript\">                require([\"plotly\"], function(Plotly) {                    window.PLOTLYENV=window.PLOTLYENV || {};                                    if (document.getElementById(\"1b6b696b-b593-49da-9556-44766bd9affc\")) {                    Plotly.newPlot(                        \"1b6b696b-b593-49da-9556-44766bd9affc\",                        [{\"hovertemplate\":\"Energy Expenditure Share of GDP=%{x}\\u003cbr\\u003eTotal Employment=%{y}\\u003cbr\\u003eState=%{text}\\u003cextra\\u003e\\u003c\\u002fextra\\u003e\",\"legendgroup\":\"\",\"marker\":{\"color\":\"#636efa\",\"symbol\":\"circle\"},\"mode\":\"markers+text\",\"name\":\"\",\"orientation\":\"v\",\"showlegend\":false,\"text\":[\"AK\",\"AL\",\"AR\",\"AZ\",\"CA\",\"CO\",\"CT\",\"DE\",\"FL\",\"GA\",\"HI\",\"IA\",\"ID\",\"IL\",\"IN\",\"KS\",\"KY\",\"LA\",\"MA\",\"MD\",\"ME\",\"MI\",\"MN\",\"MO\",\"MS\",\"MT\",\"NC\",\"ND\",\"NE\",\"NH\",\"NJ\",\"NM\",\"NV\",\"NY\",\"OH\",\"OK\",\"OR\",\"PA\",\"RI\",\"SC\",\"SD\",\"TN\",\"TX\",\"UT\",\"VA\",\"VT\",\"WA\",\"WI\",\"WV\",\"WY\"],\"x\":[11.32913043478261,10.753913043478262,10.673043478260869,7.084782608695652,5.433913043478261,5.760869565217392,5.486086956521739,5.449565217391305,6.784782608695651,7.311304347826087,8.235652173913042,9.064782608695653,9.25478260869565,5.9913043478260875,8.945217391304348,8.253913043478262,10.400869565217391,16.020869565217392,5.4369565217391305,5.927826086956522,10.796086956521739,7.565652173913043,6.814782608695652,7.9195652173913045,12.462173913043477,11.510434782608696,6.983478260869566,11.432173913043478,8.033478260869567,7.396086956521739,6.145652173913043,8.431739130434783,7.034782608695653,4.531304347826087,7.671739130434782,9.834782608695653,6.944347826086957,7.207391304347826,6.628260869565217,9.666086956521738,8.854782608695652,8.307391304347826,9.588695652173913,6.507826086956522,6.472173913043479,9.19608695652174,5.482173913043479,7.619565217391305,11.14695652173913,12.449130434782608],\"xaxis\":\"x\",\"y\":[437937.0869565217,2553123.434782609,1579881.4347826086,3418561.0434782607,21415544.913043477,3370920.913043478,2224724.304347826,551564.4782608695,10839449.391304348,5602557.260869565,845819.8260869565,1991256.8260869565,928785.6086956522,7526039.0,3728799.8260869565,1843682.608695652,2411496.652173913,2566858.5217391304,4365874.217391305,3462340.304347826,814519.3913043478,5453083.043478261,3543828.0,3603156.4782608696,1533822.0869565217,635392.3478260869,5488011.130434782,523334.17391304346,1252090.3043478262,841465.8260869565,5163629.782608695,1065763.043478261,1601992.3043478262,11438274.304347826,6778882.695652174,2175884.2608695654,2306082.086956522,7306776.478260869,612656.8260869565,2538637.6086956523,567449.5652173914,3764458.6086956523,15118922.956521738,1755586.7826086956,4903066.0869565215,420519.9130434783,4010645.695652174,3552980.7391304346,891349.7826086957,383264.5652173913],\"yaxis\":\"y\",\"type\":\"scatter\"},{\"hovertemplate\":\"\\u003cb\\u003eOLS trendline\\u003c\\u002fb\\u003e\\u003cbr\\u003eTotal Employment = -651604 * Exp_GDP_% + 9.03255e+06\\u003cbr\\u003eR\\u003csup\\u003e2\\u003c\\u002fsup\\u003e=0.144653\\u003cbr\\u003e\\u003cbr\\u003eEnergy Expenditure Share of GDP=%{x}\\u003cbr\\u003eTotal Employment=%{y} \\u003cb\\u003e(trend)\\u003c\\u002fb\\u003e\\u003cextra\\u003e\\u003c\\u002fextra\\u003e\",\"legendgroup\":\"\",\"marker\":{\"color\":\"#636efa\",\"symbol\":\"circle\"},\"mode\":\"lines\",\"name\":\"\",\"showlegend\":false,\"x\":[4.531304347826087,5.433913043478261,5.4369565217391305,5.449565217391305,5.482173913043479,5.486086956521739,5.760869565217392,5.927826086956522,5.9913043478260875,6.145652173913043,6.472173913043479,6.507826086956522,6.628260869565217,6.784782608695651,6.814782608695652,6.944347826086957,6.983478260869566,7.034782608695653,7.084782608695652,7.207391304347826,7.311304347826087,7.396086956521739,7.565652173913043,7.619565217391305,7.671739130434782,7.9195652173913045,8.033478260869567,8.235652173913042,8.253913043478262,8.307391304347826,8.431739130434783,8.854782608695652,8.945217391304348,9.064782608695653,9.19608695652174,9.25478260869565,9.588695652173913,9.666086956521738,9.834782608695653,10.400869565217391,10.673043478260869,10.753913043478262,10.796086956521739,11.14695652173913,11.32913043478261,11.432173913043478,11.510434782608696,12.449130434782608,12.462173913043477,16.020869565217392],\"xaxis\":\"x\",\"y\":[6079933.665646281,5491790.312365059,5489807.17003704,5481591.294678101,5460343.341163606,5457793.586741867,5278744.165126389,5169954.643132174,5128591.960290624,5028018.3136553485,4815255.472463537,4792024.376621023,4713548.601640821,4611558.4247712465,4592010.30753791,4507585.1055736495,4482087.561356256,4448657.447826783,4416077.252437891,4336184.9472233895,4268474.802023866,4213230.122886179,4102740.7646108046,4067610.814800173,4033614.0891769817,3872129.642466819,3797903.4581895154,3666166.146399648,3654267.2924315287,3619420.6486677583,3538395.119265816,3262738.3356711017,3203810.6779242344,3125901.5150377527,3040343.0888860533,3002096.772559963,2784517.728571533,2734089.2522304654,2624166.5060488107,2255302.0330371773,2077952.4477028595,2025257.5229869103,1997776.8364414973,1769148.8566255318,1650443.6229912192,1583300.0898854146,1532305.0014506262,920647.2462800303,912148.0648742327,-1406711.9286743253],\"yaxis\":\"y\",\"type\":\"scatter\"}],                        {\"template\":{\"data\":{\"histogram2dcontour\":[{\"type\":\"histogram2dcontour\",\"colorbar\":{\"outlinewidth\":0,\"ticks\":\"\"},\"colorscale\":[[0.0,\"#0d0887\"],[0.1111111111111111,\"#46039f\"],[0.2222222222222222,\"#7201a8\"],[0.3333333333333333,\"#9c179e\"],[0.4444444444444444,\"#bd3786\"],[0.5555555555555556,\"#d8576b\"],[0.6666666666666666,\"#ed7953\"],[0.7777777777777778,\"#fb9f3a\"],[0.8888888888888888,\"#fdca26\"],[1.0,\"#f0f921\"]]}],\"choropleth\":[{\"type\":\"choropleth\",\"colorbar\":{\"outlinewidth\":0,\"ticks\":\"\"}}],\"histogram2d\":[{\"type\":\"histogram2d\",\"colorbar\":{\"outlinewidth\":0,\"ticks\":\"\"},\"colorscale\":[[0.0,\"#0d0887\"],[0.1111111111111111,\"#46039f\"],[0.2222222222222222,\"#7201a8\"],[0.3333333333333333,\"#9c179e\"],[0.4444444444444444,\"#bd3786\"],[0.5555555555555556,\"#d8576b\"],[0.6666666666666666,\"#ed7953\"],[0.7777777777777778,\"#fb9f3a\"],[0.8888888888888888,\"#fdca26\"],[1.0,\"#f0f921\"]]}],\"heatmap\":[{\"type\":\"heatmap\",\"colorbar\":{\"outlinewidth\":0,\"ticks\":\"\"},\"colorscale\":[[0.0,\"#0d0887\"],[0.1111111111111111,\"#46039f\"],[0.2222222222222222,\"#7201a8\"],[0.3333333333333333,\"#9c179e\"],[0.4444444444444444,\"#bd3786\"],[0.5555555555555556,\"#d8576b\"],[0.6666666666666666,\"#ed7953\"],[0.7777777777777778,\"#fb9f3a\"],[0.8888888888888888,\"#fdca26\"],[1.0,\"#f0f921\"]]}],\"heatmapgl\":[{\"type\":\"heatmapgl\",\"colorbar\":{\"outlinewidth\":0,\"ticks\":\"\"},\"colorscale\":[[0.0,\"#0d0887\"],[0.1111111111111111,\"#46039f\"],[0.2222222222222222,\"#7201a8\"],[0.3333333333333333,\"#9c179e\"],[0.4444444444444444,\"#bd3786\"],[0.5555555555555556,\"#d8576b\"],[0.6666666666666666,\"#ed7953\"],[0.7777777777777778,\"#fb9f3a\"],[0.8888888888888888,\"#fdca26\"],[1.0,\"#f0f921\"]]}],\"contourcarpet\":[{\"type\":\"contourcarpet\",\"colorbar\":{\"outlinewidth\":0,\"ticks\":\"\"}}],\"contour\":[{\"type\":\"contour\",\"colorbar\":{\"outlinewidth\":0,\"ticks\":\"\"},\"colorscale\":[[0.0,\"#0d0887\"],[0.1111111111111111,\"#46039f\"],[0.2222222222222222,\"#7201a8\"],[0.3333333333333333,\"#9c179e\"],[0.4444444444444444,\"#bd3786\"],[0.5555555555555556,\"#d8576b\"],[0.6666666666666666,\"#ed7953\"],[0.7777777777777778,\"#fb9f3a\"],[0.8888888888888888,\"#fdca26\"],[1.0,\"#f0f921\"]]}],\"surface\":[{\"type\":\"surface\",\"colorbar\":{\"outlinewidth\":0,\"ticks\":\"\"},\"colorscale\":[[0.0,\"#0d0887\"],[0.1111111111111111,\"#46039f\"],[0.2222222222222222,\"#7201a8\"],[0.3333333333333333,\"#9c179e\"],[0.4444444444444444,\"#bd3786\"],[0.5555555555555556,\"#d8576b\"],[0.6666666666666666,\"#ed7953\"],[0.7777777777777778,\"#fb9f3a\"],[0.8888888888888888,\"#fdca26\"],[1.0,\"#f0f921\"]]}],\"mesh3d\":[{\"type\":\"mesh3d\",\"colorbar\":{\"outlinewidth\":0,\"ticks\":\"\"}}],\"scatter\":[{\"fillpattern\":{\"fillmode\":\"overlay\",\"size\":10,\"solidity\":0.2},\"type\":\"scatter\"}],\"parcoords\":[{\"type\":\"parcoords\",\"line\":{\"colorbar\":{\"outlinewidth\":0,\"ticks\":\"\"}}}],\"scatterpolargl\":[{\"type\":\"scatterpolargl\",\"marker\":{\"colorbar\":{\"outlinewidth\":0,\"ticks\":\"\"}}}],\"bar\":[{\"error_x\":{\"color\":\"#2a3f5f\"},\"error_y\":{\"color\":\"#2a3f5f\"},\"marker\":{\"line\":{\"color\":\"#E5ECF6\",\"width\":0.5},\"pattern\":{\"fillmode\":\"overlay\",\"size\":10,\"solidity\":0.2}},\"type\":\"bar\"}],\"scattergeo\":[{\"type\":\"scattergeo\",\"marker\":{\"colorbar\":{\"outlinewidth\":0,\"ticks\":\"\"}}}],\"scatterpolar\":[{\"type\":\"scatterpolar\",\"marker\":{\"colorbar\":{\"outlinewidth\":0,\"ticks\":\"\"}}}],\"histogram\":[{\"marker\":{\"pattern\":{\"fillmode\":\"overlay\",\"size\":10,\"solidity\":0.2}},\"type\":\"histogram\"}],\"scattergl\":[{\"type\":\"scattergl\",\"marker\":{\"colorbar\":{\"outlinewidth\":0,\"ticks\":\"\"}}}],\"scatter3d\":[{\"type\":\"scatter3d\",\"line\":{\"colorbar\":{\"outlinewidth\":0,\"ticks\":\"\"}},\"marker\":{\"colorbar\":{\"outlinewidth\":0,\"ticks\":\"\"}}}],\"scattermapbox\":[{\"type\":\"scattermapbox\",\"marker\":{\"colorbar\":{\"outlinewidth\":0,\"ticks\":\"\"}}}],\"scatterternary\":[{\"type\":\"scatterternary\",\"marker\":{\"colorbar\":{\"outlinewidth\":0,\"ticks\":\"\"}}}],\"scattercarpet\":[{\"type\":\"scattercarpet\",\"marker\":{\"colorbar\":{\"outlinewidth\":0,\"ticks\":\"\"}}}],\"carpet\":[{\"aaxis\":{\"endlinecolor\":\"#2a3f5f\",\"gridcolor\":\"white\",\"linecolor\":\"white\",\"minorgridcolor\":\"white\",\"startlinecolor\":\"#2a3f5f\"},\"baxis\":{\"endlinecolor\":\"#2a3f5f\",\"gridcolor\":\"white\",\"linecolor\":\"white\",\"minorgridcolor\":\"white\",\"startlinecolor\":\"#2a3f5f\"},\"type\":\"carpet\"}],\"table\":[{\"cells\":{\"fill\":{\"color\":\"#EBF0F8\"},\"line\":{\"color\":\"white\"}},\"header\":{\"fill\":{\"color\":\"#C8D4E3\"},\"line\":{\"color\":\"white\"}},\"type\":\"table\"}],\"barpolar\":[{\"marker\":{\"line\":{\"color\":\"#E5ECF6\",\"width\":0.5},\"pattern\":{\"fillmode\":\"overlay\",\"size\":10,\"solidity\":0.2}},\"type\":\"barpolar\"}],\"pie\":[{\"automargin\":true,\"type\":\"pie\"}]},\"layout\":{\"autotypenumbers\":\"strict\",\"colorway\":[\"#636efa\",\"#EF553B\",\"#00cc96\",\"#ab63fa\",\"#FFA15A\",\"#19d3f3\",\"#FF6692\",\"#B6E880\",\"#FF97FF\",\"#FECB52\"],\"font\":{\"color\":\"#2a3f5f\"},\"hovermode\":\"closest\",\"hoverlabel\":{\"align\":\"left\"},\"paper_bgcolor\":\"white\",\"plot_bgcolor\":\"#E5ECF6\",\"polar\":{\"bgcolor\":\"#E5ECF6\",\"angularaxis\":{\"gridcolor\":\"white\",\"linecolor\":\"white\",\"ticks\":\"\"},\"radialaxis\":{\"gridcolor\":\"white\",\"linecolor\":\"white\",\"ticks\":\"\"}},\"ternary\":{\"bgcolor\":\"#E5ECF6\",\"aaxis\":{\"gridcolor\":\"white\",\"linecolor\":\"white\",\"ticks\":\"\"},\"baxis\":{\"gridcolor\":\"white\",\"linecolor\":\"white\",\"ticks\":\"\"},\"caxis\":{\"gridcolor\":\"white\",\"linecolor\":\"white\",\"ticks\":\"\"}},\"coloraxis\":{\"colorbar\":{\"outlinewidth\":0,\"ticks\":\"\"}},\"colorscale\":{\"sequential\":[[0.0,\"#0d0887\"],[0.1111111111111111,\"#46039f\"],[0.2222222222222222,\"#7201a8\"],[0.3333333333333333,\"#9c179e\"],[0.4444444444444444,\"#bd3786\"],[0.5555555555555556,\"#d8576b\"],[0.6666666666666666,\"#ed7953\"],[0.7777777777777778,\"#fb9f3a\"],[0.8888888888888888,\"#fdca26\"],[1.0,\"#f0f921\"]],\"sequentialminus\":[[0.0,\"#0d0887\"],[0.1111111111111111,\"#46039f\"],[0.2222222222222222,\"#7201a8\"],[0.3333333333333333,\"#9c179e\"],[0.4444444444444444,\"#bd3786\"],[0.5555555555555556,\"#d8576b\"],[0.6666666666666666,\"#ed7953\"],[0.7777777777777778,\"#fb9f3a\"],[0.8888888888888888,\"#fdca26\"],[1.0,\"#f0f921\"]],\"diverging\":[[0,\"#8e0152\"],[0.1,\"#c51b7d\"],[0.2,\"#de77ae\"],[0.3,\"#f1b6da\"],[0.4,\"#fde0ef\"],[0.5,\"#f7f7f7\"],[0.6,\"#e6f5d0\"],[0.7,\"#b8e186\"],[0.8,\"#7fbc41\"],[0.9,\"#4d9221\"],[1,\"#276419\"]]},\"xaxis\":{\"gridcolor\":\"white\",\"linecolor\":\"white\",\"ticks\":\"\",\"title\":{\"standoff\":15},\"zerolinecolor\":\"white\",\"automargin\":true,\"zerolinewidth\":2},\"yaxis\":{\"gridcolor\":\"white\",\"linecolor\":\"white\",\"ticks\":\"\",\"title\":{\"standoff\":15},\"zerolinecolor\":\"white\",\"automargin\":true,\"zerolinewidth\":2},\"scene\":{\"xaxis\":{\"backgroundcolor\":\"#E5ECF6\",\"gridcolor\":\"white\",\"linecolor\":\"white\",\"showbackground\":true,\"ticks\":\"\",\"zerolinecolor\":\"white\",\"gridwidth\":2},\"yaxis\":{\"backgroundcolor\":\"#E5ECF6\",\"gridcolor\":\"white\",\"linecolor\":\"white\",\"showbackground\":true,\"ticks\":\"\",\"zerolinecolor\":\"white\",\"gridwidth\":2},\"zaxis\":{\"backgroundcolor\":\"#E5ECF6\",\"gridcolor\":\"white\",\"linecolor\":\"white\",\"showbackground\":true,\"ticks\":\"\",\"zerolinecolor\":\"white\",\"gridwidth\":2}},\"shapedefaults\":{\"line\":{\"color\":\"#2a3f5f\"}},\"annotationdefaults\":{\"arrowcolor\":\"#2a3f5f\",\"arrowhead\":0,\"arrowwidth\":1},\"geo\":{\"bgcolor\":\"white\",\"landcolor\":\"#E5ECF6\",\"subunitcolor\":\"white\",\"showland\":true,\"showlakes\":true,\"lakecolor\":\"white\"},\"title\":{\"x\":0.05},\"mapbox\":{\"style\":\"light\"}}},\"xaxis\":{\"anchor\":\"y\",\"domain\":[0.0,1.0],\"title\":{\"text\":\"Energy Expenditure Share of GDP\"}},\"yaxis\":{\"anchor\":\"x\",\"domain\":[0.0,1.0],\"title\":{\"text\":\"Total Employment\"}},\"legend\":{\"tracegroupgap\":0},\"title\":{\"text\":\"Scatter plot of Total Employment & Energy Expenditure Share of GDP\"}},                        {\"responsive\": true}                    ).then(function(){\n",
       "                            \n",
       "var gd = document.getElementById('1b6b696b-b593-49da-9556-44766bd9affc');\n",
       "var x = new MutationObserver(function (mutations, observer) {{\n",
       "        var display = window.getComputedStyle(gd).display;\n",
       "        if (!display || display === 'none') {{\n",
       "            console.log([gd, 'removed!']);\n",
       "            Plotly.purge(gd);\n",
       "            observer.disconnect();\n",
       "        }}\n",
       "}});\n",
       "\n",
       "// Listen for the removal of the full notebook cells\n",
       "var notebookContainer = gd.closest('#notebook-container');\n",
       "if (notebookContainer) {{\n",
       "    x.observe(notebookContainer, {childList: true});\n",
       "}}\n",
       "\n",
       "// Listen for the clearing of the current output cell\n",
       "var outputEl = gd.closest('.output');\n",
       "if (outputEl) {{\n",
       "    x.observe(outputEl, {childList: true});\n",
       "}}\n",
       "\n",
       "                        })                };                });            </script>        </div>"
      ]
     },
     "metadata": {},
     "output_type": "display_data"
    }
   ],
   "source": [
    "\n",
    "state_averages_noUS = state_averages[state_averages[\"State\"] != \"US\"]\n",
    "\n",
    "fig_scatter_1 = px.scatter(state_averages_noUS,\n",
    "            x=\"Exp_GDP_%\",\n",
    "            y=\"Total Employment\",\n",
    "            title=\"Scatter plot of Total Employment & Energy Expenditure Share of GDP\",\n",
    "            labels={'Total Employment': 'Total Employment', 'Exp_GDP_%': 'Energy Expenditure Share of GDP -%'},\n",
    "            trendline=\"ols\",\n",
    "            text='State')\n",
    "\n",
    "fig_scatter_1.show()"
   ]
  },
  {
   "cell_type": "markdown",
   "metadata": {},
   "source": [
    "A negative correlation is also observed between total employment and energy expenditure share of GDP across the majority of states. This finding supports the hypothesis that higher levels of employment may be associated with increased energy efficiency."
   ]
  },
  {
   "cell_type": "code",
   "execution_count": null,
   "metadata": {},
   "outputs": [],
   "source": []
  }
 ],
 "metadata": {
  "kernelspec": {
   "display_name": "base",
   "language": "python",
   "name": "python3"
  },
  "language_info": {
   "codemirror_mode": {
    "name": "ipython",
    "version": 3
   },
   "file_extension": ".py",
   "mimetype": "text/x-python",
   "name": "python",
   "nbconvert_exporter": "python",
   "pygments_lexer": "ipython3",
   "version": "3.12.3"
  }
 },
 "nbformat": 4,
 "nbformat_minor": 2
}
