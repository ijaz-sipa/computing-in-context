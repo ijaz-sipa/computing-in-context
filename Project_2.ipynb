{
 "cells": [
  {
   "cell_type": "markdown",
   "id": "ff6b87a1-2427-488c-8f28-cea1a00b348f",
   "metadata": {},
   "source": [
    "# **Project 2**"
   ]
  },
  {
   "cell_type": "markdown",
   "id": "e7301499",
   "metadata": {},
   "source": [
    "## Trends in renewable energy consumption against total energy expenditures over time for different states in US"
   ]
  },
  {
   "cell_type": "markdown",
   "id": "d664a248-3ee3-4ba7-977a-845a0ddab3d2",
   "metadata": {},
   "source": [
    "#### Data Source\n",
    "\n",
    "I plan to use energy expenditure and renewable energy consumption data from the U.S Energy Information Administration for years 1960-2022 using the link https://www.eia.gov/state/seds/seds-data-complete.php?sid=US#PricesExpenditures. The energy expenditure data has energy prices, expenditure per capita, expenditure as a % of GDP. The renewable energy dataset has energy consumption data for all 5 types of renewable energy at state level.\n",
    "\n",
    "Note: We will do the analysis on a balanced dataset where data is avaiable for all years and drop the rest."
   ]
  },
  {
   "cell_type": "markdown",
   "id": "e15a7655-8b40-436a-be81-251534a29a25",
   "metadata": {},
   "source": [
    "#### Analysis Plan\n",
    "\n",
    "I plan to explore if energy expenditure has fallen over time as renewable energy consumption increased. I will only focus on years 2000-2022"
   ]
  },
  {
   "cell_type": "markdown",
   "id": "e7fa6250-c476-48aa-8506-9b045940defe",
   "metadata": {},
   "source": [
    "#### First Import packages"
   ]
  },
  {
   "cell_type": "code",
   "execution_count": 13,
   "id": "da1b28cf",
   "metadata": {},
   "outputs": [],
   "source": [
    "import plotly.io as pio\n",
    "\n",
    "pio.renderers.default = \"vscode+jupyterlab+notebook_connected\""
   ]
  },
  {
   "cell_type": "code",
   "execution_count": 14,
   "id": "7c8f0d5a-882d-455d-8094-59436625e6e7",
   "metadata": {},
   "outputs": [],
   "source": [
    "import pandas as pd\n",
    "import plotly.express as px"
   ]
  },
  {
   "cell_type": "markdown",
   "id": "c29d5729-c2f9-4ce6-b05a-4159c764a0c2",
   "metadata": {},
   "source": [
    "#### Import datasets and reshape them for merging into one dataset for analysis"
   ]
  },
  {
   "cell_type": "code",
   "execution_count": 15,
   "id": "4712ac43-2083-451a-9132-fcdd7f63450f",
   "metadata": {},
   "outputs": [
    {
     "data": {
      "text/html": [
       "<div>\n",
       "<style scoped>\n",
       "    .dataframe tbody tr th:only-of-type {\n",
       "        vertical-align: middle;\n",
       "    }\n",
       "\n",
       "    .dataframe tbody tr th {\n",
       "        vertical-align: top;\n",
       "    }\n",
       "\n",
       "    .dataframe thead th {\n",
       "        text-align: right;\n",
       "    }\n",
       "</style>\n",
       "<table border=\"1\" class=\"dataframe\">\n",
       "  <thead>\n",
       "    <tr style=\"text-align: right;\">\n",
       "      <th></th>\n",
       "      <th>State</th>\n",
       "      <th>1970</th>\n",
       "      <th>1971</th>\n",
       "      <th>1972</th>\n",
       "      <th>1973</th>\n",
       "      <th>1974</th>\n",
       "      <th>1975</th>\n",
       "      <th>1976</th>\n",
       "      <th>1977</th>\n",
       "      <th>1978</th>\n",
       "      <th>...</th>\n",
       "      <th>2013</th>\n",
       "      <th>2014</th>\n",
       "      <th>2015</th>\n",
       "      <th>2016</th>\n",
       "      <th>2017</th>\n",
       "      <th>2018</th>\n",
       "      <th>2019</th>\n",
       "      <th>2020</th>\n",
       "      <th>2021</th>\n",
       "      <th>2022</th>\n",
       "    </tr>\n",
       "  </thead>\n",
       "  <tbody>\n",
       "    <tr>\n",
       "      <th>0</th>\n",
       "      <td>AK</td>\n",
       "      <td>187.9</td>\n",
       "      <td>216.9</td>\n",
       "      <td>244.8</td>\n",
       "      <td>248.9</td>\n",
       "      <td>373.6</td>\n",
       "      <td>471.7</td>\n",
       "      <td>573.4</td>\n",
       "      <td>688.1</td>\n",
       "      <td>768.4</td>\n",
       "      <td>...</td>\n",
       "      <td>6957.4</td>\n",
       "      <td>6875.7</td>\n",
       "      <td>5552.3</td>\n",
       "      <td>4559.7</td>\n",
       "      <td>4998.9</td>\n",
       "      <td>5794.7</td>\n",
       "      <td>5651.2</td>\n",
       "      <td>4675.7</td>\n",
       "      <td>6539.2</td>\n",
       "      <td>9569.8</td>\n",
       "    </tr>\n",
       "    <tr>\n",
       "      <th>1</th>\n",
       "      <td>AL</td>\n",
       "      <td>1406.2</td>\n",
       "      <td>1523.0</td>\n",
       "      <td>1712.9</td>\n",
       "      <td>2010.7</td>\n",
       "      <td>2759.3</td>\n",
       "      <td>3088.1</td>\n",
       "      <td>3537.0</td>\n",
       "      <td>4263.2</td>\n",
       "      <td>4508.0</td>\n",
       "      <td>...</td>\n",
       "      <td>23972.2</td>\n",
       "      <td>24079.7</td>\n",
       "      <td>19990.1</td>\n",
       "      <td>19230.7</td>\n",
       "      <td>20437.2</td>\n",
       "      <td>21939.2</td>\n",
       "      <td>21298.2</td>\n",
       "      <td>18584.3</td>\n",
       "      <td>24270.8</td>\n",
       "      <td>30999.8</td>\n",
       "    </tr>\n",
       "    <tr>\n",
       "      <th>2</th>\n",
       "      <td>AR</td>\n",
       "      <td>801.1</td>\n",
       "      <td>859.5</td>\n",
       "      <td>949.6</td>\n",
       "      <td>1130.5</td>\n",
       "      <td>1499.6</td>\n",
       "      <td>1731.5</td>\n",
       "      <td>2035.6</td>\n",
       "      <td>2429.3</td>\n",
       "      <td>2501.3</td>\n",
       "      <td>...</td>\n",
       "      <td>14004.7</td>\n",
       "      <td>13916.4</td>\n",
       "      <td>11171.9</td>\n",
       "      <td>10293.6</td>\n",
       "      <td>11279.9</td>\n",
       "      <td>12444.1</td>\n",
       "      <td>12052.8</td>\n",
       "      <td>10365.9</td>\n",
       "      <td>13571.7</td>\n",
       "      <td>17391.8</td>\n",
       "    </tr>\n",
       "    <tr>\n",
       "      <th>3</th>\n",
       "      <td>AZ</td>\n",
       "      <td>743.1</td>\n",
       "      <td>819.6</td>\n",
       "      <td>944.5</td>\n",
       "      <td>1137.0</td>\n",
       "      <td>1499.9</td>\n",
       "      <td>1794.7</td>\n",
       "      <td>2016.3</td>\n",
       "      <td>2416.3</td>\n",
       "      <td>2674.4</td>\n",
       "      <td>...</td>\n",
       "      <td>23907.4</td>\n",
       "      <td>23613.1</td>\n",
       "      <td>20744.5</td>\n",
       "      <td>19582.8</td>\n",
       "      <td>21227.4</td>\n",
       "      <td>23685.3</td>\n",
       "      <td>23599.4</td>\n",
       "      <td>20350.7</td>\n",
       "      <td>25503.7</td>\n",
       "      <td>32960.9</td>\n",
       "    </tr>\n",
       "    <tr>\n",
       "      <th>4</th>\n",
       "      <td>CA</td>\n",
       "      <td>7000.0</td>\n",
       "      <td>7694.8</td>\n",
       "      <td>8181.7</td>\n",
       "      <td>9343.8</td>\n",
       "      <td>12762.0</td>\n",
       "      <td>14926.2</td>\n",
       "      <td>16632.8</td>\n",
       "      <td>19230.7</td>\n",
       "      <td>20990.1</td>\n",
       "      <td>...</td>\n",
       "      <td>135749.7</td>\n",
       "      <td>136011.3</td>\n",
       "      <td>120161.5</td>\n",
       "      <td>111267.0</td>\n",
       "      <td>123403.7</td>\n",
       "      <td>137538.8</td>\n",
       "      <td>139467.0</td>\n",
       "      <td>114661.5</td>\n",
       "      <td>150872.0</td>\n",
       "      <td>200007.5</td>\n",
       "    </tr>\n",
       "    <tr>\n",
       "      <th>5</th>\n",
       "      <td>CO</td>\n",
       "      <td>865.0</td>\n",
       "      <td>962.4</td>\n",
       "      <td>1047.6</td>\n",
       "      <td>1229.4</td>\n",
       "      <td>1592.7</td>\n",
       "      <td>1833.7</td>\n",
       "      <td>2048.7</td>\n",
       "      <td>2304.2</td>\n",
       "      <td>2544.5</td>\n",
       "      <td>...</td>\n",
       "      <td>19887.4</td>\n",
       "      <td>20433.4</td>\n",
       "      <td>16387.9</td>\n",
       "      <td>15099.7</td>\n",
       "      <td>16561.6</td>\n",
       "      <td>18682.0</td>\n",
       "      <td>18748.8</td>\n",
       "      <td>15426.3</td>\n",
       "      <td>20623.2</td>\n",
       "      <td>28371.1</td>\n",
       "    </tr>\n",
       "    <tr>\n",
       "      <th>6</th>\n",
       "      <td>CT</td>\n",
       "      <td>1174.9</td>\n",
       "      <td>1262.5</td>\n",
       "      <td>1387.9</td>\n",
       "      <td>1580.3</td>\n",
       "      <td>2242.5</td>\n",
       "      <td>2370.4</td>\n",
       "      <td>2586.0</td>\n",
       "      <td>2814.2</td>\n",
       "      <td>2961.7</td>\n",
       "      <td>...</td>\n",
       "      <td>15331.3</td>\n",
       "      <td>15590.2</td>\n",
       "      <td>13126.3</td>\n",
       "      <td>11750.0</td>\n",
       "      <td>12575.8</td>\n",
       "      <td>14218.6</td>\n",
       "      <td>13581.1</td>\n",
       "      <td>11537.0</td>\n",
       "      <td>13701.1</td>\n",
       "      <td>18123.7</td>\n",
       "    </tr>\n",
       "    <tr>\n",
       "      <th>7</th>\n",
       "      <td>DC</td>\n",
       "      <td>277.4</td>\n",
       "      <td>302.8</td>\n",
       "      <td>305.8</td>\n",
       "      <td>342.8</td>\n",
       "      <td>465.8</td>\n",
       "      <td>500.5</td>\n",
       "      <td>521.7</td>\n",
       "      <td>574.6</td>\n",
       "      <td>614.0</td>\n",
       "      <td>...</td>\n",
       "      <td>2218.3</td>\n",
       "      <td>2325.7</td>\n",
       "      <td>2144.8</td>\n",
       "      <td>1983.6</td>\n",
       "      <td>1968.0</td>\n",
       "      <td>2148.3</td>\n",
       "      <td>2119.3</td>\n",
       "      <td>1764.9</td>\n",
       "      <td>2109.2</td>\n",
       "      <td>2574.2</td>\n",
       "    </tr>\n",
       "    <tr>\n",
       "      <th>8</th>\n",
       "      <td>DE</td>\n",
       "      <td>263.1</td>\n",
       "      <td>292.4</td>\n",
       "      <td>328.8</td>\n",
       "      <td>379.8</td>\n",
       "      <td>535.2</td>\n",
       "      <td>584.9</td>\n",
       "      <td>627.8</td>\n",
       "      <td>712.2</td>\n",
       "      <td>747.3</td>\n",
       "      <td>...</td>\n",
       "      <td>3975.1</td>\n",
       "      <td>3994.0</td>\n",
       "      <td>3485.9</td>\n",
       "      <td>3187.2</td>\n",
       "      <td>3456.0</td>\n",
       "      <td>3901.1</td>\n",
       "      <td>3795.2</td>\n",
       "      <td>3112.6</td>\n",
       "      <td>3847.9</td>\n",
       "      <td>4816.8</td>\n",
       "    </tr>\n",
       "    <tr>\n",
       "      <th>9</th>\n",
       "      <td>FL</td>\n",
       "      <td>2610.2</td>\n",
       "      <td>2833.4</td>\n",
       "      <td>3220.5</td>\n",
       "      <td>3874.8</td>\n",
       "      <td>5217.7</td>\n",
       "      <td>5998.0</td>\n",
       "      <td>6616.6</td>\n",
       "      <td>7493.2</td>\n",
       "      <td>8428.8</td>\n",
       "      <td>...</td>\n",
       "      <td>67935.3</td>\n",
       "      <td>68555.7</td>\n",
       "      <td>57721.4</td>\n",
       "      <td>53453.2</td>\n",
       "      <td>58833.2</td>\n",
       "      <td>65005.7</td>\n",
       "      <td>62743.2</td>\n",
       "      <td>51539.2</td>\n",
       "      <td>66696.0</td>\n",
       "      <td>89282.3</td>\n",
       "    </tr>\n",
       "    <tr>\n",
       "      <th>10</th>\n",
       "      <td>GA</td>\n",
       "      <td>1767.8</td>\n",
       "      <td>1990.5</td>\n",
       "      <td>2183.6</td>\n",
       "      <td>2553.7</td>\n",
       "      <td>3418.0</td>\n",
       "      <td>3947.4</td>\n",
       "      <td>4362.6</td>\n",
       "      <td>5041.0</td>\n",
       "      <td>5507.4</td>\n",
       "      <td>...</td>\n",
       "      <td>42706.8</td>\n",
       "      <td>42586.0</td>\n",
       "      <td>34958.1</td>\n",
       "      <td>32346.1</td>\n",
       "      <td>35519.0</td>\n",
       "      <td>37683.5</td>\n",
       "      <td>36603.6</td>\n",
       "      <td>31075.6</td>\n",
       "      <td>38616.5</td>\n",
       "      <td>50945.5</td>\n",
       "    </tr>\n",
       "    <tr>\n",
       "      <th>11</th>\n",
       "      <td>HI</td>\n",
       "      <td>273.9</td>\n",
       "      <td>309.6</td>\n",
       "      <td>325.0</td>\n",
       "      <td>381.0</td>\n",
       "      <td>513.6</td>\n",
       "      <td>651.5</td>\n",
       "      <td>711.2</td>\n",
       "      <td>819.6</td>\n",
       "      <td>917.1</td>\n",
       "      <td>...</td>\n",
       "      <td>8214.8</td>\n",
       "      <td>7769.9</td>\n",
       "      <td>5906.4</td>\n",
       "      <td>5214.4</td>\n",
       "      <td>5847.9</td>\n",
       "      <td>6833.7</td>\n",
       "      <td>6732.8</td>\n",
       "      <td>4697.7</td>\n",
       "      <td>6347.8</td>\n",
       "      <td>9293.5</td>\n",
       "    </tr>\n",
       "    <tr>\n",
       "      <th>12</th>\n",
       "      <td>IA</td>\n",
       "      <td>1260.7</td>\n",
       "      <td>1340.8</td>\n",
       "      <td>1469.5</td>\n",
       "      <td>1695.3</td>\n",
       "      <td>2072.3</td>\n",
       "      <td>2364.0</td>\n",
       "      <td>2714.6</td>\n",
       "      <td>3071.4</td>\n",
       "      <td>3258.8</td>\n",
       "      <td>...</td>\n",
       "      <td>16792.6</td>\n",
       "      <td>17467.7</td>\n",
       "      <td>13413.7</td>\n",
       "      <td>12685.9</td>\n",
       "      <td>13953.8</td>\n",
       "      <td>15695.1</td>\n",
       "      <td>15004.4</td>\n",
       "      <td>12849.2</td>\n",
       "      <td>16730.0</td>\n",
       "      <td>22165.2</td>\n",
       "    </tr>\n",
       "    <tr>\n",
       "      <th>13</th>\n",
       "      <td>ID</td>\n",
       "      <td>348.3</td>\n",
       "      <td>375.1</td>\n",
       "      <td>410.0</td>\n",
       "      <td>466.4</td>\n",
       "      <td>610.5</td>\n",
       "      <td>735.0</td>\n",
       "      <td>809.7</td>\n",
       "      <td>899.4</td>\n",
       "      <td>976.8</td>\n",
       "      <td>...</td>\n",
       "      <td>7068.8</td>\n",
       "      <td>7145.6</td>\n",
       "      <td>6132.4</td>\n",
       "      <td>5717.9</td>\n",
       "      <td>6338.2</td>\n",
       "      <td>6950.1</td>\n",
       "      <td>6752.6</td>\n",
       "      <td>5946.2</td>\n",
       "      <td>7676.3</td>\n",
       "      <td>9809.3</td>\n",
       "    </tr>\n",
       "    <tr>\n",
       "      <th>14</th>\n",
       "      <td>IL</td>\n",
       "      <td>4931.4</td>\n",
       "      <td>5176.4</td>\n",
       "      <td>5648.3</td>\n",
       "      <td>6400.1</td>\n",
       "      <td>8301.7</td>\n",
       "      <td>9274.1</td>\n",
       "      <td>10474.1</td>\n",
       "      <td>11792.2</td>\n",
       "      <td>13151.6</td>\n",
       "      <td>...</td>\n",
       "      <td>48730.1</td>\n",
       "      <td>51697.8</td>\n",
       "      <td>40674.6</td>\n",
       "      <td>37624.7</td>\n",
       "      <td>40774.3</td>\n",
       "      <td>45081.6</td>\n",
       "      <td>42541.5</td>\n",
       "      <td>34176.3</td>\n",
       "      <td>45184.2</td>\n",
       "      <td>60710.4</td>\n",
       "    </tr>\n",
       "    <tr>\n",
       "      <th>15</th>\n",
       "      <td>IN</td>\n",
       "      <td>2558.9</td>\n",
       "      <td>2719.2</td>\n",
       "      <td>3001.5</td>\n",
       "      <td>3420.7</td>\n",
       "      <td>4622.6</td>\n",
       "      <td>5184.0</td>\n",
       "      <td>5583.2</td>\n",
       "      <td>6508.5</td>\n",
       "      <td>7239.8</td>\n",
       "      <td>...</td>\n",
       "      <td>33172.9</td>\n",
       "      <td>33965.1</td>\n",
       "      <td>27480.6</td>\n",
       "      <td>24914.7</td>\n",
       "      <td>26786.3</td>\n",
       "      <td>29540.9</td>\n",
       "      <td>28824.0</td>\n",
       "      <td>24306.1</td>\n",
       "      <td>31084.9</td>\n",
       "      <td>39627.5</td>\n",
       "    </tr>\n",
       "    <tr>\n",
       "      <th>16</th>\n",
       "      <td>KS</td>\n",
       "      <td>918.9</td>\n",
       "      <td>963.2</td>\n",
       "      <td>1027.0</td>\n",
       "      <td>1189.1</td>\n",
       "      <td>1539.0</td>\n",
       "      <td>1729.1</td>\n",
       "      <td>2050.1</td>\n",
       "      <td>2322.3</td>\n",
       "      <td>2553.4</td>\n",
       "      <td>...</td>\n",
       "      <td>13785.4</td>\n",
       "      <td>14500.1</td>\n",
       "      <td>11241.6</td>\n",
       "      <td>10523.9</td>\n",
       "      <td>11186.7</td>\n",
       "      <td>12594.4</td>\n",
       "      <td>12014.1</td>\n",
       "      <td>10269.6</td>\n",
       "      <td>12674.1</td>\n",
       "      <td>17246.2</td>\n",
       "    </tr>\n",
       "    <tr>\n",
       "      <th>17</th>\n",
       "      <td>KY</td>\n",
       "      <td>1295.9</td>\n",
       "      <td>1364.1</td>\n",
       "      <td>1489.5</td>\n",
       "      <td>1698.7</td>\n",
       "      <td>2244.8</td>\n",
       "      <td>2674.6</td>\n",
       "      <td>3048.0</td>\n",
       "      <td>3509.5</td>\n",
       "      <td>3806.0</td>\n",
       "      <td>...</td>\n",
       "      <td>22728.8</td>\n",
       "      <td>22224.6</td>\n",
       "      <td>17478.3</td>\n",
       "      <td>16182.0</td>\n",
       "      <td>17347.8</td>\n",
       "      <td>19697.3</td>\n",
       "      <td>18820.4</td>\n",
       "      <td>15411.2</td>\n",
       "      <td>20399.8</td>\n",
       "      <td>27349.0</td>\n",
       "    </tr>\n",
       "    <tr>\n",
       "      <th>18</th>\n",
       "      <td>LA</td>\n",
       "      <td>1817.7</td>\n",
       "      <td>1927.7</td>\n",
       "      <td>2196.6</td>\n",
       "      <td>2619.1</td>\n",
       "      <td>4111.0</td>\n",
       "      <td>4367.0</td>\n",
       "      <td>5204.0</td>\n",
       "      <td>6487.4</td>\n",
       "      <td>7048.6</td>\n",
       "      <td>...</td>\n",
       "      <td>39274.1</td>\n",
       "      <td>39410.0</td>\n",
       "      <td>27724.3</td>\n",
       "      <td>25026.6</td>\n",
       "      <td>29661.8</td>\n",
       "      <td>32721.4</td>\n",
       "      <td>29900.0</td>\n",
       "      <td>24325.2</td>\n",
       "      <td>36300.1</td>\n",
       "      <td>44877.1</td>\n",
       "    </tr>\n",
       "    <tr>\n",
       "      <th>19</th>\n",
       "      <td>MA</td>\n",
       "      <td>2296.4</td>\n",
       "      <td>2576.3</td>\n",
       "      <td>2756.3</td>\n",
       "      <td>3111.5</td>\n",
       "      <td>4383.8</td>\n",
       "      <td>4696.6</td>\n",
       "      <td>5173.6</td>\n",
       "      <td>5599.8</td>\n",
       "      <td>5644.3</td>\n",
       "      <td>...</td>\n",
       "      <td>28062.5</td>\n",
       "      <td>28161.3</td>\n",
       "      <td>24085.8</td>\n",
       "      <td>21537.1</td>\n",
       "      <td>23375.1</td>\n",
       "      <td>27139.6</td>\n",
       "      <td>25826.7</td>\n",
       "      <td>20938.9</td>\n",
       "      <td>25454.1</td>\n",
       "      <td>33810.6</td>\n",
       "    </tr>\n",
       "    <tr>\n",
       "      <th>20</th>\n",
       "      <td>MD</td>\n",
       "      <td>1521.5</td>\n",
       "      <td>1693.3</td>\n",
       "      <td>1826.3</td>\n",
       "      <td>2091.6</td>\n",
       "      <td>2948.3</td>\n",
       "      <td>3255.0</td>\n",
       "      <td>3595.7</td>\n",
       "      <td>3911.1</td>\n",
       "      <td>4237.6</td>\n",
       "      <td>...</td>\n",
       "      <td>23324.0</td>\n",
       "      <td>23493.6</td>\n",
       "      <td>19705.1</td>\n",
       "      <td>17894.6</td>\n",
       "      <td>18968.3</td>\n",
       "      <td>20414.2</td>\n",
       "      <td>19513.6</td>\n",
       "      <td>15959.7</td>\n",
       "      <td>19816.0</td>\n",
       "      <td>24773.3</td>\n",
       "    </tr>\n",
       "    <tr>\n",
       "      <th>21</th>\n",
       "      <td>ME</td>\n",
       "      <td>438.1</td>\n",
       "      <td>495.3</td>\n",
       "      <td>528.4</td>\n",
       "      <td>576.5</td>\n",
       "      <td>848.5</td>\n",
       "      <td>873.8</td>\n",
       "      <td>1014.0</td>\n",
       "      <td>1168.1</td>\n",
       "      <td>1164.4</td>\n",
       "      <td>...</td>\n",
       "      <td>7432.1</td>\n",
       "      <td>7571.3</td>\n",
       "      <td>6040.9</td>\n",
       "      <td>5271.9</td>\n",
       "      <td>5601.6</td>\n",
       "      <td>6150.8</td>\n",
       "      <td>5878.5</td>\n",
       "      <td>4882.2</td>\n",
       "      <td>6028.6</td>\n",
       "      <td>8347.4</td>\n",
       "    </tr>\n",
       "    <tr>\n",
       "      <th>22</th>\n",
       "      <td>MI</td>\n",
       "      <td>3718.3</td>\n",
       "      <td>3986.3</td>\n",
       "      <td>4349.5</td>\n",
       "      <td>5041.5</td>\n",
       "      <td>6691.8</td>\n",
       "      <td>7560.3</td>\n",
       "      <td>8470.3</td>\n",
       "      <td>9150.1</td>\n",
       "      <td>9868.1</td>\n",
       "      <td>...</td>\n",
       "      <td>40914.2</td>\n",
       "      <td>40922.3</td>\n",
       "      <td>33018.2</td>\n",
       "      <td>30952.3</td>\n",
       "      <td>32733.9</td>\n",
       "      <td>36318.5</td>\n",
       "      <td>34802.1</td>\n",
       "      <td>29106.0</td>\n",
       "      <td>36740.4</td>\n",
       "      <td>46032.4</td>\n",
       "    </tr>\n",
       "    <tr>\n",
       "      <th>23</th>\n",
       "      <td>MN</td>\n",
       "      <td>1650.2</td>\n",
       "      <td>1761.9</td>\n",
       "      <td>1895.6</td>\n",
       "      <td>2121.3</td>\n",
       "      <td>2773.7</td>\n",
       "      <td>3097.5</td>\n",
       "      <td>3474.2</td>\n",
       "      <td>3763.4</td>\n",
       "      <td>4117.2</td>\n",
       "      <td>...</td>\n",
       "      <td>25168.8</td>\n",
       "      <td>25728.0</td>\n",
       "      <td>19772.5</td>\n",
       "      <td>18616.0</td>\n",
       "      <td>20522.7</td>\n",
       "      <td>22811.1</td>\n",
       "      <td>22017.4</td>\n",
       "      <td>17675.6</td>\n",
       "      <td>22676.0</td>\n",
       "      <td>29963.5</td>\n",
       "    </tr>\n",
       "    <tr>\n",
       "      <th>24</th>\n",
       "      <td>MO</td>\n",
       "      <td>1937.4</td>\n",
       "      <td>2088.7</td>\n",
       "      <td>2232.8</td>\n",
       "      <td>2520.7</td>\n",
       "      <td>3212.7</td>\n",
       "      <td>3640.8</td>\n",
       "      <td>4148.4</td>\n",
       "      <td>4685.6</td>\n",
       "      <td>5078.0</td>\n",
       "      <td>...</td>\n",
       "      <td>26500.5</td>\n",
       "      <td>26626.3</td>\n",
       "      <td>21688.1</td>\n",
       "      <td>19939.9</td>\n",
       "      <td>21339.1</td>\n",
       "      <td>23771.2</td>\n",
       "      <td>22497.1</td>\n",
       "      <td>18898.5</td>\n",
       "      <td>23760.8</td>\n",
       "      <td>30585.9</td>\n",
       "    </tr>\n",
       "    <tr>\n",
       "      <th>25</th>\n",
       "      <td>MS</td>\n",
       "      <td>836.9</td>\n",
       "      <td>940.1</td>\n",
       "      <td>1049.1</td>\n",
       "      <td>1178.0</td>\n",
       "      <td>1549.8</td>\n",
       "      <td>1617.6</td>\n",
       "      <td>1905.8</td>\n",
       "      <td>2279.4</td>\n",
       "      <td>2463.7</td>\n",
       "      <td>...</td>\n",
       "      <td>14601.2</td>\n",
       "      <td>14935.6</td>\n",
       "      <td>12110.3</td>\n",
       "      <td>10942.5</td>\n",
       "      <td>11881.9</td>\n",
       "      <td>13100.5</td>\n",
       "      <td>12528.0</td>\n",
       "      <td>10588.3</td>\n",
       "      <td>13591.4</td>\n",
       "      <td>17589.5</td>\n",
       "    </tr>\n",
       "    <tr>\n",
       "      <th>26</th>\n",
       "      <td>MT</td>\n",
       "      <td>334.3</td>\n",
       "      <td>357.0</td>\n",
       "      <td>373.6</td>\n",
       "      <td>441.8</td>\n",
       "      <td>588.1</td>\n",
       "      <td>658.6</td>\n",
       "      <td>720.0</td>\n",
       "      <td>785.7</td>\n",
       "      <td>914.3</td>\n",
       "      <td>...</td>\n",
       "      <td>5622.4</td>\n",
       "      <td>5575.7</td>\n",
       "      <td>4384.4</td>\n",
       "      <td>4028.4</td>\n",
       "      <td>4592.9</td>\n",
       "      <td>5089.8</td>\n",
       "      <td>5018.9</td>\n",
       "      <td>4399.8</td>\n",
       "      <td>5587.1</td>\n",
       "      <td>7162.0</td>\n",
       "    </tr>\n",
       "    <tr>\n",
       "      <th>27</th>\n",
       "      <td>NC</td>\n",
       "      <td>1917.3</td>\n",
       "      <td>2121.2</td>\n",
       "      <td>2316.6</td>\n",
       "      <td>2629.8</td>\n",
       "      <td>3568.7</td>\n",
       "      <td>4004.7</td>\n",
       "      <td>4571.8</td>\n",
       "      <td>5148.1</td>\n",
       "      <td>5512.0</td>\n",
       "      <td>...</td>\n",
       "      <td>38054.4</td>\n",
       "      <td>38436.3</td>\n",
       "      <td>31788.5</td>\n",
       "      <td>29954.0</td>\n",
       "      <td>31642.3</td>\n",
       "      <td>35295.5</td>\n",
       "      <td>34243.0</td>\n",
       "      <td>28778.8</td>\n",
       "      <td>36261.5</td>\n",
       "      <td>46021.4</td>\n",
       "    </tr>\n",
       "    <tr>\n",
       "      <th>28</th>\n",
       "      <td>ND</td>\n",
       "      <td>290.3</td>\n",
       "      <td>310.4</td>\n",
       "      <td>314.5</td>\n",
       "      <td>365.2</td>\n",
       "      <td>480.8</td>\n",
       "      <td>544.0</td>\n",
       "      <td>595.4</td>\n",
       "      <td>651.4</td>\n",
       "      <td>736.3</td>\n",
       "      <td>...</td>\n",
       "      <td>7657.3</td>\n",
       "      <td>8219.4</td>\n",
       "      <td>5552.9</td>\n",
       "      <td>4619.6</td>\n",
       "      <td>5393.1</td>\n",
       "      <td>6192.2</td>\n",
       "      <td>5984.5</td>\n",
       "      <td>4805.7</td>\n",
       "      <td>6120.8</td>\n",
       "      <td>8184.3</td>\n",
       "    </tr>\n",
       "    <tr>\n",
       "      <th>29</th>\n",
       "      <td>NE</td>\n",
       "      <td>667.8</td>\n",
       "      <td>707.2</td>\n",
       "      <td>754.6</td>\n",
       "      <td>835.6</td>\n",
       "      <td>1054.8</td>\n",
       "      <td>1204.9</td>\n",
       "      <td>1410.4</td>\n",
       "      <td>1551.8</td>\n",
       "      <td>1669.5</td>\n",
       "      <td>...</td>\n",
       "      <td>10319.4</td>\n",
       "      <td>10356.8</td>\n",
       "      <td>8165.8</td>\n",
       "      <td>7558.2</td>\n",
       "      <td>8273.2</td>\n",
       "      <td>9225.5</td>\n",
       "      <td>8907.3</td>\n",
       "      <td>7650.6</td>\n",
       "      <td>9649.8</td>\n",
       "      <td>12714.3</td>\n",
       "    </tr>\n",
       "    <tr>\n",
       "      <th>30</th>\n",
       "      <td>NH</td>\n",
       "      <td>316.7</td>\n",
       "      <td>353.3</td>\n",
       "      <td>376.7</td>\n",
       "      <td>424.1</td>\n",
       "      <td>587.9</td>\n",
       "      <td>643.7</td>\n",
       "      <td>741.9</td>\n",
       "      <td>818.2</td>\n",
       "      <td>892.1</td>\n",
       "      <td>...</td>\n",
       "      <td>6144.5</td>\n",
       "      <td>6443.0</td>\n",
       "      <td>5285.3</td>\n",
       "      <td>4718.8</td>\n",
       "      <td>5190.3</td>\n",
       "      <td>5845.2</td>\n",
       "      <td>5546.1</td>\n",
       "      <td>4618.8</td>\n",
       "      <td>5668.9</td>\n",
       "      <td>7646.2</td>\n",
       "    </tr>\n",
       "    <tr>\n",
       "      <th>31</th>\n",
       "      <td>NJ</td>\n",
       "      <td>3051.6</td>\n",
       "      <td>3365.6</td>\n",
       "      <td>3620.4</td>\n",
       "      <td>4021.6</td>\n",
       "      <td>5751.5</td>\n",
       "      <td>6111.0</td>\n",
       "      <td>6916.2</td>\n",
       "      <td>7374.8</td>\n",
       "      <td>7676.7</td>\n",
       "      <td>...</td>\n",
       "      <td>37567.0</td>\n",
       "      <td>37180.0</td>\n",
       "      <td>29753.7</td>\n",
       "      <td>27338.8</td>\n",
       "      <td>29035.2</td>\n",
       "      <td>32319.7</td>\n",
       "      <td>30457.3</td>\n",
       "      <td>24875.4</td>\n",
       "      <td>30977.7</td>\n",
       "      <td>40014.5</td>\n",
       "    </tr>\n",
       "    <tr>\n",
       "      <th>32</th>\n",
       "      <td>NM</td>\n",
       "      <td>462.2</td>\n",
       "      <td>499.2</td>\n",
       "      <td>543.3</td>\n",
       "      <td>603.2</td>\n",
       "      <td>809.4</td>\n",
       "      <td>902.9</td>\n",
       "      <td>1023.9</td>\n",
       "      <td>1186.9</td>\n",
       "      <td>1353.1</td>\n",
       "      <td>...</td>\n",
       "      <td>9071.8</td>\n",
       "      <td>9213.6</td>\n",
       "      <td>7238.1</td>\n",
       "      <td>6476.6</td>\n",
       "      <td>7348.0</td>\n",
       "      <td>8248.1</td>\n",
       "      <td>7951.1</td>\n",
       "      <td>6738.4</td>\n",
       "      <td>9133.2</td>\n",
       "      <td>11754.6</td>\n",
       "    </tr>\n",
       "    <tr>\n",
       "      <th>33</th>\n",
       "      <td>NV</td>\n",
       "      <td>277.4</td>\n",
       "      <td>296.0</td>\n",
       "      <td>333.4</td>\n",
       "      <td>387.8</td>\n",
       "      <td>515.7</td>\n",
       "      <td>613.7</td>\n",
       "      <td>690.5</td>\n",
       "      <td>810.9</td>\n",
       "      <td>953.8</td>\n",
       "      <td>...</td>\n",
       "      <td>11296.3</td>\n",
       "      <td>11516.3</td>\n",
       "      <td>9664.9</td>\n",
       "      <td>8753.8</td>\n",
       "      <td>9857.5</td>\n",
       "      <td>11143.9</td>\n",
       "      <td>11090.0</td>\n",
       "      <td>8776.8</td>\n",
       "      <td>11283.8</td>\n",
       "      <td>16151.6</td>\n",
       "    </tr>\n",
       "    <tr>\n",
       "      <th>34</th>\n",
       "      <td>NY</td>\n",
       "      <td>6363.2</td>\n",
       "      <td>6987.2</td>\n",
       "      <td>7499.7</td>\n",
       "      <td>8515.2</td>\n",
       "      <td>11761.6</td>\n",
       "      <td>12610.2</td>\n",
       "      <td>14049.3</td>\n",
       "      <td>15299.9</td>\n",
       "      <td>15904.7</td>\n",
       "      <td>...</td>\n",
       "      <td>68137.6</td>\n",
       "      <td>70093.4</td>\n",
       "      <td>56788.9</td>\n",
       "      <td>50925.7</td>\n",
       "      <td>55313.0</td>\n",
       "      <td>62318.3</td>\n",
       "      <td>58559.1</td>\n",
       "      <td>48028.6</td>\n",
       "      <td>60270.8</td>\n",
       "      <td>80624.8</td>\n",
       "    </tr>\n",
       "    <tr>\n",
       "      <th>35</th>\n",
       "      <td>OH</td>\n",
       "      <td>4646.5</td>\n",
       "      <td>4954.3</td>\n",
       "      <td>5415.5</td>\n",
       "      <td>5879.1</td>\n",
       "      <td>8211.7</td>\n",
       "      <td>9139.4</td>\n",
       "      <td>10083.7</td>\n",
       "      <td>11406.6</td>\n",
       "      <td>12412.6</td>\n",
       "      <td>...</td>\n",
       "      <td>48589.3</td>\n",
       "      <td>50278.0</td>\n",
       "      <td>40888.4</td>\n",
       "      <td>37641.5</td>\n",
       "      <td>39958.9</td>\n",
       "      <td>44062.9</td>\n",
       "      <td>41912.6</td>\n",
       "      <td>34973.3</td>\n",
       "      <td>44431.1</td>\n",
       "      <td>56787.3</td>\n",
       "    </tr>\n",
       "    <tr>\n",
       "      <th>36</th>\n",
       "      <td>OK</td>\n",
       "      <td>1050.9</td>\n",
       "      <td>1099.1</td>\n",
       "      <td>1207.1</td>\n",
       "      <td>1356.7</td>\n",
       "      <td>1777.4</td>\n",
       "      <td>2032.0</td>\n",
       "      <td>2416.5</td>\n",
       "      <td>2911.2</td>\n",
       "      <td>3269.1</td>\n",
       "      <td>...</td>\n",
       "      <td>19298.8</td>\n",
       "      <td>20395.4</td>\n",
       "      <td>15942.3</td>\n",
       "      <td>13905.2</td>\n",
       "      <td>15433.4</td>\n",
       "      <td>17018.3</td>\n",
       "      <td>16045.9</td>\n",
       "      <td>13013.2</td>\n",
       "      <td>17724.0</td>\n",
       "      <td>24645.2</td>\n",
       "    </tr>\n",
       "    <tr>\n",
       "      <th>37</th>\n",
       "      <td>OR</td>\n",
       "      <td>881.0</td>\n",
       "      <td>973.2</td>\n",
       "      <td>1034.1</td>\n",
       "      <td>1174.9</td>\n",
       "      <td>1512.8</td>\n",
       "      <td>1667.5</td>\n",
       "      <td>1874.3</td>\n",
       "      <td>2101.4</td>\n",
       "      <td>2383.9</td>\n",
       "      <td>...</td>\n",
       "      <td>14841.0</td>\n",
       "      <td>14802.8</td>\n",
       "      <td>12671.9</td>\n",
       "      <td>11789.4</td>\n",
       "      <td>13070.1</td>\n",
       "      <td>14235.0</td>\n",
       "      <td>14108.9</td>\n",
       "      <td>12056.6</td>\n",
       "      <td>15159.0</td>\n",
       "      <td>19474.1</td>\n",
       "    </tr>\n",
       "    <tr>\n",
       "      <th>38</th>\n",
       "      <td>PA</td>\n",
       "      <td>4791.6</td>\n",
       "      <td>5272.8</td>\n",
       "      <td>5783.1</td>\n",
       "      <td>6376.8</td>\n",
       "      <td>9009.0</td>\n",
       "      <td>9705.8</td>\n",
       "      <td>10797.9</td>\n",
       "      <td>11963.3</td>\n",
       "      <td>12516.2</td>\n",
       "      <td>...</td>\n",
       "      <td>54671.1</td>\n",
       "      <td>55899.6</td>\n",
       "      <td>44949.4</td>\n",
       "      <td>39850.3</td>\n",
       "      <td>43435.2</td>\n",
       "      <td>48023.7</td>\n",
       "      <td>45806.7</td>\n",
       "      <td>37536.5</td>\n",
       "      <td>46668.4</td>\n",
       "      <td>62889.4</td>\n",
       "    </tr>\n",
       "    <tr>\n",
       "      <th>39</th>\n",
       "      <td>RI</td>\n",
       "      <td>357.1</td>\n",
       "      <td>396.7</td>\n",
       "      <td>423.8</td>\n",
       "      <td>459.6</td>\n",
       "      <td>654.0</td>\n",
       "      <td>694.2</td>\n",
       "      <td>743.9</td>\n",
       "      <td>848.4</td>\n",
       "      <td>845.7</td>\n",
       "      <td>...</td>\n",
       "      <td>3991.6</td>\n",
       "      <td>4218.1</td>\n",
       "      <td>3578.1</td>\n",
       "      <td>3018.3</td>\n",
       "      <td>3217.3</td>\n",
       "      <td>3877.9</td>\n",
       "      <td>3643.6</td>\n",
       "      <td>3145.0</td>\n",
       "      <td>3749.9</td>\n",
       "      <td>4720.4</td>\n",
       "    </tr>\n",
       "    <tr>\n",
       "      <th>40</th>\n",
       "      <td>SC</td>\n",
       "      <td>969.5</td>\n",
       "      <td>1083.3</td>\n",
       "      <td>1206.0</td>\n",
       "      <td>1389.2</td>\n",
       "      <td>1892.7</td>\n",
       "      <td>2111.1</td>\n",
       "      <td>2531.3</td>\n",
       "      <td>2907.9</td>\n",
       "      <td>3051.7</td>\n",
       "      <td>...</td>\n",
       "      <td>21813.3</td>\n",
       "      <td>22132.2</td>\n",
       "      <td>18598.0</td>\n",
       "      <td>17749.0</td>\n",
       "      <td>18953.2</td>\n",
       "      <td>20320.3</td>\n",
       "      <td>19715.9</td>\n",
       "      <td>16675.6</td>\n",
       "      <td>20946.4</td>\n",
       "      <td>26170.3</td>\n",
       "    </tr>\n",
       "    <tr>\n",
       "      <th>41</th>\n",
       "      <td>SD</td>\n",
       "      <td>306.9</td>\n",
       "      <td>313.2</td>\n",
       "      <td>317.0</td>\n",
       "      <td>369.0</td>\n",
       "      <td>475.6</td>\n",
       "      <td>534.9</td>\n",
       "      <td>591.5</td>\n",
       "      <td>649.5</td>\n",
       "      <td>722.6</td>\n",
       "      <td>...</td>\n",
       "      <td>4768.0</td>\n",
       "      <td>4877.4</td>\n",
       "      <td>3847.4</td>\n",
       "      <td>3526.3</td>\n",
       "      <td>3866.5</td>\n",
       "      <td>4318.2</td>\n",
       "      <td>4168.7</td>\n",
       "      <td>3721.5</td>\n",
       "      <td>4761.1</td>\n",
       "      <td>6059.8</td>\n",
       "    </tr>\n",
       "    <tr>\n",
       "      <th>42</th>\n",
       "      <td>TN</td>\n",
       "      <td>1480.6</td>\n",
       "      <td>1638.8</td>\n",
       "      <td>1793.1</td>\n",
       "      <td>2092.8</td>\n",
       "      <td>2723.2</td>\n",
       "      <td>3456.2</td>\n",
       "      <td>3973.8</td>\n",
       "      <td>4476.1</td>\n",
       "      <td>5028.4</td>\n",
       "      <td>...</td>\n",
       "      <td>28975.3</td>\n",
       "      <td>29650.5</td>\n",
       "      <td>23962.6</td>\n",
       "      <td>22389.1</td>\n",
       "      <td>23854.5</td>\n",
       "      <td>26752.5</td>\n",
       "      <td>25964.0</td>\n",
       "      <td>21415.9</td>\n",
       "      <td>27889.3</td>\n",
       "      <td>36356.8</td>\n",
       "    </tr>\n",
       "    <tr>\n",
       "      <th>43</th>\n",
       "      <td>TX</td>\n",
       "      <td>5458.4</td>\n",
       "      <td>5997.2</td>\n",
       "      <td>6624.6</td>\n",
       "      <td>7691.9</td>\n",
       "      <td>11523.8</td>\n",
       "      <td>12935.7</td>\n",
       "      <td>15455.9</td>\n",
       "      <td>18822.7</td>\n",
       "      <td>21289.5</td>\n",
       "      <td>...</td>\n",
       "      <td>158261.7</td>\n",
       "      <td>160247.6</td>\n",
       "      <td>119249.2</td>\n",
       "      <td>110531.3</td>\n",
       "      <td>125242.8</td>\n",
       "      <td>148167.3</td>\n",
       "      <td>137178.4</td>\n",
       "      <td>107859.4</td>\n",
       "      <td>160765.8</td>\n",
       "      <td>202631.8</td>\n",
       "    </tr>\n",
       "    <tr>\n",
       "      <th>44</th>\n",
       "      <td>UT</td>\n",
       "      <td>428.9</td>\n",
       "      <td>474.6</td>\n",
       "      <td>513.8</td>\n",
       "      <td>595.3</td>\n",
       "      <td>852.8</td>\n",
       "      <td>987.6</td>\n",
       "      <td>1109.7</td>\n",
       "      <td>1196.5</td>\n",
       "      <td>1350.6</td>\n",
       "      <td>...</td>\n",
       "      <td>10936.6</td>\n",
       "      <td>10856.2</td>\n",
       "      <td>8894.2</td>\n",
       "      <td>8397.6</td>\n",
       "      <td>9271.0</td>\n",
       "      <td>10446.7</td>\n",
       "      <td>10051.3</td>\n",
       "      <td>8720.6</td>\n",
       "      <td>11148.2</td>\n",
       "      <td>14880.6</td>\n",
       "    </tr>\n",
       "    <tr>\n",
       "      <th>45</th>\n",
       "      <td>VA</td>\n",
       "      <td>1750.7</td>\n",
       "      <td>1886.2</td>\n",
       "      <td>2064.2</td>\n",
       "      <td>2360.2</td>\n",
       "      <td>3373.3</td>\n",
       "      <td>3874.3</td>\n",
       "      <td>4283.4</td>\n",
       "      <td>4993.8</td>\n",
       "      <td>5267.4</td>\n",
       "      <td>...</td>\n",
       "      <td>34734.0</td>\n",
       "      <td>35309.3</td>\n",
       "      <td>28475.8</td>\n",
       "      <td>26283.5</td>\n",
       "      <td>28426.2</td>\n",
       "      <td>32168.3</td>\n",
       "      <td>31232.1</td>\n",
       "      <td>25602.1</td>\n",
       "      <td>32242.1</td>\n",
       "      <td>42435.3</td>\n",
       "    </tr>\n",
       "    <tr>\n",
       "      <th>46</th>\n",
       "      <td>VT</td>\n",
       "      <td>203.9</td>\n",
       "      <td>220.5</td>\n",
       "      <td>244.6</td>\n",
       "      <td>270.3</td>\n",
       "      <td>348.6</td>\n",
       "      <td>364.7</td>\n",
       "      <td>433.0</td>\n",
       "      <td>452.4</td>\n",
       "      <td>488.1</td>\n",
       "      <td>...</td>\n",
       "      <td>3313.2</td>\n",
       "      <td>3305.1</td>\n",
       "      <td>2693.2</td>\n",
       "      <td>2405.0</td>\n",
       "      <td>2585.5</td>\n",
       "      <td>2840.1</td>\n",
       "      <td>2738.3</td>\n",
       "      <td>2321.4</td>\n",
       "      <td>2807.1</td>\n",
       "      <td>3580.1</td>\n",
       "    </tr>\n",
       "    <tr>\n",
       "      <th>47</th>\n",
       "      <td>WA</td>\n",
       "      <td>1249.5</td>\n",
       "      <td>1323.0</td>\n",
       "      <td>1432.5</td>\n",
       "      <td>1617.1</td>\n",
       "      <td>2086.4</td>\n",
       "      <td>2427.2</td>\n",
       "      <td>2663.3</td>\n",
       "      <td>3006.5</td>\n",
       "      <td>3264.3</td>\n",
       "      <td>...</td>\n",
       "      <td>26479.2</td>\n",
       "      <td>25674.1</td>\n",
       "      <td>21867.9</td>\n",
       "      <td>21115.9</td>\n",
       "      <td>23669.6</td>\n",
       "      <td>25970.2</td>\n",
       "      <td>25818.3</td>\n",
       "      <td>19942.6</td>\n",
       "      <td>25859.7</td>\n",
       "      <td>34112.5</td>\n",
       "    </tr>\n",
       "    <tr>\n",
       "      <th>48</th>\n",
       "      <td>WI</td>\n",
       "      <td>1820.2</td>\n",
       "      <td>1915.3</td>\n",
       "      <td>2021.8</td>\n",
       "      <td>2399.5</td>\n",
       "      <td>3036.9</td>\n",
       "      <td>3386.6</td>\n",
       "      <td>3819.5</td>\n",
       "      <td>4360.4</td>\n",
       "      <td>4696.6</td>\n",
       "      <td>...</td>\n",
       "      <td>24877.7</td>\n",
       "      <td>26491.1</td>\n",
       "      <td>20771.2</td>\n",
       "      <td>19157.4</td>\n",
       "      <td>20531.9</td>\n",
       "      <td>22832.3</td>\n",
       "      <td>21971.1</td>\n",
       "      <td>18492.8</td>\n",
       "      <td>23877.9</td>\n",
       "      <td>30555.5</td>\n",
       "    </tr>\n",
       "    <tr>\n",
       "      <th>49</th>\n",
       "      <td>WV</td>\n",
       "      <td>744.7</td>\n",
       "      <td>818.5</td>\n",
       "      <td>910.8</td>\n",
       "      <td>998.0</td>\n",
       "      <td>1424.8</td>\n",
       "      <td>1722.7</td>\n",
       "      <td>1897.6</td>\n",
       "      <td>2121.9</td>\n",
       "      <td>2169.8</td>\n",
       "      <td>...</td>\n",
       "      <td>9175.9</td>\n",
       "      <td>9021.0</td>\n",
       "      <td>7249.3</td>\n",
       "      <td>7146.2</td>\n",
       "      <td>7453.3</td>\n",
       "      <td>8745.0</td>\n",
       "      <td>7998.9</td>\n",
       "      <td>6691.4</td>\n",
       "      <td>8708.5</td>\n",
       "      <td>10873.2</td>\n",
       "    </tr>\n",
       "    <tr>\n",
       "      <th>50</th>\n",
       "      <td>WY</td>\n",
       "      <td>226.8</td>\n",
       "      <td>238.4</td>\n",
       "      <td>258.8</td>\n",
       "      <td>289.7</td>\n",
       "      <td>407.3</td>\n",
       "      <td>469.9</td>\n",
       "      <td>541.1</td>\n",
       "      <td>650.5</td>\n",
       "      <td>778.4</td>\n",
       "      <td>...</td>\n",
       "      <td>5545.8</td>\n",
       "      <td>5863.4</td>\n",
       "      <td>4447.0</td>\n",
       "      <td>3991.6</td>\n",
       "      <td>4391.0</td>\n",
       "      <td>4948.7</td>\n",
       "      <td>4685.1</td>\n",
       "      <td>3853.0</td>\n",
       "      <td>4964.2</td>\n",
       "      <td>6526.4</td>\n",
       "    </tr>\n",
       "    <tr>\n",
       "      <th>51</th>\n",
       "      <td>US</td>\n",
       "      <td>82874.8</td>\n",
       "      <td>90037.8</td>\n",
       "      <td>98070.2</td>\n",
       "      <td>111894.2</td>\n",
       "      <td>153369.0</td>\n",
       "      <td>171853.7</td>\n",
       "      <td>193915.8</td>\n",
       "      <td>220499.1</td>\n",
       "      <td>239280.2</td>\n",
       "      <td>...</td>\n",
       "      <td>1376403.2</td>\n",
       "      <td>1395432.1</td>\n",
       "      <td>1128448.7</td>\n",
       "      <td>1038885.3</td>\n",
       "      <td>1136316.4</td>\n",
       "      <td>1271997.9</td>\n",
       "      <td>1223874.6</td>\n",
       "      <td>1007680.0</td>\n",
       "      <td>1316977.8</td>\n",
       "      <td>1719438.1</td>\n",
       "    </tr>\n",
       "  </tbody>\n",
       "</table>\n",
       "<p>52 rows × 54 columns</p>\n",
       "</div>"
      ],
      "text/plain": [
       "   State     1970     1971     1972      1973      1974      1975      1976  \\\n",
       "0     AK    187.9    216.9    244.8     248.9     373.6     471.7     573.4   \n",
       "1     AL   1406.2   1523.0   1712.9    2010.7    2759.3    3088.1    3537.0   \n",
       "2     AR    801.1    859.5    949.6    1130.5    1499.6    1731.5    2035.6   \n",
       "3     AZ    743.1    819.6    944.5    1137.0    1499.9    1794.7    2016.3   \n",
       "4     CA   7000.0   7694.8   8181.7    9343.8   12762.0   14926.2   16632.8   \n",
       "5     CO    865.0    962.4   1047.6    1229.4    1592.7    1833.7    2048.7   \n",
       "6     CT   1174.9   1262.5   1387.9    1580.3    2242.5    2370.4    2586.0   \n",
       "7     DC    277.4    302.8    305.8     342.8     465.8     500.5     521.7   \n",
       "8     DE    263.1    292.4    328.8     379.8     535.2     584.9     627.8   \n",
       "9     FL   2610.2   2833.4   3220.5    3874.8    5217.7    5998.0    6616.6   \n",
       "10    GA   1767.8   1990.5   2183.6    2553.7    3418.0    3947.4    4362.6   \n",
       "11    HI    273.9    309.6    325.0     381.0     513.6     651.5     711.2   \n",
       "12    IA   1260.7   1340.8   1469.5    1695.3    2072.3    2364.0    2714.6   \n",
       "13    ID    348.3    375.1    410.0     466.4     610.5     735.0     809.7   \n",
       "14    IL   4931.4   5176.4   5648.3    6400.1    8301.7    9274.1   10474.1   \n",
       "15    IN   2558.9   2719.2   3001.5    3420.7    4622.6    5184.0    5583.2   \n",
       "16    KS    918.9    963.2   1027.0    1189.1    1539.0    1729.1    2050.1   \n",
       "17    KY   1295.9   1364.1   1489.5    1698.7    2244.8    2674.6    3048.0   \n",
       "18    LA   1817.7   1927.7   2196.6    2619.1    4111.0    4367.0    5204.0   \n",
       "19    MA   2296.4   2576.3   2756.3    3111.5    4383.8    4696.6    5173.6   \n",
       "20    MD   1521.5   1693.3   1826.3    2091.6    2948.3    3255.0    3595.7   \n",
       "21    ME    438.1    495.3    528.4     576.5     848.5     873.8    1014.0   \n",
       "22    MI   3718.3   3986.3   4349.5    5041.5    6691.8    7560.3    8470.3   \n",
       "23    MN   1650.2   1761.9   1895.6    2121.3    2773.7    3097.5    3474.2   \n",
       "24    MO   1937.4   2088.7   2232.8    2520.7    3212.7    3640.8    4148.4   \n",
       "25    MS    836.9    940.1   1049.1    1178.0    1549.8    1617.6    1905.8   \n",
       "26    MT    334.3    357.0    373.6     441.8     588.1     658.6     720.0   \n",
       "27    NC   1917.3   2121.2   2316.6    2629.8    3568.7    4004.7    4571.8   \n",
       "28    ND    290.3    310.4    314.5     365.2     480.8     544.0     595.4   \n",
       "29    NE    667.8    707.2    754.6     835.6    1054.8    1204.9    1410.4   \n",
       "30    NH    316.7    353.3    376.7     424.1     587.9     643.7     741.9   \n",
       "31    NJ   3051.6   3365.6   3620.4    4021.6    5751.5    6111.0    6916.2   \n",
       "32    NM    462.2    499.2    543.3     603.2     809.4     902.9    1023.9   \n",
       "33    NV    277.4    296.0    333.4     387.8     515.7     613.7     690.5   \n",
       "34    NY   6363.2   6987.2   7499.7    8515.2   11761.6   12610.2   14049.3   \n",
       "35    OH   4646.5   4954.3   5415.5    5879.1    8211.7    9139.4   10083.7   \n",
       "36    OK   1050.9   1099.1   1207.1    1356.7    1777.4    2032.0    2416.5   \n",
       "37    OR    881.0    973.2   1034.1    1174.9    1512.8    1667.5    1874.3   \n",
       "38    PA   4791.6   5272.8   5783.1    6376.8    9009.0    9705.8   10797.9   \n",
       "39    RI    357.1    396.7    423.8     459.6     654.0     694.2     743.9   \n",
       "40    SC    969.5   1083.3   1206.0    1389.2    1892.7    2111.1    2531.3   \n",
       "41    SD    306.9    313.2    317.0     369.0     475.6     534.9     591.5   \n",
       "42    TN   1480.6   1638.8   1793.1    2092.8    2723.2    3456.2    3973.8   \n",
       "43    TX   5458.4   5997.2   6624.6    7691.9   11523.8   12935.7   15455.9   \n",
       "44    UT    428.9    474.6    513.8     595.3     852.8     987.6    1109.7   \n",
       "45    VA   1750.7   1886.2   2064.2    2360.2    3373.3    3874.3    4283.4   \n",
       "46    VT    203.9    220.5    244.6     270.3     348.6     364.7     433.0   \n",
       "47    WA   1249.5   1323.0   1432.5    1617.1    2086.4    2427.2    2663.3   \n",
       "48    WI   1820.2   1915.3   2021.8    2399.5    3036.9    3386.6    3819.5   \n",
       "49    WV    744.7    818.5    910.8     998.0    1424.8    1722.7    1897.6   \n",
       "50    WY    226.8    238.4    258.8     289.7     407.3     469.9     541.1   \n",
       "51    US  82874.8  90037.8  98070.2  111894.2  153369.0  171853.7  193915.8   \n",
       "\n",
       "        1977      1978  ...       2013       2014       2015       2016  \\\n",
       "0      688.1     768.4  ...     6957.4     6875.7     5552.3     4559.7   \n",
       "1     4263.2    4508.0  ...    23972.2    24079.7    19990.1    19230.7   \n",
       "2     2429.3    2501.3  ...    14004.7    13916.4    11171.9    10293.6   \n",
       "3     2416.3    2674.4  ...    23907.4    23613.1    20744.5    19582.8   \n",
       "4    19230.7   20990.1  ...   135749.7   136011.3   120161.5   111267.0   \n",
       "5     2304.2    2544.5  ...    19887.4    20433.4    16387.9    15099.7   \n",
       "6     2814.2    2961.7  ...    15331.3    15590.2    13126.3    11750.0   \n",
       "7      574.6     614.0  ...     2218.3     2325.7     2144.8     1983.6   \n",
       "8      712.2     747.3  ...     3975.1     3994.0     3485.9     3187.2   \n",
       "9     7493.2    8428.8  ...    67935.3    68555.7    57721.4    53453.2   \n",
       "10    5041.0    5507.4  ...    42706.8    42586.0    34958.1    32346.1   \n",
       "11     819.6     917.1  ...     8214.8     7769.9     5906.4     5214.4   \n",
       "12    3071.4    3258.8  ...    16792.6    17467.7    13413.7    12685.9   \n",
       "13     899.4     976.8  ...     7068.8     7145.6     6132.4     5717.9   \n",
       "14   11792.2   13151.6  ...    48730.1    51697.8    40674.6    37624.7   \n",
       "15    6508.5    7239.8  ...    33172.9    33965.1    27480.6    24914.7   \n",
       "16    2322.3    2553.4  ...    13785.4    14500.1    11241.6    10523.9   \n",
       "17    3509.5    3806.0  ...    22728.8    22224.6    17478.3    16182.0   \n",
       "18    6487.4    7048.6  ...    39274.1    39410.0    27724.3    25026.6   \n",
       "19    5599.8    5644.3  ...    28062.5    28161.3    24085.8    21537.1   \n",
       "20    3911.1    4237.6  ...    23324.0    23493.6    19705.1    17894.6   \n",
       "21    1168.1    1164.4  ...     7432.1     7571.3     6040.9     5271.9   \n",
       "22    9150.1    9868.1  ...    40914.2    40922.3    33018.2    30952.3   \n",
       "23    3763.4    4117.2  ...    25168.8    25728.0    19772.5    18616.0   \n",
       "24    4685.6    5078.0  ...    26500.5    26626.3    21688.1    19939.9   \n",
       "25    2279.4    2463.7  ...    14601.2    14935.6    12110.3    10942.5   \n",
       "26     785.7     914.3  ...     5622.4     5575.7     4384.4     4028.4   \n",
       "27    5148.1    5512.0  ...    38054.4    38436.3    31788.5    29954.0   \n",
       "28     651.4     736.3  ...     7657.3     8219.4     5552.9     4619.6   \n",
       "29    1551.8    1669.5  ...    10319.4    10356.8     8165.8     7558.2   \n",
       "30     818.2     892.1  ...     6144.5     6443.0     5285.3     4718.8   \n",
       "31    7374.8    7676.7  ...    37567.0    37180.0    29753.7    27338.8   \n",
       "32    1186.9    1353.1  ...     9071.8     9213.6     7238.1     6476.6   \n",
       "33     810.9     953.8  ...    11296.3    11516.3     9664.9     8753.8   \n",
       "34   15299.9   15904.7  ...    68137.6    70093.4    56788.9    50925.7   \n",
       "35   11406.6   12412.6  ...    48589.3    50278.0    40888.4    37641.5   \n",
       "36    2911.2    3269.1  ...    19298.8    20395.4    15942.3    13905.2   \n",
       "37    2101.4    2383.9  ...    14841.0    14802.8    12671.9    11789.4   \n",
       "38   11963.3   12516.2  ...    54671.1    55899.6    44949.4    39850.3   \n",
       "39     848.4     845.7  ...     3991.6     4218.1     3578.1     3018.3   \n",
       "40    2907.9    3051.7  ...    21813.3    22132.2    18598.0    17749.0   \n",
       "41     649.5     722.6  ...     4768.0     4877.4     3847.4     3526.3   \n",
       "42    4476.1    5028.4  ...    28975.3    29650.5    23962.6    22389.1   \n",
       "43   18822.7   21289.5  ...   158261.7   160247.6   119249.2   110531.3   \n",
       "44    1196.5    1350.6  ...    10936.6    10856.2     8894.2     8397.6   \n",
       "45    4993.8    5267.4  ...    34734.0    35309.3    28475.8    26283.5   \n",
       "46     452.4     488.1  ...     3313.2     3305.1     2693.2     2405.0   \n",
       "47    3006.5    3264.3  ...    26479.2    25674.1    21867.9    21115.9   \n",
       "48    4360.4    4696.6  ...    24877.7    26491.1    20771.2    19157.4   \n",
       "49    2121.9    2169.8  ...     9175.9     9021.0     7249.3     7146.2   \n",
       "50     650.5     778.4  ...     5545.8     5863.4     4447.0     3991.6   \n",
       "51  220499.1  239280.2  ...  1376403.2  1395432.1  1128448.7  1038885.3   \n",
       "\n",
       "         2017       2018       2019       2020       2021       2022  \n",
       "0      4998.9     5794.7     5651.2     4675.7     6539.2     9569.8  \n",
       "1     20437.2    21939.2    21298.2    18584.3    24270.8    30999.8  \n",
       "2     11279.9    12444.1    12052.8    10365.9    13571.7    17391.8  \n",
       "3     21227.4    23685.3    23599.4    20350.7    25503.7    32960.9  \n",
       "4    123403.7   137538.8   139467.0   114661.5   150872.0   200007.5  \n",
       "5     16561.6    18682.0    18748.8    15426.3    20623.2    28371.1  \n",
       "6     12575.8    14218.6    13581.1    11537.0    13701.1    18123.7  \n",
       "7      1968.0     2148.3     2119.3     1764.9     2109.2     2574.2  \n",
       "8      3456.0     3901.1     3795.2     3112.6     3847.9     4816.8  \n",
       "9     58833.2    65005.7    62743.2    51539.2    66696.0    89282.3  \n",
       "10    35519.0    37683.5    36603.6    31075.6    38616.5    50945.5  \n",
       "11     5847.9     6833.7     6732.8     4697.7     6347.8     9293.5  \n",
       "12    13953.8    15695.1    15004.4    12849.2    16730.0    22165.2  \n",
       "13     6338.2     6950.1     6752.6     5946.2     7676.3     9809.3  \n",
       "14    40774.3    45081.6    42541.5    34176.3    45184.2    60710.4  \n",
       "15    26786.3    29540.9    28824.0    24306.1    31084.9    39627.5  \n",
       "16    11186.7    12594.4    12014.1    10269.6    12674.1    17246.2  \n",
       "17    17347.8    19697.3    18820.4    15411.2    20399.8    27349.0  \n",
       "18    29661.8    32721.4    29900.0    24325.2    36300.1    44877.1  \n",
       "19    23375.1    27139.6    25826.7    20938.9    25454.1    33810.6  \n",
       "20    18968.3    20414.2    19513.6    15959.7    19816.0    24773.3  \n",
       "21     5601.6     6150.8     5878.5     4882.2     6028.6     8347.4  \n",
       "22    32733.9    36318.5    34802.1    29106.0    36740.4    46032.4  \n",
       "23    20522.7    22811.1    22017.4    17675.6    22676.0    29963.5  \n",
       "24    21339.1    23771.2    22497.1    18898.5    23760.8    30585.9  \n",
       "25    11881.9    13100.5    12528.0    10588.3    13591.4    17589.5  \n",
       "26     4592.9     5089.8     5018.9     4399.8     5587.1     7162.0  \n",
       "27    31642.3    35295.5    34243.0    28778.8    36261.5    46021.4  \n",
       "28     5393.1     6192.2     5984.5     4805.7     6120.8     8184.3  \n",
       "29     8273.2     9225.5     8907.3     7650.6     9649.8    12714.3  \n",
       "30     5190.3     5845.2     5546.1     4618.8     5668.9     7646.2  \n",
       "31    29035.2    32319.7    30457.3    24875.4    30977.7    40014.5  \n",
       "32     7348.0     8248.1     7951.1     6738.4     9133.2    11754.6  \n",
       "33     9857.5    11143.9    11090.0     8776.8    11283.8    16151.6  \n",
       "34    55313.0    62318.3    58559.1    48028.6    60270.8    80624.8  \n",
       "35    39958.9    44062.9    41912.6    34973.3    44431.1    56787.3  \n",
       "36    15433.4    17018.3    16045.9    13013.2    17724.0    24645.2  \n",
       "37    13070.1    14235.0    14108.9    12056.6    15159.0    19474.1  \n",
       "38    43435.2    48023.7    45806.7    37536.5    46668.4    62889.4  \n",
       "39     3217.3     3877.9     3643.6     3145.0     3749.9     4720.4  \n",
       "40    18953.2    20320.3    19715.9    16675.6    20946.4    26170.3  \n",
       "41     3866.5     4318.2     4168.7     3721.5     4761.1     6059.8  \n",
       "42    23854.5    26752.5    25964.0    21415.9    27889.3    36356.8  \n",
       "43   125242.8   148167.3   137178.4   107859.4   160765.8   202631.8  \n",
       "44     9271.0    10446.7    10051.3     8720.6    11148.2    14880.6  \n",
       "45    28426.2    32168.3    31232.1    25602.1    32242.1    42435.3  \n",
       "46     2585.5     2840.1     2738.3     2321.4     2807.1     3580.1  \n",
       "47    23669.6    25970.2    25818.3    19942.6    25859.7    34112.5  \n",
       "48    20531.9    22832.3    21971.1    18492.8    23877.9    30555.5  \n",
       "49     7453.3     8745.0     7998.9     6691.4     8708.5    10873.2  \n",
       "50     4391.0     4948.7     4685.1     3853.0     4964.2     6526.4  \n",
       "51  1136316.4  1271997.9  1223874.6  1007680.0  1316977.8  1719438.1  \n",
       "\n",
       "[52 rows x 54 columns]"
      ]
     },
     "execution_count": 15,
     "metadata": {},
     "output_type": "execute_result"
    }
   ],
   "source": [
    "energy_exp = pd.read_excel(\"pr_ex_tot.xlsx\",sheet_name=\"Expenditures\", header=2)\n",
    "energy_exp"
   ]
  },
  {
   "cell_type": "markdown",
   "id": "575d4e6e-3158-4701-998c-ec8c440a6d27",
   "metadata": {},
   "source": [
    "#### Reshape Energy Expenditure Dataset\n"
   ]
  },
  {
   "cell_type": "code",
   "execution_count": 16,
   "id": "bcb04d76-4e33-4ade-8a71-85da3ee84752",
   "metadata": {},
   "outputs": [
    {
     "data": {
      "text/html": [
       "<div>\n",
       "<style scoped>\n",
       "    .dataframe tbody tr th:only-of-type {\n",
       "        vertical-align: middle;\n",
       "    }\n",
       "\n",
       "    .dataframe tbody tr th {\n",
       "        vertical-align: top;\n",
       "    }\n",
       "\n",
       "    .dataframe thead th {\n",
       "        text-align: right;\n",
       "    }\n",
       "</style>\n",
       "<table border=\"1\" class=\"dataframe\">\n",
       "  <thead>\n",
       "    <tr style=\"text-align: right;\">\n",
       "      <th></th>\n",
       "      <th>index</th>\n",
       "      <th>State</th>\n",
       "      <th>Year</th>\n",
       "      <th>Expenditures</th>\n",
       "    </tr>\n",
       "  </thead>\n",
       "  <tbody>\n",
       "    <tr>\n",
       "      <th>0</th>\n",
       "      <td>1560</td>\n",
       "      <td>AK</td>\n",
       "      <td>2000</td>\n",
       "      <td>2841.6</td>\n",
       "    </tr>\n",
       "    <tr>\n",
       "      <th>1</th>\n",
       "      <td>1561</td>\n",
       "      <td>AL</td>\n",
       "      <td>2000</td>\n",
       "      <td>12038.9</td>\n",
       "    </tr>\n",
       "    <tr>\n",
       "      <th>2</th>\n",
       "      <td>1562</td>\n",
       "      <td>AR</td>\n",
       "      <td>2000</td>\n",
       "      <td>7188.4</td>\n",
       "    </tr>\n",
       "    <tr>\n",
       "      <th>3</th>\n",
       "      <td>1563</td>\n",
       "      <td>AZ</td>\n",
       "      <td>2000</td>\n",
       "      <td>10624.8</td>\n",
       "    </tr>\n",
       "    <tr>\n",
       "      <th>4</th>\n",
       "      <td>1564</td>\n",
       "      <td>CA</td>\n",
       "      <td>2000</td>\n",
       "      <td>68282.0</td>\n",
       "    </tr>\n",
       "    <tr>\n",
       "      <th>...</th>\n",
       "      <td>...</td>\n",
       "      <td>...</td>\n",
       "      <td>...</td>\n",
       "      <td>...</td>\n",
       "    </tr>\n",
       "    <tr>\n",
       "      <th>1191</th>\n",
       "      <td>2751</td>\n",
       "      <td>WA</td>\n",
       "      <td>2022</td>\n",
       "      <td>34112.5</td>\n",
       "    </tr>\n",
       "    <tr>\n",
       "      <th>1192</th>\n",
       "      <td>2752</td>\n",
       "      <td>WI</td>\n",
       "      <td>2022</td>\n",
       "      <td>30555.5</td>\n",
       "    </tr>\n",
       "    <tr>\n",
       "      <th>1193</th>\n",
       "      <td>2753</td>\n",
       "      <td>WV</td>\n",
       "      <td>2022</td>\n",
       "      <td>10873.2</td>\n",
       "    </tr>\n",
       "    <tr>\n",
       "      <th>1194</th>\n",
       "      <td>2754</td>\n",
       "      <td>WY</td>\n",
       "      <td>2022</td>\n",
       "      <td>6526.4</td>\n",
       "    </tr>\n",
       "    <tr>\n",
       "      <th>1195</th>\n",
       "      <td>2755</td>\n",
       "      <td>US</td>\n",
       "      <td>2022</td>\n",
       "      <td>1719438.1</td>\n",
       "    </tr>\n",
       "  </tbody>\n",
       "</table>\n",
       "<p>1196 rows × 4 columns</p>\n",
       "</div>"
      ],
      "text/plain": [
       "      index State  Year  Expenditures\n",
       "0      1560    AK  2000        2841.6\n",
       "1      1561    AL  2000       12038.9\n",
       "2      1562    AR  2000        7188.4\n",
       "3      1563    AZ  2000       10624.8\n",
       "4      1564    CA  2000       68282.0\n",
       "...     ...   ...   ...           ...\n",
       "1191   2751    WA  2022       34112.5\n",
       "1192   2752    WI  2022       30555.5\n",
       "1193   2753    WV  2022       10873.2\n",
       "1194   2754    WY  2022        6526.4\n",
       "1195   2755    US  2022     1719438.1\n",
       "\n",
       "[1196 rows x 4 columns]"
      ]
     },
     "execution_count": 16,
     "metadata": {},
     "output_type": "execute_result"
    }
   ],
   "source": [
    "energy_exp_melted = pd.melt(\n",
    "    energy_exp,\n",
    "    id_vars=[\"State\"],  \n",
    "    var_name=\"Year\",  \n",
    "    value_name=\"Expenditures\"  \n",
    ")\n",
    "energy_exp_melted\n",
    "\n",
    "## only keep years 2000-2022\n",
    "filter_energy_exp = energy_exp_melted[\n",
    "    (energy_exp_melted[\"Year\"].astype(int) >= 2000) & (energy_exp_melted[\"Year\"].astype(int) <= 2022)\n",
    "].reset_index()\n",
    "filter_energy_exp"
   ]
  },
  {
   "cell_type": "markdown",
   "id": "4145de4e-5688-48ba-b387-d61461d23829",
   "metadata": {},
   "source": [
    "#### Now Use Expenditure as a percentage of GDP data, reshape and then merge it with total expenditure data"
   ]
  },
  {
   "cell_type": "code",
   "execution_count": 17,
   "id": "a8af0fe7-65ea-4163-9c44-fb795b95cb52",
   "metadata": {},
   "outputs": [
    {
     "data": {
      "text/html": [
       "<div>\n",
       "<style scoped>\n",
       "    .dataframe tbody tr th:only-of-type {\n",
       "        vertical-align: middle;\n",
       "    }\n",
       "\n",
       "    .dataframe tbody tr th {\n",
       "        vertical-align: top;\n",
       "    }\n",
       "\n",
       "    .dataframe thead th {\n",
       "        text-align: right;\n",
       "    }\n",
       "</style>\n",
       "<table border=\"1\" class=\"dataframe\">\n",
       "  <thead>\n",
       "    <tr style=\"text-align: right;\">\n",
       "      <th></th>\n",
       "      <th>State</th>\n",
       "      <th>1970</th>\n",
       "      <th>1971</th>\n",
       "      <th>1972</th>\n",
       "      <th>1973</th>\n",
       "      <th>1974</th>\n",
       "      <th>1975</th>\n",
       "      <th>1976</th>\n",
       "      <th>1977</th>\n",
       "      <th>1978</th>\n",
       "      <th>...</th>\n",
       "      <th>2013</th>\n",
       "      <th>2014</th>\n",
       "      <th>2015</th>\n",
       "      <th>2016</th>\n",
       "      <th>2017</th>\n",
       "      <th>2018</th>\n",
       "      <th>2019</th>\n",
       "      <th>2020</th>\n",
       "      <th>2021</th>\n",
       "      <th>2022</th>\n",
       "    </tr>\n",
       "  </thead>\n",
       "  <tbody>\n",
       "    <tr>\n",
       "      <th>0</th>\n",
       "      <td>AK</td>\n",
       "      <td>NaN</td>\n",
       "      <td>NaN</td>\n",
       "      <td>NaN</td>\n",
       "      <td>NaN</td>\n",
       "      <td>NaN</td>\n",
       "      <td>NaN</td>\n",
       "      <td>NaN</td>\n",
       "      <td>NaN</td>\n",
       "      <td>NaN</td>\n",
       "      <td>...</td>\n",
       "      <td>12.09</td>\n",
       "      <td>12.15</td>\n",
       "      <td>10.77</td>\n",
       "      <td>8.92</td>\n",
       "      <td>9.33</td>\n",
       "      <td>10.58</td>\n",
       "      <td>10.37</td>\n",
       "      <td>9.12</td>\n",
       "      <td>11.15</td>\n",
       "      <td>14.57</td>\n",
       "    </tr>\n",
       "    <tr>\n",
       "      <th>1</th>\n",
       "      <td>AL</td>\n",
       "      <td>NaN</td>\n",
       "      <td>NaN</td>\n",
       "      <td>NaN</td>\n",
       "      <td>NaN</td>\n",
       "      <td>NaN</td>\n",
       "      <td>NaN</td>\n",
       "      <td>NaN</td>\n",
       "      <td>NaN</td>\n",
       "      <td>NaN</td>\n",
       "      <td>...</td>\n",
       "      <td>12.36</td>\n",
       "      <td>12.22</td>\n",
       "      <td>9.84</td>\n",
       "      <td>9.21</td>\n",
       "      <td>9.43</td>\n",
       "      <td>9.70</td>\n",
       "      <td>9.08</td>\n",
       "      <td>7.90</td>\n",
       "      <td>9.41</td>\n",
       "      <td>11.01</td>\n",
       "    </tr>\n",
       "    <tr>\n",
       "      <th>2</th>\n",
       "      <td>AR</td>\n",
       "      <td>NaN</td>\n",
       "      <td>NaN</td>\n",
       "      <td>NaN</td>\n",
       "      <td>NaN</td>\n",
       "      <td>NaN</td>\n",
       "      <td>NaN</td>\n",
       "      <td>NaN</td>\n",
       "      <td>NaN</td>\n",
       "      <td>NaN</td>\n",
       "      <td>...</td>\n",
       "      <td>12.28</td>\n",
       "      <td>11.85</td>\n",
       "      <td>9.42</td>\n",
       "      <td>8.51</td>\n",
       "      <td>9.11</td>\n",
       "      <td>9.63</td>\n",
       "      <td>9.09</td>\n",
       "      <td>7.63</td>\n",
       "      <td>8.93</td>\n",
       "      <td>10.48</td>\n",
       "    </tr>\n",
       "    <tr>\n",
       "      <th>3</th>\n",
       "      <td>AZ</td>\n",
       "      <td>NaN</td>\n",
       "      <td>NaN</td>\n",
       "      <td>NaN</td>\n",
       "      <td>NaN</td>\n",
       "      <td>NaN</td>\n",
       "      <td>NaN</td>\n",
       "      <td>NaN</td>\n",
       "      <td>NaN</td>\n",
       "      <td>NaN</td>\n",
       "      <td>...</td>\n",
       "      <td>8.58</td>\n",
       "      <td>8.24</td>\n",
       "      <td>6.94</td>\n",
       "      <td>6.24</td>\n",
       "      <td>6.37</td>\n",
       "      <td>6.70</td>\n",
       "      <td>6.28</td>\n",
       "      <td>5.27</td>\n",
       "      <td>5.90</td>\n",
       "      <td>6.93</td>\n",
       "    </tr>\n",
       "    <tr>\n",
       "      <th>4</th>\n",
       "      <td>CA</td>\n",
       "      <td>NaN</td>\n",
       "      <td>NaN</td>\n",
       "      <td>NaN</td>\n",
       "      <td>NaN</td>\n",
       "      <td>NaN</td>\n",
       "      <td>NaN</td>\n",
       "      <td>NaN</td>\n",
       "      <td>NaN</td>\n",
       "      <td>NaN</td>\n",
       "      <td>...</td>\n",
       "      <td>6.11</td>\n",
       "      <td>5.81</td>\n",
       "      <td>4.83</td>\n",
       "      <td>4.30</td>\n",
       "      <td>4.50</td>\n",
       "      <td>4.74</td>\n",
       "      <td>4.55</td>\n",
       "      <td>3.74</td>\n",
       "      <td>4.42</td>\n",
       "      <td>5.49</td>\n",
       "    </tr>\n",
       "    <tr>\n",
       "      <th>5</th>\n",
       "      <td>CO</td>\n",
       "      <td>NaN</td>\n",
       "      <td>NaN</td>\n",
       "      <td>NaN</td>\n",
       "      <td>NaN</td>\n",
       "      <td>NaN</td>\n",
       "      <td>NaN</td>\n",
       "      <td>NaN</td>\n",
       "      <td>NaN</td>\n",
       "      <td>NaN</td>\n",
       "      <td>...</td>\n",
       "      <td>6.83</td>\n",
       "      <td>6.61</td>\n",
       "      <td>5.11</td>\n",
       "      <td>4.57</td>\n",
       "      <td>4.73</td>\n",
       "      <td>5.00</td>\n",
       "      <td>4.71</td>\n",
       "      <td>3.88</td>\n",
       "      <td>4.61</td>\n",
       "      <td>5.77</td>\n",
       "    </tr>\n",
       "    <tr>\n",
       "      <th>6</th>\n",
       "      <td>CT</td>\n",
       "      <td>NaN</td>\n",
       "      <td>NaN</td>\n",
       "      <td>NaN</td>\n",
       "      <td>NaN</td>\n",
       "      <td>NaN</td>\n",
       "      <td>NaN</td>\n",
       "      <td>NaN</td>\n",
       "      <td>NaN</td>\n",
       "      <td>NaN</td>\n",
       "      <td>...</td>\n",
       "      <td>6.37</td>\n",
       "      <td>6.31</td>\n",
       "      <td>5.04</td>\n",
       "      <td>4.44</td>\n",
       "      <td>4.59</td>\n",
       "      <td>5.07</td>\n",
       "      <td>4.76</td>\n",
       "      <td>4.18</td>\n",
       "      <td>4.63</td>\n",
       "      <td>5.68</td>\n",
       "    </tr>\n",
       "    <tr>\n",
       "      <th>7</th>\n",
       "      <td>DC</td>\n",
       "      <td>NaN</td>\n",
       "      <td>NaN</td>\n",
       "      <td>NaN</td>\n",
       "      <td>NaN</td>\n",
       "      <td>NaN</td>\n",
       "      <td>NaN</td>\n",
       "      <td>NaN</td>\n",
       "      <td>NaN</td>\n",
       "      <td>NaN</td>\n",
       "      <td>...</td>\n",
       "      <td>1.93</td>\n",
       "      <td>1.94</td>\n",
       "      <td>1.72</td>\n",
       "      <td>1.53</td>\n",
       "      <td>1.47</td>\n",
       "      <td>1.52</td>\n",
       "      <td>1.46</td>\n",
       "      <td>1.20</td>\n",
       "      <td>1.35</td>\n",
       "      <td>1.56</td>\n",
       "    </tr>\n",
       "    <tr>\n",
       "      <th>8</th>\n",
       "      <td>DE</td>\n",
       "      <td>NaN</td>\n",
       "      <td>NaN</td>\n",
       "      <td>NaN</td>\n",
       "      <td>NaN</td>\n",
       "      <td>NaN</td>\n",
       "      <td>NaN</td>\n",
       "      <td>NaN</td>\n",
       "      <td>NaN</td>\n",
       "      <td>NaN</td>\n",
       "      <td>...</td>\n",
       "      <td>6.41</td>\n",
       "      <td>5.82</td>\n",
       "      <td>4.82</td>\n",
       "      <td>4.55</td>\n",
       "      <td>4.97</td>\n",
       "      <td>5.32</td>\n",
       "      <td>4.82</td>\n",
       "      <td>4.01</td>\n",
       "      <td>4.64</td>\n",
       "      <td>5.34</td>\n",
       "    </tr>\n",
       "    <tr>\n",
       "      <th>9</th>\n",
       "      <td>FL</td>\n",
       "      <td>NaN</td>\n",
       "      <td>NaN</td>\n",
       "      <td>NaN</td>\n",
       "      <td>NaN</td>\n",
       "      <td>NaN</td>\n",
       "      <td>NaN</td>\n",
       "      <td>NaN</td>\n",
       "      <td>NaN</td>\n",
       "      <td>NaN</td>\n",
       "      <td>...</td>\n",
       "      <td>8.29</td>\n",
       "      <td>7.97</td>\n",
       "      <td>6.28</td>\n",
       "      <td>5.54</td>\n",
       "      <td>5.80</td>\n",
       "      <td>6.06</td>\n",
       "      <td>5.56</td>\n",
       "      <td>4.52</td>\n",
       "      <td>5.16</td>\n",
       "      <td>6.20</td>\n",
       "    </tr>\n",
       "    <tr>\n",
       "      <th>10</th>\n",
       "      <td>GA</td>\n",
       "      <td>NaN</td>\n",
       "      <td>NaN</td>\n",
       "      <td>NaN</td>\n",
       "      <td>NaN</td>\n",
       "      <td>NaN</td>\n",
       "      <td>NaN</td>\n",
       "      <td>NaN</td>\n",
       "      <td>NaN</td>\n",
       "      <td>NaN</td>\n",
       "      <td>...</td>\n",
       "      <td>9.13</td>\n",
       "      <td>8.63</td>\n",
       "      <td>6.65</td>\n",
       "      <td>5.83</td>\n",
       "      <td>6.09</td>\n",
       "      <td>6.15</td>\n",
       "      <td>5.66</td>\n",
       "      <td>4.87</td>\n",
       "      <td>5.50</td>\n",
       "      <td>6.64</td>\n",
       "    </tr>\n",
       "    <tr>\n",
       "      <th>11</th>\n",
       "      <td>HI</td>\n",
       "      <td>NaN</td>\n",
       "      <td>NaN</td>\n",
       "      <td>NaN</td>\n",
       "      <td>NaN</td>\n",
       "      <td>NaN</td>\n",
       "      <td>NaN</td>\n",
       "      <td>NaN</td>\n",
       "      <td>NaN</td>\n",
       "      <td>NaN</td>\n",
       "      <td>...</td>\n",
       "      <td>11.01</td>\n",
       "      <td>10.09</td>\n",
       "      <td>7.26</td>\n",
       "      <td>6.19</td>\n",
       "      <td>6.69</td>\n",
       "      <td>7.52</td>\n",
       "      <td>7.21</td>\n",
       "      <td>5.55</td>\n",
       "      <td>6.82</td>\n",
       "      <td>9.19</td>\n",
       "    </tr>\n",
       "    <tr>\n",
       "      <th>12</th>\n",
       "      <td>IA</td>\n",
       "      <td>NaN</td>\n",
       "      <td>NaN</td>\n",
       "      <td>NaN</td>\n",
       "      <td>NaN</td>\n",
       "      <td>NaN</td>\n",
       "      <td>NaN</td>\n",
       "      <td>NaN</td>\n",
       "      <td>NaN</td>\n",
       "      <td>NaN</td>\n",
       "      <td>...</td>\n",
       "      <td>10.34</td>\n",
       "      <td>10.05</td>\n",
       "      <td>7.39</td>\n",
       "      <td>6.90</td>\n",
       "      <td>7.46</td>\n",
       "      <td>8.13</td>\n",
       "      <td>7.65</td>\n",
       "      <td>6.44</td>\n",
       "      <td>7.58</td>\n",
       "      <td>9.30</td>\n",
       "    </tr>\n",
       "    <tr>\n",
       "      <th>13</th>\n",
       "      <td>ID</td>\n",
       "      <td>NaN</td>\n",
       "      <td>NaN</td>\n",
       "      <td>NaN</td>\n",
       "      <td>NaN</td>\n",
       "      <td>NaN</td>\n",
       "      <td>NaN</td>\n",
       "      <td>NaN</td>\n",
       "      <td>NaN</td>\n",
       "      <td>NaN</td>\n",
       "      <td>...</td>\n",
       "      <td>11.45</td>\n",
       "      <td>11.08</td>\n",
       "      <td>9.28</td>\n",
       "      <td>8.26</td>\n",
       "      <td>8.69</td>\n",
       "      <td>8.79</td>\n",
       "      <td>7.99</td>\n",
       "      <td>6.74</td>\n",
       "      <td>7.77</td>\n",
       "      <td>8.85</td>\n",
       "    </tr>\n",
       "    <tr>\n",
       "      <th>14</th>\n",
       "      <td>IL</td>\n",
       "      <td>NaN</td>\n",
       "      <td>NaN</td>\n",
       "      <td>NaN</td>\n",
       "      <td>NaN</td>\n",
       "      <td>NaN</td>\n",
       "      <td>NaN</td>\n",
       "      <td>NaN</td>\n",
       "      <td>NaN</td>\n",
       "      <td>NaN</td>\n",
       "      <td>...</td>\n",
       "      <td>6.56</td>\n",
       "      <td>6.69</td>\n",
       "      <td>5.07</td>\n",
       "      <td>4.62</td>\n",
       "      <td>4.90</td>\n",
       "      <td>5.18</td>\n",
       "      <td>4.75</td>\n",
       "      <td>3.97</td>\n",
       "      <td>4.79</td>\n",
       "      <td>5.92</td>\n",
       "    </tr>\n",
       "    <tr>\n",
       "      <th>15</th>\n",
       "      <td>IN</td>\n",
       "      <td>NaN</td>\n",
       "      <td>NaN</td>\n",
       "      <td>NaN</td>\n",
       "      <td>NaN</td>\n",
       "      <td>NaN</td>\n",
       "      <td>NaN</td>\n",
       "      <td>NaN</td>\n",
       "      <td>NaN</td>\n",
       "      <td>NaN</td>\n",
       "      <td>...</td>\n",
       "      <td>10.58</td>\n",
       "      <td>10.31</td>\n",
       "      <td>8.25</td>\n",
       "      <td>7.27</td>\n",
       "      <td>7.49</td>\n",
       "      <td>7.83</td>\n",
       "      <td>7.48</td>\n",
       "      <td>6.43</td>\n",
       "      <td>7.35</td>\n",
       "      <td>8.43</td>\n",
       "    </tr>\n",
       "    <tr>\n",
       "      <th>16</th>\n",
       "      <td>KS</td>\n",
       "      <td>NaN</td>\n",
       "      <td>NaN</td>\n",
       "      <td>NaN</td>\n",
       "      <td>NaN</td>\n",
       "      <td>NaN</td>\n",
       "      <td>NaN</td>\n",
       "      <td>NaN</td>\n",
       "      <td>NaN</td>\n",
       "      <td>NaN</td>\n",
       "      <td>...</td>\n",
       "      <td>9.51</td>\n",
       "      <td>9.65</td>\n",
       "      <td>7.22</td>\n",
       "      <td>6.49</td>\n",
       "      <td>6.73</td>\n",
       "      <td>7.26</td>\n",
       "      <td>6.79</td>\n",
       "      <td>5.78</td>\n",
       "      <td>6.61</td>\n",
       "      <td>8.24</td>\n",
       "    </tr>\n",
       "    <tr>\n",
       "      <th>17</th>\n",
       "      <td>KY</td>\n",
       "      <td>NaN</td>\n",
       "      <td>NaN</td>\n",
       "      <td>NaN</td>\n",
       "      <td>NaN</td>\n",
       "      <td>NaN</td>\n",
       "      <td>NaN</td>\n",
       "      <td>NaN</td>\n",
       "      <td>NaN</td>\n",
       "      <td>NaN</td>\n",
       "      <td>...</td>\n",
       "      <td>12.29</td>\n",
       "      <td>11.80</td>\n",
       "      <td>8.98</td>\n",
       "      <td>8.17</td>\n",
       "      <td>8.52</td>\n",
       "      <td>9.36</td>\n",
       "      <td>8.53</td>\n",
       "      <td>7.04</td>\n",
       "      <td>8.57</td>\n",
       "      <td>10.56</td>\n",
       "    </tr>\n",
       "    <tr>\n",
       "      <th>18</th>\n",
       "      <td>LA</td>\n",
       "      <td>NaN</td>\n",
       "      <td>NaN</td>\n",
       "      <td>NaN</td>\n",
       "      <td>NaN</td>\n",
       "      <td>NaN</td>\n",
       "      <td>NaN</td>\n",
       "      <td>NaN</td>\n",
       "      <td>NaN</td>\n",
       "      <td>NaN</td>\n",
       "      <td>...</td>\n",
       "      <td>16.95</td>\n",
       "      <td>16.36</td>\n",
       "      <td>11.83</td>\n",
       "      <td>11.00</td>\n",
       "      <td>12.37</td>\n",
       "      <td>12.76</td>\n",
       "      <td>11.63</td>\n",
       "      <td>10.30</td>\n",
       "      <td>13.79</td>\n",
       "      <td>15.37</td>\n",
       "    </tr>\n",
       "    <tr>\n",
       "      <th>19</th>\n",
       "      <td>MA</td>\n",
       "      <td>NaN</td>\n",
       "      <td>NaN</td>\n",
       "      <td>NaN</td>\n",
       "      <td>NaN</td>\n",
       "      <td>NaN</td>\n",
       "      <td>NaN</td>\n",
       "      <td>NaN</td>\n",
       "      <td>NaN</td>\n",
       "      <td>NaN</td>\n",
       "      <td>...</td>\n",
       "      <td>6.20</td>\n",
       "      <td>5.99</td>\n",
       "      <td>4.84</td>\n",
       "      <td>4.19</td>\n",
       "      <td>4.41</td>\n",
       "      <td>4.85</td>\n",
       "      <td>4.39</td>\n",
       "      <td>3.55</td>\n",
       "      <td>3.94</td>\n",
       "      <td>4.89</td>\n",
       "    </tr>\n",
       "    <tr>\n",
       "      <th>20</th>\n",
       "      <td>MD</td>\n",
       "      <td>NaN</td>\n",
       "      <td>NaN</td>\n",
       "      <td>NaN</td>\n",
       "      <td>NaN</td>\n",
       "      <td>NaN</td>\n",
       "      <td>NaN</td>\n",
       "      <td>NaN</td>\n",
       "      <td>NaN</td>\n",
       "      <td>NaN</td>\n",
       "      <td>...</td>\n",
       "      <td>6.86</td>\n",
       "      <td>6.68</td>\n",
       "      <td>5.36</td>\n",
       "      <td>4.63</td>\n",
       "      <td>4.75</td>\n",
       "      <td>4.97</td>\n",
       "      <td>4.65</td>\n",
       "      <td>3.86</td>\n",
       "      <td>4.43</td>\n",
       "      <td>5.16</td>\n",
       "    </tr>\n",
       "    <tr>\n",
       "      <th>21</th>\n",
       "      <td>ME</td>\n",
       "      <td>NaN</td>\n",
       "      <td>NaN</td>\n",
       "      <td>NaN</td>\n",
       "      <td>NaN</td>\n",
       "      <td>NaN</td>\n",
       "      <td>NaN</td>\n",
       "      <td>NaN</td>\n",
       "      <td>NaN</td>\n",
       "      <td>NaN</td>\n",
       "      <td>...</td>\n",
       "      <td>13.53</td>\n",
       "      <td>13.39</td>\n",
       "      <td>10.28</td>\n",
       "      <td>8.63</td>\n",
       "      <td>8.89</td>\n",
       "      <td>9.29</td>\n",
       "      <td>8.48</td>\n",
       "      <td>6.77</td>\n",
       "      <td>7.64</td>\n",
       "      <td>9.73</td>\n",
       "    </tr>\n",
       "    <tr>\n",
       "      <th>22</th>\n",
       "      <td>MI</td>\n",
       "      <td>NaN</td>\n",
       "      <td>NaN</td>\n",
       "      <td>NaN</td>\n",
       "      <td>NaN</td>\n",
       "      <td>NaN</td>\n",
       "      <td>NaN</td>\n",
       "      <td>NaN</td>\n",
       "      <td>NaN</td>\n",
       "      <td>NaN</td>\n",
       "      <td>...</td>\n",
       "      <td>9.27</td>\n",
       "      <td>8.97</td>\n",
       "      <td>6.89</td>\n",
       "      <td>6.26</td>\n",
       "      <td>6.48</td>\n",
       "      <td>6.91</td>\n",
       "      <td>6.48</td>\n",
       "      <td>5.49</td>\n",
       "      <td>6.37</td>\n",
       "      <td>7.39</td>\n",
       "    </tr>\n",
       "    <tr>\n",
       "      <th>23</th>\n",
       "      <td>MN</td>\n",
       "      <td>NaN</td>\n",
       "      <td>NaN</td>\n",
       "      <td>NaN</td>\n",
       "      <td>NaN</td>\n",
       "      <td>NaN</td>\n",
       "      <td>NaN</td>\n",
       "      <td>NaN</td>\n",
       "      <td>NaN</td>\n",
       "      <td>NaN</td>\n",
       "      <td>...</td>\n",
       "      <td>8.07</td>\n",
       "      <td>7.92</td>\n",
       "      <td>5.87</td>\n",
       "      <td>5.39</td>\n",
       "      <td>5.79</td>\n",
       "      <td>6.12</td>\n",
       "      <td>5.73</td>\n",
       "      <td>4.66</td>\n",
       "      <td>5.49</td>\n",
       "      <td>6.69</td>\n",
       "    </tr>\n",
       "    <tr>\n",
       "      <th>24</th>\n",
       "      <td>MO</td>\n",
       "      <td>NaN</td>\n",
       "      <td>NaN</td>\n",
       "      <td>NaN</td>\n",
       "      <td>NaN</td>\n",
       "      <td>NaN</td>\n",
       "      <td>NaN</td>\n",
       "      <td>NaN</td>\n",
       "      <td>NaN</td>\n",
       "      <td>NaN</td>\n",
       "      <td>...</td>\n",
       "      <td>9.38</td>\n",
       "      <td>9.20</td>\n",
       "      <td>7.24</td>\n",
       "      <td>6.56</td>\n",
       "      <td>6.86</td>\n",
       "      <td>7.42</td>\n",
       "      <td>6.73</td>\n",
       "      <td>5.64</td>\n",
       "      <td>6.51</td>\n",
       "      <td>7.71</td>\n",
       "    </tr>\n",
       "    <tr>\n",
       "      <th>25</th>\n",
       "      <td>MS</td>\n",
       "      <td>NaN</td>\n",
       "      <td>NaN</td>\n",
       "      <td>NaN</td>\n",
       "      <td>NaN</td>\n",
       "      <td>NaN</td>\n",
       "      <td>NaN</td>\n",
       "      <td>NaN</td>\n",
       "      <td>NaN</td>\n",
       "      <td>NaN</td>\n",
       "      <td>...</td>\n",
       "      <td>14.17</td>\n",
       "      <td>14.19</td>\n",
       "      <td>11.36</td>\n",
       "      <td>10.15</td>\n",
       "      <td>10.77</td>\n",
       "      <td>11.58</td>\n",
       "      <td>10.85</td>\n",
       "      <td>9.11</td>\n",
       "      <td>10.59</td>\n",
       "      <td>12.57</td>\n",
       "    </tr>\n",
       "    <tr>\n",
       "      <th>26</th>\n",
       "      <td>MT</td>\n",
       "      <td>NaN</td>\n",
       "      <td>NaN</td>\n",
       "      <td>NaN</td>\n",
       "      <td>NaN</td>\n",
       "      <td>NaN</td>\n",
       "      <td>NaN</td>\n",
       "      <td>NaN</td>\n",
       "      <td>NaN</td>\n",
       "      <td>NaN</td>\n",
       "      <td>...</td>\n",
       "      <td>12.90</td>\n",
       "      <td>12.33</td>\n",
       "      <td>9.42</td>\n",
       "      <td>8.78</td>\n",
       "      <td>9.48</td>\n",
       "      <td>9.95</td>\n",
       "      <td>9.51</td>\n",
       "      <td>8.28</td>\n",
       "      <td>9.31</td>\n",
       "      <td>10.68</td>\n",
       "    </tr>\n",
       "    <tr>\n",
       "      <th>27</th>\n",
       "      <td>NC</td>\n",
       "      <td>NaN</td>\n",
       "      <td>NaN</td>\n",
       "      <td>NaN</td>\n",
       "      <td>NaN</td>\n",
       "      <td>NaN</td>\n",
       "      <td>NaN</td>\n",
       "      <td>NaN</td>\n",
       "      <td>NaN</td>\n",
       "      <td>NaN</td>\n",
       "      <td>...</td>\n",
       "      <td>8.26</td>\n",
       "      <td>7.97</td>\n",
       "      <td>6.25</td>\n",
       "      <td>5.67</td>\n",
       "      <td>5.79</td>\n",
       "      <td>6.21</td>\n",
       "      <td>5.77</td>\n",
       "      <td>4.79</td>\n",
       "      <td>5.50</td>\n",
       "      <td>6.43</td>\n",
       "    </tr>\n",
       "    <tr>\n",
       "      <th>28</th>\n",
       "      <td>ND</td>\n",
       "      <td>NaN</td>\n",
       "      <td>NaN</td>\n",
       "      <td>NaN</td>\n",
       "      <td>NaN</td>\n",
       "      <td>NaN</td>\n",
       "      <td>NaN</td>\n",
       "      <td>NaN</td>\n",
       "      <td>NaN</td>\n",
       "      <td>NaN</td>\n",
       "      <td>...</td>\n",
       "      <td>13.95</td>\n",
       "      <td>13.45</td>\n",
       "      <td>9.75</td>\n",
       "      <td>8.77</td>\n",
       "      <td>9.54</td>\n",
       "      <td>10.26</td>\n",
       "      <td>9.89</td>\n",
       "      <td>8.68</td>\n",
       "      <td>9.68</td>\n",
       "      <td>11.27</td>\n",
       "    </tr>\n",
       "    <tr>\n",
       "      <th>29</th>\n",
       "      <td>NE</td>\n",
       "      <td>NaN</td>\n",
       "      <td>NaN</td>\n",
       "      <td>NaN</td>\n",
       "      <td>NaN</td>\n",
       "      <td>NaN</td>\n",
       "      <td>NaN</td>\n",
       "      <td>NaN</td>\n",
       "      <td>NaN</td>\n",
       "      <td>NaN</td>\n",
       "      <td>...</td>\n",
       "      <td>9.62</td>\n",
       "      <td>9.18</td>\n",
       "      <td>6.96</td>\n",
       "      <td>6.33</td>\n",
       "      <td>6.71</td>\n",
       "      <td>7.21</td>\n",
       "      <td>6.71</td>\n",
       "      <td>5.66</td>\n",
       "      <td>6.46</td>\n",
       "      <td>7.71</td>\n",
       "    </tr>\n",
       "    <tr>\n",
       "      <th>30</th>\n",
       "      <td>NH</td>\n",
       "      <td>NaN</td>\n",
       "      <td>NaN</td>\n",
       "      <td>NaN</td>\n",
       "      <td>NaN</td>\n",
       "      <td>NaN</td>\n",
       "      <td>NaN</td>\n",
       "      <td>NaN</td>\n",
       "      <td>NaN</td>\n",
       "      <td>NaN</td>\n",
       "      <td>...</td>\n",
       "      <td>8.67</td>\n",
       "      <td>8.77</td>\n",
       "      <td>6.83</td>\n",
       "      <td>5.92</td>\n",
       "      <td>6.39</td>\n",
       "      <td>6.97</td>\n",
       "      <td>6.34</td>\n",
       "      <td>5.21</td>\n",
       "      <td>5.72</td>\n",
       "      <td>7.28</td>\n",
       "    </tr>\n",
       "    <tr>\n",
       "      <th>31</th>\n",
       "      <td>NJ</td>\n",
       "      <td>NaN</td>\n",
       "      <td>NaN</td>\n",
       "      <td>NaN</td>\n",
       "      <td>NaN</td>\n",
       "      <td>NaN</td>\n",
       "      <td>NaN</td>\n",
       "      <td>NaN</td>\n",
       "      <td>NaN</td>\n",
       "      <td>NaN</td>\n",
       "      <td>...</td>\n",
       "      <td>7.03</td>\n",
       "      <td>6.84</td>\n",
       "      <td>5.26</td>\n",
       "      <td>4.72</td>\n",
       "      <td>4.92</td>\n",
       "      <td>5.22</td>\n",
       "      <td>4.75</td>\n",
       "      <td>3.95</td>\n",
       "      <td>4.48</td>\n",
       "      <td>5.30</td>\n",
       "    </tr>\n",
       "    <tr>\n",
       "      <th>32</th>\n",
       "      <td>NM</td>\n",
       "      <td>NaN</td>\n",
       "      <td>NaN</td>\n",
       "      <td>NaN</td>\n",
       "      <td>NaN</td>\n",
       "      <td>NaN</td>\n",
       "      <td>NaN</td>\n",
       "      <td>NaN</td>\n",
       "      <td>NaN</td>\n",
       "      <td>NaN</td>\n",
       "      <td>...</td>\n",
       "      <td>10.22</td>\n",
       "      <td>9.96</td>\n",
       "      <td>7.97</td>\n",
       "      <td>7.16</td>\n",
       "      <td>7.88</td>\n",
       "      <td>8.35</td>\n",
       "      <td>7.65</td>\n",
       "      <td>6.71</td>\n",
       "      <td>8.17</td>\n",
       "      <td>9.36</td>\n",
       "    </tr>\n",
       "    <tr>\n",
       "      <th>33</th>\n",
       "      <td>NV</td>\n",
       "      <td>NaN</td>\n",
       "      <td>NaN</td>\n",
       "      <td>NaN</td>\n",
       "      <td>NaN</td>\n",
       "      <td>NaN</td>\n",
       "      <td>NaN</td>\n",
       "      <td>NaN</td>\n",
       "      <td>NaN</td>\n",
       "      <td>NaN</td>\n",
       "      <td>...</td>\n",
       "      <td>8.46</td>\n",
       "      <td>8.41</td>\n",
       "      <td>6.63</td>\n",
       "      <td>5.71</td>\n",
       "      <td>6.04</td>\n",
       "      <td>6.46</td>\n",
       "      <td>6.02</td>\n",
       "      <td>4.99</td>\n",
       "      <td>5.64</td>\n",
       "      <td>7.24</td>\n",
       "    </tr>\n",
       "    <tr>\n",
       "      <th>34</th>\n",
       "      <td>NY</td>\n",
       "      <td>NaN</td>\n",
       "      <td>NaN</td>\n",
       "      <td>NaN</td>\n",
       "      <td>NaN</td>\n",
       "      <td>NaN</td>\n",
       "      <td>NaN</td>\n",
       "      <td>NaN</td>\n",
       "      <td>NaN</td>\n",
       "      <td>NaN</td>\n",
       "      <td>...</td>\n",
       "      <td>4.99</td>\n",
       "      <td>4.89</td>\n",
       "      <td>3.79</td>\n",
       "      <td>3.27</td>\n",
       "      <td>3.40</td>\n",
       "      <td>3.64</td>\n",
       "      <td>3.27</td>\n",
       "      <td>2.72</td>\n",
       "      <td>3.15</td>\n",
       "      <td>3.94</td>\n",
       "    </tr>\n",
       "    <tr>\n",
       "      <th>35</th>\n",
       "      <td>OH</td>\n",
       "      <td>NaN</td>\n",
       "      <td>NaN</td>\n",
       "      <td>NaN</td>\n",
       "      <td>NaN</td>\n",
       "      <td>NaN</td>\n",
       "      <td>NaN</td>\n",
       "      <td>NaN</td>\n",
       "      <td>NaN</td>\n",
       "      <td>NaN</td>\n",
       "      <td>...</td>\n",
       "      <td>8.58</td>\n",
       "      <td>8.42</td>\n",
       "      <td>6.65</td>\n",
       "      <td>6.00</td>\n",
       "      <td>6.13</td>\n",
       "      <td>6.55</td>\n",
       "      <td>5.96</td>\n",
       "      <td>5.05</td>\n",
       "      <td>5.85</td>\n",
       "      <td>6.88</td>\n",
       "    </tr>\n",
       "    <tr>\n",
       "      <th>36</th>\n",
       "      <td>OK</td>\n",
       "      <td>NaN</td>\n",
       "      <td>NaN</td>\n",
       "      <td>NaN</td>\n",
       "      <td>NaN</td>\n",
       "      <td>NaN</td>\n",
       "      <td>NaN</td>\n",
       "      <td>NaN</td>\n",
       "      <td>NaN</td>\n",
       "      <td>NaN</td>\n",
       "      <td>...</td>\n",
       "      <td>10.48</td>\n",
       "      <td>10.35</td>\n",
       "      <td>8.51</td>\n",
       "      <td>7.63</td>\n",
       "      <td>8.02</td>\n",
       "      <td>8.33</td>\n",
       "      <td>7.82</td>\n",
       "      <td>6.79</td>\n",
       "      <td>8.14</td>\n",
       "      <td>10.15</td>\n",
       "    </tr>\n",
       "    <tr>\n",
       "      <th>37</th>\n",
       "      <td>OR</td>\n",
       "      <td>NaN</td>\n",
       "      <td>NaN</td>\n",
       "      <td>NaN</td>\n",
       "      <td>NaN</td>\n",
       "      <td>NaN</td>\n",
       "      <td>NaN</td>\n",
       "      <td>NaN</td>\n",
       "      <td>NaN</td>\n",
       "      <td>NaN</td>\n",
       "      <td>...</td>\n",
       "      <td>8.29</td>\n",
       "      <td>7.88</td>\n",
       "      <td>6.32</td>\n",
       "      <td>5.57</td>\n",
       "      <td>5.80</td>\n",
       "      <td>5.97</td>\n",
       "      <td>5.67</td>\n",
       "      <td>4.79</td>\n",
       "      <td>5.50</td>\n",
       "      <td>6.55</td>\n",
       "    </tr>\n",
       "    <tr>\n",
       "      <th>38</th>\n",
       "      <td>PA</td>\n",
       "      <td>NaN</td>\n",
       "      <td>NaN</td>\n",
       "      <td>NaN</td>\n",
       "      <td>NaN</td>\n",
       "      <td>NaN</td>\n",
       "      <td>NaN</td>\n",
       "      <td>NaN</td>\n",
       "      <td>NaN</td>\n",
       "      <td>NaN</td>\n",
       "      <td>...</td>\n",
       "      <td>8.15</td>\n",
       "      <td>8.04</td>\n",
       "      <td>6.27</td>\n",
       "      <td>5.44</td>\n",
       "      <td>5.76</td>\n",
       "      <td>6.15</td>\n",
       "      <td>5.70</td>\n",
       "      <td>4.83</td>\n",
       "      <td>5.53</td>\n",
       "      <td>6.90</td>\n",
       "    </tr>\n",
       "    <tr>\n",
       "      <th>39</th>\n",
       "      <td>RI</td>\n",
       "      <td>NaN</td>\n",
       "      <td>NaN</td>\n",
       "      <td>NaN</td>\n",
       "      <td>NaN</td>\n",
       "      <td>NaN</td>\n",
       "      <td>NaN</td>\n",
       "      <td>NaN</td>\n",
       "      <td>NaN</td>\n",
       "      <td>NaN</td>\n",
       "      <td>...</td>\n",
       "      <td>7.53</td>\n",
       "      <td>7.72</td>\n",
       "      <td>6.32</td>\n",
       "      <td>5.23</td>\n",
       "      <td>5.47</td>\n",
       "      <td>6.46</td>\n",
       "      <td>5.83</td>\n",
       "      <td>5.07</td>\n",
       "      <td>5.58</td>\n",
       "      <td>6.49</td>\n",
       "    </tr>\n",
       "    <tr>\n",
       "      <th>40</th>\n",
       "      <td>SC</td>\n",
       "      <td>NaN</td>\n",
       "      <td>NaN</td>\n",
       "      <td>NaN</td>\n",
       "      <td>NaN</td>\n",
       "      <td>NaN</td>\n",
       "      <td>NaN</td>\n",
       "      <td>NaN</td>\n",
       "      <td>NaN</td>\n",
       "      <td>NaN</td>\n",
       "      <td>...</td>\n",
       "      <td>11.71</td>\n",
       "      <td>11.31</td>\n",
       "      <td>8.96</td>\n",
       "      <td>8.16</td>\n",
       "      <td>8.43</td>\n",
       "      <td>8.59</td>\n",
       "      <td>7.95</td>\n",
       "      <td>6.68</td>\n",
       "      <td>7.72</td>\n",
       "      <td>8.80</td>\n",
       "    </tr>\n",
       "    <tr>\n",
       "      <th>41</th>\n",
       "      <td>SD</td>\n",
       "      <td>NaN</td>\n",
       "      <td>NaN</td>\n",
       "      <td>NaN</td>\n",
       "      <td>NaN</td>\n",
       "      <td>NaN</td>\n",
       "      <td>NaN</td>\n",
       "      <td>NaN</td>\n",
       "      <td>NaN</td>\n",
       "      <td>NaN</td>\n",
       "      <td>...</td>\n",
       "      <td>10.48</td>\n",
       "      <td>10.34</td>\n",
       "      <td>7.90</td>\n",
       "      <td>7.07</td>\n",
       "      <td>7.49</td>\n",
       "      <td>8.09</td>\n",
       "      <td>7.58</td>\n",
       "      <td>6.63</td>\n",
       "      <td>7.60</td>\n",
       "      <td>8.81</td>\n",
       "    </tr>\n",
       "    <tr>\n",
       "      <th>42</th>\n",
       "      <td>TN</td>\n",
       "      <td>NaN</td>\n",
       "      <td>NaN</td>\n",
       "      <td>NaN</td>\n",
       "      <td>NaN</td>\n",
       "      <td>NaN</td>\n",
       "      <td>NaN</td>\n",
       "      <td>NaN</td>\n",
       "      <td>NaN</td>\n",
       "      <td>NaN</td>\n",
       "      <td>...</td>\n",
       "      <td>9.76</td>\n",
       "      <td>9.64</td>\n",
       "      <td>7.34</td>\n",
       "      <td>6.60</td>\n",
       "      <td>6.71</td>\n",
       "      <td>7.24</td>\n",
       "      <td>6.73</td>\n",
       "      <td>5.49</td>\n",
       "      <td>6.36</td>\n",
       "      <td>7.49</td>\n",
       "    </tr>\n",
       "    <tr>\n",
       "      <th>43</th>\n",
       "      <td>TX</td>\n",
       "      <td>NaN</td>\n",
       "      <td>NaN</td>\n",
       "      <td>NaN</td>\n",
       "      <td>NaN</td>\n",
       "      <td>NaN</td>\n",
       "      <td>NaN</td>\n",
       "      <td>NaN</td>\n",
       "      <td>NaN</td>\n",
       "      <td>NaN</td>\n",
       "      <td>...</td>\n",
       "      <td>10.37</td>\n",
       "      <td>10.06</td>\n",
       "      <td>7.52</td>\n",
       "      <td>6.98</td>\n",
       "      <td>7.51</td>\n",
       "      <td>8.19</td>\n",
       "      <td>7.37</td>\n",
       "      <td>6.00</td>\n",
       "      <td>7.70</td>\n",
       "      <td>8.44</td>\n",
       "    </tr>\n",
       "    <tr>\n",
       "      <th>44</th>\n",
       "      <td>UT</td>\n",
       "      <td>NaN</td>\n",
       "      <td>NaN</td>\n",
       "      <td>NaN</td>\n",
       "      <td>NaN</td>\n",
       "      <td>NaN</td>\n",
       "      <td>NaN</td>\n",
       "      <td>NaN</td>\n",
       "      <td>NaN</td>\n",
       "      <td>NaN</td>\n",
       "      <td>...</td>\n",
       "      <td>8.08</td>\n",
       "      <td>7.61</td>\n",
       "      <td>5.94</td>\n",
       "      <td>5.27</td>\n",
       "      <td>5.39</td>\n",
       "      <td>5.59</td>\n",
       "      <td>4.99</td>\n",
       "      <td>4.24</td>\n",
       "      <td>4.80</td>\n",
       "      <td>5.80</td>\n",
       "    </tr>\n",
       "    <tr>\n",
       "      <th>45</th>\n",
       "      <td>VA</td>\n",
       "      <td>NaN</td>\n",
       "      <td>NaN</td>\n",
       "      <td>NaN</td>\n",
       "      <td>NaN</td>\n",
       "      <td>NaN</td>\n",
       "      <td>NaN</td>\n",
       "      <td>NaN</td>\n",
       "      <td>NaN</td>\n",
       "      <td>NaN</td>\n",
       "      <td>...</td>\n",
       "      <td>7.60</td>\n",
       "      <td>7.58</td>\n",
       "      <td>5.86</td>\n",
       "      <td>5.27</td>\n",
       "      <td>5.52</td>\n",
       "      <td>5.99</td>\n",
       "      <td>5.56</td>\n",
       "      <td>4.53</td>\n",
       "      <td>5.25</td>\n",
       "      <td>6.40</td>\n",
       "    </tr>\n",
       "    <tr>\n",
       "      <th>46</th>\n",
       "      <td>VT</td>\n",
       "      <td>NaN</td>\n",
       "      <td>NaN</td>\n",
       "      <td>NaN</td>\n",
       "      <td>NaN</td>\n",
       "      <td>NaN</td>\n",
       "      <td>NaN</td>\n",
       "      <td>NaN</td>\n",
       "      <td>NaN</td>\n",
       "      <td>NaN</td>\n",
       "      <td>...</td>\n",
       "      <td>11.24</td>\n",
       "      <td>10.89</td>\n",
       "      <td>8.65</td>\n",
       "      <td>7.55</td>\n",
       "      <td>7.93</td>\n",
       "      <td>8.48</td>\n",
       "      <td>7.91</td>\n",
       "      <td>6.73</td>\n",
       "      <td>7.47</td>\n",
       "      <td>8.77</td>\n",
       "    </tr>\n",
       "    <tr>\n",
       "      <th>47</th>\n",
       "      <td>WA</td>\n",
       "      <td>NaN</td>\n",
       "      <td>NaN</td>\n",
       "      <td>NaN</td>\n",
       "      <td>NaN</td>\n",
       "      <td>NaN</td>\n",
       "      <td>NaN</td>\n",
       "      <td>NaN</td>\n",
       "      <td>NaN</td>\n",
       "      <td>NaN</td>\n",
       "      <td>...</td>\n",
       "      <td>6.35</td>\n",
       "      <td>5.84</td>\n",
       "      <td>4.68</td>\n",
       "      <td>4.31</td>\n",
       "      <td>4.49</td>\n",
       "      <td>4.55</td>\n",
       "      <td>4.24</td>\n",
       "      <td>3.21</td>\n",
       "      <td>3.76</td>\n",
       "      <td>4.62</td>\n",
       "    </tr>\n",
       "    <tr>\n",
       "      <th>48</th>\n",
       "      <td>WI</td>\n",
       "      <td>NaN</td>\n",
       "      <td>NaN</td>\n",
       "      <td>NaN</td>\n",
       "      <td>NaN</td>\n",
       "      <td>NaN</td>\n",
       "      <td>NaN</td>\n",
       "      <td>NaN</td>\n",
       "      <td>NaN</td>\n",
       "      <td>NaN</td>\n",
       "      <td>...</td>\n",
       "      <td>8.77</td>\n",
       "      <td>8.94</td>\n",
       "      <td>6.74</td>\n",
       "      <td>6.07</td>\n",
       "      <td>6.38</td>\n",
       "      <td>6.81</td>\n",
       "      <td>6.32</td>\n",
       "      <td>5.38</td>\n",
       "      <td>6.47</td>\n",
       "      <td>7.71</td>\n",
       "    </tr>\n",
       "    <tr>\n",
       "      <th>49</th>\n",
       "      <td>WV</td>\n",
       "      <td>NaN</td>\n",
       "      <td>NaN</td>\n",
       "      <td>NaN</td>\n",
       "      <td>NaN</td>\n",
       "      <td>NaN</td>\n",
       "      <td>NaN</td>\n",
       "      <td>NaN</td>\n",
       "      <td>NaN</td>\n",
       "      <td>NaN</td>\n",
       "      <td>...</td>\n",
       "      <td>12.79</td>\n",
       "      <td>12.35</td>\n",
       "      <td>10.11</td>\n",
       "      <td>10.03</td>\n",
       "      <td>9.91</td>\n",
       "      <td>10.96</td>\n",
       "      <td>10.01</td>\n",
       "      <td>8.69</td>\n",
       "      <td>10.07</td>\n",
       "      <td>11.16</td>\n",
       "    </tr>\n",
       "    <tr>\n",
       "      <th>50</th>\n",
       "      <td>WY</td>\n",
       "      <td>NaN</td>\n",
       "      <td>NaN</td>\n",
       "      <td>NaN</td>\n",
       "      <td>NaN</td>\n",
       "      <td>NaN</td>\n",
       "      <td>NaN</td>\n",
       "      <td>NaN</td>\n",
       "      <td>NaN</td>\n",
       "      <td>NaN</td>\n",
       "      <td>...</td>\n",
       "      <td>14.09</td>\n",
       "      <td>14.45</td>\n",
       "      <td>11.51</td>\n",
       "      <td>11.06</td>\n",
       "      <td>11.67</td>\n",
       "      <td>12.49</td>\n",
       "      <td>11.72</td>\n",
       "      <td>10.51</td>\n",
       "      <td>11.77</td>\n",
       "      <td>13.30</td>\n",
       "    </tr>\n",
       "    <tr>\n",
       "      <th>51</th>\n",
       "      <td>US</td>\n",
       "      <td>NaN</td>\n",
       "      <td>NaN</td>\n",
       "      <td>NaN</td>\n",
       "      <td>NaN</td>\n",
       "      <td>NaN</td>\n",
       "      <td>NaN</td>\n",
       "      <td>NaN</td>\n",
       "      <td>NaN</td>\n",
       "      <td>NaN</td>\n",
       "      <td>...</td>\n",
       "      <td>8.15</td>\n",
       "      <td>7.92</td>\n",
       "      <td>6.17</td>\n",
       "      <td>5.52</td>\n",
       "      <td>5.79</td>\n",
       "      <td>6.16</td>\n",
       "      <td>5.69</td>\n",
       "      <td>4.73</td>\n",
       "      <td>5.58</td>\n",
       "      <td>6.68</td>\n",
       "    </tr>\n",
       "  </tbody>\n",
       "</table>\n",
       "<p>52 rows × 54 columns</p>\n",
       "</div>"
      ],
      "text/plain": [
       "   State  1970  1971  1972  1973  1974  1975  1976  1977  1978  ...   2013  \\\n",
       "0     AK   NaN   NaN   NaN   NaN   NaN   NaN   NaN   NaN   NaN  ...  12.09   \n",
       "1     AL   NaN   NaN   NaN   NaN   NaN   NaN   NaN   NaN   NaN  ...  12.36   \n",
       "2     AR   NaN   NaN   NaN   NaN   NaN   NaN   NaN   NaN   NaN  ...  12.28   \n",
       "3     AZ   NaN   NaN   NaN   NaN   NaN   NaN   NaN   NaN   NaN  ...   8.58   \n",
       "4     CA   NaN   NaN   NaN   NaN   NaN   NaN   NaN   NaN   NaN  ...   6.11   \n",
       "5     CO   NaN   NaN   NaN   NaN   NaN   NaN   NaN   NaN   NaN  ...   6.83   \n",
       "6     CT   NaN   NaN   NaN   NaN   NaN   NaN   NaN   NaN   NaN  ...   6.37   \n",
       "7     DC   NaN   NaN   NaN   NaN   NaN   NaN   NaN   NaN   NaN  ...   1.93   \n",
       "8     DE   NaN   NaN   NaN   NaN   NaN   NaN   NaN   NaN   NaN  ...   6.41   \n",
       "9     FL   NaN   NaN   NaN   NaN   NaN   NaN   NaN   NaN   NaN  ...   8.29   \n",
       "10    GA   NaN   NaN   NaN   NaN   NaN   NaN   NaN   NaN   NaN  ...   9.13   \n",
       "11    HI   NaN   NaN   NaN   NaN   NaN   NaN   NaN   NaN   NaN  ...  11.01   \n",
       "12    IA   NaN   NaN   NaN   NaN   NaN   NaN   NaN   NaN   NaN  ...  10.34   \n",
       "13    ID   NaN   NaN   NaN   NaN   NaN   NaN   NaN   NaN   NaN  ...  11.45   \n",
       "14    IL   NaN   NaN   NaN   NaN   NaN   NaN   NaN   NaN   NaN  ...   6.56   \n",
       "15    IN   NaN   NaN   NaN   NaN   NaN   NaN   NaN   NaN   NaN  ...  10.58   \n",
       "16    KS   NaN   NaN   NaN   NaN   NaN   NaN   NaN   NaN   NaN  ...   9.51   \n",
       "17    KY   NaN   NaN   NaN   NaN   NaN   NaN   NaN   NaN   NaN  ...  12.29   \n",
       "18    LA   NaN   NaN   NaN   NaN   NaN   NaN   NaN   NaN   NaN  ...  16.95   \n",
       "19    MA   NaN   NaN   NaN   NaN   NaN   NaN   NaN   NaN   NaN  ...   6.20   \n",
       "20    MD   NaN   NaN   NaN   NaN   NaN   NaN   NaN   NaN   NaN  ...   6.86   \n",
       "21    ME   NaN   NaN   NaN   NaN   NaN   NaN   NaN   NaN   NaN  ...  13.53   \n",
       "22    MI   NaN   NaN   NaN   NaN   NaN   NaN   NaN   NaN   NaN  ...   9.27   \n",
       "23    MN   NaN   NaN   NaN   NaN   NaN   NaN   NaN   NaN   NaN  ...   8.07   \n",
       "24    MO   NaN   NaN   NaN   NaN   NaN   NaN   NaN   NaN   NaN  ...   9.38   \n",
       "25    MS   NaN   NaN   NaN   NaN   NaN   NaN   NaN   NaN   NaN  ...  14.17   \n",
       "26    MT   NaN   NaN   NaN   NaN   NaN   NaN   NaN   NaN   NaN  ...  12.90   \n",
       "27    NC   NaN   NaN   NaN   NaN   NaN   NaN   NaN   NaN   NaN  ...   8.26   \n",
       "28    ND   NaN   NaN   NaN   NaN   NaN   NaN   NaN   NaN   NaN  ...  13.95   \n",
       "29    NE   NaN   NaN   NaN   NaN   NaN   NaN   NaN   NaN   NaN  ...   9.62   \n",
       "30    NH   NaN   NaN   NaN   NaN   NaN   NaN   NaN   NaN   NaN  ...   8.67   \n",
       "31    NJ   NaN   NaN   NaN   NaN   NaN   NaN   NaN   NaN   NaN  ...   7.03   \n",
       "32    NM   NaN   NaN   NaN   NaN   NaN   NaN   NaN   NaN   NaN  ...  10.22   \n",
       "33    NV   NaN   NaN   NaN   NaN   NaN   NaN   NaN   NaN   NaN  ...   8.46   \n",
       "34    NY   NaN   NaN   NaN   NaN   NaN   NaN   NaN   NaN   NaN  ...   4.99   \n",
       "35    OH   NaN   NaN   NaN   NaN   NaN   NaN   NaN   NaN   NaN  ...   8.58   \n",
       "36    OK   NaN   NaN   NaN   NaN   NaN   NaN   NaN   NaN   NaN  ...  10.48   \n",
       "37    OR   NaN   NaN   NaN   NaN   NaN   NaN   NaN   NaN   NaN  ...   8.29   \n",
       "38    PA   NaN   NaN   NaN   NaN   NaN   NaN   NaN   NaN   NaN  ...   8.15   \n",
       "39    RI   NaN   NaN   NaN   NaN   NaN   NaN   NaN   NaN   NaN  ...   7.53   \n",
       "40    SC   NaN   NaN   NaN   NaN   NaN   NaN   NaN   NaN   NaN  ...  11.71   \n",
       "41    SD   NaN   NaN   NaN   NaN   NaN   NaN   NaN   NaN   NaN  ...  10.48   \n",
       "42    TN   NaN   NaN   NaN   NaN   NaN   NaN   NaN   NaN   NaN  ...   9.76   \n",
       "43    TX   NaN   NaN   NaN   NaN   NaN   NaN   NaN   NaN   NaN  ...  10.37   \n",
       "44    UT   NaN   NaN   NaN   NaN   NaN   NaN   NaN   NaN   NaN  ...   8.08   \n",
       "45    VA   NaN   NaN   NaN   NaN   NaN   NaN   NaN   NaN   NaN  ...   7.60   \n",
       "46    VT   NaN   NaN   NaN   NaN   NaN   NaN   NaN   NaN   NaN  ...  11.24   \n",
       "47    WA   NaN   NaN   NaN   NaN   NaN   NaN   NaN   NaN   NaN  ...   6.35   \n",
       "48    WI   NaN   NaN   NaN   NaN   NaN   NaN   NaN   NaN   NaN  ...   8.77   \n",
       "49    WV   NaN   NaN   NaN   NaN   NaN   NaN   NaN   NaN   NaN  ...  12.79   \n",
       "50    WY   NaN   NaN   NaN   NaN   NaN   NaN   NaN   NaN   NaN  ...  14.09   \n",
       "51    US   NaN   NaN   NaN   NaN   NaN   NaN   NaN   NaN   NaN  ...   8.15   \n",
       "\n",
       "     2014   2015   2016   2017   2018   2019   2020   2021   2022  \n",
       "0   12.15  10.77   8.92   9.33  10.58  10.37   9.12  11.15  14.57  \n",
       "1   12.22   9.84   9.21   9.43   9.70   9.08   7.90   9.41  11.01  \n",
       "2   11.85   9.42   8.51   9.11   9.63   9.09   7.63   8.93  10.48  \n",
       "3    8.24   6.94   6.24   6.37   6.70   6.28   5.27   5.90   6.93  \n",
       "4    5.81   4.83   4.30   4.50   4.74   4.55   3.74   4.42   5.49  \n",
       "5    6.61   5.11   4.57   4.73   5.00   4.71   3.88   4.61   5.77  \n",
       "6    6.31   5.04   4.44   4.59   5.07   4.76   4.18   4.63   5.68  \n",
       "7    1.94   1.72   1.53   1.47   1.52   1.46   1.20   1.35   1.56  \n",
       "8    5.82   4.82   4.55   4.97   5.32   4.82   4.01   4.64   5.34  \n",
       "9    7.97   6.28   5.54   5.80   6.06   5.56   4.52   5.16   6.20  \n",
       "10   8.63   6.65   5.83   6.09   6.15   5.66   4.87   5.50   6.64  \n",
       "11  10.09   7.26   6.19   6.69   7.52   7.21   5.55   6.82   9.19  \n",
       "12  10.05   7.39   6.90   7.46   8.13   7.65   6.44   7.58   9.30  \n",
       "13  11.08   9.28   8.26   8.69   8.79   7.99   6.74   7.77   8.85  \n",
       "14   6.69   5.07   4.62   4.90   5.18   4.75   3.97   4.79   5.92  \n",
       "15  10.31   8.25   7.27   7.49   7.83   7.48   6.43   7.35   8.43  \n",
       "16   9.65   7.22   6.49   6.73   7.26   6.79   5.78   6.61   8.24  \n",
       "17  11.80   8.98   8.17   8.52   9.36   8.53   7.04   8.57  10.56  \n",
       "18  16.36  11.83  11.00  12.37  12.76  11.63  10.30  13.79  15.37  \n",
       "19   5.99   4.84   4.19   4.41   4.85   4.39   3.55   3.94   4.89  \n",
       "20   6.68   5.36   4.63   4.75   4.97   4.65   3.86   4.43   5.16  \n",
       "21  13.39  10.28   8.63   8.89   9.29   8.48   6.77   7.64   9.73  \n",
       "22   8.97   6.89   6.26   6.48   6.91   6.48   5.49   6.37   7.39  \n",
       "23   7.92   5.87   5.39   5.79   6.12   5.73   4.66   5.49   6.69  \n",
       "24   9.20   7.24   6.56   6.86   7.42   6.73   5.64   6.51   7.71  \n",
       "25  14.19  11.36  10.15  10.77  11.58  10.85   9.11  10.59  12.57  \n",
       "26  12.33   9.42   8.78   9.48   9.95   9.51   8.28   9.31  10.68  \n",
       "27   7.97   6.25   5.67   5.79   6.21   5.77   4.79   5.50   6.43  \n",
       "28  13.45   9.75   8.77   9.54  10.26   9.89   8.68   9.68  11.27  \n",
       "29   9.18   6.96   6.33   6.71   7.21   6.71   5.66   6.46   7.71  \n",
       "30   8.77   6.83   5.92   6.39   6.97   6.34   5.21   5.72   7.28  \n",
       "31   6.84   5.26   4.72   4.92   5.22   4.75   3.95   4.48   5.30  \n",
       "32   9.96   7.97   7.16   7.88   8.35   7.65   6.71   8.17   9.36  \n",
       "33   8.41   6.63   5.71   6.04   6.46   6.02   4.99   5.64   7.24  \n",
       "34   4.89   3.79   3.27   3.40   3.64   3.27   2.72   3.15   3.94  \n",
       "35   8.42   6.65   6.00   6.13   6.55   5.96   5.05   5.85   6.88  \n",
       "36  10.35   8.51   7.63   8.02   8.33   7.82   6.79   8.14  10.15  \n",
       "37   7.88   6.32   5.57   5.80   5.97   5.67   4.79   5.50   6.55  \n",
       "38   8.04   6.27   5.44   5.76   6.15   5.70   4.83   5.53   6.90  \n",
       "39   7.72   6.32   5.23   5.47   6.46   5.83   5.07   5.58   6.49  \n",
       "40  11.31   8.96   8.16   8.43   8.59   7.95   6.68   7.72   8.80  \n",
       "41  10.34   7.90   7.07   7.49   8.09   7.58   6.63   7.60   8.81  \n",
       "42   9.64   7.34   6.60   6.71   7.24   6.73   5.49   6.36   7.49  \n",
       "43  10.06   7.52   6.98   7.51   8.19   7.37   6.00   7.70   8.44  \n",
       "44   7.61   5.94   5.27   5.39   5.59   4.99   4.24   4.80   5.80  \n",
       "45   7.58   5.86   5.27   5.52   5.99   5.56   4.53   5.25   6.40  \n",
       "46  10.89   8.65   7.55   7.93   8.48   7.91   6.73   7.47   8.77  \n",
       "47   5.84   4.68   4.31   4.49   4.55   4.24   3.21   3.76   4.62  \n",
       "48   8.94   6.74   6.07   6.38   6.81   6.32   5.38   6.47   7.71  \n",
       "49  12.35  10.11  10.03   9.91  10.96  10.01   8.69  10.07  11.16  \n",
       "50  14.45  11.51  11.06  11.67  12.49  11.72  10.51  11.77  13.30  \n",
       "51   7.92   6.17   5.52   5.79   6.16   5.69   4.73   5.58   6.68  \n",
       "\n",
       "[52 rows x 54 columns]"
      ]
     },
     "execution_count": 17,
     "metadata": {},
     "output_type": "execute_result"
    }
   ],
   "source": [
    "energy_exp_gdp = pd.read_excel(\"pr_ex_tot.xlsx\",sheet_name=\"Expenditures per GDP\", header=2)\n",
    "energy_exp_gdp"
   ]
  },
  {
   "cell_type": "code",
   "execution_count": 18,
   "id": "acf9f7a8-4289-4a61-a7bb-71ee3d6f95b1",
   "metadata": {},
   "outputs": [
    {
     "data": {
      "text/html": [
       "<div>\n",
       "<style scoped>\n",
       "    .dataframe tbody tr th:only-of-type {\n",
       "        vertical-align: middle;\n",
       "    }\n",
       "\n",
       "    .dataframe tbody tr th {\n",
       "        vertical-align: top;\n",
       "    }\n",
       "\n",
       "    .dataframe thead th {\n",
       "        text-align: right;\n",
       "    }\n",
       "</style>\n",
       "<table border=\"1\" class=\"dataframe\">\n",
       "  <thead>\n",
       "    <tr style=\"text-align: right;\">\n",
       "      <th></th>\n",
       "      <th>index</th>\n",
       "      <th>State</th>\n",
       "      <th>Year</th>\n",
       "      <th>Exp_GDP_%</th>\n",
       "    </tr>\n",
       "  </thead>\n",
       "  <tbody>\n",
       "    <tr>\n",
       "      <th>0</th>\n",
       "      <td>1560</td>\n",
       "      <td>AK</td>\n",
       "      <td>2000</td>\n",
       "      <td>10.55</td>\n",
       "    </tr>\n",
       "    <tr>\n",
       "      <th>1</th>\n",
       "      <td>1561</td>\n",
       "      <td>AL</td>\n",
       "      <td>2000</td>\n",
       "      <td>9.99</td>\n",
       "    </tr>\n",
       "    <tr>\n",
       "      <th>2</th>\n",
       "      <td>1562</td>\n",
       "      <td>AR</td>\n",
       "      <td>2000</td>\n",
       "      <td>10.39</td>\n",
       "    </tr>\n",
       "    <tr>\n",
       "      <th>3</th>\n",
       "      <td>1563</td>\n",
       "      <td>AZ</td>\n",
       "      <td>2000</td>\n",
       "      <td>6.41</td>\n",
       "    </tr>\n",
       "    <tr>\n",
       "      <th>4</th>\n",
       "      <td>1564</td>\n",
       "      <td>CA</td>\n",
       "      <td>2000</td>\n",
       "      <td>5.04</td>\n",
       "    </tr>\n",
       "    <tr>\n",
       "      <th>...</th>\n",
       "      <td>...</td>\n",
       "      <td>...</td>\n",
       "      <td>...</td>\n",
       "      <td>...</td>\n",
       "    </tr>\n",
       "    <tr>\n",
       "      <th>1191</th>\n",
       "      <td>2751</td>\n",
       "      <td>WA</td>\n",
       "      <td>2022</td>\n",
       "      <td>4.62</td>\n",
       "    </tr>\n",
       "    <tr>\n",
       "      <th>1192</th>\n",
       "      <td>2752</td>\n",
       "      <td>WI</td>\n",
       "      <td>2022</td>\n",
       "      <td>7.71</td>\n",
       "    </tr>\n",
       "    <tr>\n",
       "      <th>1193</th>\n",
       "      <td>2753</td>\n",
       "      <td>WV</td>\n",
       "      <td>2022</td>\n",
       "      <td>11.16</td>\n",
       "    </tr>\n",
       "    <tr>\n",
       "      <th>1194</th>\n",
       "      <td>2754</td>\n",
       "      <td>WY</td>\n",
       "      <td>2022</td>\n",
       "      <td>13.30</td>\n",
       "    </tr>\n",
       "    <tr>\n",
       "      <th>1195</th>\n",
       "      <td>2755</td>\n",
       "      <td>US</td>\n",
       "      <td>2022</td>\n",
       "      <td>6.68</td>\n",
       "    </tr>\n",
       "  </tbody>\n",
       "</table>\n",
       "<p>1196 rows × 4 columns</p>\n",
       "</div>"
      ],
      "text/plain": [
       "      index State  Year  Exp_GDP_%\n",
       "0      1560    AK  2000      10.55\n",
       "1      1561    AL  2000       9.99\n",
       "2      1562    AR  2000      10.39\n",
       "3      1563    AZ  2000       6.41\n",
       "4      1564    CA  2000       5.04\n",
       "...     ...   ...   ...        ...\n",
       "1191   2751    WA  2022       4.62\n",
       "1192   2752    WI  2022       7.71\n",
       "1193   2753    WV  2022      11.16\n",
       "1194   2754    WY  2022      13.30\n",
       "1195   2755    US  2022       6.68\n",
       "\n",
       "[1196 rows x 4 columns]"
      ]
     },
     "execution_count": 18,
     "metadata": {},
     "output_type": "execute_result"
    }
   ],
   "source": [
    "energy_expgdp_melted = pd.melt(\n",
    "    energy_exp_gdp,\n",
    "    id_vars=[\"State\"],  \n",
    "    var_name=\"Year\",    \n",
    "    value_name=\"Exp_GDP_%\" \n",
    ")\n",
    "energy_expgdp_melted\n",
    "\n",
    "## only keep years 2000-2022\n",
    "filter_energy_expgdp = energy_expgdp_melted[\n",
    "    (energy_expgdp_melted[\"Year\"].astype(int) >= 2000) & (energy_expgdp_melted[\"Year\"].astype(int) <= 2022)\n",
    "].reset_index()\n",
    "filter_energy_expgdp"
   ]
  },
  {
   "cell_type": "markdown",
   "id": "2d67b4b8-f873-4367-b881-85ae4b5a9329",
   "metadata": {},
   "source": [
    "#### Now merging the energy expenditure data and experditure as a percentage of GDP data"
   ]
  },
  {
   "cell_type": "code",
   "execution_count": 19,
   "id": "24dede2d-3fd9-4ff3-9f73-d7b9fff0d495",
   "metadata": {},
   "outputs": [
    {
     "data": {
      "text/html": [
       "<div>\n",
       "<style scoped>\n",
       "    .dataframe tbody tr th:only-of-type {\n",
       "        vertical-align: middle;\n",
       "    }\n",
       "\n",
       "    .dataframe tbody tr th {\n",
       "        vertical-align: top;\n",
       "    }\n",
       "\n",
       "    .dataframe thead th {\n",
       "        text-align: right;\n",
       "    }\n",
       "</style>\n",
       "<table border=\"1\" class=\"dataframe\">\n",
       "  <thead>\n",
       "    <tr style=\"text-align: right;\">\n",
       "      <th></th>\n",
       "      <th>index_x</th>\n",
       "      <th>State</th>\n",
       "      <th>Year</th>\n",
       "      <th>Exp_GDP_%</th>\n",
       "      <th>index_y</th>\n",
       "      <th>Expenditures</th>\n",
       "    </tr>\n",
       "  </thead>\n",
       "  <tbody>\n",
       "    <tr>\n",
       "      <th>0</th>\n",
       "      <td>1560</td>\n",
       "      <td>AK</td>\n",
       "      <td>2000</td>\n",
       "      <td>10.55</td>\n",
       "      <td>1560</td>\n",
       "      <td>2841.6</td>\n",
       "    </tr>\n",
       "    <tr>\n",
       "      <th>1</th>\n",
       "      <td>1561</td>\n",
       "      <td>AL</td>\n",
       "      <td>2000</td>\n",
       "      <td>9.99</td>\n",
       "      <td>1561</td>\n",
       "      <td>12038.9</td>\n",
       "    </tr>\n",
       "    <tr>\n",
       "      <th>2</th>\n",
       "      <td>1562</td>\n",
       "      <td>AR</td>\n",
       "      <td>2000</td>\n",
       "      <td>10.39</td>\n",
       "      <td>1562</td>\n",
       "      <td>7188.4</td>\n",
       "    </tr>\n",
       "    <tr>\n",
       "      <th>3</th>\n",
       "      <td>1563</td>\n",
       "      <td>AZ</td>\n",
       "      <td>2000</td>\n",
       "      <td>6.41</td>\n",
       "      <td>1563</td>\n",
       "      <td>10624.8</td>\n",
       "    </tr>\n",
       "    <tr>\n",
       "      <th>4</th>\n",
       "      <td>1564</td>\n",
       "      <td>CA</td>\n",
       "      <td>2000</td>\n",
       "      <td>5.04</td>\n",
       "      <td>1564</td>\n",
       "      <td>68282.0</td>\n",
       "    </tr>\n",
       "    <tr>\n",
       "      <th>...</th>\n",
       "      <td>...</td>\n",
       "      <td>...</td>\n",
       "      <td>...</td>\n",
       "      <td>...</td>\n",
       "      <td>...</td>\n",
       "      <td>...</td>\n",
       "    </tr>\n",
       "    <tr>\n",
       "      <th>1191</th>\n",
       "      <td>2751</td>\n",
       "      <td>WA</td>\n",
       "      <td>2022</td>\n",
       "      <td>4.62</td>\n",
       "      <td>2751</td>\n",
       "      <td>34112.5</td>\n",
       "    </tr>\n",
       "    <tr>\n",
       "      <th>1192</th>\n",
       "      <td>2752</td>\n",
       "      <td>WI</td>\n",
       "      <td>2022</td>\n",
       "      <td>7.71</td>\n",
       "      <td>2752</td>\n",
       "      <td>30555.5</td>\n",
       "    </tr>\n",
       "    <tr>\n",
       "      <th>1193</th>\n",
       "      <td>2753</td>\n",
       "      <td>WV</td>\n",
       "      <td>2022</td>\n",
       "      <td>11.16</td>\n",
       "      <td>2753</td>\n",
       "      <td>10873.2</td>\n",
       "    </tr>\n",
       "    <tr>\n",
       "      <th>1194</th>\n",
       "      <td>2754</td>\n",
       "      <td>WY</td>\n",
       "      <td>2022</td>\n",
       "      <td>13.30</td>\n",
       "      <td>2754</td>\n",
       "      <td>6526.4</td>\n",
       "    </tr>\n",
       "    <tr>\n",
       "      <th>1195</th>\n",
       "      <td>2755</td>\n",
       "      <td>US</td>\n",
       "      <td>2022</td>\n",
       "      <td>6.68</td>\n",
       "      <td>2755</td>\n",
       "      <td>1719438.1</td>\n",
       "    </tr>\n",
       "  </tbody>\n",
       "</table>\n",
       "<p>1196 rows × 6 columns</p>\n",
       "</div>"
      ],
      "text/plain": [
       "      index_x State  Year  Exp_GDP_%  index_y  Expenditures\n",
       "0        1560    AK  2000      10.55     1560        2841.6\n",
       "1        1561    AL  2000       9.99     1561       12038.9\n",
       "2        1562    AR  2000      10.39     1562        7188.4\n",
       "3        1563    AZ  2000       6.41     1563       10624.8\n",
       "4        1564    CA  2000       5.04     1564       68282.0\n",
       "...       ...   ...   ...        ...      ...           ...\n",
       "1191     2751    WA  2022       4.62     2751       34112.5\n",
       "1192     2752    WI  2022       7.71     2752       30555.5\n",
       "1193     2753    WV  2022      11.16     2753       10873.2\n",
       "1194     2754    WY  2022      13.30     2754        6526.4\n",
       "1195     2755    US  2022       6.68     2755     1719438.1\n",
       "\n",
       "[1196 rows x 6 columns]"
      ]
     },
     "execution_count": 19,
     "metadata": {},
     "output_type": "execute_result"
    }
   ],
   "source": [
    "#### Merge datasets on State and Year\n",
    "merged_exp_data = pd.merge(filter_energy_expgdp, filter_energy_exp, on=['State', 'Year'])\n",
    "merged_exp_data"
   ]
  },
  {
   "cell_type": "code",
   "execution_count": 20,
   "id": "172dabf1-e701-4206-92b4-5e5ec6d2d6cf",
   "metadata": {},
   "outputs": [
    {
     "data": {
      "text/html": [
       "<div>\n",
       "<style scoped>\n",
       "    .dataframe tbody tr th:only-of-type {\n",
       "        vertical-align: middle;\n",
       "    }\n",
       "\n",
       "    .dataframe tbody tr th {\n",
       "        vertical-align: top;\n",
       "    }\n",
       "\n",
       "    .dataframe thead th {\n",
       "        text-align: right;\n",
       "    }\n",
       "</style>\n",
       "<table border=\"1\" class=\"dataframe\">\n",
       "  <thead>\n",
       "    <tr style=\"text-align: right;\">\n",
       "      <th></th>\n",
       "      <th>State</th>\n",
       "      <th>Year</th>\n",
       "      <th>Exp_GDP_%</th>\n",
       "      <th>Expenditures</th>\n",
       "    </tr>\n",
       "  </thead>\n",
       "  <tbody>\n",
       "    <tr>\n",
       "      <th>0</th>\n",
       "      <td>AK</td>\n",
       "      <td>2000</td>\n",
       "      <td>10.55</td>\n",
       "      <td>2841.6</td>\n",
       "    </tr>\n",
       "    <tr>\n",
       "      <th>1</th>\n",
       "      <td>AL</td>\n",
       "      <td>2000</td>\n",
       "      <td>9.99</td>\n",
       "      <td>12038.9</td>\n",
       "    </tr>\n",
       "    <tr>\n",
       "      <th>2</th>\n",
       "      <td>AR</td>\n",
       "      <td>2000</td>\n",
       "      <td>10.39</td>\n",
       "      <td>7188.4</td>\n",
       "    </tr>\n",
       "    <tr>\n",
       "      <th>3</th>\n",
       "      <td>AZ</td>\n",
       "      <td>2000</td>\n",
       "      <td>6.41</td>\n",
       "      <td>10624.8</td>\n",
       "    </tr>\n",
       "    <tr>\n",
       "      <th>4</th>\n",
       "      <td>CA</td>\n",
       "      <td>2000</td>\n",
       "      <td>5.04</td>\n",
       "      <td>68282.0</td>\n",
       "    </tr>\n",
       "    <tr>\n",
       "      <th>...</th>\n",
       "      <td>...</td>\n",
       "      <td>...</td>\n",
       "      <td>...</td>\n",
       "      <td>...</td>\n",
       "    </tr>\n",
       "    <tr>\n",
       "      <th>1191</th>\n",
       "      <td>WA</td>\n",
       "      <td>2022</td>\n",
       "      <td>4.62</td>\n",
       "      <td>34112.5</td>\n",
       "    </tr>\n",
       "    <tr>\n",
       "      <th>1192</th>\n",
       "      <td>WI</td>\n",
       "      <td>2022</td>\n",
       "      <td>7.71</td>\n",
       "      <td>30555.5</td>\n",
       "    </tr>\n",
       "    <tr>\n",
       "      <th>1193</th>\n",
       "      <td>WV</td>\n",
       "      <td>2022</td>\n",
       "      <td>11.16</td>\n",
       "      <td>10873.2</td>\n",
       "    </tr>\n",
       "    <tr>\n",
       "      <th>1194</th>\n",
       "      <td>WY</td>\n",
       "      <td>2022</td>\n",
       "      <td>13.30</td>\n",
       "      <td>6526.4</td>\n",
       "    </tr>\n",
       "    <tr>\n",
       "      <th>1195</th>\n",
       "      <td>US</td>\n",
       "      <td>2022</td>\n",
       "      <td>6.68</td>\n",
       "      <td>1719438.1</td>\n",
       "    </tr>\n",
       "  </tbody>\n",
       "</table>\n",
       "<p>1196 rows × 4 columns</p>\n",
       "</div>"
      ],
      "text/plain": [
       "     State  Year  Exp_GDP_%  Expenditures\n",
       "0       AK  2000      10.55        2841.6\n",
       "1       AL  2000       9.99       12038.9\n",
       "2       AR  2000      10.39        7188.4\n",
       "3       AZ  2000       6.41       10624.8\n",
       "4       CA  2000       5.04       68282.0\n",
       "...    ...   ...        ...           ...\n",
       "1191    WA  2022       4.62       34112.5\n",
       "1192    WI  2022       7.71       30555.5\n",
       "1193    WV  2022      11.16       10873.2\n",
       "1194    WY  2022      13.30        6526.4\n",
       "1195    US  2022       6.68     1719438.1\n",
       "\n",
       "[1196 rows x 4 columns]"
      ]
     },
     "execution_count": 20,
     "metadata": {},
     "output_type": "execute_result"
    }
   ],
   "source": [
    "merged_exp_data = merged_exp_data.drop(['index_x','index_y'], axis=1) # dropping index columns from previous datasets\n",
    "merged_exp_data"
   ]
  },
  {
   "cell_type": "markdown",
   "id": "e5e90d96-0df9-4f1e-861a-736cfbee3555",
   "metadata": {},
   "source": [
    "#### Let us look at the trend in energy expenditure as a share of US GDP over the year 2000-2020"
   ]
  },
  {
   "cell_type": "code",
   "execution_count": 21,
   "id": "3804cd44-6225-4e7c-93e7-f6ce96871d01",
   "metadata": {},
   "outputs": [
    {
     "data": {
      "text/html": [
       "        <script type=\"text/javascript\">\n",
       "        window.PlotlyConfig = {MathJaxConfig: 'local'};\n",
       "        if (window.MathJax && window.MathJax.Hub && window.MathJax.Hub.Config) {window.MathJax.Hub.Config({SVG: {font: \"STIX-Web\"}});}\n",
       "        if (typeof require !== 'undefined') {\n",
       "        require.undef(\"plotly\");\n",
       "        requirejs.config({\n",
       "            paths: {\n",
       "                'plotly': ['https://cdn.plot.ly/plotly-2.32.0.min']\n",
       "            }\n",
       "        });\n",
       "        require(['plotly'], function(Plotly) {\n",
       "            window._Plotly = Plotly;\n",
       "        });\n",
       "        }\n",
       "        </script>\n",
       "        "
      ]
     },
     "metadata": {},
     "output_type": "display_data"
    },
    {
     "data": {
      "application/vnd.plotly.v1+json": {
       "config": {
        "plotlyServerURL": "https://plot.ly"
       },
       "data": [
        {
         "hovertemplate": "Year=%{x}<br>Exp_GDP_%=%{y}<extra></extra>",
         "legendgroup": "",
         "line": {
          "color": "#636efa",
          "dash": "solid"
         },
         "marker": {
          "symbol": "circle"
         },
         "mode": "lines",
         "name": "",
         "orientation": "v",
         "showlegend": false,
         "type": "scatter",
         "x": [
          2000,
          2001,
          2002,
          2003,
          2004,
          2005,
          2006,
          2007,
          2008,
          2009,
          2010,
          2011,
          2012,
          2013,
          2014,
          2015,
          2016,
          2017,
          2018,
          2019,
          2020,
          2021,
          2022
         ],
         "xaxis": "x",
         "y": [
          6.71,
          6.58,
          6.08,
          6.59,
          7.13,
          8.02,
          8.39,
          8.52,
          9.54,
          7.37,
          8.07,
          8.93,
          8.34,
          8.15,
          7.92,
          6.17,
          5.52,
          5.79,
          6.16,
          5.69,
          4.73,
          5.58,
          6.68
         ],
         "yaxis": "y"
        }
       ],
       "layout": {
        "legend": {
         "tracegroupgap": 0
        },
        "template": {
         "data": {
          "bar": [
           {
            "error_x": {
             "color": "#2a3f5f"
            },
            "error_y": {
             "color": "#2a3f5f"
            },
            "marker": {
             "line": {
              "color": "#E5ECF6",
              "width": 0.5
             },
             "pattern": {
              "fillmode": "overlay",
              "size": 10,
              "solidity": 0.2
             }
            },
            "type": "bar"
           }
          ],
          "barpolar": [
           {
            "marker": {
             "line": {
              "color": "#E5ECF6",
              "width": 0.5
             },
             "pattern": {
              "fillmode": "overlay",
              "size": 10,
              "solidity": 0.2
             }
            },
            "type": "barpolar"
           }
          ],
          "carpet": [
           {
            "aaxis": {
             "endlinecolor": "#2a3f5f",
             "gridcolor": "white",
             "linecolor": "white",
             "minorgridcolor": "white",
             "startlinecolor": "#2a3f5f"
            },
            "baxis": {
             "endlinecolor": "#2a3f5f",
             "gridcolor": "white",
             "linecolor": "white",
             "minorgridcolor": "white",
             "startlinecolor": "#2a3f5f"
            },
            "type": "carpet"
           }
          ],
          "choropleth": [
           {
            "colorbar": {
             "outlinewidth": 0,
             "ticks": ""
            },
            "type": "choropleth"
           }
          ],
          "contour": [
           {
            "colorbar": {
             "outlinewidth": 0,
             "ticks": ""
            },
            "colorscale": [
             [
              0,
              "#0d0887"
             ],
             [
              0.1111111111111111,
              "#46039f"
             ],
             [
              0.2222222222222222,
              "#7201a8"
             ],
             [
              0.3333333333333333,
              "#9c179e"
             ],
             [
              0.4444444444444444,
              "#bd3786"
             ],
             [
              0.5555555555555556,
              "#d8576b"
             ],
             [
              0.6666666666666666,
              "#ed7953"
             ],
             [
              0.7777777777777778,
              "#fb9f3a"
             ],
             [
              0.8888888888888888,
              "#fdca26"
             ],
             [
              1,
              "#f0f921"
             ]
            ],
            "type": "contour"
           }
          ],
          "contourcarpet": [
           {
            "colorbar": {
             "outlinewidth": 0,
             "ticks": ""
            },
            "type": "contourcarpet"
           }
          ],
          "heatmap": [
           {
            "colorbar": {
             "outlinewidth": 0,
             "ticks": ""
            },
            "colorscale": [
             [
              0,
              "#0d0887"
             ],
             [
              0.1111111111111111,
              "#46039f"
             ],
             [
              0.2222222222222222,
              "#7201a8"
             ],
             [
              0.3333333333333333,
              "#9c179e"
             ],
             [
              0.4444444444444444,
              "#bd3786"
             ],
             [
              0.5555555555555556,
              "#d8576b"
             ],
             [
              0.6666666666666666,
              "#ed7953"
             ],
             [
              0.7777777777777778,
              "#fb9f3a"
             ],
             [
              0.8888888888888888,
              "#fdca26"
             ],
             [
              1,
              "#f0f921"
             ]
            ],
            "type": "heatmap"
           }
          ],
          "heatmapgl": [
           {
            "colorbar": {
             "outlinewidth": 0,
             "ticks": ""
            },
            "colorscale": [
             [
              0,
              "#0d0887"
             ],
             [
              0.1111111111111111,
              "#46039f"
             ],
             [
              0.2222222222222222,
              "#7201a8"
             ],
             [
              0.3333333333333333,
              "#9c179e"
             ],
             [
              0.4444444444444444,
              "#bd3786"
             ],
             [
              0.5555555555555556,
              "#d8576b"
             ],
             [
              0.6666666666666666,
              "#ed7953"
             ],
             [
              0.7777777777777778,
              "#fb9f3a"
             ],
             [
              0.8888888888888888,
              "#fdca26"
             ],
             [
              1,
              "#f0f921"
             ]
            ],
            "type": "heatmapgl"
           }
          ],
          "histogram": [
           {
            "marker": {
             "pattern": {
              "fillmode": "overlay",
              "size": 10,
              "solidity": 0.2
             }
            },
            "type": "histogram"
           }
          ],
          "histogram2d": [
           {
            "colorbar": {
             "outlinewidth": 0,
             "ticks": ""
            },
            "colorscale": [
             [
              0,
              "#0d0887"
             ],
             [
              0.1111111111111111,
              "#46039f"
             ],
             [
              0.2222222222222222,
              "#7201a8"
             ],
             [
              0.3333333333333333,
              "#9c179e"
             ],
             [
              0.4444444444444444,
              "#bd3786"
             ],
             [
              0.5555555555555556,
              "#d8576b"
             ],
             [
              0.6666666666666666,
              "#ed7953"
             ],
             [
              0.7777777777777778,
              "#fb9f3a"
             ],
             [
              0.8888888888888888,
              "#fdca26"
             ],
             [
              1,
              "#f0f921"
             ]
            ],
            "type": "histogram2d"
           }
          ],
          "histogram2dcontour": [
           {
            "colorbar": {
             "outlinewidth": 0,
             "ticks": ""
            },
            "colorscale": [
             [
              0,
              "#0d0887"
             ],
             [
              0.1111111111111111,
              "#46039f"
             ],
             [
              0.2222222222222222,
              "#7201a8"
             ],
             [
              0.3333333333333333,
              "#9c179e"
             ],
             [
              0.4444444444444444,
              "#bd3786"
             ],
             [
              0.5555555555555556,
              "#d8576b"
             ],
             [
              0.6666666666666666,
              "#ed7953"
             ],
             [
              0.7777777777777778,
              "#fb9f3a"
             ],
             [
              0.8888888888888888,
              "#fdca26"
             ],
             [
              1,
              "#f0f921"
             ]
            ],
            "type": "histogram2dcontour"
           }
          ],
          "mesh3d": [
           {
            "colorbar": {
             "outlinewidth": 0,
             "ticks": ""
            },
            "type": "mesh3d"
           }
          ],
          "parcoords": [
           {
            "line": {
             "colorbar": {
              "outlinewidth": 0,
              "ticks": ""
             }
            },
            "type": "parcoords"
           }
          ],
          "pie": [
           {
            "automargin": true,
            "type": "pie"
           }
          ],
          "scatter": [
           {
            "fillpattern": {
             "fillmode": "overlay",
             "size": 10,
             "solidity": 0.2
            },
            "type": "scatter"
           }
          ],
          "scatter3d": [
           {
            "line": {
             "colorbar": {
              "outlinewidth": 0,
              "ticks": ""
             }
            },
            "marker": {
             "colorbar": {
              "outlinewidth": 0,
              "ticks": ""
             }
            },
            "type": "scatter3d"
           }
          ],
          "scattercarpet": [
           {
            "marker": {
             "colorbar": {
              "outlinewidth": 0,
              "ticks": ""
             }
            },
            "type": "scattercarpet"
           }
          ],
          "scattergeo": [
           {
            "marker": {
             "colorbar": {
              "outlinewidth": 0,
              "ticks": ""
             }
            },
            "type": "scattergeo"
           }
          ],
          "scattergl": [
           {
            "marker": {
             "colorbar": {
              "outlinewidth": 0,
              "ticks": ""
             }
            },
            "type": "scattergl"
           }
          ],
          "scattermapbox": [
           {
            "marker": {
             "colorbar": {
              "outlinewidth": 0,
              "ticks": ""
             }
            },
            "type": "scattermapbox"
           }
          ],
          "scatterpolar": [
           {
            "marker": {
             "colorbar": {
              "outlinewidth": 0,
              "ticks": ""
             }
            },
            "type": "scatterpolar"
           }
          ],
          "scatterpolargl": [
           {
            "marker": {
             "colorbar": {
              "outlinewidth": 0,
              "ticks": ""
             }
            },
            "type": "scatterpolargl"
           }
          ],
          "scatterternary": [
           {
            "marker": {
             "colorbar": {
              "outlinewidth": 0,
              "ticks": ""
             }
            },
            "type": "scatterternary"
           }
          ],
          "surface": [
           {
            "colorbar": {
             "outlinewidth": 0,
             "ticks": ""
            },
            "colorscale": [
             [
              0,
              "#0d0887"
             ],
             [
              0.1111111111111111,
              "#46039f"
             ],
             [
              0.2222222222222222,
              "#7201a8"
             ],
             [
              0.3333333333333333,
              "#9c179e"
             ],
             [
              0.4444444444444444,
              "#bd3786"
             ],
             [
              0.5555555555555556,
              "#d8576b"
             ],
             [
              0.6666666666666666,
              "#ed7953"
             ],
             [
              0.7777777777777778,
              "#fb9f3a"
             ],
             [
              0.8888888888888888,
              "#fdca26"
             ],
             [
              1,
              "#f0f921"
             ]
            ],
            "type": "surface"
           }
          ],
          "table": [
           {
            "cells": {
             "fill": {
              "color": "#EBF0F8"
             },
             "line": {
              "color": "white"
             }
            },
            "header": {
             "fill": {
              "color": "#C8D4E3"
             },
             "line": {
              "color": "white"
             }
            },
            "type": "table"
           }
          ]
         },
         "layout": {
          "annotationdefaults": {
           "arrowcolor": "#2a3f5f",
           "arrowhead": 0,
           "arrowwidth": 1
          },
          "autotypenumbers": "strict",
          "coloraxis": {
           "colorbar": {
            "outlinewidth": 0,
            "ticks": ""
           }
          },
          "colorscale": {
           "diverging": [
            [
             0,
             "#8e0152"
            ],
            [
             0.1,
             "#c51b7d"
            ],
            [
             0.2,
             "#de77ae"
            ],
            [
             0.3,
             "#f1b6da"
            ],
            [
             0.4,
             "#fde0ef"
            ],
            [
             0.5,
             "#f7f7f7"
            ],
            [
             0.6,
             "#e6f5d0"
            ],
            [
             0.7,
             "#b8e186"
            ],
            [
             0.8,
             "#7fbc41"
            ],
            [
             0.9,
             "#4d9221"
            ],
            [
             1,
             "#276419"
            ]
           ],
           "sequential": [
            [
             0,
             "#0d0887"
            ],
            [
             0.1111111111111111,
             "#46039f"
            ],
            [
             0.2222222222222222,
             "#7201a8"
            ],
            [
             0.3333333333333333,
             "#9c179e"
            ],
            [
             0.4444444444444444,
             "#bd3786"
            ],
            [
             0.5555555555555556,
             "#d8576b"
            ],
            [
             0.6666666666666666,
             "#ed7953"
            ],
            [
             0.7777777777777778,
             "#fb9f3a"
            ],
            [
             0.8888888888888888,
             "#fdca26"
            ],
            [
             1,
             "#f0f921"
            ]
           ],
           "sequentialminus": [
            [
             0,
             "#0d0887"
            ],
            [
             0.1111111111111111,
             "#46039f"
            ],
            [
             0.2222222222222222,
             "#7201a8"
            ],
            [
             0.3333333333333333,
             "#9c179e"
            ],
            [
             0.4444444444444444,
             "#bd3786"
            ],
            [
             0.5555555555555556,
             "#d8576b"
            ],
            [
             0.6666666666666666,
             "#ed7953"
            ],
            [
             0.7777777777777778,
             "#fb9f3a"
            ],
            [
             0.8888888888888888,
             "#fdca26"
            ],
            [
             1,
             "#f0f921"
            ]
           ]
          },
          "colorway": [
           "#636efa",
           "#EF553B",
           "#00cc96",
           "#ab63fa",
           "#FFA15A",
           "#19d3f3",
           "#FF6692",
           "#B6E880",
           "#FF97FF",
           "#FECB52"
          ],
          "font": {
           "color": "#2a3f5f"
          },
          "geo": {
           "bgcolor": "white",
           "lakecolor": "white",
           "landcolor": "#E5ECF6",
           "showlakes": true,
           "showland": true,
           "subunitcolor": "white"
          },
          "hoverlabel": {
           "align": "left"
          },
          "hovermode": "closest",
          "mapbox": {
           "style": "light"
          },
          "paper_bgcolor": "white",
          "plot_bgcolor": "#E5ECF6",
          "polar": {
           "angularaxis": {
            "gridcolor": "white",
            "linecolor": "white",
            "ticks": ""
           },
           "bgcolor": "#E5ECF6",
           "radialaxis": {
            "gridcolor": "white",
            "linecolor": "white",
            "ticks": ""
           }
          },
          "scene": {
           "xaxis": {
            "backgroundcolor": "#E5ECF6",
            "gridcolor": "white",
            "gridwidth": 2,
            "linecolor": "white",
            "showbackground": true,
            "ticks": "",
            "zerolinecolor": "white"
           },
           "yaxis": {
            "backgroundcolor": "#E5ECF6",
            "gridcolor": "white",
            "gridwidth": 2,
            "linecolor": "white",
            "showbackground": true,
            "ticks": "",
            "zerolinecolor": "white"
           },
           "zaxis": {
            "backgroundcolor": "#E5ECF6",
            "gridcolor": "white",
            "gridwidth": 2,
            "linecolor": "white",
            "showbackground": true,
            "ticks": "",
            "zerolinecolor": "white"
           }
          },
          "shapedefaults": {
           "line": {
            "color": "#2a3f5f"
           }
          },
          "ternary": {
           "aaxis": {
            "gridcolor": "white",
            "linecolor": "white",
            "ticks": ""
           },
           "baxis": {
            "gridcolor": "white",
            "linecolor": "white",
            "ticks": ""
           },
           "bgcolor": "#E5ECF6",
           "caxis": {
            "gridcolor": "white",
            "linecolor": "white",
            "ticks": ""
           }
          },
          "title": {
           "x": 0.05
          },
          "xaxis": {
           "automargin": true,
           "gridcolor": "white",
           "linecolor": "white",
           "ticks": "",
           "title": {
            "standoff": 15
           },
           "zerolinecolor": "white",
           "zerolinewidth": 2
          },
          "yaxis": {
           "automargin": true,
           "gridcolor": "white",
           "linecolor": "white",
           "ticks": "",
           "title": {
            "standoff": 15
           },
           "zerolinecolor": "white",
           "zerolinewidth": 2
          }
         }
        },
        "title": {
         "text": "Energy Expenditure as a % of GDP Trend in US from 2000-22"
        },
        "xaxis": {
         "anchor": "y",
         "domain": [
          0,
          1
         ],
         "title": {
          "text": "Year"
         }
        },
        "yaxis": {
         "anchor": "x",
         "domain": [
          0,
          1
         ],
         "title": {
          "text": "Exp_GDP_%"
         }
        }
       }
      },
      "text/html": [
       "<div>                            <div id=\"58703873-f964-46b0-9766-940703aefc32\" class=\"plotly-graph-div\" style=\"height:525px; width:100%;\"></div>            <script type=\"text/javascript\">                require([\"plotly\"], function(Plotly) {                    window.PLOTLYENV=window.PLOTLYENV || {};                                    if (document.getElementById(\"58703873-f964-46b0-9766-940703aefc32\")) {                    Plotly.newPlot(                        \"58703873-f964-46b0-9766-940703aefc32\",                        [{\"hovertemplate\":\"Year=%{x}\\u003cbr\\u003eExp_GDP_%=%{y}\\u003cextra\\u003e\\u003c\\u002fextra\\u003e\",\"legendgroup\":\"\",\"line\":{\"color\":\"#636efa\",\"dash\":\"solid\"},\"marker\":{\"symbol\":\"circle\"},\"mode\":\"lines\",\"name\":\"\",\"orientation\":\"v\",\"showlegend\":false,\"x\":[2000,2001,2002,2003,2004,2005,2006,2007,2008,2009,2010,2011,2012,2013,2014,2015,2016,2017,2018,2019,2020,2021,2022],\"xaxis\":\"x\",\"y\":[6.71,6.58,6.08,6.59,7.13,8.02,8.39,8.52,9.54,7.37,8.07,8.93,8.34,8.15,7.92,6.17,5.52,5.79,6.16,5.69,4.73,5.58,6.68],\"yaxis\":\"y\",\"type\":\"scatter\"}],                        {\"template\":{\"data\":{\"histogram2dcontour\":[{\"type\":\"histogram2dcontour\",\"colorbar\":{\"outlinewidth\":0,\"ticks\":\"\"},\"colorscale\":[[0.0,\"#0d0887\"],[0.1111111111111111,\"#46039f\"],[0.2222222222222222,\"#7201a8\"],[0.3333333333333333,\"#9c179e\"],[0.4444444444444444,\"#bd3786\"],[0.5555555555555556,\"#d8576b\"],[0.6666666666666666,\"#ed7953\"],[0.7777777777777778,\"#fb9f3a\"],[0.8888888888888888,\"#fdca26\"],[1.0,\"#f0f921\"]]}],\"choropleth\":[{\"type\":\"choropleth\",\"colorbar\":{\"outlinewidth\":0,\"ticks\":\"\"}}],\"histogram2d\":[{\"type\":\"histogram2d\",\"colorbar\":{\"outlinewidth\":0,\"ticks\":\"\"},\"colorscale\":[[0.0,\"#0d0887\"],[0.1111111111111111,\"#46039f\"],[0.2222222222222222,\"#7201a8\"],[0.3333333333333333,\"#9c179e\"],[0.4444444444444444,\"#bd3786\"],[0.5555555555555556,\"#d8576b\"],[0.6666666666666666,\"#ed7953\"],[0.7777777777777778,\"#fb9f3a\"],[0.8888888888888888,\"#fdca26\"],[1.0,\"#f0f921\"]]}],\"heatmap\":[{\"type\":\"heatmap\",\"colorbar\":{\"outlinewidth\":0,\"ticks\":\"\"},\"colorscale\":[[0.0,\"#0d0887\"],[0.1111111111111111,\"#46039f\"],[0.2222222222222222,\"#7201a8\"],[0.3333333333333333,\"#9c179e\"],[0.4444444444444444,\"#bd3786\"],[0.5555555555555556,\"#d8576b\"],[0.6666666666666666,\"#ed7953\"],[0.7777777777777778,\"#fb9f3a\"],[0.8888888888888888,\"#fdca26\"],[1.0,\"#f0f921\"]]}],\"heatmapgl\":[{\"type\":\"heatmapgl\",\"colorbar\":{\"outlinewidth\":0,\"ticks\":\"\"},\"colorscale\":[[0.0,\"#0d0887\"],[0.1111111111111111,\"#46039f\"],[0.2222222222222222,\"#7201a8\"],[0.3333333333333333,\"#9c179e\"],[0.4444444444444444,\"#bd3786\"],[0.5555555555555556,\"#d8576b\"],[0.6666666666666666,\"#ed7953\"],[0.7777777777777778,\"#fb9f3a\"],[0.8888888888888888,\"#fdca26\"],[1.0,\"#f0f921\"]]}],\"contourcarpet\":[{\"type\":\"contourcarpet\",\"colorbar\":{\"outlinewidth\":0,\"ticks\":\"\"}}],\"contour\":[{\"type\":\"contour\",\"colorbar\":{\"outlinewidth\":0,\"ticks\":\"\"},\"colorscale\":[[0.0,\"#0d0887\"],[0.1111111111111111,\"#46039f\"],[0.2222222222222222,\"#7201a8\"],[0.3333333333333333,\"#9c179e\"],[0.4444444444444444,\"#bd3786\"],[0.5555555555555556,\"#d8576b\"],[0.6666666666666666,\"#ed7953\"],[0.7777777777777778,\"#fb9f3a\"],[0.8888888888888888,\"#fdca26\"],[1.0,\"#f0f921\"]]}],\"surface\":[{\"type\":\"surface\",\"colorbar\":{\"outlinewidth\":0,\"ticks\":\"\"},\"colorscale\":[[0.0,\"#0d0887\"],[0.1111111111111111,\"#46039f\"],[0.2222222222222222,\"#7201a8\"],[0.3333333333333333,\"#9c179e\"],[0.4444444444444444,\"#bd3786\"],[0.5555555555555556,\"#d8576b\"],[0.6666666666666666,\"#ed7953\"],[0.7777777777777778,\"#fb9f3a\"],[0.8888888888888888,\"#fdca26\"],[1.0,\"#f0f921\"]]}],\"mesh3d\":[{\"type\":\"mesh3d\",\"colorbar\":{\"outlinewidth\":0,\"ticks\":\"\"}}],\"scatter\":[{\"fillpattern\":{\"fillmode\":\"overlay\",\"size\":10,\"solidity\":0.2},\"type\":\"scatter\"}],\"parcoords\":[{\"type\":\"parcoords\",\"line\":{\"colorbar\":{\"outlinewidth\":0,\"ticks\":\"\"}}}],\"scatterpolargl\":[{\"type\":\"scatterpolargl\",\"marker\":{\"colorbar\":{\"outlinewidth\":0,\"ticks\":\"\"}}}],\"bar\":[{\"error_x\":{\"color\":\"#2a3f5f\"},\"error_y\":{\"color\":\"#2a3f5f\"},\"marker\":{\"line\":{\"color\":\"#E5ECF6\",\"width\":0.5},\"pattern\":{\"fillmode\":\"overlay\",\"size\":10,\"solidity\":0.2}},\"type\":\"bar\"}],\"scattergeo\":[{\"type\":\"scattergeo\",\"marker\":{\"colorbar\":{\"outlinewidth\":0,\"ticks\":\"\"}}}],\"scatterpolar\":[{\"type\":\"scatterpolar\",\"marker\":{\"colorbar\":{\"outlinewidth\":0,\"ticks\":\"\"}}}],\"histogram\":[{\"marker\":{\"pattern\":{\"fillmode\":\"overlay\",\"size\":10,\"solidity\":0.2}},\"type\":\"histogram\"}],\"scattergl\":[{\"type\":\"scattergl\",\"marker\":{\"colorbar\":{\"outlinewidth\":0,\"ticks\":\"\"}}}],\"scatter3d\":[{\"type\":\"scatter3d\",\"line\":{\"colorbar\":{\"outlinewidth\":0,\"ticks\":\"\"}},\"marker\":{\"colorbar\":{\"outlinewidth\":0,\"ticks\":\"\"}}}],\"scattermapbox\":[{\"type\":\"scattermapbox\",\"marker\":{\"colorbar\":{\"outlinewidth\":0,\"ticks\":\"\"}}}],\"scatterternary\":[{\"type\":\"scatterternary\",\"marker\":{\"colorbar\":{\"outlinewidth\":0,\"ticks\":\"\"}}}],\"scattercarpet\":[{\"type\":\"scattercarpet\",\"marker\":{\"colorbar\":{\"outlinewidth\":0,\"ticks\":\"\"}}}],\"carpet\":[{\"aaxis\":{\"endlinecolor\":\"#2a3f5f\",\"gridcolor\":\"white\",\"linecolor\":\"white\",\"minorgridcolor\":\"white\",\"startlinecolor\":\"#2a3f5f\"},\"baxis\":{\"endlinecolor\":\"#2a3f5f\",\"gridcolor\":\"white\",\"linecolor\":\"white\",\"minorgridcolor\":\"white\",\"startlinecolor\":\"#2a3f5f\"},\"type\":\"carpet\"}],\"table\":[{\"cells\":{\"fill\":{\"color\":\"#EBF0F8\"},\"line\":{\"color\":\"white\"}},\"header\":{\"fill\":{\"color\":\"#C8D4E3\"},\"line\":{\"color\":\"white\"}},\"type\":\"table\"}],\"barpolar\":[{\"marker\":{\"line\":{\"color\":\"#E5ECF6\",\"width\":0.5},\"pattern\":{\"fillmode\":\"overlay\",\"size\":10,\"solidity\":0.2}},\"type\":\"barpolar\"}],\"pie\":[{\"automargin\":true,\"type\":\"pie\"}]},\"layout\":{\"autotypenumbers\":\"strict\",\"colorway\":[\"#636efa\",\"#EF553B\",\"#00cc96\",\"#ab63fa\",\"#FFA15A\",\"#19d3f3\",\"#FF6692\",\"#B6E880\",\"#FF97FF\",\"#FECB52\"],\"font\":{\"color\":\"#2a3f5f\"},\"hovermode\":\"closest\",\"hoverlabel\":{\"align\":\"left\"},\"paper_bgcolor\":\"white\",\"plot_bgcolor\":\"#E5ECF6\",\"polar\":{\"bgcolor\":\"#E5ECF6\",\"angularaxis\":{\"gridcolor\":\"white\",\"linecolor\":\"white\",\"ticks\":\"\"},\"radialaxis\":{\"gridcolor\":\"white\",\"linecolor\":\"white\",\"ticks\":\"\"}},\"ternary\":{\"bgcolor\":\"#E5ECF6\",\"aaxis\":{\"gridcolor\":\"white\",\"linecolor\":\"white\",\"ticks\":\"\"},\"baxis\":{\"gridcolor\":\"white\",\"linecolor\":\"white\",\"ticks\":\"\"},\"caxis\":{\"gridcolor\":\"white\",\"linecolor\":\"white\",\"ticks\":\"\"}},\"coloraxis\":{\"colorbar\":{\"outlinewidth\":0,\"ticks\":\"\"}},\"colorscale\":{\"sequential\":[[0.0,\"#0d0887\"],[0.1111111111111111,\"#46039f\"],[0.2222222222222222,\"#7201a8\"],[0.3333333333333333,\"#9c179e\"],[0.4444444444444444,\"#bd3786\"],[0.5555555555555556,\"#d8576b\"],[0.6666666666666666,\"#ed7953\"],[0.7777777777777778,\"#fb9f3a\"],[0.8888888888888888,\"#fdca26\"],[1.0,\"#f0f921\"]],\"sequentialminus\":[[0.0,\"#0d0887\"],[0.1111111111111111,\"#46039f\"],[0.2222222222222222,\"#7201a8\"],[0.3333333333333333,\"#9c179e\"],[0.4444444444444444,\"#bd3786\"],[0.5555555555555556,\"#d8576b\"],[0.6666666666666666,\"#ed7953\"],[0.7777777777777778,\"#fb9f3a\"],[0.8888888888888888,\"#fdca26\"],[1.0,\"#f0f921\"]],\"diverging\":[[0,\"#8e0152\"],[0.1,\"#c51b7d\"],[0.2,\"#de77ae\"],[0.3,\"#f1b6da\"],[0.4,\"#fde0ef\"],[0.5,\"#f7f7f7\"],[0.6,\"#e6f5d0\"],[0.7,\"#b8e186\"],[0.8,\"#7fbc41\"],[0.9,\"#4d9221\"],[1,\"#276419\"]]},\"xaxis\":{\"gridcolor\":\"white\",\"linecolor\":\"white\",\"ticks\":\"\",\"title\":{\"standoff\":15},\"zerolinecolor\":\"white\",\"automargin\":true,\"zerolinewidth\":2},\"yaxis\":{\"gridcolor\":\"white\",\"linecolor\":\"white\",\"ticks\":\"\",\"title\":{\"standoff\":15},\"zerolinecolor\":\"white\",\"automargin\":true,\"zerolinewidth\":2},\"scene\":{\"xaxis\":{\"backgroundcolor\":\"#E5ECF6\",\"gridcolor\":\"white\",\"linecolor\":\"white\",\"showbackground\":true,\"ticks\":\"\",\"zerolinecolor\":\"white\",\"gridwidth\":2},\"yaxis\":{\"backgroundcolor\":\"#E5ECF6\",\"gridcolor\":\"white\",\"linecolor\":\"white\",\"showbackground\":true,\"ticks\":\"\",\"zerolinecolor\":\"white\",\"gridwidth\":2},\"zaxis\":{\"backgroundcolor\":\"#E5ECF6\",\"gridcolor\":\"white\",\"linecolor\":\"white\",\"showbackground\":true,\"ticks\":\"\",\"zerolinecolor\":\"white\",\"gridwidth\":2}},\"shapedefaults\":{\"line\":{\"color\":\"#2a3f5f\"}},\"annotationdefaults\":{\"arrowcolor\":\"#2a3f5f\",\"arrowhead\":0,\"arrowwidth\":1},\"geo\":{\"bgcolor\":\"white\",\"landcolor\":\"#E5ECF6\",\"subunitcolor\":\"white\",\"showland\":true,\"showlakes\":true,\"lakecolor\":\"white\"},\"title\":{\"x\":0.05},\"mapbox\":{\"style\":\"light\"}}},\"xaxis\":{\"anchor\":\"y\",\"domain\":[0.0,1.0],\"title\":{\"text\":\"Year\"}},\"yaxis\":{\"anchor\":\"x\",\"domain\":[0.0,1.0],\"title\":{\"text\":\"Exp_GDP_%\"}},\"legend\":{\"tracegroupgap\":0},\"title\":{\"text\":\"Energy Expenditure as a % of GDP Trend in US from 2000-22\"}},                        {\"responsive\": true}                    ).then(function(){\n",
       "                            \n",
       "var gd = document.getElementById('58703873-f964-46b0-9766-940703aefc32');\n",
       "var x = new MutationObserver(function (mutations, observer) {{\n",
       "        var display = window.getComputedStyle(gd).display;\n",
       "        if (!display || display === 'none') {{\n",
       "            console.log([gd, 'removed!']);\n",
       "            Plotly.purge(gd);\n",
       "            observer.disconnect();\n",
       "        }}\n",
       "}});\n",
       "\n",
       "// Listen for the removal of the full notebook cells\n",
       "var notebookContainer = gd.closest('#notebook-container');\n",
       "if (notebookContainer) {{\n",
       "    x.observe(notebookContainer, {childList: true});\n",
       "}}\n",
       "\n",
       "// Listen for the clearing of the current output cell\n",
       "var outputEl = gd.closest('.output');\n",
       "if (outputEl) {{\n",
       "    x.observe(outputEl, {childList: true});\n",
       "}}\n",
       "\n",
       "                        })                };                });            </script>        </div>"
      ]
     },
     "metadata": {},
     "output_type": "display_data"
    }
   ],
   "source": [
    "usa_data = merged_exp_data[merged_exp_data['State'] == 'US']\n",
    "\n",
    "fig_usa = px.line(usa_data, x='Year', y='Exp_GDP_%', title='Energy Expenditure as a % of GDP Trend in US from 2000-22')\n",
    "fig_usa.show()\n"
   ]
  },
  {
   "cell_type": "markdown",
   "id": "9d78659d-9cb3-413f-90eb-1b9f096369de",
   "metadata": {},
   "source": [
    "The share of US GDP allocated to energy expenditure has been decreasing since 2011. This trend may be attributed to factors such as increased energy efficiency and a shift towards natural gas. However, a recent upward trend is evident from 2020, which is surprising given the growing adoption of renewable energy technologies and their increasing cost effectiveness."
   ]
  },
  {
   "cell_type": "code",
   "execution_count": 22,
   "id": "e95bf380-4749-41e6-b5da-07f57d926a9d",
   "metadata": {},
   "outputs": [
    {
     "data": {
      "application/vnd.plotly.v1+json": {
       "config": {
        "plotlyServerURL": "https://plot.ly"
       },
       "data": [
        {
         "hovertemplate": "State=AK<br>Year=%{x}<br>Exp_GDP_%=%{y}<extra></extra>",
         "legendgroup": "AK",
         "line": {
          "color": "#636efa",
          "dash": "solid"
         },
         "marker": {
          "symbol": "circle"
         },
         "mode": "lines",
         "name": "AK",
         "showlegend": true,
         "type": "scattergl",
         "x": [
          2000,
          2001,
          2002,
          2003,
          2004,
          2005,
          2006,
          2007,
          2008,
          2009,
          2010,
          2011,
          2012,
          2013,
          2014,
          2015,
          2016,
          2017,
          2018,
          2019,
          2020,
          2021,
          2022
         ],
         "xaxis": "x",
         "y": [
          10.55,
          9.72,
          8.45,
          8.77,
          11.72,
          12.89,
          13.61,
          12.68,
          13.66,
          10.94,
          11.78,
          13.76,
          12.99,
          12.09,
          12.15,
          10.77,
          8.92,
          9.33,
          10.58,
          10.37,
          9.12,
          11.15,
          14.57
         ],
         "yaxis": "y"
        },
        {
         "hovertemplate": "State=AL<br>Year=%{x}<br>Exp_GDP_%=%{y}<extra></extra>",
         "legendgroup": "AL",
         "line": {
          "color": "#EF553B",
          "dash": "solid"
         },
         "marker": {
          "symbol": "circle"
         },
         "mode": "lines",
         "name": "AL",
         "showlegend": true,
         "type": "scattergl",
         "x": [
          2000,
          2001,
          2002,
          2003,
          2004,
          2005,
          2006,
          2007,
          2008,
          2009,
          2010,
          2011,
          2012,
          2013,
          2014,
          2015,
          2016,
          2017,
          2018,
          2019,
          2020,
          2021,
          2022
         ],
         "xaxis": "x",
         "y": [
          9.99,
          9.47,
          9.09,
          9.38,
          10.18,
          11.4,
          12.14,
          12.37,
          13.98,
          10.82,
          12.18,
          13.37,
          12.81,
          12.36,
          12.22,
          9.84,
          9.21,
          9.43,
          9.7,
          9.08,
          7.9,
          9.41,
          11.01
         ],
         "yaxis": "y"
        },
        {
         "hovertemplate": "State=AR<br>Year=%{x}<br>Exp_GDP_%=%{y}<extra></extra>",
         "legendgroup": "AR",
         "line": {
          "color": "#00cc96",
          "dash": "solid"
         },
         "marker": {
          "symbol": "circle"
         },
         "mode": "lines",
         "name": "AR",
         "showlegend": true,
         "type": "scattergl",
         "x": [
          2000,
          2001,
          2002,
          2003,
          2004,
          2005,
          2006,
          2007,
          2008,
          2009,
          2010,
          2011,
          2012,
          2013,
          2014,
          2015,
          2016,
          2017,
          2018,
          2019,
          2020,
          2021,
          2022
         ],
         "xaxis": "x",
         "y": [
          10.39,
          10.3,
          9.37,
          9.54,
          9.88,
          11.43,
          11.92,
          12.41,
          14.36,
          10.81,
          12.1,
          13.43,
          12.61,
          12.28,
          11.85,
          9.42,
          8.51,
          9.11,
          9.63,
          9.09,
          7.63,
          8.93,
          10.48
         ],
         "yaxis": "y"
        },
        {
         "hovertemplate": "State=AZ<br>Year=%{x}<br>Exp_GDP_%=%{y}<extra></extra>",
         "legendgroup": "AZ",
         "line": {
          "color": "#ab63fa",
          "dash": "solid"
         },
         "marker": {
          "symbol": "circle"
         },
         "mode": "lines",
         "name": "AZ",
         "showlegend": true,
         "type": "scattergl",
         "x": [
          2000,
          2001,
          2002,
          2003,
          2004,
          2005,
          2006,
          2007,
          2008,
          2009,
          2010,
          2011,
          2012,
          2013,
          2014,
          2015,
          2016,
          2017,
          2018,
          2019,
          2020,
          2021,
          2022
         ],
         "xaxis": "x",
         "y": [
          6.41,
          6.17,
          5.78,
          6.14,
          6.68,
          7.31,
          7.67,
          7.71,
          8.58,
          7.13,
          8.11,
          9.04,
          8.77,
          8.58,
          8.24,
          6.94,
          6.24,
          6.37,
          6.7,
          6.28,
          5.27,
          5.9,
          6.93
         ],
         "yaxis": "y"
        },
        {
         "hovertemplate": "State=CA<br>Year=%{x}<br>Exp_GDP_%=%{y}<extra></extra>",
         "legendgroup": "CA",
         "line": {
          "color": "#FFA15A",
          "dash": "solid"
         },
         "marker": {
          "symbol": "circle"
         },
         "mode": "lines",
         "name": "CA",
         "showlegend": true,
         "type": "scattergl",
         "x": [
          2000,
          2001,
          2002,
          2003,
          2004,
          2005,
          2006,
          2007,
          2008,
          2009,
          2010,
          2011,
          2012,
          2013,
          2014,
          2015,
          2016,
          2017,
          2018,
          2019,
          2020,
          2021,
          2022
         ],
         "xaxis": "x",
         "y": [
          5.04,
          5.32,
          4.91,
          5.22,
          5.67,
          6.1,
          6.39,
          6.37,
          6.91,
          5.56,
          6,
          6.62,
          6.38,
          6.11,
          5.81,
          4.83,
          4.3,
          4.5,
          4.74,
          4.55,
          3.74,
          4.42,
          5.49
         ],
         "yaxis": "y"
        },
        {
         "hovertemplate": "State=CO<br>Year=%{x}<br>Exp_GDP_%=%{y}<extra></extra>",
         "legendgroup": "CO",
         "line": {
          "color": "#19d3f3",
          "dash": "solid"
         },
         "marker": {
          "symbol": "circle"
         },
         "mode": "lines",
         "name": "CO",
         "showlegend": true,
         "type": "scattergl",
         "x": [
          2000,
          2001,
          2002,
          2003,
          2004,
          2005,
          2006,
          2007,
          2008,
          2009,
          2010,
          2011,
          2012,
          2013,
          2014,
          2015,
          2016,
          2017,
          2018,
          2019,
          2020,
          2021,
          2022
         ],
         "xaxis": "x",
         "y": [
          4.83,
          5.36,
          4.63,
          5.08,
          5.8,
          6.64,
          7,
          6.85,
          7.59,
          5.87,
          6.65,
          7.31,
          7.07,
          6.83,
          6.61,
          5.11,
          4.57,
          4.73,
          5,
          4.71,
          3.88,
          4.61,
          5.77
         ],
         "yaxis": "y"
        },
        {
         "hovertemplate": "State=CT<br>Year=%{x}<br>Exp_GDP_%=%{y}<extra></extra>",
         "legendgroup": "CT",
         "line": {
          "color": "#FF6692",
          "dash": "solid"
         },
         "marker": {
          "symbol": "circle"
         },
         "mode": "lines",
         "name": "CT",
         "showlegend": true,
         "type": "scattergl",
         "x": [
          2000,
          2001,
          2002,
          2003,
          2004,
          2005,
          2006,
          2007,
          2008,
          2009,
          2010,
          2011,
          2012,
          2013,
          2014,
          2015,
          2016,
          2017,
          2018,
          2019,
          2020,
          2021,
          2022
         ],
         "xaxis": "x",
         "y": [
          4.83,
          4.65,
          4.38,
          5.19,
          5.44,
          6.08,
          6.24,
          6.51,
          6.87,
          5.77,
          6.12,
          6.7,
          6.33,
          6.37,
          6.31,
          5.04,
          4.44,
          4.59,
          5.07,
          4.76,
          4.18,
          4.63,
          5.68
         ],
         "yaxis": "y"
        },
        {
         "hovertemplate": "State=DC<br>Year=%{x}<br>Exp_GDP_%=%{y}<extra></extra>",
         "legendgroup": "DC",
         "line": {
          "color": "#B6E880",
          "dash": "solid"
         },
         "marker": {
          "symbol": "circle"
         },
         "mode": "lines",
         "name": "DC",
         "showlegend": true,
         "type": "scattergl",
         "x": [
          2000,
          2001,
          2002,
          2003,
          2004,
          2005,
          2006,
          2007,
          2008,
          2009,
          2010,
          2011,
          2012,
          2013,
          2014,
          2015,
          2016,
          2017,
          2018,
          2019,
          2020,
          2021,
          2022
         ],
         "xaxis": "x",
         "y": [
          2.46,
          2.31,
          2.12,
          2.13,
          2.13,
          2.36,
          2.45,
          2.52,
          2.51,
          2.33,
          2.34,
          2.22,
          1.96,
          1.93,
          1.94,
          1.72,
          1.53,
          1.47,
          1.52,
          1.46,
          1.2,
          1.35,
          1.56
         ],
         "yaxis": "y"
        },
        {
         "hovertemplate": "State=DE<br>Year=%{x}<br>Exp_GDP_%=%{y}<extra></extra>",
         "legendgroup": "DE",
         "line": {
          "color": "#FF97FF",
          "dash": "solid"
         },
         "marker": {
          "symbol": "circle"
         },
         "mode": "lines",
         "name": "DE",
         "showlegend": true,
         "type": "scattergl",
         "x": [
          2000,
          2001,
          2002,
          2003,
          2004,
          2005,
          2006,
          2007,
          2008,
          2009,
          2010,
          2011,
          2012,
          2013,
          2014,
          2015,
          2016,
          2017,
          2018,
          2019,
          2020,
          2021,
          2022
         ],
         "xaxis": "x",
         "y": [
          4.44,
          4.22,
          4.39,
          4.6,
          4.72,
          5.64,
          6.16,
          6.43,
          7.47,
          6.17,
          6.61,
          6.97,
          6.82,
          6.41,
          5.82,
          4.82,
          4.55,
          4.97,
          5.32,
          4.82,
          4.01,
          4.64,
          5.34
         ],
         "yaxis": "y"
        },
        {
         "hovertemplate": "State=FL<br>Year=%{x}<br>Exp_GDP_%=%{y}<extra></extra>",
         "legendgroup": "FL",
         "line": {
          "color": "#FECB52",
          "dash": "solid"
         },
         "marker": {
          "symbol": "circle"
         },
         "mode": "lines",
         "name": "FL",
         "showlegend": true,
         "type": "scattergl",
         "x": [
          2000,
          2001,
          2002,
          2003,
          2004,
          2005,
          2006,
          2007,
          2008,
          2009,
          2010,
          2011,
          2012,
          2013,
          2014,
          2015,
          2016,
          2017,
          2018,
          2019,
          2020,
          2021,
          2022
         ],
         "xaxis": "x",
         "y": [
          6.17,
          6.06,
          5.59,
          5.91,
          6.36,
          7.09,
          7.84,
          7.74,
          8.79,
          7.37,
          8.07,
          9.02,
          8.66,
          8.29,
          7.97,
          6.28,
          5.54,
          5.8,
          6.06,
          5.56,
          4.52,
          5.16,
          6.2
         ],
         "yaxis": "y"
        },
        {
         "hovertemplate": "State=GA<br>Year=%{x}<br>Exp_GDP_%=%{y}<extra></extra>",
         "legendgroup": "GA",
         "line": {
          "color": "#636efa",
          "dash": "solid"
         },
         "marker": {
          "symbol": "circle"
         },
         "mode": "lines",
         "name": "GA",
         "showlegend": true,
         "type": "scattergl",
         "x": [
          2000,
          2001,
          2002,
          2003,
          2004,
          2005,
          2006,
          2007,
          2008,
          2009,
          2010,
          2011,
          2012,
          2013,
          2014,
          2015,
          2016,
          2017,
          2018,
          2019,
          2020,
          2021,
          2022
         ],
         "xaxis": "x",
         "y": [
          6.44,
          6.13,
          5.9,
          6.31,
          7,
          8.33,
          8.45,
          8.46,
          9.73,
          7.84,
          9.09,
          10.06,
          9.27,
          9.13,
          8.63,
          6.65,
          5.83,
          6.09,
          6.15,
          5.66,
          4.87,
          5.5,
          6.64
         ],
         "yaxis": "y"
        },
        {
         "hovertemplate": "State=HI<br>Year=%{x}<br>Exp_GDP_%=%{y}<extra></extra>",
         "legendgroup": "HI",
         "line": {
          "color": "#EF553B",
          "dash": "solid"
         },
         "marker": {
          "symbol": "circle"
         },
         "mode": "lines",
         "name": "HI",
         "showlegend": true,
         "type": "scattergl",
         "x": [
          2000,
          2001,
          2002,
          2003,
          2004,
          2005,
          2006,
          2007,
          2008,
          2009,
          2010,
          2011,
          2012,
          2013,
          2014,
          2015,
          2016,
          2017,
          2018,
          2019,
          2020,
          2021,
          2022
         ],
         "xaxis": "x",
         "y": [
          6.58,
          6.54,
          5.98,
          6.89,
          7.65,
          8.73,
          9.42,
          9.64,
          10.42,
          7.45,
          9.29,
          11.73,
          11.57,
          11.01,
          10.09,
          7.26,
          6.19,
          6.69,
          7.52,
          7.21,
          5.55,
          6.82,
          9.19
         ],
         "yaxis": "y"
        },
        {
         "hovertemplate": "State=IA<br>Year=%{x}<br>Exp_GDP_%=%{y}<extra></extra>",
         "legendgroup": "IA",
         "line": {
          "color": "#00cc96",
          "dash": "solid"
         },
         "marker": {
          "symbol": "circle"
         },
         "mode": "lines",
         "name": "IA",
         "showlegend": true,
         "type": "scattergl",
         "x": [
          2000,
          2001,
          2002,
          2003,
          2004,
          2005,
          2006,
          2007,
          2008,
          2009,
          2010,
          2011,
          2012,
          2013,
          2014,
          2015,
          2016,
          2017,
          2018,
          2019,
          2020,
          2021,
          2022
         ],
         "xaxis": "x",
         "y": [
          8.79,
          8.62,
          7.84,
          8.08,
          8.54,
          9.98,
          10.61,
          10.66,
          12.52,
          9.77,
          10.34,
          11.4,
          10.1,
          10.34,
          10.05,
          7.39,
          6.9,
          7.46,
          8.13,
          7.65,
          6.44,
          7.58,
          9.3
         ],
         "yaxis": "y"
        },
        {
         "hovertemplate": "State=ID<br>Year=%{x}<br>Exp_GDP_%=%{y}<extra></extra>",
         "legendgroup": "ID",
         "line": {
          "color": "#ab63fa",
          "dash": "solid"
         },
         "marker": {
          "symbol": "circle"
         },
         "mode": "lines",
         "name": "ID",
         "showlegend": true,
         "type": "scattergl",
         "x": [
          2000,
          2001,
          2002,
          2003,
          2004,
          2005,
          2006,
          2007,
          2008,
          2009,
          2010,
          2011,
          2012,
          2013,
          2014,
          2015,
          2016,
          2017,
          2018,
          2019,
          2020,
          2021,
          2022
         ],
         "xaxis": "x",
         "y": [
          8.18,
          8.43,
          8.24,
          7.82,
          8.36,
          9.28,
          9.93,
          10.12,
          10.85,
          9.03,
          10.3,
          11.69,
          11.73,
          11.45,
          11.08,
          9.28,
          8.26,
          8.69,
          8.79,
          7.99,
          6.74,
          7.77,
          8.85
         ],
         "yaxis": "y"
        },
        {
         "hovertemplate": "State=IL<br>Year=%{x}<br>Exp_GDP_%=%{y}<extra></extra>",
         "legendgroup": "IL",
         "line": {
          "color": "#FFA15A",
          "dash": "solid"
         },
         "marker": {
          "symbol": "circle"
         },
         "mode": "lines",
         "name": "IL",
         "showlegend": true,
         "type": "scattergl",
         "x": [
          2000,
          2001,
          2002,
          2003,
          2004,
          2005,
          2006,
          2007,
          2008,
          2009,
          2010,
          2011,
          2012,
          2013,
          2014,
          2015,
          2016,
          2017,
          2018,
          2019,
          2020,
          2021,
          2022
         ],
         "xaxis": "x",
         "y": [
          5.94,
          5.83,
          5.25,
          5.71,
          6,
          7.03,
          6.83,
          7.3,
          8.43,
          6.3,
          6.81,
          7.35,
          6.57,
          6.56,
          6.69,
          5.07,
          4.62,
          4.9,
          5.18,
          4.75,
          3.97,
          4.79,
          5.92
         ],
         "yaxis": "y"
        },
        {
         "hovertemplate": "State=IN<br>Year=%{x}<br>Exp_GDP_%=%{y}<extra></extra>",
         "legendgroup": "IN",
         "line": {
          "color": "#19d3f3",
          "dash": "solid"
         },
         "marker": {
          "symbol": "circle"
         },
         "mode": "lines",
         "name": "IN",
         "showlegend": true,
         "type": "scattergl",
         "x": [
          2000,
          2001,
          2002,
          2003,
          2004,
          2005,
          2006,
          2007,
          2008,
          2009,
          2010,
          2011,
          2012,
          2013,
          2014,
          2015,
          2016,
          2017,
          2018,
          2019,
          2020,
          2021,
          2022
         ],
         "xaxis": "x",
         "y": [
          8.16,
          8.27,
          7.69,
          8.41,
          8.66,
          10.13,
          10.45,
          10.35,
          11.69,
          9.29,
          9.61,
          11,
          10.61,
          10.58,
          10.31,
          8.25,
          7.27,
          7.49,
          7.83,
          7.48,
          6.43,
          7.35,
          8.43
         ],
         "yaxis": "y"
        },
        {
         "hovertemplate": "State=KS<br>Year=%{x}<br>Exp_GDP_%=%{y}<extra></extra>",
         "legendgroup": "KS",
         "line": {
          "color": "#FF6692",
          "dash": "solid"
         },
         "marker": {
          "symbol": "circle"
         },
         "mode": "lines",
         "name": "KS",
         "showlegend": true,
         "type": "scattergl",
         "x": [
          2000,
          2001,
          2002,
          2003,
          2004,
          2005,
          2006,
          2007,
          2008,
          2009,
          2010,
          2011,
          2012,
          2013,
          2014,
          2015,
          2016,
          2017,
          2018,
          2019,
          2020,
          2021,
          2022
         ],
         "xaxis": "x",
         "y": [
          8.44,
          7.93,
          7.21,
          8.36,
          8.89,
          8.83,
          9.23,
          10.18,
          10.42,
          8.18,
          8.99,
          9.66,
          9.24,
          9.51,
          9.65,
          7.22,
          6.49,
          6.73,
          7.26,
          6.79,
          5.78,
          6.61,
          8.24
         ],
         "yaxis": "y"
        },
        {
         "hovertemplate": "State=KY<br>Year=%{x}<br>Exp_GDP_%=%{y}<extra></extra>",
         "legendgroup": "KY",
         "line": {
          "color": "#B6E880",
          "dash": "solid"
         },
         "marker": {
          "symbol": "circle"
         },
         "mode": "lines",
         "name": "KY",
         "showlegend": true,
         "type": "scattergl",
         "x": [
          2000,
          2001,
          2002,
          2003,
          2004,
          2005,
          2006,
          2007,
          2008,
          2009,
          2010,
          2011,
          2012,
          2013,
          2014,
          2015,
          2016,
          2017,
          2018,
          2019,
          2020,
          2021,
          2022
         ],
         "xaxis": "x",
         "y": [
          9,
          8.92,
          8.49,
          8.79,
          9.97,
          11.48,
          11.85,
          12.57,
          14.13,
          11.12,
          12.25,
          13.94,
          12.89,
          12.29,
          11.8,
          8.98,
          8.17,
          8.52,
          9.36,
          8.53,
          7.04,
          8.57,
          10.56
         ],
         "yaxis": "y"
        },
        {
         "hovertemplate": "State=LA<br>Year=%{x}<br>Exp_GDP_%=%{y}<extra></extra>",
         "legendgroup": "LA",
         "line": {
          "color": "#FF97FF",
          "dash": "solid"
         },
         "marker": {
          "symbol": "circle"
         },
         "mode": "lines",
         "name": "LA",
         "showlegend": true,
         "type": "scattergl",
         "x": [
          2000,
          2001,
          2002,
          2003,
          2004,
          2005,
          2006,
          2007,
          2008,
          2009,
          2010,
          2011,
          2012,
          2013,
          2014,
          2015,
          2016,
          2017,
          2018,
          2019,
          2020,
          2021,
          2022
         ],
         "xaxis": "x",
         "y": [
          17.49,
          14.99,
          13.83,
          14.79,
          16.81,
          17.79,
          19.59,
          21.5,
          27.07,
          16.84,
          17.94,
          20.66,
          16.82,
          16.95,
          16.36,
          11.83,
          11,
          12.37,
          12.76,
          11.63,
          10.3,
          13.79,
          15.37
         ],
         "yaxis": "y"
        },
        {
         "hovertemplate": "State=MA<br>Year=%{x}<br>Exp_GDP_%=%{y}<extra></extra>",
         "legendgroup": "MA",
         "line": {
          "color": "#FECB52",
          "dash": "solid"
         },
         "marker": {
          "symbol": "circle"
         },
         "mode": "lines",
         "name": "MA",
         "showlegend": true,
         "type": "scattergl",
         "x": [
          2000,
          2001,
          2002,
          2003,
          2004,
          2005,
          2006,
          2007,
          2008,
          2009,
          2010,
          2011,
          2012,
          2013,
          2014,
          2015,
          2016,
          2017,
          2018,
          2019,
          2020,
          2021,
          2022
         ],
         "xaxis": "x",
         "y": [
          5.02,
          5.36,
          4.73,
          5.23,
          5.48,
          6.33,
          6.78,
          6.82,
          7.53,
          5.84,
          6.05,
          6.56,
          6.07,
          6.2,
          5.99,
          4.84,
          4.19,
          4.41,
          4.85,
          4.39,
          3.55,
          3.94,
          4.89
         ],
         "yaxis": "y"
        },
        {
         "hovertemplate": "State=MD<br>Year=%{x}<br>Exp_GDP_%=%{y}<extra></extra>",
         "legendgroup": "MD",
         "line": {
          "color": "#636efa",
          "dash": "solid"
         },
         "marker": {
          "symbol": "circle"
         },
         "mode": "lines",
         "name": "MD",
         "showlegend": true,
         "type": "scattergl",
         "x": [
          2000,
          2001,
          2002,
          2003,
          2004,
          2005,
          2006,
          2007,
          2008,
          2009,
          2010,
          2011,
          2012,
          2013,
          2014,
          2015,
          2016,
          2017,
          2018,
          2019,
          2020,
          2021,
          2022
         ],
         "xaxis": "x",
         "y": [
          5.88,
          5.47,
          4.97,
          5.49,
          5.8,
          6.66,
          7.09,
          7.54,
          8.25,
          6.75,
          6.92,
          7.25,
          6.92,
          6.86,
          6.68,
          5.36,
          4.63,
          4.75,
          4.97,
          4.65,
          3.86,
          4.43,
          5.16
         ],
         "yaxis": "y"
        },
        {
         "hovertemplate": "State=ME<br>Year=%{x}<br>Exp_GDP_%=%{y}<extra></extra>",
         "legendgroup": "ME",
         "line": {
          "color": "#EF553B",
          "dash": "solid"
         },
         "marker": {
          "symbol": "circle"
         },
         "mode": "lines",
         "name": "ME",
         "showlegend": true,
         "type": "scattergl",
         "x": [
          2000,
          2001,
          2002,
          2003,
          2004,
          2005,
          2006,
          2007,
          2008,
          2009,
          2010,
          2011,
          2012,
          2013,
          2014,
          2015,
          2016,
          2017,
          2018,
          2019,
          2020,
          2021,
          2022
         ],
         "xaxis": "x",
         "y": [
          10.04,
          9.18,
          8.96,
          9.64,
          10.29,
          11.95,
          12.71,
          13.85,
          14.9,
          11.2,
          11.91,
          13.93,
          13.12,
          13.53,
          13.39,
          10.28,
          8.63,
          8.89,
          9.29,
          8.48,
          6.77,
          7.64,
          9.73
         ],
         "yaxis": "y"
        },
        {
         "hovertemplate": "State=MI<br>Year=%{x}<br>Exp_GDP_%=%{y}<extra></extra>",
         "legendgroup": "MI",
         "line": {
          "color": "#00cc96",
          "dash": "solid"
         },
         "marker": {
          "symbol": "circle"
         },
         "mode": "lines",
         "name": "MI",
         "showlegend": true,
         "type": "scattergl",
         "x": [
          2000,
          2001,
          2002,
          2003,
          2004,
          2005,
          2006,
          2007,
          2008,
          2009,
          2010,
          2011,
          2012,
          2013,
          2014,
          2015,
          2016,
          2017,
          2018,
          2019,
          2020,
          2021,
          2022
         ],
         "xaxis": "x",
         "y": [
          6.31,
          6.24,
          6.09,
          6.41,
          6.89,
          7.98,
          8.56,
          8.79,
          9.96,
          8.42,
          8.85,
          9.77,
          9.23,
          9.27,
          8.97,
          6.89,
          6.26,
          6.48,
          6.91,
          6.48,
          5.49,
          6.37,
          7.39
         ],
         "yaxis": "y"
        },
        {
         "hovertemplate": "State=MN<br>Year=%{x}<br>Exp_GDP_%=%{y}<extra></extra>",
         "legendgroup": "MN",
         "line": {
          "color": "#ab63fa",
          "dash": "solid"
         },
         "marker": {
          "symbol": "circle"
         },
         "mode": "lines",
         "name": "MN",
         "showlegend": true,
         "type": "scattergl",
         "x": [
          2000,
          2001,
          2002,
          2003,
          2004,
          2005,
          2006,
          2007,
          2008,
          2009,
          2010,
          2011,
          2012,
          2013,
          2014,
          2015,
          2016,
          2017,
          2018,
          2019,
          2020,
          2021,
          2022
         ],
         "xaxis": "x",
         "y": [
          6.35,
          6.31,
          5.71,
          6.17,
          6.54,
          7.46,
          7.86,
          8.33,
          9.17,
          7.02,
          7.61,
          8.44,
          8.04,
          8.07,
          7.92,
          5.87,
          5.39,
          5.79,
          6.12,
          5.73,
          4.66,
          5.49,
          6.69
         ],
         "yaxis": "y"
        },
        {
         "hovertemplate": "State=MO<br>Year=%{x}<br>Exp_GDP_%=%{y}<extra></extra>",
         "legendgroup": "MO",
         "line": {
          "color": "#FFA15A",
          "dash": "solid"
         },
         "marker": {
          "symbol": "circle"
         },
         "mode": "lines",
         "name": "MO",
         "showlegend": true,
         "type": "scattergl",
         "x": [
          2000,
          2001,
          2002,
          2003,
          2004,
          2005,
          2006,
          2007,
          2008,
          2009,
          2010,
          2011,
          2012,
          2013,
          2014,
          2015,
          2016,
          2017,
          2018,
          2019,
          2020,
          2021,
          2022
         ],
         "xaxis": "x",
         "y": [
          7.07,
          7.25,
          6.6,
          7.01,
          7.48,
          8.65,
          9.08,
          9.52,
          10.04,
          7.88,
          8.79,
          10.07,
          9.46,
          9.38,
          9.2,
          7.24,
          6.56,
          6.86,
          7.42,
          6.73,
          5.64,
          6.51,
          7.71
         ],
         "yaxis": "y"
        },
        {
         "hovertemplate": "State=MS<br>Year=%{x}<br>Exp_GDP_%=%{y}<extra></extra>",
         "legendgroup": "MS",
         "line": {
          "color": "#19d3f3",
          "dash": "solid"
         },
         "marker": {
          "symbol": "circle"
         },
         "mode": "lines",
         "name": "MS",
         "showlegend": true,
         "type": "scattergl",
         "x": [
          2000,
          2001,
          2002,
          2003,
          2004,
          2005,
          2006,
          2007,
          2008,
          2009,
          2010,
          2011,
          2012,
          2013,
          2014,
          2015,
          2016,
          2017,
          2018,
          2019,
          2020,
          2021,
          2022
         ],
         "xaxis": "x",
         "y": [
          11.5,
          11.17,
          10.41,
          11.14,
          12.07,
          13.73,
          14.87,
          14.57,
          16.28,
          12.51,
          13.61,
          15.03,
          14.4,
          14.17,
          14.19,
          11.36,
          10.15,
          10.77,
          11.58,
          10.85,
          9.11,
          10.59,
          12.57
         ],
         "yaxis": "y"
        },
        {
         "hovertemplate": "State=MT<br>Year=%{x}<br>Exp_GDP_%=%{y}<extra></extra>",
         "legendgroup": "MT",
         "line": {
          "color": "#FF6692",
          "dash": "solid"
         },
         "marker": {
          "symbol": "circle"
         },
         "mode": "lines",
         "name": "MT",
         "showlegend": true,
         "type": "scattergl",
         "x": [
          2000,
          2001,
          2002,
          2003,
          2004,
          2005,
          2006,
          2007,
          2008,
          2009,
          2010,
          2011,
          2012,
          2013,
          2014,
          2015,
          2016,
          2017,
          2018,
          2019,
          2020,
          2021,
          2022
         ],
         "xaxis": "x",
         "y": [
          11.7,
          10.84,
          9.55,
          10.01,
          11.28,
          13.1,
          14.16,
          14.6,
          16.34,
          12.5,
          12.52,
          14.16,
          13.34,
          12.9,
          12.33,
          9.42,
          8.78,
          9.48,
          9.95,
          9.51,
          8.28,
          9.31,
          10.68
         ],
         "yaxis": "y"
        },
        {
         "hovertemplate": "State=NC<br>Year=%{x}<br>Exp_GDP_%=%{y}<extra></extra>",
         "legendgroup": "NC",
         "line": {
          "color": "#B6E880",
          "dash": "solid"
         },
         "marker": {
          "symbol": "circle"
         },
         "mode": "lines",
         "name": "NC",
         "showlegend": true,
         "type": "scattergl",
         "x": [
          2000,
          2001,
          2002,
          2003,
          2004,
          2005,
          2006,
          2007,
          2008,
          2009,
          2010,
          2011,
          2012,
          2013,
          2014,
          2015,
          2016,
          2017,
          2018,
          2019,
          2020,
          2021,
          2022
         ],
         "xaxis": "x",
         "y": [
          6.87,
          6.57,
          6.16,
          6.55,
          7.06,
          7.88,
          7.75,
          8.01,
          8.81,
          6.97,
          8.12,
          8.8,
          8.43,
          8.26,
          7.97,
          6.25,
          5.67,
          5.79,
          6.21,
          5.77,
          4.79,
          5.5,
          6.43
         ],
         "yaxis": "y"
        },
        {
         "hovertemplate": "State=ND<br>Year=%{x}<br>Exp_GDP_%=%{y}<extra></extra>",
         "legendgroup": "ND",
         "line": {
          "color": "#FF97FF",
          "dash": "solid"
         },
         "marker": {
          "symbol": "circle"
         },
         "mode": "lines",
         "name": "ND",
         "showlegend": true,
         "type": "scattergl",
         "x": [
          2000,
          2001,
          2002,
          2003,
          2004,
          2005,
          2006,
          2007,
          2008,
          2009,
          2010,
          2011,
          2012,
          2013,
          2014,
          2015,
          2016,
          2017,
          2018,
          2019,
          2020,
          2021,
          2022
         ],
         "xaxis": "x",
         "y": [
          10.88,
          11.43,
          9.53,
          9.51,
          10.93,
          12.71,
          12.89,
          13.63,
          14.6,
          10.56,
          12.27,
          15.38,
          13.38,
          13.95,
          13.45,
          9.75,
          8.77,
          9.54,
          10.26,
          9.89,
          8.68,
          9.68,
          11.27
         ],
         "yaxis": "y"
        },
        {
         "hovertemplate": "State=NE<br>Year=%{x}<br>Exp_GDP_%=%{y}<extra></extra>",
         "legendgroup": "NE",
         "line": {
          "color": "#FECB52",
          "dash": "solid"
         },
         "marker": {
          "symbol": "circle"
         },
         "mode": "lines",
         "name": "NE",
         "showlegend": true,
         "type": "scattergl",
         "x": [
          2000,
          2001,
          2002,
          2003,
          2004,
          2005,
          2006,
          2007,
          2008,
          2009,
          2010,
          2011,
          2012,
          2013,
          2014,
          2015,
          2016,
          2017,
          2018,
          2019,
          2020,
          2021,
          2022
         ],
         "xaxis": "x",
         "y": [
          7.74,
          7.47,
          6.82,
          7.14,
          7.67,
          8.61,
          9.1,
          9.44,
          10.57,
          8.23,
          9.56,
          9.99,
          9.88,
          9.62,
          9.18,
          6.96,
          6.33,
          6.71,
          7.21,
          6.71,
          5.66,
          6.46,
          7.71
         ],
         "yaxis": "y"
        },
        {
         "hovertemplate": "State=NH<br>Year=%{x}<br>Exp_GDP_%=%{y}<extra></extra>",
         "legendgroup": "NH",
         "line": {
          "color": "#636efa",
          "dash": "solid"
         },
         "marker": {
          "symbol": "circle"
         },
         "mode": "lines",
         "name": "NH",
         "showlegend": true,
         "type": "scattergl",
         "x": [
          2000,
          2001,
          2002,
          2003,
          2004,
          2005,
          2006,
          2007,
          2008,
          2009,
          2010,
          2011,
          2012,
          2013,
          2014,
          2015,
          2016,
          2017,
          2018,
          2019,
          2020,
          2021,
          2022
         ],
         "xaxis": "x",
         "y": [
          6.88,
          6.51,
          6.05,
          6.7,
          7.24,
          8.09,
          8.3,
          8.61,
          9.73,
          7.78,
          8.11,
          9.26,
          8.75,
          8.67,
          8.77,
          6.83,
          5.92,
          6.39,
          6.97,
          6.34,
          5.21,
          5.72,
          7.28
         ],
         "yaxis": "y"
        },
        {
         "hovertemplate": "State=NJ<br>Year=%{x}<br>Exp_GDP_%=%{y}<extra></extra>",
         "legendgroup": "NJ",
         "line": {
          "color": "#EF553B",
          "dash": "solid"
         },
         "marker": {
          "symbol": "circle"
         },
         "mode": "lines",
         "name": "NJ",
         "showlegend": true,
         "type": "scattergl",
         "x": [
          2000,
          2001,
          2002,
          2003,
          2004,
          2005,
          2006,
          2007,
          2008,
          2009,
          2010,
          2011,
          2012,
          2013,
          2014,
          2015,
          2016,
          2017,
          2018,
          2019,
          2020,
          2021,
          2022
         ],
         "xaxis": "x",
         "y": [
          5.66,
          5.36,
          4.96,
          5.49,
          6.3,
          7.1,
          7.5,
          8.01,
          9.06,
          6.87,
          7.22,
          8.05,
          7.3,
          7.03,
          6.84,
          5.26,
          4.72,
          4.92,
          5.22,
          4.75,
          3.95,
          4.48,
          5.3
         ],
         "yaxis": "y"
        },
        {
         "hovertemplate": "State=NM<br>Year=%{x}<br>Exp_GDP_%=%{y}<extra></extra>",
         "legendgroup": "NM",
         "line": {
          "color": "#00cc96",
          "dash": "solid"
         },
         "marker": {
          "symbol": "circle"
         },
         "mode": "lines",
         "name": "NM",
         "showlegend": true,
         "type": "scattergl",
         "x": [
          2000,
          2001,
          2002,
          2003,
          2004,
          2005,
          2006,
          2007,
          2008,
          2009,
          2010,
          2011,
          2012,
          2013,
          2014,
          2015,
          2016,
          2017,
          2018,
          2019,
          2020,
          2021,
          2022
         ],
         "xaxis": "x",
         "y": [
          7.32,
          7.6,
          6.77,
          7.09,
          7.37,
          8.64,
          9.21,
          9.69,
          10.06,
          7.66,
          8.6,
          10.23,
          10.26,
          10.22,
          9.96,
          7.97,
          7.16,
          7.88,
          8.35,
          7.65,
          6.71,
          8.17,
          9.36
         ],
         "yaxis": "y"
        },
        {
         "hovertemplate": "State=NV<br>Year=%{x}<br>Exp_GDP_%=%{y}<extra></extra>",
         "legendgroup": "NV",
         "line": {
          "color": "#ab63fa",
          "dash": "solid"
         },
         "marker": {
          "symbol": "circle"
         },
         "mode": "lines",
         "name": "NV",
         "showlegend": true,
         "type": "scattergl",
         "x": [
          2000,
          2001,
          2002,
          2003,
          2004,
          2005,
          2006,
          2007,
          2008,
          2009,
          2010,
          2011,
          2012,
          2013,
          2014,
          2015,
          2016,
          2017,
          2018,
          2019,
          2020,
          2021,
          2022
         ],
         "xaxis": "x",
         "y": [
          6.13,
          6.46,
          6.2,
          6.36,
          6.78,
          7.25,
          7.87,
          7.98,
          8.51,
          7.26,
          8.16,
          8.62,
          8.62,
          8.46,
          8.41,
          6.63,
          5.71,
          6.04,
          6.46,
          6.02,
          4.99,
          5.64,
          7.24
         ],
         "yaxis": "y"
        },
        {
         "hovertemplate": "State=NY<br>Year=%{x}<br>Exp_GDP_%=%{y}<extra></extra>",
         "legendgroup": "NY",
         "line": {
          "color": "#FFA15A",
          "dash": "solid"
         },
         "marker": {
          "symbol": "circle"
         },
         "mode": "lines",
         "name": "NY",
         "showlegend": true,
         "type": "scattergl",
         "x": [
          2000,
          2001,
          2002,
          2003,
          2004,
          2005,
          2006,
          2007,
          2008,
          2009,
          2010,
          2011,
          2012,
          2013,
          2014,
          2015,
          2016,
          2017,
          2018,
          2019,
          2020,
          2021,
          2022
         ],
         "xaxis": "x",
         "y": [
          4.67,
          4.53,
          4.13,
          4.77,
          5.03,
          5.57,
          5.5,
          5.67,
          6.47,
          4.85,
          5.29,
          5.59,
          5.09,
          4.99,
          4.89,
          3.79,
          3.27,
          3.4,
          3.64,
          3.27,
          2.72,
          3.15,
          3.94
         ],
         "yaxis": "y"
        },
        {
         "hovertemplate": "State=OH<br>Year=%{x}<br>Exp_GDP_%=%{y}<extra></extra>",
         "legendgroup": "OH",
         "line": {
          "color": "#19d3f3",
          "dash": "solid"
         },
         "marker": {
          "symbol": "circle"
         },
         "mode": "lines",
         "name": "OH",
         "showlegend": true,
         "type": "scattergl",
         "x": [
          2000,
          2001,
          2002,
          2003,
          2004,
          2005,
          2006,
          2007,
          2008,
          2009,
          2010,
          2011,
          2012,
          2013,
          2014,
          2015,
          2016,
          2017,
          2018,
          2019,
          2020,
          2021,
          2022
         ],
         "xaxis": "x",
         "y": [
          7.5,
          7.34,
          6.69,
          7.32,
          7.72,
          8.8,
          9.22,
          9.57,
          10.73,
          8.42,
          8.82,
          9.4,
          8.85,
          8.58,
          8.42,
          6.65,
          6,
          6.13,
          6.55,
          5.96,
          5.05,
          5.85,
          6.88
         ],
         "yaxis": "y"
        },
        {
         "hovertemplate": "State=OK<br>Year=%{x}<br>Exp_GDP_%=%{y}<extra></extra>",
         "legendgroup": "OK",
         "line": {
          "color": "#FF6692",
          "dash": "solid"
         },
         "marker": {
          "symbol": "circle"
         },
         "mode": "lines",
         "name": "OK",
         "showlegend": true,
         "type": "scattergl",
         "x": [
          2000,
          2001,
          2002,
          2003,
          2004,
          2005,
          2006,
          2007,
          2008,
          2009,
          2010,
          2011,
          2012,
          2013,
          2014,
          2015,
          2016,
          2017,
          2018,
          2019,
          2020,
          2021,
          2022
         ],
         "xaxis": "x",
         "y": [
          10.14,
          10.17,
          8.82,
          9.58,
          9.9,
          11.31,
          11.8,
          11.64,
          12.73,
          10.18,
          10.94,
          11.59,
          11.18,
          10.48,
          10.35,
          8.51,
          7.63,
          8.02,
          8.33,
          7.82,
          6.79,
          8.14,
          10.15
         ],
         "yaxis": "y"
        },
        {
         "hovertemplate": "State=OR<br>Year=%{x}<br>Exp_GDP_%=%{y}<extra></extra>",
         "legendgroup": "OR",
         "line": {
          "color": "#B6E880",
          "dash": "solid"
         },
         "marker": {
          "symbol": "circle"
         },
         "mode": "lines",
         "name": "OR",
         "showlegend": true,
         "type": "scattergl",
         "x": [
          2000,
          2001,
          2002,
          2003,
          2004,
          2005,
          2006,
          2007,
          2008,
          2009,
          2010,
          2011,
          2012,
          2013,
          2014,
          2015,
          2016,
          2017,
          2018,
          2019,
          2020,
          2021,
          2022
         ],
         "xaxis": "x",
         "y": [
          6.48,
          6.31,
          6.35,
          6.28,
          6.66,
          7.47,
          7.95,
          8.24,
          9.01,
          7.55,
          7.79,
          8.72,
          8.57,
          8.29,
          7.88,
          6.32,
          5.57,
          5.8,
          5.97,
          5.67,
          4.79,
          5.5,
          6.55
         ],
         "yaxis": "y"
        },
        {
         "hovertemplate": "State=PA<br>Year=%{x}<br>Exp_GDP_%=%{y}<extra></extra>",
         "legendgroup": "PA",
         "line": {
          "color": "#FF97FF",
          "dash": "solid"
         },
         "marker": {
          "symbol": "circle"
         },
         "mode": "lines",
         "name": "PA",
         "showlegend": true,
         "type": "scattergl",
         "x": [
          2000,
          2001,
          2002,
          2003,
          2004,
          2005,
          2006,
          2007,
          2008,
          2009,
          2010,
          2011,
          2012,
          2013,
          2014,
          2015,
          2016,
          2017,
          2018,
          2019,
          2020,
          2021,
          2022
         ],
         "xaxis": "x",
         "y": [
          7.07,
          6.97,
          6.5,
          6.96,
          7.36,
          8.3,
          8.73,
          8.66,
          9.64,
          7.46,
          8.05,
          8.93,
          8.37,
          8.15,
          8.04,
          6.27,
          5.44,
          5.76,
          6.15,
          5.7,
          4.83,
          5.53,
          6.9
         ],
         "yaxis": "y"
        },
        {
         "hovertemplate": "State=RI<br>Year=%{x}<br>Exp_GDP_%=%{y}<extra></extra>",
         "legendgroup": "RI",
         "line": {
          "color": "#FECB52",
          "dash": "solid"
         },
         "marker": {
          "symbol": "circle"
         },
         "mode": "lines",
         "name": "RI",
         "showlegend": true,
         "type": "scattergl",
         "x": [
          2000,
          2001,
          2002,
          2003,
          2004,
          2005,
          2006,
          2007,
          2008,
          2009,
          2010,
          2011,
          2012,
          2013,
          2014,
          2015,
          2016,
          2017,
          2018,
          2019,
          2020,
          2021,
          2022
         ],
         "xaxis": "x",
         "y": [
          6.27,
          6.42,
          5.36,
          6.03,
          6.2,
          6.98,
          7.37,
          7.49,
          8.75,
          7.21,
          7.46,
          7.78,
          7.43,
          7.53,
          7.72,
          6.32,
          5.23,
          5.47,
          6.46,
          5.83,
          5.07,
          5.58,
          6.49
         ],
         "yaxis": "y"
        },
        {
         "hovertemplate": "State=SC<br>Year=%{x}<br>Exp_GDP_%=%{y}<extra></extra>",
         "legendgroup": "SC",
         "line": {
          "color": "#636efa",
          "dash": "solid"
         },
         "marker": {
          "symbol": "circle"
         },
         "mode": "lines",
         "name": "SC",
         "showlegend": true,
         "type": "scattergl",
         "x": [
          2000,
          2001,
          2002,
          2003,
          2004,
          2005,
          2006,
          2007,
          2008,
          2009,
          2010,
          2011,
          2012,
          2013,
          2014,
          2015,
          2016,
          2017,
          2018,
          2019,
          2020,
          2021,
          2022
         ],
         "xaxis": "x",
         "y": [
          8.79,
          8.33,
          7.99,
          8.38,
          9.64,
          10.71,
          11.05,
          10.9,
          12.54,
          10.07,
          11.38,
          12.4,
          11.83,
          11.71,
          11.31,
          8.96,
          8.16,
          8.43,
          8.59,
          7.95,
          6.68,
          7.72,
          8.8
         ],
         "yaxis": "y"
        },
        {
         "hovertemplate": "State=SD<br>Year=%{x}<br>Exp_GDP_%=%{y}<extra></extra>",
         "legendgroup": "SD",
         "line": {
          "color": "#EF553B",
          "dash": "solid"
         },
         "marker": {
          "symbol": "circle"
         },
         "mode": "lines",
         "name": "SD",
         "showlegend": true,
         "type": "scattergl",
         "x": [
          2000,
          2001,
          2002,
          2003,
          2004,
          2005,
          2006,
          2007,
          2008,
          2009,
          2010,
          2011,
          2012,
          2013,
          2014,
          2015,
          2016,
          2017,
          2018,
          2019,
          2020,
          2021,
          2022
         ],
         "xaxis": "x",
         "y": [
          8.56,
          8.15,
          7.26,
          7.64,
          8.02,
          9.36,
          9.79,
          10.25,
          11.43,
          9.27,
          10.17,
          10.96,
          10.81,
          10.48,
          10.34,
          7.9,
          7.07,
          7.49,
          8.09,
          7.58,
          6.63,
          7.6,
          8.81
         ],
         "yaxis": "y"
        },
        {
         "hovertemplate": "State=TN<br>Year=%{x}<br>Exp_GDP_%=%{y}<extra></extra>",
         "legendgroup": "TN",
         "line": {
          "color": "#00cc96",
          "dash": "solid"
         },
         "marker": {
          "symbol": "circle"
         },
         "mode": "lines",
         "name": "TN",
         "showlegend": true,
         "type": "scattergl",
         "x": [
          2000,
          2001,
          2002,
          2003,
          2004,
          2005,
          2006,
          2007,
          2008,
          2009,
          2010,
          2011,
          2012,
          2013,
          2014,
          2015,
          2016,
          2017,
          2018,
          2019,
          2020,
          2021,
          2022
         ],
         "xaxis": "x",
         "y": [
          7.55,
          7.5,
          7.08,
          7.45,
          7.93,
          9.3,
          9.79,
          10.11,
          11.38,
          8.71,
          9.89,
          11,
          10.02,
          9.76,
          9.64,
          7.34,
          6.6,
          6.71,
          7.24,
          6.73,
          5.49,
          6.36,
          7.49
         ],
         "yaxis": "y"
        },
        {
         "hovertemplate": "State=TX<br>Year=%{x}<br>Exp_GDP_%=%{y}<extra></extra>",
         "legendgroup": "TX",
         "line": {
          "color": "#ab63fa",
          "dash": "solid"
         },
         "marker": {
          "symbol": "circle"
         },
         "mode": "lines",
         "name": "TX",
         "showlegend": true,
         "type": "scattergl",
         "x": [
          2000,
          2001,
          2002,
          2003,
          2004,
          2005,
          2006,
          2007,
          2008,
          2009,
          2010,
          2011,
          2012,
          2013,
          2014,
          2015,
          2016,
          2017,
          2018,
          2019,
          2020,
          2021,
          2022
         ],
         "xaxis": "x",
         "y": [
          10.05,
          9.5,
          8.63,
          9.89,
          10.66,
          11.76,
          12.27,
          11.85,
          12.87,
          9.43,
          10.84,
          11.99,
          10.66,
          10.37,
          10.06,
          7.52,
          6.98,
          7.51,
          8.19,
          7.37,
          6,
          7.7,
          8.44
         ],
         "yaxis": "y"
        },
        {
         "hovertemplate": "State=UT<br>Year=%{x}<br>Exp_GDP_%=%{y}<extra></extra>",
         "legendgroup": "UT",
         "line": {
          "color": "#FFA15A",
          "dash": "solid"
         },
         "marker": {
          "symbol": "circle"
         },
         "mode": "lines",
         "name": "UT",
         "showlegend": true,
         "type": "scattergl",
         "x": [
          2000,
          2001,
          2002,
          2003,
          2004,
          2005,
          2006,
          2007,
          2008,
          2009,
          2010,
          2011,
          2012,
          2013,
          2014,
          2015,
          2016,
          2017,
          2018,
          2019,
          2020,
          2021,
          2022
         ],
         "xaxis": "x",
         "y": [
          6.44,
          6.22,
          5.55,
          6.02,
          6.52,
          7.31,
          7.77,
          7.55,
          8.33,
          6.52,
          7.11,
          8.43,
          8.2,
          8.08,
          7.61,
          5.94,
          5.27,
          5.39,
          5.59,
          4.99,
          4.24,
          4.8,
          5.8
         ],
         "yaxis": "y"
        },
        {
         "hovertemplate": "State=VA<br>Year=%{x}<br>Exp_GDP_%=%{y}<extra></extra>",
         "legendgroup": "VA",
         "line": {
          "color": "#19d3f3",
          "dash": "solid"
         },
         "marker": {
          "symbol": "circle"
         },
         "mode": "lines",
         "name": "VA",
         "showlegend": true,
         "type": "scattergl",
         "x": [
          2000,
          2001,
          2002,
          2003,
          2004,
          2005,
          2006,
          2007,
          2008,
          2009,
          2010,
          2011,
          2012,
          2013,
          2014,
          2015,
          2016,
          2017,
          2018,
          2019,
          2020,
          2021,
          2022
         ],
         "xaxis": "x",
         "y": [
          6.03,
          5.64,
          5.32,
          5.76,
          6.34,
          7.25,
          7.4,
          7.63,
          8.48,
          6.5,
          7.21,
          7.93,
          7.81,
          7.6,
          7.58,
          5.86,
          5.27,
          5.52,
          5.99,
          5.56,
          4.53,
          5.25,
          6.4
         ],
         "yaxis": "y"
        },
        {
         "hovertemplate": "State=VT<br>Year=%{x}<br>Exp_GDP_%=%{y}<extra></extra>",
         "legendgroup": "VT",
         "line": {
          "color": "#FF6692",
          "dash": "solid"
         },
         "marker": {
          "symbol": "circle"
         },
         "mode": "lines",
         "name": "VT",
         "showlegend": true,
         "type": "scattergl",
         "x": [
          2000,
          2001,
          2002,
          2003,
          2004,
          2005,
          2006,
          2007,
          2008,
          2009,
          2010,
          2011,
          2012,
          2013,
          2014,
          2015,
          2016,
          2017,
          2018,
          2019,
          2020,
          2021,
          2022
         ],
         "xaxis": "x",
         "y": [
          8.72,
          8.41,
          7.67,
          7.86,
          8.65,
          9.67,
          10.34,
          10.88,
          11.44,
          9.73,
          10.17,
          11.39,
          10.96,
          11.24,
          10.89,
          8.65,
          7.55,
          7.93,
          8.48,
          7.91,
          6.73,
          7.47,
          8.77
         ],
         "yaxis": "y"
        },
        {
         "hovertemplate": "State=WA<br>Year=%{x}<br>Exp_GDP_%=%{y}<extra></extra>",
         "legendgroup": "WA",
         "line": {
          "color": "#B6E880",
          "dash": "solid"
         },
         "marker": {
          "symbol": "circle"
         },
         "mode": "lines",
         "name": "WA",
         "showlegend": true,
         "type": "scattergl",
         "x": [
          2000,
          2001,
          2002,
          2003,
          2004,
          2005,
          2006,
          2007,
          2008,
          2009,
          2010,
          2011,
          2012,
          2013,
          2014,
          2015,
          2016,
          2017,
          2018,
          2019,
          2020,
          2021,
          2022
         ],
         "xaxis": "x",
         "y": [
          5.45,
          5.41,
          4.98,
          5.25,
          5.78,
          6.25,
          6.74,
          6.74,
          7.48,
          6,
          6.13,
          7.08,
          6.75,
          6.35,
          5.84,
          4.68,
          4.31,
          4.49,
          4.55,
          4.24,
          3.21,
          3.76,
          4.62
         ],
         "yaxis": "y"
        },
        {
         "hovertemplate": "State=WI<br>Year=%{x}<br>Exp_GDP_%=%{y}<extra></extra>",
         "legendgroup": "WI",
         "line": {
          "color": "#FF97FF",
          "dash": "solid"
         },
         "marker": {
          "symbol": "circle"
         },
         "mode": "lines",
         "name": "WI",
         "showlegend": true,
         "type": "scattergl",
         "x": [
          2000,
          2001,
          2002,
          2003,
          2004,
          2005,
          2006,
          2007,
          2008,
          2009,
          2010,
          2011,
          2012,
          2013,
          2014,
          2015,
          2016,
          2017,
          2018,
          2019,
          2020,
          2021,
          2022
         ],
         "xaxis": "x",
         "y": [
          6.99,
          6.97,
          6.47,
          7,
          7.41,
          8.47,
          8.7,
          9.1,
          10.17,
          7.87,
          8.46,
          9.29,
          8.76,
          8.77,
          8.94,
          6.74,
          6.07,
          6.38,
          6.81,
          6.32,
          5.38,
          6.47,
          7.71
         ],
         "yaxis": "y"
        },
        {
         "hovertemplate": "State=WV<br>Year=%{x}<br>Exp_GDP_%=%{y}<extra></extra>",
         "legendgroup": "WV",
         "line": {
          "color": "#FECB52",
          "dash": "solid"
         },
         "marker": {
          "symbol": "circle"
         },
         "mode": "lines",
         "name": "WV",
         "showlegend": true,
         "type": "scattergl",
         "x": [
          2000,
          2001,
          2002,
          2003,
          2004,
          2005,
          2006,
          2007,
          2008,
          2009,
          2010,
          2011,
          2012,
          2013,
          2014,
          2015,
          2016,
          2017,
          2018,
          2019,
          2020,
          2021,
          2022
         ],
         "xaxis": "x",
         "y": [
          10.14,
          9.75,
          9.41,
          9.89,
          10.8,
          11.87,
          12.31,
          12.76,
          13.77,
          10.67,
          12.37,
          13.51,
          13.05,
          12.79,
          12.35,
          10.11,
          10.03,
          9.91,
          10.96,
          10.01,
          8.69,
          10.07,
          11.16
         ],
         "yaxis": "y"
        },
        {
         "hovertemplate": "State=WY<br>Year=%{x}<br>Exp_GDP_%=%{y}<extra></extra>",
         "legendgroup": "WY",
         "line": {
          "color": "#636efa",
          "dash": "solid"
         },
         "marker": {
          "symbol": "circle"
         },
         "mode": "lines",
         "name": "WY",
         "showlegend": true,
         "type": "scattergl",
         "x": [
          2000,
          2001,
          2002,
          2003,
          2004,
          2005,
          2006,
          2007,
          2008,
          2009,
          2010,
          2011,
          2012,
          2013,
          2014,
          2015,
          2016,
          2017,
          2018,
          2019,
          2020,
          2021,
          2022
         ],
         "xaxis": "x",
         "y": [
          12.67,
          12.5,
          11.39,
          11.71,
          12.21,
          13.12,
          13.08,
          12.16,
          12.78,
          10.85,
          12.24,
          14.08,
          14.97,
          14.09,
          14.45,
          11.51,
          11.06,
          11.67,
          12.49,
          11.72,
          10.51,
          11.77,
          13.3
         ],
         "yaxis": "y"
        }
       ],
       "layout": {
        "legend": {
         "title": {
          "text": "State"
         },
         "tracegroupgap": 0
        },
        "template": {
         "data": {
          "bar": [
           {
            "error_x": {
             "color": "#2a3f5f"
            },
            "error_y": {
             "color": "#2a3f5f"
            },
            "marker": {
             "line": {
              "color": "#E5ECF6",
              "width": 0.5
             },
             "pattern": {
              "fillmode": "overlay",
              "size": 10,
              "solidity": 0.2
             }
            },
            "type": "bar"
           }
          ],
          "barpolar": [
           {
            "marker": {
             "line": {
              "color": "#E5ECF6",
              "width": 0.5
             },
             "pattern": {
              "fillmode": "overlay",
              "size": 10,
              "solidity": 0.2
             }
            },
            "type": "barpolar"
           }
          ],
          "carpet": [
           {
            "aaxis": {
             "endlinecolor": "#2a3f5f",
             "gridcolor": "white",
             "linecolor": "white",
             "minorgridcolor": "white",
             "startlinecolor": "#2a3f5f"
            },
            "baxis": {
             "endlinecolor": "#2a3f5f",
             "gridcolor": "white",
             "linecolor": "white",
             "minorgridcolor": "white",
             "startlinecolor": "#2a3f5f"
            },
            "type": "carpet"
           }
          ],
          "choropleth": [
           {
            "colorbar": {
             "outlinewidth": 0,
             "ticks": ""
            },
            "type": "choropleth"
           }
          ],
          "contour": [
           {
            "colorbar": {
             "outlinewidth": 0,
             "ticks": ""
            },
            "colorscale": [
             [
              0,
              "#0d0887"
             ],
             [
              0.1111111111111111,
              "#46039f"
             ],
             [
              0.2222222222222222,
              "#7201a8"
             ],
             [
              0.3333333333333333,
              "#9c179e"
             ],
             [
              0.4444444444444444,
              "#bd3786"
             ],
             [
              0.5555555555555556,
              "#d8576b"
             ],
             [
              0.6666666666666666,
              "#ed7953"
             ],
             [
              0.7777777777777778,
              "#fb9f3a"
             ],
             [
              0.8888888888888888,
              "#fdca26"
             ],
             [
              1,
              "#f0f921"
             ]
            ],
            "type": "contour"
           }
          ],
          "contourcarpet": [
           {
            "colorbar": {
             "outlinewidth": 0,
             "ticks": ""
            },
            "type": "contourcarpet"
           }
          ],
          "heatmap": [
           {
            "colorbar": {
             "outlinewidth": 0,
             "ticks": ""
            },
            "colorscale": [
             [
              0,
              "#0d0887"
             ],
             [
              0.1111111111111111,
              "#46039f"
             ],
             [
              0.2222222222222222,
              "#7201a8"
             ],
             [
              0.3333333333333333,
              "#9c179e"
             ],
             [
              0.4444444444444444,
              "#bd3786"
             ],
             [
              0.5555555555555556,
              "#d8576b"
             ],
             [
              0.6666666666666666,
              "#ed7953"
             ],
             [
              0.7777777777777778,
              "#fb9f3a"
             ],
             [
              0.8888888888888888,
              "#fdca26"
             ],
             [
              1,
              "#f0f921"
             ]
            ],
            "type": "heatmap"
           }
          ],
          "heatmapgl": [
           {
            "colorbar": {
             "outlinewidth": 0,
             "ticks": ""
            },
            "colorscale": [
             [
              0,
              "#0d0887"
             ],
             [
              0.1111111111111111,
              "#46039f"
             ],
             [
              0.2222222222222222,
              "#7201a8"
             ],
             [
              0.3333333333333333,
              "#9c179e"
             ],
             [
              0.4444444444444444,
              "#bd3786"
             ],
             [
              0.5555555555555556,
              "#d8576b"
             ],
             [
              0.6666666666666666,
              "#ed7953"
             ],
             [
              0.7777777777777778,
              "#fb9f3a"
             ],
             [
              0.8888888888888888,
              "#fdca26"
             ],
             [
              1,
              "#f0f921"
             ]
            ],
            "type": "heatmapgl"
           }
          ],
          "histogram": [
           {
            "marker": {
             "pattern": {
              "fillmode": "overlay",
              "size": 10,
              "solidity": 0.2
             }
            },
            "type": "histogram"
           }
          ],
          "histogram2d": [
           {
            "colorbar": {
             "outlinewidth": 0,
             "ticks": ""
            },
            "colorscale": [
             [
              0,
              "#0d0887"
             ],
             [
              0.1111111111111111,
              "#46039f"
             ],
             [
              0.2222222222222222,
              "#7201a8"
             ],
             [
              0.3333333333333333,
              "#9c179e"
             ],
             [
              0.4444444444444444,
              "#bd3786"
             ],
             [
              0.5555555555555556,
              "#d8576b"
             ],
             [
              0.6666666666666666,
              "#ed7953"
             ],
             [
              0.7777777777777778,
              "#fb9f3a"
             ],
             [
              0.8888888888888888,
              "#fdca26"
             ],
             [
              1,
              "#f0f921"
             ]
            ],
            "type": "histogram2d"
           }
          ],
          "histogram2dcontour": [
           {
            "colorbar": {
             "outlinewidth": 0,
             "ticks": ""
            },
            "colorscale": [
             [
              0,
              "#0d0887"
             ],
             [
              0.1111111111111111,
              "#46039f"
             ],
             [
              0.2222222222222222,
              "#7201a8"
             ],
             [
              0.3333333333333333,
              "#9c179e"
             ],
             [
              0.4444444444444444,
              "#bd3786"
             ],
             [
              0.5555555555555556,
              "#d8576b"
             ],
             [
              0.6666666666666666,
              "#ed7953"
             ],
             [
              0.7777777777777778,
              "#fb9f3a"
             ],
             [
              0.8888888888888888,
              "#fdca26"
             ],
             [
              1,
              "#f0f921"
             ]
            ],
            "type": "histogram2dcontour"
           }
          ],
          "mesh3d": [
           {
            "colorbar": {
             "outlinewidth": 0,
             "ticks": ""
            },
            "type": "mesh3d"
           }
          ],
          "parcoords": [
           {
            "line": {
             "colorbar": {
              "outlinewidth": 0,
              "ticks": ""
             }
            },
            "type": "parcoords"
           }
          ],
          "pie": [
           {
            "automargin": true,
            "type": "pie"
           }
          ],
          "scatter": [
           {
            "fillpattern": {
             "fillmode": "overlay",
             "size": 10,
             "solidity": 0.2
            },
            "type": "scatter"
           }
          ],
          "scatter3d": [
           {
            "line": {
             "colorbar": {
              "outlinewidth": 0,
              "ticks": ""
             }
            },
            "marker": {
             "colorbar": {
              "outlinewidth": 0,
              "ticks": ""
             }
            },
            "type": "scatter3d"
           }
          ],
          "scattercarpet": [
           {
            "marker": {
             "colorbar": {
              "outlinewidth": 0,
              "ticks": ""
             }
            },
            "type": "scattercarpet"
           }
          ],
          "scattergeo": [
           {
            "marker": {
             "colorbar": {
              "outlinewidth": 0,
              "ticks": ""
             }
            },
            "type": "scattergeo"
           }
          ],
          "scattergl": [
           {
            "marker": {
             "colorbar": {
              "outlinewidth": 0,
              "ticks": ""
             }
            },
            "type": "scattergl"
           }
          ],
          "scattermapbox": [
           {
            "marker": {
             "colorbar": {
              "outlinewidth": 0,
              "ticks": ""
             }
            },
            "type": "scattermapbox"
           }
          ],
          "scatterpolar": [
           {
            "marker": {
             "colorbar": {
              "outlinewidth": 0,
              "ticks": ""
             }
            },
            "type": "scatterpolar"
           }
          ],
          "scatterpolargl": [
           {
            "marker": {
             "colorbar": {
              "outlinewidth": 0,
              "ticks": ""
             }
            },
            "type": "scatterpolargl"
           }
          ],
          "scatterternary": [
           {
            "marker": {
             "colorbar": {
              "outlinewidth": 0,
              "ticks": ""
             }
            },
            "type": "scatterternary"
           }
          ],
          "surface": [
           {
            "colorbar": {
             "outlinewidth": 0,
             "ticks": ""
            },
            "colorscale": [
             [
              0,
              "#0d0887"
             ],
             [
              0.1111111111111111,
              "#46039f"
             ],
             [
              0.2222222222222222,
              "#7201a8"
             ],
             [
              0.3333333333333333,
              "#9c179e"
             ],
             [
              0.4444444444444444,
              "#bd3786"
             ],
             [
              0.5555555555555556,
              "#d8576b"
             ],
             [
              0.6666666666666666,
              "#ed7953"
             ],
             [
              0.7777777777777778,
              "#fb9f3a"
             ],
             [
              0.8888888888888888,
              "#fdca26"
             ],
             [
              1,
              "#f0f921"
             ]
            ],
            "type": "surface"
           }
          ],
          "table": [
           {
            "cells": {
             "fill": {
              "color": "#EBF0F8"
             },
             "line": {
              "color": "white"
             }
            },
            "header": {
             "fill": {
              "color": "#C8D4E3"
             },
             "line": {
              "color": "white"
             }
            },
            "type": "table"
           }
          ]
         },
         "layout": {
          "annotationdefaults": {
           "arrowcolor": "#2a3f5f",
           "arrowhead": 0,
           "arrowwidth": 1
          },
          "autotypenumbers": "strict",
          "coloraxis": {
           "colorbar": {
            "outlinewidth": 0,
            "ticks": ""
           }
          },
          "colorscale": {
           "diverging": [
            [
             0,
             "#8e0152"
            ],
            [
             0.1,
             "#c51b7d"
            ],
            [
             0.2,
             "#de77ae"
            ],
            [
             0.3,
             "#f1b6da"
            ],
            [
             0.4,
             "#fde0ef"
            ],
            [
             0.5,
             "#f7f7f7"
            ],
            [
             0.6,
             "#e6f5d0"
            ],
            [
             0.7,
             "#b8e186"
            ],
            [
             0.8,
             "#7fbc41"
            ],
            [
             0.9,
             "#4d9221"
            ],
            [
             1,
             "#276419"
            ]
           ],
           "sequential": [
            [
             0,
             "#0d0887"
            ],
            [
             0.1111111111111111,
             "#46039f"
            ],
            [
             0.2222222222222222,
             "#7201a8"
            ],
            [
             0.3333333333333333,
             "#9c179e"
            ],
            [
             0.4444444444444444,
             "#bd3786"
            ],
            [
             0.5555555555555556,
             "#d8576b"
            ],
            [
             0.6666666666666666,
             "#ed7953"
            ],
            [
             0.7777777777777778,
             "#fb9f3a"
            ],
            [
             0.8888888888888888,
             "#fdca26"
            ],
            [
             1,
             "#f0f921"
            ]
           ],
           "sequentialminus": [
            [
             0,
             "#0d0887"
            ],
            [
             0.1111111111111111,
             "#46039f"
            ],
            [
             0.2222222222222222,
             "#7201a8"
            ],
            [
             0.3333333333333333,
             "#9c179e"
            ],
            [
             0.4444444444444444,
             "#bd3786"
            ],
            [
             0.5555555555555556,
             "#d8576b"
            ],
            [
             0.6666666666666666,
             "#ed7953"
            ],
            [
             0.7777777777777778,
             "#fb9f3a"
            ],
            [
             0.8888888888888888,
             "#fdca26"
            ],
            [
             1,
             "#f0f921"
            ]
           ]
          },
          "colorway": [
           "#636efa",
           "#EF553B",
           "#00cc96",
           "#ab63fa",
           "#FFA15A",
           "#19d3f3",
           "#FF6692",
           "#B6E880",
           "#FF97FF",
           "#FECB52"
          ],
          "font": {
           "color": "#2a3f5f"
          },
          "geo": {
           "bgcolor": "white",
           "lakecolor": "white",
           "landcolor": "#E5ECF6",
           "showlakes": true,
           "showland": true,
           "subunitcolor": "white"
          },
          "hoverlabel": {
           "align": "left"
          },
          "hovermode": "closest",
          "mapbox": {
           "style": "light"
          },
          "paper_bgcolor": "white",
          "plot_bgcolor": "#E5ECF6",
          "polar": {
           "angularaxis": {
            "gridcolor": "white",
            "linecolor": "white",
            "ticks": ""
           },
           "bgcolor": "#E5ECF6",
           "radialaxis": {
            "gridcolor": "white",
            "linecolor": "white",
            "ticks": ""
           }
          },
          "scene": {
           "xaxis": {
            "backgroundcolor": "#E5ECF6",
            "gridcolor": "white",
            "gridwidth": 2,
            "linecolor": "white",
            "showbackground": true,
            "ticks": "",
            "zerolinecolor": "white"
           },
           "yaxis": {
            "backgroundcolor": "#E5ECF6",
            "gridcolor": "white",
            "gridwidth": 2,
            "linecolor": "white",
            "showbackground": true,
            "ticks": "",
            "zerolinecolor": "white"
           },
           "zaxis": {
            "backgroundcolor": "#E5ECF6",
            "gridcolor": "white",
            "gridwidth": 2,
            "linecolor": "white",
            "showbackground": true,
            "ticks": "",
            "zerolinecolor": "white"
           }
          },
          "shapedefaults": {
           "line": {
            "color": "#2a3f5f"
           }
          },
          "ternary": {
           "aaxis": {
            "gridcolor": "white",
            "linecolor": "white",
            "ticks": ""
           },
           "baxis": {
            "gridcolor": "white",
            "linecolor": "white",
            "ticks": ""
           },
           "bgcolor": "#E5ECF6",
           "caxis": {
            "gridcolor": "white",
            "linecolor": "white",
            "ticks": ""
           }
          },
          "title": {
           "x": 0.05
          },
          "xaxis": {
           "automargin": true,
           "gridcolor": "white",
           "linecolor": "white",
           "ticks": "",
           "title": {
            "standoff": 15
           },
           "zerolinecolor": "white",
           "zerolinewidth": 2
          },
          "yaxis": {
           "automargin": true,
           "gridcolor": "white",
           "linecolor": "white",
           "ticks": "",
           "title": {
            "standoff": 15
           },
           "zerolinecolor": "white",
           "zerolinewidth": 2
          }
         }
        },
        "title": {
         "text": "Energy Expenditure as a % of GDP Trend in US from 2000-22"
        },
        "xaxis": {
         "anchor": "y",
         "domain": [
          0,
          1
         ],
         "title": {
          "text": "Year"
         }
        },
        "yaxis": {
         "anchor": "x",
         "domain": [
          0,
          1
         ],
         "title": {
          "text": "Exp_GDP_%"
         }
        }
       }
      },
      "text/html": [
       "<div>                            <div id=\"0b812d1c-84a4-4f13-9b92-89a72a4c006c\" class=\"plotly-graph-div\" style=\"height:525px; width:100%;\"></div>            <script type=\"text/javascript\">                require([\"plotly\"], function(Plotly) {                    window.PLOTLYENV=window.PLOTLYENV || {};                                    if (document.getElementById(\"0b812d1c-84a4-4f13-9b92-89a72a4c006c\")) {                    Plotly.newPlot(                        \"0b812d1c-84a4-4f13-9b92-89a72a4c006c\",                        [{\"hovertemplate\":\"State=AK\\u003cbr\\u003eYear=%{x}\\u003cbr\\u003eExp_GDP_%=%{y}\\u003cextra\\u003e\\u003c\\u002fextra\\u003e\",\"legendgroup\":\"AK\",\"line\":{\"color\":\"#636efa\",\"dash\":\"solid\"},\"marker\":{\"symbol\":\"circle\"},\"mode\":\"lines\",\"name\":\"AK\",\"showlegend\":true,\"x\":[2000,2001,2002,2003,2004,2005,2006,2007,2008,2009,2010,2011,2012,2013,2014,2015,2016,2017,2018,2019,2020,2021,2022],\"xaxis\":\"x\",\"y\":[10.55,9.72,8.45,8.77,11.72,12.89,13.61,12.68,13.66,10.94,11.78,13.76,12.99,12.09,12.15,10.77,8.92,9.33,10.58,10.37,9.12,11.15,14.57],\"yaxis\":\"y\",\"type\":\"scattergl\"},{\"hovertemplate\":\"State=AL\\u003cbr\\u003eYear=%{x}\\u003cbr\\u003eExp_GDP_%=%{y}\\u003cextra\\u003e\\u003c\\u002fextra\\u003e\",\"legendgroup\":\"AL\",\"line\":{\"color\":\"#EF553B\",\"dash\":\"solid\"},\"marker\":{\"symbol\":\"circle\"},\"mode\":\"lines\",\"name\":\"AL\",\"showlegend\":true,\"x\":[2000,2001,2002,2003,2004,2005,2006,2007,2008,2009,2010,2011,2012,2013,2014,2015,2016,2017,2018,2019,2020,2021,2022],\"xaxis\":\"x\",\"y\":[9.99,9.47,9.09,9.38,10.18,11.4,12.14,12.37,13.98,10.82,12.18,13.37,12.81,12.36,12.22,9.84,9.21,9.43,9.7,9.08,7.9,9.41,11.01],\"yaxis\":\"y\",\"type\":\"scattergl\"},{\"hovertemplate\":\"State=AR\\u003cbr\\u003eYear=%{x}\\u003cbr\\u003eExp_GDP_%=%{y}\\u003cextra\\u003e\\u003c\\u002fextra\\u003e\",\"legendgroup\":\"AR\",\"line\":{\"color\":\"#00cc96\",\"dash\":\"solid\"},\"marker\":{\"symbol\":\"circle\"},\"mode\":\"lines\",\"name\":\"AR\",\"showlegend\":true,\"x\":[2000,2001,2002,2003,2004,2005,2006,2007,2008,2009,2010,2011,2012,2013,2014,2015,2016,2017,2018,2019,2020,2021,2022],\"xaxis\":\"x\",\"y\":[10.39,10.3,9.37,9.54,9.88,11.43,11.92,12.41,14.36,10.81,12.1,13.43,12.61,12.28,11.85,9.42,8.51,9.11,9.63,9.09,7.63,8.93,10.48],\"yaxis\":\"y\",\"type\":\"scattergl\"},{\"hovertemplate\":\"State=AZ\\u003cbr\\u003eYear=%{x}\\u003cbr\\u003eExp_GDP_%=%{y}\\u003cextra\\u003e\\u003c\\u002fextra\\u003e\",\"legendgroup\":\"AZ\",\"line\":{\"color\":\"#ab63fa\",\"dash\":\"solid\"},\"marker\":{\"symbol\":\"circle\"},\"mode\":\"lines\",\"name\":\"AZ\",\"showlegend\":true,\"x\":[2000,2001,2002,2003,2004,2005,2006,2007,2008,2009,2010,2011,2012,2013,2014,2015,2016,2017,2018,2019,2020,2021,2022],\"xaxis\":\"x\",\"y\":[6.41,6.17,5.78,6.14,6.68,7.31,7.67,7.71,8.58,7.13,8.11,9.04,8.77,8.58,8.24,6.94,6.24,6.37,6.7,6.28,5.27,5.9,6.93],\"yaxis\":\"y\",\"type\":\"scattergl\"},{\"hovertemplate\":\"State=CA\\u003cbr\\u003eYear=%{x}\\u003cbr\\u003eExp_GDP_%=%{y}\\u003cextra\\u003e\\u003c\\u002fextra\\u003e\",\"legendgroup\":\"CA\",\"line\":{\"color\":\"#FFA15A\",\"dash\":\"solid\"},\"marker\":{\"symbol\":\"circle\"},\"mode\":\"lines\",\"name\":\"CA\",\"showlegend\":true,\"x\":[2000,2001,2002,2003,2004,2005,2006,2007,2008,2009,2010,2011,2012,2013,2014,2015,2016,2017,2018,2019,2020,2021,2022],\"xaxis\":\"x\",\"y\":[5.04,5.32,4.91,5.22,5.67,6.1,6.39,6.37,6.91,5.56,6.0,6.62,6.38,6.11,5.81,4.83,4.3,4.5,4.74,4.55,3.74,4.42,5.49],\"yaxis\":\"y\",\"type\":\"scattergl\"},{\"hovertemplate\":\"State=CO\\u003cbr\\u003eYear=%{x}\\u003cbr\\u003eExp_GDP_%=%{y}\\u003cextra\\u003e\\u003c\\u002fextra\\u003e\",\"legendgroup\":\"CO\",\"line\":{\"color\":\"#19d3f3\",\"dash\":\"solid\"},\"marker\":{\"symbol\":\"circle\"},\"mode\":\"lines\",\"name\":\"CO\",\"showlegend\":true,\"x\":[2000,2001,2002,2003,2004,2005,2006,2007,2008,2009,2010,2011,2012,2013,2014,2015,2016,2017,2018,2019,2020,2021,2022],\"xaxis\":\"x\",\"y\":[4.83,5.36,4.63,5.08,5.8,6.64,7.0,6.85,7.59,5.87,6.65,7.31,7.07,6.83,6.61,5.11,4.57,4.73,5.0,4.71,3.88,4.61,5.77],\"yaxis\":\"y\",\"type\":\"scattergl\"},{\"hovertemplate\":\"State=CT\\u003cbr\\u003eYear=%{x}\\u003cbr\\u003eExp_GDP_%=%{y}\\u003cextra\\u003e\\u003c\\u002fextra\\u003e\",\"legendgroup\":\"CT\",\"line\":{\"color\":\"#FF6692\",\"dash\":\"solid\"},\"marker\":{\"symbol\":\"circle\"},\"mode\":\"lines\",\"name\":\"CT\",\"showlegend\":true,\"x\":[2000,2001,2002,2003,2004,2005,2006,2007,2008,2009,2010,2011,2012,2013,2014,2015,2016,2017,2018,2019,2020,2021,2022],\"xaxis\":\"x\",\"y\":[4.83,4.65,4.38,5.19,5.44,6.08,6.24,6.51,6.87,5.77,6.12,6.7,6.33,6.37,6.31,5.04,4.44,4.59,5.07,4.76,4.18,4.63,5.68],\"yaxis\":\"y\",\"type\":\"scattergl\"},{\"hovertemplate\":\"State=DC\\u003cbr\\u003eYear=%{x}\\u003cbr\\u003eExp_GDP_%=%{y}\\u003cextra\\u003e\\u003c\\u002fextra\\u003e\",\"legendgroup\":\"DC\",\"line\":{\"color\":\"#B6E880\",\"dash\":\"solid\"},\"marker\":{\"symbol\":\"circle\"},\"mode\":\"lines\",\"name\":\"DC\",\"showlegend\":true,\"x\":[2000,2001,2002,2003,2004,2005,2006,2007,2008,2009,2010,2011,2012,2013,2014,2015,2016,2017,2018,2019,2020,2021,2022],\"xaxis\":\"x\",\"y\":[2.46,2.31,2.12,2.13,2.13,2.36,2.45,2.52,2.51,2.33,2.34,2.22,1.96,1.93,1.94,1.72,1.53,1.47,1.52,1.46,1.2,1.35,1.56],\"yaxis\":\"y\",\"type\":\"scattergl\"},{\"hovertemplate\":\"State=DE\\u003cbr\\u003eYear=%{x}\\u003cbr\\u003eExp_GDP_%=%{y}\\u003cextra\\u003e\\u003c\\u002fextra\\u003e\",\"legendgroup\":\"DE\",\"line\":{\"color\":\"#FF97FF\",\"dash\":\"solid\"},\"marker\":{\"symbol\":\"circle\"},\"mode\":\"lines\",\"name\":\"DE\",\"showlegend\":true,\"x\":[2000,2001,2002,2003,2004,2005,2006,2007,2008,2009,2010,2011,2012,2013,2014,2015,2016,2017,2018,2019,2020,2021,2022],\"xaxis\":\"x\",\"y\":[4.44,4.22,4.39,4.6,4.72,5.64,6.16,6.43,7.47,6.17,6.61,6.97,6.82,6.41,5.82,4.82,4.55,4.97,5.32,4.82,4.01,4.64,5.34],\"yaxis\":\"y\",\"type\":\"scattergl\"},{\"hovertemplate\":\"State=FL\\u003cbr\\u003eYear=%{x}\\u003cbr\\u003eExp_GDP_%=%{y}\\u003cextra\\u003e\\u003c\\u002fextra\\u003e\",\"legendgroup\":\"FL\",\"line\":{\"color\":\"#FECB52\",\"dash\":\"solid\"},\"marker\":{\"symbol\":\"circle\"},\"mode\":\"lines\",\"name\":\"FL\",\"showlegend\":true,\"x\":[2000,2001,2002,2003,2004,2005,2006,2007,2008,2009,2010,2011,2012,2013,2014,2015,2016,2017,2018,2019,2020,2021,2022],\"xaxis\":\"x\",\"y\":[6.17,6.06,5.59,5.91,6.36,7.09,7.84,7.74,8.79,7.37,8.07,9.02,8.66,8.29,7.97,6.28,5.54,5.8,6.06,5.56,4.52,5.16,6.2],\"yaxis\":\"y\",\"type\":\"scattergl\"},{\"hovertemplate\":\"State=GA\\u003cbr\\u003eYear=%{x}\\u003cbr\\u003eExp_GDP_%=%{y}\\u003cextra\\u003e\\u003c\\u002fextra\\u003e\",\"legendgroup\":\"GA\",\"line\":{\"color\":\"#636efa\",\"dash\":\"solid\"},\"marker\":{\"symbol\":\"circle\"},\"mode\":\"lines\",\"name\":\"GA\",\"showlegend\":true,\"x\":[2000,2001,2002,2003,2004,2005,2006,2007,2008,2009,2010,2011,2012,2013,2014,2015,2016,2017,2018,2019,2020,2021,2022],\"xaxis\":\"x\",\"y\":[6.44,6.13,5.9,6.31,7.0,8.33,8.45,8.46,9.73,7.84,9.09,10.06,9.27,9.13,8.63,6.65,5.83,6.09,6.15,5.66,4.87,5.5,6.64],\"yaxis\":\"y\",\"type\":\"scattergl\"},{\"hovertemplate\":\"State=HI\\u003cbr\\u003eYear=%{x}\\u003cbr\\u003eExp_GDP_%=%{y}\\u003cextra\\u003e\\u003c\\u002fextra\\u003e\",\"legendgroup\":\"HI\",\"line\":{\"color\":\"#EF553B\",\"dash\":\"solid\"},\"marker\":{\"symbol\":\"circle\"},\"mode\":\"lines\",\"name\":\"HI\",\"showlegend\":true,\"x\":[2000,2001,2002,2003,2004,2005,2006,2007,2008,2009,2010,2011,2012,2013,2014,2015,2016,2017,2018,2019,2020,2021,2022],\"xaxis\":\"x\",\"y\":[6.58,6.54,5.98,6.89,7.65,8.73,9.42,9.64,10.42,7.45,9.29,11.73,11.57,11.01,10.09,7.26,6.19,6.69,7.52,7.21,5.55,6.82,9.19],\"yaxis\":\"y\",\"type\":\"scattergl\"},{\"hovertemplate\":\"State=IA\\u003cbr\\u003eYear=%{x}\\u003cbr\\u003eExp_GDP_%=%{y}\\u003cextra\\u003e\\u003c\\u002fextra\\u003e\",\"legendgroup\":\"IA\",\"line\":{\"color\":\"#00cc96\",\"dash\":\"solid\"},\"marker\":{\"symbol\":\"circle\"},\"mode\":\"lines\",\"name\":\"IA\",\"showlegend\":true,\"x\":[2000,2001,2002,2003,2004,2005,2006,2007,2008,2009,2010,2011,2012,2013,2014,2015,2016,2017,2018,2019,2020,2021,2022],\"xaxis\":\"x\",\"y\":[8.79,8.62,7.84,8.08,8.54,9.98,10.61,10.66,12.52,9.77,10.34,11.4,10.1,10.34,10.05,7.39,6.9,7.46,8.13,7.65,6.44,7.58,9.3],\"yaxis\":\"y\",\"type\":\"scattergl\"},{\"hovertemplate\":\"State=ID\\u003cbr\\u003eYear=%{x}\\u003cbr\\u003eExp_GDP_%=%{y}\\u003cextra\\u003e\\u003c\\u002fextra\\u003e\",\"legendgroup\":\"ID\",\"line\":{\"color\":\"#ab63fa\",\"dash\":\"solid\"},\"marker\":{\"symbol\":\"circle\"},\"mode\":\"lines\",\"name\":\"ID\",\"showlegend\":true,\"x\":[2000,2001,2002,2003,2004,2005,2006,2007,2008,2009,2010,2011,2012,2013,2014,2015,2016,2017,2018,2019,2020,2021,2022],\"xaxis\":\"x\",\"y\":[8.18,8.43,8.24,7.82,8.36,9.28,9.93,10.12,10.85,9.03,10.3,11.69,11.73,11.45,11.08,9.28,8.26,8.69,8.79,7.99,6.74,7.77,8.85],\"yaxis\":\"y\",\"type\":\"scattergl\"},{\"hovertemplate\":\"State=IL\\u003cbr\\u003eYear=%{x}\\u003cbr\\u003eExp_GDP_%=%{y}\\u003cextra\\u003e\\u003c\\u002fextra\\u003e\",\"legendgroup\":\"IL\",\"line\":{\"color\":\"#FFA15A\",\"dash\":\"solid\"},\"marker\":{\"symbol\":\"circle\"},\"mode\":\"lines\",\"name\":\"IL\",\"showlegend\":true,\"x\":[2000,2001,2002,2003,2004,2005,2006,2007,2008,2009,2010,2011,2012,2013,2014,2015,2016,2017,2018,2019,2020,2021,2022],\"xaxis\":\"x\",\"y\":[5.94,5.83,5.25,5.71,6.0,7.03,6.83,7.3,8.43,6.3,6.81,7.35,6.57,6.56,6.69,5.07,4.62,4.9,5.18,4.75,3.97,4.79,5.92],\"yaxis\":\"y\",\"type\":\"scattergl\"},{\"hovertemplate\":\"State=IN\\u003cbr\\u003eYear=%{x}\\u003cbr\\u003eExp_GDP_%=%{y}\\u003cextra\\u003e\\u003c\\u002fextra\\u003e\",\"legendgroup\":\"IN\",\"line\":{\"color\":\"#19d3f3\",\"dash\":\"solid\"},\"marker\":{\"symbol\":\"circle\"},\"mode\":\"lines\",\"name\":\"IN\",\"showlegend\":true,\"x\":[2000,2001,2002,2003,2004,2005,2006,2007,2008,2009,2010,2011,2012,2013,2014,2015,2016,2017,2018,2019,2020,2021,2022],\"xaxis\":\"x\",\"y\":[8.16,8.27,7.69,8.41,8.66,10.13,10.45,10.35,11.69,9.29,9.61,11.0,10.61,10.58,10.31,8.25,7.27,7.49,7.83,7.48,6.43,7.35,8.43],\"yaxis\":\"y\",\"type\":\"scattergl\"},{\"hovertemplate\":\"State=KS\\u003cbr\\u003eYear=%{x}\\u003cbr\\u003eExp_GDP_%=%{y}\\u003cextra\\u003e\\u003c\\u002fextra\\u003e\",\"legendgroup\":\"KS\",\"line\":{\"color\":\"#FF6692\",\"dash\":\"solid\"},\"marker\":{\"symbol\":\"circle\"},\"mode\":\"lines\",\"name\":\"KS\",\"showlegend\":true,\"x\":[2000,2001,2002,2003,2004,2005,2006,2007,2008,2009,2010,2011,2012,2013,2014,2015,2016,2017,2018,2019,2020,2021,2022],\"xaxis\":\"x\",\"y\":[8.44,7.93,7.21,8.36,8.89,8.83,9.23,10.18,10.42,8.18,8.99,9.66,9.24,9.51,9.65,7.22,6.49,6.73,7.26,6.79,5.78,6.61,8.24],\"yaxis\":\"y\",\"type\":\"scattergl\"},{\"hovertemplate\":\"State=KY\\u003cbr\\u003eYear=%{x}\\u003cbr\\u003eExp_GDP_%=%{y}\\u003cextra\\u003e\\u003c\\u002fextra\\u003e\",\"legendgroup\":\"KY\",\"line\":{\"color\":\"#B6E880\",\"dash\":\"solid\"},\"marker\":{\"symbol\":\"circle\"},\"mode\":\"lines\",\"name\":\"KY\",\"showlegend\":true,\"x\":[2000,2001,2002,2003,2004,2005,2006,2007,2008,2009,2010,2011,2012,2013,2014,2015,2016,2017,2018,2019,2020,2021,2022],\"xaxis\":\"x\",\"y\":[9.0,8.92,8.49,8.79,9.97,11.48,11.85,12.57,14.13,11.12,12.25,13.94,12.89,12.29,11.8,8.98,8.17,8.52,9.36,8.53,7.04,8.57,10.56],\"yaxis\":\"y\",\"type\":\"scattergl\"},{\"hovertemplate\":\"State=LA\\u003cbr\\u003eYear=%{x}\\u003cbr\\u003eExp_GDP_%=%{y}\\u003cextra\\u003e\\u003c\\u002fextra\\u003e\",\"legendgroup\":\"LA\",\"line\":{\"color\":\"#FF97FF\",\"dash\":\"solid\"},\"marker\":{\"symbol\":\"circle\"},\"mode\":\"lines\",\"name\":\"LA\",\"showlegend\":true,\"x\":[2000,2001,2002,2003,2004,2005,2006,2007,2008,2009,2010,2011,2012,2013,2014,2015,2016,2017,2018,2019,2020,2021,2022],\"xaxis\":\"x\",\"y\":[17.49,14.99,13.83,14.79,16.81,17.79,19.59,21.5,27.07,16.84,17.94,20.66,16.82,16.95,16.36,11.83,11.0,12.37,12.76,11.63,10.3,13.79,15.37],\"yaxis\":\"y\",\"type\":\"scattergl\"},{\"hovertemplate\":\"State=MA\\u003cbr\\u003eYear=%{x}\\u003cbr\\u003eExp_GDP_%=%{y}\\u003cextra\\u003e\\u003c\\u002fextra\\u003e\",\"legendgroup\":\"MA\",\"line\":{\"color\":\"#FECB52\",\"dash\":\"solid\"},\"marker\":{\"symbol\":\"circle\"},\"mode\":\"lines\",\"name\":\"MA\",\"showlegend\":true,\"x\":[2000,2001,2002,2003,2004,2005,2006,2007,2008,2009,2010,2011,2012,2013,2014,2015,2016,2017,2018,2019,2020,2021,2022],\"xaxis\":\"x\",\"y\":[5.02,5.36,4.73,5.23,5.48,6.33,6.78,6.82,7.53,5.84,6.05,6.56,6.07,6.2,5.99,4.84,4.19,4.41,4.85,4.39,3.55,3.94,4.89],\"yaxis\":\"y\",\"type\":\"scattergl\"},{\"hovertemplate\":\"State=MD\\u003cbr\\u003eYear=%{x}\\u003cbr\\u003eExp_GDP_%=%{y}\\u003cextra\\u003e\\u003c\\u002fextra\\u003e\",\"legendgroup\":\"MD\",\"line\":{\"color\":\"#636efa\",\"dash\":\"solid\"},\"marker\":{\"symbol\":\"circle\"},\"mode\":\"lines\",\"name\":\"MD\",\"showlegend\":true,\"x\":[2000,2001,2002,2003,2004,2005,2006,2007,2008,2009,2010,2011,2012,2013,2014,2015,2016,2017,2018,2019,2020,2021,2022],\"xaxis\":\"x\",\"y\":[5.88,5.47,4.97,5.49,5.8,6.66,7.09,7.54,8.25,6.75,6.92,7.25,6.92,6.86,6.68,5.36,4.63,4.75,4.97,4.65,3.86,4.43,5.16],\"yaxis\":\"y\",\"type\":\"scattergl\"},{\"hovertemplate\":\"State=ME\\u003cbr\\u003eYear=%{x}\\u003cbr\\u003eExp_GDP_%=%{y}\\u003cextra\\u003e\\u003c\\u002fextra\\u003e\",\"legendgroup\":\"ME\",\"line\":{\"color\":\"#EF553B\",\"dash\":\"solid\"},\"marker\":{\"symbol\":\"circle\"},\"mode\":\"lines\",\"name\":\"ME\",\"showlegend\":true,\"x\":[2000,2001,2002,2003,2004,2005,2006,2007,2008,2009,2010,2011,2012,2013,2014,2015,2016,2017,2018,2019,2020,2021,2022],\"xaxis\":\"x\",\"y\":[10.04,9.18,8.96,9.64,10.29,11.95,12.71,13.85,14.9,11.2,11.91,13.93,13.12,13.53,13.39,10.28,8.63,8.89,9.29,8.48,6.77,7.64,9.73],\"yaxis\":\"y\",\"type\":\"scattergl\"},{\"hovertemplate\":\"State=MI\\u003cbr\\u003eYear=%{x}\\u003cbr\\u003eExp_GDP_%=%{y}\\u003cextra\\u003e\\u003c\\u002fextra\\u003e\",\"legendgroup\":\"MI\",\"line\":{\"color\":\"#00cc96\",\"dash\":\"solid\"},\"marker\":{\"symbol\":\"circle\"},\"mode\":\"lines\",\"name\":\"MI\",\"showlegend\":true,\"x\":[2000,2001,2002,2003,2004,2005,2006,2007,2008,2009,2010,2011,2012,2013,2014,2015,2016,2017,2018,2019,2020,2021,2022],\"xaxis\":\"x\",\"y\":[6.31,6.24,6.09,6.41,6.89,7.98,8.56,8.79,9.96,8.42,8.85,9.77,9.23,9.27,8.97,6.89,6.26,6.48,6.91,6.48,5.49,6.37,7.39],\"yaxis\":\"y\",\"type\":\"scattergl\"},{\"hovertemplate\":\"State=MN\\u003cbr\\u003eYear=%{x}\\u003cbr\\u003eExp_GDP_%=%{y}\\u003cextra\\u003e\\u003c\\u002fextra\\u003e\",\"legendgroup\":\"MN\",\"line\":{\"color\":\"#ab63fa\",\"dash\":\"solid\"},\"marker\":{\"symbol\":\"circle\"},\"mode\":\"lines\",\"name\":\"MN\",\"showlegend\":true,\"x\":[2000,2001,2002,2003,2004,2005,2006,2007,2008,2009,2010,2011,2012,2013,2014,2015,2016,2017,2018,2019,2020,2021,2022],\"xaxis\":\"x\",\"y\":[6.35,6.31,5.71,6.17,6.54,7.46,7.86,8.33,9.17,7.02,7.61,8.44,8.04,8.07,7.92,5.87,5.39,5.79,6.12,5.73,4.66,5.49,6.69],\"yaxis\":\"y\",\"type\":\"scattergl\"},{\"hovertemplate\":\"State=MO\\u003cbr\\u003eYear=%{x}\\u003cbr\\u003eExp_GDP_%=%{y}\\u003cextra\\u003e\\u003c\\u002fextra\\u003e\",\"legendgroup\":\"MO\",\"line\":{\"color\":\"#FFA15A\",\"dash\":\"solid\"},\"marker\":{\"symbol\":\"circle\"},\"mode\":\"lines\",\"name\":\"MO\",\"showlegend\":true,\"x\":[2000,2001,2002,2003,2004,2005,2006,2007,2008,2009,2010,2011,2012,2013,2014,2015,2016,2017,2018,2019,2020,2021,2022],\"xaxis\":\"x\",\"y\":[7.07,7.25,6.6,7.01,7.48,8.65,9.08,9.52,10.04,7.88,8.79,10.07,9.46,9.38,9.2,7.24,6.56,6.86,7.42,6.73,5.64,6.51,7.71],\"yaxis\":\"y\",\"type\":\"scattergl\"},{\"hovertemplate\":\"State=MS\\u003cbr\\u003eYear=%{x}\\u003cbr\\u003eExp_GDP_%=%{y}\\u003cextra\\u003e\\u003c\\u002fextra\\u003e\",\"legendgroup\":\"MS\",\"line\":{\"color\":\"#19d3f3\",\"dash\":\"solid\"},\"marker\":{\"symbol\":\"circle\"},\"mode\":\"lines\",\"name\":\"MS\",\"showlegend\":true,\"x\":[2000,2001,2002,2003,2004,2005,2006,2007,2008,2009,2010,2011,2012,2013,2014,2015,2016,2017,2018,2019,2020,2021,2022],\"xaxis\":\"x\",\"y\":[11.5,11.17,10.41,11.14,12.07,13.73,14.87,14.57,16.28,12.51,13.61,15.03,14.4,14.17,14.19,11.36,10.15,10.77,11.58,10.85,9.11,10.59,12.57],\"yaxis\":\"y\",\"type\":\"scattergl\"},{\"hovertemplate\":\"State=MT\\u003cbr\\u003eYear=%{x}\\u003cbr\\u003eExp_GDP_%=%{y}\\u003cextra\\u003e\\u003c\\u002fextra\\u003e\",\"legendgroup\":\"MT\",\"line\":{\"color\":\"#FF6692\",\"dash\":\"solid\"},\"marker\":{\"symbol\":\"circle\"},\"mode\":\"lines\",\"name\":\"MT\",\"showlegend\":true,\"x\":[2000,2001,2002,2003,2004,2005,2006,2007,2008,2009,2010,2011,2012,2013,2014,2015,2016,2017,2018,2019,2020,2021,2022],\"xaxis\":\"x\",\"y\":[11.7,10.84,9.55,10.01,11.28,13.1,14.16,14.6,16.34,12.5,12.52,14.16,13.34,12.9,12.33,9.42,8.78,9.48,9.95,9.51,8.28,9.31,10.68],\"yaxis\":\"y\",\"type\":\"scattergl\"},{\"hovertemplate\":\"State=NC\\u003cbr\\u003eYear=%{x}\\u003cbr\\u003eExp_GDP_%=%{y}\\u003cextra\\u003e\\u003c\\u002fextra\\u003e\",\"legendgroup\":\"NC\",\"line\":{\"color\":\"#B6E880\",\"dash\":\"solid\"},\"marker\":{\"symbol\":\"circle\"},\"mode\":\"lines\",\"name\":\"NC\",\"showlegend\":true,\"x\":[2000,2001,2002,2003,2004,2005,2006,2007,2008,2009,2010,2011,2012,2013,2014,2015,2016,2017,2018,2019,2020,2021,2022],\"xaxis\":\"x\",\"y\":[6.87,6.57,6.16,6.55,7.06,7.88,7.75,8.01,8.81,6.97,8.12,8.8,8.43,8.26,7.97,6.25,5.67,5.79,6.21,5.77,4.79,5.5,6.43],\"yaxis\":\"y\",\"type\":\"scattergl\"},{\"hovertemplate\":\"State=ND\\u003cbr\\u003eYear=%{x}\\u003cbr\\u003eExp_GDP_%=%{y}\\u003cextra\\u003e\\u003c\\u002fextra\\u003e\",\"legendgroup\":\"ND\",\"line\":{\"color\":\"#FF97FF\",\"dash\":\"solid\"},\"marker\":{\"symbol\":\"circle\"},\"mode\":\"lines\",\"name\":\"ND\",\"showlegend\":true,\"x\":[2000,2001,2002,2003,2004,2005,2006,2007,2008,2009,2010,2011,2012,2013,2014,2015,2016,2017,2018,2019,2020,2021,2022],\"xaxis\":\"x\",\"y\":[10.88,11.43,9.53,9.51,10.93,12.71,12.89,13.63,14.6,10.56,12.27,15.38,13.38,13.95,13.45,9.75,8.77,9.54,10.26,9.89,8.68,9.68,11.27],\"yaxis\":\"y\",\"type\":\"scattergl\"},{\"hovertemplate\":\"State=NE\\u003cbr\\u003eYear=%{x}\\u003cbr\\u003eExp_GDP_%=%{y}\\u003cextra\\u003e\\u003c\\u002fextra\\u003e\",\"legendgroup\":\"NE\",\"line\":{\"color\":\"#FECB52\",\"dash\":\"solid\"},\"marker\":{\"symbol\":\"circle\"},\"mode\":\"lines\",\"name\":\"NE\",\"showlegend\":true,\"x\":[2000,2001,2002,2003,2004,2005,2006,2007,2008,2009,2010,2011,2012,2013,2014,2015,2016,2017,2018,2019,2020,2021,2022],\"xaxis\":\"x\",\"y\":[7.74,7.47,6.82,7.14,7.67,8.61,9.1,9.44,10.57,8.23,9.56,9.99,9.88,9.62,9.18,6.96,6.33,6.71,7.21,6.71,5.66,6.46,7.71],\"yaxis\":\"y\",\"type\":\"scattergl\"},{\"hovertemplate\":\"State=NH\\u003cbr\\u003eYear=%{x}\\u003cbr\\u003eExp_GDP_%=%{y}\\u003cextra\\u003e\\u003c\\u002fextra\\u003e\",\"legendgroup\":\"NH\",\"line\":{\"color\":\"#636efa\",\"dash\":\"solid\"},\"marker\":{\"symbol\":\"circle\"},\"mode\":\"lines\",\"name\":\"NH\",\"showlegend\":true,\"x\":[2000,2001,2002,2003,2004,2005,2006,2007,2008,2009,2010,2011,2012,2013,2014,2015,2016,2017,2018,2019,2020,2021,2022],\"xaxis\":\"x\",\"y\":[6.88,6.51,6.05,6.7,7.24,8.09,8.3,8.61,9.73,7.78,8.11,9.26,8.75,8.67,8.77,6.83,5.92,6.39,6.97,6.34,5.21,5.72,7.28],\"yaxis\":\"y\",\"type\":\"scattergl\"},{\"hovertemplate\":\"State=NJ\\u003cbr\\u003eYear=%{x}\\u003cbr\\u003eExp_GDP_%=%{y}\\u003cextra\\u003e\\u003c\\u002fextra\\u003e\",\"legendgroup\":\"NJ\",\"line\":{\"color\":\"#EF553B\",\"dash\":\"solid\"},\"marker\":{\"symbol\":\"circle\"},\"mode\":\"lines\",\"name\":\"NJ\",\"showlegend\":true,\"x\":[2000,2001,2002,2003,2004,2005,2006,2007,2008,2009,2010,2011,2012,2013,2014,2015,2016,2017,2018,2019,2020,2021,2022],\"xaxis\":\"x\",\"y\":[5.66,5.36,4.96,5.49,6.3,7.1,7.5,8.01,9.06,6.87,7.22,8.05,7.3,7.03,6.84,5.26,4.72,4.92,5.22,4.75,3.95,4.48,5.3],\"yaxis\":\"y\",\"type\":\"scattergl\"},{\"hovertemplate\":\"State=NM\\u003cbr\\u003eYear=%{x}\\u003cbr\\u003eExp_GDP_%=%{y}\\u003cextra\\u003e\\u003c\\u002fextra\\u003e\",\"legendgroup\":\"NM\",\"line\":{\"color\":\"#00cc96\",\"dash\":\"solid\"},\"marker\":{\"symbol\":\"circle\"},\"mode\":\"lines\",\"name\":\"NM\",\"showlegend\":true,\"x\":[2000,2001,2002,2003,2004,2005,2006,2007,2008,2009,2010,2011,2012,2013,2014,2015,2016,2017,2018,2019,2020,2021,2022],\"xaxis\":\"x\",\"y\":[7.32,7.6,6.77,7.09,7.37,8.64,9.21,9.69,10.06,7.66,8.6,10.23,10.26,10.22,9.96,7.97,7.16,7.88,8.35,7.65,6.71,8.17,9.36],\"yaxis\":\"y\",\"type\":\"scattergl\"},{\"hovertemplate\":\"State=NV\\u003cbr\\u003eYear=%{x}\\u003cbr\\u003eExp_GDP_%=%{y}\\u003cextra\\u003e\\u003c\\u002fextra\\u003e\",\"legendgroup\":\"NV\",\"line\":{\"color\":\"#ab63fa\",\"dash\":\"solid\"},\"marker\":{\"symbol\":\"circle\"},\"mode\":\"lines\",\"name\":\"NV\",\"showlegend\":true,\"x\":[2000,2001,2002,2003,2004,2005,2006,2007,2008,2009,2010,2011,2012,2013,2014,2015,2016,2017,2018,2019,2020,2021,2022],\"xaxis\":\"x\",\"y\":[6.13,6.46,6.2,6.36,6.78,7.25,7.87,7.98,8.51,7.26,8.16,8.62,8.62,8.46,8.41,6.63,5.71,6.04,6.46,6.02,4.99,5.64,7.24],\"yaxis\":\"y\",\"type\":\"scattergl\"},{\"hovertemplate\":\"State=NY\\u003cbr\\u003eYear=%{x}\\u003cbr\\u003eExp_GDP_%=%{y}\\u003cextra\\u003e\\u003c\\u002fextra\\u003e\",\"legendgroup\":\"NY\",\"line\":{\"color\":\"#FFA15A\",\"dash\":\"solid\"},\"marker\":{\"symbol\":\"circle\"},\"mode\":\"lines\",\"name\":\"NY\",\"showlegend\":true,\"x\":[2000,2001,2002,2003,2004,2005,2006,2007,2008,2009,2010,2011,2012,2013,2014,2015,2016,2017,2018,2019,2020,2021,2022],\"xaxis\":\"x\",\"y\":[4.67,4.53,4.13,4.77,5.03,5.57,5.5,5.67,6.47,4.85,5.29,5.59,5.09,4.99,4.89,3.79,3.27,3.4,3.64,3.27,2.72,3.15,3.94],\"yaxis\":\"y\",\"type\":\"scattergl\"},{\"hovertemplate\":\"State=OH\\u003cbr\\u003eYear=%{x}\\u003cbr\\u003eExp_GDP_%=%{y}\\u003cextra\\u003e\\u003c\\u002fextra\\u003e\",\"legendgroup\":\"OH\",\"line\":{\"color\":\"#19d3f3\",\"dash\":\"solid\"},\"marker\":{\"symbol\":\"circle\"},\"mode\":\"lines\",\"name\":\"OH\",\"showlegend\":true,\"x\":[2000,2001,2002,2003,2004,2005,2006,2007,2008,2009,2010,2011,2012,2013,2014,2015,2016,2017,2018,2019,2020,2021,2022],\"xaxis\":\"x\",\"y\":[7.5,7.34,6.69,7.32,7.72,8.8,9.22,9.57,10.73,8.42,8.82,9.4,8.85,8.58,8.42,6.65,6.0,6.13,6.55,5.96,5.05,5.85,6.88],\"yaxis\":\"y\",\"type\":\"scattergl\"},{\"hovertemplate\":\"State=OK\\u003cbr\\u003eYear=%{x}\\u003cbr\\u003eExp_GDP_%=%{y}\\u003cextra\\u003e\\u003c\\u002fextra\\u003e\",\"legendgroup\":\"OK\",\"line\":{\"color\":\"#FF6692\",\"dash\":\"solid\"},\"marker\":{\"symbol\":\"circle\"},\"mode\":\"lines\",\"name\":\"OK\",\"showlegend\":true,\"x\":[2000,2001,2002,2003,2004,2005,2006,2007,2008,2009,2010,2011,2012,2013,2014,2015,2016,2017,2018,2019,2020,2021,2022],\"xaxis\":\"x\",\"y\":[10.14,10.17,8.82,9.58,9.9,11.31,11.8,11.64,12.73,10.18,10.94,11.59,11.18,10.48,10.35,8.51,7.63,8.02,8.33,7.82,6.79,8.14,10.15],\"yaxis\":\"y\",\"type\":\"scattergl\"},{\"hovertemplate\":\"State=OR\\u003cbr\\u003eYear=%{x}\\u003cbr\\u003eExp_GDP_%=%{y}\\u003cextra\\u003e\\u003c\\u002fextra\\u003e\",\"legendgroup\":\"OR\",\"line\":{\"color\":\"#B6E880\",\"dash\":\"solid\"},\"marker\":{\"symbol\":\"circle\"},\"mode\":\"lines\",\"name\":\"OR\",\"showlegend\":true,\"x\":[2000,2001,2002,2003,2004,2005,2006,2007,2008,2009,2010,2011,2012,2013,2014,2015,2016,2017,2018,2019,2020,2021,2022],\"xaxis\":\"x\",\"y\":[6.48,6.31,6.35,6.28,6.66,7.47,7.95,8.24,9.01,7.55,7.79,8.72,8.57,8.29,7.88,6.32,5.57,5.8,5.97,5.67,4.79,5.5,6.55],\"yaxis\":\"y\",\"type\":\"scattergl\"},{\"hovertemplate\":\"State=PA\\u003cbr\\u003eYear=%{x}\\u003cbr\\u003eExp_GDP_%=%{y}\\u003cextra\\u003e\\u003c\\u002fextra\\u003e\",\"legendgroup\":\"PA\",\"line\":{\"color\":\"#FF97FF\",\"dash\":\"solid\"},\"marker\":{\"symbol\":\"circle\"},\"mode\":\"lines\",\"name\":\"PA\",\"showlegend\":true,\"x\":[2000,2001,2002,2003,2004,2005,2006,2007,2008,2009,2010,2011,2012,2013,2014,2015,2016,2017,2018,2019,2020,2021,2022],\"xaxis\":\"x\",\"y\":[7.07,6.97,6.5,6.96,7.36,8.3,8.73,8.66,9.64,7.46,8.05,8.93,8.37,8.15,8.04,6.27,5.44,5.76,6.15,5.7,4.83,5.53,6.9],\"yaxis\":\"y\",\"type\":\"scattergl\"},{\"hovertemplate\":\"State=RI\\u003cbr\\u003eYear=%{x}\\u003cbr\\u003eExp_GDP_%=%{y}\\u003cextra\\u003e\\u003c\\u002fextra\\u003e\",\"legendgroup\":\"RI\",\"line\":{\"color\":\"#FECB52\",\"dash\":\"solid\"},\"marker\":{\"symbol\":\"circle\"},\"mode\":\"lines\",\"name\":\"RI\",\"showlegend\":true,\"x\":[2000,2001,2002,2003,2004,2005,2006,2007,2008,2009,2010,2011,2012,2013,2014,2015,2016,2017,2018,2019,2020,2021,2022],\"xaxis\":\"x\",\"y\":[6.27,6.42,5.36,6.03,6.2,6.98,7.37,7.49,8.75,7.21,7.46,7.78,7.43,7.53,7.72,6.32,5.23,5.47,6.46,5.83,5.07,5.58,6.49],\"yaxis\":\"y\",\"type\":\"scattergl\"},{\"hovertemplate\":\"State=SC\\u003cbr\\u003eYear=%{x}\\u003cbr\\u003eExp_GDP_%=%{y}\\u003cextra\\u003e\\u003c\\u002fextra\\u003e\",\"legendgroup\":\"SC\",\"line\":{\"color\":\"#636efa\",\"dash\":\"solid\"},\"marker\":{\"symbol\":\"circle\"},\"mode\":\"lines\",\"name\":\"SC\",\"showlegend\":true,\"x\":[2000,2001,2002,2003,2004,2005,2006,2007,2008,2009,2010,2011,2012,2013,2014,2015,2016,2017,2018,2019,2020,2021,2022],\"xaxis\":\"x\",\"y\":[8.79,8.33,7.99,8.38,9.64,10.71,11.05,10.9,12.54,10.07,11.38,12.4,11.83,11.71,11.31,8.96,8.16,8.43,8.59,7.95,6.68,7.72,8.8],\"yaxis\":\"y\",\"type\":\"scattergl\"},{\"hovertemplate\":\"State=SD\\u003cbr\\u003eYear=%{x}\\u003cbr\\u003eExp_GDP_%=%{y}\\u003cextra\\u003e\\u003c\\u002fextra\\u003e\",\"legendgroup\":\"SD\",\"line\":{\"color\":\"#EF553B\",\"dash\":\"solid\"},\"marker\":{\"symbol\":\"circle\"},\"mode\":\"lines\",\"name\":\"SD\",\"showlegend\":true,\"x\":[2000,2001,2002,2003,2004,2005,2006,2007,2008,2009,2010,2011,2012,2013,2014,2015,2016,2017,2018,2019,2020,2021,2022],\"xaxis\":\"x\",\"y\":[8.56,8.15,7.26,7.64,8.02,9.36,9.79,10.25,11.43,9.27,10.17,10.96,10.81,10.48,10.34,7.9,7.07,7.49,8.09,7.58,6.63,7.6,8.81],\"yaxis\":\"y\",\"type\":\"scattergl\"},{\"hovertemplate\":\"State=TN\\u003cbr\\u003eYear=%{x}\\u003cbr\\u003eExp_GDP_%=%{y}\\u003cextra\\u003e\\u003c\\u002fextra\\u003e\",\"legendgroup\":\"TN\",\"line\":{\"color\":\"#00cc96\",\"dash\":\"solid\"},\"marker\":{\"symbol\":\"circle\"},\"mode\":\"lines\",\"name\":\"TN\",\"showlegend\":true,\"x\":[2000,2001,2002,2003,2004,2005,2006,2007,2008,2009,2010,2011,2012,2013,2014,2015,2016,2017,2018,2019,2020,2021,2022],\"xaxis\":\"x\",\"y\":[7.55,7.5,7.08,7.45,7.93,9.3,9.79,10.11,11.38,8.71,9.89,11.0,10.02,9.76,9.64,7.34,6.6,6.71,7.24,6.73,5.49,6.36,7.49],\"yaxis\":\"y\",\"type\":\"scattergl\"},{\"hovertemplate\":\"State=TX\\u003cbr\\u003eYear=%{x}\\u003cbr\\u003eExp_GDP_%=%{y}\\u003cextra\\u003e\\u003c\\u002fextra\\u003e\",\"legendgroup\":\"TX\",\"line\":{\"color\":\"#ab63fa\",\"dash\":\"solid\"},\"marker\":{\"symbol\":\"circle\"},\"mode\":\"lines\",\"name\":\"TX\",\"showlegend\":true,\"x\":[2000,2001,2002,2003,2004,2005,2006,2007,2008,2009,2010,2011,2012,2013,2014,2015,2016,2017,2018,2019,2020,2021,2022],\"xaxis\":\"x\",\"y\":[10.05,9.5,8.63,9.89,10.66,11.76,12.27,11.85,12.87,9.43,10.84,11.99,10.66,10.37,10.06,7.52,6.98,7.51,8.19,7.37,6.0,7.7,8.44],\"yaxis\":\"y\",\"type\":\"scattergl\"},{\"hovertemplate\":\"State=UT\\u003cbr\\u003eYear=%{x}\\u003cbr\\u003eExp_GDP_%=%{y}\\u003cextra\\u003e\\u003c\\u002fextra\\u003e\",\"legendgroup\":\"UT\",\"line\":{\"color\":\"#FFA15A\",\"dash\":\"solid\"},\"marker\":{\"symbol\":\"circle\"},\"mode\":\"lines\",\"name\":\"UT\",\"showlegend\":true,\"x\":[2000,2001,2002,2003,2004,2005,2006,2007,2008,2009,2010,2011,2012,2013,2014,2015,2016,2017,2018,2019,2020,2021,2022],\"xaxis\":\"x\",\"y\":[6.44,6.22,5.55,6.02,6.52,7.31,7.77,7.55,8.33,6.52,7.11,8.43,8.2,8.08,7.61,5.94,5.27,5.39,5.59,4.99,4.24,4.8,5.8],\"yaxis\":\"y\",\"type\":\"scattergl\"},{\"hovertemplate\":\"State=VA\\u003cbr\\u003eYear=%{x}\\u003cbr\\u003eExp_GDP_%=%{y}\\u003cextra\\u003e\\u003c\\u002fextra\\u003e\",\"legendgroup\":\"VA\",\"line\":{\"color\":\"#19d3f3\",\"dash\":\"solid\"},\"marker\":{\"symbol\":\"circle\"},\"mode\":\"lines\",\"name\":\"VA\",\"showlegend\":true,\"x\":[2000,2001,2002,2003,2004,2005,2006,2007,2008,2009,2010,2011,2012,2013,2014,2015,2016,2017,2018,2019,2020,2021,2022],\"xaxis\":\"x\",\"y\":[6.03,5.64,5.32,5.76,6.34,7.25,7.4,7.63,8.48,6.5,7.21,7.93,7.81,7.6,7.58,5.86,5.27,5.52,5.99,5.56,4.53,5.25,6.4],\"yaxis\":\"y\",\"type\":\"scattergl\"},{\"hovertemplate\":\"State=VT\\u003cbr\\u003eYear=%{x}\\u003cbr\\u003eExp_GDP_%=%{y}\\u003cextra\\u003e\\u003c\\u002fextra\\u003e\",\"legendgroup\":\"VT\",\"line\":{\"color\":\"#FF6692\",\"dash\":\"solid\"},\"marker\":{\"symbol\":\"circle\"},\"mode\":\"lines\",\"name\":\"VT\",\"showlegend\":true,\"x\":[2000,2001,2002,2003,2004,2005,2006,2007,2008,2009,2010,2011,2012,2013,2014,2015,2016,2017,2018,2019,2020,2021,2022],\"xaxis\":\"x\",\"y\":[8.72,8.41,7.67,7.86,8.65,9.67,10.34,10.88,11.44,9.73,10.17,11.39,10.96,11.24,10.89,8.65,7.55,7.93,8.48,7.91,6.73,7.47,8.77],\"yaxis\":\"y\",\"type\":\"scattergl\"},{\"hovertemplate\":\"State=WA\\u003cbr\\u003eYear=%{x}\\u003cbr\\u003eExp_GDP_%=%{y}\\u003cextra\\u003e\\u003c\\u002fextra\\u003e\",\"legendgroup\":\"WA\",\"line\":{\"color\":\"#B6E880\",\"dash\":\"solid\"},\"marker\":{\"symbol\":\"circle\"},\"mode\":\"lines\",\"name\":\"WA\",\"showlegend\":true,\"x\":[2000,2001,2002,2003,2004,2005,2006,2007,2008,2009,2010,2011,2012,2013,2014,2015,2016,2017,2018,2019,2020,2021,2022],\"xaxis\":\"x\",\"y\":[5.45,5.41,4.98,5.25,5.78,6.25,6.74,6.74,7.48,6.0,6.13,7.08,6.75,6.35,5.84,4.68,4.31,4.49,4.55,4.24,3.21,3.76,4.62],\"yaxis\":\"y\",\"type\":\"scattergl\"},{\"hovertemplate\":\"State=WI\\u003cbr\\u003eYear=%{x}\\u003cbr\\u003eExp_GDP_%=%{y}\\u003cextra\\u003e\\u003c\\u002fextra\\u003e\",\"legendgroup\":\"WI\",\"line\":{\"color\":\"#FF97FF\",\"dash\":\"solid\"},\"marker\":{\"symbol\":\"circle\"},\"mode\":\"lines\",\"name\":\"WI\",\"showlegend\":true,\"x\":[2000,2001,2002,2003,2004,2005,2006,2007,2008,2009,2010,2011,2012,2013,2014,2015,2016,2017,2018,2019,2020,2021,2022],\"xaxis\":\"x\",\"y\":[6.99,6.97,6.47,7.0,7.41,8.47,8.7,9.1,10.17,7.87,8.46,9.29,8.76,8.77,8.94,6.74,6.07,6.38,6.81,6.32,5.38,6.47,7.71],\"yaxis\":\"y\",\"type\":\"scattergl\"},{\"hovertemplate\":\"State=WV\\u003cbr\\u003eYear=%{x}\\u003cbr\\u003eExp_GDP_%=%{y}\\u003cextra\\u003e\\u003c\\u002fextra\\u003e\",\"legendgroup\":\"WV\",\"line\":{\"color\":\"#FECB52\",\"dash\":\"solid\"},\"marker\":{\"symbol\":\"circle\"},\"mode\":\"lines\",\"name\":\"WV\",\"showlegend\":true,\"x\":[2000,2001,2002,2003,2004,2005,2006,2007,2008,2009,2010,2011,2012,2013,2014,2015,2016,2017,2018,2019,2020,2021,2022],\"xaxis\":\"x\",\"y\":[10.14,9.75,9.41,9.89,10.8,11.87,12.31,12.76,13.77,10.67,12.37,13.51,13.05,12.79,12.35,10.11,10.03,9.91,10.96,10.01,8.69,10.07,11.16],\"yaxis\":\"y\",\"type\":\"scattergl\"},{\"hovertemplate\":\"State=WY\\u003cbr\\u003eYear=%{x}\\u003cbr\\u003eExp_GDP_%=%{y}\\u003cextra\\u003e\\u003c\\u002fextra\\u003e\",\"legendgroup\":\"WY\",\"line\":{\"color\":\"#636efa\",\"dash\":\"solid\"},\"marker\":{\"symbol\":\"circle\"},\"mode\":\"lines\",\"name\":\"WY\",\"showlegend\":true,\"x\":[2000,2001,2002,2003,2004,2005,2006,2007,2008,2009,2010,2011,2012,2013,2014,2015,2016,2017,2018,2019,2020,2021,2022],\"xaxis\":\"x\",\"y\":[12.67,12.5,11.39,11.71,12.21,13.12,13.08,12.16,12.78,10.85,12.24,14.08,14.97,14.09,14.45,11.51,11.06,11.67,12.49,11.72,10.51,11.77,13.3],\"yaxis\":\"y\",\"type\":\"scattergl\"}],                        {\"template\":{\"data\":{\"histogram2dcontour\":[{\"type\":\"histogram2dcontour\",\"colorbar\":{\"outlinewidth\":0,\"ticks\":\"\"},\"colorscale\":[[0.0,\"#0d0887\"],[0.1111111111111111,\"#46039f\"],[0.2222222222222222,\"#7201a8\"],[0.3333333333333333,\"#9c179e\"],[0.4444444444444444,\"#bd3786\"],[0.5555555555555556,\"#d8576b\"],[0.6666666666666666,\"#ed7953\"],[0.7777777777777778,\"#fb9f3a\"],[0.8888888888888888,\"#fdca26\"],[1.0,\"#f0f921\"]]}],\"choropleth\":[{\"type\":\"choropleth\",\"colorbar\":{\"outlinewidth\":0,\"ticks\":\"\"}}],\"histogram2d\":[{\"type\":\"histogram2d\",\"colorbar\":{\"outlinewidth\":0,\"ticks\":\"\"},\"colorscale\":[[0.0,\"#0d0887\"],[0.1111111111111111,\"#46039f\"],[0.2222222222222222,\"#7201a8\"],[0.3333333333333333,\"#9c179e\"],[0.4444444444444444,\"#bd3786\"],[0.5555555555555556,\"#d8576b\"],[0.6666666666666666,\"#ed7953\"],[0.7777777777777778,\"#fb9f3a\"],[0.8888888888888888,\"#fdca26\"],[1.0,\"#f0f921\"]]}],\"heatmap\":[{\"type\":\"heatmap\",\"colorbar\":{\"outlinewidth\":0,\"ticks\":\"\"},\"colorscale\":[[0.0,\"#0d0887\"],[0.1111111111111111,\"#46039f\"],[0.2222222222222222,\"#7201a8\"],[0.3333333333333333,\"#9c179e\"],[0.4444444444444444,\"#bd3786\"],[0.5555555555555556,\"#d8576b\"],[0.6666666666666666,\"#ed7953\"],[0.7777777777777778,\"#fb9f3a\"],[0.8888888888888888,\"#fdca26\"],[1.0,\"#f0f921\"]]}],\"heatmapgl\":[{\"type\":\"heatmapgl\",\"colorbar\":{\"outlinewidth\":0,\"ticks\":\"\"},\"colorscale\":[[0.0,\"#0d0887\"],[0.1111111111111111,\"#46039f\"],[0.2222222222222222,\"#7201a8\"],[0.3333333333333333,\"#9c179e\"],[0.4444444444444444,\"#bd3786\"],[0.5555555555555556,\"#d8576b\"],[0.6666666666666666,\"#ed7953\"],[0.7777777777777778,\"#fb9f3a\"],[0.8888888888888888,\"#fdca26\"],[1.0,\"#f0f921\"]]}],\"contourcarpet\":[{\"type\":\"contourcarpet\",\"colorbar\":{\"outlinewidth\":0,\"ticks\":\"\"}}],\"contour\":[{\"type\":\"contour\",\"colorbar\":{\"outlinewidth\":0,\"ticks\":\"\"},\"colorscale\":[[0.0,\"#0d0887\"],[0.1111111111111111,\"#46039f\"],[0.2222222222222222,\"#7201a8\"],[0.3333333333333333,\"#9c179e\"],[0.4444444444444444,\"#bd3786\"],[0.5555555555555556,\"#d8576b\"],[0.6666666666666666,\"#ed7953\"],[0.7777777777777778,\"#fb9f3a\"],[0.8888888888888888,\"#fdca26\"],[1.0,\"#f0f921\"]]}],\"surface\":[{\"type\":\"surface\",\"colorbar\":{\"outlinewidth\":0,\"ticks\":\"\"},\"colorscale\":[[0.0,\"#0d0887\"],[0.1111111111111111,\"#46039f\"],[0.2222222222222222,\"#7201a8\"],[0.3333333333333333,\"#9c179e\"],[0.4444444444444444,\"#bd3786\"],[0.5555555555555556,\"#d8576b\"],[0.6666666666666666,\"#ed7953\"],[0.7777777777777778,\"#fb9f3a\"],[0.8888888888888888,\"#fdca26\"],[1.0,\"#f0f921\"]]}],\"mesh3d\":[{\"type\":\"mesh3d\",\"colorbar\":{\"outlinewidth\":0,\"ticks\":\"\"}}],\"scatter\":[{\"fillpattern\":{\"fillmode\":\"overlay\",\"size\":10,\"solidity\":0.2},\"type\":\"scatter\"}],\"parcoords\":[{\"type\":\"parcoords\",\"line\":{\"colorbar\":{\"outlinewidth\":0,\"ticks\":\"\"}}}],\"scatterpolargl\":[{\"type\":\"scatterpolargl\",\"marker\":{\"colorbar\":{\"outlinewidth\":0,\"ticks\":\"\"}}}],\"bar\":[{\"error_x\":{\"color\":\"#2a3f5f\"},\"error_y\":{\"color\":\"#2a3f5f\"},\"marker\":{\"line\":{\"color\":\"#E5ECF6\",\"width\":0.5},\"pattern\":{\"fillmode\":\"overlay\",\"size\":10,\"solidity\":0.2}},\"type\":\"bar\"}],\"scattergeo\":[{\"type\":\"scattergeo\",\"marker\":{\"colorbar\":{\"outlinewidth\":0,\"ticks\":\"\"}}}],\"scatterpolar\":[{\"type\":\"scatterpolar\",\"marker\":{\"colorbar\":{\"outlinewidth\":0,\"ticks\":\"\"}}}],\"histogram\":[{\"marker\":{\"pattern\":{\"fillmode\":\"overlay\",\"size\":10,\"solidity\":0.2}},\"type\":\"histogram\"}],\"scattergl\":[{\"type\":\"scattergl\",\"marker\":{\"colorbar\":{\"outlinewidth\":0,\"ticks\":\"\"}}}],\"scatter3d\":[{\"type\":\"scatter3d\",\"line\":{\"colorbar\":{\"outlinewidth\":0,\"ticks\":\"\"}},\"marker\":{\"colorbar\":{\"outlinewidth\":0,\"ticks\":\"\"}}}],\"scattermapbox\":[{\"type\":\"scattermapbox\",\"marker\":{\"colorbar\":{\"outlinewidth\":0,\"ticks\":\"\"}}}],\"scatterternary\":[{\"type\":\"scatterternary\",\"marker\":{\"colorbar\":{\"outlinewidth\":0,\"ticks\":\"\"}}}],\"scattercarpet\":[{\"type\":\"scattercarpet\",\"marker\":{\"colorbar\":{\"outlinewidth\":0,\"ticks\":\"\"}}}],\"carpet\":[{\"aaxis\":{\"endlinecolor\":\"#2a3f5f\",\"gridcolor\":\"white\",\"linecolor\":\"white\",\"minorgridcolor\":\"white\",\"startlinecolor\":\"#2a3f5f\"},\"baxis\":{\"endlinecolor\":\"#2a3f5f\",\"gridcolor\":\"white\",\"linecolor\":\"white\",\"minorgridcolor\":\"white\",\"startlinecolor\":\"#2a3f5f\"},\"type\":\"carpet\"}],\"table\":[{\"cells\":{\"fill\":{\"color\":\"#EBF0F8\"},\"line\":{\"color\":\"white\"}},\"header\":{\"fill\":{\"color\":\"#C8D4E3\"},\"line\":{\"color\":\"white\"}},\"type\":\"table\"}],\"barpolar\":[{\"marker\":{\"line\":{\"color\":\"#E5ECF6\",\"width\":0.5},\"pattern\":{\"fillmode\":\"overlay\",\"size\":10,\"solidity\":0.2}},\"type\":\"barpolar\"}],\"pie\":[{\"automargin\":true,\"type\":\"pie\"}]},\"layout\":{\"autotypenumbers\":\"strict\",\"colorway\":[\"#636efa\",\"#EF553B\",\"#00cc96\",\"#ab63fa\",\"#FFA15A\",\"#19d3f3\",\"#FF6692\",\"#B6E880\",\"#FF97FF\",\"#FECB52\"],\"font\":{\"color\":\"#2a3f5f\"},\"hovermode\":\"closest\",\"hoverlabel\":{\"align\":\"left\"},\"paper_bgcolor\":\"white\",\"plot_bgcolor\":\"#E5ECF6\",\"polar\":{\"bgcolor\":\"#E5ECF6\",\"angularaxis\":{\"gridcolor\":\"white\",\"linecolor\":\"white\",\"ticks\":\"\"},\"radialaxis\":{\"gridcolor\":\"white\",\"linecolor\":\"white\",\"ticks\":\"\"}},\"ternary\":{\"bgcolor\":\"#E5ECF6\",\"aaxis\":{\"gridcolor\":\"white\",\"linecolor\":\"white\",\"ticks\":\"\"},\"baxis\":{\"gridcolor\":\"white\",\"linecolor\":\"white\",\"ticks\":\"\"},\"caxis\":{\"gridcolor\":\"white\",\"linecolor\":\"white\",\"ticks\":\"\"}},\"coloraxis\":{\"colorbar\":{\"outlinewidth\":0,\"ticks\":\"\"}},\"colorscale\":{\"sequential\":[[0.0,\"#0d0887\"],[0.1111111111111111,\"#46039f\"],[0.2222222222222222,\"#7201a8\"],[0.3333333333333333,\"#9c179e\"],[0.4444444444444444,\"#bd3786\"],[0.5555555555555556,\"#d8576b\"],[0.6666666666666666,\"#ed7953\"],[0.7777777777777778,\"#fb9f3a\"],[0.8888888888888888,\"#fdca26\"],[1.0,\"#f0f921\"]],\"sequentialminus\":[[0.0,\"#0d0887\"],[0.1111111111111111,\"#46039f\"],[0.2222222222222222,\"#7201a8\"],[0.3333333333333333,\"#9c179e\"],[0.4444444444444444,\"#bd3786\"],[0.5555555555555556,\"#d8576b\"],[0.6666666666666666,\"#ed7953\"],[0.7777777777777778,\"#fb9f3a\"],[0.8888888888888888,\"#fdca26\"],[1.0,\"#f0f921\"]],\"diverging\":[[0,\"#8e0152\"],[0.1,\"#c51b7d\"],[0.2,\"#de77ae\"],[0.3,\"#f1b6da\"],[0.4,\"#fde0ef\"],[0.5,\"#f7f7f7\"],[0.6,\"#e6f5d0\"],[0.7,\"#b8e186\"],[0.8,\"#7fbc41\"],[0.9,\"#4d9221\"],[1,\"#276419\"]]},\"xaxis\":{\"gridcolor\":\"white\",\"linecolor\":\"white\",\"ticks\":\"\",\"title\":{\"standoff\":15},\"zerolinecolor\":\"white\",\"automargin\":true,\"zerolinewidth\":2},\"yaxis\":{\"gridcolor\":\"white\",\"linecolor\":\"white\",\"ticks\":\"\",\"title\":{\"standoff\":15},\"zerolinecolor\":\"white\",\"automargin\":true,\"zerolinewidth\":2},\"scene\":{\"xaxis\":{\"backgroundcolor\":\"#E5ECF6\",\"gridcolor\":\"white\",\"linecolor\":\"white\",\"showbackground\":true,\"ticks\":\"\",\"zerolinecolor\":\"white\",\"gridwidth\":2},\"yaxis\":{\"backgroundcolor\":\"#E5ECF6\",\"gridcolor\":\"white\",\"linecolor\":\"white\",\"showbackground\":true,\"ticks\":\"\",\"zerolinecolor\":\"white\",\"gridwidth\":2},\"zaxis\":{\"backgroundcolor\":\"#E5ECF6\",\"gridcolor\":\"white\",\"linecolor\":\"white\",\"showbackground\":true,\"ticks\":\"\",\"zerolinecolor\":\"white\",\"gridwidth\":2}},\"shapedefaults\":{\"line\":{\"color\":\"#2a3f5f\"}},\"annotationdefaults\":{\"arrowcolor\":\"#2a3f5f\",\"arrowhead\":0,\"arrowwidth\":1},\"geo\":{\"bgcolor\":\"white\",\"landcolor\":\"#E5ECF6\",\"subunitcolor\":\"white\",\"showland\":true,\"showlakes\":true,\"lakecolor\":\"white\"},\"title\":{\"x\":0.05},\"mapbox\":{\"style\":\"light\"}}},\"xaxis\":{\"anchor\":\"y\",\"domain\":[0.0,1.0],\"title\":{\"text\":\"Year\"}},\"yaxis\":{\"anchor\":\"x\",\"domain\":[0.0,1.0],\"title\":{\"text\":\"Exp_GDP_%\"}},\"legend\":{\"title\":{\"text\":\"State\"},\"tracegroupgap\":0},\"title\":{\"text\":\"Energy Expenditure as a % of GDP Trend in US from 2000-22\"}},                        {\"responsive\": true}                    ).then(function(){\n",
       "                            \n",
       "var gd = document.getElementById('0b812d1c-84a4-4f13-9b92-89a72a4c006c');\n",
       "var x = new MutationObserver(function (mutations, observer) {{\n",
       "        var display = window.getComputedStyle(gd).display;\n",
       "        if (!display || display === 'none') {{\n",
       "            console.log([gd, 'removed!']);\n",
       "            Plotly.purge(gd);\n",
       "            observer.disconnect();\n",
       "        }}\n",
       "}});\n",
       "\n",
       "// Listen for the removal of the full notebook cells\n",
       "var notebookContainer = gd.closest('#notebook-container');\n",
       "if (notebookContainer) {{\n",
       "    x.observe(notebookContainer, {childList: true});\n",
       "}}\n",
       "\n",
       "// Listen for the clearing of the current output cell\n",
       "var outputEl = gd.closest('.output');\n",
       "if (outputEl) {{\n",
       "    x.observe(outputEl, {childList: true});\n",
       "}}\n",
       "\n",
       "                        })                };                });            </script>        </div>"
      ]
     },
     "metadata": {},
     "output_type": "display_data"
    }
   ],
   "source": [
    "merged_exp_data_noUS=merged_exp_data[merged_exp_data[\"State\"]!=\"US\"]\n",
    "fig_all = px.line(\n",
    "    merged_exp_data_noUS, \n",
    "    x='Year', \n",
    "    y='Exp_GDP_%', \n",
    "    color='State',  # Group by 'State' with different colors for each state\n",
    "    title='Energy Expenditure as a % of GDP Trend in US from 2000-22'\n",
    ")\n",
    "fig_all.show()"
   ]
  },
  {
   "cell_type": "markdown",
   "id": "a1138512-8d5c-4906-aa1c-04d239580dae",
   "metadata": {},
   "source": [
    "The trend in the share of US GDP allocated to energy expenditure has been very similar for almost all the 50 states in US from 2000-22."
   ]
  },
  {
   "cell_type": "markdown",
   "id": "fc7ca904-d22c-471a-a7c7-c8eb1ba70f69",
   "metadata": {},
   "source": [
    "#### Now we merge 4 types of renewable energy data into one. "
   ]
  },
  {
   "cell_type": "markdown",
   "id": "6ab7599b-d0f9-4cb3-b0ce-aa474c4836db",
   "metadata": {},
   "source": [
    "#### BIOMASS"
   ]
  },
  {
   "cell_type": "code",
   "execution_count": 23,
   "id": "acbec01f-4c90-4b6b-88f3-63383f403b49",
   "metadata": {},
   "outputs": [
    {
     "data": {
      "text/html": [
       "<div>\n",
       "<style scoped>\n",
       "    .dataframe tbody tr th:only-of-type {\n",
       "        vertical-align: middle;\n",
       "    }\n",
       "\n",
       "    .dataframe tbody tr th {\n",
       "        vertical-align: top;\n",
       "    }\n",
       "\n",
       "    .dataframe thead th {\n",
       "        text-align: right;\n",
       "    }\n",
       "</style>\n",
       "<table border=\"1\" class=\"dataframe\">\n",
       "  <thead>\n",
       "    <tr style=\"text-align: right;\">\n",
       "      <th></th>\n",
       "      <th>State</th>\n",
       "      <th>1960</th>\n",
       "      <th>1961</th>\n",
       "      <th>1962</th>\n",
       "      <th>1963</th>\n",
       "      <th>1964</th>\n",
       "      <th>1965</th>\n",
       "      <th>1966</th>\n",
       "      <th>1967</th>\n",
       "      <th>1968</th>\n",
       "      <th>...</th>\n",
       "      <th>2013</th>\n",
       "      <th>2014</th>\n",
       "      <th>2015</th>\n",
       "      <th>2016</th>\n",
       "      <th>2017</th>\n",
       "      <th>2018</th>\n",
       "      <th>2019</th>\n",
       "      <th>2020</th>\n",
       "      <th>2021</th>\n",
       "      <th>2022</th>\n",
       "    </tr>\n",
       "  </thead>\n",
       "  <tbody>\n",
       "    <tr>\n",
       "      <th>0</th>\n",
       "      <td>AK</td>\n",
       "      <td>3681</td>\n",
       "      <td>4145</td>\n",
       "      <td>4246</td>\n",
       "      <td>4383</td>\n",
       "      <td>4728</td>\n",
       "      <td>4863</td>\n",
       "      <td>5035</td>\n",
       "      <td>4671</td>\n",
       "      <td>4705</td>\n",
       "      <td>...</td>\n",
       "      <td>3660</td>\n",
       "      <td>6494</td>\n",
       "      <td>7532</td>\n",
       "      <td>9183</td>\n",
       "      <td>7805</td>\n",
       "      <td>8233</td>\n",
       "      <td>7671</td>\n",
       "      <td>7344</td>\n",
       "      <td>7193</td>\n",
       "      <td>8535</td>\n",
       "    </tr>\n",
       "    <tr>\n",
       "      <th>1</th>\n",
       "      <td>AL</td>\n",
       "      <td>45681</td>\n",
       "      <td>46171</td>\n",
       "      <td>45959</td>\n",
       "      <td>45764</td>\n",
       "      <td>46341</td>\n",
       "      <td>47641</td>\n",
       "      <td>49102</td>\n",
       "      <td>49050</td>\n",
       "      <td>52920</td>\n",
       "      <td>...</td>\n",
       "      <td>213553</td>\n",
       "      <td>203628</td>\n",
       "      <td>192277</td>\n",
       "      <td>194490</td>\n",
       "      <td>198078</td>\n",
       "      <td>196234</td>\n",
       "      <td>193303</td>\n",
       "      <td>187253</td>\n",
       "      <td>196321</td>\n",
       "      <td>194418</td>\n",
       "    </tr>\n",
       "    <tr>\n",
       "      <th>2</th>\n",
       "      <td>AR</td>\n",
       "      <td>37433</td>\n",
       "      <td>36290</td>\n",
       "      <td>36441</td>\n",
       "      <td>36729</td>\n",
       "      <td>36860</td>\n",
       "      <td>35134</td>\n",
       "      <td>35169</td>\n",
       "      <td>33309</td>\n",
       "      <td>33739</td>\n",
       "      <td>...</td>\n",
       "      <td>106124</td>\n",
       "      <td>105604</td>\n",
       "      <td>95155</td>\n",
       "      <td>93771</td>\n",
       "      <td>93338</td>\n",
       "      <td>94607</td>\n",
       "      <td>92421</td>\n",
       "      <td>73288</td>\n",
       "      <td>71013</td>\n",
       "      <td>72211</td>\n",
       "    </tr>\n",
       "    <tr>\n",
       "      <th>3</th>\n",
       "      <td>AZ</td>\n",
       "      <td>4013</td>\n",
       "      <td>3837</td>\n",
       "      <td>3672</td>\n",
       "      <td>4028</td>\n",
       "      <td>4089</td>\n",
       "      <td>3695</td>\n",
       "      <td>3679</td>\n",
       "      <td>4180</td>\n",
       "      <td>4147</td>\n",
       "      <td>...</td>\n",
       "      <td>27187</td>\n",
       "      <td>33300</td>\n",
       "      <td>35324</td>\n",
       "      <td>37641</td>\n",
       "      <td>37887</td>\n",
       "      <td>40027</td>\n",
       "      <td>40777</td>\n",
       "      <td>34315</td>\n",
       "      <td>36314</td>\n",
       "      <td>37579</td>\n",
       "    </tr>\n",
       "    <tr>\n",
       "      <th>4</th>\n",
       "      <td>CA</td>\n",
       "      <td>82098</td>\n",
       "      <td>83506</td>\n",
       "      <td>86898</td>\n",
       "      <td>93022</td>\n",
       "      <td>98436</td>\n",
       "      <td>97488</td>\n",
       "      <td>100673</td>\n",
       "      <td>101885</td>\n",
       "      <td>110274</td>\n",
       "      <td>...</td>\n",
       "      <td>343657</td>\n",
       "      <td>349289</td>\n",
       "      <td>344128</td>\n",
       "      <td>349331</td>\n",
       "      <td>357940</td>\n",
       "      <td>357008</td>\n",
       "      <td>405383</td>\n",
       "      <td>395720</td>\n",
       "      <td>462289</td>\n",
       "      <td>498637</td>\n",
       "    </tr>\n",
       "    <tr>\n",
       "      <th>5</th>\n",
       "      <td>CO</td>\n",
       "      <td>6479</td>\n",
       "      <td>6563</td>\n",
       "      <td>6420</td>\n",
       "      <td>6571</td>\n",
       "      <td>6816</td>\n",
       "      <td>6569</td>\n",
       "      <td>6982</td>\n",
       "      <td>7223</td>\n",
       "      <td>7434</td>\n",
       "      <td>...</td>\n",
       "      <td>36671</td>\n",
       "      <td>37476</td>\n",
       "      <td>41947</td>\n",
       "      <td>44114</td>\n",
       "      <td>44075</td>\n",
       "      <td>44606</td>\n",
       "      <td>47807</td>\n",
       "      <td>39539</td>\n",
       "      <td>40228</td>\n",
       "      <td>44900</td>\n",
       "    </tr>\n",
       "    <tr>\n",
       "      <th>6</th>\n",
       "      <td>CT</td>\n",
       "      <td>12842</td>\n",
       "      <td>13169</td>\n",
       "      <td>12825</td>\n",
       "      <td>13339</td>\n",
       "      <td>13886</td>\n",
       "      <td>13541</td>\n",
       "      <td>13612</td>\n",
       "      <td>13964</td>\n",
       "      <td>14931</td>\n",
       "      <td>...</td>\n",
       "      <td>37487</td>\n",
       "      <td>39085</td>\n",
       "      <td>40970</td>\n",
       "      <td>41534</td>\n",
       "      <td>38479</td>\n",
       "      <td>37908</td>\n",
       "      <td>37386</td>\n",
       "      <td>33371</td>\n",
       "      <td>35091</td>\n",
       "      <td>31887</td>\n",
       "    </tr>\n",
       "    <tr>\n",
       "      <th>7</th>\n",
       "      <td>DC</td>\n",
       "      <td>123</td>\n",
       "      <td>105</td>\n",
       "      <td>105</td>\n",
       "      <td>105</td>\n",
       "      <td>88</td>\n",
       "      <td>88</td>\n",
       "      <td>88</td>\n",
       "      <td>88</td>\n",
       "      <td>105</td>\n",
       "      <td>...</td>\n",
       "      <td>900</td>\n",
       "      <td>999</td>\n",
       "      <td>1506</td>\n",
       "      <td>1876</td>\n",
       "      <td>1754</td>\n",
       "      <td>1989</td>\n",
       "      <td>2108</td>\n",
       "      <td>1849</td>\n",
       "      <td>1873</td>\n",
       "      <td>1897</td>\n",
       "    </tr>\n",
       "    <tr>\n",
       "      <th>8</th>\n",
       "      <td>DE</td>\n",
       "      <td>4982</td>\n",
       "      <td>5101</td>\n",
       "      <td>5134</td>\n",
       "      <td>5356</td>\n",
       "      <td>5510</td>\n",
       "      <td>5577</td>\n",
       "      <td>5852</td>\n",
       "      <td>5783</td>\n",
       "      <td>6591</td>\n",
       "      <td>...</td>\n",
       "      <td>6137</td>\n",
       "      <td>6397</td>\n",
       "      <td>6035</td>\n",
       "      <td>5984</td>\n",
       "      <td>6082</td>\n",
       "      <td>6065</td>\n",
       "      <td>6439</td>\n",
       "      <td>5491</td>\n",
       "      <td>5787</td>\n",
       "      <td>5960</td>\n",
       "    </tr>\n",
       "    <tr>\n",
       "      <th>9</th>\n",
       "      <td>FL</td>\n",
       "      <td>32690</td>\n",
       "      <td>31611</td>\n",
       "      <td>33321</td>\n",
       "      <td>35838</td>\n",
       "      <td>35983</td>\n",
       "      <td>36798</td>\n",
       "      <td>39739</td>\n",
       "      <td>41567</td>\n",
       "      <td>47044</td>\n",
       "      <td>...</td>\n",
       "      <td>260909</td>\n",
       "      <td>256189</td>\n",
       "      <td>251294</td>\n",
       "      <td>247498</td>\n",
       "      <td>256365</td>\n",
       "      <td>249308</td>\n",
       "      <td>235145</td>\n",
       "      <td>209534</td>\n",
       "      <td>218140</td>\n",
       "      <td>215099</td>\n",
       "    </tr>\n",
       "    <tr>\n",
       "      <th>10</th>\n",
       "      <td>GA</td>\n",
       "      <td>71206</td>\n",
       "      <td>70216</td>\n",
       "      <td>69729</td>\n",
       "      <td>72407</td>\n",
       "      <td>73208</td>\n",
       "      <td>74215</td>\n",
       "      <td>74664</td>\n",
       "      <td>70831</td>\n",
       "      <td>73637</td>\n",
       "      <td>...</td>\n",
       "      <td>246936</td>\n",
       "      <td>265285</td>\n",
       "      <td>270370</td>\n",
       "      <td>256562</td>\n",
       "      <td>250423</td>\n",
       "      <td>248716</td>\n",
       "      <td>256430</td>\n",
       "      <td>250225</td>\n",
       "      <td>252540</td>\n",
       "      <td>250273</td>\n",
       "    </tr>\n",
       "    <tr>\n",
       "      <th>11</th>\n",
       "      <td>HI</td>\n",
       "      <td>0</td>\n",
       "      <td>0</td>\n",
       "      <td>0</td>\n",
       "      <td>206</td>\n",
       "      <td>224</td>\n",
       "      <td>172</td>\n",
       "      <td>144</td>\n",
       "      <td>258</td>\n",
       "      <td>678</td>\n",
       "      <td>...</td>\n",
       "      <td>11720</td>\n",
       "      <td>11624</td>\n",
       "      <td>12075</td>\n",
       "      <td>13414</td>\n",
       "      <td>10944</td>\n",
       "      <td>10700</td>\n",
       "      <td>9971</td>\n",
       "      <td>8423</td>\n",
       "      <td>9035</td>\n",
       "      <td>8976</td>\n",
       "    </tr>\n",
       "    <tr>\n",
       "      <th>12</th>\n",
       "      <td>IA</td>\n",
       "      <td>6404</td>\n",
       "      <td>6163</td>\n",
       "      <td>5749</td>\n",
       "      <td>5460</td>\n",
       "      <td>5579</td>\n",
       "      <td>5462</td>\n",
       "      <td>5963</td>\n",
       "      <td>5834</td>\n",
       "      <td>6353</td>\n",
       "      <td>...</td>\n",
       "      <td>232673</td>\n",
       "      <td>241842</td>\n",
       "      <td>252727</td>\n",
       "      <td>257114</td>\n",
       "      <td>264721</td>\n",
       "      <td>273582</td>\n",
       "      <td>274834</td>\n",
       "      <td>243368</td>\n",
       "      <td>255961</td>\n",
       "      <td>254642</td>\n",
       "    </tr>\n",
       "    <tr>\n",
       "      <th>13</th>\n",
       "      <td>ID</td>\n",
       "      <td>11354</td>\n",
       "      <td>10813</td>\n",
       "      <td>10825</td>\n",
       "      <td>10560</td>\n",
       "      <td>11059</td>\n",
       "      <td>10361</td>\n",
       "      <td>10269</td>\n",
       "      <td>10300</td>\n",
       "      <td>10659</td>\n",
       "      <td>...</td>\n",
       "      <td>34284</td>\n",
       "      <td>41189</td>\n",
       "      <td>49425</td>\n",
       "      <td>43520</td>\n",
       "      <td>46151</td>\n",
       "      <td>48031</td>\n",
       "      <td>48977</td>\n",
       "      <td>39485</td>\n",
       "      <td>40177</td>\n",
       "      <td>45099</td>\n",
       "    </tr>\n",
       "    <tr>\n",
       "      <th>14</th>\n",
       "      <td>IL</td>\n",
       "      <td>31033</td>\n",
       "      <td>30135</td>\n",
       "      <td>30865</td>\n",
       "      <td>32563</td>\n",
       "      <td>32631</td>\n",
       "      <td>33209</td>\n",
       "      <td>35275</td>\n",
       "      <td>35570</td>\n",
       "      <td>38299</td>\n",
       "      <td>...</td>\n",
       "      <td>171930</td>\n",
       "      <td>177003</td>\n",
       "      <td>165347</td>\n",
       "      <td>172856</td>\n",
       "      <td>168220</td>\n",
       "      <td>163312</td>\n",
       "      <td>158615</td>\n",
       "      <td>145053</td>\n",
       "      <td>147961</td>\n",
       "      <td>151753</td>\n",
       "    </tr>\n",
       "    <tr>\n",
       "      <th>15</th>\n",
       "      <td>IN</td>\n",
       "      <td>23477</td>\n",
       "      <td>23062</td>\n",
       "      <td>23293</td>\n",
       "      <td>23463</td>\n",
       "      <td>22696</td>\n",
       "      <td>22081</td>\n",
       "      <td>23325</td>\n",
       "      <td>22475</td>\n",
       "      <td>23233</td>\n",
       "      <td>...</td>\n",
       "      <td>115856</td>\n",
       "      <td>120323</td>\n",
       "      <td>121368</td>\n",
       "      <td>127614</td>\n",
       "      <td>126449</td>\n",
       "      <td>130245</td>\n",
       "      <td>121024</td>\n",
       "      <td>113095</td>\n",
       "      <td>125220</td>\n",
       "      <td>125526</td>\n",
       "    </tr>\n",
       "    <tr>\n",
       "      <th>16</th>\n",
       "      <td>KS</td>\n",
       "      <td>3912</td>\n",
       "      <td>3684</td>\n",
       "      <td>3508</td>\n",
       "      <td>3624</td>\n",
       "      <td>3534</td>\n",
       "      <td>3358</td>\n",
       "      <td>3391</td>\n",
       "      <td>3252</td>\n",
       "      <td>3353</td>\n",
       "      <td>...</td>\n",
       "      <td>41819</td>\n",
       "      <td>47510</td>\n",
       "      <td>46223</td>\n",
       "      <td>47492</td>\n",
       "      <td>47067</td>\n",
       "      <td>49268</td>\n",
       "      <td>49515</td>\n",
       "      <td>47610</td>\n",
       "      <td>46613</td>\n",
       "      <td>49619</td>\n",
       "    </tr>\n",
       "    <tr>\n",
       "      <th>17</th>\n",
       "      <td>KY</td>\n",
       "      <td>22418</td>\n",
       "      <td>21538</td>\n",
       "      <td>22130</td>\n",
       "      <td>23192</td>\n",
       "      <td>21760</td>\n",
       "      <td>21678</td>\n",
       "      <td>22592</td>\n",
       "      <td>22511</td>\n",
       "      <td>22928</td>\n",
       "      <td>...</td>\n",
       "      <td>62326</td>\n",
       "      <td>63853</td>\n",
       "      <td>54807</td>\n",
       "      <td>56695</td>\n",
       "      <td>58734</td>\n",
       "      <td>60201</td>\n",
       "      <td>60484</td>\n",
       "      <td>51629</td>\n",
       "      <td>53974</td>\n",
       "      <td>62233</td>\n",
       "    </tr>\n",
       "    <tr>\n",
       "      <th>18</th>\n",
       "      <td>LA</td>\n",
       "      <td>38992</td>\n",
       "      <td>37174</td>\n",
       "      <td>36785</td>\n",
       "      <td>39147</td>\n",
       "      <td>39291</td>\n",
       "      <td>38299</td>\n",
       "      <td>39754</td>\n",
       "      <td>37685</td>\n",
       "      <td>40791</td>\n",
       "      <td>...</td>\n",
       "      <td>139120</td>\n",
       "      <td>160089</td>\n",
       "      <td>145615</td>\n",
       "      <td>162307</td>\n",
       "      <td>149424</td>\n",
       "      <td>146177</td>\n",
       "      <td>134290</td>\n",
       "      <td>129659</td>\n",
       "      <td>129386</td>\n",
       "      <td>126810</td>\n",
       "    </tr>\n",
       "    <tr>\n",
       "      <th>19</th>\n",
       "      <td>MA</td>\n",
       "      <td>42784</td>\n",
       "      <td>44105</td>\n",
       "      <td>45238</td>\n",
       "      <td>45338</td>\n",
       "      <td>47137</td>\n",
       "      <td>48698</td>\n",
       "      <td>49749</td>\n",
       "      <td>49846</td>\n",
       "      <td>53961</td>\n",
       "      <td>...</td>\n",
       "      <td>65534</td>\n",
       "      <td>66527</td>\n",
       "      <td>65883</td>\n",
       "      <td>66119</td>\n",
       "      <td>61777</td>\n",
       "      <td>59722</td>\n",
       "      <td>58626</td>\n",
       "      <td>49696</td>\n",
       "      <td>52007</td>\n",
       "      <td>51897</td>\n",
       "    </tr>\n",
       "    <tr>\n",
       "      <th>20</th>\n",
       "      <td>MD</td>\n",
       "      <td>23838</td>\n",
       "      <td>23591</td>\n",
       "      <td>23878</td>\n",
       "      <td>25283</td>\n",
       "      <td>25807</td>\n",
       "      <td>27094</td>\n",
       "      <td>28335</td>\n",
       "      <td>29439</td>\n",
       "      <td>31024</td>\n",
       "      <td>...</td>\n",
       "      <td>56132</td>\n",
       "      <td>55035</td>\n",
       "      <td>49070</td>\n",
       "      <td>48647</td>\n",
       "      <td>47636</td>\n",
       "      <td>47321</td>\n",
       "      <td>42092</td>\n",
       "      <td>32268</td>\n",
       "      <td>34256</td>\n",
       "      <td>32736</td>\n",
       "    </tr>\n",
       "    <tr>\n",
       "      <th>21</th>\n",
       "      <td>ME</td>\n",
       "      <td>29178</td>\n",
       "      <td>28844</td>\n",
       "      <td>28994</td>\n",
       "      <td>29001</td>\n",
       "      <td>30076</td>\n",
       "      <td>30050</td>\n",
       "      <td>30605</td>\n",
       "      <td>31635</td>\n",
       "      <td>32693</td>\n",
       "      <td>...</td>\n",
       "      <td>124043</td>\n",
       "      <td>118906</td>\n",
       "      <td>124772</td>\n",
       "      <td>106511</td>\n",
       "      <td>102138</td>\n",
       "      <td>103513</td>\n",
       "      <td>100261</td>\n",
       "      <td>84993</td>\n",
       "      <td>81806</td>\n",
       "      <td>79199</td>\n",
       "    </tr>\n",
       "    <tr>\n",
       "      <th>22</th>\n",
       "      <td>MI</td>\n",
       "      <td>37260</td>\n",
       "      <td>36172</td>\n",
       "      <td>35748</td>\n",
       "      <td>37021</td>\n",
       "      <td>36600</td>\n",
       "      <td>36904</td>\n",
       "      <td>37874</td>\n",
       "      <td>35984</td>\n",
       "      <td>36433</td>\n",
       "      <td>...</td>\n",
       "      <td>162703</td>\n",
       "      <td>163477</td>\n",
       "      <td>174785</td>\n",
       "      <td>170524</td>\n",
       "      <td>168007</td>\n",
       "      <td>175680</td>\n",
       "      <td>170065</td>\n",
       "      <td>146187</td>\n",
       "      <td>150458</td>\n",
       "      <td>154887</td>\n",
       "    </tr>\n",
       "    <tr>\n",
       "      <th>23</th>\n",
       "      <td>MN</td>\n",
       "      <td>25415</td>\n",
       "      <td>24626</td>\n",
       "      <td>24183</td>\n",
       "      <td>23511</td>\n",
       "      <td>23326</td>\n",
       "      <td>23366</td>\n",
       "      <td>22682</td>\n",
       "      <td>23386</td>\n",
       "      <td>23361</td>\n",
       "      <td>...</td>\n",
       "      <td>160530</td>\n",
       "      <td>175139</td>\n",
       "      <td>178084</td>\n",
       "      <td>178397</td>\n",
       "      <td>172075</td>\n",
       "      <td>178414</td>\n",
       "      <td>178248</td>\n",
       "      <td>153708</td>\n",
       "      <td>160540</td>\n",
       "      <td>167023</td>\n",
       "    </tr>\n",
       "    <tr>\n",
       "      <th>24</th>\n",
       "      <td>MO</td>\n",
       "      <td>33634</td>\n",
       "      <td>31865</td>\n",
       "      <td>30942</td>\n",
       "      <td>29351</td>\n",
       "      <td>27890</td>\n",
       "      <td>27017</td>\n",
       "      <td>26801</td>\n",
       "      <td>24867</td>\n",
       "      <td>25219</td>\n",
       "      <td>...</td>\n",
       "      <td>74874</td>\n",
       "      <td>80006</td>\n",
       "      <td>69268</td>\n",
       "      <td>70062</td>\n",
       "      <td>70098</td>\n",
       "      <td>74035</td>\n",
       "      <td>72482</td>\n",
       "      <td>63903</td>\n",
       "      <td>63630</td>\n",
       "      <td>68704</td>\n",
       "    </tr>\n",
       "    <tr>\n",
       "      <th>25</th>\n",
       "      <td>MS</td>\n",
       "      <td>46565</td>\n",
       "      <td>45532</td>\n",
       "      <td>44673</td>\n",
       "      <td>39154</td>\n",
       "      <td>38448</td>\n",
       "      <td>37759</td>\n",
       "      <td>37816</td>\n",
       "      <td>34261</td>\n",
       "      <td>35452</td>\n",
       "      <td>...</td>\n",
       "      <td>75915</td>\n",
       "      <td>77061</td>\n",
       "      <td>73235</td>\n",
       "      <td>75939</td>\n",
       "      <td>69989</td>\n",
       "      <td>70021</td>\n",
       "      <td>66182</td>\n",
       "      <td>63626</td>\n",
       "      <td>63833</td>\n",
       "      <td>62508</td>\n",
       "    </tr>\n",
       "    <tr>\n",
       "      <th>26</th>\n",
       "      <td>MT</td>\n",
       "      <td>7520</td>\n",
       "      <td>7342</td>\n",
       "      <td>7217</td>\n",
       "      <td>7418</td>\n",
       "      <td>8021</td>\n",
       "      <td>7813</td>\n",
       "      <td>7638</td>\n",
       "      <td>7353</td>\n",
       "      <td>7845</td>\n",
       "      <td>...</td>\n",
       "      <td>8992</td>\n",
       "      <td>9317</td>\n",
       "      <td>18627</td>\n",
       "      <td>19566</td>\n",
       "      <td>19663</td>\n",
       "      <td>23399</td>\n",
       "      <td>22915</td>\n",
       "      <td>17867</td>\n",
       "      <td>18506</td>\n",
       "      <td>20390</td>\n",
       "    </tr>\n",
       "    <tr>\n",
       "      <th>27</th>\n",
       "      <td>NC</td>\n",
       "      <td>73725</td>\n",
       "      <td>70411</td>\n",
       "      <td>69423</td>\n",
       "      <td>70745</td>\n",
       "      <td>69084</td>\n",
       "      <td>67314</td>\n",
       "      <td>68730</td>\n",
       "      <td>66084</td>\n",
       "      <td>68041</td>\n",
       "      <td>...</td>\n",
       "      <td>157380</td>\n",
       "      <td>155000</td>\n",
       "      <td>147837</td>\n",
       "      <td>147206</td>\n",
       "      <td>150480</td>\n",
       "      <td>146318</td>\n",
       "      <td>145761</td>\n",
       "      <td>140049</td>\n",
       "      <td>135677</td>\n",
       "      <td>132642</td>\n",
       "    </tr>\n",
       "    <tr>\n",
       "      <th>28</th>\n",
       "      <td>ND</td>\n",
       "      <td>473</td>\n",
       "      <td>438</td>\n",
       "      <td>403</td>\n",
       "      <td>368</td>\n",
       "      <td>368</td>\n",
       "      <td>333</td>\n",
       "      <td>333</td>\n",
       "      <td>351</td>\n",
       "      <td>351</td>\n",
       "      <td>...</td>\n",
       "      <td>26922</td>\n",
       "      <td>27184</td>\n",
       "      <td>28663</td>\n",
       "      <td>31691</td>\n",
       "      <td>36581</td>\n",
       "      <td>35688</td>\n",
       "      <td>35347</td>\n",
       "      <td>34646</td>\n",
       "      <td>34748</td>\n",
       "      <td>35206</td>\n",
       "    </tr>\n",
       "    <tr>\n",
       "      <th>29</th>\n",
       "      <td>NE</td>\n",
       "      <td>3108</td>\n",
       "      <td>2948</td>\n",
       "      <td>2675</td>\n",
       "      <td>2573</td>\n",
       "      <td>2311</td>\n",
       "      <td>1901</td>\n",
       "      <td>1848</td>\n",
       "      <td>1743</td>\n",
       "      <td>1673</td>\n",
       "      <td>...</td>\n",
       "      <td>109254</td>\n",
       "      <td>117619</td>\n",
       "      <td>117972</td>\n",
       "      <td>124277</td>\n",
       "      <td>125011</td>\n",
       "      <td>125851</td>\n",
       "      <td>126116</td>\n",
       "      <td>108390</td>\n",
       "      <td>120169</td>\n",
       "      <td>120376</td>\n",
       "    </tr>\n",
       "    <tr>\n",
       "      <th>30</th>\n",
       "      <td>NH</td>\n",
       "      <td>10855</td>\n",
       "      <td>10663</td>\n",
       "      <td>10783</td>\n",
       "      <td>10934</td>\n",
       "      <td>11654</td>\n",
       "      <td>11015</td>\n",
       "      <td>11563</td>\n",
       "      <td>11546</td>\n",
       "      <td>12628</td>\n",
       "      <td>...</td>\n",
       "      <td>41530</td>\n",
       "      <td>44447</td>\n",
       "      <td>51505</td>\n",
       "      <td>47702</td>\n",
       "      <td>49091</td>\n",
       "      <td>45504</td>\n",
       "      <td>44266</td>\n",
       "      <td>32059</td>\n",
       "      <td>32809</td>\n",
       "      <td>33273</td>\n",
       "    </tr>\n",
       "    <tr>\n",
       "      <th>31</th>\n",
       "      <td>NJ</td>\n",
       "      <td>20034</td>\n",
       "      <td>20550</td>\n",
       "      <td>20961</td>\n",
       "      <td>23232</td>\n",
       "      <td>23744</td>\n",
       "      <td>24019</td>\n",
       "      <td>24940</td>\n",
       "      <td>25799</td>\n",
       "      <td>28234</td>\n",
       "      <td>...</td>\n",
       "      <td>68475</td>\n",
       "      <td>70479</td>\n",
       "      <td>59880</td>\n",
       "      <td>62377</td>\n",
       "      <td>57426</td>\n",
       "      <td>55037</td>\n",
       "      <td>52422</td>\n",
       "      <td>44267</td>\n",
       "      <td>46900</td>\n",
       "      <td>46638</td>\n",
       "    </tr>\n",
       "    <tr>\n",
       "      <th>32</th>\n",
       "      <td>NM</td>\n",
       "      <td>6628</td>\n",
       "      <td>6383</td>\n",
       "      <td>6119</td>\n",
       "      <td>6012</td>\n",
       "      <td>6201</td>\n",
       "      <td>5627</td>\n",
       "      <td>5504</td>\n",
       "      <td>5312</td>\n",
       "      <td>5259</td>\n",
       "      <td>...</td>\n",
       "      <td>19515</td>\n",
       "      <td>18898</td>\n",
       "      <td>20762</td>\n",
       "      <td>20999</td>\n",
       "      <td>20388</td>\n",
       "      <td>23161</td>\n",
       "      <td>26318</td>\n",
       "      <td>19707</td>\n",
       "      <td>21098</td>\n",
       "      <td>22888</td>\n",
       "    </tr>\n",
       "    <tr>\n",
       "      <th>33</th>\n",
       "      <td>NV</td>\n",
       "      <td>946</td>\n",
       "      <td>929</td>\n",
       "      <td>911</td>\n",
       "      <td>894</td>\n",
       "      <td>929</td>\n",
       "      <td>876</td>\n",
       "      <td>876</td>\n",
       "      <td>912</td>\n",
       "      <td>947</td>\n",
       "      <td>...</td>\n",
       "      <td>10305</td>\n",
       "      <td>11481</td>\n",
       "      <td>12498</td>\n",
       "      <td>14171</td>\n",
       "      <td>14609</td>\n",
       "      <td>15694</td>\n",
       "      <td>15851</td>\n",
       "      <td>13228</td>\n",
       "      <td>14306</td>\n",
       "      <td>14972</td>\n",
       "    </tr>\n",
       "    <tr>\n",
       "      <th>34</th>\n",
       "      <td>NY</td>\n",
       "      <td>59263</td>\n",
       "      <td>57453</td>\n",
       "      <td>57324</td>\n",
       "      <td>57158</td>\n",
       "      <td>56954</td>\n",
       "      <td>58111</td>\n",
       "      <td>58726</td>\n",
       "      <td>57118</td>\n",
       "      <td>60128</td>\n",
       "      <td>...</td>\n",
       "      <td>140965</td>\n",
       "      <td>145391</td>\n",
       "      <td>159989</td>\n",
       "      <td>157556</td>\n",
       "      <td>159765</td>\n",
       "      <td>164408</td>\n",
       "      <td>162150</td>\n",
       "      <td>133357</td>\n",
       "      <td>140005</td>\n",
       "      <td>141038</td>\n",
       "    </tr>\n",
       "    <tr>\n",
       "      <th>35</th>\n",
       "      <td>OH</td>\n",
       "      <td>36755</td>\n",
       "      <td>36193</td>\n",
       "      <td>36803</td>\n",
       "      <td>38085</td>\n",
       "      <td>37909</td>\n",
       "      <td>38609</td>\n",
       "      <td>41431</td>\n",
       "      <td>39563</td>\n",
       "      <td>43378</td>\n",
       "      <td>...</td>\n",
       "      <td>139153</td>\n",
       "      <td>142875</td>\n",
       "      <td>136897</td>\n",
       "      <td>137746</td>\n",
       "      <td>133180</td>\n",
       "      <td>134389</td>\n",
       "      <td>131840</td>\n",
       "      <td>116904</td>\n",
       "      <td>121050</td>\n",
       "      <td>124175</td>\n",
       "    </tr>\n",
       "    <tr>\n",
       "      <th>36</th>\n",
       "      <td>OK</td>\n",
       "      <td>10185</td>\n",
       "      <td>9519</td>\n",
       "      <td>8940</td>\n",
       "      <td>8642</td>\n",
       "      <td>8170</td>\n",
       "      <td>7607</td>\n",
       "      <td>7729</td>\n",
       "      <td>7032</td>\n",
       "      <td>7537</td>\n",
       "      <td>...</td>\n",
       "      <td>50705</td>\n",
       "      <td>50755</td>\n",
       "      <td>47476</td>\n",
       "      <td>51211</td>\n",
       "      <td>54520</td>\n",
       "      <td>56232</td>\n",
       "      <td>53420</td>\n",
       "      <td>52580</td>\n",
       "      <td>52986</td>\n",
       "      <td>53784</td>\n",
       "    </tr>\n",
       "    <tr>\n",
       "      <th>37</th>\n",
       "      <td>OR</td>\n",
       "      <td>56355</td>\n",
       "      <td>55869</td>\n",
       "      <td>57086</td>\n",
       "      <td>56292</td>\n",
       "      <td>58807</td>\n",
       "      <td>57849</td>\n",
       "      <td>58516</td>\n",
       "      <td>56789</td>\n",
       "      <td>59131</td>\n",
       "      <td>...</td>\n",
       "      <td>80146</td>\n",
       "      <td>82579</td>\n",
       "      <td>93384</td>\n",
       "      <td>92027</td>\n",
       "      <td>99339</td>\n",
       "      <td>101011</td>\n",
       "      <td>105051</td>\n",
       "      <td>95696</td>\n",
       "      <td>97096</td>\n",
       "      <td>102769</td>\n",
       "    </tr>\n",
       "    <tr>\n",
       "      <th>38</th>\n",
       "      <td>PA</td>\n",
       "      <td>46454</td>\n",
       "      <td>45262</td>\n",
       "      <td>45730</td>\n",
       "      <td>47377</td>\n",
       "      <td>47186</td>\n",
       "      <td>47374</td>\n",
       "      <td>48649</td>\n",
       "      <td>48284</td>\n",
       "      <td>50587</td>\n",
       "      <td>...</td>\n",
       "      <td>173435</td>\n",
       "      <td>167629</td>\n",
       "      <td>173947</td>\n",
       "      <td>170611</td>\n",
       "      <td>171739</td>\n",
       "      <td>173373</td>\n",
       "      <td>166316</td>\n",
       "      <td>146093</td>\n",
       "      <td>148272</td>\n",
       "      <td>157088</td>\n",
       "    </tr>\n",
       "    <tr>\n",
       "      <th>39</th>\n",
       "      <td>RI</td>\n",
       "      <td>2858</td>\n",
       "      <td>2926</td>\n",
       "      <td>3081</td>\n",
       "      <td>3183</td>\n",
       "      <td>3492</td>\n",
       "      <td>3543</td>\n",
       "      <td>3750</td>\n",
       "      <td>4095</td>\n",
       "      <td>4217</td>\n",
       "      <td>...</td>\n",
       "      <td>5818</td>\n",
       "      <td>7473</td>\n",
       "      <td>7992</td>\n",
       "      <td>7497</td>\n",
       "      <td>7440</td>\n",
       "      <td>7337</td>\n",
       "      <td>7780</td>\n",
       "      <td>7307</td>\n",
       "      <td>6692</td>\n",
       "      <td>7045</td>\n",
       "    </tr>\n",
       "    <tr>\n",
       "      <th>40</th>\n",
       "      <td>SC</td>\n",
       "      <td>43120</td>\n",
       "      <td>41795</td>\n",
       "      <td>41078</td>\n",
       "      <td>41805</td>\n",
       "      <td>41995</td>\n",
       "      <td>40588</td>\n",
       "      <td>40510</td>\n",
       "      <td>38488</td>\n",
       "      <td>41283</td>\n",
       "      <td>...</td>\n",
       "      <td>125730</td>\n",
       "      <td>133352</td>\n",
       "      <td>126558</td>\n",
       "      <td>128714</td>\n",
       "      <td>133267</td>\n",
       "      <td>130189</td>\n",
       "      <td>128635</td>\n",
       "      <td>120793</td>\n",
       "      <td>123219</td>\n",
       "      <td>124890</td>\n",
       "    </tr>\n",
       "    <tr>\n",
       "      <th>41</th>\n",
       "      <td>SD</td>\n",
       "      <td>1537</td>\n",
       "      <td>1449</td>\n",
       "      <td>1396</td>\n",
       "      <td>1291</td>\n",
       "      <td>1273</td>\n",
       "      <td>1117</td>\n",
       "      <td>1064</td>\n",
       "      <td>1150</td>\n",
       "      <td>1166</td>\n",
       "      <td>...</td>\n",
       "      <td>62689</td>\n",
       "      <td>63760</td>\n",
       "      <td>67716</td>\n",
       "      <td>68511</td>\n",
       "      <td>70741</td>\n",
       "      <td>73488</td>\n",
       "      <td>72100</td>\n",
       "      <td>69088</td>\n",
       "      <td>76588</td>\n",
       "      <td>78461</td>\n",
       "    </tr>\n",
       "    <tr>\n",
       "      <th>42</th>\n",
       "      <td>TN</td>\n",
       "      <td>45355</td>\n",
       "      <td>43478</td>\n",
       "      <td>43391</td>\n",
       "      <td>46082</td>\n",
       "      <td>46394</td>\n",
       "      <td>46541</td>\n",
       "      <td>49135</td>\n",
       "      <td>46860</td>\n",
       "      <td>51733</td>\n",
       "      <td>...</td>\n",
       "      <td>106278</td>\n",
       "      <td>108613</td>\n",
       "      <td>105711</td>\n",
       "      <td>106208</td>\n",
       "      <td>100446</td>\n",
       "      <td>102525</td>\n",
       "      <td>97095</td>\n",
       "      <td>88573</td>\n",
       "      <td>97093</td>\n",
       "      <td>78906</td>\n",
       "    </tr>\n",
       "    <tr>\n",
       "      <th>43</th>\n",
       "      <td>TX</td>\n",
       "      <td>38296</td>\n",
       "      <td>38880</td>\n",
       "      <td>39275</td>\n",
       "      <td>37709</td>\n",
       "      <td>39136</td>\n",
       "      <td>41196</td>\n",
       "      <td>43785</td>\n",
       "      <td>43901</td>\n",
       "      <td>49149</td>\n",
       "      <td>...</td>\n",
       "      <td>231668</td>\n",
       "      <td>242682</td>\n",
       "      <td>237466</td>\n",
       "      <td>264110</td>\n",
       "      <td>260435</td>\n",
       "      <td>272191</td>\n",
       "      <td>263058</td>\n",
       "      <td>237146</td>\n",
       "      <td>247949</td>\n",
       "      <td>259124</td>\n",
       "    </tr>\n",
       "    <tr>\n",
       "      <th>44</th>\n",
       "      <td>UT</td>\n",
       "      <td>2219</td>\n",
       "      <td>2132</td>\n",
       "      <td>2044</td>\n",
       "      <td>2008</td>\n",
       "      <td>2148</td>\n",
       "      <td>1956</td>\n",
       "      <td>1938</td>\n",
       "      <td>2060</td>\n",
       "      <td>2216</td>\n",
       "      <td>...</td>\n",
       "      <td>10907</td>\n",
       "      <td>11185</td>\n",
       "      <td>14975</td>\n",
       "      <td>16532</td>\n",
       "      <td>16023</td>\n",
       "      <td>16849</td>\n",
       "      <td>17809</td>\n",
       "      <td>15543</td>\n",
       "      <td>14526</td>\n",
       "      <td>13966</td>\n",
       "    </tr>\n",
       "    <tr>\n",
       "      <th>45</th>\n",
       "      <td>VA</td>\n",
       "      <td>56072</td>\n",
       "      <td>53854</td>\n",
       "      <td>54344</td>\n",
       "      <td>55094</td>\n",
       "      <td>54594</td>\n",
       "      <td>54205</td>\n",
       "      <td>56102</td>\n",
       "      <td>53364</td>\n",
       "      <td>55705</td>\n",
       "      <td>...</td>\n",
       "      <td>138197</td>\n",
       "      <td>155898</td>\n",
       "      <td>155792</td>\n",
       "      <td>151026</td>\n",
       "      <td>151014</td>\n",
       "      <td>157851</td>\n",
       "      <td>144546</td>\n",
       "      <td>134192</td>\n",
       "      <td>141002</td>\n",
       "      <td>142057</td>\n",
       "    </tr>\n",
       "    <tr>\n",
       "      <th>46</th>\n",
       "      <td>VT</td>\n",
       "      <td>7943</td>\n",
       "      <td>7149</td>\n",
       "      <td>7251</td>\n",
       "      <td>6766</td>\n",
       "      <td>6556</td>\n",
       "      <td>6932</td>\n",
       "      <td>6807</td>\n",
       "      <td>6669</td>\n",
       "      <td>6872</td>\n",
       "      <td>...</td>\n",
       "      <td>21134</td>\n",
       "      <td>20763</td>\n",
       "      <td>27040</td>\n",
       "      <td>24905</td>\n",
       "      <td>24505</td>\n",
       "      <td>27308</td>\n",
       "      <td>25990</td>\n",
       "      <td>20863</td>\n",
       "      <td>21831</td>\n",
       "      <td>23824</td>\n",
       "    </tr>\n",
       "    <tr>\n",
       "      <th>47</th>\n",
       "      <td>WA</td>\n",
       "      <td>58533</td>\n",
       "      <td>57882</td>\n",
       "      <td>59084</td>\n",
       "      <td>62312</td>\n",
       "      <td>65254</td>\n",
       "      <td>66250</td>\n",
       "      <td>67111</td>\n",
       "      <td>63608</td>\n",
       "      <td>67282</td>\n",
       "      <td>...</td>\n",
       "      <td>128945</td>\n",
       "      <td>130961</td>\n",
       "      <td>140321</td>\n",
       "      <td>149668</td>\n",
       "      <td>144825</td>\n",
       "      <td>144864</td>\n",
       "      <td>147156</td>\n",
       "      <td>123932</td>\n",
       "      <td>127277</td>\n",
       "      <td>126418</td>\n",
       "    </tr>\n",
       "    <tr>\n",
       "      <th>48</th>\n",
       "      <td>WI</td>\n",
       "      <td>39155</td>\n",
       "      <td>39133</td>\n",
       "      <td>39130</td>\n",
       "      <td>38860</td>\n",
       "      <td>38951</td>\n",
       "      <td>39414</td>\n",
       "      <td>39521</td>\n",
       "      <td>39383</td>\n",
       "      <td>40963</td>\n",
       "      <td>...</td>\n",
       "      <td>154023</td>\n",
       "      <td>155692</td>\n",
       "      <td>162773</td>\n",
       "      <td>159330</td>\n",
       "      <td>157705</td>\n",
       "      <td>164889</td>\n",
       "      <td>160601</td>\n",
       "      <td>135067</td>\n",
       "      <td>134901</td>\n",
       "      <td>142307</td>\n",
       "    </tr>\n",
       "    <tr>\n",
       "      <th>49</th>\n",
       "      <td>WV</td>\n",
       "      <td>13367</td>\n",
       "      <td>12565</td>\n",
       "      <td>12784</td>\n",
       "      <td>12629</td>\n",
       "      <td>12204</td>\n",
       "      <td>11903</td>\n",
       "      <td>12112</td>\n",
       "      <td>11521</td>\n",
       "      <td>11625</td>\n",
       "      <td>...</td>\n",
       "      <td>31139</td>\n",
       "      <td>31440</td>\n",
       "      <td>19161</td>\n",
       "      <td>19427</td>\n",
       "      <td>19031</td>\n",
       "      <td>20495</td>\n",
       "      <td>19797</td>\n",
       "      <td>15481</td>\n",
       "      <td>17101</td>\n",
       "      <td>17830</td>\n",
       "    </tr>\n",
       "    <tr>\n",
       "      <th>50</th>\n",
       "      <td>WY</td>\n",
       "      <td>1623</td>\n",
       "      <td>1536</td>\n",
       "      <td>1448</td>\n",
       "      <td>1430</td>\n",
       "      <td>1466</td>\n",
       "      <td>1550</td>\n",
       "      <td>1497</td>\n",
       "      <td>1412</td>\n",
       "      <td>1584</td>\n",
       "      <td>...</td>\n",
       "      <td>5052</td>\n",
       "      <td>5172</td>\n",
       "      <td>8601</td>\n",
       "      <td>8301</td>\n",
       "      <td>8583</td>\n",
       "      <td>8401</td>\n",
       "      <td>8865</td>\n",
       "      <td>7470</td>\n",
       "      <td>6999</td>\n",
       "      <td>8105</td>\n",
       "    </tr>\n",
       "    <tr>\n",
       "      <th>51</th>\n",
       "      <td>US</td>\n",
       "      <td>1319871</td>\n",
       "      <td>1294762</td>\n",
       "      <td>1300242</td>\n",
       "      <td>1323316</td>\n",
       "      <td>1336802</td>\n",
       "      <td>1334761</td>\n",
       "      <td>1368986</td>\n",
       "      <td>1340249</td>\n",
       "      <td>1419494</td>\n",
       "      <td>...</td>\n",
       "      <td>4861035</td>\n",
       "      <td>5015522</td>\n",
       "      <td>5014887</td>\n",
       "      <td>5063053</td>\n",
       "      <td>5044599</td>\n",
       "      <td>5104513</td>\n",
       "      <td>5056000</td>\n",
       "      <td>4545130</td>\n",
       "      <td>4750550</td>\n",
       "      <td>4856666</td>\n",
       "    </tr>\n",
       "  </tbody>\n",
       "</table>\n",
       "<p>52 rows × 64 columns</p>\n",
       "</div>"
      ],
      "text/plain": [
       "   State     1960     1961     1962     1963     1964     1965     1966  \\\n",
       "0     AK     3681     4145     4246     4383     4728     4863     5035   \n",
       "1     AL    45681    46171    45959    45764    46341    47641    49102   \n",
       "2     AR    37433    36290    36441    36729    36860    35134    35169   \n",
       "3     AZ     4013     3837     3672     4028     4089     3695     3679   \n",
       "4     CA    82098    83506    86898    93022    98436    97488   100673   \n",
       "5     CO     6479     6563     6420     6571     6816     6569     6982   \n",
       "6     CT    12842    13169    12825    13339    13886    13541    13612   \n",
       "7     DC      123      105      105      105       88       88       88   \n",
       "8     DE     4982     5101     5134     5356     5510     5577     5852   \n",
       "9     FL    32690    31611    33321    35838    35983    36798    39739   \n",
       "10    GA    71206    70216    69729    72407    73208    74215    74664   \n",
       "11    HI        0        0        0      206      224      172      144   \n",
       "12    IA     6404     6163     5749     5460     5579     5462     5963   \n",
       "13    ID    11354    10813    10825    10560    11059    10361    10269   \n",
       "14    IL    31033    30135    30865    32563    32631    33209    35275   \n",
       "15    IN    23477    23062    23293    23463    22696    22081    23325   \n",
       "16    KS     3912     3684     3508     3624     3534     3358     3391   \n",
       "17    KY    22418    21538    22130    23192    21760    21678    22592   \n",
       "18    LA    38992    37174    36785    39147    39291    38299    39754   \n",
       "19    MA    42784    44105    45238    45338    47137    48698    49749   \n",
       "20    MD    23838    23591    23878    25283    25807    27094    28335   \n",
       "21    ME    29178    28844    28994    29001    30076    30050    30605   \n",
       "22    MI    37260    36172    35748    37021    36600    36904    37874   \n",
       "23    MN    25415    24626    24183    23511    23326    23366    22682   \n",
       "24    MO    33634    31865    30942    29351    27890    27017    26801   \n",
       "25    MS    46565    45532    44673    39154    38448    37759    37816   \n",
       "26    MT     7520     7342     7217     7418     8021     7813     7638   \n",
       "27    NC    73725    70411    69423    70745    69084    67314    68730   \n",
       "28    ND      473      438      403      368      368      333      333   \n",
       "29    NE     3108     2948     2675     2573     2311     1901     1848   \n",
       "30    NH    10855    10663    10783    10934    11654    11015    11563   \n",
       "31    NJ    20034    20550    20961    23232    23744    24019    24940   \n",
       "32    NM     6628     6383     6119     6012     6201     5627     5504   \n",
       "33    NV      946      929      911      894      929      876      876   \n",
       "34    NY    59263    57453    57324    57158    56954    58111    58726   \n",
       "35    OH    36755    36193    36803    38085    37909    38609    41431   \n",
       "36    OK    10185     9519     8940     8642     8170     7607     7729   \n",
       "37    OR    56355    55869    57086    56292    58807    57849    58516   \n",
       "38    PA    46454    45262    45730    47377    47186    47374    48649   \n",
       "39    RI     2858     2926     3081     3183     3492     3543     3750   \n",
       "40    SC    43120    41795    41078    41805    41995    40588    40510   \n",
       "41    SD     1537     1449     1396     1291     1273     1117     1064   \n",
       "42    TN    45355    43478    43391    46082    46394    46541    49135   \n",
       "43    TX    38296    38880    39275    37709    39136    41196    43785   \n",
       "44    UT     2219     2132     2044     2008     2148     1956     1938   \n",
       "45    VA    56072    53854    54344    55094    54594    54205    56102   \n",
       "46    VT     7943     7149     7251     6766     6556     6932     6807   \n",
       "47    WA    58533    57882    59084    62312    65254    66250    67111   \n",
       "48    WI    39155    39133    39130    38860    38951    39414    39521   \n",
       "49    WV    13367    12565    12784    12629    12204    11903    12112   \n",
       "50    WY     1623     1536     1448     1430     1466     1550     1497   \n",
       "51    US  1319871  1294762  1300242  1323316  1336802  1334761  1368986   \n",
       "\n",
       "       1967     1968  ...     2013     2014     2015     2016     2017  \\\n",
       "0      4671     4705  ...     3660     6494     7532     9183     7805   \n",
       "1     49050    52920  ...   213553   203628   192277   194490   198078   \n",
       "2     33309    33739  ...   106124   105604    95155    93771    93338   \n",
       "3      4180     4147  ...    27187    33300    35324    37641    37887   \n",
       "4    101885   110274  ...   343657   349289   344128   349331   357940   \n",
       "5      7223     7434  ...    36671    37476    41947    44114    44075   \n",
       "6     13964    14931  ...    37487    39085    40970    41534    38479   \n",
       "7        88      105  ...      900      999     1506     1876     1754   \n",
       "8      5783     6591  ...     6137     6397     6035     5984     6082   \n",
       "9     41567    47044  ...   260909   256189   251294   247498   256365   \n",
       "10    70831    73637  ...   246936   265285   270370   256562   250423   \n",
       "11      258      678  ...    11720    11624    12075    13414    10944   \n",
       "12     5834     6353  ...   232673   241842   252727   257114   264721   \n",
       "13    10300    10659  ...    34284    41189    49425    43520    46151   \n",
       "14    35570    38299  ...   171930   177003   165347   172856   168220   \n",
       "15    22475    23233  ...   115856   120323   121368   127614   126449   \n",
       "16     3252     3353  ...    41819    47510    46223    47492    47067   \n",
       "17    22511    22928  ...    62326    63853    54807    56695    58734   \n",
       "18    37685    40791  ...   139120   160089   145615   162307   149424   \n",
       "19    49846    53961  ...    65534    66527    65883    66119    61777   \n",
       "20    29439    31024  ...    56132    55035    49070    48647    47636   \n",
       "21    31635    32693  ...   124043   118906   124772   106511   102138   \n",
       "22    35984    36433  ...   162703   163477   174785   170524   168007   \n",
       "23    23386    23361  ...   160530   175139   178084   178397   172075   \n",
       "24    24867    25219  ...    74874    80006    69268    70062    70098   \n",
       "25    34261    35452  ...    75915    77061    73235    75939    69989   \n",
       "26     7353     7845  ...     8992     9317    18627    19566    19663   \n",
       "27    66084    68041  ...   157380   155000   147837   147206   150480   \n",
       "28      351      351  ...    26922    27184    28663    31691    36581   \n",
       "29     1743     1673  ...   109254   117619   117972   124277   125011   \n",
       "30    11546    12628  ...    41530    44447    51505    47702    49091   \n",
       "31    25799    28234  ...    68475    70479    59880    62377    57426   \n",
       "32     5312     5259  ...    19515    18898    20762    20999    20388   \n",
       "33      912      947  ...    10305    11481    12498    14171    14609   \n",
       "34    57118    60128  ...   140965   145391   159989   157556   159765   \n",
       "35    39563    43378  ...   139153   142875   136897   137746   133180   \n",
       "36     7032     7537  ...    50705    50755    47476    51211    54520   \n",
       "37    56789    59131  ...    80146    82579    93384    92027    99339   \n",
       "38    48284    50587  ...   173435   167629   173947   170611   171739   \n",
       "39     4095     4217  ...     5818     7473     7992     7497     7440   \n",
       "40    38488    41283  ...   125730   133352   126558   128714   133267   \n",
       "41     1150     1166  ...    62689    63760    67716    68511    70741   \n",
       "42    46860    51733  ...   106278   108613   105711   106208   100446   \n",
       "43    43901    49149  ...   231668   242682   237466   264110   260435   \n",
       "44     2060     2216  ...    10907    11185    14975    16532    16023   \n",
       "45    53364    55705  ...   138197   155898   155792   151026   151014   \n",
       "46     6669     6872  ...    21134    20763    27040    24905    24505   \n",
       "47    63608    67282  ...   128945   130961   140321   149668   144825   \n",
       "48    39383    40963  ...   154023   155692   162773   159330   157705   \n",
       "49    11521    11625  ...    31139    31440    19161    19427    19031   \n",
       "50     1412     1584  ...     5052     5172     8601     8301     8583   \n",
       "51  1340249  1419494  ...  4861035  5015522  5014887  5063053  5044599   \n",
       "\n",
       "       2018     2019     2020     2021     2022  \n",
       "0      8233     7671     7344     7193     8535  \n",
       "1    196234   193303   187253   196321   194418  \n",
       "2     94607    92421    73288    71013    72211  \n",
       "3     40027    40777    34315    36314    37579  \n",
       "4    357008   405383   395720   462289   498637  \n",
       "5     44606    47807    39539    40228    44900  \n",
       "6     37908    37386    33371    35091    31887  \n",
       "7      1989     2108     1849     1873     1897  \n",
       "8      6065     6439     5491     5787     5960  \n",
       "9    249308   235145   209534   218140   215099  \n",
       "10   248716   256430   250225   252540   250273  \n",
       "11    10700     9971     8423     9035     8976  \n",
       "12   273582   274834   243368   255961   254642  \n",
       "13    48031    48977    39485    40177    45099  \n",
       "14   163312   158615   145053   147961   151753  \n",
       "15   130245   121024   113095   125220   125526  \n",
       "16    49268    49515    47610    46613    49619  \n",
       "17    60201    60484    51629    53974    62233  \n",
       "18   146177   134290   129659   129386   126810  \n",
       "19    59722    58626    49696    52007    51897  \n",
       "20    47321    42092    32268    34256    32736  \n",
       "21   103513   100261    84993    81806    79199  \n",
       "22   175680   170065   146187   150458   154887  \n",
       "23   178414   178248   153708   160540   167023  \n",
       "24    74035    72482    63903    63630    68704  \n",
       "25    70021    66182    63626    63833    62508  \n",
       "26    23399    22915    17867    18506    20390  \n",
       "27   146318   145761   140049   135677   132642  \n",
       "28    35688    35347    34646    34748    35206  \n",
       "29   125851   126116   108390   120169   120376  \n",
       "30    45504    44266    32059    32809    33273  \n",
       "31    55037    52422    44267    46900    46638  \n",
       "32    23161    26318    19707    21098    22888  \n",
       "33    15694    15851    13228    14306    14972  \n",
       "34   164408   162150   133357   140005   141038  \n",
       "35   134389   131840   116904   121050   124175  \n",
       "36    56232    53420    52580    52986    53784  \n",
       "37   101011   105051    95696    97096   102769  \n",
       "38   173373   166316   146093   148272   157088  \n",
       "39     7337     7780     7307     6692     7045  \n",
       "40   130189   128635   120793   123219   124890  \n",
       "41    73488    72100    69088    76588    78461  \n",
       "42   102525    97095    88573    97093    78906  \n",
       "43   272191   263058   237146   247949   259124  \n",
       "44    16849    17809    15543    14526    13966  \n",
       "45   157851   144546   134192   141002   142057  \n",
       "46    27308    25990    20863    21831    23824  \n",
       "47   144864   147156   123932   127277   126418  \n",
       "48   164889   160601   135067   134901   142307  \n",
       "49    20495    19797    15481    17101    17830  \n",
       "50     8401     8865     7470     6999     8105  \n",
       "51  5104513  5056000  4545130  4750550  4856666  \n",
       "\n",
       "[52 rows x 64 columns]"
      ]
     },
     "execution_count": 23,
     "metadata": {},
     "output_type": "execute_result"
    }
   ],
   "source": [
    "## Biomass Data\n",
    "renewable_energy_1 = pd.read_excel('use_renew_sector.xlsx', sheet_name=\"Biomass\", header=2)\n",
    "renewable_energy_1"
   ]
  },
  {
   "cell_type": "code",
   "execution_count": 24,
   "id": "e63e4ccb-064b-4333-ba0e-bc747c120dbc",
   "metadata": {},
   "outputs": [
    {
     "data": {
      "text/html": [
       "<div>\n",
       "<style scoped>\n",
       "    .dataframe tbody tr th:only-of-type {\n",
       "        vertical-align: middle;\n",
       "    }\n",
       "\n",
       "    .dataframe tbody tr th {\n",
       "        vertical-align: top;\n",
       "    }\n",
       "\n",
       "    .dataframe thead th {\n",
       "        text-align: right;\n",
       "    }\n",
       "</style>\n",
       "<table border=\"1\" class=\"dataframe\">\n",
       "  <thead>\n",
       "    <tr style=\"text-align: right;\">\n",
       "      <th></th>\n",
       "      <th>State</th>\n",
       "      <th>Year</th>\n",
       "      <th>BTU_bio</th>\n",
       "    </tr>\n",
       "  </thead>\n",
       "  <tbody>\n",
       "    <tr>\n",
       "      <th>0</th>\n",
       "      <td>AK</td>\n",
       "      <td>2000</td>\n",
       "      <td>2069</td>\n",
       "    </tr>\n",
       "    <tr>\n",
       "      <th>1</th>\n",
       "      <td>AL</td>\n",
       "      <td>2000</td>\n",
       "      <td>203782</td>\n",
       "    </tr>\n",
       "    <tr>\n",
       "      <th>2</th>\n",
       "      <td>AR</td>\n",
       "      <td>2000</td>\n",
       "      <td>83466</td>\n",
       "    </tr>\n",
       "    <tr>\n",
       "      <th>3</th>\n",
       "      <td>AZ</td>\n",
       "      <td>2000</td>\n",
       "      <td>13376</td>\n",
       "    </tr>\n",
       "    <tr>\n",
       "      <th>4</th>\n",
       "      <td>CA</td>\n",
       "      <td>2000</td>\n",
       "      <td>164105</td>\n",
       "    </tr>\n",
       "    <tr>\n",
       "      <th>...</th>\n",
       "      <td>...</td>\n",
       "      <td>...</td>\n",
       "      <td>...</td>\n",
       "    </tr>\n",
       "    <tr>\n",
       "      <th>1191</th>\n",
       "      <td>WA</td>\n",
       "      <td>2022</td>\n",
       "      <td>126418</td>\n",
       "    </tr>\n",
       "    <tr>\n",
       "      <th>1192</th>\n",
       "      <td>WI</td>\n",
       "      <td>2022</td>\n",
       "      <td>142307</td>\n",
       "    </tr>\n",
       "    <tr>\n",
       "      <th>1193</th>\n",
       "      <td>WV</td>\n",
       "      <td>2022</td>\n",
       "      <td>17830</td>\n",
       "    </tr>\n",
       "    <tr>\n",
       "      <th>1194</th>\n",
       "      <td>WY</td>\n",
       "      <td>2022</td>\n",
       "      <td>8105</td>\n",
       "    </tr>\n",
       "    <tr>\n",
       "      <th>1195</th>\n",
       "      <td>US</td>\n",
       "      <td>2022</td>\n",
       "      <td>4856666</td>\n",
       "    </tr>\n",
       "  </tbody>\n",
       "</table>\n",
       "<p>1196 rows × 3 columns</p>\n",
       "</div>"
      ],
      "text/plain": [
       "     State  Year  BTU_bio\n",
       "0       AK  2000     2069\n",
       "1       AL  2000   203782\n",
       "2       AR  2000    83466\n",
       "3       AZ  2000    13376\n",
       "4       CA  2000   164105\n",
       "...    ...   ...      ...\n",
       "1191    WA  2022   126418\n",
       "1192    WI  2022   142307\n",
       "1193    WV  2022    17830\n",
       "1194    WY  2022     8105\n",
       "1195    US  2022  4856666\n",
       "\n",
       "[1196 rows x 3 columns]"
      ]
     },
     "execution_count": 24,
     "metadata": {},
     "output_type": "execute_result"
    }
   ],
   "source": [
    "biomass_melted = pd.melt(\n",
    "    renewable_energy_1,\n",
    "    id_vars=[\"State\"],  \n",
    "    var_name=\"Year\",    \n",
    "    value_name=\"BTU_bio\"  \n",
    ")\n",
    "biomass_melted\n",
    "\n",
    "## only keep years 2000-2022\n",
    "filter_biomass_melted = biomass_melted[\n",
    "    (biomass_melted[\"Year\"].astype(int) >= 2000) & (biomass_melted[\"Year\"].astype(int) <= 2022)\n",
    "].reset_index()\n",
    "filter_biomass_melted\n",
    "\n",
    "filter_biomass_melted = filter_biomass_melted.drop(['index'], axis=1) # dropping index columns\n",
    "filter_biomass_melted"
   ]
  },
  {
   "cell_type": "markdown",
   "id": "5aafebe4-30b0-4eba-becb-6d5834f1654d",
   "metadata": {},
   "source": [
    "#### GEOTHERMAL"
   ]
  },
  {
   "cell_type": "code",
   "execution_count": 25,
   "id": "1e7686f5-4c3c-4894-9ab1-26b2d646516f",
   "metadata": {},
   "outputs": [
    {
     "data": {
      "text/html": [
       "<div>\n",
       "<style scoped>\n",
       "    .dataframe tbody tr th:only-of-type {\n",
       "        vertical-align: middle;\n",
       "    }\n",
       "\n",
       "    .dataframe tbody tr th {\n",
       "        vertical-align: top;\n",
       "    }\n",
       "\n",
       "    .dataframe thead th {\n",
       "        text-align: right;\n",
       "    }\n",
       "</style>\n",
       "<table border=\"1\" class=\"dataframe\">\n",
       "  <thead>\n",
       "    <tr style=\"text-align: right;\">\n",
       "      <th></th>\n",
       "      <th>State</th>\n",
       "      <th>1960</th>\n",
       "      <th>1961</th>\n",
       "      <th>1962</th>\n",
       "      <th>1963</th>\n",
       "      <th>1964</th>\n",
       "      <th>1965</th>\n",
       "      <th>1966</th>\n",
       "      <th>1967</th>\n",
       "      <th>1968</th>\n",
       "      <th>...</th>\n",
       "      <th>2013</th>\n",
       "      <th>2014</th>\n",
       "      <th>2015</th>\n",
       "      <th>2016</th>\n",
       "      <th>2017</th>\n",
       "      <th>2018</th>\n",
       "      <th>2019</th>\n",
       "      <th>2020</th>\n",
       "      <th>2021</th>\n",
       "      <th>2022</th>\n",
       "    </tr>\n",
       "  </thead>\n",
       "  <tbody>\n",
       "    <tr>\n",
       "      <th>0</th>\n",
       "      <td>AK</td>\n",
       "      <td>0</td>\n",
       "      <td>0</td>\n",
       "      <td>0</td>\n",
       "      <td>0</td>\n",
       "      <td>0</td>\n",
       "      <td>0</td>\n",
       "      <td>0</td>\n",
       "      <td>0</td>\n",
       "      <td>0</td>\n",
       "      <td>...</td>\n",
       "      <td>186</td>\n",
       "      <td>186</td>\n",
       "      <td>186</td>\n",
       "      <td>186</td>\n",
       "      <td>186</td>\n",
       "      <td>186</td>\n",
       "      <td>186</td>\n",
       "      <td>186</td>\n",
       "      <td>186</td>\n",
       "      <td>186</td>\n",
       "    </tr>\n",
       "    <tr>\n",
       "      <th>1</th>\n",
       "      <td>AL</td>\n",
       "      <td>0</td>\n",
       "      <td>0</td>\n",
       "      <td>0</td>\n",
       "      <td>0</td>\n",
       "      <td>0</td>\n",
       "      <td>0</td>\n",
       "      <td>0</td>\n",
       "      <td>0</td>\n",
       "      <td>0</td>\n",
       "      <td>...</td>\n",
       "      <td>141</td>\n",
       "      <td>141</td>\n",
       "      <td>141</td>\n",
       "      <td>141</td>\n",
       "      <td>141</td>\n",
       "      <td>141</td>\n",
       "      <td>141</td>\n",
       "      <td>141</td>\n",
       "      <td>141</td>\n",
       "      <td>141</td>\n",
       "    </tr>\n",
       "    <tr>\n",
       "      <th>2</th>\n",
       "      <td>AR</td>\n",
       "      <td>0</td>\n",
       "      <td>0</td>\n",
       "      <td>0</td>\n",
       "      <td>0</td>\n",
       "      <td>0</td>\n",
       "      <td>0</td>\n",
       "      <td>0</td>\n",
       "      <td>0</td>\n",
       "      <td>0</td>\n",
       "      <td>...</td>\n",
       "      <td>808</td>\n",
       "      <td>808</td>\n",
       "      <td>808</td>\n",
       "      <td>808</td>\n",
       "      <td>808</td>\n",
       "      <td>808</td>\n",
       "      <td>808</td>\n",
       "      <td>808</td>\n",
       "      <td>808</td>\n",
       "      <td>808</td>\n",
       "    </tr>\n",
       "    <tr>\n",
       "      <th>3</th>\n",
       "      <td>AZ</td>\n",
       "      <td>0</td>\n",
       "      <td>0</td>\n",
       "      <td>0</td>\n",
       "      <td>0</td>\n",
       "      <td>0</td>\n",
       "      <td>0</td>\n",
       "      <td>0</td>\n",
       "      <td>0</td>\n",
       "      <td>0</td>\n",
       "      <td>...</td>\n",
       "      <td>345</td>\n",
       "      <td>345</td>\n",
       "      <td>345</td>\n",
       "      <td>345</td>\n",
       "      <td>345</td>\n",
       "      <td>345</td>\n",
       "      <td>345</td>\n",
       "      <td>345</td>\n",
       "      <td>345</td>\n",
       "      <td>345</td>\n",
       "    </tr>\n",
       "    <tr>\n",
       "      <th>4</th>\n",
       "      <td>CA</td>\n",
       "      <td>114</td>\n",
       "      <td>321</td>\n",
       "      <td>343</td>\n",
       "      <td>573</td>\n",
       "      <td>695</td>\n",
       "      <td>646</td>\n",
       "      <td>641</td>\n",
       "      <td>1079</td>\n",
       "      <td>1487</td>\n",
       "      <td>...</td>\n",
       "      <td>44129</td>\n",
       "      <td>43430</td>\n",
       "      <td>42684</td>\n",
       "      <td>41231</td>\n",
       "      <td>41580</td>\n",
       "      <td>41980</td>\n",
       "      <td>39378</td>\n",
       "      <td>40921</td>\n",
       "      <td>40106</td>\n",
       "      <td>40288</td>\n",
       "    </tr>\n",
       "    <tr>\n",
       "      <th>5</th>\n",
       "      <td>CO</td>\n",
       "      <td>0</td>\n",
       "      <td>0</td>\n",
       "      <td>0</td>\n",
       "      <td>0</td>\n",
       "      <td>0</td>\n",
       "      <td>0</td>\n",
       "      <td>0</td>\n",
       "      <td>0</td>\n",
       "      <td>0</td>\n",
       "      <td>...</td>\n",
       "      <td>759</td>\n",
       "      <td>759</td>\n",
       "      <td>759</td>\n",
       "      <td>759</td>\n",
       "      <td>759</td>\n",
       "      <td>759</td>\n",
       "      <td>759</td>\n",
       "      <td>759</td>\n",
       "      <td>759</td>\n",
       "      <td>759</td>\n",
       "    </tr>\n",
       "    <tr>\n",
       "      <th>6</th>\n",
       "      <td>CT</td>\n",
       "      <td>0</td>\n",
       "      <td>0</td>\n",
       "      <td>0</td>\n",
       "      <td>0</td>\n",
       "      <td>0</td>\n",
       "      <td>0</td>\n",
       "      <td>0</td>\n",
       "      <td>0</td>\n",
       "      <td>0</td>\n",
       "      <td>...</td>\n",
       "      <td>21</td>\n",
       "      <td>21</td>\n",
       "      <td>21</td>\n",
       "      <td>21</td>\n",
       "      <td>21</td>\n",
       "      <td>21</td>\n",
       "      <td>21</td>\n",
       "      <td>21</td>\n",
       "      <td>21</td>\n",
       "      <td>21</td>\n",
       "    </tr>\n",
       "    <tr>\n",
       "      <th>7</th>\n",
       "      <td>DC</td>\n",
       "      <td>0</td>\n",
       "      <td>0</td>\n",
       "      <td>0</td>\n",
       "      <td>0</td>\n",
       "      <td>0</td>\n",
       "      <td>0</td>\n",
       "      <td>0</td>\n",
       "      <td>0</td>\n",
       "      <td>0</td>\n",
       "      <td>...</td>\n",
       "      <td>22</td>\n",
       "      <td>22</td>\n",
       "      <td>22</td>\n",
       "      <td>22</td>\n",
       "      <td>22</td>\n",
       "      <td>22</td>\n",
       "      <td>22</td>\n",
       "      <td>22</td>\n",
       "      <td>22</td>\n",
       "      <td>22</td>\n",
       "    </tr>\n",
       "    <tr>\n",
       "      <th>8</th>\n",
       "      <td>DE</td>\n",
       "      <td>0</td>\n",
       "      <td>0</td>\n",
       "      <td>0</td>\n",
       "      <td>0</td>\n",
       "      <td>0</td>\n",
       "      <td>0</td>\n",
       "      <td>0</td>\n",
       "      <td>0</td>\n",
       "      <td>0</td>\n",
       "      <td>...</td>\n",
       "      <td>430</td>\n",
       "      <td>430</td>\n",
       "      <td>430</td>\n",
       "      <td>430</td>\n",
       "      <td>430</td>\n",
       "      <td>430</td>\n",
       "      <td>430</td>\n",
       "      <td>430</td>\n",
       "      <td>430</td>\n",
       "      <td>430</td>\n",
       "    </tr>\n",
       "    <tr>\n",
       "      <th>9</th>\n",
       "      <td>FL</td>\n",
       "      <td>0</td>\n",
       "      <td>0</td>\n",
       "      <td>0</td>\n",
       "      <td>0</td>\n",
       "      <td>0</td>\n",
       "      <td>0</td>\n",
       "      <td>0</td>\n",
       "      <td>0</td>\n",
       "      <td>0</td>\n",
       "      <td>...</td>\n",
       "      <td>10056</td>\n",
       "      <td>10056</td>\n",
       "      <td>10056</td>\n",
       "      <td>10056</td>\n",
       "      <td>10056</td>\n",
       "      <td>10056</td>\n",
       "      <td>10056</td>\n",
       "      <td>10056</td>\n",
       "      <td>10056</td>\n",
       "      <td>10056</td>\n",
       "    </tr>\n",
       "    <tr>\n",
       "      <th>10</th>\n",
       "      <td>GA</td>\n",
       "      <td>0</td>\n",
       "      <td>0</td>\n",
       "      <td>0</td>\n",
       "      <td>0</td>\n",
       "      <td>0</td>\n",
       "      <td>0</td>\n",
       "      <td>0</td>\n",
       "      <td>0</td>\n",
       "      <td>0</td>\n",
       "      <td>...</td>\n",
       "      <td>315</td>\n",
       "      <td>315</td>\n",
       "      <td>315</td>\n",
       "      <td>315</td>\n",
       "      <td>315</td>\n",
       "      <td>315</td>\n",
       "      <td>315</td>\n",
       "      <td>315</td>\n",
       "      <td>315</td>\n",
       "      <td>315</td>\n",
       "    </tr>\n",
       "    <tr>\n",
       "      <th>11</th>\n",
       "      <td>HI</td>\n",
       "      <td>0</td>\n",
       "      <td>0</td>\n",
       "      <td>0</td>\n",
       "      <td>0</td>\n",
       "      <td>0</td>\n",
       "      <td>0</td>\n",
       "      <td>0</td>\n",
       "      <td>0</td>\n",
       "      <td>0</td>\n",
       "      <td>...</td>\n",
       "      <td>946</td>\n",
       "      <td>874</td>\n",
       "      <td>794</td>\n",
       "      <td>895</td>\n",
       "      <td>1108</td>\n",
       "      <td>383</td>\n",
       "      <td>8</td>\n",
       "      <td>41</td>\n",
       "      <td>635</td>\n",
       "      <td>719</td>\n",
       "    </tr>\n",
       "    <tr>\n",
       "      <th>12</th>\n",
       "      <td>IA</td>\n",
       "      <td>0</td>\n",
       "      <td>0</td>\n",
       "      <td>0</td>\n",
       "      <td>0</td>\n",
       "      <td>0</td>\n",
       "      <td>0</td>\n",
       "      <td>0</td>\n",
       "      <td>0</td>\n",
       "      <td>0</td>\n",
       "      <td>...</td>\n",
       "      <td>1281</td>\n",
       "      <td>1281</td>\n",
       "      <td>1281</td>\n",
       "      <td>1281</td>\n",
       "      <td>1281</td>\n",
       "      <td>1281</td>\n",
       "      <td>1281</td>\n",
       "      <td>1281</td>\n",
       "      <td>1281</td>\n",
       "      <td>1281</td>\n",
       "    </tr>\n",
       "    <tr>\n",
       "      <th>13</th>\n",
       "      <td>ID</td>\n",
       "      <td>0</td>\n",
       "      <td>0</td>\n",
       "      <td>0</td>\n",
       "      <td>0</td>\n",
       "      <td>0</td>\n",
       "      <td>0</td>\n",
       "      <td>0</td>\n",
       "      <td>0</td>\n",
       "      <td>0</td>\n",
       "      <td>...</td>\n",
       "      <td>1638</td>\n",
       "      <td>1771</td>\n",
       "      <td>1760</td>\n",
       "      <td>1748</td>\n",
       "      <td>1790</td>\n",
       "      <td>1786</td>\n",
       "      <td>1828</td>\n",
       "      <td>1811</td>\n",
       "      <td>1819</td>\n",
       "      <td>1814</td>\n",
       "    </tr>\n",
       "    <tr>\n",
       "      <th>14</th>\n",
       "      <td>IL</td>\n",
       "      <td>0</td>\n",
       "      <td>0</td>\n",
       "      <td>0</td>\n",
       "      <td>0</td>\n",
       "      <td>0</td>\n",
       "      <td>0</td>\n",
       "      <td>0</td>\n",
       "      <td>0</td>\n",
       "      <td>0</td>\n",
       "      <td>...</td>\n",
       "      <td>2042</td>\n",
       "      <td>2042</td>\n",
       "      <td>2042</td>\n",
       "      <td>2042</td>\n",
       "      <td>2042</td>\n",
       "      <td>2042</td>\n",
       "      <td>2042</td>\n",
       "      <td>2042</td>\n",
       "      <td>2042</td>\n",
       "      <td>2042</td>\n",
       "    </tr>\n",
       "    <tr>\n",
       "      <th>15</th>\n",
       "      <td>IN</td>\n",
       "      <td>0</td>\n",
       "      <td>0</td>\n",
       "      <td>0</td>\n",
       "      <td>0</td>\n",
       "      <td>0</td>\n",
       "      <td>0</td>\n",
       "      <td>0</td>\n",
       "      <td>0</td>\n",
       "      <td>0</td>\n",
       "      <td>...</td>\n",
       "      <td>4647</td>\n",
       "      <td>4647</td>\n",
       "      <td>4647</td>\n",
       "      <td>4647</td>\n",
       "      <td>4647</td>\n",
       "      <td>4647</td>\n",
       "      <td>4647</td>\n",
       "      <td>4647</td>\n",
       "      <td>4647</td>\n",
       "      <td>4647</td>\n",
       "    </tr>\n",
       "    <tr>\n",
       "      <th>16</th>\n",
       "      <td>KS</td>\n",
       "      <td>0</td>\n",
       "      <td>0</td>\n",
       "      <td>0</td>\n",
       "      <td>0</td>\n",
       "      <td>0</td>\n",
       "      <td>0</td>\n",
       "      <td>0</td>\n",
       "      <td>0</td>\n",
       "      <td>0</td>\n",
       "      <td>...</td>\n",
       "      <td>974</td>\n",
       "      <td>974</td>\n",
       "      <td>974</td>\n",
       "      <td>974</td>\n",
       "      <td>974</td>\n",
       "      <td>974</td>\n",
       "      <td>974</td>\n",
       "      <td>974</td>\n",
       "      <td>974</td>\n",
       "      <td>974</td>\n",
       "    </tr>\n",
       "    <tr>\n",
       "      <th>17</th>\n",
       "      <td>KY</td>\n",
       "      <td>0</td>\n",
       "      <td>0</td>\n",
       "      <td>0</td>\n",
       "      <td>0</td>\n",
       "      <td>0</td>\n",
       "      <td>0</td>\n",
       "      <td>0</td>\n",
       "      <td>0</td>\n",
       "      <td>0</td>\n",
       "      <td>...</td>\n",
       "      <td>2712</td>\n",
       "      <td>2712</td>\n",
       "      <td>2712</td>\n",
       "      <td>2712</td>\n",
       "      <td>2712</td>\n",
       "      <td>2712</td>\n",
       "      <td>2712</td>\n",
       "      <td>2712</td>\n",
       "      <td>2712</td>\n",
       "      <td>2712</td>\n",
       "    </tr>\n",
       "    <tr>\n",
       "      <th>18</th>\n",
       "      <td>LA</td>\n",
       "      <td>0</td>\n",
       "      <td>0</td>\n",
       "      <td>0</td>\n",
       "      <td>0</td>\n",
       "      <td>0</td>\n",
       "      <td>0</td>\n",
       "      <td>0</td>\n",
       "      <td>0</td>\n",
       "      <td>0</td>\n",
       "      <td>...</td>\n",
       "      <td>1842</td>\n",
       "      <td>1842</td>\n",
       "      <td>1842</td>\n",
       "      <td>1842</td>\n",
       "      <td>1842</td>\n",
       "      <td>1842</td>\n",
       "      <td>1842</td>\n",
       "      <td>1842</td>\n",
       "      <td>1842</td>\n",
       "      <td>1842</td>\n",
       "    </tr>\n",
       "    <tr>\n",
       "      <th>19</th>\n",
       "      <td>MA</td>\n",
       "      <td>0</td>\n",
       "      <td>0</td>\n",
       "      <td>0</td>\n",
       "      <td>0</td>\n",
       "      <td>0</td>\n",
       "      <td>0</td>\n",
       "      <td>0</td>\n",
       "      <td>0</td>\n",
       "      <td>0</td>\n",
       "      <td>...</td>\n",
       "      <td>859</td>\n",
       "      <td>859</td>\n",
       "      <td>859</td>\n",
       "      <td>859</td>\n",
       "      <td>859</td>\n",
       "      <td>859</td>\n",
       "      <td>859</td>\n",
       "      <td>859</td>\n",
       "      <td>859</td>\n",
       "      <td>859</td>\n",
       "    </tr>\n",
       "    <tr>\n",
       "      <th>20</th>\n",
       "      <td>MD</td>\n",
       "      <td>0</td>\n",
       "      <td>0</td>\n",
       "      <td>0</td>\n",
       "      <td>0</td>\n",
       "      <td>0</td>\n",
       "      <td>0</td>\n",
       "      <td>0</td>\n",
       "      <td>0</td>\n",
       "      <td>0</td>\n",
       "      <td>...</td>\n",
       "      <td>570</td>\n",
       "      <td>570</td>\n",
       "      <td>570</td>\n",
       "      <td>570</td>\n",
       "      <td>570</td>\n",
       "      <td>570</td>\n",
       "      <td>570</td>\n",
       "      <td>570</td>\n",
       "      <td>570</td>\n",
       "      <td>570</td>\n",
       "    </tr>\n",
       "    <tr>\n",
       "      <th>21</th>\n",
       "      <td>ME</td>\n",
       "      <td>0</td>\n",
       "      <td>0</td>\n",
       "      <td>0</td>\n",
       "      <td>0</td>\n",
       "      <td>0</td>\n",
       "      <td>0</td>\n",
       "      <td>0</td>\n",
       "      <td>0</td>\n",
       "      <td>0</td>\n",
       "      <td>...</td>\n",
       "      <td>72</td>\n",
       "      <td>72</td>\n",
       "      <td>72</td>\n",
       "      <td>72</td>\n",
       "      <td>72</td>\n",
       "      <td>72</td>\n",
       "      <td>72</td>\n",
       "      <td>72</td>\n",
       "      <td>72</td>\n",
       "      <td>72</td>\n",
       "    </tr>\n",
       "    <tr>\n",
       "      <th>22</th>\n",
       "      <td>MI</td>\n",
       "      <td>0</td>\n",
       "      <td>0</td>\n",
       "      <td>0</td>\n",
       "      <td>0</td>\n",
       "      <td>0</td>\n",
       "      <td>0</td>\n",
       "      <td>0</td>\n",
       "      <td>0</td>\n",
       "      <td>0</td>\n",
       "      <td>...</td>\n",
       "      <td>5193</td>\n",
       "      <td>5193</td>\n",
       "      <td>5193</td>\n",
       "      <td>5193</td>\n",
       "      <td>5193</td>\n",
       "      <td>5193</td>\n",
       "      <td>5193</td>\n",
       "      <td>5193</td>\n",
       "      <td>5193</td>\n",
       "      <td>5193</td>\n",
       "    </tr>\n",
       "    <tr>\n",
       "      <th>23</th>\n",
       "      <td>MN</td>\n",
       "      <td>0</td>\n",
       "      <td>0</td>\n",
       "      <td>0</td>\n",
       "      <td>0</td>\n",
       "      <td>0</td>\n",
       "      <td>0</td>\n",
       "      <td>0</td>\n",
       "      <td>0</td>\n",
       "      <td>0</td>\n",
       "      <td>...</td>\n",
       "      <td>1075</td>\n",
       "      <td>1075</td>\n",
       "      <td>1075</td>\n",
       "      <td>1075</td>\n",
       "      <td>1075</td>\n",
       "      <td>1075</td>\n",
       "      <td>1075</td>\n",
       "      <td>1075</td>\n",
       "      <td>1075</td>\n",
       "      <td>1075</td>\n",
       "    </tr>\n",
       "    <tr>\n",
       "      <th>24</th>\n",
       "      <td>MO</td>\n",
       "      <td>0</td>\n",
       "      <td>0</td>\n",
       "      <td>0</td>\n",
       "      <td>0</td>\n",
       "      <td>0</td>\n",
       "      <td>0</td>\n",
       "      <td>0</td>\n",
       "      <td>0</td>\n",
       "      <td>0</td>\n",
       "      <td>...</td>\n",
       "      <td>352</td>\n",
       "      <td>352</td>\n",
       "      <td>352</td>\n",
       "      <td>352</td>\n",
       "      <td>352</td>\n",
       "      <td>352</td>\n",
       "      <td>352</td>\n",
       "      <td>352</td>\n",
       "      <td>352</td>\n",
       "      <td>352</td>\n",
       "    </tr>\n",
       "    <tr>\n",
       "      <th>25</th>\n",
       "      <td>MS</td>\n",
       "      <td>0</td>\n",
       "      <td>0</td>\n",
       "      <td>0</td>\n",
       "      <td>0</td>\n",
       "      <td>0</td>\n",
       "      <td>0</td>\n",
       "      <td>0</td>\n",
       "      <td>0</td>\n",
       "      <td>0</td>\n",
       "      <td>...</td>\n",
       "      <td>958</td>\n",
       "      <td>958</td>\n",
       "      <td>958</td>\n",
       "      <td>958</td>\n",
       "      <td>958</td>\n",
       "      <td>958</td>\n",
       "      <td>958</td>\n",
       "      <td>958</td>\n",
       "      <td>958</td>\n",
       "      <td>958</td>\n",
       "    </tr>\n",
       "    <tr>\n",
       "      <th>26</th>\n",
       "      <td>MT</td>\n",
       "      <td>0</td>\n",
       "      <td>0</td>\n",
       "      <td>0</td>\n",
       "      <td>0</td>\n",
       "      <td>0</td>\n",
       "      <td>0</td>\n",
       "      <td>0</td>\n",
       "      <td>0</td>\n",
       "      <td>0</td>\n",
       "      <td>...</td>\n",
       "      <td>337</td>\n",
       "      <td>337</td>\n",
       "      <td>337</td>\n",
       "      <td>337</td>\n",
       "      <td>337</td>\n",
       "      <td>337</td>\n",
       "      <td>337</td>\n",
       "      <td>337</td>\n",
       "      <td>337</td>\n",
       "      <td>337</td>\n",
       "    </tr>\n",
       "    <tr>\n",
       "      <th>27</th>\n",
       "      <td>NC</td>\n",
       "      <td>0</td>\n",
       "      <td>0</td>\n",
       "      <td>0</td>\n",
       "      <td>0</td>\n",
       "      <td>0</td>\n",
       "      <td>0</td>\n",
       "      <td>0</td>\n",
       "      <td>0</td>\n",
       "      <td>0</td>\n",
       "      <td>...</td>\n",
       "      <td>967</td>\n",
       "      <td>967</td>\n",
       "      <td>967</td>\n",
       "      <td>967</td>\n",
       "      <td>967</td>\n",
       "      <td>967</td>\n",
       "      <td>967</td>\n",
       "      <td>967</td>\n",
       "      <td>967</td>\n",
       "      <td>967</td>\n",
       "    </tr>\n",
       "    <tr>\n",
       "      <th>28</th>\n",
       "      <td>ND</td>\n",
       "      <td>0</td>\n",
       "      <td>0</td>\n",
       "      <td>0</td>\n",
       "      <td>0</td>\n",
       "      <td>0</td>\n",
       "      <td>0</td>\n",
       "      <td>0</td>\n",
       "      <td>0</td>\n",
       "      <td>0</td>\n",
       "      <td>...</td>\n",
       "      <td>978</td>\n",
       "      <td>978</td>\n",
       "      <td>978</td>\n",
       "      <td>978</td>\n",
       "      <td>978</td>\n",
       "      <td>978</td>\n",
       "      <td>978</td>\n",
       "      <td>978</td>\n",
       "      <td>978</td>\n",
       "      <td>978</td>\n",
       "    </tr>\n",
       "    <tr>\n",
       "      <th>29</th>\n",
       "      <td>NE</td>\n",
       "      <td>0</td>\n",
       "      <td>0</td>\n",
       "      <td>0</td>\n",
       "      <td>0</td>\n",
       "      <td>0</td>\n",
       "      <td>0</td>\n",
       "      <td>0</td>\n",
       "      <td>0</td>\n",
       "      <td>0</td>\n",
       "      <td>...</td>\n",
       "      <td>1212</td>\n",
       "      <td>1212</td>\n",
       "      <td>1212</td>\n",
       "      <td>1212</td>\n",
       "      <td>1212</td>\n",
       "      <td>1212</td>\n",
       "      <td>1212</td>\n",
       "      <td>1212</td>\n",
       "      <td>1212</td>\n",
       "      <td>1212</td>\n",
       "    </tr>\n",
       "    <tr>\n",
       "      <th>30</th>\n",
       "      <td>NH</td>\n",
       "      <td>0</td>\n",
       "      <td>0</td>\n",
       "      <td>0</td>\n",
       "      <td>0</td>\n",
       "      <td>0</td>\n",
       "      <td>0</td>\n",
       "      <td>0</td>\n",
       "      <td>0</td>\n",
       "      <td>0</td>\n",
       "      <td>...</td>\n",
       "      <td>29</td>\n",
       "      <td>29</td>\n",
       "      <td>29</td>\n",
       "      <td>29</td>\n",
       "      <td>29</td>\n",
       "      <td>29</td>\n",
       "      <td>29</td>\n",
       "      <td>29</td>\n",
       "      <td>29</td>\n",
       "      <td>29</td>\n",
       "    </tr>\n",
       "    <tr>\n",
       "      <th>31</th>\n",
       "      <td>NJ</td>\n",
       "      <td>0</td>\n",
       "      <td>0</td>\n",
       "      <td>0</td>\n",
       "      <td>0</td>\n",
       "      <td>0</td>\n",
       "      <td>0</td>\n",
       "      <td>0</td>\n",
       "      <td>0</td>\n",
       "      <td>0</td>\n",
       "      <td>...</td>\n",
       "      <td>466</td>\n",
       "      <td>466</td>\n",
       "      <td>466</td>\n",
       "      <td>466</td>\n",
       "      <td>466</td>\n",
       "      <td>466</td>\n",
       "      <td>466</td>\n",
       "      <td>466</td>\n",
       "      <td>466</td>\n",
       "      <td>466</td>\n",
       "    </tr>\n",
       "    <tr>\n",
       "      <th>32</th>\n",
       "      <td>NM</td>\n",
       "      <td>0</td>\n",
       "      <td>0</td>\n",
       "      <td>0</td>\n",
       "      <td>0</td>\n",
       "      <td>0</td>\n",
       "      <td>0</td>\n",
       "      <td>0</td>\n",
       "      <td>0</td>\n",
       "      <td>0</td>\n",
       "      <td>...</td>\n",
       "      <td>368</td>\n",
       "      <td>398</td>\n",
       "      <td>401</td>\n",
       "      <td>416</td>\n",
       "      <td>412</td>\n",
       "      <td>413</td>\n",
       "      <td>566</td>\n",
       "      <td>550</td>\n",
       "      <td>542</td>\n",
       "      <td>528</td>\n",
       "    </tr>\n",
       "    <tr>\n",
       "      <th>33</th>\n",
       "      <td>NV</td>\n",
       "      <td>0</td>\n",
       "      <td>0</td>\n",
       "      <td>0</td>\n",
       "      <td>0</td>\n",
       "      <td>0</td>\n",
       "      <td>0</td>\n",
       "      <td>0</td>\n",
       "      <td>0</td>\n",
       "      <td>0</td>\n",
       "      <td>...</td>\n",
       "      <td>10658</td>\n",
       "      <td>10858</td>\n",
       "      <td>12161</td>\n",
       "      <td>12990</td>\n",
       "      <td>12780</td>\n",
       "      <td>13360</td>\n",
       "      <td>14886</td>\n",
       "      <td>14517</td>\n",
       "      <td>14914</td>\n",
       "      <td>14913</td>\n",
       "    </tr>\n",
       "    <tr>\n",
       "      <th>34</th>\n",
       "      <td>NY</td>\n",
       "      <td>0</td>\n",
       "      <td>0</td>\n",
       "      <td>0</td>\n",
       "      <td>0</td>\n",
       "      <td>0</td>\n",
       "      <td>0</td>\n",
       "      <td>0</td>\n",
       "      <td>0</td>\n",
       "      <td>0</td>\n",
       "      <td>...</td>\n",
       "      <td>1185</td>\n",
       "      <td>1185</td>\n",
       "      <td>1185</td>\n",
       "      <td>1185</td>\n",
       "      <td>1185</td>\n",
       "      <td>1185</td>\n",
       "      <td>1185</td>\n",
       "      <td>1185</td>\n",
       "      <td>1185</td>\n",
       "      <td>1185</td>\n",
       "    </tr>\n",
       "    <tr>\n",
       "      <th>35</th>\n",
       "      <td>OH</td>\n",
       "      <td>0</td>\n",
       "      <td>0</td>\n",
       "      <td>0</td>\n",
       "      <td>0</td>\n",
       "      <td>0</td>\n",
       "      <td>0</td>\n",
       "      <td>0</td>\n",
       "      <td>0</td>\n",
       "      <td>0</td>\n",
       "      <td>...</td>\n",
       "      <td>3435</td>\n",
       "      <td>3435</td>\n",
       "      <td>3435</td>\n",
       "      <td>3435</td>\n",
       "      <td>3435</td>\n",
       "      <td>3435</td>\n",
       "      <td>3435</td>\n",
       "      <td>3435</td>\n",
       "      <td>3435</td>\n",
       "      <td>3435</td>\n",
       "    </tr>\n",
       "    <tr>\n",
       "      <th>36</th>\n",
       "      <td>OK</td>\n",
       "      <td>0</td>\n",
       "      <td>0</td>\n",
       "      <td>0</td>\n",
       "      <td>0</td>\n",
       "      <td>0</td>\n",
       "      <td>0</td>\n",
       "      <td>0</td>\n",
       "      <td>0</td>\n",
       "      <td>0</td>\n",
       "      <td>...</td>\n",
       "      <td>24</td>\n",
       "      <td>24</td>\n",
       "      <td>24</td>\n",
       "      <td>24</td>\n",
       "      <td>24</td>\n",
       "      <td>24</td>\n",
       "      <td>24</td>\n",
       "      <td>24</td>\n",
       "      <td>24</td>\n",
       "      <td>24</td>\n",
       "    </tr>\n",
       "    <tr>\n",
       "      <th>37</th>\n",
       "      <td>OR</td>\n",
       "      <td>0</td>\n",
       "      <td>0</td>\n",
       "      <td>0</td>\n",
       "      <td>0</td>\n",
       "      <td>0</td>\n",
       "      <td>0</td>\n",
       "      <td>0</td>\n",
       "      <td>0</td>\n",
       "      <td>0</td>\n",
       "      <td>...</td>\n",
       "      <td>1794</td>\n",
       "      <td>1858</td>\n",
       "      <td>1842</td>\n",
       "      <td>1859</td>\n",
       "      <td>1827</td>\n",
       "      <td>1834</td>\n",
       "      <td>1865</td>\n",
       "      <td>1888</td>\n",
       "      <td>1856</td>\n",
       "      <td>1842</td>\n",
       "    </tr>\n",
       "    <tr>\n",
       "      <th>38</th>\n",
       "      <td>PA</td>\n",
       "      <td>0</td>\n",
       "      <td>0</td>\n",
       "      <td>0</td>\n",
       "      <td>0</td>\n",
       "      <td>0</td>\n",
       "      <td>0</td>\n",
       "      <td>0</td>\n",
       "      <td>0</td>\n",
       "      <td>0</td>\n",
       "      <td>...</td>\n",
       "      <td>2162</td>\n",
       "      <td>2162</td>\n",
       "      <td>2162</td>\n",
       "      <td>2162</td>\n",
       "      <td>2162</td>\n",
       "      <td>2162</td>\n",
       "      <td>2162</td>\n",
       "      <td>2162</td>\n",
       "      <td>2162</td>\n",
       "      <td>2162</td>\n",
       "    </tr>\n",
       "    <tr>\n",
       "      <th>39</th>\n",
       "      <td>RI</td>\n",
       "      <td>0</td>\n",
       "      <td>0</td>\n",
       "      <td>0</td>\n",
       "      <td>0</td>\n",
       "      <td>0</td>\n",
       "      <td>0</td>\n",
       "      <td>0</td>\n",
       "      <td>0</td>\n",
       "      <td>0</td>\n",
       "      <td>...</td>\n",
       "      <td>57</td>\n",
       "      <td>57</td>\n",
       "      <td>57</td>\n",
       "      <td>57</td>\n",
       "      <td>57</td>\n",
       "      <td>57</td>\n",
       "      <td>57</td>\n",
       "      <td>57</td>\n",
       "      <td>57</td>\n",
       "      <td>57</td>\n",
       "    </tr>\n",
       "    <tr>\n",
       "      <th>40</th>\n",
       "      <td>SC</td>\n",
       "      <td>0</td>\n",
       "      <td>0</td>\n",
       "      <td>0</td>\n",
       "      <td>0</td>\n",
       "      <td>0</td>\n",
       "      <td>0</td>\n",
       "      <td>0</td>\n",
       "      <td>0</td>\n",
       "      <td>0</td>\n",
       "      <td>...</td>\n",
       "      <td>648</td>\n",
       "      <td>648</td>\n",
       "      <td>648</td>\n",
       "      <td>648</td>\n",
       "      <td>648</td>\n",
       "      <td>648</td>\n",
       "      <td>648</td>\n",
       "      <td>648</td>\n",
       "      <td>648</td>\n",
       "      <td>648</td>\n",
       "    </tr>\n",
       "    <tr>\n",
       "      <th>41</th>\n",
       "      <td>SD</td>\n",
       "      <td>0</td>\n",
       "      <td>0</td>\n",
       "      <td>0</td>\n",
       "      <td>0</td>\n",
       "      <td>0</td>\n",
       "      <td>0</td>\n",
       "      <td>0</td>\n",
       "      <td>0</td>\n",
       "      <td>0</td>\n",
       "      <td>...</td>\n",
       "      <td>1868</td>\n",
       "      <td>1868</td>\n",
       "      <td>1868</td>\n",
       "      <td>1868</td>\n",
       "      <td>1868</td>\n",
       "      <td>1868</td>\n",
       "      <td>1868</td>\n",
       "      <td>1868</td>\n",
       "      <td>1868</td>\n",
       "      <td>1868</td>\n",
       "    </tr>\n",
       "    <tr>\n",
       "      <th>42</th>\n",
       "      <td>TN</td>\n",
       "      <td>0</td>\n",
       "      <td>0</td>\n",
       "      <td>0</td>\n",
       "      <td>0</td>\n",
       "      <td>0</td>\n",
       "      <td>0</td>\n",
       "      <td>0</td>\n",
       "      <td>0</td>\n",
       "      <td>0</td>\n",
       "      <td>...</td>\n",
       "      <td>213</td>\n",
       "      <td>213</td>\n",
       "      <td>213</td>\n",
       "      <td>213</td>\n",
       "      <td>213</td>\n",
       "      <td>213</td>\n",
       "      <td>213</td>\n",
       "      <td>213</td>\n",
       "      <td>213</td>\n",
       "      <td>213</td>\n",
       "    </tr>\n",
       "    <tr>\n",
       "      <th>43</th>\n",
       "      <td>TX</td>\n",
       "      <td>0</td>\n",
       "      <td>0</td>\n",
       "      <td>0</td>\n",
       "      <td>0</td>\n",
       "      <td>0</td>\n",
       "      <td>0</td>\n",
       "      <td>0</td>\n",
       "      <td>0</td>\n",
       "      <td>0</td>\n",
       "      <td>...</td>\n",
       "      <td>2478</td>\n",
       "      <td>2478</td>\n",
       "      <td>2478</td>\n",
       "      <td>2478</td>\n",
       "      <td>2478</td>\n",
       "      <td>2478</td>\n",
       "      <td>2478</td>\n",
       "      <td>2478</td>\n",
       "      <td>2478</td>\n",
       "      <td>2478</td>\n",
       "    </tr>\n",
       "    <tr>\n",
       "      <th>44</th>\n",
       "      <td>UT</td>\n",
       "      <td>0</td>\n",
       "      <td>0</td>\n",
       "      <td>0</td>\n",
       "      <td>0</td>\n",
       "      <td>0</td>\n",
       "      <td>0</td>\n",
       "      <td>0</td>\n",
       "      <td>0</td>\n",
       "      <td>0</td>\n",
       "      <td>...</td>\n",
       "      <td>1896</td>\n",
       "      <td>2588</td>\n",
       "      <td>2274</td>\n",
       "      <td>2463</td>\n",
       "      <td>2449</td>\n",
       "      <td>2329</td>\n",
       "      <td>1867</td>\n",
       "      <td>2094</td>\n",
       "      <td>2240</td>\n",
       "      <td>2389</td>\n",
       "    </tr>\n",
       "    <tr>\n",
       "      <th>45</th>\n",
       "      <td>VA</td>\n",
       "      <td>0</td>\n",
       "      <td>0</td>\n",
       "      <td>0</td>\n",
       "      <td>0</td>\n",
       "      <td>0</td>\n",
       "      <td>0</td>\n",
       "      <td>0</td>\n",
       "      <td>0</td>\n",
       "      <td>0</td>\n",
       "      <td>...</td>\n",
       "      <td>1701</td>\n",
       "      <td>1701</td>\n",
       "      <td>1701</td>\n",
       "      <td>1701</td>\n",
       "      <td>1701</td>\n",
       "      <td>1701</td>\n",
       "      <td>1701</td>\n",
       "      <td>1701</td>\n",
       "      <td>1701</td>\n",
       "      <td>1701</td>\n",
       "    </tr>\n",
       "    <tr>\n",
       "      <th>46</th>\n",
       "      <td>VT</td>\n",
       "      <td>0</td>\n",
       "      <td>0</td>\n",
       "      <td>0</td>\n",
       "      <td>0</td>\n",
       "      <td>0</td>\n",
       "      <td>0</td>\n",
       "      <td>0</td>\n",
       "      <td>0</td>\n",
       "      <td>0</td>\n",
       "      <td>...</td>\n",
       "      <td>29</td>\n",
       "      <td>29</td>\n",
       "      <td>29</td>\n",
       "      <td>29</td>\n",
       "      <td>29</td>\n",
       "      <td>29</td>\n",
       "      <td>29</td>\n",
       "      <td>29</td>\n",
       "      <td>29</td>\n",
       "      <td>29</td>\n",
       "    </tr>\n",
       "    <tr>\n",
       "      <th>47</th>\n",
       "      <td>WA</td>\n",
       "      <td>0</td>\n",
       "      <td>0</td>\n",
       "      <td>0</td>\n",
       "      <td>0</td>\n",
       "      <td>0</td>\n",
       "      <td>0</td>\n",
       "      <td>0</td>\n",
       "      <td>0</td>\n",
       "      <td>0</td>\n",
       "      <td>...</td>\n",
       "      <td>1136</td>\n",
       "      <td>1136</td>\n",
       "      <td>1136</td>\n",
       "      <td>1136</td>\n",
       "      <td>1136</td>\n",
       "      <td>1136</td>\n",
       "      <td>1136</td>\n",
       "      <td>1136</td>\n",
       "      <td>1136</td>\n",
       "      <td>1136</td>\n",
       "    </tr>\n",
       "    <tr>\n",
       "      <th>48</th>\n",
       "      <td>WI</td>\n",
       "      <td>0</td>\n",
       "      <td>0</td>\n",
       "      <td>0</td>\n",
       "      <td>0</td>\n",
       "      <td>0</td>\n",
       "      <td>0</td>\n",
       "      <td>0</td>\n",
       "      <td>0</td>\n",
       "      <td>0</td>\n",
       "      <td>...</td>\n",
       "      <td>615</td>\n",
       "      <td>615</td>\n",
       "      <td>615</td>\n",
       "      <td>615</td>\n",
       "      <td>615</td>\n",
       "      <td>615</td>\n",
       "      <td>615</td>\n",
       "      <td>615</td>\n",
       "      <td>615</td>\n",
       "      <td>615</td>\n",
       "    </tr>\n",
       "    <tr>\n",
       "      <th>49</th>\n",
       "      <td>WV</td>\n",
       "      <td>0</td>\n",
       "      <td>0</td>\n",
       "      <td>0</td>\n",
       "      <td>0</td>\n",
       "      <td>0</td>\n",
       "      <td>0</td>\n",
       "      <td>0</td>\n",
       "      <td>0</td>\n",
       "      <td>0</td>\n",
       "      <td>...</td>\n",
       "      <td>32</td>\n",
       "      <td>32</td>\n",
       "      <td>32</td>\n",
       "      <td>32</td>\n",
       "      <td>32</td>\n",
       "      <td>32</td>\n",
       "      <td>32</td>\n",
       "      <td>32</td>\n",
       "      <td>32</td>\n",
       "      <td>32</td>\n",
       "    </tr>\n",
       "    <tr>\n",
       "      <th>50</th>\n",
       "      <td>WY</td>\n",
       "      <td>0</td>\n",
       "      <td>0</td>\n",
       "      <td>0</td>\n",
       "      <td>0</td>\n",
       "      <td>0</td>\n",
       "      <td>0</td>\n",
       "      <td>0</td>\n",
       "      <td>0</td>\n",
       "      <td>0</td>\n",
       "      <td>...</td>\n",
       "      <td>663</td>\n",
       "      <td>663</td>\n",
       "      <td>663</td>\n",
       "      <td>663</td>\n",
       "      <td>663</td>\n",
       "      <td>663</td>\n",
       "      <td>663</td>\n",
       "      <td>663</td>\n",
       "      <td>663</td>\n",
       "      <td>663</td>\n",
       "    </tr>\n",
       "    <tr>\n",
       "      <th>51</th>\n",
       "      <td>US</td>\n",
       "      <td>114</td>\n",
       "      <td>321</td>\n",
       "      <td>343</td>\n",
       "      <td>573</td>\n",
       "      <td>695</td>\n",
       "      <td>646</td>\n",
       "      <td>641</td>\n",
       "      <td>1079</td>\n",
       "      <td>1487</td>\n",
       "      <td>...</td>\n",
       "      <td>117323</td>\n",
       "      <td>117672</td>\n",
       "      <td>117811</td>\n",
       "      <td>117498</td>\n",
       "      <td>117842</td>\n",
       "      <td>117980</td>\n",
       "      <td>116293</td>\n",
       "      <td>117716</td>\n",
       "      <td>118007</td>\n",
       "      <td>118389</td>\n",
       "    </tr>\n",
       "  </tbody>\n",
       "</table>\n",
       "<p>52 rows × 64 columns</p>\n",
       "</div>"
      ],
      "text/plain": [
       "   State  1960  1961  1962  1963  1964  1965  1966  1967  1968  ...    2013  \\\n",
       "0     AK     0     0     0     0     0     0     0     0     0  ...     186   \n",
       "1     AL     0     0     0     0     0     0     0     0     0  ...     141   \n",
       "2     AR     0     0     0     0     0     0     0     0     0  ...     808   \n",
       "3     AZ     0     0     0     0     0     0     0     0     0  ...     345   \n",
       "4     CA   114   321   343   573   695   646   641  1079  1487  ...   44129   \n",
       "5     CO     0     0     0     0     0     0     0     0     0  ...     759   \n",
       "6     CT     0     0     0     0     0     0     0     0     0  ...      21   \n",
       "7     DC     0     0     0     0     0     0     0     0     0  ...      22   \n",
       "8     DE     0     0     0     0     0     0     0     0     0  ...     430   \n",
       "9     FL     0     0     0     0     0     0     0     0     0  ...   10056   \n",
       "10    GA     0     0     0     0     0     0     0     0     0  ...     315   \n",
       "11    HI     0     0     0     0     0     0     0     0     0  ...     946   \n",
       "12    IA     0     0     0     0     0     0     0     0     0  ...    1281   \n",
       "13    ID     0     0     0     0     0     0     0     0     0  ...    1638   \n",
       "14    IL     0     0     0     0     0     0     0     0     0  ...    2042   \n",
       "15    IN     0     0     0     0     0     0     0     0     0  ...    4647   \n",
       "16    KS     0     0     0     0     0     0     0     0     0  ...     974   \n",
       "17    KY     0     0     0     0     0     0     0     0     0  ...    2712   \n",
       "18    LA     0     0     0     0     0     0     0     0     0  ...    1842   \n",
       "19    MA     0     0     0     0     0     0     0     0     0  ...     859   \n",
       "20    MD     0     0     0     0     0     0     0     0     0  ...     570   \n",
       "21    ME     0     0     0     0     0     0     0     0     0  ...      72   \n",
       "22    MI     0     0     0     0     0     0     0     0     0  ...    5193   \n",
       "23    MN     0     0     0     0     0     0     0     0     0  ...    1075   \n",
       "24    MO     0     0     0     0     0     0     0     0     0  ...     352   \n",
       "25    MS     0     0     0     0     0     0     0     0     0  ...     958   \n",
       "26    MT     0     0     0     0     0     0     0     0     0  ...     337   \n",
       "27    NC     0     0     0     0     0     0     0     0     0  ...     967   \n",
       "28    ND     0     0     0     0     0     0     0     0     0  ...     978   \n",
       "29    NE     0     0     0     0     0     0     0     0     0  ...    1212   \n",
       "30    NH     0     0     0     0     0     0     0     0     0  ...      29   \n",
       "31    NJ     0     0     0     0     0     0     0     0     0  ...     466   \n",
       "32    NM     0     0     0     0     0     0     0     0     0  ...     368   \n",
       "33    NV     0     0     0     0     0     0     0     0     0  ...   10658   \n",
       "34    NY     0     0     0     0     0     0     0     0     0  ...    1185   \n",
       "35    OH     0     0     0     0     0     0     0     0     0  ...    3435   \n",
       "36    OK     0     0     0     0     0     0     0     0     0  ...      24   \n",
       "37    OR     0     0     0     0     0     0     0     0     0  ...    1794   \n",
       "38    PA     0     0     0     0     0     0     0     0     0  ...    2162   \n",
       "39    RI     0     0     0     0     0     0     0     0     0  ...      57   \n",
       "40    SC     0     0     0     0     0     0     0     0     0  ...     648   \n",
       "41    SD     0     0     0     0     0     0     0     0     0  ...    1868   \n",
       "42    TN     0     0     0     0     0     0     0     0     0  ...     213   \n",
       "43    TX     0     0     0     0     0     0     0     0     0  ...    2478   \n",
       "44    UT     0     0     0     0     0     0     0     0     0  ...    1896   \n",
       "45    VA     0     0     0     0     0     0     0     0     0  ...    1701   \n",
       "46    VT     0     0     0     0     0     0     0     0     0  ...      29   \n",
       "47    WA     0     0     0     0     0     0     0     0     0  ...    1136   \n",
       "48    WI     0     0     0     0     0     0     0     0     0  ...     615   \n",
       "49    WV     0     0     0     0     0     0     0     0     0  ...      32   \n",
       "50    WY     0     0     0     0     0     0     0     0     0  ...     663   \n",
       "51    US   114   321   343   573   695   646   641  1079  1487  ...  117323   \n",
       "\n",
       "      2014    2015    2016    2017    2018    2019    2020    2021    2022  \n",
       "0      186     186     186     186     186     186     186     186     186  \n",
       "1      141     141     141     141     141     141     141     141     141  \n",
       "2      808     808     808     808     808     808     808     808     808  \n",
       "3      345     345     345     345     345     345     345     345     345  \n",
       "4    43430   42684   41231   41580   41980   39378   40921   40106   40288  \n",
       "5      759     759     759     759     759     759     759     759     759  \n",
       "6       21      21      21      21      21      21      21      21      21  \n",
       "7       22      22      22      22      22      22      22      22      22  \n",
       "8      430     430     430     430     430     430     430     430     430  \n",
       "9    10056   10056   10056   10056   10056   10056   10056   10056   10056  \n",
       "10     315     315     315     315     315     315     315     315     315  \n",
       "11     874     794     895    1108     383       8      41     635     719  \n",
       "12    1281    1281    1281    1281    1281    1281    1281    1281    1281  \n",
       "13    1771    1760    1748    1790    1786    1828    1811    1819    1814  \n",
       "14    2042    2042    2042    2042    2042    2042    2042    2042    2042  \n",
       "15    4647    4647    4647    4647    4647    4647    4647    4647    4647  \n",
       "16     974     974     974     974     974     974     974     974     974  \n",
       "17    2712    2712    2712    2712    2712    2712    2712    2712    2712  \n",
       "18    1842    1842    1842    1842    1842    1842    1842    1842    1842  \n",
       "19     859     859     859     859     859     859     859     859     859  \n",
       "20     570     570     570     570     570     570     570     570     570  \n",
       "21      72      72      72      72      72      72      72      72      72  \n",
       "22    5193    5193    5193    5193    5193    5193    5193    5193    5193  \n",
       "23    1075    1075    1075    1075    1075    1075    1075    1075    1075  \n",
       "24     352     352     352     352     352     352     352     352     352  \n",
       "25     958     958     958     958     958     958     958     958     958  \n",
       "26     337     337     337     337     337     337     337     337     337  \n",
       "27     967     967     967     967     967     967     967     967     967  \n",
       "28     978     978     978     978     978     978     978     978     978  \n",
       "29    1212    1212    1212    1212    1212    1212    1212    1212    1212  \n",
       "30      29      29      29      29      29      29      29      29      29  \n",
       "31     466     466     466     466     466     466     466     466     466  \n",
       "32     398     401     416     412     413     566     550     542     528  \n",
       "33   10858   12161   12990   12780   13360   14886   14517   14914   14913  \n",
       "34    1185    1185    1185    1185    1185    1185    1185    1185    1185  \n",
       "35    3435    3435    3435    3435    3435    3435    3435    3435    3435  \n",
       "36      24      24      24      24      24      24      24      24      24  \n",
       "37    1858    1842    1859    1827    1834    1865    1888    1856    1842  \n",
       "38    2162    2162    2162    2162    2162    2162    2162    2162    2162  \n",
       "39      57      57      57      57      57      57      57      57      57  \n",
       "40     648     648     648     648     648     648     648     648     648  \n",
       "41    1868    1868    1868    1868    1868    1868    1868    1868    1868  \n",
       "42     213     213     213     213     213     213     213     213     213  \n",
       "43    2478    2478    2478    2478    2478    2478    2478    2478    2478  \n",
       "44    2588    2274    2463    2449    2329    1867    2094    2240    2389  \n",
       "45    1701    1701    1701    1701    1701    1701    1701    1701    1701  \n",
       "46      29      29      29      29      29      29      29      29      29  \n",
       "47    1136    1136    1136    1136    1136    1136    1136    1136    1136  \n",
       "48     615     615     615     615     615     615     615     615     615  \n",
       "49      32      32      32      32      32      32      32      32      32  \n",
       "50     663     663     663     663     663     663     663     663     663  \n",
       "51  117672  117811  117498  117842  117980  116293  117716  118007  118389  \n",
       "\n",
       "[52 rows x 64 columns]"
      ]
     },
     "execution_count": 25,
     "metadata": {},
     "output_type": "execute_result"
    }
   ],
   "source": [
    "# Geothermal Data\n",
    "renewable_energy_2 = pd.read_excel('use_renew_sector.xlsx', sheet_name=\"Geothermal\", header=2)\n",
    "renewable_energy_2"
   ]
  },
  {
   "cell_type": "code",
   "execution_count": 26,
   "id": "845b7de0-4c87-4dae-9e89-9ce98b2b5571",
   "metadata": {},
   "outputs": [
    {
     "data": {
      "text/html": [
       "<div>\n",
       "<style scoped>\n",
       "    .dataframe tbody tr th:only-of-type {\n",
       "        vertical-align: middle;\n",
       "    }\n",
       "\n",
       "    .dataframe tbody tr th {\n",
       "        vertical-align: top;\n",
       "    }\n",
       "\n",
       "    .dataframe thead th {\n",
       "        text-align: right;\n",
       "    }\n",
       "</style>\n",
       "<table border=\"1\" class=\"dataframe\">\n",
       "  <thead>\n",
       "    <tr style=\"text-align: right;\">\n",
       "      <th></th>\n",
       "      <th>State</th>\n",
       "      <th>Year</th>\n",
       "      <th>BTU_geo</th>\n",
       "    </tr>\n",
       "  </thead>\n",
       "  <tbody>\n",
       "    <tr>\n",
       "      <th>0</th>\n",
       "      <td>AK</td>\n",
       "      <td>2000</td>\n",
       "      <td>86</td>\n",
       "    </tr>\n",
       "    <tr>\n",
       "      <th>1</th>\n",
       "      <td>AL</td>\n",
       "      <td>2000</td>\n",
       "      <td>62</td>\n",
       "    </tr>\n",
       "    <tr>\n",
       "      <th>2</th>\n",
       "      <td>AR</td>\n",
       "      <td>2000</td>\n",
       "      <td>192</td>\n",
       "    </tr>\n",
       "    <tr>\n",
       "      <th>3</th>\n",
       "      <td>AZ</td>\n",
       "      <td>2000</td>\n",
       "      <td>286</td>\n",
       "    </tr>\n",
       "    <tr>\n",
       "      <th>4</th>\n",
       "      <td>CA</td>\n",
       "      <td>2000</td>\n",
       "      <td>44038</td>\n",
       "    </tr>\n",
       "    <tr>\n",
       "      <th>...</th>\n",
       "      <td>...</td>\n",
       "      <td>...</td>\n",
       "      <td>...</td>\n",
       "    </tr>\n",
       "    <tr>\n",
       "      <th>1191</th>\n",
       "      <td>WA</td>\n",
       "      <td>2022</td>\n",
       "      <td>1136</td>\n",
       "    </tr>\n",
       "    <tr>\n",
       "      <th>1192</th>\n",
       "      <td>WI</td>\n",
       "      <td>2022</td>\n",
       "      <td>615</td>\n",
       "    </tr>\n",
       "    <tr>\n",
       "      <th>1193</th>\n",
       "      <td>WV</td>\n",
       "      <td>2022</td>\n",
       "      <td>32</td>\n",
       "    </tr>\n",
       "    <tr>\n",
       "      <th>1194</th>\n",
       "      <td>WY</td>\n",
       "      <td>2022</td>\n",
       "      <td>663</td>\n",
       "    </tr>\n",
       "    <tr>\n",
       "      <th>1195</th>\n",
       "      <td>US</td>\n",
       "      <td>2022</td>\n",
       "      <td>118389</td>\n",
       "    </tr>\n",
       "  </tbody>\n",
       "</table>\n",
       "<p>1196 rows × 3 columns</p>\n",
       "</div>"
      ],
      "text/plain": [
       "     State  Year  BTU_geo\n",
       "0       AK  2000       86\n",
       "1       AL  2000       62\n",
       "2       AR  2000      192\n",
       "3       AZ  2000      286\n",
       "4       CA  2000    44038\n",
       "...    ...   ...      ...\n",
       "1191    WA  2022     1136\n",
       "1192    WI  2022      615\n",
       "1193    WV  2022       32\n",
       "1194    WY  2022      663\n",
       "1195    US  2022   118389\n",
       "\n",
       "[1196 rows x 3 columns]"
      ]
     },
     "execution_count": 26,
     "metadata": {},
     "output_type": "execute_result"
    }
   ],
   "source": [
    "geo_melted = pd.melt(\n",
    "    renewable_energy_2,\n",
    "    id_vars=[\"State\"],  # Columns to keep fixed\n",
    "    var_name=\"Year\",    # New column for the year\n",
    "    value_name=\"BTU_geo\"  # New column for values (price, expenditure, etc.)\n",
    ")\n",
    "geo_melted\n",
    "\n",
    "## only keep years 2000-2022\n",
    "filter_geo_melted = geo_melted[\n",
    "    (geo_melted[\"Year\"].astype(int) >= 2000) & (geo_melted[\"Year\"].astype(int) <= 2022)\n",
    "].reset_index()\n",
    "filter_geo_melted\n",
    "\n",
    "filter_geo_melted = filter_geo_melted.drop(['index'], axis=1) # dropping index columns\n",
    "filter_geo_melted"
   ]
  },
  {
   "cell_type": "markdown",
   "id": "20e38ada-9700-49db-9131-77bac7b68d22",
   "metadata": {},
   "source": [
    "#### SOLAR"
   ]
  },
  {
   "cell_type": "code",
   "execution_count": 27,
   "id": "7c077a16-0582-4f8c-bf36-11960585bdf3",
   "metadata": {},
   "outputs": [
    {
     "data": {
      "text/html": [
       "<div>\n",
       "<style scoped>\n",
       "    .dataframe tbody tr th:only-of-type {\n",
       "        vertical-align: middle;\n",
       "    }\n",
       "\n",
       "    .dataframe tbody tr th {\n",
       "        vertical-align: top;\n",
       "    }\n",
       "\n",
       "    .dataframe thead th {\n",
       "        text-align: right;\n",
       "    }\n",
       "</style>\n",
       "<table border=\"1\" class=\"dataframe\">\n",
       "  <thead>\n",
       "    <tr style=\"text-align: right;\">\n",
       "      <th></th>\n",
       "      <th>State</th>\n",
       "      <th>1960</th>\n",
       "      <th>1961</th>\n",
       "      <th>1962</th>\n",
       "      <th>1963</th>\n",
       "      <th>1964</th>\n",
       "      <th>1965</th>\n",
       "      <th>1966</th>\n",
       "      <th>1967</th>\n",
       "      <th>1968</th>\n",
       "      <th>...</th>\n",
       "      <th>2013</th>\n",
       "      <th>2014</th>\n",
       "      <th>2015</th>\n",
       "      <th>2016</th>\n",
       "      <th>2017</th>\n",
       "      <th>2018</th>\n",
       "      <th>2019</th>\n",
       "      <th>2020</th>\n",
       "      <th>2021</th>\n",
       "      <th>2022</th>\n",
       "    </tr>\n",
       "  </thead>\n",
       "  <tbody>\n",
       "    <tr>\n",
       "      <th>0</th>\n",
       "      <td>AK</td>\n",
       "      <td>0</td>\n",
       "      <td>0</td>\n",
       "      <td>0</td>\n",
       "      <td>0</td>\n",
       "      <td>0</td>\n",
       "      <td>0</td>\n",
       "      <td>0</td>\n",
       "      <td>0</td>\n",
       "      <td>0</td>\n",
       "      <td>...</td>\n",
       "      <td>3</td>\n",
       "      <td>3</td>\n",
       "      <td>3</td>\n",
       "      <td>7</td>\n",
       "      <td>10</td>\n",
       "      <td>13</td>\n",
       "      <td>17</td>\n",
       "      <td>26</td>\n",
       "      <td>45</td>\n",
       "      <td>57</td>\n",
       "    </tr>\n",
       "    <tr>\n",
       "      <th>1</th>\n",
       "      <td>AL</td>\n",
       "      <td>0</td>\n",
       "      <td>0</td>\n",
       "      <td>0</td>\n",
       "      <td>0</td>\n",
       "      <td>0</td>\n",
       "      <td>0</td>\n",
       "      <td>0</td>\n",
       "      <td>0</td>\n",
       "      <td>0</td>\n",
       "      <td>...</td>\n",
       "      <td>79</td>\n",
       "      <td>81</td>\n",
       "      <td>82</td>\n",
       "      <td>205</td>\n",
       "      <td>717</td>\n",
       "      <td>1330</td>\n",
       "      <td>1435</td>\n",
       "      <td>1383</td>\n",
       "      <td>1823</td>\n",
       "      <td>3200</td>\n",
       "    </tr>\n",
       "    <tr>\n",
       "      <th>2</th>\n",
       "      <td>AR</td>\n",
       "      <td>0</td>\n",
       "      <td>0</td>\n",
       "      <td>0</td>\n",
       "      <td>0</td>\n",
       "      <td>0</td>\n",
       "      <td>0</td>\n",
       "      <td>0</td>\n",
       "      <td>0</td>\n",
       "      <td>0</td>\n",
       "      <td>...</td>\n",
       "      <td>79</td>\n",
       "      <td>81</td>\n",
       "      <td>87</td>\n",
       "      <td>179</td>\n",
       "      <td>206</td>\n",
       "      <td>836</td>\n",
       "      <td>906</td>\n",
       "      <td>1290</td>\n",
       "      <td>2221</td>\n",
       "      <td>3365</td>\n",
       "    </tr>\n",
       "    <tr>\n",
       "      <th>3</th>\n",
       "      <td>AZ</td>\n",
       "      <td>0</td>\n",
       "      <td>0</td>\n",
       "      <td>0</td>\n",
       "      <td>0</td>\n",
       "      <td>0</td>\n",
       "      <td>0</td>\n",
       "      <td>0</td>\n",
       "      <td>0</td>\n",
       "      <td>0</td>\n",
       "      <td>...</td>\n",
       "      <td>13277</td>\n",
       "      <td>17693</td>\n",
       "      <td>19718</td>\n",
       "      <td>21605</td>\n",
       "      <td>26670</td>\n",
       "      <td>28624</td>\n",
       "      <td>30137</td>\n",
       "      <td>33221</td>\n",
       "      <td>37795</td>\n",
       "      <td>41092</td>\n",
       "    </tr>\n",
       "    <tr>\n",
       "      <th>4</th>\n",
       "      <td>CA</td>\n",
       "      <td>0</td>\n",
       "      <td>0</td>\n",
       "      <td>0</td>\n",
       "      <td>0</td>\n",
       "      <td>0</td>\n",
       "      <td>0</td>\n",
       "      <td>0</td>\n",
       "      <td>0</td>\n",
       "      <td>0</td>\n",
       "      <td>...</td>\n",
       "      <td>41442</td>\n",
       "      <td>67394</td>\n",
       "      <td>88805</td>\n",
       "      <td>110181</td>\n",
       "      <td>137566</td>\n",
       "      <td>154475</td>\n",
       "      <td>166707</td>\n",
       "      <td>181068</td>\n",
       "      <td>205221</td>\n",
       "      <td>232908</td>\n",
       "    </tr>\n",
       "    <tr>\n",
       "      <th>5</th>\n",
       "      <td>CO</td>\n",
       "      <td>0</td>\n",
       "      <td>0</td>\n",
       "      <td>0</td>\n",
       "      <td>0</td>\n",
       "      <td>0</td>\n",
       "      <td>0</td>\n",
       "      <td>0</td>\n",
       "      <td>0</td>\n",
       "      <td>0</td>\n",
       "      <td>...</td>\n",
       "      <td>2039</td>\n",
       "      <td>2348</td>\n",
       "      <td>2474</td>\n",
       "      <td>3694</td>\n",
       "      <td>5358</td>\n",
       "      <td>5929</td>\n",
       "      <td>6609</td>\n",
       "      <td>7813</td>\n",
       "      <td>9801</td>\n",
       "      <td>13159</td>\n",
       "    </tr>\n",
       "    <tr>\n",
       "      <th>6</th>\n",
       "      <td>CT</td>\n",
       "      <td>0</td>\n",
       "      <td>0</td>\n",
       "      <td>0</td>\n",
       "      <td>0</td>\n",
       "      <td>0</td>\n",
       "      <td>0</td>\n",
       "      <td>0</td>\n",
       "      <td>0</td>\n",
       "      <td>0</td>\n",
       "      <td>...</td>\n",
       "      <td>1156</td>\n",
       "      <td>1399</td>\n",
       "      <td>1675</td>\n",
       "      <td>2123</td>\n",
       "      <td>2492</td>\n",
       "      <td>3034</td>\n",
       "      <td>3487</td>\n",
       "      <td>4209</td>\n",
       "      <td>4831</td>\n",
       "      <td>5982</td>\n",
       "    </tr>\n",
       "    <tr>\n",
       "      <th>7</th>\n",
       "      <td>DC</td>\n",
       "      <td>0</td>\n",
       "      <td>0</td>\n",
       "      <td>0</td>\n",
       "      <td>0</td>\n",
       "      <td>0</td>\n",
       "      <td>0</td>\n",
       "      <td>0</td>\n",
       "      <td>0</td>\n",
       "      <td>0</td>\n",
       "      <td>...</td>\n",
       "      <td>93</td>\n",
       "      <td>106</td>\n",
       "      <td>112</td>\n",
       "      <td>110</td>\n",
       "      <td>179</td>\n",
       "      <td>245</td>\n",
       "      <td>354</td>\n",
       "      <td>449</td>\n",
       "      <td>568</td>\n",
       "      <td>678</td>\n",
       "    </tr>\n",
       "    <tr>\n",
       "      <th>8</th>\n",
       "      <td>DE</td>\n",
       "      <td>0</td>\n",
       "      <td>0</td>\n",
       "      <td>0</td>\n",
       "      <td>0</td>\n",
       "      <td>0</td>\n",
       "      <td>0</td>\n",
       "      <td>0</td>\n",
       "      <td>0</td>\n",
       "      <td>0</td>\n",
       "      <td>...</td>\n",
       "      <td>385</td>\n",
       "      <td>451</td>\n",
       "      <td>475</td>\n",
       "      <td>443</td>\n",
       "      <td>527</td>\n",
       "      <td>584</td>\n",
       "      <td>648</td>\n",
       "      <td>663</td>\n",
       "      <td>709</td>\n",
       "      <td>797</td>\n",
       "    </tr>\n",
       "    <tr>\n",
       "      <th>9</th>\n",
       "      <td>FL</td>\n",
       "      <td>0</td>\n",
       "      <td>0</td>\n",
       "      <td>0</td>\n",
       "      <td>0</td>\n",
       "      <td>0</td>\n",
       "      <td>0</td>\n",
       "      <td>0</td>\n",
       "      <td>0</td>\n",
       "      <td>0</td>\n",
       "      <td>...</td>\n",
       "      <td>26639</td>\n",
       "      <td>27556</td>\n",
       "      <td>27890</td>\n",
       "      <td>28347</td>\n",
       "      <td>31409</td>\n",
       "      <td>37166</td>\n",
       "      <td>43110</td>\n",
       "      <td>53587</td>\n",
       "      <td>64491</td>\n",
       "      <td>74750</td>\n",
       "    </tr>\n",
       "    <tr>\n",
       "      <th>10</th>\n",
       "      <td>GA</td>\n",
       "      <td>0</td>\n",
       "      <td>0</td>\n",
       "      <td>0</td>\n",
       "      <td>0</td>\n",
       "      <td>0</td>\n",
       "      <td>0</td>\n",
       "      <td>0</td>\n",
       "      <td>0</td>\n",
       "      <td>0</td>\n",
       "      <td>...</td>\n",
       "      <td>675</td>\n",
       "      <td>1064</td>\n",
       "      <td>1105</td>\n",
       "      <td>3996</td>\n",
       "      <td>7881</td>\n",
       "      <td>8063</td>\n",
       "      <td>8751</td>\n",
       "      <td>14355</td>\n",
       "      <td>18218</td>\n",
       "      <td>25348</td>\n",
       "    </tr>\n",
       "    <tr>\n",
       "      <th>11</th>\n",
       "      <td>HI</td>\n",
       "      <td>0</td>\n",
       "      <td>0</td>\n",
       "      <td>0</td>\n",
       "      <td>0</td>\n",
       "      <td>0</td>\n",
       "      <td>0</td>\n",
       "      <td>0</td>\n",
       "      <td>0</td>\n",
       "      <td>0</td>\n",
       "      <td>...</td>\n",
       "      <td>3391</td>\n",
       "      <td>3953</td>\n",
       "      <td>4302</td>\n",
       "      <td>4875</td>\n",
       "      <td>5930</td>\n",
       "      <td>6163</td>\n",
       "      <td>6732</td>\n",
       "      <td>7813</td>\n",
       "      <td>8046</td>\n",
       "      <td>8437</td>\n",
       "    </tr>\n",
       "    <tr>\n",
       "      <th>12</th>\n",
       "      <td>IA</td>\n",
       "      <td>0</td>\n",
       "      <td>0</td>\n",
       "      <td>0</td>\n",
       "      <td>0</td>\n",
       "      <td>0</td>\n",
       "      <td>0</td>\n",
       "      <td>0</td>\n",
       "      <td>0</td>\n",
       "      <td>0</td>\n",
       "      <td>...</td>\n",
       "      <td>54</td>\n",
       "      <td>119</td>\n",
       "      <td>177</td>\n",
       "      <td>240</td>\n",
       "      <td>359</td>\n",
       "      <td>507</td>\n",
       "      <td>638</td>\n",
       "      <td>829</td>\n",
       "      <td>1647</td>\n",
       "      <td>2404</td>\n",
       "    </tr>\n",
       "    <tr>\n",
       "      <th>13</th>\n",
       "      <td>ID</td>\n",
       "      <td>0</td>\n",
       "      <td>0</td>\n",
       "      <td>0</td>\n",
       "      <td>0</td>\n",
       "      <td>0</td>\n",
       "      <td>0</td>\n",
       "      <td>0</td>\n",
       "      <td>0</td>\n",
       "      <td>0</td>\n",
       "      <td>...</td>\n",
       "      <td>37</td>\n",
       "      <td>37</td>\n",
       "      <td>44</td>\n",
       "      <td>159</td>\n",
       "      <td>1646</td>\n",
       "      <td>2034</td>\n",
       "      <td>2122</td>\n",
       "      <td>2251</td>\n",
       "      <td>2358</td>\n",
       "      <td>2453</td>\n",
       "    </tr>\n",
       "    <tr>\n",
       "      <th>14</th>\n",
       "      <td>IL</td>\n",
       "      <td>0</td>\n",
       "      <td>0</td>\n",
       "      <td>0</td>\n",
       "      <td>0</td>\n",
       "      <td>0</td>\n",
       "      <td>0</td>\n",
       "      <td>0</td>\n",
       "      <td>0</td>\n",
       "      <td>0</td>\n",
       "      <td>...</td>\n",
       "      <td>1404</td>\n",
       "      <td>1458</td>\n",
       "      <td>1488</td>\n",
       "      <td>1534</td>\n",
       "      <td>1643</td>\n",
       "      <td>1819</td>\n",
       "      <td>2123</td>\n",
       "      <td>2999</td>\n",
       "      <td>6190</td>\n",
       "      <td>10800</td>\n",
       "    </tr>\n",
       "    <tr>\n",
       "      <th>15</th>\n",
       "      <td>IN</td>\n",
       "      <td>0</td>\n",
       "      <td>0</td>\n",
       "      <td>0</td>\n",
       "      <td>0</td>\n",
       "      <td>0</td>\n",
       "      <td>0</td>\n",
       "      <td>0</td>\n",
       "      <td>0</td>\n",
       "      <td>0</td>\n",
       "      <td>...</td>\n",
       "      <td>266</td>\n",
       "      <td>525</td>\n",
       "      <td>720</td>\n",
       "      <td>977</td>\n",
       "      <td>1218</td>\n",
       "      <td>1479</td>\n",
       "      <td>1687</td>\n",
       "      <td>1947</td>\n",
       "      <td>2852</td>\n",
       "      <td>4803</td>\n",
       "    </tr>\n",
       "    <tr>\n",
       "      <th>16</th>\n",
       "      <td>KS</td>\n",
       "      <td>0</td>\n",
       "      <td>0</td>\n",
       "      <td>0</td>\n",
       "      <td>0</td>\n",
       "      <td>0</td>\n",
       "      <td>0</td>\n",
       "      <td>0</td>\n",
       "      <td>0</td>\n",
       "      <td>0</td>\n",
       "      <td>...</td>\n",
       "      <td>37</td>\n",
       "      <td>37</td>\n",
       "      <td>49</td>\n",
       "      <td>64</td>\n",
       "      <td>103</td>\n",
       "      <td>147</td>\n",
       "      <td>198</td>\n",
       "      <td>389</td>\n",
       "      <td>444</td>\n",
       "      <td>579</td>\n",
       "    </tr>\n",
       "    <tr>\n",
       "      <th>17</th>\n",
       "      <td>KY</td>\n",
       "      <td>0</td>\n",
       "      <td>0</td>\n",
       "      <td>0</td>\n",
       "      <td>0</td>\n",
       "      <td>0</td>\n",
       "      <td>0</td>\n",
       "      <td>0</td>\n",
       "      <td>0</td>\n",
       "      <td>0</td>\n",
       "      <td>...</td>\n",
       "      <td>109</td>\n",
       "      <td>111</td>\n",
       "      <td>116</td>\n",
       "      <td>179</td>\n",
       "      <td>223</td>\n",
       "      <td>314</td>\n",
       "      <td>360</td>\n",
       "      <td>391</td>\n",
       "      <td>465</td>\n",
       "      <td>575</td>\n",
       "    </tr>\n",
       "    <tr>\n",
       "      <th>18</th>\n",
       "      <td>LA</td>\n",
       "      <td>0</td>\n",
       "      <td>0</td>\n",
       "      <td>0</td>\n",
       "      <td>0</td>\n",
       "      <td>0</td>\n",
       "      <td>0</td>\n",
       "      <td>0</td>\n",
       "      <td>0</td>\n",
       "      <td>0</td>\n",
       "      <td>...</td>\n",
       "      <td>296</td>\n",
       "      <td>444</td>\n",
       "      <td>615</td>\n",
       "      <td>742</td>\n",
       "      <td>784</td>\n",
       "      <td>879</td>\n",
       "      <td>920</td>\n",
       "      <td>1106</td>\n",
       "      <td>1484</td>\n",
       "      <td>1692</td>\n",
       "    </tr>\n",
       "    <tr>\n",
       "      <th>19</th>\n",
       "      <td>MA</td>\n",
       "      <td>0</td>\n",
       "      <td>0</td>\n",
       "      <td>0</td>\n",
       "      <td>0</td>\n",
       "      <td>0</td>\n",
       "      <td>0</td>\n",
       "      <td>0</td>\n",
       "      <td>0</td>\n",
       "      <td>0</td>\n",
       "      <td>...</td>\n",
       "      <td>1882</td>\n",
       "      <td>3469</td>\n",
       "      <td>4776</td>\n",
       "      <td>6653</td>\n",
       "      <td>8165</td>\n",
       "      <td>10750</td>\n",
       "      <td>11494</td>\n",
       "      <td>13018</td>\n",
       "      <td>14366</td>\n",
       "      <td>18568</td>\n",
       "    </tr>\n",
       "    <tr>\n",
       "      <th>20</th>\n",
       "      <td>MD</td>\n",
       "      <td>0</td>\n",
       "      <td>0</td>\n",
       "      <td>0</td>\n",
       "      <td>0</td>\n",
       "      <td>0</td>\n",
       "      <td>0</td>\n",
       "      <td>0</td>\n",
       "      <td>0</td>\n",
       "      <td>0</td>\n",
       "      <td>...</td>\n",
       "      <td>874</td>\n",
       "      <td>1309</td>\n",
       "      <td>1674</td>\n",
       "      <td>2598</td>\n",
       "      <td>3535</td>\n",
       "      <td>4366</td>\n",
       "      <td>5097</td>\n",
       "      <td>5309</td>\n",
       "      <td>5772</td>\n",
       "      <td>6928</td>\n",
       "    </tr>\n",
       "    <tr>\n",
       "      <th>21</th>\n",
       "      <td>ME</td>\n",
       "      <td>0</td>\n",
       "      <td>0</td>\n",
       "      <td>0</td>\n",
       "      <td>0</td>\n",
       "      <td>0</td>\n",
       "      <td>0</td>\n",
       "      <td>0</td>\n",
       "      <td>0</td>\n",
       "      <td>0</td>\n",
       "      <td>...</td>\n",
       "      <td>185</td>\n",
       "      <td>190</td>\n",
       "      <td>211</td>\n",
       "      <td>248</td>\n",
       "      <td>309</td>\n",
       "      <td>381</td>\n",
       "      <td>436</td>\n",
       "      <td>550</td>\n",
       "      <td>1153</td>\n",
       "      <td>2771</td>\n",
       "    </tr>\n",
       "    <tr>\n",
       "      <th>22</th>\n",
       "      <td>MI</td>\n",
       "      <td>0</td>\n",
       "      <td>0</td>\n",
       "      <td>0</td>\n",
       "      <td>0</td>\n",
       "      <td>0</td>\n",
       "      <td>0</td>\n",
       "      <td>0</td>\n",
       "      <td>0</td>\n",
       "      <td>0</td>\n",
       "      <td>...</td>\n",
       "      <td>579</td>\n",
       "      <td>605</td>\n",
       "      <td>624</td>\n",
       "      <td>715</td>\n",
       "      <td>945</td>\n",
       "      <td>1181</td>\n",
       "      <td>1369</td>\n",
       "      <td>1567</td>\n",
       "      <td>2616</td>\n",
       "      <td>4276</td>\n",
       "    </tr>\n",
       "    <tr>\n",
       "      <th>23</th>\n",
       "      <td>MN</td>\n",
       "      <td>0</td>\n",
       "      <td>0</td>\n",
       "      <td>0</td>\n",
       "      <td>0</td>\n",
       "      <td>0</td>\n",
       "      <td>0</td>\n",
       "      <td>0</td>\n",
       "      <td>0</td>\n",
       "      <td>0</td>\n",
       "      <td>...</td>\n",
       "      <td>252</td>\n",
       "      <td>280</td>\n",
       "      <td>305</td>\n",
       "      <td>371</td>\n",
       "      <td>2449</td>\n",
       "      <td>4046</td>\n",
       "      <td>4832</td>\n",
       "      <td>6267</td>\n",
       "      <td>7304</td>\n",
       "      <td>7531</td>\n",
       "    </tr>\n",
       "    <tr>\n",
       "      <th>24</th>\n",
       "      <td>MO</td>\n",
       "      <td>0</td>\n",
       "      <td>0</td>\n",
       "      <td>0</td>\n",
       "      <td>0</td>\n",
       "      <td>0</td>\n",
       "      <td>0</td>\n",
       "      <td>0</td>\n",
       "      <td>0</td>\n",
       "      <td>0</td>\n",
       "      <td>...</td>\n",
       "      <td>207</td>\n",
       "      <td>447</td>\n",
       "      <td>585</td>\n",
       "      <td>714</td>\n",
       "      <td>922</td>\n",
       "      <td>1137</td>\n",
       "      <td>1374</td>\n",
       "      <td>1606</td>\n",
       "      <td>1906</td>\n",
       "      <td>2355</td>\n",
       "    </tr>\n",
       "    <tr>\n",
       "      <th>25</th>\n",
       "      <td>MS</td>\n",
       "      <td>0</td>\n",
       "      <td>0</td>\n",
       "      <td>0</td>\n",
       "      <td>0</td>\n",
       "      <td>0</td>\n",
       "      <td>0</td>\n",
       "      <td>0</td>\n",
       "      <td>0</td>\n",
       "      <td>0</td>\n",
       "      <td>...</td>\n",
       "      <td>21</td>\n",
       "      <td>21</td>\n",
       "      <td>19</td>\n",
       "      <td>36</td>\n",
       "      <td>343</td>\n",
       "      <td>1163</td>\n",
       "      <td>1161</td>\n",
       "      <td>1533</td>\n",
       "      <td>1520</td>\n",
       "      <td>1809</td>\n",
       "    </tr>\n",
       "    <tr>\n",
       "      <th>26</th>\n",
       "      <td>MT</td>\n",
       "      <td>0</td>\n",
       "      <td>0</td>\n",
       "      <td>0</td>\n",
       "      <td>0</td>\n",
       "      <td>0</td>\n",
       "      <td>0</td>\n",
       "      <td>0</td>\n",
       "      <td>0</td>\n",
       "      <td>0</td>\n",
       "      <td>...</td>\n",
       "      <td>47</td>\n",
       "      <td>48</td>\n",
       "      <td>37</td>\n",
       "      <td>46</td>\n",
       "      <td>107</td>\n",
       "      <td>192</td>\n",
       "      <td>193</td>\n",
       "      <td>236</td>\n",
       "      <td>269</td>\n",
       "      <td>299</td>\n",
       "    </tr>\n",
       "    <tr>\n",
       "      <th>27</th>\n",
       "      <td>NC</td>\n",
       "      <td>0</td>\n",
       "      <td>0</td>\n",
       "      <td>0</td>\n",
       "      <td>0</td>\n",
       "      <td>0</td>\n",
       "      <td>0</td>\n",
       "      <td>0</td>\n",
       "      <td>0</td>\n",
       "      <td>0</td>\n",
       "      <td>...</td>\n",
       "      <td>1654</td>\n",
       "      <td>3002</td>\n",
       "      <td>5246</td>\n",
       "      <td>12512</td>\n",
       "      <td>18355</td>\n",
       "      <td>21846</td>\n",
       "      <td>26630</td>\n",
       "      <td>29731</td>\n",
       "      <td>36370</td>\n",
       "      <td>40733</td>\n",
       "    </tr>\n",
       "    <tr>\n",
       "      <th>28</th>\n",
       "      <td>ND</td>\n",
       "      <td>0</td>\n",
       "      <td>0</td>\n",
       "      <td>0</td>\n",
       "      <td>0</td>\n",
       "      <td>0</td>\n",
       "      <td>0</td>\n",
       "      <td>0</td>\n",
       "      <td>0</td>\n",
       "      <td>0</td>\n",
       "      <td>...</td>\n",
       "      <td>5</td>\n",
       "      <td>5</td>\n",
       "      <td>5</td>\n",
       "      <td>5</td>\n",
       "      <td>5</td>\n",
       "      <td>6</td>\n",
       "      <td>7</td>\n",
       "      <td>7</td>\n",
       "      <td>9</td>\n",
       "      <td>10</td>\n",
       "    </tr>\n",
       "    <tr>\n",
       "      <th>29</th>\n",
       "      <td>NE</td>\n",
       "      <td>0</td>\n",
       "      <td>0</td>\n",
       "      <td>0</td>\n",
       "      <td>0</td>\n",
       "      <td>0</td>\n",
       "      <td>0</td>\n",
       "      <td>0</td>\n",
       "      <td>0</td>\n",
       "      <td>0</td>\n",
       "      <td>...</td>\n",
       "      <td>31</td>\n",
       "      <td>32</td>\n",
       "      <td>33</td>\n",
       "      <td>51</td>\n",
       "      <td>100</td>\n",
       "      <td>158</td>\n",
       "      <td>189</td>\n",
       "      <td>282</td>\n",
       "      <td>322</td>\n",
       "      <td>404</td>\n",
       "    </tr>\n",
       "    <tr>\n",
       "      <th>30</th>\n",
       "      <td>NH</td>\n",
       "      <td>0</td>\n",
       "      <td>0</td>\n",
       "      <td>0</td>\n",
       "      <td>0</td>\n",
       "      <td>0</td>\n",
       "      <td>0</td>\n",
       "      <td>0</td>\n",
       "      <td>0</td>\n",
       "      <td>0</td>\n",
       "      <td>...</td>\n",
       "      <td>104</td>\n",
       "      <td>119</td>\n",
       "      <td>152</td>\n",
       "      <td>247</td>\n",
       "      <td>370</td>\n",
       "      <td>442</td>\n",
       "      <td>516</td>\n",
       "      <td>622</td>\n",
       "      <td>745</td>\n",
       "      <td>906</td>\n",
       "    </tr>\n",
       "    <tr>\n",
       "      <th>31</th>\n",
       "      <td>NJ</td>\n",
       "      <td>0</td>\n",
       "      <td>0</td>\n",
       "      <td>0</td>\n",
       "      <td>0</td>\n",
       "      <td>0</td>\n",
       "      <td>0</td>\n",
       "      <td>0</td>\n",
       "      <td>0</td>\n",
       "      <td>0</td>\n",
       "      <td>...</td>\n",
       "      <td>7137</td>\n",
       "      <td>8169</td>\n",
       "      <td>8783</td>\n",
       "      <td>9340</td>\n",
       "      <td>10625</td>\n",
       "      <td>11707</td>\n",
       "      <td>13258</td>\n",
       "      <td>14806</td>\n",
       "      <td>15619</td>\n",
       "      <td>17803</td>\n",
       "    </tr>\n",
       "    <tr>\n",
       "      <th>32</th>\n",
       "      <td>NM</td>\n",
       "      <td>0</td>\n",
       "      <td>0</td>\n",
       "      <td>0</td>\n",
       "      <td>0</td>\n",
       "      <td>0</td>\n",
       "      <td>0</td>\n",
       "      <td>0</td>\n",
       "      <td>0</td>\n",
       "      <td>0</td>\n",
       "      <td>...</td>\n",
       "      <td>1813</td>\n",
       "      <td>2364</td>\n",
       "      <td>2784</td>\n",
       "      <td>3302</td>\n",
       "      <td>4972</td>\n",
       "      <td>5662</td>\n",
       "      <td>5892</td>\n",
       "      <td>7419</td>\n",
       "      <td>7757</td>\n",
       "      <td>8962</td>\n",
       "    </tr>\n",
       "    <tr>\n",
       "      <th>33</th>\n",
       "      <td>NV</td>\n",
       "      <td>0</td>\n",
       "      <td>0</td>\n",
       "      <td>0</td>\n",
       "      <td>0</td>\n",
       "      <td>0</td>\n",
       "      <td>0</td>\n",
       "      <td>0</td>\n",
       "      <td>0</td>\n",
       "      <td>0</td>\n",
       "      <td>...</td>\n",
       "      <td>3785</td>\n",
       "      <td>4837</td>\n",
       "      <td>7326</td>\n",
       "      <td>12976</td>\n",
       "      <td>16619</td>\n",
       "      <td>18863</td>\n",
       "      <td>19804</td>\n",
       "      <td>22935</td>\n",
       "      <td>27204</td>\n",
       "      <td>36601</td>\n",
       "    </tr>\n",
       "    <tr>\n",
       "      <th>34</th>\n",
       "      <td>NY</td>\n",
       "      <td>0</td>\n",
       "      <td>0</td>\n",
       "      <td>0</td>\n",
       "      <td>0</td>\n",
       "      <td>0</td>\n",
       "      <td>0</td>\n",
       "      <td>0</td>\n",
       "      <td>0</td>\n",
       "      <td>0</td>\n",
       "      <td>...</td>\n",
       "      <td>2199</td>\n",
       "      <td>2730</td>\n",
       "      <td>3659</td>\n",
       "      <td>4778</td>\n",
       "      <td>6003</td>\n",
       "      <td>7472</td>\n",
       "      <td>9456</td>\n",
       "      <td>12036</td>\n",
       "      <td>14542</td>\n",
       "      <td>19281</td>\n",
       "    </tr>\n",
       "    <tr>\n",
       "      <th>35</th>\n",
       "      <td>OH</td>\n",
       "      <td>0</td>\n",
       "      <td>0</td>\n",
       "      <td>0</td>\n",
       "      <td>0</td>\n",
       "      <td>0</td>\n",
       "      <td>0</td>\n",
       "      <td>0</td>\n",
       "      <td>0</td>\n",
       "      <td>0</td>\n",
       "      <td>...</td>\n",
       "      <td>652</td>\n",
       "      <td>733</td>\n",
       "      <td>785</td>\n",
       "      <td>865</td>\n",
       "      <td>1077</td>\n",
       "      <td>1207</td>\n",
       "      <td>1424</td>\n",
       "      <td>1646</td>\n",
       "      <td>3524</td>\n",
       "      <td>4531</td>\n",
       "    </tr>\n",
       "    <tr>\n",
       "      <th>36</th>\n",
       "      <td>OK</td>\n",
       "      <td>0</td>\n",
       "      <td>0</td>\n",
       "      <td>0</td>\n",
       "      <td>0</td>\n",
       "      <td>0</td>\n",
       "      <td>0</td>\n",
       "      <td>0</td>\n",
       "      <td>0</td>\n",
       "      <td>0</td>\n",
       "      <td>...</td>\n",
       "      <td>34</td>\n",
       "      <td>35</td>\n",
       "      <td>44</td>\n",
       "      <td>60</td>\n",
       "      <td>159</td>\n",
       "      <td>277</td>\n",
       "      <td>299</td>\n",
       "      <td>346</td>\n",
       "      <td>466</td>\n",
       "      <td>598</td>\n",
       "    </tr>\n",
       "    <tr>\n",
       "      <th>37</th>\n",
       "      <td>OR</td>\n",
       "      <td>0</td>\n",
       "      <td>0</td>\n",
       "      <td>0</td>\n",
       "      <td>0</td>\n",
       "      <td>0</td>\n",
       "      <td>0</td>\n",
       "      <td>0</td>\n",
       "      <td>0</td>\n",
       "      <td>0</td>\n",
       "      <td>...</td>\n",
       "      <td>1604</td>\n",
       "      <td>1691</td>\n",
       "      <td>1746</td>\n",
       "      <td>2021</td>\n",
       "      <td>2664</td>\n",
       "      <td>4044</td>\n",
       "      <td>4474</td>\n",
       "      <td>5955</td>\n",
       "      <td>7437</td>\n",
       "      <td>8257</td>\n",
       "    </tr>\n",
       "    <tr>\n",
       "      <th>38</th>\n",
       "      <td>PA</td>\n",
       "      <td>0</td>\n",
       "      <td>0</td>\n",
       "      <td>0</td>\n",
       "      <td>0</td>\n",
       "      <td>0</td>\n",
       "      <td>0</td>\n",
       "      <td>0</td>\n",
       "      <td>0</td>\n",
       "      <td>0</td>\n",
       "      <td>...</td>\n",
       "      <td>1716</td>\n",
       "      <td>1791</td>\n",
       "      <td>1837</td>\n",
       "      <td>1968</td>\n",
       "      <td>2206</td>\n",
       "      <td>2385</td>\n",
       "      <td>2713</td>\n",
       "      <td>3241</td>\n",
       "      <td>3768</td>\n",
       "      <td>4319</td>\n",
       "    </tr>\n",
       "    <tr>\n",
       "      <th>39</th>\n",
       "      <td>RI</td>\n",
       "      <td>0</td>\n",
       "      <td>0</td>\n",
       "      <td>0</td>\n",
       "      <td>0</td>\n",
       "      <td>0</td>\n",
       "      <td>0</td>\n",
       "      <td>0</td>\n",
       "      <td>0</td>\n",
       "      <td>0</td>\n",
       "      <td>...</td>\n",
       "      <td>84</td>\n",
       "      <td>112</td>\n",
       "      <td>135</td>\n",
       "      <td>192</td>\n",
       "      <td>278</td>\n",
       "      <td>466</td>\n",
       "      <td>843</td>\n",
       "      <td>1727</td>\n",
       "      <td>2331</td>\n",
       "      <td>3073</td>\n",
       "    </tr>\n",
       "    <tr>\n",
       "      <th>40</th>\n",
       "      <td>SC</td>\n",
       "      <td>0</td>\n",
       "      <td>0</td>\n",
       "      <td>0</td>\n",
       "      <td>0</td>\n",
       "      <td>0</td>\n",
       "      <td>0</td>\n",
       "      <td>0</td>\n",
       "      <td>0</td>\n",
       "      <td>0</td>\n",
       "      <td>...</td>\n",
       "      <td>42</td>\n",
       "      <td>64</td>\n",
       "      <td>73</td>\n",
       "      <td>174</td>\n",
       "      <td>777</td>\n",
       "      <td>2626</td>\n",
       "      <td>4086</td>\n",
       "      <td>7175</td>\n",
       "      <td>9273</td>\n",
       "      <td>10073</td>\n",
       "    </tr>\n",
       "    <tr>\n",
       "      <th>41</th>\n",
       "      <td>SD</td>\n",
       "      <td>0</td>\n",
       "      <td>0</td>\n",
       "      <td>0</td>\n",
       "      <td>0</td>\n",
       "      <td>0</td>\n",
       "      <td>0</td>\n",
       "      <td>0</td>\n",
       "      <td>0</td>\n",
       "      <td>0</td>\n",
       "      <td>...</td>\n",
       "      <td>5</td>\n",
       "      <td>7</td>\n",
       "      <td>7</td>\n",
       "      <td>9</td>\n",
       "      <td>15</td>\n",
       "      <td>14</td>\n",
       "      <td>16</td>\n",
       "      <td>18</td>\n",
       "      <td>19</td>\n",
       "      <td>20</td>\n",
       "    </tr>\n",
       "    <tr>\n",
       "      <th>42</th>\n",
       "      <td>TN</td>\n",
       "      <td>0</td>\n",
       "      <td>0</td>\n",
       "      <td>0</td>\n",
       "      <td>0</td>\n",
       "      <td>0</td>\n",
       "      <td>0</td>\n",
       "      <td>0</td>\n",
       "      <td>0</td>\n",
       "      <td>0</td>\n",
       "      <td>...</td>\n",
       "      <td>276</td>\n",
       "      <td>325</td>\n",
       "      <td>491</td>\n",
       "      <td>589</td>\n",
       "      <td>640</td>\n",
       "      <td>909</td>\n",
       "      <td>1462</td>\n",
       "      <td>1439</td>\n",
       "      <td>1487</td>\n",
       "      <td>2593</td>\n",
       "    </tr>\n",
       "    <tr>\n",
       "      <th>43</th>\n",
       "      <td>TX</td>\n",
       "      <td>0</td>\n",
       "      <td>0</td>\n",
       "      <td>0</td>\n",
       "      <td>0</td>\n",
       "      <td>0</td>\n",
       "      <td>0</td>\n",
       "      <td>0</td>\n",
       "      <td>0</td>\n",
       "      <td>0</td>\n",
       "      <td>...</td>\n",
       "      <td>1515</td>\n",
       "      <td>2096</td>\n",
       "      <td>2710</td>\n",
       "      <td>4415</td>\n",
       "      <td>9692</td>\n",
       "      <td>13978</td>\n",
       "      <td>18908</td>\n",
       "      <td>35237</td>\n",
       "      <td>59311</td>\n",
       "      <td>87388</td>\n",
       "    </tr>\n",
       "    <tr>\n",
       "      <th>44</th>\n",
       "      <td>UT</td>\n",
       "      <td>0</td>\n",
       "      <td>0</td>\n",
       "      <td>0</td>\n",
       "      <td>0</td>\n",
       "      <td>0</td>\n",
       "      <td>0</td>\n",
       "      <td>0</td>\n",
       "      <td>0</td>\n",
       "      <td>0</td>\n",
       "      <td>...</td>\n",
       "      <td>138</td>\n",
       "      <td>192</td>\n",
       "      <td>396</td>\n",
       "      <td>4164</td>\n",
       "      <td>8592</td>\n",
       "      <td>8993</td>\n",
       "      <td>9088</td>\n",
       "      <td>10696</td>\n",
       "      <td>14174</td>\n",
       "      <td>15854</td>\n",
       "    </tr>\n",
       "    <tr>\n",
       "      <th>45</th>\n",
       "      <td>VA</td>\n",
       "      <td>0</td>\n",
       "      <td>0</td>\n",
       "      <td>0</td>\n",
       "      <td>0</td>\n",
       "      <td>0</td>\n",
       "      <td>0</td>\n",
       "      <td>0</td>\n",
       "      <td>0</td>\n",
       "      <td>0</td>\n",
       "      <td>...</td>\n",
       "      <td>561</td>\n",
       "      <td>595</td>\n",
       "      <td>628</td>\n",
       "      <td>744</td>\n",
       "      <td>1836</td>\n",
       "      <td>3428</td>\n",
       "      <td>4230</td>\n",
       "      <td>5953</td>\n",
       "      <td>12792</td>\n",
       "      <td>17653</td>\n",
       "    </tr>\n",
       "    <tr>\n",
       "      <th>46</th>\n",
       "      <td>VT</td>\n",
       "      <td>0</td>\n",
       "      <td>0</td>\n",
       "      <td>0</td>\n",
       "      <td>0</td>\n",
       "      <td>0</td>\n",
       "      <td>0</td>\n",
       "      <td>0</td>\n",
       "      <td>0</td>\n",
       "      <td>0</td>\n",
       "      <td>...</td>\n",
       "      <td>221</td>\n",
       "      <td>282</td>\n",
       "      <td>440</td>\n",
       "      <td>551</td>\n",
       "      <td>810</td>\n",
       "      <td>902</td>\n",
       "      <td>1118</td>\n",
       "      <td>1311</td>\n",
       "      <td>1322</td>\n",
       "      <td>1504</td>\n",
       "    </tr>\n",
       "    <tr>\n",
       "      <th>47</th>\n",
       "      <td>WA</td>\n",
       "      <td>0</td>\n",
       "      <td>0</td>\n",
       "      <td>0</td>\n",
       "      <td>0</td>\n",
       "      <td>0</td>\n",
       "      <td>0</td>\n",
       "      <td>0</td>\n",
       "      <td>0</td>\n",
       "      <td>0</td>\n",
       "      <td>...</td>\n",
       "      <td>198</td>\n",
       "      <td>248</td>\n",
       "      <td>316</td>\n",
       "      <td>433</td>\n",
       "      <td>526</td>\n",
       "      <td>645</td>\n",
       "      <td>976</td>\n",
       "      <td>1138</td>\n",
       "      <td>1354</td>\n",
       "      <td>1754</td>\n",
       "    </tr>\n",
       "    <tr>\n",
       "      <th>48</th>\n",
       "      <td>WI</td>\n",
       "      <td>0</td>\n",
       "      <td>0</td>\n",
       "      <td>0</td>\n",
       "      <td>0</td>\n",
       "      <td>0</td>\n",
       "      <td>0</td>\n",
       "      <td>0</td>\n",
       "      <td>0</td>\n",
       "      <td>0</td>\n",
       "      <td>...</td>\n",
       "      <td>298</td>\n",
       "      <td>318</td>\n",
       "      <td>334</td>\n",
       "      <td>366</td>\n",
       "      <td>506</td>\n",
       "      <td>635</td>\n",
       "      <td>718</td>\n",
       "      <td>1004</td>\n",
       "      <td>2119</td>\n",
       "      <td>3766</td>\n",
       "    </tr>\n",
       "    <tr>\n",
       "      <th>49</th>\n",
       "      <td>WV</td>\n",
       "      <td>0</td>\n",
       "      <td>0</td>\n",
       "      <td>0</td>\n",
       "      <td>0</td>\n",
       "      <td>0</td>\n",
       "      <td>0</td>\n",
       "      <td>0</td>\n",
       "      <td>0</td>\n",
       "      <td>0</td>\n",
       "      <td>...</td>\n",
       "      <td>62</td>\n",
       "      <td>63</td>\n",
       "      <td>67</td>\n",
       "      <td>71</td>\n",
       "      <td>80</td>\n",
       "      <td>86</td>\n",
       "      <td>95</td>\n",
       "      <td>106</td>\n",
       "      <td>129</td>\n",
       "      <td>166</td>\n",
       "    </tr>\n",
       "    <tr>\n",
       "      <th>50</th>\n",
       "      <td>WY</td>\n",
       "      <td>0</td>\n",
       "      <td>0</td>\n",
       "      <td>0</td>\n",
       "      <td>0</td>\n",
       "      <td>0</td>\n",
       "      <td>0</td>\n",
       "      <td>0</td>\n",
       "      <td>0</td>\n",
       "      <td>0</td>\n",
       "      <td>...</td>\n",
       "      <td>10</td>\n",
       "      <td>10</td>\n",
       "      <td>11</td>\n",
       "      <td>14</td>\n",
       "      <td>18</td>\n",
       "      <td>26</td>\n",
       "      <td>648</td>\n",
       "      <td>610</td>\n",
       "      <td>674</td>\n",
       "      <td>715</td>\n",
       "    </tr>\n",
       "    <tr>\n",
       "      <th>51</th>\n",
       "      <td>US</td>\n",
       "      <td>0</td>\n",
       "      <td>0</td>\n",
       "      <td>0</td>\n",
       "      <td>0</td>\n",
       "      <td>0</td>\n",
       "      <td>0</td>\n",
       "      <td>0</td>\n",
       "      <td>0</td>\n",
       "      <td>0</td>\n",
       "      <td>...</td>\n",
       "      <td>119650</td>\n",
       "      <td>161050</td>\n",
       "      <td>196175</td>\n",
       "      <td>250888</td>\n",
       "      <td>328623</td>\n",
       "      <td>383634</td>\n",
       "      <td>429747</td>\n",
       "      <td>511315</td>\n",
       "      <td>626863</td>\n",
       "      <td>764580</td>\n",
       "    </tr>\n",
       "  </tbody>\n",
       "</table>\n",
       "<p>52 rows × 64 columns</p>\n",
       "</div>"
      ],
      "text/plain": [
       "   State  1960  1961  1962  1963  1964  1965  1966  1967  1968  ...    2013  \\\n",
       "0     AK     0     0     0     0     0     0     0     0     0  ...       3   \n",
       "1     AL     0     0     0     0     0     0     0     0     0  ...      79   \n",
       "2     AR     0     0     0     0     0     0     0     0     0  ...      79   \n",
       "3     AZ     0     0     0     0     0     0     0     0     0  ...   13277   \n",
       "4     CA     0     0     0     0     0     0     0     0     0  ...   41442   \n",
       "5     CO     0     0     0     0     0     0     0     0     0  ...    2039   \n",
       "6     CT     0     0     0     0     0     0     0     0     0  ...    1156   \n",
       "7     DC     0     0     0     0     0     0     0     0     0  ...      93   \n",
       "8     DE     0     0     0     0     0     0     0     0     0  ...     385   \n",
       "9     FL     0     0     0     0     0     0     0     0     0  ...   26639   \n",
       "10    GA     0     0     0     0     0     0     0     0     0  ...     675   \n",
       "11    HI     0     0     0     0     0     0     0     0     0  ...    3391   \n",
       "12    IA     0     0     0     0     0     0     0     0     0  ...      54   \n",
       "13    ID     0     0     0     0     0     0     0     0     0  ...      37   \n",
       "14    IL     0     0     0     0     0     0     0     0     0  ...    1404   \n",
       "15    IN     0     0     0     0     0     0     0     0     0  ...     266   \n",
       "16    KS     0     0     0     0     0     0     0     0     0  ...      37   \n",
       "17    KY     0     0     0     0     0     0     0     0     0  ...     109   \n",
       "18    LA     0     0     0     0     0     0     0     0     0  ...     296   \n",
       "19    MA     0     0     0     0     0     0     0     0     0  ...    1882   \n",
       "20    MD     0     0     0     0     0     0     0     0     0  ...     874   \n",
       "21    ME     0     0     0     0     0     0     0     0     0  ...     185   \n",
       "22    MI     0     0     0     0     0     0     0     0     0  ...     579   \n",
       "23    MN     0     0     0     0     0     0     0     0     0  ...     252   \n",
       "24    MO     0     0     0     0     0     0     0     0     0  ...     207   \n",
       "25    MS     0     0     0     0     0     0     0     0     0  ...      21   \n",
       "26    MT     0     0     0     0     0     0     0     0     0  ...      47   \n",
       "27    NC     0     0     0     0     0     0     0     0     0  ...    1654   \n",
       "28    ND     0     0     0     0     0     0     0     0     0  ...       5   \n",
       "29    NE     0     0     0     0     0     0     0     0     0  ...      31   \n",
       "30    NH     0     0     0     0     0     0     0     0     0  ...     104   \n",
       "31    NJ     0     0     0     0     0     0     0     0     0  ...    7137   \n",
       "32    NM     0     0     0     0     0     0     0     0     0  ...    1813   \n",
       "33    NV     0     0     0     0     0     0     0     0     0  ...    3785   \n",
       "34    NY     0     0     0     0     0     0     0     0     0  ...    2199   \n",
       "35    OH     0     0     0     0     0     0     0     0     0  ...     652   \n",
       "36    OK     0     0     0     0     0     0     0     0     0  ...      34   \n",
       "37    OR     0     0     0     0     0     0     0     0     0  ...    1604   \n",
       "38    PA     0     0     0     0     0     0     0     0     0  ...    1716   \n",
       "39    RI     0     0     0     0     0     0     0     0     0  ...      84   \n",
       "40    SC     0     0     0     0     0     0     0     0     0  ...      42   \n",
       "41    SD     0     0     0     0     0     0     0     0     0  ...       5   \n",
       "42    TN     0     0     0     0     0     0     0     0     0  ...     276   \n",
       "43    TX     0     0     0     0     0     0     0     0     0  ...    1515   \n",
       "44    UT     0     0     0     0     0     0     0     0     0  ...     138   \n",
       "45    VA     0     0     0     0     0     0     0     0     0  ...     561   \n",
       "46    VT     0     0     0     0     0     0     0     0     0  ...     221   \n",
       "47    WA     0     0     0     0     0     0     0     0     0  ...     198   \n",
       "48    WI     0     0     0     0     0     0     0     0     0  ...     298   \n",
       "49    WV     0     0     0     0     0     0     0     0     0  ...      62   \n",
       "50    WY     0     0     0     0     0     0     0     0     0  ...      10   \n",
       "51    US     0     0     0     0     0     0     0     0     0  ...  119650   \n",
       "\n",
       "      2014    2015    2016    2017    2018    2019    2020    2021    2022  \n",
       "0        3       3       7      10      13      17      26      45      57  \n",
       "1       81      82     205     717    1330    1435    1383    1823    3200  \n",
       "2       81      87     179     206     836     906    1290    2221    3365  \n",
       "3    17693   19718   21605   26670   28624   30137   33221   37795   41092  \n",
       "4    67394   88805  110181  137566  154475  166707  181068  205221  232908  \n",
       "5     2348    2474    3694    5358    5929    6609    7813    9801   13159  \n",
       "6     1399    1675    2123    2492    3034    3487    4209    4831    5982  \n",
       "7      106     112     110     179     245     354     449     568     678  \n",
       "8      451     475     443     527     584     648     663     709     797  \n",
       "9    27556   27890   28347   31409   37166   43110   53587   64491   74750  \n",
       "10    1064    1105    3996    7881    8063    8751   14355   18218   25348  \n",
       "11    3953    4302    4875    5930    6163    6732    7813    8046    8437  \n",
       "12     119     177     240     359     507     638     829    1647    2404  \n",
       "13      37      44     159    1646    2034    2122    2251    2358    2453  \n",
       "14    1458    1488    1534    1643    1819    2123    2999    6190   10800  \n",
       "15     525     720     977    1218    1479    1687    1947    2852    4803  \n",
       "16      37      49      64     103     147     198     389     444     579  \n",
       "17     111     116     179     223     314     360     391     465     575  \n",
       "18     444     615     742     784     879     920    1106    1484    1692  \n",
       "19    3469    4776    6653    8165   10750   11494   13018   14366   18568  \n",
       "20    1309    1674    2598    3535    4366    5097    5309    5772    6928  \n",
       "21     190     211     248     309     381     436     550    1153    2771  \n",
       "22     605     624     715     945    1181    1369    1567    2616    4276  \n",
       "23     280     305     371    2449    4046    4832    6267    7304    7531  \n",
       "24     447     585     714     922    1137    1374    1606    1906    2355  \n",
       "25      21      19      36     343    1163    1161    1533    1520    1809  \n",
       "26      48      37      46     107     192     193     236     269     299  \n",
       "27    3002    5246   12512   18355   21846   26630   29731   36370   40733  \n",
       "28       5       5       5       5       6       7       7       9      10  \n",
       "29      32      33      51     100     158     189     282     322     404  \n",
       "30     119     152     247     370     442     516     622     745     906  \n",
       "31    8169    8783    9340   10625   11707   13258   14806   15619   17803  \n",
       "32    2364    2784    3302    4972    5662    5892    7419    7757    8962  \n",
       "33    4837    7326   12976   16619   18863   19804   22935   27204   36601  \n",
       "34    2730    3659    4778    6003    7472    9456   12036   14542   19281  \n",
       "35     733     785     865    1077    1207    1424    1646    3524    4531  \n",
       "36      35      44      60     159     277     299     346     466     598  \n",
       "37    1691    1746    2021    2664    4044    4474    5955    7437    8257  \n",
       "38    1791    1837    1968    2206    2385    2713    3241    3768    4319  \n",
       "39     112     135     192     278     466     843    1727    2331    3073  \n",
       "40      64      73     174     777    2626    4086    7175    9273   10073  \n",
       "41       7       7       9      15      14      16      18      19      20  \n",
       "42     325     491     589     640     909    1462    1439    1487    2593  \n",
       "43    2096    2710    4415    9692   13978   18908   35237   59311   87388  \n",
       "44     192     396    4164    8592    8993    9088   10696   14174   15854  \n",
       "45     595     628     744    1836    3428    4230    5953   12792   17653  \n",
       "46     282     440     551     810     902    1118    1311    1322    1504  \n",
       "47     248     316     433     526     645     976    1138    1354    1754  \n",
       "48     318     334     366     506     635     718    1004    2119    3766  \n",
       "49      63      67      71      80      86      95     106     129     166  \n",
       "50      10      11      14      18      26     648     610     674     715  \n",
       "51  161050  196175  250888  328623  383634  429747  511315  626863  764580  \n",
       "\n",
       "[52 rows x 64 columns]"
      ]
     },
     "execution_count": 27,
     "metadata": {},
     "output_type": "execute_result"
    }
   ],
   "source": [
    "renewable_energy_3 = pd.read_excel('use_renew_sector.xlsx', sheet_name=\"Solar energy\", header=2)\n",
    "renewable_energy_3"
   ]
  },
  {
   "cell_type": "code",
   "execution_count": 28,
   "id": "f605323e-60e3-43e5-96c9-240b6d8e6f54",
   "metadata": {},
   "outputs": [
    {
     "data": {
      "text/html": [
       "<div>\n",
       "<style scoped>\n",
       "    .dataframe tbody tr th:only-of-type {\n",
       "        vertical-align: middle;\n",
       "    }\n",
       "\n",
       "    .dataframe tbody tr th {\n",
       "        vertical-align: top;\n",
       "    }\n",
       "\n",
       "    .dataframe thead th {\n",
       "        text-align: right;\n",
       "    }\n",
       "</style>\n",
       "<table border=\"1\" class=\"dataframe\">\n",
       "  <thead>\n",
       "    <tr style=\"text-align: right;\">\n",
       "      <th></th>\n",
       "      <th>State</th>\n",
       "      <th>Year</th>\n",
       "      <th>BTU_solar</th>\n",
       "    </tr>\n",
       "  </thead>\n",
       "  <tbody>\n",
       "    <tr>\n",
       "      <th>0</th>\n",
       "      <td>AK</td>\n",
       "      <td>2000</td>\n",
       "      <td>0</td>\n",
       "    </tr>\n",
       "    <tr>\n",
       "      <th>1</th>\n",
       "      <td>AL</td>\n",
       "      <td>2000</td>\n",
       "      <td>113</td>\n",
       "    </tr>\n",
       "    <tr>\n",
       "      <th>2</th>\n",
       "      <td>AR</td>\n",
       "      <td>2000</td>\n",
       "      <td>795</td>\n",
       "    </tr>\n",
       "    <tr>\n",
       "      <th>3</th>\n",
       "      <td>AZ</td>\n",
       "      <td>2000</td>\n",
       "      <td>3339</td>\n",
       "    </tr>\n",
       "    <tr>\n",
       "      <th>4</th>\n",
       "      <td>CA</td>\n",
       "      <td>2000</td>\n",
       "      <td>19125</td>\n",
       "    </tr>\n",
       "    <tr>\n",
       "      <th>...</th>\n",
       "      <td>...</td>\n",
       "      <td>...</td>\n",
       "      <td>...</td>\n",
       "    </tr>\n",
       "    <tr>\n",
       "      <th>1191</th>\n",
       "      <td>WA</td>\n",
       "      <td>2022</td>\n",
       "      <td>1754</td>\n",
       "    </tr>\n",
       "    <tr>\n",
       "      <th>1192</th>\n",
       "      <td>WI</td>\n",
       "      <td>2022</td>\n",
       "      <td>3766</td>\n",
       "    </tr>\n",
       "    <tr>\n",
       "      <th>1193</th>\n",
       "      <td>WV</td>\n",
       "      <td>2022</td>\n",
       "      <td>166</td>\n",
       "    </tr>\n",
       "    <tr>\n",
       "      <th>1194</th>\n",
       "      <td>WY</td>\n",
       "      <td>2022</td>\n",
       "      <td>715</td>\n",
       "    </tr>\n",
       "    <tr>\n",
       "      <th>1195</th>\n",
       "      <td>US</td>\n",
       "      <td>2022</td>\n",
       "      <td>764580</td>\n",
       "    </tr>\n",
       "  </tbody>\n",
       "</table>\n",
       "<p>1196 rows × 3 columns</p>\n",
       "</div>"
      ],
      "text/plain": [
       "     State  Year  BTU_solar\n",
       "0       AK  2000          0\n",
       "1       AL  2000        113\n",
       "2       AR  2000        795\n",
       "3       AZ  2000       3339\n",
       "4       CA  2000      19125\n",
       "...    ...   ...        ...\n",
       "1191    WA  2022       1754\n",
       "1192    WI  2022       3766\n",
       "1193    WV  2022        166\n",
       "1194    WY  2022        715\n",
       "1195    US  2022     764580\n",
       "\n",
       "[1196 rows x 3 columns]"
      ]
     },
     "execution_count": 28,
     "metadata": {},
     "output_type": "execute_result"
    }
   ],
   "source": [
    "solar_melted = pd.melt(\n",
    "    renewable_energy_3,\n",
    "    id_vars=[\"State\"],  # Columns to keep fixed\n",
    "    var_name=\"Year\",    # New column for the year\n",
    "    value_name=\"BTU_solar\"  # New column for values (price, expenditure, etc.)\n",
    ")\n",
    "solar_melted\n",
    "\n",
    "## only keep years 2000-2022\n",
    "filter_solar_melted = solar_melted[\n",
    "    (solar_melted[\"Year\"].astype(int) >= 2000) & (solar_melted[\"Year\"].astype(int) <= 2022)\n",
    "].reset_index()\n",
    "filter_solar_melted\n",
    "\n",
    "filter_solar_melted = filter_solar_melted.drop(['index'], axis=1) # dropping index columns\n",
    "filter_solar_melted"
   ]
  },
  {
   "cell_type": "markdown",
   "id": "52ba162c-d1e0-4e5c-aafe-ce07b5ba9050",
   "metadata": {},
   "source": [
    "#### HYDRO"
   ]
  },
  {
   "cell_type": "code",
   "execution_count": 29,
   "id": "d0c3b7f5-1eb9-44f0-a851-a89dfc701d3b",
   "metadata": {},
   "outputs": [
    {
     "data": {
      "text/html": [
       "<div>\n",
       "<style scoped>\n",
       "    .dataframe tbody tr th:only-of-type {\n",
       "        vertical-align: middle;\n",
       "    }\n",
       "\n",
       "    .dataframe tbody tr th {\n",
       "        vertical-align: top;\n",
       "    }\n",
       "\n",
       "    .dataframe thead th {\n",
       "        text-align: right;\n",
       "    }\n",
       "</style>\n",
       "<table border=\"1\" class=\"dataframe\">\n",
       "  <thead>\n",
       "    <tr style=\"text-align: right;\">\n",
       "      <th></th>\n",
       "      <th>State</th>\n",
       "      <th>1960</th>\n",
       "      <th>1961</th>\n",
       "      <th>1962</th>\n",
       "      <th>1963</th>\n",
       "      <th>1964</th>\n",
       "      <th>1965</th>\n",
       "      <th>1966</th>\n",
       "      <th>1967</th>\n",
       "      <th>1968</th>\n",
       "      <th>...</th>\n",
       "      <th>2013</th>\n",
       "      <th>2014</th>\n",
       "      <th>2015</th>\n",
       "      <th>2016</th>\n",
       "      <th>2017</th>\n",
       "      <th>2018</th>\n",
       "      <th>2019</th>\n",
       "      <th>2020</th>\n",
       "      <th>2021</th>\n",
       "      <th>2022</th>\n",
       "    </tr>\n",
       "  </thead>\n",
       "  <tbody>\n",
       "    <tr>\n",
       "      <th>0</th>\n",
       "      <td>AK</td>\n",
       "      <td>989</td>\n",
       "      <td>1015</td>\n",
       "      <td>1036</td>\n",
       "      <td>1110</td>\n",
       "      <td>1100</td>\n",
       "      <td>1193</td>\n",
       "      <td>1079</td>\n",
       "      <td>1238</td>\n",
       "      <td>1241</td>\n",
       "      <td>...</td>\n",
       "      <td>4898</td>\n",
       "      <td>5250</td>\n",
       "      <td>5353</td>\n",
       "      <td>5661</td>\n",
       "      <td>5608</td>\n",
       "      <td>5678</td>\n",
       "      <td>5539</td>\n",
       "      <td>6019</td>\n",
       "      <td>5763</td>\n",
       "      <td>5846</td>\n",
       "    </tr>\n",
       "    <tr>\n",
       "      <th>1</th>\n",
       "      <td>AL</td>\n",
       "      <td>21286</td>\n",
       "      <td>23019</td>\n",
       "      <td>25726</td>\n",
       "      <td>21782</td>\n",
       "      <td>29890</td>\n",
       "      <td>24235</td>\n",
       "      <td>23632</td>\n",
       "      <td>31181</td>\n",
       "      <td>25186</td>\n",
       "      <td>...</td>\n",
       "      <td>44012</td>\n",
       "      <td>32301</td>\n",
       "      <td>33648</td>\n",
       "      <td>23832</td>\n",
       "      <td>31518</td>\n",
       "      <td>38020</td>\n",
       "      <td>38915</td>\n",
       "      <td>45547</td>\n",
       "      <td>39309</td>\n",
       "      <td>34762</td>\n",
       "    </tr>\n",
       "    <tr>\n",
       "      <th>2</th>\n",
       "      <td>AR</td>\n",
       "      <td>3384</td>\n",
       "      <td>4759</td>\n",
       "      <td>3618</td>\n",
       "      <td>1682</td>\n",
       "      <td>1915</td>\n",
       "      <td>3686</td>\n",
       "      <td>5415</td>\n",
       "      <td>4191</td>\n",
       "      <td>10253</td>\n",
       "      <td>...</td>\n",
       "      <td>9058</td>\n",
       "      <td>9007</td>\n",
       "      <td>12178</td>\n",
       "      <td>12181</td>\n",
       "      <td>10043</td>\n",
       "      <td>10266</td>\n",
       "      <td>14108</td>\n",
       "      <td>15458</td>\n",
       "      <td>13746</td>\n",
       "      <td>11835</td>\n",
       "    </tr>\n",
       "    <tr>\n",
       "      <th>3</th>\n",
       "      <td>AZ</td>\n",
       "      <td>10201</td>\n",
       "      <td>10010</td>\n",
       "      <td>9973</td>\n",
       "      <td>10037</td>\n",
       "      <td>9843</td>\n",
       "      <td>15146</td>\n",
       "      <td>17815</td>\n",
       "      <td>17087</td>\n",
       "      <td>19462</td>\n",
       "      <td>...</td>\n",
       "      <td>20181</td>\n",
       "      <td>20876</td>\n",
       "      <td>22300</td>\n",
       "      <td>24456</td>\n",
       "      <td>23310</td>\n",
       "      <td>23823</td>\n",
       "      <td>21170</td>\n",
       "      <td>21917</td>\n",
       "      <td>20379</td>\n",
       "      <td>18075</td>\n",
       "    </tr>\n",
       "    <tr>\n",
       "      <th>4</th>\n",
       "      <td>CA</td>\n",
       "      <td>59521</td>\n",
       "      <td>52436</td>\n",
       "      <td>77912</td>\n",
       "      <td>86440</td>\n",
       "      <td>75398</td>\n",
       "      <td>104143</td>\n",
       "      <td>89517</td>\n",
       "      <td>120364</td>\n",
       "      <td>92719</td>\n",
       "      <td>...</td>\n",
       "      <td>81051</td>\n",
       "      <td>56405</td>\n",
       "      <td>47115</td>\n",
       "      <td>98751</td>\n",
       "      <td>144543</td>\n",
       "      <td>89840</td>\n",
       "      <td>130866</td>\n",
       "      <td>72940</td>\n",
       "      <td>50080</td>\n",
       "      <td>60202</td>\n",
       "    </tr>\n",
       "    <tr>\n",
       "      <th>5</th>\n",
       "      <td>CO</td>\n",
       "      <td>3309</td>\n",
       "      <td>2851</td>\n",
       "      <td>3466</td>\n",
       "      <td>3528</td>\n",
       "      <td>3603</td>\n",
       "      <td>3199</td>\n",
       "      <td>3406</td>\n",
       "      <td>3168</td>\n",
       "      <td>3221</td>\n",
       "      <td>...</td>\n",
       "      <td>4138</td>\n",
       "      <td>6039</td>\n",
       "      <td>5528</td>\n",
       "      <td>6492</td>\n",
       "      <td>6473</td>\n",
       "      <td>6228</td>\n",
       "      <td>6179</td>\n",
       "      <td>5693</td>\n",
       "      <td>5453</td>\n",
       "      <td>4588</td>\n",
       "    </tr>\n",
       "    <tr>\n",
       "      <th>6</th>\n",
       "      <td>CT</td>\n",
       "      <td>1447</td>\n",
       "      <td>1252</td>\n",
       "      <td>1006</td>\n",
       "      <td>949</td>\n",
       "      <td>919</td>\n",
       "      <td>639</td>\n",
       "      <td>862</td>\n",
       "      <td>1344</td>\n",
       "      <td>1223</td>\n",
       "      <td>...</td>\n",
       "      <td>1371</td>\n",
       "      <td>1481</td>\n",
       "      <td>1032</td>\n",
       "      <td>765</td>\n",
       "      <td>1133</td>\n",
       "      <td>1895</td>\n",
       "      <td>1460</td>\n",
       "      <td>1112</td>\n",
       "      <td>1629</td>\n",
       "      <td>1065</td>\n",
       "    </tr>\n",
       "    <tr>\n",
       "      <th>7</th>\n",
       "      <td>DC</td>\n",
       "      <td>10</td>\n",
       "      <td>19</td>\n",
       "      <td>20</td>\n",
       "      <td>14</td>\n",
       "      <td>16</td>\n",
       "      <td>11</td>\n",
       "      <td>8</td>\n",
       "      <td>8</td>\n",
       "      <td>5</td>\n",
       "      <td>...</td>\n",
       "      <td>0</td>\n",
       "      <td>0</td>\n",
       "      <td>0</td>\n",
       "      <td>0</td>\n",
       "      <td>0</td>\n",
       "      <td>0</td>\n",
       "      <td>0</td>\n",
       "      <td>0</td>\n",
       "      <td>0</td>\n",
       "      <td>0</td>\n",
       "    </tr>\n",
       "    <tr>\n",
       "      <th>8</th>\n",
       "      <td>DE</td>\n",
       "      <td>0</td>\n",
       "      <td>0</td>\n",
       "      <td>0</td>\n",
       "      <td>0</td>\n",
       "      <td>0</td>\n",
       "      <td>0</td>\n",
       "      <td>0</td>\n",
       "      <td>0</td>\n",
       "      <td>1</td>\n",
       "      <td>...</td>\n",
       "      <td>0</td>\n",
       "      <td>0</td>\n",
       "      <td>0</td>\n",
       "      <td>0</td>\n",
       "      <td>0</td>\n",
       "      <td>0</td>\n",
       "      <td>0</td>\n",
       "      <td>0</td>\n",
       "      <td>0</td>\n",
       "      <td>0</td>\n",
       "    </tr>\n",
       "    <tr>\n",
       "      <th>9</th>\n",
       "      <td>FL</td>\n",
       "      <td>948</td>\n",
       "      <td>899</td>\n",
       "      <td>810</td>\n",
       "      <td>903</td>\n",
       "      <td>989</td>\n",
       "      <td>1018</td>\n",
       "      <td>990</td>\n",
       "      <td>976</td>\n",
       "      <td>824</td>\n",
       "      <td>...</td>\n",
       "      <td>867</td>\n",
       "      <td>721</td>\n",
       "      <td>834</td>\n",
       "      <td>596</td>\n",
       "      <td>745</td>\n",
       "      <td>794</td>\n",
       "      <td>716</td>\n",
       "      <td>790</td>\n",
       "      <td>858</td>\n",
       "      <td>788</td>\n",
       "    </tr>\n",
       "    <tr>\n",
       "      <th>10</th>\n",
       "      <td>GA</td>\n",
       "      <td>7867</td>\n",
       "      <td>7809</td>\n",
       "      <td>8739</td>\n",
       "      <td>10014</td>\n",
       "      <td>14705</td>\n",
       "      <td>11035</td>\n",
       "      <td>11398</td>\n",
       "      <td>12640</td>\n",
       "      <td>10741</td>\n",
       "      <td>...</td>\n",
       "      <td>12671</td>\n",
       "      <td>10456</td>\n",
       "      <td>10180</td>\n",
       "      <td>11508</td>\n",
       "      <td>8222</td>\n",
       "      <td>12614</td>\n",
       "      <td>13499</td>\n",
       "      <td>15909</td>\n",
       "      <td>12491</td>\n",
       "      <td>10840</td>\n",
       "    </tr>\n",
       "    <tr>\n",
       "      <th>11</th>\n",
       "      <td>HI</td>\n",
       "      <td>93</td>\n",
       "      <td>83</td>\n",
       "      <td>69</td>\n",
       "      <td>78</td>\n",
       "      <td>393</td>\n",
       "      <td>357</td>\n",
       "      <td>382</td>\n",
       "      <td>370</td>\n",
       "      <td>321</td>\n",
       "      <td>...</td>\n",
       "      <td>267</td>\n",
       "      <td>321</td>\n",
       "      <td>413</td>\n",
       "      <td>310</td>\n",
       "      <td>225</td>\n",
       "      <td>329</td>\n",
       "      <td>323</td>\n",
       "      <td>337</td>\n",
       "      <td>392</td>\n",
       "      <td>376</td>\n",
       "    </tr>\n",
       "    <tr>\n",
       "      <th>12</th>\n",
       "      <td>IA</td>\n",
       "      <td>3006</td>\n",
       "      <td>3059</td>\n",
       "      <td>3177</td>\n",
       "      <td>2585</td>\n",
       "      <td>2354</td>\n",
       "      <td>3166</td>\n",
       "      <td>2959</td>\n",
       "      <td>2750</td>\n",
       "      <td>3246</td>\n",
       "      <td>...</td>\n",
       "      <td>2556</td>\n",
       "      <td>2998</td>\n",
       "      <td>3276</td>\n",
       "      <td>3128</td>\n",
       "      <td>3528</td>\n",
       "      <td>3156</td>\n",
       "      <td>2717</td>\n",
       "      <td>3498</td>\n",
       "      <td>3344</td>\n",
       "      <td>3446</td>\n",
       "    </tr>\n",
       "    <tr>\n",
       "      <th>13</th>\n",
       "      <td>ID</td>\n",
       "      <td>21034</td>\n",
       "      <td>19091</td>\n",
       "      <td>20411</td>\n",
       "      <td>20399</td>\n",
       "      <td>21470</td>\n",
       "      <td>22659</td>\n",
       "      <td>23296</td>\n",
       "      <td>23533</td>\n",
       "      <td>23017</td>\n",
       "      <td>...</td>\n",
       "      <td>28911</td>\n",
       "      <td>30716</td>\n",
       "      <td>29878</td>\n",
       "      <td>30822</td>\n",
       "      <td>36407</td>\n",
       "      <td>37615</td>\n",
       "      <td>35257</td>\n",
       "      <td>32442</td>\n",
       "      <td>27280</td>\n",
       "      <td>28523</td>\n",
       "    </tr>\n",
       "    <tr>\n",
       "      <th>14</th>\n",
       "      <td>IL</td>\n",
       "      <td>630</td>\n",
       "      <td>673</td>\n",
       "      <td>646</td>\n",
       "      <td>604</td>\n",
       "      <td>607</td>\n",
       "      <td>596</td>\n",
       "      <td>591</td>\n",
       "      <td>613</td>\n",
       "      <td>568</td>\n",
       "      <td>...</td>\n",
       "      <td>410</td>\n",
       "      <td>451</td>\n",
       "      <td>425</td>\n",
       "      <td>453</td>\n",
       "      <td>427</td>\n",
       "      <td>500</td>\n",
       "      <td>422</td>\n",
       "      <td>461</td>\n",
       "      <td>439</td>\n",
       "      <td>393</td>\n",
       "    </tr>\n",
       "    <tr>\n",
       "      <th>15</th>\n",
       "      <td>IN</td>\n",
       "      <td>342</td>\n",
       "      <td>364</td>\n",
       "      <td>257</td>\n",
       "      <td>177</td>\n",
       "      <td>154</td>\n",
       "      <td>320</td>\n",
       "      <td>324</td>\n",
       "      <td>1599</td>\n",
       "      <td>1787</td>\n",
       "      <td>...</td>\n",
       "      <td>1320</td>\n",
       "      <td>1266</td>\n",
       "      <td>1301</td>\n",
       "      <td>1454</td>\n",
       "      <td>1044</td>\n",
       "      <td>760</td>\n",
       "      <td>873</td>\n",
       "      <td>924</td>\n",
       "      <td>1321</td>\n",
       "      <td>1265</td>\n",
       "    </tr>\n",
       "    <tr>\n",
       "      <th>16</th>\n",
       "      <td>KS</td>\n",
       "      <td>67</td>\n",
       "      <td>55</td>\n",
       "      <td>52</td>\n",
       "      <td>56</td>\n",
       "      <td>46</td>\n",
       "      <td>46</td>\n",
       "      <td>45</td>\n",
       "      <td>32</td>\n",
       "      <td>35</td>\n",
       "      <td>...</td>\n",
       "      <td>50</td>\n",
       "      <td>55</td>\n",
       "      <td>65</td>\n",
       "      <td>104</td>\n",
       "      <td>100</td>\n",
       "      <td>90</td>\n",
       "      <td>70</td>\n",
       "      <td>111</td>\n",
       "      <td>102</td>\n",
       "      <td>81</td>\n",
       "    </tr>\n",
       "    <tr>\n",
       "      <th>17</th>\n",
       "      <td>KY</td>\n",
       "      <td>8984</td>\n",
       "      <td>8685</td>\n",
       "      <td>9467</td>\n",
       "      <td>7942</td>\n",
       "      <td>8239</td>\n",
       "      <td>8408</td>\n",
       "      <td>8753</td>\n",
       "      <td>12613</td>\n",
       "      <td>9985</td>\n",
       "      <td>...</td>\n",
       "      <td>11175</td>\n",
       "      <td>10726</td>\n",
       "      <td>11613</td>\n",
       "      <td>11867</td>\n",
       "      <td>15375</td>\n",
       "      <td>15074</td>\n",
       "      <td>14438</td>\n",
       "      <td>17079</td>\n",
       "      <td>16638</td>\n",
       "      <td>15456</td>\n",
       "    </tr>\n",
       "    <tr>\n",
       "      <th>18</th>\n",
       "      <td>LA</td>\n",
       "      <td>0</td>\n",
       "      <td>0</td>\n",
       "      <td>0</td>\n",
       "      <td>0</td>\n",
       "      <td>0</td>\n",
       "      <td>0</td>\n",
       "      <td>0</td>\n",
       "      <td>0</td>\n",
       "      <td>0</td>\n",
       "      <td>...</td>\n",
       "      <td>3564</td>\n",
       "      <td>3719</td>\n",
       "      <td>3409</td>\n",
       "      <td>3764</td>\n",
       "      <td>3092</td>\n",
       "      <td>4026</td>\n",
       "      <td>4660</td>\n",
       "      <td>4107</td>\n",
       "      <td>3785</td>\n",
       "      <td>3126</td>\n",
       "    </tr>\n",
       "    <tr>\n",
       "      <th>19</th>\n",
       "      <td>MA</td>\n",
       "      <td>3352</td>\n",
       "      <td>2776</td>\n",
       "      <td>2699</td>\n",
       "      <td>2417</td>\n",
       "      <td>2287</td>\n",
       "      <td>2265</td>\n",
       "      <td>2741</td>\n",
       "      <td>2727</td>\n",
       "      <td>2671</td>\n",
       "      <td>...</td>\n",
       "      <td>3383</td>\n",
       "      <td>3078</td>\n",
       "      <td>2822</td>\n",
       "      <td>2431</td>\n",
       "      <td>3540</td>\n",
       "      <td>3868</td>\n",
       "      <td>3329</td>\n",
       "      <td>2879</td>\n",
       "      <td>3813</td>\n",
       "      <td>2993</td>\n",
       "    </tr>\n",
       "    <tr>\n",
       "      <th>20</th>\n",
       "      <td>MD</td>\n",
       "      <td>4632</td>\n",
       "      <td>3887</td>\n",
       "      <td>3918</td>\n",
       "      <td>3312</td>\n",
       "      <td>3794</td>\n",
       "      <td>3893</td>\n",
       "      <td>4510</td>\n",
       "      <td>6561</td>\n",
       "      <td>5489</td>\n",
       "      <td>...</td>\n",
       "      <td>5893</td>\n",
       "      <td>5512</td>\n",
       "      <td>5538</td>\n",
       "      <td>4750</td>\n",
       "      <td>6706</td>\n",
       "      <td>9659</td>\n",
       "      <td>7466</td>\n",
       "      <td>5789</td>\n",
       "      <td>7224</td>\n",
       "      <td>6072</td>\n",
       "    </tr>\n",
       "    <tr>\n",
       "      <th>21</th>\n",
       "      <td>ME</td>\n",
       "      <td>9705</td>\n",
       "      <td>8884</td>\n",
       "      <td>8622</td>\n",
       "      <td>9724</td>\n",
       "      <td>8434</td>\n",
       "      <td>7059</td>\n",
       "      <td>8258</td>\n",
       "      <td>8734</td>\n",
       "      <td>8908</td>\n",
       "      <td>...</td>\n",
       "      <td>12148</td>\n",
       "      <td>12363</td>\n",
       "      <td>11466</td>\n",
       "      <td>10235</td>\n",
       "      <td>11563</td>\n",
       "      <td>11127</td>\n",
       "      <td>11940</td>\n",
       "      <td>10776</td>\n",
       "      <td>8670</td>\n",
       "      <td>10452</td>\n",
       "    </tr>\n",
       "    <tr>\n",
       "      <th>22</th>\n",
       "      <td>MI</td>\n",
       "      <td>6925</td>\n",
       "      <td>6099</td>\n",
       "      <td>5816</td>\n",
       "      <td>4672</td>\n",
       "      <td>5273</td>\n",
       "      <td>6187</td>\n",
       "      <td>6209</td>\n",
       "      <td>6723</td>\n",
       "      <td>6526</td>\n",
       "      <td>...</td>\n",
       "      <td>4842</td>\n",
       "      <td>5459</td>\n",
       "      <td>5115</td>\n",
       "      <td>5338</td>\n",
       "      <td>5729</td>\n",
       "      <td>5354</td>\n",
       "      <td>5629</td>\n",
       "      <td>5846</td>\n",
       "      <td>4571</td>\n",
       "      <td>4729</td>\n",
       "    </tr>\n",
       "    <tr>\n",
       "      <th>23</th>\n",
       "      <td>MN</td>\n",
       "      <td>3026</td>\n",
       "      <td>2516</td>\n",
       "      <td>3296</td>\n",
       "      <td>2870</td>\n",
       "      <td>3224</td>\n",
       "      <td>3728</td>\n",
       "      <td>4045</td>\n",
       "      <td>2944</td>\n",
       "      <td>3435</td>\n",
       "      <td>...</td>\n",
       "      <td>1744</td>\n",
       "      <td>1871</td>\n",
       "      <td>2897</td>\n",
       "      <td>4123</td>\n",
       "      <td>4291</td>\n",
       "      <td>3595</td>\n",
       "      <td>3603</td>\n",
       "      <td>3418</td>\n",
       "      <td>2317</td>\n",
       "      <td>3243</td>\n",
       "    </tr>\n",
       "    <tr>\n",
       "      <th>24</th>\n",
       "      <td>MO</td>\n",
       "      <td>2476</td>\n",
       "      <td>4230</td>\n",
       "      <td>3004</td>\n",
       "      <td>1285</td>\n",
       "      <td>1089</td>\n",
       "      <td>2738</td>\n",
       "      <td>2034</td>\n",
       "      <td>2188</td>\n",
       "      <td>4550</td>\n",
       "      <td>...</td>\n",
       "      <td>3877</td>\n",
       "      <td>2379</td>\n",
       "      <td>5442</td>\n",
       "      <td>4328</td>\n",
       "      <td>4032</td>\n",
       "      <td>2826</td>\n",
       "      <td>7561</td>\n",
       "      <td>6413</td>\n",
       "      <td>5792</td>\n",
       "      <td>4721</td>\n",
       "    </tr>\n",
       "    <tr>\n",
       "      <th>25</th>\n",
       "      <td>MS</td>\n",
       "      <td>0</td>\n",
       "      <td>0</td>\n",
       "      <td>0</td>\n",
       "      <td>0</td>\n",
       "      <td>0</td>\n",
       "      <td>0</td>\n",
       "      <td>0</td>\n",
       "      <td>0</td>\n",
       "      <td>0</td>\n",
       "      <td>...</td>\n",
       "      <td>0</td>\n",
       "      <td>0</td>\n",
       "      <td>0</td>\n",
       "      <td>0</td>\n",
       "      <td>0</td>\n",
       "      <td>0</td>\n",
       "      <td>0</td>\n",
       "      <td>0</td>\n",
       "      <td>0</td>\n",
       "      <td>0</td>\n",
       "    </tr>\n",
       "    <tr>\n",
       "      <th>26</th>\n",
       "      <td>MT</td>\n",
       "      <td>19792</td>\n",
       "      <td>22173</td>\n",
       "      <td>21871</td>\n",
       "      <td>20511</td>\n",
       "      <td>23271</td>\n",
       "      <td>28624</td>\n",
       "      <td>27091</td>\n",
       "      <td>29701</td>\n",
       "      <td>30453</td>\n",
       "      <td>...</td>\n",
       "      <td>32886</td>\n",
       "      <td>39179</td>\n",
       "      <td>33737</td>\n",
       "      <td>34402</td>\n",
       "      <td>37349</td>\n",
       "      <td>38913</td>\n",
       "      <td>34135</td>\n",
       "      <td>36671</td>\n",
       "      <td>31590</td>\n",
       "      <td>33731</td>\n",
       "    </tr>\n",
       "    <tr>\n",
       "      <th>27</th>\n",
       "      <td>NC</td>\n",
       "      <td>17054</td>\n",
       "      <td>16109</td>\n",
       "      <td>18737</td>\n",
       "      <td>14887</td>\n",
       "      <td>20436</td>\n",
       "      <td>18375</td>\n",
       "      <td>14941</td>\n",
       "      <td>17182</td>\n",
       "      <td>16113</td>\n",
       "      <td>...</td>\n",
       "      <td>23545</td>\n",
       "      <td>16228</td>\n",
       "      <td>16180</td>\n",
       "      <td>15071</td>\n",
       "      <td>13027</td>\n",
       "      <td>22538</td>\n",
       "      <td>21106</td>\n",
       "      <td>27151</td>\n",
       "      <td>19833</td>\n",
       "      <td>15990</td>\n",
       "    </tr>\n",
       "    <tr>\n",
       "      <th>28</th>\n",
       "      <td>ND</td>\n",
       "      <td>3617</td>\n",
       "      <td>4800</td>\n",
       "      <td>4411</td>\n",
       "      <td>5061</td>\n",
       "      <td>6407</td>\n",
       "      <td>8521</td>\n",
       "      <td>6581</td>\n",
       "      <td>9454</td>\n",
       "      <td>8528</td>\n",
       "      <td>...</td>\n",
       "      <td>6320</td>\n",
       "      <td>8637</td>\n",
       "      <td>7145</td>\n",
       "      <td>6524</td>\n",
       "      <td>8810</td>\n",
       "      <td>10851</td>\n",
       "      <td>10848</td>\n",
       "      <td>8361</td>\n",
       "      <td>6787</td>\n",
       "      <td>6112</td>\n",
       "    </tr>\n",
       "    <tr>\n",
       "      <th>29</th>\n",
       "      <td>NE</td>\n",
       "      <td>3272</td>\n",
       "      <td>3167</td>\n",
       "      <td>3328</td>\n",
       "      <td>3459</td>\n",
       "      <td>3421</td>\n",
       "      <td>3807</td>\n",
       "      <td>3966</td>\n",
       "      <td>3969</td>\n",
       "      <td>4279</td>\n",
       "      <td>...</td>\n",
       "      <td>3835</td>\n",
       "      <td>3950</td>\n",
       "      <td>5749</td>\n",
       "      <td>2922</td>\n",
       "      <td>5081</td>\n",
       "      <td>4716</td>\n",
       "      <td>4573</td>\n",
       "      <td>4743</td>\n",
       "      <td>3832</td>\n",
       "      <td>3608</td>\n",
       "    </tr>\n",
       "    <tr>\n",
       "      <th>30</th>\n",
       "      <td>NH</td>\n",
       "      <td>4685</td>\n",
       "      <td>4057</td>\n",
       "      <td>4633</td>\n",
       "      <td>4400</td>\n",
       "      <td>3931</td>\n",
       "      <td>3592</td>\n",
       "      <td>4187</td>\n",
       "      <td>4102</td>\n",
       "      <td>4111</td>\n",
       "      <td>...</td>\n",
       "      <td>4870</td>\n",
       "      <td>4713</td>\n",
       "      <td>4334</td>\n",
       "      <td>3908</td>\n",
       "      <td>4823</td>\n",
       "      <td>4623</td>\n",
       "      <td>4988</td>\n",
       "      <td>4191</td>\n",
       "      <td>3497</td>\n",
       "      <td>4099</td>\n",
       "    </tr>\n",
       "    <tr>\n",
       "      <th>31</th>\n",
       "      <td>NJ</td>\n",
       "      <td>152</td>\n",
       "      <td>64</td>\n",
       "      <td>77</td>\n",
       "      <td>54</td>\n",
       "      <td>66</td>\n",
       "      <td>-106</td>\n",
       "      <td>-449</td>\n",
       "      <td>-688</td>\n",
       "      <td>-1167</td>\n",
       "      <td>...</td>\n",
       "      <td>62</td>\n",
       "      <td>59</td>\n",
       "      <td>33</td>\n",
       "      <td>32</td>\n",
       "      <td>47</td>\n",
       "      <td>121</td>\n",
       "      <td>90</td>\n",
       "      <td>52</td>\n",
       "      <td>62</td>\n",
       "      <td>18</td>\n",
       "    </tr>\n",
       "    <tr>\n",
       "      <th>32</th>\n",
       "      <td>NM</td>\n",
       "      <td>236</td>\n",
       "      <td>177</td>\n",
       "      <td>217</td>\n",
       "      <td>149</td>\n",
       "      <td>32</td>\n",
       "      <td>146</td>\n",
       "      <td>231</td>\n",
       "      <td>120</td>\n",
       "      <td>147</td>\n",
       "      <td>...</td>\n",
       "      <td>313</td>\n",
       "      <td>336</td>\n",
       "      <td>339</td>\n",
       "      <td>505</td>\n",
       "      <td>659</td>\n",
       "      <td>510</td>\n",
       "      <td>540</td>\n",
       "      <td>692</td>\n",
       "      <td>419</td>\n",
       "      <td>412</td>\n",
       "    </tr>\n",
       "    <tr>\n",
       "      <th>33</th>\n",
       "      <td>NV</td>\n",
       "      <td>6711</td>\n",
       "      <td>5964</td>\n",
       "      <td>6729</td>\n",
       "      <td>6155</td>\n",
       "      <td>5516</td>\n",
       "      <td>5441</td>\n",
       "      <td>6144</td>\n",
       "      <td>5911</td>\n",
       "      <td>5971</td>\n",
       "      <td>...</td>\n",
       "      <td>9151</td>\n",
       "      <td>8151</td>\n",
       "      <td>7725</td>\n",
       "      <td>6105</td>\n",
       "      <td>6185</td>\n",
       "      <td>6419</td>\n",
       "      <td>7650</td>\n",
       "      <td>6563</td>\n",
       "      <td>6634</td>\n",
       "      <td>5752</td>\n",
       "    </tr>\n",
       "    <tr>\n",
       "      <th>34</th>\n",
       "      <td>NY</td>\n",
       "      <td>41239</td>\n",
       "      <td>61954</td>\n",
       "      <td>71308</td>\n",
       "      <td>66046</td>\n",
       "      <td>62114</td>\n",
       "      <td>66795</td>\n",
       "      <td>75302</td>\n",
       "      <td>79984</td>\n",
       "      <td>85375</td>\n",
       "      <td>...</td>\n",
       "      <td>85209</td>\n",
       "      <td>89009</td>\n",
       "      <td>88762</td>\n",
       "      <td>91743</td>\n",
       "      <td>102855</td>\n",
       "      <td>101098</td>\n",
       "      <td>104478</td>\n",
       "      <td>100824</td>\n",
       "      <td>98148</td>\n",
       "      <td>93596</td>\n",
       "    </tr>\n",
       "    <tr>\n",
       "      <th>35</th>\n",
       "      <td>OH</td>\n",
       "      <td>67</td>\n",
       "      <td>71</td>\n",
       "      <td>58</td>\n",
       "      <td>28</td>\n",
       "      <td>33</td>\n",
       "      <td>36</td>\n",
       "      <td>33</td>\n",
       "      <td>35</td>\n",
       "      <td>29</td>\n",
       "      <td>...</td>\n",
       "      <td>1874</td>\n",
       "      <td>1631</td>\n",
       "      <td>1558</td>\n",
       "      <td>1707</td>\n",
       "      <td>946</td>\n",
       "      <td>833</td>\n",
       "      <td>1374</td>\n",
       "      <td>1277</td>\n",
       "      <td>1973</td>\n",
       "      <td>1730</td>\n",
       "    </tr>\n",
       "    <tr>\n",
       "      <th>36</th>\n",
       "      <td>OK</td>\n",
       "      <td>2404</td>\n",
       "      <td>3418</td>\n",
       "      <td>2495</td>\n",
       "      <td>650</td>\n",
       "      <td>1045</td>\n",
       "      <td>2814</td>\n",
       "      <td>1748</td>\n",
       "      <td>2477</td>\n",
       "      <td>5207</td>\n",
       "      <td>...</td>\n",
       "      <td>7432</td>\n",
       "      <td>4874</td>\n",
       "      <td>9089</td>\n",
       "      <td>8781</td>\n",
       "      <td>6948</td>\n",
       "      <td>6943</td>\n",
       "      <td>13318</td>\n",
       "      <td>9739</td>\n",
       "      <td>9438</td>\n",
       "      <td>6038</td>\n",
       "    </tr>\n",
       "    <tr>\n",
       "      <th>37</th>\n",
       "      <td>OR</td>\n",
       "      <td>42534</td>\n",
       "      <td>42625</td>\n",
       "      <td>45424</td>\n",
       "      <td>46526</td>\n",
       "      <td>51198</td>\n",
       "      <td>56326</td>\n",
       "      <td>57047</td>\n",
       "      <td>60940</td>\n",
       "      <td>69767</td>\n",
       "      <td>...</td>\n",
       "      <td>112929</td>\n",
       "      <td>120314</td>\n",
       "      <td>106638</td>\n",
       "      <td>117882</td>\n",
       "      <td>130659</td>\n",
       "      <td>120931</td>\n",
       "      <td>103459</td>\n",
       "      <td>108913</td>\n",
       "      <td>94374</td>\n",
       "      <td>106810</td>\n",
       "    </tr>\n",
       "    <tr>\n",
       "      <th>38</th>\n",
       "      <td>PA</td>\n",
       "      <td>6230</td>\n",
       "      <td>5081</td>\n",
       "      <td>5183</td>\n",
       "      <td>4368</td>\n",
       "      <td>4371</td>\n",
       "      <td>4533</td>\n",
       "      <td>4923</td>\n",
       "      <td>6531</td>\n",
       "      <td>4034</td>\n",
       "      <td>...</td>\n",
       "      <td>8614</td>\n",
       "      <td>9012</td>\n",
       "      <td>8884</td>\n",
       "      <td>8102</td>\n",
       "      <td>10657</td>\n",
       "      <td>14541</td>\n",
       "      <td>11953</td>\n",
       "      <td>9118</td>\n",
       "      <td>10696</td>\n",
       "      <td>9051</td>\n",
       "    </tr>\n",
       "    <tr>\n",
       "      <th>39</th>\n",
       "      <td>RI</td>\n",
       "      <td>30</td>\n",
       "      <td>27</td>\n",
       "      <td>19</td>\n",
       "      <td>12</td>\n",
       "      <td>13</td>\n",
       "      <td>6</td>\n",
       "      <td>7</td>\n",
       "      <td>18</td>\n",
       "      <td>16</td>\n",
       "      <td>...</td>\n",
       "      <td>15</td>\n",
       "      <td>14</td>\n",
       "      <td>11</td>\n",
       "      <td>7</td>\n",
       "      <td>8</td>\n",
       "      <td>14</td>\n",
       "      <td>12</td>\n",
       "      <td>12</td>\n",
       "      <td>15</td>\n",
       "      <td>25</td>\n",
       "    </tr>\n",
       "    <tr>\n",
       "      <th>40</th>\n",
       "      <td>SC</td>\n",
       "      <td>12319</td>\n",
       "      <td>11049</td>\n",
       "      <td>10463</td>\n",
       "      <td>9123</td>\n",
       "      <td>14859</td>\n",
       "      <td>11998</td>\n",
       "      <td>8907</td>\n",
       "      <td>9056</td>\n",
       "      <td>9220</td>\n",
       "      <td>...</td>\n",
       "      <td>10783</td>\n",
       "      <td>8766</td>\n",
       "      <td>8750</td>\n",
       "      <td>7595</td>\n",
       "      <td>6261</td>\n",
       "      <td>10283</td>\n",
       "      <td>10155</td>\n",
       "      <td>13180</td>\n",
       "      <td>8679</td>\n",
       "      <td>7440</td>\n",
       "    </tr>\n",
       "    <tr>\n",
       "      <th>41</th>\n",
       "      <td>SD</td>\n",
       "      <td>3944</td>\n",
       "      <td>3896</td>\n",
       "      <td>5124</td>\n",
       "      <td>9926</td>\n",
       "      <td>10558</td>\n",
       "      <td>13213</td>\n",
       "      <td>16544</td>\n",
       "      <td>16820</td>\n",
       "      <td>19259</td>\n",
       "      <td>...</td>\n",
       "      <td>13862</td>\n",
       "      <td>18760</td>\n",
       "      <td>16550</td>\n",
       "      <td>16396</td>\n",
       "      <td>17932</td>\n",
       "      <td>21381</td>\n",
       "      <td>27007</td>\n",
       "      <td>19894</td>\n",
       "      <td>17000</td>\n",
       "      <td>14530</td>\n",
       "    </tr>\n",
       "    <tr>\n",
       "      <th>42</th>\n",
       "      <td>TN</td>\n",
       "      <td>29602</td>\n",
       "      <td>29851</td>\n",
       "      <td>32877</td>\n",
       "      <td>26349</td>\n",
       "      <td>31038</td>\n",
       "      <td>29855</td>\n",
       "      <td>26043</td>\n",
       "      <td>32850</td>\n",
       "      <td>26346</td>\n",
       "      <td>...</td>\n",
       "      <td>42456</td>\n",
       "      <td>30369</td>\n",
       "      <td>32691</td>\n",
       "      <td>23113</td>\n",
       "      <td>29654</td>\n",
       "      <td>35119</td>\n",
       "      <td>34563</td>\n",
       "      <td>45900</td>\n",
       "      <td>37093</td>\n",
       "      <td>31384</td>\n",
       "    </tr>\n",
       "    <tr>\n",
       "      <th>43</th>\n",
       "      <td>TX</td>\n",
       "      <td>3760</td>\n",
       "      <td>4211</td>\n",
       "      <td>2730</td>\n",
       "      <td>1630</td>\n",
       "      <td>1548</td>\n",
       "      <td>2537</td>\n",
       "      <td>2685</td>\n",
       "      <td>1977</td>\n",
       "      <td>4525</td>\n",
       "      <td>...</td>\n",
       "      <td>1638</td>\n",
       "      <td>1317</td>\n",
       "      <td>3263</td>\n",
       "      <td>4579</td>\n",
       "      <td>3624</td>\n",
       "      <td>3843</td>\n",
       "      <td>5034</td>\n",
       "      <td>3683</td>\n",
       "      <td>3693</td>\n",
       "      <td>2116</td>\n",
       "    </tr>\n",
       "    <tr>\n",
       "      <th>44</th>\n",
       "      <td>UT</td>\n",
       "      <td>1038</td>\n",
       "      <td>788</td>\n",
       "      <td>1340</td>\n",
       "      <td>1201</td>\n",
       "      <td>2610</td>\n",
       "      <td>3116</td>\n",
       "      <td>2698</td>\n",
       "      <td>3665</td>\n",
       "      <td>3470</td>\n",
       "      <td>...</td>\n",
       "      <td>1723</td>\n",
       "      <td>2159</td>\n",
       "      <td>2623</td>\n",
       "      <td>2592</td>\n",
       "      <td>4414</td>\n",
       "      <td>3163</td>\n",
       "      <td>2986</td>\n",
       "      <td>2787</td>\n",
       "      <td>1684</td>\n",
       "      <td>2031</td>\n",
       "    </tr>\n",
       "    <tr>\n",
       "      <th>45</th>\n",
       "      <td>VA</td>\n",
       "      <td>4323</td>\n",
       "      <td>4037</td>\n",
       "      <td>4309</td>\n",
       "      <td>2986</td>\n",
       "      <td>2931</td>\n",
       "      <td>3014</td>\n",
       "      <td>2605</td>\n",
       "      <td>2751</td>\n",
       "      <td>2677</td>\n",
       "      <td>...</td>\n",
       "      <td>4278</td>\n",
       "      <td>3259</td>\n",
       "      <td>3953</td>\n",
       "      <td>5021</td>\n",
       "      <td>3809</td>\n",
       "      <td>6022</td>\n",
       "      <td>5184</td>\n",
       "      <td>6927</td>\n",
       "      <td>4455</td>\n",
       "      <td>3880</td>\n",
       "    </tr>\n",
       "    <tr>\n",
       "      <th>46</th>\n",
       "      <td>VT</td>\n",
       "      <td>2979</td>\n",
       "      <td>2633</td>\n",
       "      <td>2725</td>\n",
       "      <td>2353</td>\n",
       "      <td>2265</td>\n",
       "      <td>2436</td>\n",
       "      <td>2867</td>\n",
       "      <td>2780</td>\n",
       "      <td>2695</td>\n",
       "      <td>...</td>\n",
       "      <td>4388</td>\n",
       "      <td>4010</td>\n",
       "      <td>3888</td>\n",
       "      <td>3676</td>\n",
       "      <td>4369</td>\n",
       "      <td>4327</td>\n",
       "      <td>4562</td>\n",
       "      <td>3854</td>\n",
       "      <td>3729</td>\n",
       "      <td>3892</td>\n",
       "    </tr>\n",
       "    <tr>\n",
       "      <th>47</th>\n",
       "      <td>WA</td>\n",
       "      <td>117199</td>\n",
       "      <td>127471</td>\n",
       "      <td>134953</td>\n",
       "      <td>147115</td>\n",
       "      <td>160486</td>\n",
       "      <td>168194</td>\n",
       "      <td>180226</td>\n",
       "      <td>200964</td>\n",
       "      <td>219514</td>\n",
       "      <td>...</td>\n",
       "      <td>266665</td>\n",
       "      <td>271128</td>\n",
       "      <td>250458</td>\n",
       "      <td>267316</td>\n",
       "      <td>280408</td>\n",
       "      <td>275974</td>\n",
       "      <td>225255</td>\n",
       "      <td>260710</td>\n",
       "      <td>243546</td>\n",
       "      <td>269263</td>\n",
       "    </tr>\n",
       "    <tr>\n",
       "      <th>48</th>\n",
       "      <td>WI</td>\n",
       "      <td>8186</td>\n",
       "      <td>6884</td>\n",
       "      <td>7292</td>\n",
       "      <td>5291</td>\n",
       "      <td>5228</td>\n",
       "      <td>7271</td>\n",
       "      <td>7001</td>\n",
       "      <td>7071</td>\n",
       "      <td>8160</td>\n",
       "      <td>...</td>\n",
       "      <td>6752</td>\n",
       "      <td>8434</td>\n",
       "      <td>7986</td>\n",
       "      <td>9537</td>\n",
       "      <td>9066</td>\n",
       "      <td>8162</td>\n",
       "      <td>9011</td>\n",
       "      <td>9512</td>\n",
       "      <td>7318</td>\n",
       "      <td>6793</td>\n",
       "    </tr>\n",
       "    <tr>\n",
       "      <th>49</th>\n",
       "      <td>WV</td>\n",
       "      <td>3202</td>\n",
       "      <td>3556</td>\n",
       "      <td>3545</td>\n",
       "      <td>2734</td>\n",
       "      <td>3086</td>\n",
       "      <td>2826</td>\n",
       "      <td>2617</td>\n",
       "      <td>3582</td>\n",
       "      <td>3264</td>\n",
       "      <td>...</td>\n",
       "      <td>5933</td>\n",
       "      <td>4238</td>\n",
       "      <td>4726</td>\n",
       "      <td>5590</td>\n",
       "      <td>5659</td>\n",
       "      <td>6304</td>\n",
       "      <td>5821</td>\n",
       "      <td>5432</td>\n",
       "      <td>5816</td>\n",
       "      <td>5620</td>\n",
       "    </tr>\n",
       "    <tr>\n",
       "      <th>50</th>\n",
       "      <td>WY</td>\n",
       "      <td>2078</td>\n",
       "      <td>2158</td>\n",
       "      <td>3328</td>\n",
       "      <td>2998</td>\n",
       "      <td>2983</td>\n",
       "      <td>3017</td>\n",
       "      <td>3148</td>\n",
       "      <td>2691</td>\n",
       "      <td>3273</td>\n",
       "      <td>...</td>\n",
       "      <td>2426</td>\n",
       "      <td>2964</td>\n",
       "      <td>2963</td>\n",
       "      <td>3322</td>\n",
       "      <td>3834</td>\n",
       "      <td>3329</td>\n",
       "      <td>3386</td>\n",
       "      <td>3705</td>\n",
       "      <td>2697</td>\n",
       "      <td>2541</td>\n",
       "    </tr>\n",
       "    <tr>\n",
       "      <th>51</th>\n",
       "      <td>US</td>\n",
       "      <td>509889</td>\n",
       "      <td>530691</td>\n",
       "      <td>586917</td>\n",
       "      <td>576594</td>\n",
       "      <td>615189</td>\n",
       "      <td>672111</td>\n",
       "      <td>675363</td>\n",
       "      <td>767525</td>\n",
       "      <td>770679</td>\n",
       "      <td>...</td>\n",
       "      <td>916345</td>\n",
       "      <td>884959</td>\n",
       "      <td>849861</td>\n",
       "      <td>913775</td>\n",
       "      <td>1024736</td>\n",
       "      <td>998092</td>\n",
       "      <td>982225</td>\n",
       "      <td>973355</td>\n",
       "      <td>858407</td>\n",
       "      <td>869339</td>\n",
       "    </tr>\n",
       "  </tbody>\n",
       "</table>\n",
       "<p>52 rows × 64 columns</p>\n",
       "</div>"
      ],
      "text/plain": [
       "   State    1960    1961    1962    1963    1964    1965    1966    1967  \\\n",
       "0     AK     989    1015    1036    1110    1100    1193    1079    1238   \n",
       "1     AL   21286   23019   25726   21782   29890   24235   23632   31181   \n",
       "2     AR    3384    4759    3618    1682    1915    3686    5415    4191   \n",
       "3     AZ   10201   10010    9973   10037    9843   15146   17815   17087   \n",
       "4     CA   59521   52436   77912   86440   75398  104143   89517  120364   \n",
       "5     CO    3309    2851    3466    3528    3603    3199    3406    3168   \n",
       "6     CT    1447    1252    1006     949     919     639     862    1344   \n",
       "7     DC      10      19      20      14      16      11       8       8   \n",
       "8     DE       0       0       0       0       0       0       0       0   \n",
       "9     FL     948     899     810     903     989    1018     990     976   \n",
       "10    GA    7867    7809    8739   10014   14705   11035   11398   12640   \n",
       "11    HI      93      83      69      78     393     357     382     370   \n",
       "12    IA    3006    3059    3177    2585    2354    3166    2959    2750   \n",
       "13    ID   21034   19091   20411   20399   21470   22659   23296   23533   \n",
       "14    IL     630     673     646     604     607     596     591     613   \n",
       "15    IN     342     364     257     177     154     320     324    1599   \n",
       "16    KS      67      55      52      56      46      46      45      32   \n",
       "17    KY    8984    8685    9467    7942    8239    8408    8753   12613   \n",
       "18    LA       0       0       0       0       0       0       0       0   \n",
       "19    MA    3352    2776    2699    2417    2287    2265    2741    2727   \n",
       "20    MD    4632    3887    3918    3312    3794    3893    4510    6561   \n",
       "21    ME    9705    8884    8622    9724    8434    7059    8258    8734   \n",
       "22    MI    6925    6099    5816    4672    5273    6187    6209    6723   \n",
       "23    MN    3026    2516    3296    2870    3224    3728    4045    2944   \n",
       "24    MO    2476    4230    3004    1285    1089    2738    2034    2188   \n",
       "25    MS       0       0       0       0       0       0       0       0   \n",
       "26    MT   19792   22173   21871   20511   23271   28624   27091   29701   \n",
       "27    NC   17054   16109   18737   14887   20436   18375   14941   17182   \n",
       "28    ND    3617    4800    4411    5061    6407    8521    6581    9454   \n",
       "29    NE    3272    3167    3328    3459    3421    3807    3966    3969   \n",
       "30    NH    4685    4057    4633    4400    3931    3592    4187    4102   \n",
       "31    NJ     152      64      77      54      66    -106    -449    -688   \n",
       "32    NM     236     177     217     149      32     146     231     120   \n",
       "33    NV    6711    5964    6729    6155    5516    5441    6144    5911   \n",
       "34    NY   41239   61954   71308   66046   62114   66795   75302   79984   \n",
       "35    OH      67      71      58      28      33      36      33      35   \n",
       "36    OK    2404    3418    2495     650    1045    2814    1748    2477   \n",
       "37    OR   42534   42625   45424   46526   51198   56326   57047   60940   \n",
       "38    PA    6230    5081    5183    4368    4371    4533    4923    6531   \n",
       "39    RI      30      27      19      12      13       6       7      18   \n",
       "40    SC   12319   11049   10463    9123   14859   11998    8907    9056   \n",
       "41    SD    3944    3896    5124    9926   10558   13213   16544   16820   \n",
       "42    TN   29602   29851   32877   26349   31038   29855   26043   32850   \n",
       "43    TX    3760    4211    2730    1630    1548    2537    2685    1977   \n",
       "44    UT    1038     788    1340    1201    2610    3116    2698    3665   \n",
       "45    VA    4323    4037    4309    2986    2931    3014    2605    2751   \n",
       "46    VT    2979    2633    2725    2353    2265    2436    2867    2780   \n",
       "47    WA  117199  127471  134953  147115  160486  168194  180226  200964   \n",
       "48    WI    8186    6884    7292    5291    5228    7271    7001    7071   \n",
       "49    WV    3202    3556    3545    2734    3086    2826    2617    3582   \n",
       "50    WY    2078    2158    3328    2998    2983    3017    3148    2691   \n",
       "51    US  509889  530691  586917  576594  615189  672111  675363  767525   \n",
       "\n",
       "      1968  ...    2013    2014    2015    2016     2017    2018    2019  \\\n",
       "0     1241  ...    4898    5250    5353    5661     5608    5678    5539   \n",
       "1    25186  ...   44012   32301   33648   23832    31518   38020   38915   \n",
       "2    10253  ...    9058    9007   12178   12181    10043   10266   14108   \n",
       "3    19462  ...   20181   20876   22300   24456    23310   23823   21170   \n",
       "4    92719  ...   81051   56405   47115   98751   144543   89840  130866   \n",
       "5     3221  ...    4138    6039    5528    6492     6473    6228    6179   \n",
       "6     1223  ...    1371    1481    1032     765     1133    1895    1460   \n",
       "7        5  ...       0       0       0       0        0       0       0   \n",
       "8        1  ...       0       0       0       0        0       0       0   \n",
       "9      824  ...     867     721     834     596      745     794     716   \n",
       "10   10741  ...   12671   10456   10180   11508     8222   12614   13499   \n",
       "11     321  ...     267     321     413     310      225     329     323   \n",
       "12    3246  ...    2556    2998    3276    3128     3528    3156    2717   \n",
       "13   23017  ...   28911   30716   29878   30822    36407   37615   35257   \n",
       "14     568  ...     410     451     425     453      427     500     422   \n",
       "15    1787  ...    1320    1266    1301    1454     1044     760     873   \n",
       "16      35  ...      50      55      65     104      100      90      70   \n",
       "17    9985  ...   11175   10726   11613   11867    15375   15074   14438   \n",
       "18       0  ...    3564    3719    3409    3764     3092    4026    4660   \n",
       "19    2671  ...    3383    3078    2822    2431     3540    3868    3329   \n",
       "20    5489  ...    5893    5512    5538    4750     6706    9659    7466   \n",
       "21    8908  ...   12148   12363   11466   10235    11563   11127   11940   \n",
       "22    6526  ...    4842    5459    5115    5338     5729    5354    5629   \n",
       "23    3435  ...    1744    1871    2897    4123     4291    3595    3603   \n",
       "24    4550  ...    3877    2379    5442    4328     4032    2826    7561   \n",
       "25       0  ...       0       0       0       0        0       0       0   \n",
       "26   30453  ...   32886   39179   33737   34402    37349   38913   34135   \n",
       "27   16113  ...   23545   16228   16180   15071    13027   22538   21106   \n",
       "28    8528  ...    6320    8637    7145    6524     8810   10851   10848   \n",
       "29    4279  ...    3835    3950    5749    2922     5081    4716    4573   \n",
       "30    4111  ...    4870    4713    4334    3908     4823    4623    4988   \n",
       "31   -1167  ...      62      59      33      32       47     121      90   \n",
       "32     147  ...     313     336     339     505      659     510     540   \n",
       "33    5971  ...    9151    8151    7725    6105     6185    6419    7650   \n",
       "34   85375  ...   85209   89009   88762   91743   102855  101098  104478   \n",
       "35      29  ...    1874    1631    1558    1707      946     833    1374   \n",
       "36    5207  ...    7432    4874    9089    8781     6948    6943   13318   \n",
       "37   69767  ...  112929  120314  106638  117882   130659  120931  103459   \n",
       "38    4034  ...    8614    9012    8884    8102    10657   14541   11953   \n",
       "39      16  ...      15      14      11       7        8      14      12   \n",
       "40    9220  ...   10783    8766    8750    7595     6261   10283   10155   \n",
       "41   19259  ...   13862   18760   16550   16396    17932   21381   27007   \n",
       "42   26346  ...   42456   30369   32691   23113    29654   35119   34563   \n",
       "43    4525  ...    1638    1317    3263    4579     3624    3843    5034   \n",
       "44    3470  ...    1723    2159    2623    2592     4414    3163    2986   \n",
       "45    2677  ...    4278    3259    3953    5021     3809    6022    5184   \n",
       "46    2695  ...    4388    4010    3888    3676     4369    4327    4562   \n",
       "47  219514  ...  266665  271128  250458  267316   280408  275974  225255   \n",
       "48    8160  ...    6752    8434    7986    9537     9066    8162    9011   \n",
       "49    3264  ...    5933    4238    4726    5590     5659    6304    5821   \n",
       "50    3273  ...    2426    2964    2963    3322     3834    3329    3386   \n",
       "51  770679  ...  916345  884959  849861  913775  1024736  998092  982225   \n",
       "\n",
       "      2020    2021    2022  \n",
       "0     6019    5763    5846  \n",
       "1    45547   39309   34762  \n",
       "2    15458   13746   11835  \n",
       "3    21917   20379   18075  \n",
       "4    72940   50080   60202  \n",
       "5     5693    5453    4588  \n",
       "6     1112    1629    1065  \n",
       "7        0       0       0  \n",
       "8        0       0       0  \n",
       "9      790     858     788  \n",
       "10   15909   12491   10840  \n",
       "11     337     392     376  \n",
       "12    3498    3344    3446  \n",
       "13   32442   27280   28523  \n",
       "14     461     439     393  \n",
       "15     924    1321    1265  \n",
       "16     111     102      81  \n",
       "17   17079   16638   15456  \n",
       "18    4107    3785    3126  \n",
       "19    2879    3813    2993  \n",
       "20    5789    7224    6072  \n",
       "21   10776    8670   10452  \n",
       "22    5846    4571    4729  \n",
       "23    3418    2317    3243  \n",
       "24    6413    5792    4721  \n",
       "25       0       0       0  \n",
       "26   36671   31590   33731  \n",
       "27   27151   19833   15990  \n",
       "28    8361    6787    6112  \n",
       "29    4743    3832    3608  \n",
       "30    4191    3497    4099  \n",
       "31      52      62      18  \n",
       "32     692     419     412  \n",
       "33    6563    6634    5752  \n",
       "34  100824   98148   93596  \n",
       "35    1277    1973    1730  \n",
       "36    9739    9438    6038  \n",
       "37  108913   94374  106810  \n",
       "38    9118   10696    9051  \n",
       "39      12      15      25  \n",
       "40   13180    8679    7440  \n",
       "41   19894   17000   14530  \n",
       "42   45900   37093   31384  \n",
       "43    3683    3693    2116  \n",
       "44    2787    1684    2031  \n",
       "45    6927    4455    3880  \n",
       "46    3854    3729    3892  \n",
       "47  260710  243546  269263  \n",
       "48    9512    7318    6793  \n",
       "49    5432    5816    5620  \n",
       "50    3705    2697    2541  \n",
       "51  973355  858407  869339  \n",
       "\n",
       "[52 rows x 64 columns]"
      ]
     },
     "execution_count": 29,
     "metadata": {},
     "output_type": "execute_result"
    }
   ],
   "source": [
    "renewable_energy_4 = pd.read_excel('use_renew_sector.xlsx', sheet_name=\"Hydropower\", header=2)\n",
    "renewable_energy_4"
   ]
  },
  {
   "cell_type": "code",
   "execution_count": 30,
   "id": "5afe0ea9-a54b-4787-8117-71e166a1a6a0",
   "metadata": {},
   "outputs": [
    {
     "data": {
      "text/html": [
       "<div>\n",
       "<style scoped>\n",
       "    .dataframe tbody tr th:only-of-type {\n",
       "        vertical-align: middle;\n",
       "    }\n",
       "\n",
       "    .dataframe tbody tr th {\n",
       "        vertical-align: top;\n",
       "    }\n",
       "\n",
       "    .dataframe thead th {\n",
       "        text-align: right;\n",
       "    }\n",
       "</style>\n",
       "<table border=\"1\" class=\"dataframe\">\n",
       "  <thead>\n",
       "    <tr style=\"text-align: right;\">\n",
       "      <th></th>\n",
       "      <th>State</th>\n",
       "      <th>Year</th>\n",
       "      <th>BTU_hydro</th>\n",
       "    </tr>\n",
       "  </thead>\n",
       "  <tbody>\n",
       "    <tr>\n",
       "      <th>0</th>\n",
       "      <td>AK</td>\n",
       "      <td>2000</td>\n",
       "      <td>3418</td>\n",
       "    </tr>\n",
       "    <tr>\n",
       "      <th>1</th>\n",
       "      <td>AL</td>\n",
       "      <td>2000</td>\n",
       "      <td>19850</td>\n",
       "    </tr>\n",
       "    <tr>\n",
       "      <th>2</th>\n",
       "      <td>AR</td>\n",
       "      <td>2000</td>\n",
       "      <td>8088</td>\n",
       "    </tr>\n",
       "    <tr>\n",
       "      <th>3</th>\n",
       "      <td>AZ</td>\n",
       "      <td>2000</td>\n",
       "      <td>28505</td>\n",
       "    </tr>\n",
       "    <tr>\n",
       "      <th>4</th>\n",
       "      <td>CA</td>\n",
       "      <td>2000</td>\n",
       "      <td>130795</td>\n",
       "    </tr>\n",
       "    <tr>\n",
       "      <th>...</th>\n",
       "      <td>...</td>\n",
       "      <td>...</td>\n",
       "      <td>...</td>\n",
       "    </tr>\n",
       "    <tr>\n",
       "      <th>1191</th>\n",
       "      <td>WA</td>\n",
       "      <td>2022</td>\n",
       "      <td>269263</td>\n",
       "    </tr>\n",
       "    <tr>\n",
       "      <th>1192</th>\n",
       "      <td>WI</td>\n",
       "      <td>2022</td>\n",
       "      <td>6793</td>\n",
       "    </tr>\n",
       "    <tr>\n",
       "      <th>1193</th>\n",
       "      <td>WV</td>\n",
       "      <td>2022</td>\n",
       "      <td>5620</td>\n",
       "    </tr>\n",
       "    <tr>\n",
       "      <th>1194</th>\n",
       "      <td>WY</td>\n",
       "      <td>2022</td>\n",
       "      <td>2541</td>\n",
       "    </tr>\n",
       "    <tr>\n",
       "      <th>1195</th>\n",
       "      <td>US</td>\n",
       "      <td>2022</td>\n",
       "      <td>869339</td>\n",
       "    </tr>\n",
       "  </tbody>\n",
       "</table>\n",
       "<p>1196 rows × 3 columns</p>\n",
       "</div>"
      ],
      "text/plain": [
       "     State  Year  BTU_hydro\n",
       "0       AK  2000       3418\n",
       "1       AL  2000      19850\n",
       "2       AR  2000       8088\n",
       "3       AZ  2000      28505\n",
       "4       CA  2000     130795\n",
       "...    ...   ...        ...\n",
       "1191    WA  2022     269263\n",
       "1192    WI  2022       6793\n",
       "1193    WV  2022       5620\n",
       "1194    WY  2022       2541\n",
       "1195    US  2022     869339\n",
       "\n",
       "[1196 rows x 3 columns]"
      ]
     },
     "execution_count": 30,
     "metadata": {},
     "output_type": "execute_result"
    }
   ],
   "source": [
    "hydro_melted = pd.melt(\n",
    "    renewable_energy_4,\n",
    "    id_vars=[\"State\"],  # Columns to keep fixed\n",
    "    var_name=\"Year\",    # New column for the year\n",
    "    value_name=\"BTU_hydro\"  # New column for values (price, expenditure, etc.)\n",
    ")\n",
    "hydro_melted\n",
    "\n",
    "## only keep years 2000-2022\n",
    "filter_hydro_melted = hydro_melted[\n",
    "    (hydro_melted[\"Year\"].astype(int) >= 2000) & (hydro_melted[\"Year\"].astype(int) <= 2022)\n",
    "].reset_index()\n",
    "filter_hydro_melted\n",
    "\n",
    "filter_hydro_melted = filter_hydro_melted.drop(['index'], axis=1) # dropping index columns\n",
    "filter_hydro_melted"
   ]
  },
  {
   "cell_type": "markdown",
   "id": "b7c4885c-715d-48ad-9639-25b13bce74a4",
   "metadata": {},
   "source": [
    "#### Merging all 4 renewable energy datasets now"
   ]
  },
  {
   "cell_type": "code",
   "execution_count": 31,
   "id": "e8bd49e1-ec90-4a5e-9335-b7c73a5cea90",
   "metadata": {},
   "outputs": [
    {
     "data": {
      "text/html": [
       "<div>\n",
       "<style scoped>\n",
       "    .dataframe tbody tr th:only-of-type {\n",
       "        vertical-align: middle;\n",
       "    }\n",
       "\n",
       "    .dataframe tbody tr th {\n",
       "        vertical-align: top;\n",
       "    }\n",
       "\n",
       "    .dataframe thead th {\n",
       "        text-align: right;\n",
       "    }\n",
       "</style>\n",
       "<table border=\"1\" class=\"dataframe\">\n",
       "  <thead>\n",
       "    <tr style=\"text-align: right;\">\n",
       "      <th></th>\n",
       "      <th>State</th>\n",
       "      <th>Year</th>\n",
       "      <th>BTU_hydro</th>\n",
       "      <th>BTU_solar</th>\n",
       "      <th>BTU_geo</th>\n",
       "      <th>BTU_bio</th>\n",
       "      <th>Total_BTU</th>\n",
       "    </tr>\n",
       "  </thead>\n",
       "  <tbody>\n",
       "    <tr>\n",
       "      <th>0</th>\n",
       "      <td>AK</td>\n",
       "      <td>2000</td>\n",
       "      <td>3418</td>\n",
       "      <td>0</td>\n",
       "      <td>86</td>\n",
       "      <td>2069</td>\n",
       "      <td>5573</td>\n",
       "    </tr>\n",
       "    <tr>\n",
       "      <th>1</th>\n",
       "      <td>AL</td>\n",
       "      <td>2000</td>\n",
       "      <td>19850</td>\n",
       "      <td>113</td>\n",
       "      <td>62</td>\n",
       "      <td>203782</td>\n",
       "      <td>223807</td>\n",
       "    </tr>\n",
       "    <tr>\n",
       "      <th>2</th>\n",
       "      <td>AR</td>\n",
       "      <td>2000</td>\n",
       "      <td>8088</td>\n",
       "      <td>795</td>\n",
       "      <td>192</td>\n",
       "      <td>83466</td>\n",
       "      <td>92541</td>\n",
       "    </tr>\n",
       "    <tr>\n",
       "      <th>3</th>\n",
       "      <td>AZ</td>\n",
       "      <td>2000</td>\n",
       "      <td>28505</td>\n",
       "      <td>3339</td>\n",
       "      <td>286</td>\n",
       "      <td>13376</td>\n",
       "      <td>45506</td>\n",
       "    </tr>\n",
       "    <tr>\n",
       "      <th>4</th>\n",
       "      <td>CA</td>\n",
       "      <td>2000</td>\n",
       "      <td>130795</td>\n",
       "      <td>19125</td>\n",
       "      <td>44038</td>\n",
       "      <td>164105</td>\n",
       "      <td>358063</td>\n",
       "    </tr>\n",
       "    <tr>\n",
       "      <th>...</th>\n",
       "      <td>...</td>\n",
       "      <td>...</td>\n",
       "      <td>...</td>\n",
       "      <td>...</td>\n",
       "      <td>...</td>\n",
       "      <td>...</td>\n",
       "      <td>...</td>\n",
       "    </tr>\n",
       "    <tr>\n",
       "      <th>1191</th>\n",
       "      <td>WA</td>\n",
       "      <td>2022</td>\n",
       "      <td>269263</td>\n",
       "      <td>1754</td>\n",
       "      <td>1136</td>\n",
       "      <td>126418</td>\n",
       "      <td>398571</td>\n",
       "    </tr>\n",
       "    <tr>\n",
       "      <th>1192</th>\n",
       "      <td>WI</td>\n",
       "      <td>2022</td>\n",
       "      <td>6793</td>\n",
       "      <td>3766</td>\n",
       "      <td>615</td>\n",
       "      <td>142307</td>\n",
       "      <td>153481</td>\n",
       "    </tr>\n",
       "    <tr>\n",
       "      <th>1193</th>\n",
       "      <td>WV</td>\n",
       "      <td>2022</td>\n",
       "      <td>5620</td>\n",
       "      <td>166</td>\n",
       "      <td>32</td>\n",
       "      <td>17830</td>\n",
       "      <td>23648</td>\n",
       "    </tr>\n",
       "    <tr>\n",
       "      <th>1194</th>\n",
       "      <td>WY</td>\n",
       "      <td>2022</td>\n",
       "      <td>2541</td>\n",
       "      <td>715</td>\n",
       "      <td>663</td>\n",
       "      <td>8105</td>\n",
       "      <td>12024</td>\n",
       "    </tr>\n",
       "    <tr>\n",
       "      <th>1195</th>\n",
       "      <td>US</td>\n",
       "      <td>2022</td>\n",
       "      <td>869339</td>\n",
       "      <td>764580</td>\n",
       "      <td>118389</td>\n",
       "      <td>4856666</td>\n",
       "      <td>6608974</td>\n",
       "    </tr>\n",
       "  </tbody>\n",
       "</table>\n",
       "<p>1196 rows × 7 columns</p>\n",
       "</div>"
      ],
      "text/plain": [
       "     State  Year  BTU_hydro  BTU_solar  BTU_geo  BTU_bio  Total_BTU\n",
       "0       AK  2000       3418          0       86     2069       5573\n",
       "1       AL  2000      19850        113       62   203782     223807\n",
       "2       AR  2000       8088        795      192    83466      92541\n",
       "3       AZ  2000      28505       3339      286    13376      45506\n",
       "4       CA  2000     130795      19125    44038   164105     358063\n",
       "...    ...   ...        ...        ...      ...      ...        ...\n",
       "1191    WA  2022     269263       1754     1136   126418     398571\n",
       "1192    WI  2022       6793       3766      615   142307     153481\n",
       "1193    WV  2022       5620        166       32    17830      23648\n",
       "1194    WY  2022       2541        715      663     8105      12024\n",
       "1195    US  2022     869339     764580   118389  4856666    6608974\n",
       "\n",
       "[1196 rows x 7 columns]"
      ]
     },
     "execution_count": 31,
     "metadata": {},
     "output_type": "execute_result"
    }
   ],
   "source": [
    "# Select only the necessary columns from each dataset\n",
    "hydro_selected = filter_hydro_melted[[\"State\", \"Year\", \"BTU_hydro\"]]\n",
    "solar_selected = filter_solar_melted[[\"State\", \"Year\", \"BTU_solar\"]]\n",
    "geo_selected = filter_geo_melted[[\"State\", \"Year\", \"BTU_geo\"]]\n",
    "biomass_selected = filter_biomass_melted[[\"State\", \"Year\", \"BTU_bio\"]]\n",
    "\n",
    "merged_df1 = pd.merge(hydro_selected, solar_selected, on=[\"State\", \"Year\"], how=\"inner\")\n",
    "\n",
    "# Merge with geo data\n",
    "merged_df2 = pd.merge(merged_df1, geo_selected, on=[\"State\", \"Year\"], how=\"inner\")\n",
    "\n",
    "# Merge with biomass data\n",
    "final_renew_merged = pd.merge(merged_df2, biomass_selected, on=[\"State\", \"Year\"], how=\"inner\")\n",
    "final_renew_merged\n",
    "\n",
    "## create a column that has the total BTU\n",
    "final_renew_merged['Total_BTU'] = final_renew_merged[['BTU_hydro', 'BTU_solar', 'BTU_geo', 'BTU_bio']].sum(axis=1)\n",
    "final_renew_merged"
   ]
  },
  {
   "cell_type": "markdown",
   "id": "5afaa670-8e5f-4e26-8e27-9d5e8232b9f5",
   "metadata": {},
   "source": [
    "#### Now merge renewable dataset with share of expenditure dataset."
   ]
  },
  {
   "cell_type": "code",
   "execution_count": 32,
   "id": "9008c509-acad-457b-addf-bb111795e3f6",
   "metadata": {},
   "outputs": [
    {
     "data": {
      "text/html": [
       "<div>\n",
       "<style scoped>\n",
       "    .dataframe tbody tr th:only-of-type {\n",
       "        vertical-align: middle;\n",
       "    }\n",
       "\n",
       "    .dataframe tbody tr th {\n",
       "        vertical-align: top;\n",
       "    }\n",
       "\n",
       "    .dataframe thead th {\n",
       "        text-align: right;\n",
       "    }\n",
       "</style>\n",
       "<table border=\"1\" class=\"dataframe\">\n",
       "  <thead>\n",
       "    <tr style=\"text-align: right;\">\n",
       "      <th></th>\n",
       "      <th>State</th>\n",
       "      <th>Year</th>\n",
       "      <th>Exp_GDP_%</th>\n",
       "      <th>Expenditures</th>\n",
       "      <th>BTU_hydro</th>\n",
       "      <th>BTU_solar</th>\n",
       "      <th>BTU_geo</th>\n",
       "      <th>BTU_bio</th>\n",
       "      <th>Total_BTU</th>\n",
       "    </tr>\n",
       "  </thead>\n",
       "  <tbody>\n",
       "    <tr>\n",
       "      <th>0</th>\n",
       "      <td>AK</td>\n",
       "      <td>2000</td>\n",
       "      <td>10.55</td>\n",
       "      <td>2841.6</td>\n",
       "      <td>3418</td>\n",
       "      <td>0</td>\n",
       "      <td>86</td>\n",
       "      <td>2069</td>\n",
       "      <td>5573</td>\n",
       "    </tr>\n",
       "    <tr>\n",
       "      <th>1</th>\n",
       "      <td>AL</td>\n",
       "      <td>2000</td>\n",
       "      <td>9.99</td>\n",
       "      <td>12038.9</td>\n",
       "      <td>19850</td>\n",
       "      <td>113</td>\n",
       "      <td>62</td>\n",
       "      <td>203782</td>\n",
       "      <td>223807</td>\n",
       "    </tr>\n",
       "    <tr>\n",
       "      <th>2</th>\n",
       "      <td>AR</td>\n",
       "      <td>2000</td>\n",
       "      <td>10.39</td>\n",
       "      <td>7188.4</td>\n",
       "      <td>8088</td>\n",
       "      <td>795</td>\n",
       "      <td>192</td>\n",
       "      <td>83466</td>\n",
       "      <td>92541</td>\n",
       "    </tr>\n",
       "    <tr>\n",
       "      <th>3</th>\n",
       "      <td>AZ</td>\n",
       "      <td>2000</td>\n",
       "      <td>6.41</td>\n",
       "      <td>10624.8</td>\n",
       "      <td>28505</td>\n",
       "      <td>3339</td>\n",
       "      <td>286</td>\n",
       "      <td>13376</td>\n",
       "      <td>45506</td>\n",
       "    </tr>\n",
       "    <tr>\n",
       "      <th>4</th>\n",
       "      <td>CA</td>\n",
       "      <td>2000</td>\n",
       "      <td>5.04</td>\n",
       "      <td>68282.0</td>\n",
       "      <td>130795</td>\n",
       "      <td>19125</td>\n",
       "      <td>44038</td>\n",
       "      <td>164105</td>\n",
       "      <td>358063</td>\n",
       "    </tr>\n",
       "    <tr>\n",
       "      <th>...</th>\n",
       "      <td>...</td>\n",
       "      <td>...</td>\n",
       "      <td>...</td>\n",
       "      <td>...</td>\n",
       "      <td>...</td>\n",
       "      <td>...</td>\n",
       "      <td>...</td>\n",
       "      <td>...</td>\n",
       "      <td>...</td>\n",
       "    </tr>\n",
       "    <tr>\n",
       "      <th>1191</th>\n",
       "      <td>WA</td>\n",
       "      <td>2022</td>\n",
       "      <td>4.62</td>\n",
       "      <td>34112.5</td>\n",
       "      <td>269263</td>\n",
       "      <td>1754</td>\n",
       "      <td>1136</td>\n",
       "      <td>126418</td>\n",
       "      <td>398571</td>\n",
       "    </tr>\n",
       "    <tr>\n",
       "      <th>1192</th>\n",
       "      <td>WI</td>\n",
       "      <td>2022</td>\n",
       "      <td>7.71</td>\n",
       "      <td>30555.5</td>\n",
       "      <td>6793</td>\n",
       "      <td>3766</td>\n",
       "      <td>615</td>\n",
       "      <td>142307</td>\n",
       "      <td>153481</td>\n",
       "    </tr>\n",
       "    <tr>\n",
       "      <th>1193</th>\n",
       "      <td>WV</td>\n",
       "      <td>2022</td>\n",
       "      <td>11.16</td>\n",
       "      <td>10873.2</td>\n",
       "      <td>5620</td>\n",
       "      <td>166</td>\n",
       "      <td>32</td>\n",
       "      <td>17830</td>\n",
       "      <td>23648</td>\n",
       "    </tr>\n",
       "    <tr>\n",
       "      <th>1194</th>\n",
       "      <td>WY</td>\n",
       "      <td>2022</td>\n",
       "      <td>13.30</td>\n",
       "      <td>6526.4</td>\n",
       "      <td>2541</td>\n",
       "      <td>715</td>\n",
       "      <td>663</td>\n",
       "      <td>8105</td>\n",
       "      <td>12024</td>\n",
       "    </tr>\n",
       "    <tr>\n",
       "      <th>1195</th>\n",
       "      <td>US</td>\n",
       "      <td>2022</td>\n",
       "      <td>6.68</td>\n",
       "      <td>1719438.1</td>\n",
       "      <td>869339</td>\n",
       "      <td>764580</td>\n",
       "      <td>118389</td>\n",
       "      <td>4856666</td>\n",
       "      <td>6608974</td>\n",
       "    </tr>\n",
       "  </tbody>\n",
       "</table>\n",
       "<p>1196 rows × 9 columns</p>\n",
       "</div>"
      ],
      "text/plain": [
       "     State  Year  Exp_GDP_%  Expenditures  BTU_hydro  BTU_solar  BTU_geo  \\\n",
       "0       AK  2000      10.55        2841.6       3418          0       86   \n",
       "1       AL  2000       9.99       12038.9      19850        113       62   \n",
       "2       AR  2000      10.39        7188.4       8088        795      192   \n",
       "3       AZ  2000       6.41       10624.8      28505       3339      286   \n",
       "4       CA  2000       5.04       68282.0     130795      19125    44038   \n",
       "...    ...   ...        ...           ...        ...        ...      ...   \n",
       "1191    WA  2022       4.62       34112.5     269263       1754     1136   \n",
       "1192    WI  2022       7.71       30555.5       6793       3766      615   \n",
       "1193    WV  2022      11.16       10873.2       5620        166       32   \n",
       "1194    WY  2022      13.30        6526.4       2541        715      663   \n",
       "1195    US  2022       6.68     1719438.1     869339     764580   118389   \n",
       "\n",
       "      BTU_bio  Total_BTU  \n",
       "0        2069       5573  \n",
       "1      203782     223807  \n",
       "2       83466      92541  \n",
       "3       13376      45506  \n",
       "4      164105     358063  \n",
       "...       ...        ...  \n",
       "1191   126418     398571  \n",
       "1192   142307     153481  \n",
       "1193    17830      23648  \n",
       "1194     8105      12024  \n",
       "1195  4856666    6608974  \n",
       "\n",
       "[1196 rows x 9 columns]"
      ]
     },
     "execution_count": 32,
     "metadata": {},
     "output_type": "execute_result"
    }
   ],
   "source": [
    "merged_all_data = pd.merge(merged_exp_data, final_renew_merged, on=['State', 'Year'])\n",
    "merged_all_data"
   ]
  },
  {
   "cell_type": "markdown",
   "id": "7a7abc27-38cd-48eb-9753-6b54f3a15b83",
   "metadata": {},
   "source": [
    "Now that all datasets are merges, let us look at the total renewable energy consumption over time (2000-2022)"
   ]
  },
  {
   "cell_type": "code",
   "execution_count": null,
   "id": "d24adc82-9b1a-4840-ae3b-24478282cad7",
   "metadata": {},
   "outputs": [
    {
     "data": {
      "application/vnd.plotly.v1+json": {
       "config": {
        "plotlyServerURL": "https://plot.ly"
       },
       "data": [
        {
         "hovertemplate": "State=US<br>Year=%{x}<br>Total_BTU=%{y}<extra></extra>",
         "legendgroup": "US",
         "line": {
          "color": "#636efa",
          "dash": "solid"
         },
         "marker": {
          "symbol": "circle"
         },
         "mode": "lines",
         "name": "US",
         "orientation": "v",
         "showlegend": true,
         "type": "scatter",
         "x": [
          2000,
          2001,
          2002,
          2003,
          2004,
          2005,
          2006,
          2007,
          2008,
          2009,
          2010,
          2011,
          2012,
          2013,
          2014,
          2015,
          2016,
          2017,
          2018,
          2019,
          2020,
          2021,
          2022
         ],
         "xaxis": "x",
         "y": [
          4076552,
          3493321,
          3730827,
          3877711,
          4057270,
          4170590,
          4389550,
          4477316,
          4878807,
          5040419,
          5572723,
          5898016,
          5669880,
          6014353,
          6179203,
          6178734,
          6345214,
          6515800,
          6604219,
          6584265,
          6147516,
          6353827,
          6608974
         ],
         "yaxis": "y"
        }
       ],
       "layout": {
        "legend": {
         "title": {
          "text": "State"
         },
         "tracegroupgap": 0
        },
        "template": {
         "data": {
          "bar": [
           {
            "error_x": {
             "color": "#2a3f5f"
            },
            "error_y": {
             "color": "#2a3f5f"
            },
            "marker": {
             "line": {
              "color": "#E5ECF6",
              "width": 0.5
             },
             "pattern": {
              "fillmode": "overlay",
              "size": 10,
              "solidity": 0.2
             }
            },
            "type": "bar"
           }
          ],
          "barpolar": [
           {
            "marker": {
             "line": {
              "color": "#E5ECF6",
              "width": 0.5
             },
             "pattern": {
              "fillmode": "overlay",
              "size": 10,
              "solidity": 0.2
             }
            },
            "type": "barpolar"
           }
          ],
          "carpet": [
           {
            "aaxis": {
             "endlinecolor": "#2a3f5f",
             "gridcolor": "white",
             "linecolor": "white",
             "minorgridcolor": "white",
             "startlinecolor": "#2a3f5f"
            },
            "baxis": {
             "endlinecolor": "#2a3f5f",
             "gridcolor": "white",
             "linecolor": "white",
             "minorgridcolor": "white",
             "startlinecolor": "#2a3f5f"
            },
            "type": "carpet"
           }
          ],
          "choropleth": [
           {
            "colorbar": {
             "outlinewidth": 0,
             "ticks": ""
            },
            "type": "choropleth"
           }
          ],
          "contour": [
           {
            "colorbar": {
             "outlinewidth": 0,
             "ticks": ""
            },
            "colorscale": [
             [
              0,
              "#0d0887"
             ],
             [
              0.1111111111111111,
              "#46039f"
             ],
             [
              0.2222222222222222,
              "#7201a8"
             ],
             [
              0.3333333333333333,
              "#9c179e"
             ],
             [
              0.4444444444444444,
              "#bd3786"
             ],
             [
              0.5555555555555556,
              "#d8576b"
             ],
             [
              0.6666666666666666,
              "#ed7953"
             ],
             [
              0.7777777777777778,
              "#fb9f3a"
             ],
             [
              0.8888888888888888,
              "#fdca26"
             ],
             [
              1,
              "#f0f921"
             ]
            ],
            "type": "contour"
           }
          ],
          "contourcarpet": [
           {
            "colorbar": {
             "outlinewidth": 0,
             "ticks": ""
            },
            "type": "contourcarpet"
           }
          ],
          "heatmap": [
           {
            "colorbar": {
             "outlinewidth": 0,
             "ticks": ""
            },
            "colorscale": [
             [
              0,
              "#0d0887"
             ],
             [
              0.1111111111111111,
              "#46039f"
             ],
             [
              0.2222222222222222,
              "#7201a8"
             ],
             [
              0.3333333333333333,
              "#9c179e"
             ],
             [
              0.4444444444444444,
              "#bd3786"
             ],
             [
              0.5555555555555556,
              "#d8576b"
             ],
             [
              0.6666666666666666,
              "#ed7953"
             ],
             [
              0.7777777777777778,
              "#fb9f3a"
             ],
             [
              0.8888888888888888,
              "#fdca26"
             ],
             [
              1,
              "#f0f921"
             ]
            ],
            "type": "heatmap"
           }
          ],
          "heatmapgl": [
           {
            "colorbar": {
             "outlinewidth": 0,
             "ticks": ""
            },
            "colorscale": [
             [
              0,
              "#0d0887"
             ],
             [
              0.1111111111111111,
              "#46039f"
             ],
             [
              0.2222222222222222,
              "#7201a8"
             ],
             [
              0.3333333333333333,
              "#9c179e"
             ],
             [
              0.4444444444444444,
              "#bd3786"
             ],
             [
              0.5555555555555556,
              "#d8576b"
             ],
             [
              0.6666666666666666,
              "#ed7953"
             ],
             [
              0.7777777777777778,
              "#fb9f3a"
             ],
             [
              0.8888888888888888,
              "#fdca26"
             ],
             [
              1,
              "#f0f921"
             ]
            ],
            "type": "heatmapgl"
           }
          ],
          "histogram": [
           {
            "marker": {
             "pattern": {
              "fillmode": "overlay",
              "size": 10,
              "solidity": 0.2
             }
            },
            "type": "histogram"
           }
          ],
          "histogram2d": [
           {
            "colorbar": {
             "outlinewidth": 0,
             "ticks": ""
            },
            "colorscale": [
             [
              0,
              "#0d0887"
             ],
             [
              0.1111111111111111,
              "#46039f"
             ],
             [
              0.2222222222222222,
              "#7201a8"
             ],
             [
              0.3333333333333333,
              "#9c179e"
             ],
             [
              0.4444444444444444,
              "#bd3786"
             ],
             [
              0.5555555555555556,
              "#d8576b"
             ],
             [
              0.6666666666666666,
              "#ed7953"
             ],
             [
              0.7777777777777778,
              "#fb9f3a"
             ],
             [
              0.8888888888888888,
              "#fdca26"
             ],
             [
              1,
              "#f0f921"
             ]
            ],
            "type": "histogram2d"
           }
          ],
          "histogram2dcontour": [
           {
            "colorbar": {
             "outlinewidth": 0,
             "ticks": ""
            },
            "colorscale": [
             [
              0,
              "#0d0887"
             ],
             [
              0.1111111111111111,
              "#46039f"
             ],
             [
              0.2222222222222222,
              "#7201a8"
             ],
             [
              0.3333333333333333,
              "#9c179e"
             ],
             [
              0.4444444444444444,
              "#bd3786"
             ],
             [
              0.5555555555555556,
              "#d8576b"
             ],
             [
              0.6666666666666666,
              "#ed7953"
             ],
             [
              0.7777777777777778,
              "#fb9f3a"
             ],
             [
              0.8888888888888888,
              "#fdca26"
             ],
             [
              1,
              "#f0f921"
             ]
            ],
            "type": "histogram2dcontour"
           }
          ],
          "mesh3d": [
           {
            "colorbar": {
             "outlinewidth": 0,
             "ticks": ""
            },
            "type": "mesh3d"
           }
          ],
          "parcoords": [
           {
            "line": {
             "colorbar": {
              "outlinewidth": 0,
              "ticks": ""
             }
            },
            "type": "parcoords"
           }
          ],
          "pie": [
           {
            "automargin": true,
            "type": "pie"
           }
          ],
          "scatter": [
           {
            "fillpattern": {
             "fillmode": "overlay",
             "size": 10,
             "solidity": 0.2
            },
            "type": "scatter"
           }
          ],
          "scatter3d": [
           {
            "line": {
             "colorbar": {
              "outlinewidth": 0,
              "ticks": ""
             }
            },
            "marker": {
             "colorbar": {
              "outlinewidth": 0,
              "ticks": ""
             }
            },
            "type": "scatter3d"
           }
          ],
          "scattercarpet": [
           {
            "marker": {
             "colorbar": {
              "outlinewidth": 0,
              "ticks": ""
             }
            },
            "type": "scattercarpet"
           }
          ],
          "scattergeo": [
           {
            "marker": {
             "colorbar": {
              "outlinewidth": 0,
              "ticks": ""
             }
            },
            "type": "scattergeo"
           }
          ],
          "scattergl": [
           {
            "marker": {
             "colorbar": {
              "outlinewidth": 0,
              "ticks": ""
             }
            },
            "type": "scattergl"
           }
          ],
          "scattermapbox": [
           {
            "marker": {
             "colorbar": {
              "outlinewidth": 0,
              "ticks": ""
             }
            },
            "type": "scattermapbox"
           }
          ],
          "scatterpolar": [
           {
            "marker": {
             "colorbar": {
              "outlinewidth": 0,
              "ticks": ""
             }
            },
            "type": "scatterpolar"
           }
          ],
          "scatterpolargl": [
           {
            "marker": {
             "colorbar": {
              "outlinewidth": 0,
              "ticks": ""
             }
            },
            "type": "scatterpolargl"
           }
          ],
          "scatterternary": [
           {
            "marker": {
             "colorbar": {
              "outlinewidth": 0,
              "ticks": ""
             }
            },
            "type": "scatterternary"
           }
          ],
          "surface": [
           {
            "colorbar": {
             "outlinewidth": 0,
             "ticks": ""
            },
            "colorscale": [
             [
              0,
              "#0d0887"
             ],
             [
              0.1111111111111111,
              "#46039f"
             ],
             [
              0.2222222222222222,
              "#7201a8"
             ],
             [
              0.3333333333333333,
              "#9c179e"
             ],
             [
              0.4444444444444444,
              "#bd3786"
             ],
             [
              0.5555555555555556,
              "#d8576b"
             ],
             [
              0.6666666666666666,
              "#ed7953"
             ],
             [
              0.7777777777777778,
              "#fb9f3a"
             ],
             [
              0.8888888888888888,
              "#fdca26"
             ],
             [
              1,
              "#f0f921"
             ]
            ],
            "type": "surface"
           }
          ],
          "table": [
           {
            "cells": {
             "fill": {
              "color": "#EBF0F8"
             },
             "line": {
              "color": "white"
             }
            },
            "header": {
             "fill": {
              "color": "#C8D4E3"
             },
             "line": {
              "color": "white"
             }
            },
            "type": "table"
           }
          ]
         },
         "layout": {
          "annotationdefaults": {
           "arrowcolor": "#2a3f5f",
           "arrowhead": 0,
           "arrowwidth": 1
          },
          "autotypenumbers": "strict",
          "coloraxis": {
           "colorbar": {
            "outlinewidth": 0,
            "ticks": ""
           }
          },
          "colorscale": {
           "diverging": [
            [
             0,
             "#8e0152"
            ],
            [
             0.1,
             "#c51b7d"
            ],
            [
             0.2,
             "#de77ae"
            ],
            [
             0.3,
             "#f1b6da"
            ],
            [
             0.4,
             "#fde0ef"
            ],
            [
             0.5,
             "#f7f7f7"
            ],
            [
             0.6,
             "#e6f5d0"
            ],
            [
             0.7,
             "#b8e186"
            ],
            [
             0.8,
             "#7fbc41"
            ],
            [
             0.9,
             "#4d9221"
            ],
            [
             1,
             "#276419"
            ]
           ],
           "sequential": [
            [
             0,
             "#0d0887"
            ],
            [
             0.1111111111111111,
             "#46039f"
            ],
            [
             0.2222222222222222,
             "#7201a8"
            ],
            [
             0.3333333333333333,
             "#9c179e"
            ],
            [
             0.4444444444444444,
             "#bd3786"
            ],
            [
             0.5555555555555556,
             "#d8576b"
            ],
            [
             0.6666666666666666,
             "#ed7953"
            ],
            [
             0.7777777777777778,
             "#fb9f3a"
            ],
            [
             0.8888888888888888,
             "#fdca26"
            ],
            [
             1,
             "#f0f921"
            ]
           ],
           "sequentialminus": [
            [
             0,
             "#0d0887"
            ],
            [
             0.1111111111111111,
             "#46039f"
            ],
            [
             0.2222222222222222,
             "#7201a8"
            ],
            [
             0.3333333333333333,
             "#9c179e"
            ],
            [
             0.4444444444444444,
             "#bd3786"
            ],
            [
             0.5555555555555556,
             "#d8576b"
            ],
            [
             0.6666666666666666,
             "#ed7953"
            ],
            [
             0.7777777777777778,
             "#fb9f3a"
            ],
            [
             0.8888888888888888,
             "#fdca26"
            ],
            [
             1,
             "#f0f921"
            ]
           ]
          },
          "colorway": [
           "#636efa",
           "#EF553B",
           "#00cc96",
           "#ab63fa",
           "#FFA15A",
           "#19d3f3",
           "#FF6692",
           "#B6E880",
           "#FF97FF",
           "#FECB52"
          ],
          "font": {
           "color": "#2a3f5f"
          },
          "geo": {
           "bgcolor": "white",
           "lakecolor": "white",
           "landcolor": "#E5ECF6",
           "showlakes": true,
           "showland": true,
           "subunitcolor": "white"
          },
          "hoverlabel": {
           "align": "left"
          },
          "hovermode": "closest",
          "mapbox": {
           "style": "light"
          },
          "paper_bgcolor": "white",
          "plot_bgcolor": "#E5ECF6",
          "polar": {
           "angularaxis": {
            "gridcolor": "white",
            "linecolor": "white",
            "ticks": ""
           },
           "bgcolor": "#E5ECF6",
           "radialaxis": {
            "gridcolor": "white",
            "linecolor": "white",
            "ticks": ""
           }
          },
          "scene": {
           "xaxis": {
            "backgroundcolor": "#E5ECF6",
            "gridcolor": "white",
            "gridwidth": 2,
            "linecolor": "white",
            "showbackground": true,
            "ticks": "",
            "zerolinecolor": "white"
           },
           "yaxis": {
            "backgroundcolor": "#E5ECF6",
            "gridcolor": "white",
            "gridwidth": 2,
            "linecolor": "white",
            "showbackground": true,
            "ticks": "",
            "zerolinecolor": "white"
           },
           "zaxis": {
            "backgroundcolor": "#E5ECF6",
            "gridcolor": "white",
            "gridwidth": 2,
            "linecolor": "white",
            "showbackground": true,
            "ticks": "",
            "zerolinecolor": "white"
           }
          },
          "shapedefaults": {
           "line": {
            "color": "#2a3f5f"
           }
          },
          "ternary": {
           "aaxis": {
            "gridcolor": "white",
            "linecolor": "white",
            "ticks": ""
           },
           "baxis": {
            "gridcolor": "white",
            "linecolor": "white",
            "ticks": ""
           },
           "bgcolor": "#E5ECF6",
           "caxis": {
            "gridcolor": "white",
            "linecolor": "white",
            "ticks": ""
           }
          },
          "title": {
           "x": 0.05
          },
          "xaxis": {
           "automargin": true,
           "gridcolor": "white",
           "linecolor": "white",
           "ticks": "",
           "title": {
            "standoff": 15
           },
           "zerolinecolor": "white",
           "zerolinewidth": 2
          },
          "yaxis": {
           "automargin": true,
           "gridcolor": "white",
           "linecolor": "white",
           "ticks": "",
           "title": {
            "standoff": 15
           },
           "zerolinecolor": "white",
           "zerolinewidth": 2
          }
         }
        },
        "title": {
         "text": "Total Renewable Energy (BTU) Consumption Over Time (2000-2022)"
        },
        "xaxis": {
         "anchor": "y",
         "domain": [
          0,
          1
         ],
         "title": {
          "text": "Year"
         }
        },
        "yaxis": {
         "anchor": "x",
         "domain": [
          0,
          1
         ],
         "title": {
          "text": "Total_BTU"
         }
        }
       }
      },
      "text/html": [
       "<div>                            <div id=\"8826e247-b2d2-41f9-b65f-974071d9cb6e\" class=\"plotly-graph-div\" style=\"height:525px; width:100%;\"></div>            <script type=\"text/javascript\">                require([\"plotly\"], function(Plotly) {                    window.PLOTLYENV=window.PLOTLYENV || {};                                    if (document.getElementById(\"8826e247-b2d2-41f9-b65f-974071d9cb6e\")) {                    Plotly.newPlot(                        \"8826e247-b2d2-41f9-b65f-974071d9cb6e\",                        [{\"hovertemplate\":\"State=US\\u003cbr\\u003eYear=%{x}\\u003cbr\\u003eTotal_BTU=%{y}\\u003cextra\\u003e\\u003c\\u002fextra\\u003e\",\"legendgroup\":\"US\",\"line\":{\"color\":\"#636efa\",\"dash\":\"solid\"},\"marker\":{\"symbol\":\"circle\"},\"mode\":\"lines\",\"name\":\"US\",\"orientation\":\"v\",\"showlegend\":true,\"x\":[2000,2001,2002,2003,2004,2005,2006,2007,2008,2009,2010,2011,2012,2013,2014,2015,2016,2017,2018,2019,2020,2021,2022],\"xaxis\":\"x\",\"y\":[4076552,3493321,3730827,3877711,4057270,4170590,4389550,4477316,4878807,5040419,5572723,5898016,5669880,6014353,6179203,6178734,6345214,6515800,6604219,6584265,6147516,6353827,6608974],\"yaxis\":\"y\",\"type\":\"scatter\"}],                        {\"template\":{\"data\":{\"histogram2dcontour\":[{\"type\":\"histogram2dcontour\",\"colorbar\":{\"outlinewidth\":0,\"ticks\":\"\"},\"colorscale\":[[0.0,\"#0d0887\"],[0.1111111111111111,\"#46039f\"],[0.2222222222222222,\"#7201a8\"],[0.3333333333333333,\"#9c179e\"],[0.4444444444444444,\"#bd3786\"],[0.5555555555555556,\"#d8576b\"],[0.6666666666666666,\"#ed7953\"],[0.7777777777777778,\"#fb9f3a\"],[0.8888888888888888,\"#fdca26\"],[1.0,\"#f0f921\"]]}],\"choropleth\":[{\"type\":\"choropleth\",\"colorbar\":{\"outlinewidth\":0,\"ticks\":\"\"}}],\"histogram2d\":[{\"type\":\"histogram2d\",\"colorbar\":{\"outlinewidth\":0,\"ticks\":\"\"},\"colorscale\":[[0.0,\"#0d0887\"],[0.1111111111111111,\"#46039f\"],[0.2222222222222222,\"#7201a8\"],[0.3333333333333333,\"#9c179e\"],[0.4444444444444444,\"#bd3786\"],[0.5555555555555556,\"#d8576b\"],[0.6666666666666666,\"#ed7953\"],[0.7777777777777778,\"#fb9f3a\"],[0.8888888888888888,\"#fdca26\"],[1.0,\"#f0f921\"]]}],\"heatmap\":[{\"type\":\"heatmap\",\"colorbar\":{\"outlinewidth\":0,\"ticks\":\"\"},\"colorscale\":[[0.0,\"#0d0887\"],[0.1111111111111111,\"#46039f\"],[0.2222222222222222,\"#7201a8\"],[0.3333333333333333,\"#9c179e\"],[0.4444444444444444,\"#bd3786\"],[0.5555555555555556,\"#d8576b\"],[0.6666666666666666,\"#ed7953\"],[0.7777777777777778,\"#fb9f3a\"],[0.8888888888888888,\"#fdca26\"],[1.0,\"#f0f921\"]]}],\"heatmapgl\":[{\"type\":\"heatmapgl\",\"colorbar\":{\"outlinewidth\":0,\"ticks\":\"\"},\"colorscale\":[[0.0,\"#0d0887\"],[0.1111111111111111,\"#46039f\"],[0.2222222222222222,\"#7201a8\"],[0.3333333333333333,\"#9c179e\"],[0.4444444444444444,\"#bd3786\"],[0.5555555555555556,\"#d8576b\"],[0.6666666666666666,\"#ed7953\"],[0.7777777777777778,\"#fb9f3a\"],[0.8888888888888888,\"#fdca26\"],[1.0,\"#f0f921\"]]}],\"contourcarpet\":[{\"type\":\"contourcarpet\",\"colorbar\":{\"outlinewidth\":0,\"ticks\":\"\"}}],\"contour\":[{\"type\":\"contour\",\"colorbar\":{\"outlinewidth\":0,\"ticks\":\"\"},\"colorscale\":[[0.0,\"#0d0887\"],[0.1111111111111111,\"#46039f\"],[0.2222222222222222,\"#7201a8\"],[0.3333333333333333,\"#9c179e\"],[0.4444444444444444,\"#bd3786\"],[0.5555555555555556,\"#d8576b\"],[0.6666666666666666,\"#ed7953\"],[0.7777777777777778,\"#fb9f3a\"],[0.8888888888888888,\"#fdca26\"],[1.0,\"#f0f921\"]]}],\"surface\":[{\"type\":\"surface\",\"colorbar\":{\"outlinewidth\":0,\"ticks\":\"\"},\"colorscale\":[[0.0,\"#0d0887\"],[0.1111111111111111,\"#46039f\"],[0.2222222222222222,\"#7201a8\"],[0.3333333333333333,\"#9c179e\"],[0.4444444444444444,\"#bd3786\"],[0.5555555555555556,\"#d8576b\"],[0.6666666666666666,\"#ed7953\"],[0.7777777777777778,\"#fb9f3a\"],[0.8888888888888888,\"#fdca26\"],[1.0,\"#f0f921\"]]}],\"mesh3d\":[{\"type\":\"mesh3d\",\"colorbar\":{\"outlinewidth\":0,\"ticks\":\"\"}}],\"scatter\":[{\"fillpattern\":{\"fillmode\":\"overlay\",\"size\":10,\"solidity\":0.2},\"type\":\"scatter\"}],\"parcoords\":[{\"type\":\"parcoords\",\"line\":{\"colorbar\":{\"outlinewidth\":0,\"ticks\":\"\"}}}],\"scatterpolargl\":[{\"type\":\"scatterpolargl\",\"marker\":{\"colorbar\":{\"outlinewidth\":0,\"ticks\":\"\"}}}],\"bar\":[{\"error_x\":{\"color\":\"#2a3f5f\"},\"error_y\":{\"color\":\"#2a3f5f\"},\"marker\":{\"line\":{\"color\":\"#E5ECF6\",\"width\":0.5},\"pattern\":{\"fillmode\":\"overlay\",\"size\":10,\"solidity\":0.2}},\"type\":\"bar\"}],\"scattergeo\":[{\"type\":\"scattergeo\",\"marker\":{\"colorbar\":{\"outlinewidth\":0,\"ticks\":\"\"}}}],\"scatterpolar\":[{\"type\":\"scatterpolar\",\"marker\":{\"colorbar\":{\"outlinewidth\":0,\"ticks\":\"\"}}}],\"histogram\":[{\"marker\":{\"pattern\":{\"fillmode\":\"overlay\",\"size\":10,\"solidity\":0.2}},\"type\":\"histogram\"}],\"scattergl\":[{\"type\":\"scattergl\",\"marker\":{\"colorbar\":{\"outlinewidth\":0,\"ticks\":\"\"}}}],\"scatter3d\":[{\"type\":\"scatter3d\",\"line\":{\"colorbar\":{\"outlinewidth\":0,\"ticks\":\"\"}},\"marker\":{\"colorbar\":{\"outlinewidth\":0,\"ticks\":\"\"}}}],\"scattermapbox\":[{\"type\":\"scattermapbox\",\"marker\":{\"colorbar\":{\"outlinewidth\":0,\"ticks\":\"\"}}}],\"scatterternary\":[{\"type\":\"scatterternary\",\"marker\":{\"colorbar\":{\"outlinewidth\":0,\"ticks\":\"\"}}}],\"scattercarpet\":[{\"type\":\"scattercarpet\",\"marker\":{\"colorbar\":{\"outlinewidth\":0,\"ticks\":\"\"}}}],\"carpet\":[{\"aaxis\":{\"endlinecolor\":\"#2a3f5f\",\"gridcolor\":\"white\",\"linecolor\":\"white\",\"minorgridcolor\":\"white\",\"startlinecolor\":\"#2a3f5f\"},\"baxis\":{\"endlinecolor\":\"#2a3f5f\",\"gridcolor\":\"white\",\"linecolor\":\"white\",\"minorgridcolor\":\"white\",\"startlinecolor\":\"#2a3f5f\"},\"type\":\"carpet\"}],\"table\":[{\"cells\":{\"fill\":{\"color\":\"#EBF0F8\"},\"line\":{\"color\":\"white\"}},\"header\":{\"fill\":{\"color\":\"#C8D4E3\"},\"line\":{\"color\":\"white\"}},\"type\":\"table\"}],\"barpolar\":[{\"marker\":{\"line\":{\"color\":\"#E5ECF6\",\"width\":0.5},\"pattern\":{\"fillmode\":\"overlay\",\"size\":10,\"solidity\":0.2}},\"type\":\"barpolar\"}],\"pie\":[{\"automargin\":true,\"type\":\"pie\"}]},\"layout\":{\"autotypenumbers\":\"strict\",\"colorway\":[\"#636efa\",\"#EF553B\",\"#00cc96\",\"#ab63fa\",\"#FFA15A\",\"#19d3f3\",\"#FF6692\",\"#B6E880\",\"#FF97FF\",\"#FECB52\"],\"font\":{\"color\":\"#2a3f5f\"},\"hovermode\":\"closest\",\"hoverlabel\":{\"align\":\"left\"},\"paper_bgcolor\":\"white\",\"plot_bgcolor\":\"#E5ECF6\",\"polar\":{\"bgcolor\":\"#E5ECF6\",\"angularaxis\":{\"gridcolor\":\"white\",\"linecolor\":\"white\",\"ticks\":\"\"},\"radialaxis\":{\"gridcolor\":\"white\",\"linecolor\":\"white\",\"ticks\":\"\"}},\"ternary\":{\"bgcolor\":\"#E5ECF6\",\"aaxis\":{\"gridcolor\":\"white\",\"linecolor\":\"white\",\"ticks\":\"\"},\"baxis\":{\"gridcolor\":\"white\",\"linecolor\":\"white\",\"ticks\":\"\"},\"caxis\":{\"gridcolor\":\"white\",\"linecolor\":\"white\",\"ticks\":\"\"}},\"coloraxis\":{\"colorbar\":{\"outlinewidth\":0,\"ticks\":\"\"}},\"colorscale\":{\"sequential\":[[0.0,\"#0d0887\"],[0.1111111111111111,\"#46039f\"],[0.2222222222222222,\"#7201a8\"],[0.3333333333333333,\"#9c179e\"],[0.4444444444444444,\"#bd3786\"],[0.5555555555555556,\"#d8576b\"],[0.6666666666666666,\"#ed7953\"],[0.7777777777777778,\"#fb9f3a\"],[0.8888888888888888,\"#fdca26\"],[1.0,\"#f0f921\"]],\"sequentialminus\":[[0.0,\"#0d0887\"],[0.1111111111111111,\"#46039f\"],[0.2222222222222222,\"#7201a8\"],[0.3333333333333333,\"#9c179e\"],[0.4444444444444444,\"#bd3786\"],[0.5555555555555556,\"#d8576b\"],[0.6666666666666666,\"#ed7953\"],[0.7777777777777778,\"#fb9f3a\"],[0.8888888888888888,\"#fdca26\"],[1.0,\"#f0f921\"]],\"diverging\":[[0,\"#8e0152\"],[0.1,\"#c51b7d\"],[0.2,\"#de77ae\"],[0.3,\"#f1b6da\"],[0.4,\"#fde0ef\"],[0.5,\"#f7f7f7\"],[0.6,\"#e6f5d0\"],[0.7,\"#b8e186\"],[0.8,\"#7fbc41\"],[0.9,\"#4d9221\"],[1,\"#276419\"]]},\"xaxis\":{\"gridcolor\":\"white\",\"linecolor\":\"white\",\"ticks\":\"\",\"title\":{\"standoff\":15},\"zerolinecolor\":\"white\",\"automargin\":true,\"zerolinewidth\":2},\"yaxis\":{\"gridcolor\":\"white\",\"linecolor\":\"white\",\"ticks\":\"\",\"title\":{\"standoff\":15},\"zerolinecolor\":\"white\",\"automargin\":true,\"zerolinewidth\":2},\"scene\":{\"xaxis\":{\"backgroundcolor\":\"#E5ECF6\",\"gridcolor\":\"white\",\"linecolor\":\"white\",\"showbackground\":true,\"ticks\":\"\",\"zerolinecolor\":\"white\",\"gridwidth\":2},\"yaxis\":{\"backgroundcolor\":\"#E5ECF6\",\"gridcolor\":\"white\",\"linecolor\":\"white\",\"showbackground\":true,\"ticks\":\"\",\"zerolinecolor\":\"white\",\"gridwidth\":2},\"zaxis\":{\"backgroundcolor\":\"#E5ECF6\",\"gridcolor\":\"white\",\"linecolor\":\"white\",\"showbackground\":true,\"ticks\":\"\",\"zerolinecolor\":\"white\",\"gridwidth\":2}},\"shapedefaults\":{\"line\":{\"color\":\"#2a3f5f\"}},\"annotationdefaults\":{\"arrowcolor\":\"#2a3f5f\",\"arrowhead\":0,\"arrowwidth\":1},\"geo\":{\"bgcolor\":\"white\",\"landcolor\":\"#E5ECF6\",\"subunitcolor\":\"white\",\"showland\":true,\"showlakes\":true,\"lakecolor\":\"white\"},\"title\":{\"x\":0.05},\"mapbox\":{\"style\":\"light\"}}},\"xaxis\":{\"anchor\":\"y\",\"domain\":[0.0,1.0],\"title\":{\"text\":\"Year\"}},\"yaxis\":{\"anchor\":\"x\",\"domain\":[0.0,1.0],\"title\":{\"text\":\"Total_BTU\"}},\"legend\":{\"title\":{\"text\":\"State\"},\"tracegroupgap\":0},\"title\":{\"text\":\"Total Renewable Energy (BTU) Consumption Over Time (2000-2022)\"}},                        {\"responsive\": true}                    ).then(function(){\n",
       "                            \n",
       "var gd = document.getElementById('8826e247-b2d2-41f9-b65f-974071d9cb6e');\n",
       "var x = new MutationObserver(function (mutations, observer) {{\n",
       "        var display = window.getComputedStyle(gd).display;\n",
       "        if (!display || display === 'none') {{\n",
       "            console.log([gd, 'removed!']);\n",
       "            Plotly.purge(gd);\n",
       "            observer.disconnect();\n",
       "        }}\n",
       "}});\n",
       "\n",
       "// Listen for the removal of the full notebook cells\n",
       "var notebookContainer = gd.closest('#notebook-container');\n",
       "if (notebookContainer) {{\n",
       "    x.observe(notebookContainer, {childList: true});\n",
       "}}\n",
       "\n",
       "// Listen for the clearing of the current output cell\n",
       "var outputEl = gd.closest('.output');\n",
       "if (outputEl) {{\n",
       "    x.observe(outputEl, {childList: true});\n",
       "}}\n",
       "\n",
       "                        })                };                });            </script>        </div>"
      ]
     },
     "metadata": {},
     "output_type": "display_data"
    }
   ],
   "source": [
    "alldata_US=merged_all_data[merged_all_data[\"State\"]==\"US\"]\n",
    "\n",
    "fig_2 = px.line(alldata_US, x='Year', y='Total_BTU', color='State', \n",
    "              title=\"Total Renewable Energy (BTU) Consumption Over Time (2000-2022)\")\n",
    "fig_2.show()"
   ]
  },
  {
   "cell_type": "markdown",
   "id": "a2f1c7be-bf57-4d90-8ae7-be3a5189653a",
   "metadata": {},
   "source": [
    "As expected, the renewable energy consumption of US has seen an increasing trend over the 23 year period."
   ]
  },
  {
   "cell_type": "markdown",
   "id": "d0669c43-8909-4a51-a8fb-83c806147104",
   "metadata": {},
   "source": [
    "#### Now lets look at the relationship between energy expenditure and renewable energy consumption for the top 5 spenders of energy in 2022"
   ]
  },
  {
   "cell_type": "code",
   "execution_count": 34,
   "id": "1958c49b-0c9a-4397-b823-814b3c7b30e2",
   "metadata": {},
   "outputs": [
    {
     "data": {
      "application/vnd.plotly.v1+json": {
       "config": {
        "plotlyServerURL": "https://plot.ly"
       },
       "data": [
        {
         "hovertemplate": "Energy Expenditures=%{x}<br>Total BTU Consumption=%{y}<br>State=%{text}<extra></extra>",
         "legendgroup": "",
         "marker": {
          "color": "#636efa",
          "symbol": "circle"
         },
         "mode": "markers+text",
         "name": "",
         "orientation": "v",
         "showlegend": false,
         "text": [
          "TX",
          "CA",
          "FL",
          "NY",
          "PA"
         ],
         "type": "scatter",
         "x": [
          202631.8,
          200007.5,
          89282.3,
          80624.8,
          62889.4
         ],
         "xaxis": "x",
         "y": [
          351106,
          832035,
          300693,
          255100,
          172620
         ],
         "yaxis": "y"
        }
       ],
       "layout": {
        "legend": {
         "tracegroupgap": 0
        },
        "template": {
         "data": {
          "bar": [
           {
            "error_x": {
             "color": "#2a3f5f"
            },
            "error_y": {
             "color": "#2a3f5f"
            },
            "marker": {
             "line": {
              "color": "#E5ECF6",
              "width": 0.5
             },
             "pattern": {
              "fillmode": "overlay",
              "size": 10,
              "solidity": 0.2
             }
            },
            "type": "bar"
           }
          ],
          "barpolar": [
           {
            "marker": {
             "line": {
              "color": "#E5ECF6",
              "width": 0.5
             },
             "pattern": {
              "fillmode": "overlay",
              "size": 10,
              "solidity": 0.2
             }
            },
            "type": "barpolar"
           }
          ],
          "carpet": [
           {
            "aaxis": {
             "endlinecolor": "#2a3f5f",
             "gridcolor": "white",
             "linecolor": "white",
             "minorgridcolor": "white",
             "startlinecolor": "#2a3f5f"
            },
            "baxis": {
             "endlinecolor": "#2a3f5f",
             "gridcolor": "white",
             "linecolor": "white",
             "minorgridcolor": "white",
             "startlinecolor": "#2a3f5f"
            },
            "type": "carpet"
           }
          ],
          "choropleth": [
           {
            "colorbar": {
             "outlinewidth": 0,
             "ticks": ""
            },
            "type": "choropleth"
           }
          ],
          "contour": [
           {
            "colorbar": {
             "outlinewidth": 0,
             "ticks": ""
            },
            "colorscale": [
             [
              0,
              "#0d0887"
             ],
             [
              0.1111111111111111,
              "#46039f"
             ],
             [
              0.2222222222222222,
              "#7201a8"
             ],
             [
              0.3333333333333333,
              "#9c179e"
             ],
             [
              0.4444444444444444,
              "#bd3786"
             ],
             [
              0.5555555555555556,
              "#d8576b"
             ],
             [
              0.6666666666666666,
              "#ed7953"
             ],
             [
              0.7777777777777778,
              "#fb9f3a"
             ],
             [
              0.8888888888888888,
              "#fdca26"
             ],
             [
              1,
              "#f0f921"
             ]
            ],
            "type": "contour"
           }
          ],
          "contourcarpet": [
           {
            "colorbar": {
             "outlinewidth": 0,
             "ticks": ""
            },
            "type": "contourcarpet"
           }
          ],
          "heatmap": [
           {
            "colorbar": {
             "outlinewidth": 0,
             "ticks": ""
            },
            "colorscale": [
             [
              0,
              "#0d0887"
             ],
             [
              0.1111111111111111,
              "#46039f"
             ],
             [
              0.2222222222222222,
              "#7201a8"
             ],
             [
              0.3333333333333333,
              "#9c179e"
             ],
             [
              0.4444444444444444,
              "#bd3786"
             ],
             [
              0.5555555555555556,
              "#d8576b"
             ],
             [
              0.6666666666666666,
              "#ed7953"
             ],
             [
              0.7777777777777778,
              "#fb9f3a"
             ],
             [
              0.8888888888888888,
              "#fdca26"
             ],
             [
              1,
              "#f0f921"
             ]
            ],
            "type": "heatmap"
           }
          ],
          "heatmapgl": [
           {
            "colorbar": {
             "outlinewidth": 0,
             "ticks": ""
            },
            "colorscale": [
             [
              0,
              "#0d0887"
             ],
             [
              0.1111111111111111,
              "#46039f"
             ],
             [
              0.2222222222222222,
              "#7201a8"
             ],
             [
              0.3333333333333333,
              "#9c179e"
             ],
             [
              0.4444444444444444,
              "#bd3786"
             ],
             [
              0.5555555555555556,
              "#d8576b"
             ],
             [
              0.6666666666666666,
              "#ed7953"
             ],
             [
              0.7777777777777778,
              "#fb9f3a"
             ],
             [
              0.8888888888888888,
              "#fdca26"
             ],
             [
              1,
              "#f0f921"
             ]
            ],
            "type": "heatmapgl"
           }
          ],
          "histogram": [
           {
            "marker": {
             "pattern": {
              "fillmode": "overlay",
              "size": 10,
              "solidity": 0.2
             }
            },
            "type": "histogram"
           }
          ],
          "histogram2d": [
           {
            "colorbar": {
             "outlinewidth": 0,
             "ticks": ""
            },
            "colorscale": [
             [
              0,
              "#0d0887"
             ],
             [
              0.1111111111111111,
              "#46039f"
             ],
             [
              0.2222222222222222,
              "#7201a8"
             ],
             [
              0.3333333333333333,
              "#9c179e"
             ],
             [
              0.4444444444444444,
              "#bd3786"
             ],
             [
              0.5555555555555556,
              "#d8576b"
             ],
             [
              0.6666666666666666,
              "#ed7953"
             ],
             [
              0.7777777777777778,
              "#fb9f3a"
             ],
             [
              0.8888888888888888,
              "#fdca26"
             ],
             [
              1,
              "#f0f921"
             ]
            ],
            "type": "histogram2d"
           }
          ],
          "histogram2dcontour": [
           {
            "colorbar": {
             "outlinewidth": 0,
             "ticks": ""
            },
            "colorscale": [
             [
              0,
              "#0d0887"
             ],
             [
              0.1111111111111111,
              "#46039f"
             ],
             [
              0.2222222222222222,
              "#7201a8"
             ],
             [
              0.3333333333333333,
              "#9c179e"
             ],
             [
              0.4444444444444444,
              "#bd3786"
             ],
             [
              0.5555555555555556,
              "#d8576b"
             ],
             [
              0.6666666666666666,
              "#ed7953"
             ],
             [
              0.7777777777777778,
              "#fb9f3a"
             ],
             [
              0.8888888888888888,
              "#fdca26"
             ],
             [
              1,
              "#f0f921"
             ]
            ],
            "type": "histogram2dcontour"
           }
          ],
          "mesh3d": [
           {
            "colorbar": {
             "outlinewidth": 0,
             "ticks": ""
            },
            "type": "mesh3d"
           }
          ],
          "parcoords": [
           {
            "line": {
             "colorbar": {
              "outlinewidth": 0,
              "ticks": ""
             }
            },
            "type": "parcoords"
           }
          ],
          "pie": [
           {
            "automargin": true,
            "type": "pie"
           }
          ],
          "scatter": [
           {
            "fillpattern": {
             "fillmode": "overlay",
             "size": 10,
             "solidity": 0.2
            },
            "type": "scatter"
           }
          ],
          "scatter3d": [
           {
            "line": {
             "colorbar": {
              "outlinewidth": 0,
              "ticks": ""
             }
            },
            "marker": {
             "colorbar": {
              "outlinewidth": 0,
              "ticks": ""
             }
            },
            "type": "scatter3d"
           }
          ],
          "scattercarpet": [
           {
            "marker": {
             "colorbar": {
              "outlinewidth": 0,
              "ticks": ""
             }
            },
            "type": "scattercarpet"
           }
          ],
          "scattergeo": [
           {
            "marker": {
             "colorbar": {
              "outlinewidth": 0,
              "ticks": ""
             }
            },
            "type": "scattergeo"
           }
          ],
          "scattergl": [
           {
            "marker": {
             "colorbar": {
              "outlinewidth": 0,
              "ticks": ""
             }
            },
            "type": "scattergl"
           }
          ],
          "scattermapbox": [
           {
            "marker": {
             "colorbar": {
              "outlinewidth": 0,
              "ticks": ""
             }
            },
            "type": "scattermapbox"
           }
          ],
          "scatterpolar": [
           {
            "marker": {
             "colorbar": {
              "outlinewidth": 0,
              "ticks": ""
             }
            },
            "type": "scatterpolar"
           }
          ],
          "scatterpolargl": [
           {
            "marker": {
             "colorbar": {
              "outlinewidth": 0,
              "ticks": ""
             }
            },
            "type": "scatterpolargl"
           }
          ],
          "scatterternary": [
           {
            "marker": {
             "colorbar": {
              "outlinewidth": 0,
              "ticks": ""
             }
            },
            "type": "scatterternary"
           }
          ],
          "surface": [
           {
            "colorbar": {
             "outlinewidth": 0,
             "ticks": ""
            },
            "colorscale": [
             [
              0,
              "#0d0887"
             ],
             [
              0.1111111111111111,
              "#46039f"
             ],
             [
              0.2222222222222222,
              "#7201a8"
             ],
             [
              0.3333333333333333,
              "#9c179e"
             ],
             [
              0.4444444444444444,
              "#bd3786"
             ],
             [
              0.5555555555555556,
              "#d8576b"
             ],
             [
              0.6666666666666666,
              "#ed7953"
             ],
             [
              0.7777777777777778,
              "#fb9f3a"
             ],
             [
              0.8888888888888888,
              "#fdca26"
             ],
             [
              1,
              "#f0f921"
             ]
            ],
            "type": "surface"
           }
          ],
          "table": [
           {
            "cells": {
             "fill": {
              "color": "#EBF0F8"
             },
             "line": {
              "color": "white"
             }
            },
            "header": {
             "fill": {
              "color": "#C8D4E3"
             },
             "line": {
              "color": "white"
             }
            },
            "type": "table"
           }
          ]
         },
         "layout": {
          "annotationdefaults": {
           "arrowcolor": "#2a3f5f",
           "arrowhead": 0,
           "arrowwidth": 1
          },
          "autotypenumbers": "strict",
          "coloraxis": {
           "colorbar": {
            "outlinewidth": 0,
            "ticks": ""
           }
          },
          "colorscale": {
           "diverging": [
            [
             0,
             "#8e0152"
            ],
            [
             0.1,
             "#c51b7d"
            ],
            [
             0.2,
             "#de77ae"
            ],
            [
             0.3,
             "#f1b6da"
            ],
            [
             0.4,
             "#fde0ef"
            ],
            [
             0.5,
             "#f7f7f7"
            ],
            [
             0.6,
             "#e6f5d0"
            ],
            [
             0.7,
             "#b8e186"
            ],
            [
             0.8,
             "#7fbc41"
            ],
            [
             0.9,
             "#4d9221"
            ],
            [
             1,
             "#276419"
            ]
           ],
           "sequential": [
            [
             0,
             "#0d0887"
            ],
            [
             0.1111111111111111,
             "#46039f"
            ],
            [
             0.2222222222222222,
             "#7201a8"
            ],
            [
             0.3333333333333333,
             "#9c179e"
            ],
            [
             0.4444444444444444,
             "#bd3786"
            ],
            [
             0.5555555555555556,
             "#d8576b"
            ],
            [
             0.6666666666666666,
             "#ed7953"
            ],
            [
             0.7777777777777778,
             "#fb9f3a"
            ],
            [
             0.8888888888888888,
             "#fdca26"
            ],
            [
             1,
             "#f0f921"
            ]
           ],
           "sequentialminus": [
            [
             0,
             "#0d0887"
            ],
            [
             0.1111111111111111,
             "#46039f"
            ],
            [
             0.2222222222222222,
             "#7201a8"
            ],
            [
             0.3333333333333333,
             "#9c179e"
            ],
            [
             0.4444444444444444,
             "#bd3786"
            ],
            [
             0.5555555555555556,
             "#d8576b"
            ],
            [
             0.6666666666666666,
             "#ed7953"
            ],
            [
             0.7777777777777778,
             "#fb9f3a"
            ],
            [
             0.8888888888888888,
             "#fdca26"
            ],
            [
             1,
             "#f0f921"
            ]
           ]
          },
          "colorway": [
           "#636efa",
           "#EF553B",
           "#00cc96",
           "#ab63fa",
           "#FFA15A",
           "#19d3f3",
           "#FF6692",
           "#B6E880",
           "#FF97FF",
           "#FECB52"
          ],
          "font": {
           "color": "#2a3f5f"
          },
          "geo": {
           "bgcolor": "white",
           "lakecolor": "white",
           "landcolor": "#E5ECF6",
           "showlakes": true,
           "showland": true,
           "subunitcolor": "white"
          },
          "hoverlabel": {
           "align": "left"
          },
          "hovermode": "closest",
          "mapbox": {
           "style": "light"
          },
          "paper_bgcolor": "white",
          "plot_bgcolor": "#E5ECF6",
          "polar": {
           "angularaxis": {
            "gridcolor": "white",
            "linecolor": "white",
            "ticks": ""
           },
           "bgcolor": "#E5ECF6",
           "radialaxis": {
            "gridcolor": "white",
            "linecolor": "white",
            "ticks": ""
           }
          },
          "scene": {
           "xaxis": {
            "backgroundcolor": "#E5ECF6",
            "gridcolor": "white",
            "gridwidth": 2,
            "linecolor": "white",
            "showbackground": true,
            "ticks": "",
            "zerolinecolor": "white"
           },
           "yaxis": {
            "backgroundcolor": "#E5ECF6",
            "gridcolor": "white",
            "gridwidth": 2,
            "linecolor": "white",
            "showbackground": true,
            "ticks": "",
            "zerolinecolor": "white"
           },
           "zaxis": {
            "backgroundcolor": "#E5ECF6",
            "gridcolor": "white",
            "gridwidth": 2,
            "linecolor": "white",
            "showbackground": true,
            "ticks": "",
            "zerolinecolor": "white"
           }
          },
          "shapedefaults": {
           "line": {
            "color": "#2a3f5f"
           }
          },
          "ternary": {
           "aaxis": {
            "gridcolor": "white",
            "linecolor": "white",
            "ticks": ""
           },
           "baxis": {
            "gridcolor": "white",
            "linecolor": "white",
            "ticks": ""
           },
           "bgcolor": "#E5ECF6",
           "caxis": {
            "gridcolor": "white",
            "linecolor": "white",
            "ticks": ""
           }
          },
          "title": {
           "x": 0.05
          },
          "xaxis": {
           "automargin": true,
           "gridcolor": "white",
           "linecolor": "white",
           "ticks": "",
           "title": {
            "standoff": 15
           },
           "zerolinecolor": "white",
           "zerolinewidth": 2
          },
          "yaxis": {
           "automargin": true,
           "gridcolor": "white",
           "linecolor": "white",
           "ticks": "",
           "title": {
            "standoff": 15
           },
           "zerolinecolor": "white",
           "zerolinewidth": 2
          }
         }
        },
        "title": {
         "text": "Energy Expenditures vs Total BTU for Top 5 States in 2022"
        },
        "xaxis": {
         "anchor": "y",
         "domain": [
          0,
          1
         ],
         "title": {
          "text": "Energy Expenditures"
         }
        },
        "yaxis": {
         "anchor": "x",
         "domain": [
          0,
          1
         ],
         "title": {
          "text": "Total BTU Consumption"
         }
        }
       }
      },
      "text/html": [
       "<div>                            <div id=\"36ff094e-d3bc-402a-b803-d01fbab833b4\" class=\"plotly-graph-div\" style=\"height:525px; width:100%;\"></div>            <script type=\"text/javascript\">                require([\"plotly\"], function(Plotly) {                    window.PLOTLYENV=window.PLOTLYENV || {};                                    if (document.getElementById(\"36ff094e-d3bc-402a-b803-d01fbab833b4\")) {                    Plotly.newPlot(                        \"36ff094e-d3bc-402a-b803-d01fbab833b4\",                        [{\"hovertemplate\":\"Energy Expenditures=%{x}\\u003cbr\\u003eTotal BTU Consumption=%{y}\\u003cbr\\u003eState=%{text}\\u003cextra\\u003e\\u003c\\u002fextra\\u003e\",\"legendgroup\":\"\",\"marker\":{\"color\":\"#636efa\",\"symbol\":\"circle\"},\"mode\":\"markers+text\",\"name\":\"\",\"orientation\":\"v\",\"showlegend\":false,\"text\":[\"TX\",\"CA\",\"FL\",\"NY\",\"PA\"],\"x\":[202631.8,200007.5,89282.3,80624.8,62889.4],\"xaxis\":\"x\",\"y\":[351106,832035,300693,255100,172620],\"yaxis\":\"y\",\"type\":\"scatter\"}],                        {\"template\":{\"data\":{\"histogram2dcontour\":[{\"type\":\"histogram2dcontour\",\"colorbar\":{\"outlinewidth\":0,\"ticks\":\"\"},\"colorscale\":[[0.0,\"#0d0887\"],[0.1111111111111111,\"#46039f\"],[0.2222222222222222,\"#7201a8\"],[0.3333333333333333,\"#9c179e\"],[0.4444444444444444,\"#bd3786\"],[0.5555555555555556,\"#d8576b\"],[0.6666666666666666,\"#ed7953\"],[0.7777777777777778,\"#fb9f3a\"],[0.8888888888888888,\"#fdca26\"],[1.0,\"#f0f921\"]]}],\"choropleth\":[{\"type\":\"choropleth\",\"colorbar\":{\"outlinewidth\":0,\"ticks\":\"\"}}],\"histogram2d\":[{\"type\":\"histogram2d\",\"colorbar\":{\"outlinewidth\":0,\"ticks\":\"\"},\"colorscale\":[[0.0,\"#0d0887\"],[0.1111111111111111,\"#46039f\"],[0.2222222222222222,\"#7201a8\"],[0.3333333333333333,\"#9c179e\"],[0.4444444444444444,\"#bd3786\"],[0.5555555555555556,\"#d8576b\"],[0.6666666666666666,\"#ed7953\"],[0.7777777777777778,\"#fb9f3a\"],[0.8888888888888888,\"#fdca26\"],[1.0,\"#f0f921\"]]}],\"heatmap\":[{\"type\":\"heatmap\",\"colorbar\":{\"outlinewidth\":0,\"ticks\":\"\"},\"colorscale\":[[0.0,\"#0d0887\"],[0.1111111111111111,\"#46039f\"],[0.2222222222222222,\"#7201a8\"],[0.3333333333333333,\"#9c179e\"],[0.4444444444444444,\"#bd3786\"],[0.5555555555555556,\"#d8576b\"],[0.6666666666666666,\"#ed7953\"],[0.7777777777777778,\"#fb9f3a\"],[0.8888888888888888,\"#fdca26\"],[1.0,\"#f0f921\"]]}],\"heatmapgl\":[{\"type\":\"heatmapgl\",\"colorbar\":{\"outlinewidth\":0,\"ticks\":\"\"},\"colorscale\":[[0.0,\"#0d0887\"],[0.1111111111111111,\"#46039f\"],[0.2222222222222222,\"#7201a8\"],[0.3333333333333333,\"#9c179e\"],[0.4444444444444444,\"#bd3786\"],[0.5555555555555556,\"#d8576b\"],[0.6666666666666666,\"#ed7953\"],[0.7777777777777778,\"#fb9f3a\"],[0.8888888888888888,\"#fdca26\"],[1.0,\"#f0f921\"]]}],\"contourcarpet\":[{\"type\":\"contourcarpet\",\"colorbar\":{\"outlinewidth\":0,\"ticks\":\"\"}}],\"contour\":[{\"type\":\"contour\",\"colorbar\":{\"outlinewidth\":0,\"ticks\":\"\"},\"colorscale\":[[0.0,\"#0d0887\"],[0.1111111111111111,\"#46039f\"],[0.2222222222222222,\"#7201a8\"],[0.3333333333333333,\"#9c179e\"],[0.4444444444444444,\"#bd3786\"],[0.5555555555555556,\"#d8576b\"],[0.6666666666666666,\"#ed7953\"],[0.7777777777777778,\"#fb9f3a\"],[0.8888888888888888,\"#fdca26\"],[1.0,\"#f0f921\"]]}],\"surface\":[{\"type\":\"surface\",\"colorbar\":{\"outlinewidth\":0,\"ticks\":\"\"},\"colorscale\":[[0.0,\"#0d0887\"],[0.1111111111111111,\"#46039f\"],[0.2222222222222222,\"#7201a8\"],[0.3333333333333333,\"#9c179e\"],[0.4444444444444444,\"#bd3786\"],[0.5555555555555556,\"#d8576b\"],[0.6666666666666666,\"#ed7953\"],[0.7777777777777778,\"#fb9f3a\"],[0.8888888888888888,\"#fdca26\"],[1.0,\"#f0f921\"]]}],\"mesh3d\":[{\"type\":\"mesh3d\",\"colorbar\":{\"outlinewidth\":0,\"ticks\":\"\"}}],\"scatter\":[{\"fillpattern\":{\"fillmode\":\"overlay\",\"size\":10,\"solidity\":0.2},\"type\":\"scatter\"}],\"parcoords\":[{\"type\":\"parcoords\",\"line\":{\"colorbar\":{\"outlinewidth\":0,\"ticks\":\"\"}}}],\"scatterpolargl\":[{\"type\":\"scatterpolargl\",\"marker\":{\"colorbar\":{\"outlinewidth\":0,\"ticks\":\"\"}}}],\"bar\":[{\"error_x\":{\"color\":\"#2a3f5f\"},\"error_y\":{\"color\":\"#2a3f5f\"},\"marker\":{\"line\":{\"color\":\"#E5ECF6\",\"width\":0.5},\"pattern\":{\"fillmode\":\"overlay\",\"size\":10,\"solidity\":0.2}},\"type\":\"bar\"}],\"scattergeo\":[{\"type\":\"scattergeo\",\"marker\":{\"colorbar\":{\"outlinewidth\":0,\"ticks\":\"\"}}}],\"scatterpolar\":[{\"type\":\"scatterpolar\",\"marker\":{\"colorbar\":{\"outlinewidth\":0,\"ticks\":\"\"}}}],\"histogram\":[{\"marker\":{\"pattern\":{\"fillmode\":\"overlay\",\"size\":10,\"solidity\":0.2}},\"type\":\"histogram\"}],\"scattergl\":[{\"type\":\"scattergl\",\"marker\":{\"colorbar\":{\"outlinewidth\":0,\"ticks\":\"\"}}}],\"scatter3d\":[{\"type\":\"scatter3d\",\"line\":{\"colorbar\":{\"outlinewidth\":0,\"ticks\":\"\"}},\"marker\":{\"colorbar\":{\"outlinewidth\":0,\"ticks\":\"\"}}}],\"scattermapbox\":[{\"type\":\"scattermapbox\",\"marker\":{\"colorbar\":{\"outlinewidth\":0,\"ticks\":\"\"}}}],\"scatterternary\":[{\"type\":\"scatterternary\",\"marker\":{\"colorbar\":{\"outlinewidth\":0,\"ticks\":\"\"}}}],\"scattercarpet\":[{\"type\":\"scattercarpet\",\"marker\":{\"colorbar\":{\"outlinewidth\":0,\"ticks\":\"\"}}}],\"carpet\":[{\"aaxis\":{\"endlinecolor\":\"#2a3f5f\",\"gridcolor\":\"white\",\"linecolor\":\"white\",\"minorgridcolor\":\"white\",\"startlinecolor\":\"#2a3f5f\"},\"baxis\":{\"endlinecolor\":\"#2a3f5f\",\"gridcolor\":\"white\",\"linecolor\":\"white\",\"minorgridcolor\":\"white\",\"startlinecolor\":\"#2a3f5f\"},\"type\":\"carpet\"}],\"table\":[{\"cells\":{\"fill\":{\"color\":\"#EBF0F8\"},\"line\":{\"color\":\"white\"}},\"header\":{\"fill\":{\"color\":\"#C8D4E3\"},\"line\":{\"color\":\"white\"}},\"type\":\"table\"}],\"barpolar\":[{\"marker\":{\"line\":{\"color\":\"#E5ECF6\",\"width\":0.5},\"pattern\":{\"fillmode\":\"overlay\",\"size\":10,\"solidity\":0.2}},\"type\":\"barpolar\"}],\"pie\":[{\"automargin\":true,\"type\":\"pie\"}]},\"layout\":{\"autotypenumbers\":\"strict\",\"colorway\":[\"#636efa\",\"#EF553B\",\"#00cc96\",\"#ab63fa\",\"#FFA15A\",\"#19d3f3\",\"#FF6692\",\"#B6E880\",\"#FF97FF\",\"#FECB52\"],\"font\":{\"color\":\"#2a3f5f\"},\"hovermode\":\"closest\",\"hoverlabel\":{\"align\":\"left\"},\"paper_bgcolor\":\"white\",\"plot_bgcolor\":\"#E5ECF6\",\"polar\":{\"bgcolor\":\"#E5ECF6\",\"angularaxis\":{\"gridcolor\":\"white\",\"linecolor\":\"white\",\"ticks\":\"\"},\"radialaxis\":{\"gridcolor\":\"white\",\"linecolor\":\"white\",\"ticks\":\"\"}},\"ternary\":{\"bgcolor\":\"#E5ECF6\",\"aaxis\":{\"gridcolor\":\"white\",\"linecolor\":\"white\",\"ticks\":\"\"},\"baxis\":{\"gridcolor\":\"white\",\"linecolor\":\"white\",\"ticks\":\"\"},\"caxis\":{\"gridcolor\":\"white\",\"linecolor\":\"white\",\"ticks\":\"\"}},\"coloraxis\":{\"colorbar\":{\"outlinewidth\":0,\"ticks\":\"\"}},\"colorscale\":{\"sequential\":[[0.0,\"#0d0887\"],[0.1111111111111111,\"#46039f\"],[0.2222222222222222,\"#7201a8\"],[0.3333333333333333,\"#9c179e\"],[0.4444444444444444,\"#bd3786\"],[0.5555555555555556,\"#d8576b\"],[0.6666666666666666,\"#ed7953\"],[0.7777777777777778,\"#fb9f3a\"],[0.8888888888888888,\"#fdca26\"],[1.0,\"#f0f921\"]],\"sequentialminus\":[[0.0,\"#0d0887\"],[0.1111111111111111,\"#46039f\"],[0.2222222222222222,\"#7201a8\"],[0.3333333333333333,\"#9c179e\"],[0.4444444444444444,\"#bd3786\"],[0.5555555555555556,\"#d8576b\"],[0.6666666666666666,\"#ed7953\"],[0.7777777777777778,\"#fb9f3a\"],[0.8888888888888888,\"#fdca26\"],[1.0,\"#f0f921\"]],\"diverging\":[[0,\"#8e0152\"],[0.1,\"#c51b7d\"],[0.2,\"#de77ae\"],[0.3,\"#f1b6da\"],[0.4,\"#fde0ef\"],[0.5,\"#f7f7f7\"],[0.6,\"#e6f5d0\"],[0.7,\"#b8e186\"],[0.8,\"#7fbc41\"],[0.9,\"#4d9221\"],[1,\"#276419\"]]},\"xaxis\":{\"gridcolor\":\"white\",\"linecolor\":\"white\",\"ticks\":\"\",\"title\":{\"standoff\":15},\"zerolinecolor\":\"white\",\"automargin\":true,\"zerolinewidth\":2},\"yaxis\":{\"gridcolor\":\"white\",\"linecolor\":\"white\",\"ticks\":\"\",\"title\":{\"standoff\":15},\"zerolinecolor\":\"white\",\"automargin\":true,\"zerolinewidth\":2},\"scene\":{\"xaxis\":{\"backgroundcolor\":\"#E5ECF6\",\"gridcolor\":\"white\",\"linecolor\":\"white\",\"showbackground\":true,\"ticks\":\"\",\"zerolinecolor\":\"white\",\"gridwidth\":2},\"yaxis\":{\"backgroundcolor\":\"#E5ECF6\",\"gridcolor\":\"white\",\"linecolor\":\"white\",\"showbackground\":true,\"ticks\":\"\",\"zerolinecolor\":\"white\",\"gridwidth\":2},\"zaxis\":{\"backgroundcolor\":\"#E5ECF6\",\"gridcolor\":\"white\",\"linecolor\":\"white\",\"showbackground\":true,\"ticks\":\"\",\"zerolinecolor\":\"white\",\"gridwidth\":2}},\"shapedefaults\":{\"line\":{\"color\":\"#2a3f5f\"}},\"annotationdefaults\":{\"arrowcolor\":\"#2a3f5f\",\"arrowhead\":0,\"arrowwidth\":1},\"geo\":{\"bgcolor\":\"white\",\"landcolor\":\"#E5ECF6\",\"subunitcolor\":\"white\",\"showland\":true,\"showlakes\":true,\"lakecolor\":\"white\"},\"title\":{\"x\":0.05},\"mapbox\":{\"style\":\"light\"}}},\"xaxis\":{\"anchor\":\"y\",\"domain\":[0.0,1.0],\"title\":{\"text\":\"Energy Expenditures\"}},\"yaxis\":{\"anchor\":\"x\",\"domain\":[0.0,1.0],\"title\":{\"text\":\"Total BTU Consumption\"}},\"legend\":{\"tracegroupgap\":0},\"title\":{\"text\":\"Energy Expenditures vs Total BTU for Top 5 States in 2022\"}},                        {\"responsive\": true}                    ).then(function(){\n",
       "                            \n",
       "var gd = document.getElementById('36ff094e-d3bc-402a-b803-d01fbab833b4');\n",
       "var x = new MutationObserver(function (mutations, observer) {{\n",
       "        var display = window.getComputedStyle(gd).display;\n",
       "        if (!display || display === 'none') {{\n",
       "            console.log([gd, 'removed!']);\n",
       "            Plotly.purge(gd);\n",
       "            observer.disconnect();\n",
       "        }}\n",
       "}});\n",
       "\n",
       "// Listen for the removal of the full notebook cells\n",
       "var notebookContainer = gd.closest('#notebook-container');\n",
       "if (notebookContainer) {{\n",
       "    x.observe(notebookContainer, {childList: true});\n",
       "}}\n",
       "\n",
       "// Listen for the clearing of the current output cell\n",
       "var outputEl = gd.closest('.output');\n",
       "if (outputEl) {{\n",
       "    x.observe(outputEl, {childList: true});\n",
       "}}\n",
       "\n",
       "                        })                };                });            </script>        </div>"
      ]
     },
     "metadata": {},
     "output_type": "display_data"
    }
   ],
   "source": [
    "data_2022 = merged_all_data[merged_all_data['Year'] == 2022]\n",
    "\n",
    "# Remove the \"US\" row from the data\n",
    "data_no_us_2022 = data_2022[data_2022[\"State\"] != \"US\"]\n",
    "\n",
    "# only top 5 states in 2022\n",
    "top_5_expenditures_2022 = data_no_us_2022.nlargest(5, 'Expenditures')\n",
    "\n",
    "fig_top5_scatter = px.scatter(top_5_expenditures_2022, \n",
    "                              x='Expenditures', \n",
    "                              y='Total_BTU', \n",
    "                              title=\"Energy Expenditures vs Total BTU for Top 5 States in 2022\", \n",
    "                              labels={'Expenditures': 'Energy Expenditures', 'Total_BTU': 'Total BTU Consumption'},\n",
    "                              text='State')\n",
    "\n",
    "# Show the scatter plot\n",
    "fig_top5_scatter.show()"
   ]
  },
  {
   "cell_type": "markdown",
   "id": "137d260c-2023-4efc-b970-3afda22b56c9",
   "metadata": {},
   "source": [
    "#### Now lets look at the relationship between energy expenditure and renewable energy consumption for the top 5 spenders of energy in 2000 to understand the difference"
   ]
  },
  {
   "cell_type": "code",
   "execution_count": 35,
   "id": "3342f4f7-a4b7-4dd6-9762-afa3083cfa1f",
   "metadata": {},
   "outputs": [
    {
     "data": {
      "application/vnd.plotly.v1+json": {
       "config": {
        "plotlyServerURL": "https://plot.ly"
       },
       "data": [
        {
         "hovertemplate": "Energy Expenditures=%{x}<br>Total BTU Consumption=%{y}<br>State=%{text}<extra></extra>",
         "legendgroup": "",
         "marker": {
          "color": "#636efa",
          "symbol": "circle"
         },
         "mode": "markers+text",
         "name": "",
         "orientation": "v",
         "showlegend": false,
         "text": [
          "TX",
          "CA",
          "NY",
          "FL",
          "OH"
         ],
         "type": "scatter",
         "x": [
          74551.2,
          68282,
          39216.8,
          30216.1,
          29343.5
         ],
         "xaxis": "x",
         "y": [
          90836,
          358063,
          261271,
          194517,
          94966
         ],
         "yaxis": "y"
        }
       ],
       "layout": {
        "legend": {
         "tracegroupgap": 0
        },
        "template": {
         "data": {
          "bar": [
           {
            "error_x": {
             "color": "#2a3f5f"
            },
            "error_y": {
             "color": "#2a3f5f"
            },
            "marker": {
             "line": {
              "color": "#E5ECF6",
              "width": 0.5
             },
             "pattern": {
              "fillmode": "overlay",
              "size": 10,
              "solidity": 0.2
             }
            },
            "type": "bar"
           }
          ],
          "barpolar": [
           {
            "marker": {
             "line": {
              "color": "#E5ECF6",
              "width": 0.5
             },
             "pattern": {
              "fillmode": "overlay",
              "size": 10,
              "solidity": 0.2
             }
            },
            "type": "barpolar"
           }
          ],
          "carpet": [
           {
            "aaxis": {
             "endlinecolor": "#2a3f5f",
             "gridcolor": "white",
             "linecolor": "white",
             "minorgridcolor": "white",
             "startlinecolor": "#2a3f5f"
            },
            "baxis": {
             "endlinecolor": "#2a3f5f",
             "gridcolor": "white",
             "linecolor": "white",
             "minorgridcolor": "white",
             "startlinecolor": "#2a3f5f"
            },
            "type": "carpet"
           }
          ],
          "choropleth": [
           {
            "colorbar": {
             "outlinewidth": 0,
             "ticks": ""
            },
            "type": "choropleth"
           }
          ],
          "contour": [
           {
            "colorbar": {
             "outlinewidth": 0,
             "ticks": ""
            },
            "colorscale": [
             [
              0,
              "#0d0887"
             ],
             [
              0.1111111111111111,
              "#46039f"
             ],
             [
              0.2222222222222222,
              "#7201a8"
             ],
             [
              0.3333333333333333,
              "#9c179e"
             ],
             [
              0.4444444444444444,
              "#bd3786"
             ],
             [
              0.5555555555555556,
              "#d8576b"
             ],
             [
              0.6666666666666666,
              "#ed7953"
             ],
             [
              0.7777777777777778,
              "#fb9f3a"
             ],
             [
              0.8888888888888888,
              "#fdca26"
             ],
             [
              1,
              "#f0f921"
             ]
            ],
            "type": "contour"
           }
          ],
          "contourcarpet": [
           {
            "colorbar": {
             "outlinewidth": 0,
             "ticks": ""
            },
            "type": "contourcarpet"
           }
          ],
          "heatmap": [
           {
            "colorbar": {
             "outlinewidth": 0,
             "ticks": ""
            },
            "colorscale": [
             [
              0,
              "#0d0887"
             ],
             [
              0.1111111111111111,
              "#46039f"
             ],
             [
              0.2222222222222222,
              "#7201a8"
             ],
             [
              0.3333333333333333,
              "#9c179e"
             ],
             [
              0.4444444444444444,
              "#bd3786"
             ],
             [
              0.5555555555555556,
              "#d8576b"
             ],
             [
              0.6666666666666666,
              "#ed7953"
             ],
             [
              0.7777777777777778,
              "#fb9f3a"
             ],
             [
              0.8888888888888888,
              "#fdca26"
             ],
             [
              1,
              "#f0f921"
             ]
            ],
            "type": "heatmap"
           }
          ],
          "heatmapgl": [
           {
            "colorbar": {
             "outlinewidth": 0,
             "ticks": ""
            },
            "colorscale": [
             [
              0,
              "#0d0887"
             ],
             [
              0.1111111111111111,
              "#46039f"
             ],
             [
              0.2222222222222222,
              "#7201a8"
             ],
             [
              0.3333333333333333,
              "#9c179e"
             ],
             [
              0.4444444444444444,
              "#bd3786"
             ],
             [
              0.5555555555555556,
              "#d8576b"
             ],
             [
              0.6666666666666666,
              "#ed7953"
             ],
             [
              0.7777777777777778,
              "#fb9f3a"
             ],
             [
              0.8888888888888888,
              "#fdca26"
             ],
             [
              1,
              "#f0f921"
             ]
            ],
            "type": "heatmapgl"
           }
          ],
          "histogram": [
           {
            "marker": {
             "pattern": {
              "fillmode": "overlay",
              "size": 10,
              "solidity": 0.2
             }
            },
            "type": "histogram"
           }
          ],
          "histogram2d": [
           {
            "colorbar": {
             "outlinewidth": 0,
             "ticks": ""
            },
            "colorscale": [
             [
              0,
              "#0d0887"
             ],
             [
              0.1111111111111111,
              "#46039f"
             ],
             [
              0.2222222222222222,
              "#7201a8"
             ],
             [
              0.3333333333333333,
              "#9c179e"
             ],
             [
              0.4444444444444444,
              "#bd3786"
             ],
             [
              0.5555555555555556,
              "#d8576b"
             ],
             [
              0.6666666666666666,
              "#ed7953"
             ],
             [
              0.7777777777777778,
              "#fb9f3a"
             ],
             [
              0.8888888888888888,
              "#fdca26"
             ],
             [
              1,
              "#f0f921"
             ]
            ],
            "type": "histogram2d"
           }
          ],
          "histogram2dcontour": [
           {
            "colorbar": {
             "outlinewidth": 0,
             "ticks": ""
            },
            "colorscale": [
             [
              0,
              "#0d0887"
             ],
             [
              0.1111111111111111,
              "#46039f"
             ],
             [
              0.2222222222222222,
              "#7201a8"
             ],
             [
              0.3333333333333333,
              "#9c179e"
             ],
             [
              0.4444444444444444,
              "#bd3786"
             ],
             [
              0.5555555555555556,
              "#d8576b"
             ],
             [
              0.6666666666666666,
              "#ed7953"
             ],
             [
              0.7777777777777778,
              "#fb9f3a"
             ],
             [
              0.8888888888888888,
              "#fdca26"
             ],
             [
              1,
              "#f0f921"
             ]
            ],
            "type": "histogram2dcontour"
           }
          ],
          "mesh3d": [
           {
            "colorbar": {
             "outlinewidth": 0,
             "ticks": ""
            },
            "type": "mesh3d"
           }
          ],
          "parcoords": [
           {
            "line": {
             "colorbar": {
              "outlinewidth": 0,
              "ticks": ""
             }
            },
            "type": "parcoords"
           }
          ],
          "pie": [
           {
            "automargin": true,
            "type": "pie"
           }
          ],
          "scatter": [
           {
            "fillpattern": {
             "fillmode": "overlay",
             "size": 10,
             "solidity": 0.2
            },
            "type": "scatter"
           }
          ],
          "scatter3d": [
           {
            "line": {
             "colorbar": {
              "outlinewidth": 0,
              "ticks": ""
             }
            },
            "marker": {
             "colorbar": {
              "outlinewidth": 0,
              "ticks": ""
             }
            },
            "type": "scatter3d"
           }
          ],
          "scattercarpet": [
           {
            "marker": {
             "colorbar": {
              "outlinewidth": 0,
              "ticks": ""
             }
            },
            "type": "scattercarpet"
           }
          ],
          "scattergeo": [
           {
            "marker": {
             "colorbar": {
              "outlinewidth": 0,
              "ticks": ""
             }
            },
            "type": "scattergeo"
           }
          ],
          "scattergl": [
           {
            "marker": {
             "colorbar": {
              "outlinewidth": 0,
              "ticks": ""
             }
            },
            "type": "scattergl"
           }
          ],
          "scattermapbox": [
           {
            "marker": {
             "colorbar": {
              "outlinewidth": 0,
              "ticks": ""
             }
            },
            "type": "scattermapbox"
           }
          ],
          "scatterpolar": [
           {
            "marker": {
             "colorbar": {
              "outlinewidth": 0,
              "ticks": ""
             }
            },
            "type": "scatterpolar"
           }
          ],
          "scatterpolargl": [
           {
            "marker": {
             "colorbar": {
              "outlinewidth": 0,
              "ticks": ""
             }
            },
            "type": "scatterpolargl"
           }
          ],
          "scatterternary": [
           {
            "marker": {
             "colorbar": {
              "outlinewidth": 0,
              "ticks": ""
             }
            },
            "type": "scatterternary"
           }
          ],
          "surface": [
           {
            "colorbar": {
             "outlinewidth": 0,
             "ticks": ""
            },
            "colorscale": [
             [
              0,
              "#0d0887"
             ],
             [
              0.1111111111111111,
              "#46039f"
             ],
             [
              0.2222222222222222,
              "#7201a8"
             ],
             [
              0.3333333333333333,
              "#9c179e"
             ],
             [
              0.4444444444444444,
              "#bd3786"
             ],
             [
              0.5555555555555556,
              "#d8576b"
             ],
             [
              0.6666666666666666,
              "#ed7953"
             ],
             [
              0.7777777777777778,
              "#fb9f3a"
             ],
             [
              0.8888888888888888,
              "#fdca26"
             ],
             [
              1,
              "#f0f921"
             ]
            ],
            "type": "surface"
           }
          ],
          "table": [
           {
            "cells": {
             "fill": {
              "color": "#EBF0F8"
             },
             "line": {
              "color": "white"
             }
            },
            "header": {
             "fill": {
              "color": "#C8D4E3"
             },
             "line": {
              "color": "white"
             }
            },
            "type": "table"
           }
          ]
         },
         "layout": {
          "annotationdefaults": {
           "arrowcolor": "#2a3f5f",
           "arrowhead": 0,
           "arrowwidth": 1
          },
          "autotypenumbers": "strict",
          "coloraxis": {
           "colorbar": {
            "outlinewidth": 0,
            "ticks": ""
           }
          },
          "colorscale": {
           "diverging": [
            [
             0,
             "#8e0152"
            ],
            [
             0.1,
             "#c51b7d"
            ],
            [
             0.2,
             "#de77ae"
            ],
            [
             0.3,
             "#f1b6da"
            ],
            [
             0.4,
             "#fde0ef"
            ],
            [
             0.5,
             "#f7f7f7"
            ],
            [
             0.6,
             "#e6f5d0"
            ],
            [
             0.7,
             "#b8e186"
            ],
            [
             0.8,
             "#7fbc41"
            ],
            [
             0.9,
             "#4d9221"
            ],
            [
             1,
             "#276419"
            ]
           ],
           "sequential": [
            [
             0,
             "#0d0887"
            ],
            [
             0.1111111111111111,
             "#46039f"
            ],
            [
             0.2222222222222222,
             "#7201a8"
            ],
            [
             0.3333333333333333,
             "#9c179e"
            ],
            [
             0.4444444444444444,
             "#bd3786"
            ],
            [
             0.5555555555555556,
             "#d8576b"
            ],
            [
             0.6666666666666666,
             "#ed7953"
            ],
            [
             0.7777777777777778,
             "#fb9f3a"
            ],
            [
             0.8888888888888888,
             "#fdca26"
            ],
            [
             1,
             "#f0f921"
            ]
           ],
           "sequentialminus": [
            [
             0,
             "#0d0887"
            ],
            [
             0.1111111111111111,
             "#46039f"
            ],
            [
             0.2222222222222222,
             "#7201a8"
            ],
            [
             0.3333333333333333,
             "#9c179e"
            ],
            [
             0.4444444444444444,
             "#bd3786"
            ],
            [
             0.5555555555555556,
             "#d8576b"
            ],
            [
             0.6666666666666666,
             "#ed7953"
            ],
            [
             0.7777777777777778,
             "#fb9f3a"
            ],
            [
             0.8888888888888888,
             "#fdca26"
            ],
            [
             1,
             "#f0f921"
            ]
           ]
          },
          "colorway": [
           "#636efa",
           "#EF553B",
           "#00cc96",
           "#ab63fa",
           "#FFA15A",
           "#19d3f3",
           "#FF6692",
           "#B6E880",
           "#FF97FF",
           "#FECB52"
          ],
          "font": {
           "color": "#2a3f5f"
          },
          "geo": {
           "bgcolor": "white",
           "lakecolor": "white",
           "landcolor": "#E5ECF6",
           "showlakes": true,
           "showland": true,
           "subunitcolor": "white"
          },
          "hoverlabel": {
           "align": "left"
          },
          "hovermode": "closest",
          "mapbox": {
           "style": "light"
          },
          "paper_bgcolor": "white",
          "plot_bgcolor": "#E5ECF6",
          "polar": {
           "angularaxis": {
            "gridcolor": "white",
            "linecolor": "white",
            "ticks": ""
           },
           "bgcolor": "#E5ECF6",
           "radialaxis": {
            "gridcolor": "white",
            "linecolor": "white",
            "ticks": ""
           }
          },
          "scene": {
           "xaxis": {
            "backgroundcolor": "#E5ECF6",
            "gridcolor": "white",
            "gridwidth": 2,
            "linecolor": "white",
            "showbackground": true,
            "ticks": "",
            "zerolinecolor": "white"
           },
           "yaxis": {
            "backgroundcolor": "#E5ECF6",
            "gridcolor": "white",
            "gridwidth": 2,
            "linecolor": "white",
            "showbackground": true,
            "ticks": "",
            "zerolinecolor": "white"
           },
           "zaxis": {
            "backgroundcolor": "#E5ECF6",
            "gridcolor": "white",
            "gridwidth": 2,
            "linecolor": "white",
            "showbackground": true,
            "ticks": "",
            "zerolinecolor": "white"
           }
          },
          "shapedefaults": {
           "line": {
            "color": "#2a3f5f"
           }
          },
          "ternary": {
           "aaxis": {
            "gridcolor": "white",
            "linecolor": "white",
            "ticks": ""
           },
           "baxis": {
            "gridcolor": "white",
            "linecolor": "white",
            "ticks": ""
           },
           "bgcolor": "#E5ECF6",
           "caxis": {
            "gridcolor": "white",
            "linecolor": "white",
            "ticks": ""
           }
          },
          "title": {
           "x": 0.05
          },
          "xaxis": {
           "automargin": true,
           "gridcolor": "white",
           "linecolor": "white",
           "ticks": "",
           "title": {
            "standoff": 15
           },
           "zerolinecolor": "white",
           "zerolinewidth": 2
          },
          "yaxis": {
           "automargin": true,
           "gridcolor": "white",
           "linecolor": "white",
           "ticks": "",
           "title": {
            "standoff": 15
           },
           "zerolinecolor": "white",
           "zerolinewidth": 2
          }
         }
        },
        "title": {
         "text": "Energy Expenditures vs Total BTU for Top 5 States in 2000"
        },
        "xaxis": {
         "anchor": "y",
         "domain": [
          0,
          1
         ],
         "title": {
          "text": "Energy Expenditures"
         }
        },
        "yaxis": {
         "anchor": "x",
         "domain": [
          0,
          1
         ],
         "title": {
          "text": "Total BTU Consumption"
         }
        }
       }
      },
      "text/html": [
       "<div>                            <div id=\"71e13930-1ec0-4ac5-b521-a00ddaebf29f\" class=\"plotly-graph-div\" style=\"height:525px; width:100%;\"></div>            <script type=\"text/javascript\">                require([\"plotly\"], function(Plotly) {                    window.PLOTLYENV=window.PLOTLYENV || {};                                    if (document.getElementById(\"71e13930-1ec0-4ac5-b521-a00ddaebf29f\")) {                    Plotly.newPlot(                        \"71e13930-1ec0-4ac5-b521-a00ddaebf29f\",                        [{\"hovertemplate\":\"Energy Expenditures=%{x}\\u003cbr\\u003eTotal BTU Consumption=%{y}\\u003cbr\\u003eState=%{text}\\u003cextra\\u003e\\u003c\\u002fextra\\u003e\",\"legendgroup\":\"\",\"marker\":{\"color\":\"#636efa\",\"symbol\":\"circle\"},\"mode\":\"markers+text\",\"name\":\"\",\"orientation\":\"v\",\"showlegend\":false,\"text\":[\"TX\",\"CA\",\"NY\",\"FL\",\"OH\"],\"x\":[74551.2,68282.0,39216.8,30216.1,29343.5],\"xaxis\":\"x\",\"y\":[90836,358063,261271,194517,94966],\"yaxis\":\"y\",\"type\":\"scatter\"}],                        {\"template\":{\"data\":{\"histogram2dcontour\":[{\"type\":\"histogram2dcontour\",\"colorbar\":{\"outlinewidth\":0,\"ticks\":\"\"},\"colorscale\":[[0.0,\"#0d0887\"],[0.1111111111111111,\"#46039f\"],[0.2222222222222222,\"#7201a8\"],[0.3333333333333333,\"#9c179e\"],[0.4444444444444444,\"#bd3786\"],[0.5555555555555556,\"#d8576b\"],[0.6666666666666666,\"#ed7953\"],[0.7777777777777778,\"#fb9f3a\"],[0.8888888888888888,\"#fdca26\"],[1.0,\"#f0f921\"]]}],\"choropleth\":[{\"type\":\"choropleth\",\"colorbar\":{\"outlinewidth\":0,\"ticks\":\"\"}}],\"histogram2d\":[{\"type\":\"histogram2d\",\"colorbar\":{\"outlinewidth\":0,\"ticks\":\"\"},\"colorscale\":[[0.0,\"#0d0887\"],[0.1111111111111111,\"#46039f\"],[0.2222222222222222,\"#7201a8\"],[0.3333333333333333,\"#9c179e\"],[0.4444444444444444,\"#bd3786\"],[0.5555555555555556,\"#d8576b\"],[0.6666666666666666,\"#ed7953\"],[0.7777777777777778,\"#fb9f3a\"],[0.8888888888888888,\"#fdca26\"],[1.0,\"#f0f921\"]]}],\"heatmap\":[{\"type\":\"heatmap\",\"colorbar\":{\"outlinewidth\":0,\"ticks\":\"\"},\"colorscale\":[[0.0,\"#0d0887\"],[0.1111111111111111,\"#46039f\"],[0.2222222222222222,\"#7201a8\"],[0.3333333333333333,\"#9c179e\"],[0.4444444444444444,\"#bd3786\"],[0.5555555555555556,\"#d8576b\"],[0.6666666666666666,\"#ed7953\"],[0.7777777777777778,\"#fb9f3a\"],[0.8888888888888888,\"#fdca26\"],[1.0,\"#f0f921\"]]}],\"heatmapgl\":[{\"type\":\"heatmapgl\",\"colorbar\":{\"outlinewidth\":0,\"ticks\":\"\"},\"colorscale\":[[0.0,\"#0d0887\"],[0.1111111111111111,\"#46039f\"],[0.2222222222222222,\"#7201a8\"],[0.3333333333333333,\"#9c179e\"],[0.4444444444444444,\"#bd3786\"],[0.5555555555555556,\"#d8576b\"],[0.6666666666666666,\"#ed7953\"],[0.7777777777777778,\"#fb9f3a\"],[0.8888888888888888,\"#fdca26\"],[1.0,\"#f0f921\"]]}],\"contourcarpet\":[{\"type\":\"contourcarpet\",\"colorbar\":{\"outlinewidth\":0,\"ticks\":\"\"}}],\"contour\":[{\"type\":\"contour\",\"colorbar\":{\"outlinewidth\":0,\"ticks\":\"\"},\"colorscale\":[[0.0,\"#0d0887\"],[0.1111111111111111,\"#46039f\"],[0.2222222222222222,\"#7201a8\"],[0.3333333333333333,\"#9c179e\"],[0.4444444444444444,\"#bd3786\"],[0.5555555555555556,\"#d8576b\"],[0.6666666666666666,\"#ed7953\"],[0.7777777777777778,\"#fb9f3a\"],[0.8888888888888888,\"#fdca26\"],[1.0,\"#f0f921\"]]}],\"surface\":[{\"type\":\"surface\",\"colorbar\":{\"outlinewidth\":0,\"ticks\":\"\"},\"colorscale\":[[0.0,\"#0d0887\"],[0.1111111111111111,\"#46039f\"],[0.2222222222222222,\"#7201a8\"],[0.3333333333333333,\"#9c179e\"],[0.4444444444444444,\"#bd3786\"],[0.5555555555555556,\"#d8576b\"],[0.6666666666666666,\"#ed7953\"],[0.7777777777777778,\"#fb9f3a\"],[0.8888888888888888,\"#fdca26\"],[1.0,\"#f0f921\"]]}],\"mesh3d\":[{\"type\":\"mesh3d\",\"colorbar\":{\"outlinewidth\":0,\"ticks\":\"\"}}],\"scatter\":[{\"fillpattern\":{\"fillmode\":\"overlay\",\"size\":10,\"solidity\":0.2},\"type\":\"scatter\"}],\"parcoords\":[{\"type\":\"parcoords\",\"line\":{\"colorbar\":{\"outlinewidth\":0,\"ticks\":\"\"}}}],\"scatterpolargl\":[{\"type\":\"scatterpolargl\",\"marker\":{\"colorbar\":{\"outlinewidth\":0,\"ticks\":\"\"}}}],\"bar\":[{\"error_x\":{\"color\":\"#2a3f5f\"},\"error_y\":{\"color\":\"#2a3f5f\"},\"marker\":{\"line\":{\"color\":\"#E5ECF6\",\"width\":0.5},\"pattern\":{\"fillmode\":\"overlay\",\"size\":10,\"solidity\":0.2}},\"type\":\"bar\"}],\"scattergeo\":[{\"type\":\"scattergeo\",\"marker\":{\"colorbar\":{\"outlinewidth\":0,\"ticks\":\"\"}}}],\"scatterpolar\":[{\"type\":\"scatterpolar\",\"marker\":{\"colorbar\":{\"outlinewidth\":0,\"ticks\":\"\"}}}],\"histogram\":[{\"marker\":{\"pattern\":{\"fillmode\":\"overlay\",\"size\":10,\"solidity\":0.2}},\"type\":\"histogram\"}],\"scattergl\":[{\"type\":\"scattergl\",\"marker\":{\"colorbar\":{\"outlinewidth\":0,\"ticks\":\"\"}}}],\"scatter3d\":[{\"type\":\"scatter3d\",\"line\":{\"colorbar\":{\"outlinewidth\":0,\"ticks\":\"\"}},\"marker\":{\"colorbar\":{\"outlinewidth\":0,\"ticks\":\"\"}}}],\"scattermapbox\":[{\"type\":\"scattermapbox\",\"marker\":{\"colorbar\":{\"outlinewidth\":0,\"ticks\":\"\"}}}],\"scatterternary\":[{\"type\":\"scatterternary\",\"marker\":{\"colorbar\":{\"outlinewidth\":0,\"ticks\":\"\"}}}],\"scattercarpet\":[{\"type\":\"scattercarpet\",\"marker\":{\"colorbar\":{\"outlinewidth\":0,\"ticks\":\"\"}}}],\"carpet\":[{\"aaxis\":{\"endlinecolor\":\"#2a3f5f\",\"gridcolor\":\"white\",\"linecolor\":\"white\",\"minorgridcolor\":\"white\",\"startlinecolor\":\"#2a3f5f\"},\"baxis\":{\"endlinecolor\":\"#2a3f5f\",\"gridcolor\":\"white\",\"linecolor\":\"white\",\"minorgridcolor\":\"white\",\"startlinecolor\":\"#2a3f5f\"},\"type\":\"carpet\"}],\"table\":[{\"cells\":{\"fill\":{\"color\":\"#EBF0F8\"},\"line\":{\"color\":\"white\"}},\"header\":{\"fill\":{\"color\":\"#C8D4E3\"},\"line\":{\"color\":\"white\"}},\"type\":\"table\"}],\"barpolar\":[{\"marker\":{\"line\":{\"color\":\"#E5ECF6\",\"width\":0.5},\"pattern\":{\"fillmode\":\"overlay\",\"size\":10,\"solidity\":0.2}},\"type\":\"barpolar\"}],\"pie\":[{\"automargin\":true,\"type\":\"pie\"}]},\"layout\":{\"autotypenumbers\":\"strict\",\"colorway\":[\"#636efa\",\"#EF553B\",\"#00cc96\",\"#ab63fa\",\"#FFA15A\",\"#19d3f3\",\"#FF6692\",\"#B6E880\",\"#FF97FF\",\"#FECB52\"],\"font\":{\"color\":\"#2a3f5f\"},\"hovermode\":\"closest\",\"hoverlabel\":{\"align\":\"left\"},\"paper_bgcolor\":\"white\",\"plot_bgcolor\":\"#E5ECF6\",\"polar\":{\"bgcolor\":\"#E5ECF6\",\"angularaxis\":{\"gridcolor\":\"white\",\"linecolor\":\"white\",\"ticks\":\"\"},\"radialaxis\":{\"gridcolor\":\"white\",\"linecolor\":\"white\",\"ticks\":\"\"}},\"ternary\":{\"bgcolor\":\"#E5ECF6\",\"aaxis\":{\"gridcolor\":\"white\",\"linecolor\":\"white\",\"ticks\":\"\"},\"baxis\":{\"gridcolor\":\"white\",\"linecolor\":\"white\",\"ticks\":\"\"},\"caxis\":{\"gridcolor\":\"white\",\"linecolor\":\"white\",\"ticks\":\"\"}},\"coloraxis\":{\"colorbar\":{\"outlinewidth\":0,\"ticks\":\"\"}},\"colorscale\":{\"sequential\":[[0.0,\"#0d0887\"],[0.1111111111111111,\"#46039f\"],[0.2222222222222222,\"#7201a8\"],[0.3333333333333333,\"#9c179e\"],[0.4444444444444444,\"#bd3786\"],[0.5555555555555556,\"#d8576b\"],[0.6666666666666666,\"#ed7953\"],[0.7777777777777778,\"#fb9f3a\"],[0.8888888888888888,\"#fdca26\"],[1.0,\"#f0f921\"]],\"sequentialminus\":[[0.0,\"#0d0887\"],[0.1111111111111111,\"#46039f\"],[0.2222222222222222,\"#7201a8\"],[0.3333333333333333,\"#9c179e\"],[0.4444444444444444,\"#bd3786\"],[0.5555555555555556,\"#d8576b\"],[0.6666666666666666,\"#ed7953\"],[0.7777777777777778,\"#fb9f3a\"],[0.8888888888888888,\"#fdca26\"],[1.0,\"#f0f921\"]],\"diverging\":[[0,\"#8e0152\"],[0.1,\"#c51b7d\"],[0.2,\"#de77ae\"],[0.3,\"#f1b6da\"],[0.4,\"#fde0ef\"],[0.5,\"#f7f7f7\"],[0.6,\"#e6f5d0\"],[0.7,\"#b8e186\"],[0.8,\"#7fbc41\"],[0.9,\"#4d9221\"],[1,\"#276419\"]]},\"xaxis\":{\"gridcolor\":\"white\",\"linecolor\":\"white\",\"ticks\":\"\",\"title\":{\"standoff\":15},\"zerolinecolor\":\"white\",\"automargin\":true,\"zerolinewidth\":2},\"yaxis\":{\"gridcolor\":\"white\",\"linecolor\":\"white\",\"ticks\":\"\",\"title\":{\"standoff\":15},\"zerolinecolor\":\"white\",\"automargin\":true,\"zerolinewidth\":2},\"scene\":{\"xaxis\":{\"backgroundcolor\":\"#E5ECF6\",\"gridcolor\":\"white\",\"linecolor\":\"white\",\"showbackground\":true,\"ticks\":\"\",\"zerolinecolor\":\"white\",\"gridwidth\":2},\"yaxis\":{\"backgroundcolor\":\"#E5ECF6\",\"gridcolor\":\"white\",\"linecolor\":\"white\",\"showbackground\":true,\"ticks\":\"\",\"zerolinecolor\":\"white\",\"gridwidth\":2},\"zaxis\":{\"backgroundcolor\":\"#E5ECF6\",\"gridcolor\":\"white\",\"linecolor\":\"white\",\"showbackground\":true,\"ticks\":\"\",\"zerolinecolor\":\"white\",\"gridwidth\":2}},\"shapedefaults\":{\"line\":{\"color\":\"#2a3f5f\"}},\"annotationdefaults\":{\"arrowcolor\":\"#2a3f5f\",\"arrowhead\":0,\"arrowwidth\":1},\"geo\":{\"bgcolor\":\"white\",\"landcolor\":\"#E5ECF6\",\"subunitcolor\":\"white\",\"showland\":true,\"showlakes\":true,\"lakecolor\":\"white\"},\"title\":{\"x\":0.05},\"mapbox\":{\"style\":\"light\"}}},\"xaxis\":{\"anchor\":\"y\",\"domain\":[0.0,1.0],\"title\":{\"text\":\"Energy Expenditures\"}},\"yaxis\":{\"anchor\":\"x\",\"domain\":[0.0,1.0],\"title\":{\"text\":\"Total BTU Consumption\"}},\"legend\":{\"tracegroupgap\":0},\"title\":{\"text\":\"Energy Expenditures vs Total BTU for Top 5 States in 2000\"}},                        {\"responsive\": true}                    ).then(function(){\n",
       "                            \n",
       "var gd = document.getElementById('71e13930-1ec0-4ac5-b521-a00ddaebf29f');\n",
       "var x = new MutationObserver(function (mutations, observer) {{\n",
       "        var display = window.getComputedStyle(gd).display;\n",
       "        if (!display || display === 'none') {{\n",
       "            console.log([gd, 'removed!']);\n",
       "            Plotly.purge(gd);\n",
       "            observer.disconnect();\n",
       "        }}\n",
       "}});\n",
       "\n",
       "// Listen for the removal of the full notebook cells\n",
       "var notebookContainer = gd.closest('#notebook-container');\n",
       "if (notebookContainer) {{\n",
       "    x.observe(notebookContainer, {childList: true});\n",
       "}}\n",
       "\n",
       "// Listen for the clearing of the current output cell\n",
       "var outputEl = gd.closest('.output');\n",
       "if (outputEl) {{\n",
       "    x.observe(outputEl, {childList: true});\n",
       "}}\n",
       "\n",
       "                        })                };                });            </script>        </div>"
      ]
     },
     "metadata": {},
     "output_type": "display_data"
    }
   ],
   "source": [
    "data_2000 = merged_all_data[merged_all_data['Year'] == 2000]\n",
    "\n",
    "# Remove the \"US\" row from the data\n",
    "data_no_us_2000 = data_2000[data_2000[\"State\"] != \"US\"]\n",
    "\n",
    "# only top 5 states in 2022\n",
    "top_5_expenditures_2000 = data_no_us_2000.nlargest(5, 'Expenditures')\n",
    "\n",
    "fig_top5_2000 = px.scatter(top_5_expenditures_2000, \n",
    "                              x='Expenditures', \n",
    "                              y='Total_BTU', \n",
    "                              title=\"Energy Expenditures vs Total BTU for Top 5 States in 2000\", \n",
    "                              labels={'Expenditures': 'Energy Expenditures', 'Total_BTU': 'Total BTU Consumption'},\n",
    "                              text='State')\n",
    "\n",
    "# Show the scatter plot\n",
    "fig_top5_2000.show()"
   ]
  },
  {
   "cell_type": "markdown",
   "id": "bae31baf-d745-49bb-9003-a56370c07505",
   "metadata": {},
   "source": [
    "From 2000 to 2022, the California and Texas has show similar relationship contrasting relationship. California is spending alot on energy but also consuming alot of renewable energy but TExt is consuming very less renewable energy but its expenditure is extremely high. Texas has slight improvement interms of renewable energy consumption but not much improvement in terms of expenditure."
   ]
  },
  {
   "cell_type": "code",
   "execution_count": 36,
   "id": "71a875eb-4dec-45c7-b255-dcaf4cc0036b",
   "metadata": {},
   "outputs": [
    {
     "data": {
      "application/vnd.plotly.v1+json": {
       "config": {
        "plotlyServerURL": "https://plot.ly"
       },
       "data": [
        {
         "alignmentgroup": "True",
         "hovertemplate": "State=%{x}<br>Energy Expenditures=%{y}<extra></extra>",
         "legendgroup": "AK",
         "marker": {
          "color": "#636efa",
          "pattern": {
           "shape": ""
          }
         },
         "name": "AK",
         "offsetgroup": "AK",
         "orientation": "v",
         "showlegend": true,
         "textposition": "auto",
         "type": "bar",
         "x": [
          "AK"
         ],
         "xaxis": "x",
         "y": [
          9569.8
         ],
         "yaxis": "y"
        },
        {
         "alignmentgroup": "True",
         "hovertemplate": "State=%{x}<br>Energy Expenditures=%{y}<extra></extra>",
         "legendgroup": "AL",
         "marker": {
          "color": "#EF553B",
          "pattern": {
           "shape": ""
          }
         },
         "name": "AL",
         "offsetgroup": "AL",
         "orientation": "v",
         "showlegend": true,
         "textposition": "auto",
         "type": "bar",
         "x": [
          "AL"
         ],
         "xaxis": "x",
         "y": [
          30999.8
         ],
         "yaxis": "y"
        },
        {
         "alignmentgroup": "True",
         "hovertemplate": "State=%{x}<br>Energy Expenditures=%{y}<extra></extra>",
         "legendgroup": "AR",
         "marker": {
          "color": "#00cc96",
          "pattern": {
           "shape": ""
          }
         },
         "name": "AR",
         "offsetgroup": "AR",
         "orientation": "v",
         "showlegend": true,
         "textposition": "auto",
         "type": "bar",
         "x": [
          "AR"
         ],
         "xaxis": "x",
         "y": [
          17391.8
         ],
         "yaxis": "y"
        },
        {
         "alignmentgroup": "True",
         "hovertemplate": "State=%{x}<br>Energy Expenditures=%{y}<extra></extra>",
         "legendgroup": "AZ",
         "marker": {
          "color": "#ab63fa",
          "pattern": {
           "shape": ""
          }
         },
         "name": "AZ",
         "offsetgroup": "AZ",
         "orientation": "v",
         "showlegend": true,
         "textposition": "auto",
         "type": "bar",
         "x": [
          "AZ"
         ],
         "xaxis": "x",
         "y": [
          32960.9
         ],
         "yaxis": "y"
        },
        {
         "alignmentgroup": "True",
         "hovertemplate": "State=%{x}<br>Energy Expenditures=%{y}<extra></extra>",
         "legendgroup": "CA",
         "marker": {
          "color": "#FFA15A",
          "pattern": {
           "shape": ""
          }
         },
         "name": "CA",
         "offsetgroup": "CA",
         "orientation": "v",
         "showlegend": true,
         "textposition": "auto",
         "type": "bar",
         "x": [
          "CA"
         ],
         "xaxis": "x",
         "y": [
          200007.5
         ],
         "yaxis": "y"
        },
        {
         "alignmentgroup": "True",
         "hovertemplate": "State=%{x}<br>Energy Expenditures=%{y}<extra></extra>",
         "legendgroup": "CO",
         "marker": {
          "color": "#19d3f3",
          "pattern": {
           "shape": ""
          }
         },
         "name": "CO",
         "offsetgroup": "CO",
         "orientation": "v",
         "showlegend": true,
         "textposition": "auto",
         "type": "bar",
         "x": [
          "CO"
         ],
         "xaxis": "x",
         "y": [
          28371.1
         ],
         "yaxis": "y"
        },
        {
         "alignmentgroup": "True",
         "hovertemplate": "State=%{x}<br>Energy Expenditures=%{y}<extra></extra>",
         "legendgroup": "CT",
         "marker": {
          "color": "#FF6692",
          "pattern": {
           "shape": ""
          }
         },
         "name": "CT",
         "offsetgroup": "CT",
         "orientation": "v",
         "showlegend": true,
         "textposition": "auto",
         "type": "bar",
         "x": [
          "CT"
         ],
         "xaxis": "x",
         "y": [
          18123.7
         ],
         "yaxis": "y"
        },
        {
         "alignmentgroup": "True",
         "hovertemplate": "State=%{x}<br>Energy Expenditures=%{y}<extra></extra>",
         "legendgroup": "DC",
         "marker": {
          "color": "#B6E880",
          "pattern": {
           "shape": ""
          }
         },
         "name": "DC",
         "offsetgroup": "DC",
         "orientation": "v",
         "showlegend": true,
         "textposition": "auto",
         "type": "bar",
         "x": [
          "DC"
         ],
         "xaxis": "x",
         "y": [
          2574.2
         ],
         "yaxis": "y"
        },
        {
         "alignmentgroup": "True",
         "hovertemplate": "State=%{x}<br>Energy Expenditures=%{y}<extra></extra>",
         "legendgroup": "DE",
         "marker": {
          "color": "#FF97FF",
          "pattern": {
           "shape": ""
          }
         },
         "name": "DE",
         "offsetgroup": "DE",
         "orientation": "v",
         "showlegend": true,
         "textposition": "auto",
         "type": "bar",
         "x": [
          "DE"
         ],
         "xaxis": "x",
         "y": [
          4816.8
         ],
         "yaxis": "y"
        },
        {
         "alignmentgroup": "True",
         "hovertemplate": "State=%{x}<br>Energy Expenditures=%{y}<extra></extra>",
         "legendgroup": "FL",
         "marker": {
          "color": "#FECB52",
          "pattern": {
           "shape": ""
          }
         },
         "name": "FL",
         "offsetgroup": "FL",
         "orientation": "v",
         "showlegend": true,
         "textposition": "auto",
         "type": "bar",
         "x": [
          "FL"
         ],
         "xaxis": "x",
         "y": [
          89282.3
         ],
         "yaxis": "y"
        },
        {
         "alignmentgroup": "True",
         "hovertemplate": "State=%{x}<br>Energy Expenditures=%{y}<extra></extra>",
         "legendgroup": "GA",
         "marker": {
          "color": "#636efa",
          "pattern": {
           "shape": ""
          }
         },
         "name": "GA",
         "offsetgroup": "GA",
         "orientation": "v",
         "showlegend": true,
         "textposition": "auto",
         "type": "bar",
         "x": [
          "GA"
         ],
         "xaxis": "x",
         "y": [
          50945.5
         ],
         "yaxis": "y"
        },
        {
         "alignmentgroup": "True",
         "hovertemplate": "State=%{x}<br>Energy Expenditures=%{y}<extra></extra>",
         "legendgroup": "HI",
         "marker": {
          "color": "#EF553B",
          "pattern": {
           "shape": ""
          }
         },
         "name": "HI",
         "offsetgroup": "HI",
         "orientation": "v",
         "showlegend": true,
         "textposition": "auto",
         "type": "bar",
         "x": [
          "HI"
         ],
         "xaxis": "x",
         "y": [
          9293.5
         ],
         "yaxis": "y"
        },
        {
         "alignmentgroup": "True",
         "hovertemplate": "State=%{x}<br>Energy Expenditures=%{y}<extra></extra>",
         "legendgroup": "IA",
         "marker": {
          "color": "#00cc96",
          "pattern": {
           "shape": ""
          }
         },
         "name": "IA",
         "offsetgroup": "IA",
         "orientation": "v",
         "showlegend": true,
         "textposition": "auto",
         "type": "bar",
         "x": [
          "IA"
         ],
         "xaxis": "x",
         "y": [
          22165.2
         ],
         "yaxis": "y"
        },
        {
         "alignmentgroup": "True",
         "hovertemplate": "State=%{x}<br>Energy Expenditures=%{y}<extra></extra>",
         "legendgroup": "ID",
         "marker": {
          "color": "#ab63fa",
          "pattern": {
           "shape": ""
          }
         },
         "name": "ID",
         "offsetgroup": "ID",
         "orientation": "v",
         "showlegend": true,
         "textposition": "auto",
         "type": "bar",
         "x": [
          "ID"
         ],
         "xaxis": "x",
         "y": [
          9809.3
         ],
         "yaxis": "y"
        },
        {
         "alignmentgroup": "True",
         "hovertemplate": "State=%{x}<br>Energy Expenditures=%{y}<extra></extra>",
         "legendgroup": "IL",
         "marker": {
          "color": "#FFA15A",
          "pattern": {
           "shape": ""
          }
         },
         "name": "IL",
         "offsetgroup": "IL",
         "orientation": "v",
         "showlegend": true,
         "textposition": "auto",
         "type": "bar",
         "x": [
          "IL"
         ],
         "xaxis": "x",
         "y": [
          60710.4
         ],
         "yaxis": "y"
        },
        {
         "alignmentgroup": "True",
         "hovertemplate": "State=%{x}<br>Energy Expenditures=%{y}<extra></extra>",
         "legendgroup": "IN",
         "marker": {
          "color": "#19d3f3",
          "pattern": {
           "shape": ""
          }
         },
         "name": "IN",
         "offsetgroup": "IN",
         "orientation": "v",
         "showlegend": true,
         "textposition": "auto",
         "type": "bar",
         "x": [
          "IN"
         ],
         "xaxis": "x",
         "y": [
          39627.5
         ],
         "yaxis": "y"
        },
        {
         "alignmentgroup": "True",
         "hovertemplate": "State=%{x}<br>Energy Expenditures=%{y}<extra></extra>",
         "legendgroup": "KS",
         "marker": {
          "color": "#FF6692",
          "pattern": {
           "shape": ""
          }
         },
         "name": "KS",
         "offsetgroup": "KS",
         "orientation": "v",
         "showlegend": true,
         "textposition": "auto",
         "type": "bar",
         "x": [
          "KS"
         ],
         "xaxis": "x",
         "y": [
          17246.2
         ],
         "yaxis": "y"
        },
        {
         "alignmentgroup": "True",
         "hovertemplate": "State=%{x}<br>Energy Expenditures=%{y}<extra></extra>",
         "legendgroup": "KY",
         "marker": {
          "color": "#B6E880",
          "pattern": {
           "shape": ""
          }
         },
         "name": "KY",
         "offsetgroup": "KY",
         "orientation": "v",
         "showlegend": true,
         "textposition": "auto",
         "type": "bar",
         "x": [
          "KY"
         ],
         "xaxis": "x",
         "y": [
          27349
         ],
         "yaxis": "y"
        },
        {
         "alignmentgroup": "True",
         "hovertemplate": "State=%{x}<br>Energy Expenditures=%{y}<extra></extra>",
         "legendgroup": "LA",
         "marker": {
          "color": "#FF97FF",
          "pattern": {
           "shape": ""
          }
         },
         "name": "LA",
         "offsetgroup": "LA",
         "orientation": "v",
         "showlegend": true,
         "textposition": "auto",
         "type": "bar",
         "x": [
          "LA"
         ],
         "xaxis": "x",
         "y": [
          44877.1
         ],
         "yaxis": "y"
        },
        {
         "alignmentgroup": "True",
         "hovertemplate": "State=%{x}<br>Energy Expenditures=%{y}<extra></extra>",
         "legendgroup": "MA",
         "marker": {
          "color": "#FECB52",
          "pattern": {
           "shape": ""
          }
         },
         "name": "MA",
         "offsetgroup": "MA",
         "orientation": "v",
         "showlegend": true,
         "textposition": "auto",
         "type": "bar",
         "x": [
          "MA"
         ],
         "xaxis": "x",
         "y": [
          33810.6
         ],
         "yaxis": "y"
        },
        {
         "alignmentgroup": "True",
         "hovertemplate": "State=%{x}<br>Energy Expenditures=%{y}<extra></extra>",
         "legendgroup": "MD",
         "marker": {
          "color": "#636efa",
          "pattern": {
           "shape": ""
          }
         },
         "name": "MD",
         "offsetgroup": "MD",
         "orientation": "v",
         "showlegend": true,
         "textposition": "auto",
         "type": "bar",
         "x": [
          "MD"
         ],
         "xaxis": "x",
         "y": [
          24773.3
         ],
         "yaxis": "y"
        },
        {
         "alignmentgroup": "True",
         "hovertemplate": "State=%{x}<br>Energy Expenditures=%{y}<extra></extra>",
         "legendgroup": "ME",
         "marker": {
          "color": "#EF553B",
          "pattern": {
           "shape": ""
          }
         },
         "name": "ME",
         "offsetgroup": "ME",
         "orientation": "v",
         "showlegend": true,
         "textposition": "auto",
         "type": "bar",
         "x": [
          "ME"
         ],
         "xaxis": "x",
         "y": [
          8347.4
         ],
         "yaxis": "y"
        },
        {
         "alignmentgroup": "True",
         "hovertemplate": "State=%{x}<br>Energy Expenditures=%{y}<extra></extra>",
         "legendgroup": "MI",
         "marker": {
          "color": "#00cc96",
          "pattern": {
           "shape": ""
          }
         },
         "name": "MI",
         "offsetgroup": "MI",
         "orientation": "v",
         "showlegend": true,
         "textposition": "auto",
         "type": "bar",
         "x": [
          "MI"
         ],
         "xaxis": "x",
         "y": [
          46032.4
         ],
         "yaxis": "y"
        },
        {
         "alignmentgroup": "True",
         "hovertemplate": "State=%{x}<br>Energy Expenditures=%{y}<extra></extra>",
         "legendgroup": "MN",
         "marker": {
          "color": "#ab63fa",
          "pattern": {
           "shape": ""
          }
         },
         "name": "MN",
         "offsetgroup": "MN",
         "orientation": "v",
         "showlegend": true,
         "textposition": "auto",
         "type": "bar",
         "x": [
          "MN"
         ],
         "xaxis": "x",
         "y": [
          29963.5
         ],
         "yaxis": "y"
        },
        {
         "alignmentgroup": "True",
         "hovertemplate": "State=%{x}<br>Energy Expenditures=%{y}<extra></extra>",
         "legendgroup": "MO",
         "marker": {
          "color": "#FFA15A",
          "pattern": {
           "shape": ""
          }
         },
         "name": "MO",
         "offsetgroup": "MO",
         "orientation": "v",
         "showlegend": true,
         "textposition": "auto",
         "type": "bar",
         "x": [
          "MO"
         ],
         "xaxis": "x",
         "y": [
          30585.9
         ],
         "yaxis": "y"
        },
        {
         "alignmentgroup": "True",
         "hovertemplate": "State=%{x}<br>Energy Expenditures=%{y}<extra></extra>",
         "legendgroup": "MS",
         "marker": {
          "color": "#19d3f3",
          "pattern": {
           "shape": ""
          }
         },
         "name": "MS",
         "offsetgroup": "MS",
         "orientation": "v",
         "showlegend": true,
         "textposition": "auto",
         "type": "bar",
         "x": [
          "MS"
         ],
         "xaxis": "x",
         "y": [
          17589.5
         ],
         "yaxis": "y"
        },
        {
         "alignmentgroup": "True",
         "hovertemplate": "State=%{x}<br>Energy Expenditures=%{y}<extra></extra>",
         "legendgroup": "MT",
         "marker": {
          "color": "#FF6692",
          "pattern": {
           "shape": ""
          }
         },
         "name": "MT",
         "offsetgroup": "MT",
         "orientation": "v",
         "showlegend": true,
         "textposition": "auto",
         "type": "bar",
         "x": [
          "MT"
         ],
         "xaxis": "x",
         "y": [
          7162
         ],
         "yaxis": "y"
        },
        {
         "alignmentgroup": "True",
         "hovertemplate": "State=%{x}<br>Energy Expenditures=%{y}<extra></extra>",
         "legendgroup": "NC",
         "marker": {
          "color": "#B6E880",
          "pattern": {
           "shape": ""
          }
         },
         "name": "NC",
         "offsetgroup": "NC",
         "orientation": "v",
         "showlegend": true,
         "textposition": "auto",
         "type": "bar",
         "x": [
          "NC"
         ],
         "xaxis": "x",
         "y": [
          46021.4
         ],
         "yaxis": "y"
        },
        {
         "alignmentgroup": "True",
         "hovertemplate": "State=%{x}<br>Energy Expenditures=%{y}<extra></extra>",
         "legendgroup": "ND",
         "marker": {
          "color": "#FF97FF",
          "pattern": {
           "shape": ""
          }
         },
         "name": "ND",
         "offsetgroup": "ND",
         "orientation": "v",
         "showlegend": true,
         "textposition": "auto",
         "type": "bar",
         "x": [
          "ND"
         ],
         "xaxis": "x",
         "y": [
          8184.3
         ],
         "yaxis": "y"
        },
        {
         "alignmentgroup": "True",
         "hovertemplate": "State=%{x}<br>Energy Expenditures=%{y}<extra></extra>",
         "legendgroup": "NE",
         "marker": {
          "color": "#FECB52",
          "pattern": {
           "shape": ""
          }
         },
         "name": "NE",
         "offsetgroup": "NE",
         "orientation": "v",
         "showlegend": true,
         "textposition": "auto",
         "type": "bar",
         "x": [
          "NE"
         ],
         "xaxis": "x",
         "y": [
          12714.3
         ],
         "yaxis": "y"
        },
        {
         "alignmentgroup": "True",
         "hovertemplate": "State=%{x}<br>Energy Expenditures=%{y}<extra></extra>",
         "legendgroup": "NH",
         "marker": {
          "color": "#636efa",
          "pattern": {
           "shape": ""
          }
         },
         "name": "NH",
         "offsetgroup": "NH",
         "orientation": "v",
         "showlegend": true,
         "textposition": "auto",
         "type": "bar",
         "x": [
          "NH"
         ],
         "xaxis": "x",
         "y": [
          7646.2
         ],
         "yaxis": "y"
        },
        {
         "alignmentgroup": "True",
         "hovertemplate": "State=%{x}<br>Energy Expenditures=%{y}<extra></extra>",
         "legendgroup": "NJ",
         "marker": {
          "color": "#EF553B",
          "pattern": {
           "shape": ""
          }
         },
         "name": "NJ",
         "offsetgroup": "NJ",
         "orientation": "v",
         "showlegend": true,
         "textposition": "auto",
         "type": "bar",
         "x": [
          "NJ"
         ],
         "xaxis": "x",
         "y": [
          40014.5
         ],
         "yaxis": "y"
        },
        {
         "alignmentgroup": "True",
         "hovertemplate": "State=%{x}<br>Energy Expenditures=%{y}<extra></extra>",
         "legendgroup": "NM",
         "marker": {
          "color": "#00cc96",
          "pattern": {
           "shape": ""
          }
         },
         "name": "NM",
         "offsetgroup": "NM",
         "orientation": "v",
         "showlegend": true,
         "textposition": "auto",
         "type": "bar",
         "x": [
          "NM"
         ],
         "xaxis": "x",
         "y": [
          11754.6
         ],
         "yaxis": "y"
        },
        {
         "alignmentgroup": "True",
         "hovertemplate": "State=%{x}<br>Energy Expenditures=%{y}<extra></extra>",
         "legendgroup": "NV",
         "marker": {
          "color": "#ab63fa",
          "pattern": {
           "shape": ""
          }
         },
         "name": "NV",
         "offsetgroup": "NV",
         "orientation": "v",
         "showlegend": true,
         "textposition": "auto",
         "type": "bar",
         "x": [
          "NV"
         ],
         "xaxis": "x",
         "y": [
          16151.6
         ],
         "yaxis": "y"
        },
        {
         "alignmentgroup": "True",
         "hovertemplate": "State=%{x}<br>Energy Expenditures=%{y}<extra></extra>",
         "legendgroup": "NY",
         "marker": {
          "color": "#FFA15A",
          "pattern": {
           "shape": ""
          }
         },
         "name": "NY",
         "offsetgroup": "NY",
         "orientation": "v",
         "showlegend": true,
         "textposition": "auto",
         "type": "bar",
         "x": [
          "NY"
         ],
         "xaxis": "x",
         "y": [
          80624.8
         ],
         "yaxis": "y"
        },
        {
         "alignmentgroup": "True",
         "hovertemplate": "State=%{x}<br>Energy Expenditures=%{y}<extra></extra>",
         "legendgroup": "OH",
         "marker": {
          "color": "#19d3f3",
          "pattern": {
           "shape": ""
          }
         },
         "name": "OH",
         "offsetgroup": "OH",
         "orientation": "v",
         "showlegend": true,
         "textposition": "auto",
         "type": "bar",
         "x": [
          "OH"
         ],
         "xaxis": "x",
         "y": [
          56787.3
         ],
         "yaxis": "y"
        },
        {
         "alignmentgroup": "True",
         "hovertemplate": "State=%{x}<br>Energy Expenditures=%{y}<extra></extra>",
         "legendgroup": "OK",
         "marker": {
          "color": "#FF6692",
          "pattern": {
           "shape": ""
          }
         },
         "name": "OK",
         "offsetgroup": "OK",
         "orientation": "v",
         "showlegend": true,
         "textposition": "auto",
         "type": "bar",
         "x": [
          "OK"
         ],
         "xaxis": "x",
         "y": [
          24645.2
         ],
         "yaxis": "y"
        },
        {
         "alignmentgroup": "True",
         "hovertemplate": "State=%{x}<br>Energy Expenditures=%{y}<extra></extra>",
         "legendgroup": "OR",
         "marker": {
          "color": "#B6E880",
          "pattern": {
           "shape": ""
          }
         },
         "name": "OR",
         "offsetgroup": "OR",
         "orientation": "v",
         "showlegend": true,
         "textposition": "auto",
         "type": "bar",
         "x": [
          "OR"
         ],
         "xaxis": "x",
         "y": [
          19474.1
         ],
         "yaxis": "y"
        },
        {
         "alignmentgroup": "True",
         "hovertemplate": "State=%{x}<br>Energy Expenditures=%{y}<extra></extra>",
         "legendgroup": "PA",
         "marker": {
          "color": "#FF97FF",
          "pattern": {
           "shape": ""
          }
         },
         "name": "PA",
         "offsetgroup": "PA",
         "orientation": "v",
         "showlegend": true,
         "textposition": "auto",
         "type": "bar",
         "x": [
          "PA"
         ],
         "xaxis": "x",
         "y": [
          62889.4
         ],
         "yaxis": "y"
        },
        {
         "alignmentgroup": "True",
         "hovertemplate": "State=%{x}<br>Energy Expenditures=%{y}<extra></extra>",
         "legendgroup": "RI",
         "marker": {
          "color": "#FECB52",
          "pattern": {
           "shape": ""
          }
         },
         "name": "RI",
         "offsetgroup": "RI",
         "orientation": "v",
         "showlegend": true,
         "textposition": "auto",
         "type": "bar",
         "x": [
          "RI"
         ],
         "xaxis": "x",
         "y": [
          4720.4
         ],
         "yaxis": "y"
        },
        {
         "alignmentgroup": "True",
         "hovertemplate": "State=%{x}<br>Energy Expenditures=%{y}<extra></extra>",
         "legendgroup": "SC",
         "marker": {
          "color": "#636efa",
          "pattern": {
           "shape": ""
          }
         },
         "name": "SC",
         "offsetgroup": "SC",
         "orientation": "v",
         "showlegend": true,
         "textposition": "auto",
         "type": "bar",
         "x": [
          "SC"
         ],
         "xaxis": "x",
         "y": [
          26170.3
         ],
         "yaxis": "y"
        },
        {
         "alignmentgroup": "True",
         "hovertemplate": "State=%{x}<br>Energy Expenditures=%{y}<extra></extra>",
         "legendgroup": "SD",
         "marker": {
          "color": "#EF553B",
          "pattern": {
           "shape": ""
          }
         },
         "name": "SD",
         "offsetgroup": "SD",
         "orientation": "v",
         "showlegend": true,
         "textposition": "auto",
         "type": "bar",
         "x": [
          "SD"
         ],
         "xaxis": "x",
         "y": [
          6059.8
         ],
         "yaxis": "y"
        },
        {
         "alignmentgroup": "True",
         "hovertemplate": "State=%{x}<br>Energy Expenditures=%{y}<extra></extra>",
         "legendgroup": "TN",
         "marker": {
          "color": "#00cc96",
          "pattern": {
           "shape": ""
          }
         },
         "name": "TN",
         "offsetgroup": "TN",
         "orientation": "v",
         "showlegend": true,
         "textposition": "auto",
         "type": "bar",
         "x": [
          "TN"
         ],
         "xaxis": "x",
         "y": [
          36356.8
         ],
         "yaxis": "y"
        },
        {
         "alignmentgroup": "True",
         "hovertemplate": "State=%{x}<br>Energy Expenditures=%{y}<extra></extra>",
         "legendgroup": "TX",
         "marker": {
          "color": "#ab63fa",
          "pattern": {
           "shape": ""
          }
         },
         "name": "TX",
         "offsetgroup": "TX",
         "orientation": "v",
         "showlegend": true,
         "textposition": "auto",
         "type": "bar",
         "x": [
          "TX"
         ],
         "xaxis": "x",
         "y": [
          202631.8
         ],
         "yaxis": "y"
        },
        {
         "alignmentgroup": "True",
         "hovertemplate": "State=%{x}<br>Energy Expenditures=%{y}<extra></extra>",
         "legendgroup": "UT",
         "marker": {
          "color": "#FFA15A",
          "pattern": {
           "shape": ""
          }
         },
         "name": "UT",
         "offsetgroup": "UT",
         "orientation": "v",
         "showlegend": true,
         "textposition": "auto",
         "type": "bar",
         "x": [
          "UT"
         ],
         "xaxis": "x",
         "y": [
          14880.6
         ],
         "yaxis": "y"
        },
        {
         "alignmentgroup": "True",
         "hovertemplate": "State=%{x}<br>Energy Expenditures=%{y}<extra></extra>",
         "legendgroup": "VA",
         "marker": {
          "color": "#19d3f3",
          "pattern": {
           "shape": ""
          }
         },
         "name": "VA",
         "offsetgroup": "VA",
         "orientation": "v",
         "showlegend": true,
         "textposition": "auto",
         "type": "bar",
         "x": [
          "VA"
         ],
         "xaxis": "x",
         "y": [
          42435.3
         ],
         "yaxis": "y"
        },
        {
         "alignmentgroup": "True",
         "hovertemplate": "State=%{x}<br>Energy Expenditures=%{y}<extra></extra>",
         "legendgroup": "VT",
         "marker": {
          "color": "#FF6692",
          "pattern": {
           "shape": ""
          }
         },
         "name": "VT",
         "offsetgroup": "VT",
         "orientation": "v",
         "showlegend": true,
         "textposition": "auto",
         "type": "bar",
         "x": [
          "VT"
         ],
         "xaxis": "x",
         "y": [
          3580.1
         ],
         "yaxis": "y"
        },
        {
         "alignmentgroup": "True",
         "hovertemplate": "State=%{x}<br>Energy Expenditures=%{y}<extra></extra>",
         "legendgroup": "WA",
         "marker": {
          "color": "#B6E880",
          "pattern": {
           "shape": ""
          }
         },
         "name": "WA",
         "offsetgroup": "WA",
         "orientation": "v",
         "showlegend": true,
         "textposition": "auto",
         "type": "bar",
         "x": [
          "WA"
         ],
         "xaxis": "x",
         "y": [
          34112.5
         ],
         "yaxis": "y"
        },
        {
         "alignmentgroup": "True",
         "hovertemplate": "State=%{x}<br>Energy Expenditures=%{y}<extra></extra>",
         "legendgroup": "WI",
         "marker": {
          "color": "#FF97FF",
          "pattern": {
           "shape": ""
          }
         },
         "name": "WI",
         "offsetgroup": "WI",
         "orientation": "v",
         "showlegend": true,
         "textposition": "auto",
         "type": "bar",
         "x": [
          "WI"
         ],
         "xaxis": "x",
         "y": [
          30555.5
         ],
         "yaxis": "y"
        },
        {
         "alignmentgroup": "True",
         "hovertemplate": "State=%{x}<br>Energy Expenditures=%{y}<extra></extra>",
         "legendgroup": "WV",
         "marker": {
          "color": "#FECB52",
          "pattern": {
           "shape": ""
          }
         },
         "name": "WV",
         "offsetgroup": "WV",
         "orientation": "v",
         "showlegend": true,
         "textposition": "auto",
         "type": "bar",
         "x": [
          "WV"
         ],
         "xaxis": "x",
         "y": [
          10873.2
         ],
         "yaxis": "y"
        },
        {
         "alignmentgroup": "True",
         "hovertemplate": "State=%{x}<br>Energy Expenditures=%{y}<extra></extra>",
         "legendgroup": "WY",
         "marker": {
          "color": "#636efa",
          "pattern": {
           "shape": ""
          }
         },
         "name": "WY",
         "offsetgroup": "WY",
         "orientation": "v",
         "showlegend": true,
         "textposition": "auto",
         "type": "bar",
         "x": [
          "WY"
         ],
         "xaxis": "x",
         "y": [
          6526.4
         ],
         "yaxis": "y"
        }
       ],
       "layout": {
        "barmode": "relative",
        "legend": {
         "title": {
          "text": "State"
         },
         "tracegroupgap": 0
        },
        "template": {
         "data": {
          "bar": [
           {
            "error_x": {
             "color": "#2a3f5f"
            },
            "error_y": {
             "color": "#2a3f5f"
            },
            "marker": {
             "line": {
              "color": "#E5ECF6",
              "width": 0.5
             },
             "pattern": {
              "fillmode": "overlay",
              "size": 10,
              "solidity": 0.2
             }
            },
            "type": "bar"
           }
          ],
          "barpolar": [
           {
            "marker": {
             "line": {
              "color": "#E5ECF6",
              "width": 0.5
             },
             "pattern": {
              "fillmode": "overlay",
              "size": 10,
              "solidity": 0.2
             }
            },
            "type": "barpolar"
           }
          ],
          "carpet": [
           {
            "aaxis": {
             "endlinecolor": "#2a3f5f",
             "gridcolor": "white",
             "linecolor": "white",
             "minorgridcolor": "white",
             "startlinecolor": "#2a3f5f"
            },
            "baxis": {
             "endlinecolor": "#2a3f5f",
             "gridcolor": "white",
             "linecolor": "white",
             "minorgridcolor": "white",
             "startlinecolor": "#2a3f5f"
            },
            "type": "carpet"
           }
          ],
          "choropleth": [
           {
            "colorbar": {
             "outlinewidth": 0,
             "ticks": ""
            },
            "type": "choropleth"
           }
          ],
          "contour": [
           {
            "colorbar": {
             "outlinewidth": 0,
             "ticks": ""
            },
            "colorscale": [
             [
              0,
              "#0d0887"
             ],
             [
              0.1111111111111111,
              "#46039f"
             ],
             [
              0.2222222222222222,
              "#7201a8"
             ],
             [
              0.3333333333333333,
              "#9c179e"
             ],
             [
              0.4444444444444444,
              "#bd3786"
             ],
             [
              0.5555555555555556,
              "#d8576b"
             ],
             [
              0.6666666666666666,
              "#ed7953"
             ],
             [
              0.7777777777777778,
              "#fb9f3a"
             ],
             [
              0.8888888888888888,
              "#fdca26"
             ],
             [
              1,
              "#f0f921"
             ]
            ],
            "type": "contour"
           }
          ],
          "contourcarpet": [
           {
            "colorbar": {
             "outlinewidth": 0,
             "ticks": ""
            },
            "type": "contourcarpet"
           }
          ],
          "heatmap": [
           {
            "colorbar": {
             "outlinewidth": 0,
             "ticks": ""
            },
            "colorscale": [
             [
              0,
              "#0d0887"
             ],
             [
              0.1111111111111111,
              "#46039f"
             ],
             [
              0.2222222222222222,
              "#7201a8"
             ],
             [
              0.3333333333333333,
              "#9c179e"
             ],
             [
              0.4444444444444444,
              "#bd3786"
             ],
             [
              0.5555555555555556,
              "#d8576b"
             ],
             [
              0.6666666666666666,
              "#ed7953"
             ],
             [
              0.7777777777777778,
              "#fb9f3a"
             ],
             [
              0.8888888888888888,
              "#fdca26"
             ],
             [
              1,
              "#f0f921"
             ]
            ],
            "type": "heatmap"
           }
          ],
          "heatmapgl": [
           {
            "colorbar": {
             "outlinewidth": 0,
             "ticks": ""
            },
            "colorscale": [
             [
              0,
              "#0d0887"
             ],
             [
              0.1111111111111111,
              "#46039f"
             ],
             [
              0.2222222222222222,
              "#7201a8"
             ],
             [
              0.3333333333333333,
              "#9c179e"
             ],
             [
              0.4444444444444444,
              "#bd3786"
             ],
             [
              0.5555555555555556,
              "#d8576b"
             ],
             [
              0.6666666666666666,
              "#ed7953"
             ],
             [
              0.7777777777777778,
              "#fb9f3a"
             ],
             [
              0.8888888888888888,
              "#fdca26"
             ],
             [
              1,
              "#f0f921"
             ]
            ],
            "type": "heatmapgl"
           }
          ],
          "histogram": [
           {
            "marker": {
             "pattern": {
              "fillmode": "overlay",
              "size": 10,
              "solidity": 0.2
             }
            },
            "type": "histogram"
           }
          ],
          "histogram2d": [
           {
            "colorbar": {
             "outlinewidth": 0,
             "ticks": ""
            },
            "colorscale": [
             [
              0,
              "#0d0887"
             ],
             [
              0.1111111111111111,
              "#46039f"
             ],
             [
              0.2222222222222222,
              "#7201a8"
             ],
             [
              0.3333333333333333,
              "#9c179e"
             ],
             [
              0.4444444444444444,
              "#bd3786"
             ],
             [
              0.5555555555555556,
              "#d8576b"
             ],
             [
              0.6666666666666666,
              "#ed7953"
             ],
             [
              0.7777777777777778,
              "#fb9f3a"
             ],
             [
              0.8888888888888888,
              "#fdca26"
             ],
             [
              1,
              "#f0f921"
             ]
            ],
            "type": "histogram2d"
           }
          ],
          "histogram2dcontour": [
           {
            "colorbar": {
             "outlinewidth": 0,
             "ticks": ""
            },
            "colorscale": [
             [
              0,
              "#0d0887"
             ],
             [
              0.1111111111111111,
              "#46039f"
             ],
             [
              0.2222222222222222,
              "#7201a8"
             ],
             [
              0.3333333333333333,
              "#9c179e"
             ],
             [
              0.4444444444444444,
              "#bd3786"
             ],
             [
              0.5555555555555556,
              "#d8576b"
             ],
             [
              0.6666666666666666,
              "#ed7953"
             ],
             [
              0.7777777777777778,
              "#fb9f3a"
             ],
             [
              0.8888888888888888,
              "#fdca26"
             ],
             [
              1,
              "#f0f921"
             ]
            ],
            "type": "histogram2dcontour"
           }
          ],
          "mesh3d": [
           {
            "colorbar": {
             "outlinewidth": 0,
             "ticks": ""
            },
            "type": "mesh3d"
           }
          ],
          "parcoords": [
           {
            "line": {
             "colorbar": {
              "outlinewidth": 0,
              "ticks": ""
             }
            },
            "type": "parcoords"
           }
          ],
          "pie": [
           {
            "automargin": true,
            "type": "pie"
           }
          ],
          "scatter": [
           {
            "fillpattern": {
             "fillmode": "overlay",
             "size": 10,
             "solidity": 0.2
            },
            "type": "scatter"
           }
          ],
          "scatter3d": [
           {
            "line": {
             "colorbar": {
              "outlinewidth": 0,
              "ticks": ""
             }
            },
            "marker": {
             "colorbar": {
              "outlinewidth": 0,
              "ticks": ""
             }
            },
            "type": "scatter3d"
           }
          ],
          "scattercarpet": [
           {
            "marker": {
             "colorbar": {
              "outlinewidth": 0,
              "ticks": ""
             }
            },
            "type": "scattercarpet"
           }
          ],
          "scattergeo": [
           {
            "marker": {
             "colorbar": {
              "outlinewidth": 0,
              "ticks": ""
             }
            },
            "type": "scattergeo"
           }
          ],
          "scattergl": [
           {
            "marker": {
             "colorbar": {
              "outlinewidth": 0,
              "ticks": ""
             }
            },
            "type": "scattergl"
           }
          ],
          "scattermapbox": [
           {
            "marker": {
             "colorbar": {
              "outlinewidth": 0,
              "ticks": ""
             }
            },
            "type": "scattermapbox"
           }
          ],
          "scatterpolar": [
           {
            "marker": {
             "colorbar": {
              "outlinewidth": 0,
              "ticks": ""
             }
            },
            "type": "scatterpolar"
           }
          ],
          "scatterpolargl": [
           {
            "marker": {
             "colorbar": {
              "outlinewidth": 0,
              "ticks": ""
             }
            },
            "type": "scatterpolargl"
           }
          ],
          "scatterternary": [
           {
            "marker": {
             "colorbar": {
              "outlinewidth": 0,
              "ticks": ""
             }
            },
            "type": "scatterternary"
           }
          ],
          "surface": [
           {
            "colorbar": {
             "outlinewidth": 0,
             "ticks": ""
            },
            "colorscale": [
             [
              0,
              "#0d0887"
             ],
             [
              0.1111111111111111,
              "#46039f"
             ],
             [
              0.2222222222222222,
              "#7201a8"
             ],
             [
              0.3333333333333333,
              "#9c179e"
             ],
             [
              0.4444444444444444,
              "#bd3786"
             ],
             [
              0.5555555555555556,
              "#d8576b"
             ],
             [
              0.6666666666666666,
              "#ed7953"
             ],
             [
              0.7777777777777778,
              "#fb9f3a"
             ],
             [
              0.8888888888888888,
              "#fdca26"
             ],
             [
              1,
              "#f0f921"
             ]
            ],
            "type": "surface"
           }
          ],
          "table": [
           {
            "cells": {
             "fill": {
              "color": "#EBF0F8"
             },
             "line": {
              "color": "white"
             }
            },
            "header": {
             "fill": {
              "color": "#C8D4E3"
             },
             "line": {
              "color": "white"
             }
            },
            "type": "table"
           }
          ]
         },
         "layout": {
          "annotationdefaults": {
           "arrowcolor": "#2a3f5f",
           "arrowhead": 0,
           "arrowwidth": 1
          },
          "autotypenumbers": "strict",
          "coloraxis": {
           "colorbar": {
            "outlinewidth": 0,
            "ticks": ""
           }
          },
          "colorscale": {
           "diverging": [
            [
             0,
             "#8e0152"
            ],
            [
             0.1,
             "#c51b7d"
            ],
            [
             0.2,
             "#de77ae"
            ],
            [
             0.3,
             "#f1b6da"
            ],
            [
             0.4,
             "#fde0ef"
            ],
            [
             0.5,
             "#f7f7f7"
            ],
            [
             0.6,
             "#e6f5d0"
            ],
            [
             0.7,
             "#b8e186"
            ],
            [
             0.8,
             "#7fbc41"
            ],
            [
             0.9,
             "#4d9221"
            ],
            [
             1,
             "#276419"
            ]
           ],
           "sequential": [
            [
             0,
             "#0d0887"
            ],
            [
             0.1111111111111111,
             "#46039f"
            ],
            [
             0.2222222222222222,
             "#7201a8"
            ],
            [
             0.3333333333333333,
             "#9c179e"
            ],
            [
             0.4444444444444444,
             "#bd3786"
            ],
            [
             0.5555555555555556,
             "#d8576b"
            ],
            [
             0.6666666666666666,
             "#ed7953"
            ],
            [
             0.7777777777777778,
             "#fb9f3a"
            ],
            [
             0.8888888888888888,
             "#fdca26"
            ],
            [
             1,
             "#f0f921"
            ]
           ],
           "sequentialminus": [
            [
             0,
             "#0d0887"
            ],
            [
             0.1111111111111111,
             "#46039f"
            ],
            [
             0.2222222222222222,
             "#7201a8"
            ],
            [
             0.3333333333333333,
             "#9c179e"
            ],
            [
             0.4444444444444444,
             "#bd3786"
            ],
            [
             0.5555555555555556,
             "#d8576b"
            ],
            [
             0.6666666666666666,
             "#ed7953"
            ],
            [
             0.7777777777777778,
             "#fb9f3a"
            ],
            [
             0.8888888888888888,
             "#fdca26"
            ],
            [
             1,
             "#f0f921"
            ]
           ]
          },
          "colorway": [
           "#636efa",
           "#EF553B",
           "#00cc96",
           "#ab63fa",
           "#FFA15A",
           "#19d3f3",
           "#FF6692",
           "#B6E880",
           "#FF97FF",
           "#FECB52"
          ],
          "font": {
           "color": "#2a3f5f"
          },
          "geo": {
           "bgcolor": "white",
           "lakecolor": "white",
           "landcolor": "#E5ECF6",
           "showlakes": true,
           "showland": true,
           "subunitcolor": "white"
          },
          "hoverlabel": {
           "align": "left"
          },
          "hovermode": "closest",
          "mapbox": {
           "style": "light"
          },
          "paper_bgcolor": "white",
          "plot_bgcolor": "#E5ECF6",
          "polar": {
           "angularaxis": {
            "gridcolor": "white",
            "linecolor": "white",
            "ticks": ""
           },
           "bgcolor": "#E5ECF6",
           "radialaxis": {
            "gridcolor": "white",
            "linecolor": "white",
            "ticks": ""
           }
          },
          "scene": {
           "xaxis": {
            "backgroundcolor": "#E5ECF6",
            "gridcolor": "white",
            "gridwidth": 2,
            "linecolor": "white",
            "showbackground": true,
            "ticks": "",
            "zerolinecolor": "white"
           },
           "yaxis": {
            "backgroundcolor": "#E5ECF6",
            "gridcolor": "white",
            "gridwidth": 2,
            "linecolor": "white",
            "showbackground": true,
            "ticks": "",
            "zerolinecolor": "white"
           },
           "zaxis": {
            "backgroundcolor": "#E5ECF6",
            "gridcolor": "white",
            "gridwidth": 2,
            "linecolor": "white",
            "showbackground": true,
            "ticks": "",
            "zerolinecolor": "white"
           }
          },
          "shapedefaults": {
           "line": {
            "color": "#2a3f5f"
           }
          },
          "ternary": {
           "aaxis": {
            "gridcolor": "white",
            "linecolor": "white",
            "ticks": ""
           },
           "baxis": {
            "gridcolor": "white",
            "linecolor": "white",
            "ticks": ""
           },
           "bgcolor": "#E5ECF6",
           "caxis": {
            "gridcolor": "white",
            "linecolor": "white",
            "ticks": ""
           }
          },
          "title": {
           "x": 0.05
          },
          "xaxis": {
           "automargin": true,
           "gridcolor": "white",
           "linecolor": "white",
           "ticks": "",
           "title": {
            "standoff": 15
           },
           "zerolinecolor": "white",
           "zerolinewidth": 2
          },
          "yaxis": {
           "automargin": true,
           "gridcolor": "white",
           "linecolor": "white",
           "ticks": "",
           "title": {
            "standoff": 15
           },
           "zerolinecolor": "white",
           "zerolinewidth": 2
          }
         }
        },
        "title": {
         "text": "Energy Expenditures by State in 2022"
        },
        "xaxis": {
         "anchor": "y",
         "categoryarray": [
          "AK",
          "AL",
          "AR",
          "AZ",
          "CA",
          "CO",
          "CT",
          "DC",
          "DE",
          "FL",
          "GA",
          "HI",
          "IA",
          "ID",
          "IL",
          "IN",
          "KS",
          "KY",
          "LA",
          "MA",
          "MD",
          "ME",
          "MI",
          "MN",
          "MO",
          "MS",
          "MT",
          "NC",
          "ND",
          "NE",
          "NH",
          "NJ",
          "NM",
          "NV",
          "NY",
          "OH",
          "OK",
          "OR",
          "PA",
          "RI",
          "SC",
          "SD",
          "TN",
          "TX",
          "UT",
          "VA",
          "VT",
          "WA",
          "WI",
          "WV",
          "WY"
         ],
         "categoryorder": "array",
         "domain": [
          0,
          1
         ],
         "title": {
          "text": "State"
         }
        },
        "yaxis": {
         "anchor": "x",
         "domain": [
          0,
          1
         ],
         "title": {
          "text": "Energy Expenditures"
         }
        }
       }
      },
      "text/html": [
       "<div>                            <div id=\"c5c259ed-8cde-4a7d-83b1-e877b003564c\" class=\"plotly-graph-div\" style=\"height:525px; width:100%;\"></div>            <script type=\"text/javascript\">                require([\"plotly\"], function(Plotly) {                    window.PLOTLYENV=window.PLOTLYENV || {};                                    if (document.getElementById(\"c5c259ed-8cde-4a7d-83b1-e877b003564c\")) {                    Plotly.newPlot(                        \"c5c259ed-8cde-4a7d-83b1-e877b003564c\",                        [{\"alignmentgroup\":\"True\",\"hovertemplate\":\"State=%{x}\\u003cbr\\u003eEnergy Expenditures=%{y}\\u003cextra\\u003e\\u003c\\u002fextra\\u003e\",\"legendgroup\":\"AK\",\"marker\":{\"color\":\"#636efa\",\"pattern\":{\"shape\":\"\"}},\"name\":\"AK\",\"offsetgroup\":\"AK\",\"orientation\":\"v\",\"showlegend\":true,\"textposition\":\"auto\",\"x\":[\"AK\"],\"xaxis\":\"x\",\"y\":[9569.8],\"yaxis\":\"y\",\"type\":\"bar\"},{\"alignmentgroup\":\"True\",\"hovertemplate\":\"State=%{x}\\u003cbr\\u003eEnergy Expenditures=%{y}\\u003cextra\\u003e\\u003c\\u002fextra\\u003e\",\"legendgroup\":\"AL\",\"marker\":{\"color\":\"#EF553B\",\"pattern\":{\"shape\":\"\"}},\"name\":\"AL\",\"offsetgroup\":\"AL\",\"orientation\":\"v\",\"showlegend\":true,\"textposition\":\"auto\",\"x\":[\"AL\"],\"xaxis\":\"x\",\"y\":[30999.8],\"yaxis\":\"y\",\"type\":\"bar\"},{\"alignmentgroup\":\"True\",\"hovertemplate\":\"State=%{x}\\u003cbr\\u003eEnergy Expenditures=%{y}\\u003cextra\\u003e\\u003c\\u002fextra\\u003e\",\"legendgroup\":\"AR\",\"marker\":{\"color\":\"#00cc96\",\"pattern\":{\"shape\":\"\"}},\"name\":\"AR\",\"offsetgroup\":\"AR\",\"orientation\":\"v\",\"showlegend\":true,\"textposition\":\"auto\",\"x\":[\"AR\"],\"xaxis\":\"x\",\"y\":[17391.8],\"yaxis\":\"y\",\"type\":\"bar\"},{\"alignmentgroup\":\"True\",\"hovertemplate\":\"State=%{x}\\u003cbr\\u003eEnergy Expenditures=%{y}\\u003cextra\\u003e\\u003c\\u002fextra\\u003e\",\"legendgroup\":\"AZ\",\"marker\":{\"color\":\"#ab63fa\",\"pattern\":{\"shape\":\"\"}},\"name\":\"AZ\",\"offsetgroup\":\"AZ\",\"orientation\":\"v\",\"showlegend\":true,\"textposition\":\"auto\",\"x\":[\"AZ\"],\"xaxis\":\"x\",\"y\":[32960.9],\"yaxis\":\"y\",\"type\":\"bar\"},{\"alignmentgroup\":\"True\",\"hovertemplate\":\"State=%{x}\\u003cbr\\u003eEnergy Expenditures=%{y}\\u003cextra\\u003e\\u003c\\u002fextra\\u003e\",\"legendgroup\":\"CA\",\"marker\":{\"color\":\"#FFA15A\",\"pattern\":{\"shape\":\"\"}},\"name\":\"CA\",\"offsetgroup\":\"CA\",\"orientation\":\"v\",\"showlegend\":true,\"textposition\":\"auto\",\"x\":[\"CA\"],\"xaxis\":\"x\",\"y\":[200007.5],\"yaxis\":\"y\",\"type\":\"bar\"},{\"alignmentgroup\":\"True\",\"hovertemplate\":\"State=%{x}\\u003cbr\\u003eEnergy Expenditures=%{y}\\u003cextra\\u003e\\u003c\\u002fextra\\u003e\",\"legendgroup\":\"CO\",\"marker\":{\"color\":\"#19d3f3\",\"pattern\":{\"shape\":\"\"}},\"name\":\"CO\",\"offsetgroup\":\"CO\",\"orientation\":\"v\",\"showlegend\":true,\"textposition\":\"auto\",\"x\":[\"CO\"],\"xaxis\":\"x\",\"y\":[28371.1],\"yaxis\":\"y\",\"type\":\"bar\"},{\"alignmentgroup\":\"True\",\"hovertemplate\":\"State=%{x}\\u003cbr\\u003eEnergy Expenditures=%{y}\\u003cextra\\u003e\\u003c\\u002fextra\\u003e\",\"legendgroup\":\"CT\",\"marker\":{\"color\":\"#FF6692\",\"pattern\":{\"shape\":\"\"}},\"name\":\"CT\",\"offsetgroup\":\"CT\",\"orientation\":\"v\",\"showlegend\":true,\"textposition\":\"auto\",\"x\":[\"CT\"],\"xaxis\":\"x\",\"y\":[18123.7],\"yaxis\":\"y\",\"type\":\"bar\"},{\"alignmentgroup\":\"True\",\"hovertemplate\":\"State=%{x}\\u003cbr\\u003eEnergy Expenditures=%{y}\\u003cextra\\u003e\\u003c\\u002fextra\\u003e\",\"legendgroup\":\"DC\",\"marker\":{\"color\":\"#B6E880\",\"pattern\":{\"shape\":\"\"}},\"name\":\"DC\",\"offsetgroup\":\"DC\",\"orientation\":\"v\",\"showlegend\":true,\"textposition\":\"auto\",\"x\":[\"DC\"],\"xaxis\":\"x\",\"y\":[2574.2],\"yaxis\":\"y\",\"type\":\"bar\"},{\"alignmentgroup\":\"True\",\"hovertemplate\":\"State=%{x}\\u003cbr\\u003eEnergy Expenditures=%{y}\\u003cextra\\u003e\\u003c\\u002fextra\\u003e\",\"legendgroup\":\"DE\",\"marker\":{\"color\":\"#FF97FF\",\"pattern\":{\"shape\":\"\"}},\"name\":\"DE\",\"offsetgroup\":\"DE\",\"orientation\":\"v\",\"showlegend\":true,\"textposition\":\"auto\",\"x\":[\"DE\"],\"xaxis\":\"x\",\"y\":[4816.8],\"yaxis\":\"y\",\"type\":\"bar\"},{\"alignmentgroup\":\"True\",\"hovertemplate\":\"State=%{x}\\u003cbr\\u003eEnergy Expenditures=%{y}\\u003cextra\\u003e\\u003c\\u002fextra\\u003e\",\"legendgroup\":\"FL\",\"marker\":{\"color\":\"#FECB52\",\"pattern\":{\"shape\":\"\"}},\"name\":\"FL\",\"offsetgroup\":\"FL\",\"orientation\":\"v\",\"showlegend\":true,\"textposition\":\"auto\",\"x\":[\"FL\"],\"xaxis\":\"x\",\"y\":[89282.3],\"yaxis\":\"y\",\"type\":\"bar\"},{\"alignmentgroup\":\"True\",\"hovertemplate\":\"State=%{x}\\u003cbr\\u003eEnergy Expenditures=%{y}\\u003cextra\\u003e\\u003c\\u002fextra\\u003e\",\"legendgroup\":\"GA\",\"marker\":{\"color\":\"#636efa\",\"pattern\":{\"shape\":\"\"}},\"name\":\"GA\",\"offsetgroup\":\"GA\",\"orientation\":\"v\",\"showlegend\":true,\"textposition\":\"auto\",\"x\":[\"GA\"],\"xaxis\":\"x\",\"y\":[50945.5],\"yaxis\":\"y\",\"type\":\"bar\"},{\"alignmentgroup\":\"True\",\"hovertemplate\":\"State=%{x}\\u003cbr\\u003eEnergy Expenditures=%{y}\\u003cextra\\u003e\\u003c\\u002fextra\\u003e\",\"legendgroup\":\"HI\",\"marker\":{\"color\":\"#EF553B\",\"pattern\":{\"shape\":\"\"}},\"name\":\"HI\",\"offsetgroup\":\"HI\",\"orientation\":\"v\",\"showlegend\":true,\"textposition\":\"auto\",\"x\":[\"HI\"],\"xaxis\":\"x\",\"y\":[9293.5],\"yaxis\":\"y\",\"type\":\"bar\"},{\"alignmentgroup\":\"True\",\"hovertemplate\":\"State=%{x}\\u003cbr\\u003eEnergy Expenditures=%{y}\\u003cextra\\u003e\\u003c\\u002fextra\\u003e\",\"legendgroup\":\"IA\",\"marker\":{\"color\":\"#00cc96\",\"pattern\":{\"shape\":\"\"}},\"name\":\"IA\",\"offsetgroup\":\"IA\",\"orientation\":\"v\",\"showlegend\":true,\"textposition\":\"auto\",\"x\":[\"IA\"],\"xaxis\":\"x\",\"y\":[22165.2],\"yaxis\":\"y\",\"type\":\"bar\"},{\"alignmentgroup\":\"True\",\"hovertemplate\":\"State=%{x}\\u003cbr\\u003eEnergy Expenditures=%{y}\\u003cextra\\u003e\\u003c\\u002fextra\\u003e\",\"legendgroup\":\"ID\",\"marker\":{\"color\":\"#ab63fa\",\"pattern\":{\"shape\":\"\"}},\"name\":\"ID\",\"offsetgroup\":\"ID\",\"orientation\":\"v\",\"showlegend\":true,\"textposition\":\"auto\",\"x\":[\"ID\"],\"xaxis\":\"x\",\"y\":[9809.3],\"yaxis\":\"y\",\"type\":\"bar\"},{\"alignmentgroup\":\"True\",\"hovertemplate\":\"State=%{x}\\u003cbr\\u003eEnergy Expenditures=%{y}\\u003cextra\\u003e\\u003c\\u002fextra\\u003e\",\"legendgroup\":\"IL\",\"marker\":{\"color\":\"#FFA15A\",\"pattern\":{\"shape\":\"\"}},\"name\":\"IL\",\"offsetgroup\":\"IL\",\"orientation\":\"v\",\"showlegend\":true,\"textposition\":\"auto\",\"x\":[\"IL\"],\"xaxis\":\"x\",\"y\":[60710.4],\"yaxis\":\"y\",\"type\":\"bar\"},{\"alignmentgroup\":\"True\",\"hovertemplate\":\"State=%{x}\\u003cbr\\u003eEnergy Expenditures=%{y}\\u003cextra\\u003e\\u003c\\u002fextra\\u003e\",\"legendgroup\":\"IN\",\"marker\":{\"color\":\"#19d3f3\",\"pattern\":{\"shape\":\"\"}},\"name\":\"IN\",\"offsetgroup\":\"IN\",\"orientation\":\"v\",\"showlegend\":true,\"textposition\":\"auto\",\"x\":[\"IN\"],\"xaxis\":\"x\",\"y\":[39627.5],\"yaxis\":\"y\",\"type\":\"bar\"},{\"alignmentgroup\":\"True\",\"hovertemplate\":\"State=%{x}\\u003cbr\\u003eEnergy Expenditures=%{y}\\u003cextra\\u003e\\u003c\\u002fextra\\u003e\",\"legendgroup\":\"KS\",\"marker\":{\"color\":\"#FF6692\",\"pattern\":{\"shape\":\"\"}},\"name\":\"KS\",\"offsetgroup\":\"KS\",\"orientation\":\"v\",\"showlegend\":true,\"textposition\":\"auto\",\"x\":[\"KS\"],\"xaxis\":\"x\",\"y\":[17246.2],\"yaxis\":\"y\",\"type\":\"bar\"},{\"alignmentgroup\":\"True\",\"hovertemplate\":\"State=%{x}\\u003cbr\\u003eEnergy Expenditures=%{y}\\u003cextra\\u003e\\u003c\\u002fextra\\u003e\",\"legendgroup\":\"KY\",\"marker\":{\"color\":\"#B6E880\",\"pattern\":{\"shape\":\"\"}},\"name\":\"KY\",\"offsetgroup\":\"KY\",\"orientation\":\"v\",\"showlegend\":true,\"textposition\":\"auto\",\"x\":[\"KY\"],\"xaxis\":\"x\",\"y\":[27349.0],\"yaxis\":\"y\",\"type\":\"bar\"},{\"alignmentgroup\":\"True\",\"hovertemplate\":\"State=%{x}\\u003cbr\\u003eEnergy Expenditures=%{y}\\u003cextra\\u003e\\u003c\\u002fextra\\u003e\",\"legendgroup\":\"LA\",\"marker\":{\"color\":\"#FF97FF\",\"pattern\":{\"shape\":\"\"}},\"name\":\"LA\",\"offsetgroup\":\"LA\",\"orientation\":\"v\",\"showlegend\":true,\"textposition\":\"auto\",\"x\":[\"LA\"],\"xaxis\":\"x\",\"y\":[44877.1],\"yaxis\":\"y\",\"type\":\"bar\"},{\"alignmentgroup\":\"True\",\"hovertemplate\":\"State=%{x}\\u003cbr\\u003eEnergy Expenditures=%{y}\\u003cextra\\u003e\\u003c\\u002fextra\\u003e\",\"legendgroup\":\"MA\",\"marker\":{\"color\":\"#FECB52\",\"pattern\":{\"shape\":\"\"}},\"name\":\"MA\",\"offsetgroup\":\"MA\",\"orientation\":\"v\",\"showlegend\":true,\"textposition\":\"auto\",\"x\":[\"MA\"],\"xaxis\":\"x\",\"y\":[33810.6],\"yaxis\":\"y\",\"type\":\"bar\"},{\"alignmentgroup\":\"True\",\"hovertemplate\":\"State=%{x}\\u003cbr\\u003eEnergy Expenditures=%{y}\\u003cextra\\u003e\\u003c\\u002fextra\\u003e\",\"legendgroup\":\"MD\",\"marker\":{\"color\":\"#636efa\",\"pattern\":{\"shape\":\"\"}},\"name\":\"MD\",\"offsetgroup\":\"MD\",\"orientation\":\"v\",\"showlegend\":true,\"textposition\":\"auto\",\"x\":[\"MD\"],\"xaxis\":\"x\",\"y\":[24773.3],\"yaxis\":\"y\",\"type\":\"bar\"},{\"alignmentgroup\":\"True\",\"hovertemplate\":\"State=%{x}\\u003cbr\\u003eEnergy Expenditures=%{y}\\u003cextra\\u003e\\u003c\\u002fextra\\u003e\",\"legendgroup\":\"ME\",\"marker\":{\"color\":\"#EF553B\",\"pattern\":{\"shape\":\"\"}},\"name\":\"ME\",\"offsetgroup\":\"ME\",\"orientation\":\"v\",\"showlegend\":true,\"textposition\":\"auto\",\"x\":[\"ME\"],\"xaxis\":\"x\",\"y\":[8347.4],\"yaxis\":\"y\",\"type\":\"bar\"},{\"alignmentgroup\":\"True\",\"hovertemplate\":\"State=%{x}\\u003cbr\\u003eEnergy Expenditures=%{y}\\u003cextra\\u003e\\u003c\\u002fextra\\u003e\",\"legendgroup\":\"MI\",\"marker\":{\"color\":\"#00cc96\",\"pattern\":{\"shape\":\"\"}},\"name\":\"MI\",\"offsetgroup\":\"MI\",\"orientation\":\"v\",\"showlegend\":true,\"textposition\":\"auto\",\"x\":[\"MI\"],\"xaxis\":\"x\",\"y\":[46032.4],\"yaxis\":\"y\",\"type\":\"bar\"},{\"alignmentgroup\":\"True\",\"hovertemplate\":\"State=%{x}\\u003cbr\\u003eEnergy Expenditures=%{y}\\u003cextra\\u003e\\u003c\\u002fextra\\u003e\",\"legendgroup\":\"MN\",\"marker\":{\"color\":\"#ab63fa\",\"pattern\":{\"shape\":\"\"}},\"name\":\"MN\",\"offsetgroup\":\"MN\",\"orientation\":\"v\",\"showlegend\":true,\"textposition\":\"auto\",\"x\":[\"MN\"],\"xaxis\":\"x\",\"y\":[29963.5],\"yaxis\":\"y\",\"type\":\"bar\"},{\"alignmentgroup\":\"True\",\"hovertemplate\":\"State=%{x}\\u003cbr\\u003eEnergy Expenditures=%{y}\\u003cextra\\u003e\\u003c\\u002fextra\\u003e\",\"legendgroup\":\"MO\",\"marker\":{\"color\":\"#FFA15A\",\"pattern\":{\"shape\":\"\"}},\"name\":\"MO\",\"offsetgroup\":\"MO\",\"orientation\":\"v\",\"showlegend\":true,\"textposition\":\"auto\",\"x\":[\"MO\"],\"xaxis\":\"x\",\"y\":[30585.9],\"yaxis\":\"y\",\"type\":\"bar\"},{\"alignmentgroup\":\"True\",\"hovertemplate\":\"State=%{x}\\u003cbr\\u003eEnergy Expenditures=%{y}\\u003cextra\\u003e\\u003c\\u002fextra\\u003e\",\"legendgroup\":\"MS\",\"marker\":{\"color\":\"#19d3f3\",\"pattern\":{\"shape\":\"\"}},\"name\":\"MS\",\"offsetgroup\":\"MS\",\"orientation\":\"v\",\"showlegend\":true,\"textposition\":\"auto\",\"x\":[\"MS\"],\"xaxis\":\"x\",\"y\":[17589.5],\"yaxis\":\"y\",\"type\":\"bar\"},{\"alignmentgroup\":\"True\",\"hovertemplate\":\"State=%{x}\\u003cbr\\u003eEnergy Expenditures=%{y}\\u003cextra\\u003e\\u003c\\u002fextra\\u003e\",\"legendgroup\":\"MT\",\"marker\":{\"color\":\"#FF6692\",\"pattern\":{\"shape\":\"\"}},\"name\":\"MT\",\"offsetgroup\":\"MT\",\"orientation\":\"v\",\"showlegend\":true,\"textposition\":\"auto\",\"x\":[\"MT\"],\"xaxis\":\"x\",\"y\":[7162.0],\"yaxis\":\"y\",\"type\":\"bar\"},{\"alignmentgroup\":\"True\",\"hovertemplate\":\"State=%{x}\\u003cbr\\u003eEnergy Expenditures=%{y}\\u003cextra\\u003e\\u003c\\u002fextra\\u003e\",\"legendgroup\":\"NC\",\"marker\":{\"color\":\"#B6E880\",\"pattern\":{\"shape\":\"\"}},\"name\":\"NC\",\"offsetgroup\":\"NC\",\"orientation\":\"v\",\"showlegend\":true,\"textposition\":\"auto\",\"x\":[\"NC\"],\"xaxis\":\"x\",\"y\":[46021.4],\"yaxis\":\"y\",\"type\":\"bar\"},{\"alignmentgroup\":\"True\",\"hovertemplate\":\"State=%{x}\\u003cbr\\u003eEnergy Expenditures=%{y}\\u003cextra\\u003e\\u003c\\u002fextra\\u003e\",\"legendgroup\":\"ND\",\"marker\":{\"color\":\"#FF97FF\",\"pattern\":{\"shape\":\"\"}},\"name\":\"ND\",\"offsetgroup\":\"ND\",\"orientation\":\"v\",\"showlegend\":true,\"textposition\":\"auto\",\"x\":[\"ND\"],\"xaxis\":\"x\",\"y\":[8184.3],\"yaxis\":\"y\",\"type\":\"bar\"},{\"alignmentgroup\":\"True\",\"hovertemplate\":\"State=%{x}\\u003cbr\\u003eEnergy Expenditures=%{y}\\u003cextra\\u003e\\u003c\\u002fextra\\u003e\",\"legendgroup\":\"NE\",\"marker\":{\"color\":\"#FECB52\",\"pattern\":{\"shape\":\"\"}},\"name\":\"NE\",\"offsetgroup\":\"NE\",\"orientation\":\"v\",\"showlegend\":true,\"textposition\":\"auto\",\"x\":[\"NE\"],\"xaxis\":\"x\",\"y\":[12714.3],\"yaxis\":\"y\",\"type\":\"bar\"},{\"alignmentgroup\":\"True\",\"hovertemplate\":\"State=%{x}\\u003cbr\\u003eEnergy Expenditures=%{y}\\u003cextra\\u003e\\u003c\\u002fextra\\u003e\",\"legendgroup\":\"NH\",\"marker\":{\"color\":\"#636efa\",\"pattern\":{\"shape\":\"\"}},\"name\":\"NH\",\"offsetgroup\":\"NH\",\"orientation\":\"v\",\"showlegend\":true,\"textposition\":\"auto\",\"x\":[\"NH\"],\"xaxis\":\"x\",\"y\":[7646.2],\"yaxis\":\"y\",\"type\":\"bar\"},{\"alignmentgroup\":\"True\",\"hovertemplate\":\"State=%{x}\\u003cbr\\u003eEnergy Expenditures=%{y}\\u003cextra\\u003e\\u003c\\u002fextra\\u003e\",\"legendgroup\":\"NJ\",\"marker\":{\"color\":\"#EF553B\",\"pattern\":{\"shape\":\"\"}},\"name\":\"NJ\",\"offsetgroup\":\"NJ\",\"orientation\":\"v\",\"showlegend\":true,\"textposition\":\"auto\",\"x\":[\"NJ\"],\"xaxis\":\"x\",\"y\":[40014.5],\"yaxis\":\"y\",\"type\":\"bar\"},{\"alignmentgroup\":\"True\",\"hovertemplate\":\"State=%{x}\\u003cbr\\u003eEnergy Expenditures=%{y}\\u003cextra\\u003e\\u003c\\u002fextra\\u003e\",\"legendgroup\":\"NM\",\"marker\":{\"color\":\"#00cc96\",\"pattern\":{\"shape\":\"\"}},\"name\":\"NM\",\"offsetgroup\":\"NM\",\"orientation\":\"v\",\"showlegend\":true,\"textposition\":\"auto\",\"x\":[\"NM\"],\"xaxis\":\"x\",\"y\":[11754.6],\"yaxis\":\"y\",\"type\":\"bar\"},{\"alignmentgroup\":\"True\",\"hovertemplate\":\"State=%{x}\\u003cbr\\u003eEnergy Expenditures=%{y}\\u003cextra\\u003e\\u003c\\u002fextra\\u003e\",\"legendgroup\":\"NV\",\"marker\":{\"color\":\"#ab63fa\",\"pattern\":{\"shape\":\"\"}},\"name\":\"NV\",\"offsetgroup\":\"NV\",\"orientation\":\"v\",\"showlegend\":true,\"textposition\":\"auto\",\"x\":[\"NV\"],\"xaxis\":\"x\",\"y\":[16151.6],\"yaxis\":\"y\",\"type\":\"bar\"},{\"alignmentgroup\":\"True\",\"hovertemplate\":\"State=%{x}\\u003cbr\\u003eEnergy Expenditures=%{y}\\u003cextra\\u003e\\u003c\\u002fextra\\u003e\",\"legendgroup\":\"NY\",\"marker\":{\"color\":\"#FFA15A\",\"pattern\":{\"shape\":\"\"}},\"name\":\"NY\",\"offsetgroup\":\"NY\",\"orientation\":\"v\",\"showlegend\":true,\"textposition\":\"auto\",\"x\":[\"NY\"],\"xaxis\":\"x\",\"y\":[80624.8],\"yaxis\":\"y\",\"type\":\"bar\"},{\"alignmentgroup\":\"True\",\"hovertemplate\":\"State=%{x}\\u003cbr\\u003eEnergy Expenditures=%{y}\\u003cextra\\u003e\\u003c\\u002fextra\\u003e\",\"legendgroup\":\"OH\",\"marker\":{\"color\":\"#19d3f3\",\"pattern\":{\"shape\":\"\"}},\"name\":\"OH\",\"offsetgroup\":\"OH\",\"orientation\":\"v\",\"showlegend\":true,\"textposition\":\"auto\",\"x\":[\"OH\"],\"xaxis\":\"x\",\"y\":[56787.3],\"yaxis\":\"y\",\"type\":\"bar\"},{\"alignmentgroup\":\"True\",\"hovertemplate\":\"State=%{x}\\u003cbr\\u003eEnergy Expenditures=%{y}\\u003cextra\\u003e\\u003c\\u002fextra\\u003e\",\"legendgroup\":\"OK\",\"marker\":{\"color\":\"#FF6692\",\"pattern\":{\"shape\":\"\"}},\"name\":\"OK\",\"offsetgroup\":\"OK\",\"orientation\":\"v\",\"showlegend\":true,\"textposition\":\"auto\",\"x\":[\"OK\"],\"xaxis\":\"x\",\"y\":[24645.2],\"yaxis\":\"y\",\"type\":\"bar\"},{\"alignmentgroup\":\"True\",\"hovertemplate\":\"State=%{x}\\u003cbr\\u003eEnergy Expenditures=%{y}\\u003cextra\\u003e\\u003c\\u002fextra\\u003e\",\"legendgroup\":\"OR\",\"marker\":{\"color\":\"#B6E880\",\"pattern\":{\"shape\":\"\"}},\"name\":\"OR\",\"offsetgroup\":\"OR\",\"orientation\":\"v\",\"showlegend\":true,\"textposition\":\"auto\",\"x\":[\"OR\"],\"xaxis\":\"x\",\"y\":[19474.1],\"yaxis\":\"y\",\"type\":\"bar\"},{\"alignmentgroup\":\"True\",\"hovertemplate\":\"State=%{x}\\u003cbr\\u003eEnergy Expenditures=%{y}\\u003cextra\\u003e\\u003c\\u002fextra\\u003e\",\"legendgroup\":\"PA\",\"marker\":{\"color\":\"#FF97FF\",\"pattern\":{\"shape\":\"\"}},\"name\":\"PA\",\"offsetgroup\":\"PA\",\"orientation\":\"v\",\"showlegend\":true,\"textposition\":\"auto\",\"x\":[\"PA\"],\"xaxis\":\"x\",\"y\":[62889.4],\"yaxis\":\"y\",\"type\":\"bar\"},{\"alignmentgroup\":\"True\",\"hovertemplate\":\"State=%{x}\\u003cbr\\u003eEnergy Expenditures=%{y}\\u003cextra\\u003e\\u003c\\u002fextra\\u003e\",\"legendgroup\":\"RI\",\"marker\":{\"color\":\"#FECB52\",\"pattern\":{\"shape\":\"\"}},\"name\":\"RI\",\"offsetgroup\":\"RI\",\"orientation\":\"v\",\"showlegend\":true,\"textposition\":\"auto\",\"x\":[\"RI\"],\"xaxis\":\"x\",\"y\":[4720.4],\"yaxis\":\"y\",\"type\":\"bar\"},{\"alignmentgroup\":\"True\",\"hovertemplate\":\"State=%{x}\\u003cbr\\u003eEnergy Expenditures=%{y}\\u003cextra\\u003e\\u003c\\u002fextra\\u003e\",\"legendgroup\":\"SC\",\"marker\":{\"color\":\"#636efa\",\"pattern\":{\"shape\":\"\"}},\"name\":\"SC\",\"offsetgroup\":\"SC\",\"orientation\":\"v\",\"showlegend\":true,\"textposition\":\"auto\",\"x\":[\"SC\"],\"xaxis\":\"x\",\"y\":[26170.3],\"yaxis\":\"y\",\"type\":\"bar\"},{\"alignmentgroup\":\"True\",\"hovertemplate\":\"State=%{x}\\u003cbr\\u003eEnergy Expenditures=%{y}\\u003cextra\\u003e\\u003c\\u002fextra\\u003e\",\"legendgroup\":\"SD\",\"marker\":{\"color\":\"#EF553B\",\"pattern\":{\"shape\":\"\"}},\"name\":\"SD\",\"offsetgroup\":\"SD\",\"orientation\":\"v\",\"showlegend\":true,\"textposition\":\"auto\",\"x\":[\"SD\"],\"xaxis\":\"x\",\"y\":[6059.8],\"yaxis\":\"y\",\"type\":\"bar\"},{\"alignmentgroup\":\"True\",\"hovertemplate\":\"State=%{x}\\u003cbr\\u003eEnergy Expenditures=%{y}\\u003cextra\\u003e\\u003c\\u002fextra\\u003e\",\"legendgroup\":\"TN\",\"marker\":{\"color\":\"#00cc96\",\"pattern\":{\"shape\":\"\"}},\"name\":\"TN\",\"offsetgroup\":\"TN\",\"orientation\":\"v\",\"showlegend\":true,\"textposition\":\"auto\",\"x\":[\"TN\"],\"xaxis\":\"x\",\"y\":[36356.8],\"yaxis\":\"y\",\"type\":\"bar\"},{\"alignmentgroup\":\"True\",\"hovertemplate\":\"State=%{x}\\u003cbr\\u003eEnergy Expenditures=%{y}\\u003cextra\\u003e\\u003c\\u002fextra\\u003e\",\"legendgroup\":\"TX\",\"marker\":{\"color\":\"#ab63fa\",\"pattern\":{\"shape\":\"\"}},\"name\":\"TX\",\"offsetgroup\":\"TX\",\"orientation\":\"v\",\"showlegend\":true,\"textposition\":\"auto\",\"x\":[\"TX\"],\"xaxis\":\"x\",\"y\":[202631.8],\"yaxis\":\"y\",\"type\":\"bar\"},{\"alignmentgroup\":\"True\",\"hovertemplate\":\"State=%{x}\\u003cbr\\u003eEnergy Expenditures=%{y}\\u003cextra\\u003e\\u003c\\u002fextra\\u003e\",\"legendgroup\":\"UT\",\"marker\":{\"color\":\"#FFA15A\",\"pattern\":{\"shape\":\"\"}},\"name\":\"UT\",\"offsetgroup\":\"UT\",\"orientation\":\"v\",\"showlegend\":true,\"textposition\":\"auto\",\"x\":[\"UT\"],\"xaxis\":\"x\",\"y\":[14880.6],\"yaxis\":\"y\",\"type\":\"bar\"},{\"alignmentgroup\":\"True\",\"hovertemplate\":\"State=%{x}\\u003cbr\\u003eEnergy Expenditures=%{y}\\u003cextra\\u003e\\u003c\\u002fextra\\u003e\",\"legendgroup\":\"VA\",\"marker\":{\"color\":\"#19d3f3\",\"pattern\":{\"shape\":\"\"}},\"name\":\"VA\",\"offsetgroup\":\"VA\",\"orientation\":\"v\",\"showlegend\":true,\"textposition\":\"auto\",\"x\":[\"VA\"],\"xaxis\":\"x\",\"y\":[42435.3],\"yaxis\":\"y\",\"type\":\"bar\"},{\"alignmentgroup\":\"True\",\"hovertemplate\":\"State=%{x}\\u003cbr\\u003eEnergy Expenditures=%{y}\\u003cextra\\u003e\\u003c\\u002fextra\\u003e\",\"legendgroup\":\"VT\",\"marker\":{\"color\":\"#FF6692\",\"pattern\":{\"shape\":\"\"}},\"name\":\"VT\",\"offsetgroup\":\"VT\",\"orientation\":\"v\",\"showlegend\":true,\"textposition\":\"auto\",\"x\":[\"VT\"],\"xaxis\":\"x\",\"y\":[3580.1],\"yaxis\":\"y\",\"type\":\"bar\"},{\"alignmentgroup\":\"True\",\"hovertemplate\":\"State=%{x}\\u003cbr\\u003eEnergy Expenditures=%{y}\\u003cextra\\u003e\\u003c\\u002fextra\\u003e\",\"legendgroup\":\"WA\",\"marker\":{\"color\":\"#B6E880\",\"pattern\":{\"shape\":\"\"}},\"name\":\"WA\",\"offsetgroup\":\"WA\",\"orientation\":\"v\",\"showlegend\":true,\"textposition\":\"auto\",\"x\":[\"WA\"],\"xaxis\":\"x\",\"y\":[34112.5],\"yaxis\":\"y\",\"type\":\"bar\"},{\"alignmentgroup\":\"True\",\"hovertemplate\":\"State=%{x}\\u003cbr\\u003eEnergy Expenditures=%{y}\\u003cextra\\u003e\\u003c\\u002fextra\\u003e\",\"legendgroup\":\"WI\",\"marker\":{\"color\":\"#FF97FF\",\"pattern\":{\"shape\":\"\"}},\"name\":\"WI\",\"offsetgroup\":\"WI\",\"orientation\":\"v\",\"showlegend\":true,\"textposition\":\"auto\",\"x\":[\"WI\"],\"xaxis\":\"x\",\"y\":[30555.5],\"yaxis\":\"y\",\"type\":\"bar\"},{\"alignmentgroup\":\"True\",\"hovertemplate\":\"State=%{x}\\u003cbr\\u003eEnergy Expenditures=%{y}\\u003cextra\\u003e\\u003c\\u002fextra\\u003e\",\"legendgroup\":\"WV\",\"marker\":{\"color\":\"#FECB52\",\"pattern\":{\"shape\":\"\"}},\"name\":\"WV\",\"offsetgroup\":\"WV\",\"orientation\":\"v\",\"showlegend\":true,\"textposition\":\"auto\",\"x\":[\"WV\"],\"xaxis\":\"x\",\"y\":[10873.2],\"yaxis\":\"y\",\"type\":\"bar\"},{\"alignmentgroup\":\"True\",\"hovertemplate\":\"State=%{x}\\u003cbr\\u003eEnergy Expenditures=%{y}\\u003cextra\\u003e\\u003c\\u002fextra\\u003e\",\"legendgroup\":\"WY\",\"marker\":{\"color\":\"#636efa\",\"pattern\":{\"shape\":\"\"}},\"name\":\"WY\",\"offsetgroup\":\"WY\",\"orientation\":\"v\",\"showlegend\":true,\"textposition\":\"auto\",\"x\":[\"WY\"],\"xaxis\":\"x\",\"y\":[6526.4],\"yaxis\":\"y\",\"type\":\"bar\"}],                        {\"template\":{\"data\":{\"histogram2dcontour\":[{\"type\":\"histogram2dcontour\",\"colorbar\":{\"outlinewidth\":0,\"ticks\":\"\"},\"colorscale\":[[0.0,\"#0d0887\"],[0.1111111111111111,\"#46039f\"],[0.2222222222222222,\"#7201a8\"],[0.3333333333333333,\"#9c179e\"],[0.4444444444444444,\"#bd3786\"],[0.5555555555555556,\"#d8576b\"],[0.6666666666666666,\"#ed7953\"],[0.7777777777777778,\"#fb9f3a\"],[0.8888888888888888,\"#fdca26\"],[1.0,\"#f0f921\"]]}],\"choropleth\":[{\"type\":\"choropleth\",\"colorbar\":{\"outlinewidth\":0,\"ticks\":\"\"}}],\"histogram2d\":[{\"type\":\"histogram2d\",\"colorbar\":{\"outlinewidth\":0,\"ticks\":\"\"},\"colorscale\":[[0.0,\"#0d0887\"],[0.1111111111111111,\"#46039f\"],[0.2222222222222222,\"#7201a8\"],[0.3333333333333333,\"#9c179e\"],[0.4444444444444444,\"#bd3786\"],[0.5555555555555556,\"#d8576b\"],[0.6666666666666666,\"#ed7953\"],[0.7777777777777778,\"#fb9f3a\"],[0.8888888888888888,\"#fdca26\"],[1.0,\"#f0f921\"]]}],\"heatmap\":[{\"type\":\"heatmap\",\"colorbar\":{\"outlinewidth\":0,\"ticks\":\"\"},\"colorscale\":[[0.0,\"#0d0887\"],[0.1111111111111111,\"#46039f\"],[0.2222222222222222,\"#7201a8\"],[0.3333333333333333,\"#9c179e\"],[0.4444444444444444,\"#bd3786\"],[0.5555555555555556,\"#d8576b\"],[0.6666666666666666,\"#ed7953\"],[0.7777777777777778,\"#fb9f3a\"],[0.8888888888888888,\"#fdca26\"],[1.0,\"#f0f921\"]]}],\"heatmapgl\":[{\"type\":\"heatmapgl\",\"colorbar\":{\"outlinewidth\":0,\"ticks\":\"\"},\"colorscale\":[[0.0,\"#0d0887\"],[0.1111111111111111,\"#46039f\"],[0.2222222222222222,\"#7201a8\"],[0.3333333333333333,\"#9c179e\"],[0.4444444444444444,\"#bd3786\"],[0.5555555555555556,\"#d8576b\"],[0.6666666666666666,\"#ed7953\"],[0.7777777777777778,\"#fb9f3a\"],[0.8888888888888888,\"#fdca26\"],[1.0,\"#f0f921\"]]}],\"contourcarpet\":[{\"type\":\"contourcarpet\",\"colorbar\":{\"outlinewidth\":0,\"ticks\":\"\"}}],\"contour\":[{\"type\":\"contour\",\"colorbar\":{\"outlinewidth\":0,\"ticks\":\"\"},\"colorscale\":[[0.0,\"#0d0887\"],[0.1111111111111111,\"#46039f\"],[0.2222222222222222,\"#7201a8\"],[0.3333333333333333,\"#9c179e\"],[0.4444444444444444,\"#bd3786\"],[0.5555555555555556,\"#d8576b\"],[0.6666666666666666,\"#ed7953\"],[0.7777777777777778,\"#fb9f3a\"],[0.8888888888888888,\"#fdca26\"],[1.0,\"#f0f921\"]]}],\"surface\":[{\"type\":\"surface\",\"colorbar\":{\"outlinewidth\":0,\"ticks\":\"\"},\"colorscale\":[[0.0,\"#0d0887\"],[0.1111111111111111,\"#46039f\"],[0.2222222222222222,\"#7201a8\"],[0.3333333333333333,\"#9c179e\"],[0.4444444444444444,\"#bd3786\"],[0.5555555555555556,\"#d8576b\"],[0.6666666666666666,\"#ed7953\"],[0.7777777777777778,\"#fb9f3a\"],[0.8888888888888888,\"#fdca26\"],[1.0,\"#f0f921\"]]}],\"mesh3d\":[{\"type\":\"mesh3d\",\"colorbar\":{\"outlinewidth\":0,\"ticks\":\"\"}}],\"scatter\":[{\"fillpattern\":{\"fillmode\":\"overlay\",\"size\":10,\"solidity\":0.2},\"type\":\"scatter\"}],\"parcoords\":[{\"type\":\"parcoords\",\"line\":{\"colorbar\":{\"outlinewidth\":0,\"ticks\":\"\"}}}],\"scatterpolargl\":[{\"type\":\"scatterpolargl\",\"marker\":{\"colorbar\":{\"outlinewidth\":0,\"ticks\":\"\"}}}],\"bar\":[{\"error_x\":{\"color\":\"#2a3f5f\"},\"error_y\":{\"color\":\"#2a3f5f\"},\"marker\":{\"line\":{\"color\":\"#E5ECF6\",\"width\":0.5},\"pattern\":{\"fillmode\":\"overlay\",\"size\":10,\"solidity\":0.2}},\"type\":\"bar\"}],\"scattergeo\":[{\"type\":\"scattergeo\",\"marker\":{\"colorbar\":{\"outlinewidth\":0,\"ticks\":\"\"}}}],\"scatterpolar\":[{\"type\":\"scatterpolar\",\"marker\":{\"colorbar\":{\"outlinewidth\":0,\"ticks\":\"\"}}}],\"histogram\":[{\"marker\":{\"pattern\":{\"fillmode\":\"overlay\",\"size\":10,\"solidity\":0.2}},\"type\":\"histogram\"}],\"scattergl\":[{\"type\":\"scattergl\",\"marker\":{\"colorbar\":{\"outlinewidth\":0,\"ticks\":\"\"}}}],\"scatter3d\":[{\"type\":\"scatter3d\",\"line\":{\"colorbar\":{\"outlinewidth\":0,\"ticks\":\"\"}},\"marker\":{\"colorbar\":{\"outlinewidth\":0,\"ticks\":\"\"}}}],\"scattermapbox\":[{\"type\":\"scattermapbox\",\"marker\":{\"colorbar\":{\"outlinewidth\":0,\"ticks\":\"\"}}}],\"scatterternary\":[{\"type\":\"scatterternary\",\"marker\":{\"colorbar\":{\"outlinewidth\":0,\"ticks\":\"\"}}}],\"scattercarpet\":[{\"type\":\"scattercarpet\",\"marker\":{\"colorbar\":{\"outlinewidth\":0,\"ticks\":\"\"}}}],\"carpet\":[{\"aaxis\":{\"endlinecolor\":\"#2a3f5f\",\"gridcolor\":\"white\",\"linecolor\":\"white\",\"minorgridcolor\":\"white\",\"startlinecolor\":\"#2a3f5f\"},\"baxis\":{\"endlinecolor\":\"#2a3f5f\",\"gridcolor\":\"white\",\"linecolor\":\"white\",\"minorgridcolor\":\"white\",\"startlinecolor\":\"#2a3f5f\"},\"type\":\"carpet\"}],\"table\":[{\"cells\":{\"fill\":{\"color\":\"#EBF0F8\"},\"line\":{\"color\":\"white\"}},\"header\":{\"fill\":{\"color\":\"#C8D4E3\"},\"line\":{\"color\":\"white\"}},\"type\":\"table\"}],\"barpolar\":[{\"marker\":{\"line\":{\"color\":\"#E5ECF6\",\"width\":0.5},\"pattern\":{\"fillmode\":\"overlay\",\"size\":10,\"solidity\":0.2}},\"type\":\"barpolar\"}],\"pie\":[{\"automargin\":true,\"type\":\"pie\"}]},\"layout\":{\"autotypenumbers\":\"strict\",\"colorway\":[\"#636efa\",\"#EF553B\",\"#00cc96\",\"#ab63fa\",\"#FFA15A\",\"#19d3f3\",\"#FF6692\",\"#B6E880\",\"#FF97FF\",\"#FECB52\"],\"font\":{\"color\":\"#2a3f5f\"},\"hovermode\":\"closest\",\"hoverlabel\":{\"align\":\"left\"},\"paper_bgcolor\":\"white\",\"plot_bgcolor\":\"#E5ECF6\",\"polar\":{\"bgcolor\":\"#E5ECF6\",\"angularaxis\":{\"gridcolor\":\"white\",\"linecolor\":\"white\",\"ticks\":\"\"},\"radialaxis\":{\"gridcolor\":\"white\",\"linecolor\":\"white\",\"ticks\":\"\"}},\"ternary\":{\"bgcolor\":\"#E5ECF6\",\"aaxis\":{\"gridcolor\":\"white\",\"linecolor\":\"white\",\"ticks\":\"\"},\"baxis\":{\"gridcolor\":\"white\",\"linecolor\":\"white\",\"ticks\":\"\"},\"caxis\":{\"gridcolor\":\"white\",\"linecolor\":\"white\",\"ticks\":\"\"}},\"coloraxis\":{\"colorbar\":{\"outlinewidth\":0,\"ticks\":\"\"}},\"colorscale\":{\"sequential\":[[0.0,\"#0d0887\"],[0.1111111111111111,\"#46039f\"],[0.2222222222222222,\"#7201a8\"],[0.3333333333333333,\"#9c179e\"],[0.4444444444444444,\"#bd3786\"],[0.5555555555555556,\"#d8576b\"],[0.6666666666666666,\"#ed7953\"],[0.7777777777777778,\"#fb9f3a\"],[0.8888888888888888,\"#fdca26\"],[1.0,\"#f0f921\"]],\"sequentialminus\":[[0.0,\"#0d0887\"],[0.1111111111111111,\"#46039f\"],[0.2222222222222222,\"#7201a8\"],[0.3333333333333333,\"#9c179e\"],[0.4444444444444444,\"#bd3786\"],[0.5555555555555556,\"#d8576b\"],[0.6666666666666666,\"#ed7953\"],[0.7777777777777778,\"#fb9f3a\"],[0.8888888888888888,\"#fdca26\"],[1.0,\"#f0f921\"]],\"diverging\":[[0,\"#8e0152\"],[0.1,\"#c51b7d\"],[0.2,\"#de77ae\"],[0.3,\"#f1b6da\"],[0.4,\"#fde0ef\"],[0.5,\"#f7f7f7\"],[0.6,\"#e6f5d0\"],[0.7,\"#b8e186\"],[0.8,\"#7fbc41\"],[0.9,\"#4d9221\"],[1,\"#276419\"]]},\"xaxis\":{\"gridcolor\":\"white\",\"linecolor\":\"white\",\"ticks\":\"\",\"title\":{\"standoff\":15},\"zerolinecolor\":\"white\",\"automargin\":true,\"zerolinewidth\":2},\"yaxis\":{\"gridcolor\":\"white\",\"linecolor\":\"white\",\"ticks\":\"\",\"title\":{\"standoff\":15},\"zerolinecolor\":\"white\",\"automargin\":true,\"zerolinewidth\":2},\"scene\":{\"xaxis\":{\"backgroundcolor\":\"#E5ECF6\",\"gridcolor\":\"white\",\"linecolor\":\"white\",\"showbackground\":true,\"ticks\":\"\",\"zerolinecolor\":\"white\",\"gridwidth\":2},\"yaxis\":{\"backgroundcolor\":\"#E5ECF6\",\"gridcolor\":\"white\",\"linecolor\":\"white\",\"showbackground\":true,\"ticks\":\"\",\"zerolinecolor\":\"white\",\"gridwidth\":2},\"zaxis\":{\"backgroundcolor\":\"#E5ECF6\",\"gridcolor\":\"white\",\"linecolor\":\"white\",\"showbackground\":true,\"ticks\":\"\",\"zerolinecolor\":\"white\",\"gridwidth\":2}},\"shapedefaults\":{\"line\":{\"color\":\"#2a3f5f\"}},\"annotationdefaults\":{\"arrowcolor\":\"#2a3f5f\",\"arrowhead\":0,\"arrowwidth\":1},\"geo\":{\"bgcolor\":\"white\",\"landcolor\":\"#E5ECF6\",\"subunitcolor\":\"white\",\"showland\":true,\"showlakes\":true,\"lakecolor\":\"white\"},\"title\":{\"x\":0.05},\"mapbox\":{\"style\":\"light\"}}},\"xaxis\":{\"anchor\":\"y\",\"domain\":[0.0,1.0],\"title\":{\"text\":\"State\"},\"categoryorder\":\"array\",\"categoryarray\":[\"AK\",\"AL\",\"AR\",\"AZ\",\"CA\",\"CO\",\"CT\",\"DC\",\"DE\",\"FL\",\"GA\",\"HI\",\"IA\",\"ID\",\"IL\",\"IN\",\"KS\",\"KY\",\"LA\",\"MA\",\"MD\",\"ME\",\"MI\",\"MN\",\"MO\",\"MS\",\"MT\",\"NC\",\"ND\",\"NE\",\"NH\",\"NJ\",\"NM\",\"NV\",\"NY\",\"OH\",\"OK\",\"OR\",\"PA\",\"RI\",\"SC\",\"SD\",\"TN\",\"TX\",\"UT\",\"VA\",\"VT\",\"WA\",\"WI\",\"WV\",\"WY\"]},\"yaxis\":{\"anchor\":\"x\",\"domain\":[0.0,1.0],\"title\":{\"text\":\"Energy Expenditures\"}},\"legend\":{\"title\":{\"text\":\"State\"},\"tracegroupgap\":0},\"title\":{\"text\":\"Energy Expenditures by State in 2022\"},\"barmode\":\"relative\"},                        {\"responsive\": true}                    ).then(function(){\n",
       "                            \n",
       "var gd = document.getElementById('c5c259ed-8cde-4a7d-83b1-e877b003564c');\n",
       "var x = new MutationObserver(function (mutations, observer) {{\n",
       "        var display = window.getComputedStyle(gd).display;\n",
       "        if (!display || display === 'none') {{\n",
       "            console.log([gd, 'removed!']);\n",
       "            Plotly.purge(gd);\n",
       "            observer.disconnect();\n",
       "        }}\n",
       "}});\n",
       "\n",
       "// Listen for the removal of the full notebook cells\n",
       "var notebookContainer = gd.closest('#notebook-container');\n",
       "if (notebookContainer) {{\n",
       "    x.observe(notebookContainer, {childList: true});\n",
       "}}\n",
       "\n",
       "// Listen for the clearing of the current output cell\n",
       "var outputEl = gd.closest('.output');\n",
       "if (outputEl) {{\n",
       "    x.observe(outputEl, {childList: true});\n",
       "}}\n",
       "\n",
       "                        })                };                });            </script>        </div>"
      ]
     },
     "metadata": {},
     "output_type": "display_data"
    }
   ],
   "source": [
    "data_2022_bar = merged_all_data[merged_all_data['Year'] == 2022]\n",
    "data_2022_bar = data_2022[data_2022[\"State\"] != \"US\"]\n",
    "# Bar chart for energy expenditures in 2022 across states\n",
    "fig_bar_1 = px.bar(data_2022_bar, \n",
    "             x='State', \n",
    "             y='Expenditures', \n",
    "             title=\"Energy Expenditures by State in 2022\",\n",
    "             labels={'Expenditures': 'Energy Expenditures', 'State': 'State'},\n",
    "             color='State')\n",
    "fig_bar_1.show()"
   ]
  },
  {
   "cell_type": "code",
   "execution_count": 37,
   "id": "fe569e95-585b-4386-858f-8626a69ef1c0",
   "metadata": {},
   "outputs": [
    {
     "data": {
      "application/vnd.plotly.v1+json": {
       "config": {
        "plotlyServerURL": "https://plot.ly"
       },
       "data": [
        {
         "alignmentgroup": "True",
         "hovertemplate": "State=%{x}<br>Energy Expenditures=%{y}<extra></extra>",
         "legendgroup": "AK",
         "marker": {
          "color": "#636efa",
          "pattern": {
           "shape": ""
          }
         },
         "name": "AK",
         "offsetgroup": "AK",
         "orientation": "v",
         "showlegend": true,
         "textposition": "auto",
         "type": "bar",
         "x": [
          "AK"
         ],
         "xaxis": "x",
         "y": [
          2841.6
         ],
         "yaxis": "y"
        },
        {
         "alignmentgroup": "True",
         "hovertemplate": "State=%{x}<br>Energy Expenditures=%{y}<extra></extra>",
         "legendgroup": "AL",
         "marker": {
          "color": "#EF553B",
          "pattern": {
           "shape": ""
          }
         },
         "name": "AL",
         "offsetgroup": "AL",
         "orientation": "v",
         "showlegend": true,
         "textposition": "auto",
         "type": "bar",
         "x": [
          "AL"
         ],
         "xaxis": "x",
         "y": [
          12038.9
         ],
         "yaxis": "y"
        },
        {
         "alignmentgroup": "True",
         "hovertemplate": "State=%{x}<br>Energy Expenditures=%{y}<extra></extra>",
         "legendgroup": "AR",
         "marker": {
          "color": "#00cc96",
          "pattern": {
           "shape": ""
          }
         },
         "name": "AR",
         "offsetgroup": "AR",
         "orientation": "v",
         "showlegend": true,
         "textposition": "auto",
         "type": "bar",
         "x": [
          "AR"
         ],
         "xaxis": "x",
         "y": [
          7188.4
         ],
         "yaxis": "y"
        },
        {
         "alignmentgroup": "True",
         "hovertemplate": "State=%{x}<br>Energy Expenditures=%{y}<extra></extra>",
         "legendgroup": "AZ",
         "marker": {
          "color": "#ab63fa",
          "pattern": {
           "shape": ""
          }
         },
         "name": "AZ",
         "offsetgroup": "AZ",
         "orientation": "v",
         "showlegend": true,
         "textposition": "auto",
         "type": "bar",
         "x": [
          "AZ"
         ],
         "xaxis": "x",
         "y": [
          10624.8
         ],
         "yaxis": "y"
        },
        {
         "alignmentgroup": "True",
         "hovertemplate": "State=%{x}<br>Energy Expenditures=%{y}<extra></extra>",
         "legendgroup": "CA",
         "marker": {
          "color": "#FFA15A",
          "pattern": {
           "shape": ""
          }
         },
         "name": "CA",
         "offsetgroup": "CA",
         "orientation": "v",
         "showlegend": true,
         "textposition": "auto",
         "type": "bar",
         "x": [
          "CA"
         ],
         "xaxis": "x",
         "y": [
          68282
         ],
         "yaxis": "y"
        },
        {
         "alignmentgroup": "True",
         "hovertemplate": "State=%{x}<br>Energy Expenditures=%{y}<extra></extra>",
         "legendgroup": "CO",
         "marker": {
          "color": "#19d3f3",
          "pattern": {
           "shape": ""
          }
         },
         "name": "CO",
         "offsetgroup": "CO",
         "orientation": "v",
         "showlegend": true,
         "textposition": "auto",
         "type": "bar",
         "x": [
          "CO"
         ],
         "xaxis": "x",
         "y": [
          8661.1
         ],
         "yaxis": "y"
        },
        {
         "alignmentgroup": "True",
         "hovertemplate": "State=%{x}<br>Energy Expenditures=%{y}<extra></extra>",
         "legendgroup": "CT",
         "marker": {
          "color": "#FF6692",
          "pattern": {
           "shape": ""
          }
         },
         "name": "CT",
         "offsetgroup": "CT",
         "orientation": "v",
         "showlegend": true,
         "textposition": "auto",
         "type": "bar",
         "x": [
          "CT"
         ],
         "xaxis": "x",
         "y": [
          7992.6
         ],
         "yaxis": "y"
        },
        {
         "alignmentgroup": "True",
         "hovertemplate": "State=%{x}<br>Energy Expenditures=%{y}<extra></extra>",
         "legendgroup": "DC",
         "marker": {
          "color": "#B6E880",
          "pattern": {
           "shape": ""
          }
         },
         "name": "DC",
         "offsetgroup": "DC",
         "orientation": "v",
         "showlegend": true,
         "textposition": "auto",
         "type": "bar",
         "x": [
          "DC"
         ],
         "xaxis": "x",
         "y": [
          1504.1
         ],
         "yaxis": "y"
        },
        {
         "alignmentgroup": "True",
         "hovertemplate": "State=%{x}<br>Energy Expenditures=%{y}<extra></extra>",
         "legendgroup": "DE",
         "marker": {
          "color": "#FF97FF",
          "pattern": {
           "shape": ""
          }
         },
         "name": "DE",
         "offsetgroup": "DE",
         "orientation": "v",
         "showlegend": true,
         "textposition": "auto",
         "type": "bar",
         "x": [
          "DE"
         ],
         "xaxis": "x",
         "y": [
          1932.2
         ],
         "yaxis": "y"
        },
        {
         "alignmentgroup": "True",
         "hovertemplate": "State=%{x}<br>Energy Expenditures=%{y}<extra></extra>",
         "legendgroup": "FL",
         "marker": {
          "color": "#FECB52",
          "pattern": {
           "shape": ""
          }
         },
         "name": "FL",
         "offsetgroup": "FL",
         "orientation": "v",
         "showlegend": true,
         "textposition": "auto",
         "type": "bar",
         "x": [
          "FL"
         ],
         "xaxis": "x",
         "y": [
          30216.1
         ],
         "yaxis": "y"
        },
        {
         "alignmentgroup": "True",
         "hovertemplate": "State=%{x}<br>Energy Expenditures=%{y}<extra></extra>",
         "legendgroup": "GA",
         "marker": {
          "color": "#636efa",
          "pattern": {
           "shape": ""
          }
         },
         "name": "GA",
         "offsetgroup": "GA",
         "orientation": "v",
         "showlegend": true,
         "textposition": "auto",
         "type": "bar",
         "x": [
          "GA"
         ],
         "xaxis": "x",
         "y": [
          19652.4
         ],
         "yaxis": "y"
        },
        {
         "alignmentgroup": "True",
         "hovertemplate": "State=%{x}<br>Energy Expenditures=%{y}<extra></extra>",
         "legendgroup": "HI",
         "marker": {
          "color": "#EF553B",
          "pattern": {
           "shape": ""
          }
         },
         "name": "HI",
         "offsetgroup": "HI",
         "orientation": "v",
         "showlegend": true,
         "textposition": "auto",
         "type": "bar",
         "x": [
          "HI"
         ],
         "xaxis": "x",
         "y": [
          2705.1
         ],
         "yaxis": "y"
        },
        {
         "alignmentgroup": "True",
         "hovertemplate": "State=%{x}<br>Energy Expenditures=%{y}<extra></extra>",
         "legendgroup": "IA",
         "marker": {
          "color": "#00cc96",
          "pattern": {
           "shape": ""
          }
         },
         "name": "IA",
         "offsetgroup": "IA",
         "orientation": "v",
         "showlegend": true,
         "textposition": "auto",
         "type": "bar",
         "x": [
          "IA"
         ],
         "xaxis": "x",
         "y": [
          8185.6
         ],
         "yaxis": "y"
        },
        {
         "alignmentgroup": "True",
         "hovertemplate": "State=%{x}<br>Energy Expenditures=%{y}<extra></extra>",
         "legendgroup": "ID",
         "marker": {
          "color": "#ab63fa",
          "pattern": {
           "shape": ""
          }
         },
         "name": "ID",
         "offsetgroup": "ID",
         "orientation": "v",
         "showlegend": true,
         "textposition": "auto",
         "type": "bar",
         "x": [
          "ID"
         ],
         "xaxis": "x",
         "y": [
          3137.3
         ],
         "yaxis": "y"
        },
        {
         "alignmentgroup": "True",
         "hovertemplate": "State=%{x}<br>Energy Expenditures=%{y}<extra></extra>",
         "legendgroup": "IL",
         "marker": {
          "color": "#FFA15A",
          "pattern": {
           "shape": ""
          }
         },
         "name": "IL",
         "offsetgroup": "IL",
         "orientation": "v",
         "showlegend": true,
         "textposition": "auto",
         "type": "bar",
         "x": [
          "IL"
         ],
         "xaxis": "x",
         "y": [
          28883.1
         ],
         "yaxis": "y"
        },
        {
         "alignmentgroup": "True",
         "hovertemplate": "State=%{x}<br>Energy Expenditures=%{y}<extra></extra>",
         "legendgroup": "IN",
         "marker": {
          "color": "#19d3f3",
          "pattern": {
           "shape": ""
          }
         },
         "name": "IN",
         "offsetgroup": "IN",
         "orientation": "v",
         "showlegend": true,
         "textposition": "auto",
         "type": "bar",
         "x": [
          "IN"
         ],
         "xaxis": "x",
         "y": [
          16660.8
         ],
         "yaxis": "y"
        },
        {
         "alignmentgroup": "True",
         "hovertemplate": "State=%{x}<br>Energy Expenditures=%{y}<extra></extra>",
         "legendgroup": "KS",
         "marker": {
          "color": "#FF6692",
          "pattern": {
           "shape": ""
          }
         },
         "name": "KS",
         "offsetgroup": "KS",
         "orientation": "v",
         "showlegend": true,
         "textposition": "auto",
         "type": "bar",
         "x": [
          "KS"
         ],
         "xaxis": "x",
         "y": [
          7256.8
         ],
         "yaxis": "y"
        },
        {
         "alignmentgroup": "True",
         "hovertemplate": "State=%{x}<br>Energy Expenditures=%{y}<extra></extra>",
         "legendgroup": "KY",
         "marker": {
          "color": "#B6E880",
          "pattern": {
           "shape": ""
          }
         },
         "name": "KY",
         "offsetgroup": "KY",
         "orientation": "v",
         "showlegend": true,
         "textposition": "auto",
         "type": "bar",
         "x": [
          "KY"
         ],
         "xaxis": "x",
         "y": [
          10309.7
         ],
         "yaxis": "y"
        },
        {
         "alignmentgroup": "True",
         "hovertemplate": "State=%{x}<br>Energy Expenditures=%{y}<extra></extra>",
         "legendgroup": "LA",
         "marker": {
          "color": "#FF97FF",
          "pattern": {
           "shape": ""
          }
         },
         "name": "LA",
         "offsetgroup": "LA",
         "orientation": "v",
         "showlegend": true,
         "textposition": "auto",
         "type": "bar",
         "x": [
          "LA"
         ],
         "xaxis": "x",
         "y": [
          23147.9
         ],
         "yaxis": "y"
        },
        {
         "alignmentgroup": "True",
         "hovertemplate": "State=%{x}<br>Energy Expenditures=%{y}<extra></extra>",
         "legendgroup": "MA",
         "marker": {
          "color": "#FECB52",
          "pattern": {
           "shape": ""
          }
         },
         "name": "MA",
         "offsetgroup": "MA",
         "orientation": "v",
         "showlegend": true,
         "textposition": "auto",
         "type": "bar",
         "x": [
          "MA"
         ],
         "xaxis": "x",
         "y": [
          14408.9
         ],
         "yaxis": "y"
        },
        {
         "alignmentgroup": "True",
         "hovertemplate": "State=%{x}<br>Energy Expenditures=%{y}<extra></extra>",
         "legendgroup": "MD",
         "marker": {
          "color": "#636efa",
          "pattern": {
           "shape": ""
          }
         },
         "name": "MD",
         "offsetgroup": "MD",
         "orientation": "v",
         "showlegend": true,
         "textposition": "auto",
         "type": "bar",
         "x": [
          "MD"
         ],
         "xaxis": "x",
         "y": [
          11258.3
         ],
         "yaxis": "y"
        },
        {
         "alignmentgroup": "True",
         "hovertemplate": "State=%{x}<br>Energy Expenditures=%{y}<extra></extra>",
         "legendgroup": "ME",
         "marker": {
          "color": "#EF553B",
          "pattern": {
           "shape": ""
          }
         },
         "name": "ME",
         "offsetgroup": "ME",
         "orientation": "v",
         "showlegend": true,
         "textposition": "auto",
         "type": "bar",
         "x": [
          "ME"
         ],
         "xaxis": "x",
         "y": [
          3735.3
         ],
         "yaxis": "y"
        },
        {
         "alignmentgroup": "True",
         "hovertemplate": "State=%{x}<br>Energy Expenditures=%{y}<extra></extra>",
         "legendgroup": "MI",
         "marker": {
          "color": "#00cc96",
          "pattern": {
           "shape": ""
          }
         },
         "name": "MI",
         "offsetgroup": "MI",
         "orientation": "v",
         "showlegend": true,
         "textposition": "auto",
         "type": "bar",
         "x": [
          "MI"
         ],
         "xaxis": "x",
         "y": [
          22219.7
         ],
         "yaxis": "y"
        },
        {
         "alignmentgroup": "True",
         "hovertemplate": "State=%{x}<br>Energy Expenditures=%{y}<extra></extra>",
         "legendgroup": "MN",
         "marker": {
          "color": "#ab63fa",
          "pattern": {
           "shape": ""
          }
         },
         "name": "MN",
         "offsetgroup": "MN",
         "orientation": "v",
         "showlegend": true,
         "textposition": "auto",
         "type": "bar",
         "x": [
          "MN"
         ],
         "xaxis": "x",
         "y": [
          12223.7
         ],
         "yaxis": "y"
        },
        {
         "alignmentgroup": "True",
         "hovertemplate": "State=%{x}<br>Energy Expenditures=%{y}<extra></extra>",
         "legendgroup": "MO",
         "marker": {
          "color": "#FFA15A",
          "pattern": {
           "shape": ""
          }
         },
         "name": "MO",
         "offsetgroup": "MO",
         "orientation": "v",
         "showlegend": true,
         "textposition": "auto",
         "type": "bar",
         "x": [
          "MO"
         ],
         "xaxis": "x",
         "y": [
          13228.9
         ],
         "yaxis": "y"
        },
        {
         "alignmentgroup": "True",
         "hovertemplate": "State=%{x}<br>Energy Expenditures=%{y}<extra></extra>",
         "legendgroup": "MS",
         "marker": {
          "color": "#19d3f3",
          "pattern": {
           "shape": ""
          }
         },
         "name": "MS",
         "offsetgroup": "MS",
         "orientation": "v",
         "showlegend": true,
         "textposition": "auto",
         "type": "bar",
         "x": [
          "MS"
         ],
         "xaxis": "x",
         "y": [
          7595.5
         ],
         "yaxis": "y"
        },
        {
         "alignmentgroup": "True",
         "hovertemplate": "State=%{x}<br>Energy Expenditures=%{y}<extra></extra>",
         "legendgroup": "MT",
         "marker": {
          "color": "#FF6692",
          "pattern": {
           "shape": ""
          }
         },
         "name": "MT",
         "offsetgroup": "MT",
         "orientation": "v",
         "showlegend": true,
         "textposition": "auto",
         "type": "bar",
         "x": [
          "MT"
         ],
         "xaxis": "x",
         "y": [
          2566.7
         ],
         "yaxis": "y"
        },
        {
         "alignmentgroup": "True",
         "hovertemplate": "State=%{x}<br>Energy Expenditures=%{y}<extra></extra>",
         "legendgroup": "NC",
         "marker": {
          "color": "#B6E880",
          "pattern": {
           "shape": ""
          }
         },
         "name": "NC",
         "offsetgroup": "NC",
         "orientation": "v",
         "showlegend": true,
         "textposition": "auto",
         "type": "bar",
         "x": [
          "NC"
         ],
         "xaxis": "x",
         "y": [
          19065.2
         ],
         "yaxis": "y"
        },
        {
         "alignmentgroup": "True",
         "hovertemplate": "State=%{x}<br>Energy Expenditures=%{y}<extra></extra>",
         "legendgroup": "ND",
         "marker": {
          "color": "#FF97FF",
          "pattern": {
           "shape": ""
          }
         },
         "name": "ND",
         "offsetgroup": "ND",
         "orientation": "v",
         "showlegend": true,
         "textposition": "auto",
         "type": "bar",
         "x": [
          "ND"
         ],
         "xaxis": "x",
         "y": [
          1971.8
         ],
         "yaxis": "y"
        },
        {
         "alignmentgroup": "True",
         "hovertemplate": "State=%{x}<br>Energy Expenditures=%{y}<extra></extra>",
         "legendgroup": "NE",
         "marker": {
          "color": "#FECB52",
          "pattern": {
           "shape": ""
          }
         },
         "name": "NE",
         "offsetgroup": "NE",
         "orientation": "v",
         "showlegend": true,
         "textposition": "auto",
         "type": "bar",
         "x": [
          "NE"
         ],
         "xaxis": "x",
         "y": [
          4382.1
         ],
         "yaxis": "y"
        },
        {
         "alignmentgroup": "True",
         "hovertemplate": "State=%{x}<br>Energy Expenditures=%{y}<extra></extra>",
         "legendgroup": "NH",
         "marker": {
          "color": "#636efa",
          "pattern": {
           "shape": ""
          }
         },
         "name": "NH",
         "offsetgroup": "NH",
         "orientation": "v",
         "showlegend": true,
         "textposition": "auto",
         "type": "bar",
         "x": [
          "NH"
         ],
         "xaxis": "x",
         "y": [
          3135.7
         ],
         "yaxis": "y"
        },
        {
         "alignmentgroup": "True",
         "hovertemplate": "State=%{x}<br>Energy Expenditures=%{y}<extra></extra>",
         "legendgroup": "NJ",
         "marker": {
          "color": "#EF553B",
          "pattern": {
           "shape": ""
          }
         },
         "name": "NJ",
         "offsetgroup": "NJ",
         "orientation": "v",
         "showlegend": true,
         "textposition": "auto",
         "type": "bar",
         "x": [
          "NJ"
         ],
         "xaxis": "x",
         "y": [
          20409.1
         ],
         "yaxis": "y"
        },
        {
         "alignmentgroup": "True",
         "hovertemplate": "State=%{x}<br>Energy Expenditures=%{y}<extra></extra>",
         "legendgroup": "NM",
         "marker": {
          "color": "#00cc96",
          "pattern": {
           "shape": ""
          }
         },
         "name": "NM",
         "offsetgroup": "NM",
         "orientation": "v",
         "showlegend": true,
         "textposition": "auto",
         "type": "bar",
         "x": [
          "NM"
         ],
         "xaxis": "x",
         "y": [
          4025.1
         ],
         "yaxis": "y"
        },
        {
         "alignmentgroup": "True",
         "hovertemplate": "State=%{x}<br>Energy Expenditures=%{y}<extra></extra>",
         "legendgroup": "NV",
         "marker": {
          "color": "#ab63fa",
          "pattern": {
           "shape": ""
          }
         },
         "name": "NV",
         "offsetgroup": "NV",
         "orientation": "v",
         "showlegend": true,
         "textposition": "auto",
         "type": "bar",
         "x": [
          "NV"
         ],
         "xaxis": "x",
         "y": [
          4733.1
         ],
         "yaxis": "y"
        },
        {
         "alignmentgroup": "True",
         "hovertemplate": "State=%{x}<br>Energy Expenditures=%{y}<extra></extra>",
         "legendgroup": "NY",
         "marker": {
          "color": "#FFA15A",
          "pattern": {
           "shape": ""
          }
         },
         "name": "NY",
         "offsetgroup": "NY",
         "orientation": "v",
         "showlegend": true,
         "textposition": "auto",
         "type": "bar",
         "x": [
          "NY"
         ],
         "xaxis": "x",
         "y": [
          39216.8
         ],
         "yaxis": "y"
        },
        {
         "alignmentgroup": "True",
         "hovertemplate": "State=%{x}<br>Energy Expenditures=%{y}<extra></extra>",
         "legendgroup": "OH",
         "marker": {
          "color": "#19d3f3",
          "pattern": {
           "shape": ""
          }
         },
         "name": "OH",
         "offsetgroup": "OH",
         "orientation": "v",
         "showlegend": true,
         "textposition": "auto",
         "type": "bar",
         "x": [
          "OH"
         ],
         "xaxis": "x",
         "y": [
          29343.5
         ],
         "yaxis": "y"
        },
        {
         "alignmentgroup": "True",
         "hovertemplate": "State=%{x}<br>Energy Expenditures=%{y}<extra></extra>",
         "legendgroup": "OK",
         "marker": {
          "color": "#FF6692",
          "pattern": {
           "shape": ""
          }
         },
         "name": "OK",
         "offsetgroup": "OK",
         "orientation": "v",
         "showlegend": true,
         "textposition": "auto",
         "type": "bar",
         "x": [
          "OK"
         ],
         "xaxis": "x",
         "y": [
          9290.6
         ],
         "yaxis": "y"
        },
        {
         "alignmentgroup": "True",
         "hovertemplate": "State=%{x}<br>Energy Expenditures=%{y}<extra></extra>",
         "legendgroup": "OR",
         "marker": {
          "color": "#B6E880",
          "pattern": {
           "shape": ""
          }
         },
         "name": "OR",
         "offsetgroup": "OR",
         "orientation": "v",
         "showlegend": true,
         "textposition": "auto",
         "type": "bar",
         "x": [
          "OR"
         ],
         "xaxis": "x",
         "y": [
          7581.3
         ],
         "yaxis": "y"
        },
        {
         "alignmentgroup": "True",
         "hovertemplate": "State=%{x}<br>Energy Expenditures=%{y}<extra></extra>",
         "legendgroup": "PA",
         "marker": {
          "color": "#FF97FF",
          "pattern": {
           "shape": ""
          }
         },
         "name": "PA",
         "offsetgroup": "PA",
         "orientation": "v",
         "showlegend": true,
         "textposition": "auto",
         "type": "bar",
         "x": [
          "PA"
         ],
         "xaxis": "x",
         "y": [
          28948.6
         ],
         "yaxis": "y"
        },
        {
         "alignmentgroup": "True",
         "hovertemplate": "State=%{x}<br>Energy Expenditures=%{y}<extra></extra>",
         "legendgroup": "RI",
         "marker": {
          "color": "#FECB52",
          "pattern": {
           "shape": ""
          }
         },
         "name": "RI",
         "offsetgroup": "RI",
         "orientation": "v",
         "showlegend": true,
         "textposition": "auto",
         "type": "bar",
         "x": [
          "RI"
         ],
         "xaxis": "x",
         "y": [
          2170.9
         ],
         "yaxis": "y"
        },
        {
         "alignmentgroup": "True",
         "hovertemplate": "State=%{x}<br>Energy Expenditures=%{y}<extra></extra>",
         "legendgroup": "SC",
         "marker": {
          "color": "#636efa",
          "pattern": {
           "shape": ""
          }
         },
         "name": "SC",
         "offsetgroup": "SC",
         "orientation": "v",
         "showlegend": true,
         "textposition": "auto",
         "type": "bar",
         "x": [
          "SC"
         ],
         "xaxis": "x",
         "y": [
          10141.8
         ],
         "yaxis": "y"
        },
        {
         "alignmentgroup": "True",
         "hovertemplate": "State=%{x}<br>Energy Expenditures=%{y}<extra></extra>",
         "legendgroup": "SD",
         "marker": {
          "color": "#EF553B",
          "pattern": {
           "shape": ""
          }
         },
         "name": "SD",
         "offsetgroup": "SD",
         "orientation": "v",
         "showlegend": true,
         "textposition": "auto",
         "type": "bar",
         "x": [
          "SD"
         ],
         "xaxis": "x",
         "y": [
          1956.9
         ],
         "yaxis": "y"
        },
        {
         "alignmentgroup": "True",
         "hovertemplate": "State=%{x}<br>Energy Expenditures=%{y}<extra></extra>",
         "legendgroup": "TN",
         "marker": {
          "color": "#00cc96",
          "pattern": {
           "shape": ""
          }
         },
         "name": "TN",
         "offsetgroup": "TN",
         "orientation": "v",
         "showlegend": true,
         "textposition": "auto",
         "type": "bar",
         "x": [
          "TN"
         ],
         "xaxis": "x",
         "y": [
          13759.2
         ],
         "yaxis": "y"
        },
        {
         "alignmentgroup": "True",
         "hovertemplate": "State=%{x}<br>Energy Expenditures=%{y}<extra></extra>",
         "legendgroup": "TX",
         "marker": {
          "color": "#ab63fa",
          "pattern": {
           "shape": ""
          }
         },
         "name": "TX",
         "offsetgroup": "TX",
         "orientation": "v",
         "showlegend": true,
         "textposition": "auto",
         "type": "bar",
         "x": [
          "TX"
         ],
         "xaxis": "x",
         "y": [
          74551.2
         ],
         "yaxis": "y"
        },
        {
         "alignmentgroup": "True",
         "hovertemplate": "State=%{x}<br>Energy Expenditures=%{y}<extra></extra>",
         "legendgroup": "UT",
         "marker": {
          "color": "#FFA15A",
          "pattern": {
           "shape": ""
          }
         },
         "name": "UT",
         "offsetgroup": "UT",
         "orientation": "v",
         "showlegend": true,
         "textposition": "auto",
         "type": "bar",
         "x": [
          "UT"
         ],
         "xaxis": "x",
         "y": [
          4509.1
         ],
         "yaxis": "y"
        },
        {
         "alignmentgroup": "True",
         "hovertemplate": "State=%{x}<br>Energy Expenditures=%{y}<extra></extra>",
         "legendgroup": "VA",
         "marker": {
          "color": "#19d3f3",
          "pattern": {
           "shape": ""
          }
         },
         "name": "VA",
         "offsetgroup": "VA",
         "orientation": "v",
         "showlegend": true,
         "textposition": "auto",
         "type": "bar",
         "x": [
          "VA"
         ],
         "xaxis": "x",
         "y": [
          16203.1
         ],
         "yaxis": "y"
        },
        {
         "alignmentgroup": "True",
         "hovertemplate": "State=%{x}<br>Energy Expenditures=%{y}<extra></extra>",
         "legendgroup": "VT",
         "marker": {
          "color": "#FF6692",
          "pattern": {
           "shape": ""
          }
         },
         "name": "VT",
         "offsetgroup": "VT",
         "orientation": "v",
         "showlegend": true,
         "textposition": "auto",
         "type": "bar",
         "x": [
          "VT"
         ],
         "xaxis": "x",
         "y": [
          1613.4
         ],
         "yaxis": "y"
        },
        {
         "alignmentgroup": "True",
         "hovertemplate": "State=%{x}<br>Energy Expenditures=%{y}<extra></extra>",
         "legendgroup": "WA",
         "marker": {
          "color": "#B6E880",
          "pattern": {
           "shape": ""
          }
         },
         "name": "WA",
         "offsetgroup": "WA",
         "orientation": "v",
         "showlegend": true,
         "textposition": "auto",
         "type": "bar",
         "x": [
          "WA"
         ],
         "xaxis": "x",
         "y": [
          12958.4
         ],
         "yaxis": "y"
        },
        {
         "alignmentgroup": "True",
         "hovertemplate": "State=%{x}<br>Energy Expenditures=%{y}<extra></extra>",
         "legendgroup": "WI",
         "marker": {
          "color": "#FF97FF",
          "pattern": {
           "shape": ""
          }
         },
         "name": "WI",
         "offsetgroup": "WI",
         "orientation": "v",
         "showlegend": true,
         "textposition": "auto",
         "type": "bar",
         "x": [
          "WI"
         ],
         "xaxis": "x",
         "y": [
          12642.9
         ],
         "yaxis": "y"
        },
        {
         "alignmentgroup": "True",
         "hovertemplate": "State=%{x}<br>Energy Expenditures=%{y}<extra></extra>",
         "legendgroup": "WV",
         "marker": {
          "color": "#FECB52",
          "pattern": {
           "shape": ""
          }
         },
         "name": "WV",
         "offsetgroup": "WV",
         "orientation": "v",
         "showlegend": true,
         "textposition": "auto",
         "type": "bar",
         "x": [
          "WV"
         ],
         "xaxis": "x",
         "y": [
          4323.5
         ],
         "yaxis": "y"
        },
        {
         "alignmentgroup": "True",
         "hovertemplate": "State=%{x}<br>Energy Expenditures=%{y}<extra></extra>",
         "legendgroup": "WY",
         "marker": {
          "color": "#636efa",
          "pattern": {
           "shape": ""
          }
         },
         "name": "WY",
         "offsetgroup": "WY",
         "orientation": "v",
         "showlegend": true,
         "textposition": "auto",
         "type": "bar",
         "x": [
          "WY"
         ],
         "xaxis": "x",
         "y": [
          2174.2
         ],
         "yaxis": "y"
        }
       ],
       "layout": {
        "barmode": "relative",
        "legend": {
         "title": {
          "text": "State"
         },
         "tracegroupgap": 0
        },
        "template": {
         "data": {
          "bar": [
           {
            "error_x": {
             "color": "#2a3f5f"
            },
            "error_y": {
             "color": "#2a3f5f"
            },
            "marker": {
             "line": {
              "color": "#E5ECF6",
              "width": 0.5
             },
             "pattern": {
              "fillmode": "overlay",
              "size": 10,
              "solidity": 0.2
             }
            },
            "type": "bar"
           }
          ],
          "barpolar": [
           {
            "marker": {
             "line": {
              "color": "#E5ECF6",
              "width": 0.5
             },
             "pattern": {
              "fillmode": "overlay",
              "size": 10,
              "solidity": 0.2
             }
            },
            "type": "barpolar"
           }
          ],
          "carpet": [
           {
            "aaxis": {
             "endlinecolor": "#2a3f5f",
             "gridcolor": "white",
             "linecolor": "white",
             "minorgridcolor": "white",
             "startlinecolor": "#2a3f5f"
            },
            "baxis": {
             "endlinecolor": "#2a3f5f",
             "gridcolor": "white",
             "linecolor": "white",
             "minorgridcolor": "white",
             "startlinecolor": "#2a3f5f"
            },
            "type": "carpet"
           }
          ],
          "choropleth": [
           {
            "colorbar": {
             "outlinewidth": 0,
             "ticks": ""
            },
            "type": "choropleth"
           }
          ],
          "contour": [
           {
            "colorbar": {
             "outlinewidth": 0,
             "ticks": ""
            },
            "colorscale": [
             [
              0,
              "#0d0887"
             ],
             [
              0.1111111111111111,
              "#46039f"
             ],
             [
              0.2222222222222222,
              "#7201a8"
             ],
             [
              0.3333333333333333,
              "#9c179e"
             ],
             [
              0.4444444444444444,
              "#bd3786"
             ],
             [
              0.5555555555555556,
              "#d8576b"
             ],
             [
              0.6666666666666666,
              "#ed7953"
             ],
             [
              0.7777777777777778,
              "#fb9f3a"
             ],
             [
              0.8888888888888888,
              "#fdca26"
             ],
             [
              1,
              "#f0f921"
             ]
            ],
            "type": "contour"
           }
          ],
          "contourcarpet": [
           {
            "colorbar": {
             "outlinewidth": 0,
             "ticks": ""
            },
            "type": "contourcarpet"
           }
          ],
          "heatmap": [
           {
            "colorbar": {
             "outlinewidth": 0,
             "ticks": ""
            },
            "colorscale": [
             [
              0,
              "#0d0887"
             ],
             [
              0.1111111111111111,
              "#46039f"
             ],
             [
              0.2222222222222222,
              "#7201a8"
             ],
             [
              0.3333333333333333,
              "#9c179e"
             ],
             [
              0.4444444444444444,
              "#bd3786"
             ],
             [
              0.5555555555555556,
              "#d8576b"
             ],
             [
              0.6666666666666666,
              "#ed7953"
             ],
             [
              0.7777777777777778,
              "#fb9f3a"
             ],
             [
              0.8888888888888888,
              "#fdca26"
             ],
             [
              1,
              "#f0f921"
             ]
            ],
            "type": "heatmap"
           }
          ],
          "heatmapgl": [
           {
            "colorbar": {
             "outlinewidth": 0,
             "ticks": ""
            },
            "colorscale": [
             [
              0,
              "#0d0887"
             ],
             [
              0.1111111111111111,
              "#46039f"
             ],
             [
              0.2222222222222222,
              "#7201a8"
             ],
             [
              0.3333333333333333,
              "#9c179e"
             ],
             [
              0.4444444444444444,
              "#bd3786"
             ],
             [
              0.5555555555555556,
              "#d8576b"
             ],
             [
              0.6666666666666666,
              "#ed7953"
             ],
             [
              0.7777777777777778,
              "#fb9f3a"
             ],
             [
              0.8888888888888888,
              "#fdca26"
             ],
             [
              1,
              "#f0f921"
             ]
            ],
            "type": "heatmapgl"
           }
          ],
          "histogram": [
           {
            "marker": {
             "pattern": {
              "fillmode": "overlay",
              "size": 10,
              "solidity": 0.2
             }
            },
            "type": "histogram"
           }
          ],
          "histogram2d": [
           {
            "colorbar": {
             "outlinewidth": 0,
             "ticks": ""
            },
            "colorscale": [
             [
              0,
              "#0d0887"
             ],
             [
              0.1111111111111111,
              "#46039f"
             ],
             [
              0.2222222222222222,
              "#7201a8"
             ],
             [
              0.3333333333333333,
              "#9c179e"
             ],
             [
              0.4444444444444444,
              "#bd3786"
             ],
             [
              0.5555555555555556,
              "#d8576b"
             ],
             [
              0.6666666666666666,
              "#ed7953"
             ],
             [
              0.7777777777777778,
              "#fb9f3a"
             ],
             [
              0.8888888888888888,
              "#fdca26"
             ],
             [
              1,
              "#f0f921"
             ]
            ],
            "type": "histogram2d"
           }
          ],
          "histogram2dcontour": [
           {
            "colorbar": {
             "outlinewidth": 0,
             "ticks": ""
            },
            "colorscale": [
             [
              0,
              "#0d0887"
             ],
             [
              0.1111111111111111,
              "#46039f"
             ],
             [
              0.2222222222222222,
              "#7201a8"
             ],
             [
              0.3333333333333333,
              "#9c179e"
             ],
             [
              0.4444444444444444,
              "#bd3786"
             ],
             [
              0.5555555555555556,
              "#d8576b"
             ],
             [
              0.6666666666666666,
              "#ed7953"
             ],
             [
              0.7777777777777778,
              "#fb9f3a"
             ],
             [
              0.8888888888888888,
              "#fdca26"
             ],
             [
              1,
              "#f0f921"
             ]
            ],
            "type": "histogram2dcontour"
           }
          ],
          "mesh3d": [
           {
            "colorbar": {
             "outlinewidth": 0,
             "ticks": ""
            },
            "type": "mesh3d"
           }
          ],
          "parcoords": [
           {
            "line": {
             "colorbar": {
              "outlinewidth": 0,
              "ticks": ""
             }
            },
            "type": "parcoords"
           }
          ],
          "pie": [
           {
            "automargin": true,
            "type": "pie"
           }
          ],
          "scatter": [
           {
            "fillpattern": {
             "fillmode": "overlay",
             "size": 10,
             "solidity": 0.2
            },
            "type": "scatter"
           }
          ],
          "scatter3d": [
           {
            "line": {
             "colorbar": {
              "outlinewidth": 0,
              "ticks": ""
             }
            },
            "marker": {
             "colorbar": {
              "outlinewidth": 0,
              "ticks": ""
             }
            },
            "type": "scatter3d"
           }
          ],
          "scattercarpet": [
           {
            "marker": {
             "colorbar": {
              "outlinewidth": 0,
              "ticks": ""
             }
            },
            "type": "scattercarpet"
           }
          ],
          "scattergeo": [
           {
            "marker": {
             "colorbar": {
              "outlinewidth": 0,
              "ticks": ""
             }
            },
            "type": "scattergeo"
           }
          ],
          "scattergl": [
           {
            "marker": {
             "colorbar": {
              "outlinewidth": 0,
              "ticks": ""
             }
            },
            "type": "scattergl"
           }
          ],
          "scattermapbox": [
           {
            "marker": {
             "colorbar": {
              "outlinewidth": 0,
              "ticks": ""
             }
            },
            "type": "scattermapbox"
           }
          ],
          "scatterpolar": [
           {
            "marker": {
             "colorbar": {
              "outlinewidth": 0,
              "ticks": ""
             }
            },
            "type": "scatterpolar"
           }
          ],
          "scatterpolargl": [
           {
            "marker": {
             "colorbar": {
              "outlinewidth": 0,
              "ticks": ""
             }
            },
            "type": "scatterpolargl"
           }
          ],
          "scatterternary": [
           {
            "marker": {
             "colorbar": {
              "outlinewidth": 0,
              "ticks": ""
             }
            },
            "type": "scatterternary"
           }
          ],
          "surface": [
           {
            "colorbar": {
             "outlinewidth": 0,
             "ticks": ""
            },
            "colorscale": [
             [
              0,
              "#0d0887"
             ],
             [
              0.1111111111111111,
              "#46039f"
             ],
             [
              0.2222222222222222,
              "#7201a8"
             ],
             [
              0.3333333333333333,
              "#9c179e"
             ],
             [
              0.4444444444444444,
              "#bd3786"
             ],
             [
              0.5555555555555556,
              "#d8576b"
             ],
             [
              0.6666666666666666,
              "#ed7953"
             ],
             [
              0.7777777777777778,
              "#fb9f3a"
             ],
             [
              0.8888888888888888,
              "#fdca26"
             ],
             [
              1,
              "#f0f921"
             ]
            ],
            "type": "surface"
           }
          ],
          "table": [
           {
            "cells": {
             "fill": {
              "color": "#EBF0F8"
             },
             "line": {
              "color": "white"
             }
            },
            "header": {
             "fill": {
              "color": "#C8D4E3"
             },
             "line": {
              "color": "white"
             }
            },
            "type": "table"
           }
          ]
         },
         "layout": {
          "annotationdefaults": {
           "arrowcolor": "#2a3f5f",
           "arrowhead": 0,
           "arrowwidth": 1
          },
          "autotypenumbers": "strict",
          "coloraxis": {
           "colorbar": {
            "outlinewidth": 0,
            "ticks": ""
           }
          },
          "colorscale": {
           "diverging": [
            [
             0,
             "#8e0152"
            ],
            [
             0.1,
             "#c51b7d"
            ],
            [
             0.2,
             "#de77ae"
            ],
            [
             0.3,
             "#f1b6da"
            ],
            [
             0.4,
             "#fde0ef"
            ],
            [
             0.5,
             "#f7f7f7"
            ],
            [
             0.6,
             "#e6f5d0"
            ],
            [
             0.7,
             "#b8e186"
            ],
            [
             0.8,
             "#7fbc41"
            ],
            [
             0.9,
             "#4d9221"
            ],
            [
             1,
             "#276419"
            ]
           ],
           "sequential": [
            [
             0,
             "#0d0887"
            ],
            [
             0.1111111111111111,
             "#46039f"
            ],
            [
             0.2222222222222222,
             "#7201a8"
            ],
            [
             0.3333333333333333,
             "#9c179e"
            ],
            [
             0.4444444444444444,
             "#bd3786"
            ],
            [
             0.5555555555555556,
             "#d8576b"
            ],
            [
             0.6666666666666666,
             "#ed7953"
            ],
            [
             0.7777777777777778,
             "#fb9f3a"
            ],
            [
             0.8888888888888888,
             "#fdca26"
            ],
            [
             1,
             "#f0f921"
            ]
           ],
           "sequentialminus": [
            [
             0,
             "#0d0887"
            ],
            [
             0.1111111111111111,
             "#46039f"
            ],
            [
             0.2222222222222222,
             "#7201a8"
            ],
            [
             0.3333333333333333,
             "#9c179e"
            ],
            [
             0.4444444444444444,
             "#bd3786"
            ],
            [
             0.5555555555555556,
             "#d8576b"
            ],
            [
             0.6666666666666666,
             "#ed7953"
            ],
            [
             0.7777777777777778,
             "#fb9f3a"
            ],
            [
             0.8888888888888888,
             "#fdca26"
            ],
            [
             1,
             "#f0f921"
            ]
           ]
          },
          "colorway": [
           "#636efa",
           "#EF553B",
           "#00cc96",
           "#ab63fa",
           "#FFA15A",
           "#19d3f3",
           "#FF6692",
           "#B6E880",
           "#FF97FF",
           "#FECB52"
          ],
          "font": {
           "color": "#2a3f5f"
          },
          "geo": {
           "bgcolor": "white",
           "lakecolor": "white",
           "landcolor": "#E5ECF6",
           "showlakes": true,
           "showland": true,
           "subunitcolor": "white"
          },
          "hoverlabel": {
           "align": "left"
          },
          "hovermode": "closest",
          "mapbox": {
           "style": "light"
          },
          "paper_bgcolor": "white",
          "plot_bgcolor": "#E5ECF6",
          "polar": {
           "angularaxis": {
            "gridcolor": "white",
            "linecolor": "white",
            "ticks": ""
           },
           "bgcolor": "#E5ECF6",
           "radialaxis": {
            "gridcolor": "white",
            "linecolor": "white",
            "ticks": ""
           }
          },
          "scene": {
           "xaxis": {
            "backgroundcolor": "#E5ECF6",
            "gridcolor": "white",
            "gridwidth": 2,
            "linecolor": "white",
            "showbackground": true,
            "ticks": "",
            "zerolinecolor": "white"
           },
           "yaxis": {
            "backgroundcolor": "#E5ECF6",
            "gridcolor": "white",
            "gridwidth": 2,
            "linecolor": "white",
            "showbackground": true,
            "ticks": "",
            "zerolinecolor": "white"
           },
           "zaxis": {
            "backgroundcolor": "#E5ECF6",
            "gridcolor": "white",
            "gridwidth": 2,
            "linecolor": "white",
            "showbackground": true,
            "ticks": "",
            "zerolinecolor": "white"
           }
          },
          "shapedefaults": {
           "line": {
            "color": "#2a3f5f"
           }
          },
          "ternary": {
           "aaxis": {
            "gridcolor": "white",
            "linecolor": "white",
            "ticks": ""
           },
           "baxis": {
            "gridcolor": "white",
            "linecolor": "white",
            "ticks": ""
           },
           "bgcolor": "#E5ECF6",
           "caxis": {
            "gridcolor": "white",
            "linecolor": "white",
            "ticks": ""
           }
          },
          "title": {
           "x": 0.05
          },
          "xaxis": {
           "automargin": true,
           "gridcolor": "white",
           "linecolor": "white",
           "ticks": "",
           "title": {
            "standoff": 15
           },
           "zerolinecolor": "white",
           "zerolinewidth": 2
          },
          "yaxis": {
           "automargin": true,
           "gridcolor": "white",
           "linecolor": "white",
           "ticks": "",
           "title": {
            "standoff": 15
           },
           "zerolinecolor": "white",
           "zerolinewidth": 2
          }
         }
        },
        "title": {
         "text": "Energy Expenditures by State in 2000"
        },
        "xaxis": {
         "anchor": "y",
         "categoryarray": [
          "AK",
          "AL",
          "AR",
          "AZ",
          "CA",
          "CO",
          "CT",
          "DC",
          "DE",
          "FL",
          "GA",
          "HI",
          "IA",
          "ID",
          "IL",
          "IN",
          "KS",
          "KY",
          "LA",
          "MA",
          "MD",
          "ME",
          "MI",
          "MN",
          "MO",
          "MS",
          "MT",
          "NC",
          "ND",
          "NE",
          "NH",
          "NJ",
          "NM",
          "NV",
          "NY",
          "OH",
          "OK",
          "OR",
          "PA",
          "RI",
          "SC",
          "SD",
          "TN",
          "TX",
          "UT",
          "VA",
          "VT",
          "WA",
          "WI",
          "WV",
          "WY"
         ],
         "categoryorder": "array",
         "domain": [
          0,
          1
         ],
         "title": {
          "text": "State"
         }
        },
        "yaxis": {
         "anchor": "x",
         "domain": [
          0,
          1
         ],
         "title": {
          "text": "Energy Expenditures"
         }
        }
       }
      },
      "text/html": [
       "<div>                            <div id=\"a0193c0f-a793-43dc-a06b-01ee3170be5b\" class=\"plotly-graph-div\" style=\"height:525px; width:100%;\"></div>            <script type=\"text/javascript\">                require([\"plotly\"], function(Plotly) {                    window.PLOTLYENV=window.PLOTLYENV || {};                                    if (document.getElementById(\"a0193c0f-a793-43dc-a06b-01ee3170be5b\")) {                    Plotly.newPlot(                        \"a0193c0f-a793-43dc-a06b-01ee3170be5b\",                        [{\"alignmentgroup\":\"True\",\"hovertemplate\":\"State=%{x}\\u003cbr\\u003eEnergy Expenditures=%{y}\\u003cextra\\u003e\\u003c\\u002fextra\\u003e\",\"legendgroup\":\"AK\",\"marker\":{\"color\":\"#636efa\",\"pattern\":{\"shape\":\"\"}},\"name\":\"AK\",\"offsetgroup\":\"AK\",\"orientation\":\"v\",\"showlegend\":true,\"textposition\":\"auto\",\"x\":[\"AK\"],\"xaxis\":\"x\",\"y\":[2841.6],\"yaxis\":\"y\",\"type\":\"bar\"},{\"alignmentgroup\":\"True\",\"hovertemplate\":\"State=%{x}\\u003cbr\\u003eEnergy Expenditures=%{y}\\u003cextra\\u003e\\u003c\\u002fextra\\u003e\",\"legendgroup\":\"AL\",\"marker\":{\"color\":\"#EF553B\",\"pattern\":{\"shape\":\"\"}},\"name\":\"AL\",\"offsetgroup\":\"AL\",\"orientation\":\"v\",\"showlegend\":true,\"textposition\":\"auto\",\"x\":[\"AL\"],\"xaxis\":\"x\",\"y\":[12038.9],\"yaxis\":\"y\",\"type\":\"bar\"},{\"alignmentgroup\":\"True\",\"hovertemplate\":\"State=%{x}\\u003cbr\\u003eEnergy Expenditures=%{y}\\u003cextra\\u003e\\u003c\\u002fextra\\u003e\",\"legendgroup\":\"AR\",\"marker\":{\"color\":\"#00cc96\",\"pattern\":{\"shape\":\"\"}},\"name\":\"AR\",\"offsetgroup\":\"AR\",\"orientation\":\"v\",\"showlegend\":true,\"textposition\":\"auto\",\"x\":[\"AR\"],\"xaxis\":\"x\",\"y\":[7188.4],\"yaxis\":\"y\",\"type\":\"bar\"},{\"alignmentgroup\":\"True\",\"hovertemplate\":\"State=%{x}\\u003cbr\\u003eEnergy Expenditures=%{y}\\u003cextra\\u003e\\u003c\\u002fextra\\u003e\",\"legendgroup\":\"AZ\",\"marker\":{\"color\":\"#ab63fa\",\"pattern\":{\"shape\":\"\"}},\"name\":\"AZ\",\"offsetgroup\":\"AZ\",\"orientation\":\"v\",\"showlegend\":true,\"textposition\":\"auto\",\"x\":[\"AZ\"],\"xaxis\":\"x\",\"y\":[10624.8],\"yaxis\":\"y\",\"type\":\"bar\"},{\"alignmentgroup\":\"True\",\"hovertemplate\":\"State=%{x}\\u003cbr\\u003eEnergy Expenditures=%{y}\\u003cextra\\u003e\\u003c\\u002fextra\\u003e\",\"legendgroup\":\"CA\",\"marker\":{\"color\":\"#FFA15A\",\"pattern\":{\"shape\":\"\"}},\"name\":\"CA\",\"offsetgroup\":\"CA\",\"orientation\":\"v\",\"showlegend\":true,\"textposition\":\"auto\",\"x\":[\"CA\"],\"xaxis\":\"x\",\"y\":[68282.0],\"yaxis\":\"y\",\"type\":\"bar\"},{\"alignmentgroup\":\"True\",\"hovertemplate\":\"State=%{x}\\u003cbr\\u003eEnergy Expenditures=%{y}\\u003cextra\\u003e\\u003c\\u002fextra\\u003e\",\"legendgroup\":\"CO\",\"marker\":{\"color\":\"#19d3f3\",\"pattern\":{\"shape\":\"\"}},\"name\":\"CO\",\"offsetgroup\":\"CO\",\"orientation\":\"v\",\"showlegend\":true,\"textposition\":\"auto\",\"x\":[\"CO\"],\"xaxis\":\"x\",\"y\":[8661.1],\"yaxis\":\"y\",\"type\":\"bar\"},{\"alignmentgroup\":\"True\",\"hovertemplate\":\"State=%{x}\\u003cbr\\u003eEnergy Expenditures=%{y}\\u003cextra\\u003e\\u003c\\u002fextra\\u003e\",\"legendgroup\":\"CT\",\"marker\":{\"color\":\"#FF6692\",\"pattern\":{\"shape\":\"\"}},\"name\":\"CT\",\"offsetgroup\":\"CT\",\"orientation\":\"v\",\"showlegend\":true,\"textposition\":\"auto\",\"x\":[\"CT\"],\"xaxis\":\"x\",\"y\":[7992.6],\"yaxis\":\"y\",\"type\":\"bar\"},{\"alignmentgroup\":\"True\",\"hovertemplate\":\"State=%{x}\\u003cbr\\u003eEnergy Expenditures=%{y}\\u003cextra\\u003e\\u003c\\u002fextra\\u003e\",\"legendgroup\":\"DC\",\"marker\":{\"color\":\"#B6E880\",\"pattern\":{\"shape\":\"\"}},\"name\":\"DC\",\"offsetgroup\":\"DC\",\"orientation\":\"v\",\"showlegend\":true,\"textposition\":\"auto\",\"x\":[\"DC\"],\"xaxis\":\"x\",\"y\":[1504.1],\"yaxis\":\"y\",\"type\":\"bar\"},{\"alignmentgroup\":\"True\",\"hovertemplate\":\"State=%{x}\\u003cbr\\u003eEnergy Expenditures=%{y}\\u003cextra\\u003e\\u003c\\u002fextra\\u003e\",\"legendgroup\":\"DE\",\"marker\":{\"color\":\"#FF97FF\",\"pattern\":{\"shape\":\"\"}},\"name\":\"DE\",\"offsetgroup\":\"DE\",\"orientation\":\"v\",\"showlegend\":true,\"textposition\":\"auto\",\"x\":[\"DE\"],\"xaxis\":\"x\",\"y\":[1932.2],\"yaxis\":\"y\",\"type\":\"bar\"},{\"alignmentgroup\":\"True\",\"hovertemplate\":\"State=%{x}\\u003cbr\\u003eEnergy Expenditures=%{y}\\u003cextra\\u003e\\u003c\\u002fextra\\u003e\",\"legendgroup\":\"FL\",\"marker\":{\"color\":\"#FECB52\",\"pattern\":{\"shape\":\"\"}},\"name\":\"FL\",\"offsetgroup\":\"FL\",\"orientation\":\"v\",\"showlegend\":true,\"textposition\":\"auto\",\"x\":[\"FL\"],\"xaxis\":\"x\",\"y\":[30216.1],\"yaxis\":\"y\",\"type\":\"bar\"},{\"alignmentgroup\":\"True\",\"hovertemplate\":\"State=%{x}\\u003cbr\\u003eEnergy Expenditures=%{y}\\u003cextra\\u003e\\u003c\\u002fextra\\u003e\",\"legendgroup\":\"GA\",\"marker\":{\"color\":\"#636efa\",\"pattern\":{\"shape\":\"\"}},\"name\":\"GA\",\"offsetgroup\":\"GA\",\"orientation\":\"v\",\"showlegend\":true,\"textposition\":\"auto\",\"x\":[\"GA\"],\"xaxis\":\"x\",\"y\":[19652.4],\"yaxis\":\"y\",\"type\":\"bar\"},{\"alignmentgroup\":\"True\",\"hovertemplate\":\"State=%{x}\\u003cbr\\u003eEnergy Expenditures=%{y}\\u003cextra\\u003e\\u003c\\u002fextra\\u003e\",\"legendgroup\":\"HI\",\"marker\":{\"color\":\"#EF553B\",\"pattern\":{\"shape\":\"\"}},\"name\":\"HI\",\"offsetgroup\":\"HI\",\"orientation\":\"v\",\"showlegend\":true,\"textposition\":\"auto\",\"x\":[\"HI\"],\"xaxis\":\"x\",\"y\":[2705.1],\"yaxis\":\"y\",\"type\":\"bar\"},{\"alignmentgroup\":\"True\",\"hovertemplate\":\"State=%{x}\\u003cbr\\u003eEnergy Expenditures=%{y}\\u003cextra\\u003e\\u003c\\u002fextra\\u003e\",\"legendgroup\":\"IA\",\"marker\":{\"color\":\"#00cc96\",\"pattern\":{\"shape\":\"\"}},\"name\":\"IA\",\"offsetgroup\":\"IA\",\"orientation\":\"v\",\"showlegend\":true,\"textposition\":\"auto\",\"x\":[\"IA\"],\"xaxis\":\"x\",\"y\":[8185.6],\"yaxis\":\"y\",\"type\":\"bar\"},{\"alignmentgroup\":\"True\",\"hovertemplate\":\"State=%{x}\\u003cbr\\u003eEnergy Expenditures=%{y}\\u003cextra\\u003e\\u003c\\u002fextra\\u003e\",\"legendgroup\":\"ID\",\"marker\":{\"color\":\"#ab63fa\",\"pattern\":{\"shape\":\"\"}},\"name\":\"ID\",\"offsetgroup\":\"ID\",\"orientation\":\"v\",\"showlegend\":true,\"textposition\":\"auto\",\"x\":[\"ID\"],\"xaxis\":\"x\",\"y\":[3137.3],\"yaxis\":\"y\",\"type\":\"bar\"},{\"alignmentgroup\":\"True\",\"hovertemplate\":\"State=%{x}\\u003cbr\\u003eEnergy Expenditures=%{y}\\u003cextra\\u003e\\u003c\\u002fextra\\u003e\",\"legendgroup\":\"IL\",\"marker\":{\"color\":\"#FFA15A\",\"pattern\":{\"shape\":\"\"}},\"name\":\"IL\",\"offsetgroup\":\"IL\",\"orientation\":\"v\",\"showlegend\":true,\"textposition\":\"auto\",\"x\":[\"IL\"],\"xaxis\":\"x\",\"y\":[28883.1],\"yaxis\":\"y\",\"type\":\"bar\"},{\"alignmentgroup\":\"True\",\"hovertemplate\":\"State=%{x}\\u003cbr\\u003eEnergy Expenditures=%{y}\\u003cextra\\u003e\\u003c\\u002fextra\\u003e\",\"legendgroup\":\"IN\",\"marker\":{\"color\":\"#19d3f3\",\"pattern\":{\"shape\":\"\"}},\"name\":\"IN\",\"offsetgroup\":\"IN\",\"orientation\":\"v\",\"showlegend\":true,\"textposition\":\"auto\",\"x\":[\"IN\"],\"xaxis\":\"x\",\"y\":[16660.8],\"yaxis\":\"y\",\"type\":\"bar\"},{\"alignmentgroup\":\"True\",\"hovertemplate\":\"State=%{x}\\u003cbr\\u003eEnergy Expenditures=%{y}\\u003cextra\\u003e\\u003c\\u002fextra\\u003e\",\"legendgroup\":\"KS\",\"marker\":{\"color\":\"#FF6692\",\"pattern\":{\"shape\":\"\"}},\"name\":\"KS\",\"offsetgroup\":\"KS\",\"orientation\":\"v\",\"showlegend\":true,\"textposition\":\"auto\",\"x\":[\"KS\"],\"xaxis\":\"x\",\"y\":[7256.8],\"yaxis\":\"y\",\"type\":\"bar\"},{\"alignmentgroup\":\"True\",\"hovertemplate\":\"State=%{x}\\u003cbr\\u003eEnergy Expenditures=%{y}\\u003cextra\\u003e\\u003c\\u002fextra\\u003e\",\"legendgroup\":\"KY\",\"marker\":{\"color\":\"#B6E880\",\"pattern\":{\"shape\":\"\"}},\"name\":\"KY\",\"offsetgroup\":\"KY\",\"orientation\":\"v\",\"showlegend\":true,\"textposition\":\"auto\",\"x\":[\"KY\"],\"xaxis\":\"x\",\"y\":[10309.7],\"yaxis\":\"y\",\"type\":\"bar\"},{\"alignmentgroup\":\"True\",\"hovertemplate\":\"State=%{x}\\u003cbr\\u003eEnergy Expenditures=%{y}\\u003cextra\\u003e\\u003c\\u002fextra\\u003e\",\"legendgroup\":\"LA\",\"marker\":{\"color\":\"#FF97FF\",\"pattern\":{\"shape\":\"\"}},\"name\":\"LA\",\"offsetgroup\":\"LA\",\"orientation\":\"v\",\"showlegend\":true,\"textposition\":\"auto\",\"x\":[\"LA\"],\"xaxis\":\"x\",\"y\":[23147.9],\"yaxis\":\"y\",\"type\":\"bar\"},{\"alignmentgroup\":\"True\",\"hovertemplate\":\"State=%{x}\\u003cbr\\u003eEnergy Expenditures=%{y}\\u003cextra\\u003e\\u003c\\u002fextra\\u003e\",\"legendgroup\":\"MA\",\"marker\":{\"color\":\"#FECB52\",\"pattern\":{\"shape\":\"\"}},\"name\":\"MA\",\"offsetgroup\":\"MA\",\"orientation\":\"v\",\"showlegend\":true,\"textposition\":\"auto\",\"x\":[\"MA\"],\"xaxis\":\"x\",\"y\":[14408.9],\"yaxis\":\"y\",\"type\":\"bar\"},{\"alignmentgroup\":\"True\",\"hovertemplate\":\"State=%{x}\\u003cbr\\u003eEnergy Expenditures=%{y}\\u003cextra\\u003e\\u003c\\u002fextra\\u003e\",\"legendgroup\":\"MD\",\"marker\":{\"color\":\"#636efa\",\"pattern\":{\"shape\":\"\"}},\"name\":\"MD\",\"offsetgroup\":\"MD\",\"orientation\":\"v\",\"showlegend\":true,\"textposition\":\"auto\",\"x\":[\"MD\"],\"xaxis\":\"x\",\"y\":[11258.3],\"yaxis\":\"y\",\"type\":\"bar\"},{\"alignmentgroup\":\"True\",\"hovertemplate\":\"State=%{x}\\u003cbr\\u003eEnergy Expenditures=%{y}\\u003cextra\\u003e\\u003c\\u002fextra\\u003e\",\"legendgroup\":\"ME\",\"marker\":{\"color\":\"#EF553B\",\"pattern\":{\"shape\":\"\"}},\"name\":\"ME\",\"offsetgroup\":\"ME\",\"orientation\":\"v\",\"showlegend\":true,\"textposition\":\"auto\",\"x\":[\"ME\"],\"xaxis\":\"x\",\"y\":[3735.3],\"yaxis\":\"y\",\"type\":\"bar\"},{\"alignmentgroup\":\"True\",\"hovertemplate\":\"State=%{x}\\u003cbr\\u003eEnergy Expenditures=%{y}\\u003cextra\\u003e\\u003c\\u002fextra\\u003e\",\"legendgroup\":\"MI\",\"marker\":{\"color\":\"#00cc96\",\"pattern\":{\"shape\":\"\"}},\"name\":\"MI\",\"offsetgroup\":\"MI\",\"orientation\":\"v\",\"showlegend\":true,\"textposition\":\"auto\",\"x\":[\"MI\"],\"xaxis\":\"x\",\"y\":[22219.7],\"yaxis\":\"y\",\"type\":\"bar\"},{\"alignmentgroup\":\"True\",\"hovertemplate\":\"State=%{x}\\u003cbr\\u003eEnergy Expenditures=%{y}\\u003cextra\\u003e\\u003c\\u002fextra\\u003e\",\"legendgroup\":\"MN\",\"marker\":{\"color\":\"#ab63fa\",\"pattern\":{\"shape\":\"\"}},\"name\":\"MN\",\"offsetgroup\":\"MN\",\"orientation\":\"v\",\"showlegend\":true,\"textposition\":\"auto\",\"x\":[\"MN\"],\"xaxis\":\"x\",\"y\":[12223.7],\"yaxis\":\"y\",\"type\":\"bar\"},{\"alignmentgroup\":\"True\",\"hovertemplate\":\"State=%{x}\\u003cbr\\u003eEnergy Expenditures=%{y}\\u003cextra\\u003e\\u003c\\u002fextra\\u003e\",\"legendgroup\":\"MO\",\"marker\":{\"color\":\"#FFA15A\",\"pattern\":{\"shape\":\"\"}},\"name\":\"MO\",\"offsetgroup\":\"MO\",\"orientation\":\"v\",\"showlegend\":true,\"textposition\":\"auto\",\"x\":[\"MO\"],\"xaxis\":\"x\",\"y\":[13228.9],\"yaxis\":\"y\",\"type\":\"bar\"},{\"alignmentgroup\":\"True\",\"hovertemplate\":\"State=%{x}\\u003cbr\\u003eEnergy Expenditures=%{y}\\u003cextra\\u003e\\u003c\\u002fextra\\u003e\",\"legendgroup\":\"MS\",\"marker\":{\"color\":\"#19d3f3\",\"pattern\":{\"shape\":\"\"}},\"name\":\"MS\",\"offsetgroup\":\"MS\",\"orientation\":\"v\",\"showlegend\":true,\"textposition\":\"auto\",\"x\":[\"MS\"],\"xaxis\":\"x\",\"y\":[7595.5],\"yaxis\":\"y\",\"type\":\"bar\"},{\"alignmentgroup\":\"True\",\"hovertemplate\":\"State=%{x}\\u003cbr\\u003eEnergy Expenditures=%{y}\\u003cextra\\u003e\\u003c\\u002fextra\\u003e\",\"legendgroup\":\"MT\",\"marker\":{\"color\":\"#FF6692\",\"pattern\":{\"shape\":\"\"}},\"name\":\"MT\",\"offsetgroup\":\"MT\",\"orientation\":\"v\",\"showlegend\":true,\"textposition\":\"auto\",\"x\":[\"MT\"],\"xaxis\":\"x\",\"y\":[2566.7],\"yaxis\":\"y\",\"type\":\"bar\"},{\"alignmentgroup\":\"True\",\"hovertemplate\":\"State=%{x}\\u003cbr\\u003eEnergy Expenditures=%{y}\\u003cextra\\u003e\\u003c\\u002fextra\\u003e\",\"legendgroup\":\"NC\",\"marker\":{\"color\":\"#B6E880\",\"pattern\":{\"shape\":\"\"}},\"name\":\"NC\",\"offsetgroup\":\"NC\",\"orientation\":\"v\",\"showlegend\":true,\"textposition\":\"auto\",\"x\":[\"NC\"],\"xaxis\":\"x\",\"y\":[19065.2],\"yaxis\":\"y\",\"type\":\"bar\"},{\"alignmentgroup\":\"True\",\"hovertemplate\":\"State=%{x}\\u003cbr\\u003eEnergy Expenditures=%{y}\\u003cextra\\u003e\\u003c\\u002fextra\\u003e\",\"legendgroup\":\"ND\",\"marker\":{\"color\":\"#FF97FF\",\"pattern\":{\"shape\":\"\"}},\"name\":\"ND\",\"offsetgroup\":\"ND\",\"orientation\":\"v\",\"showlegend\":true,\"textposition\":\"auto\",\"x\":[\"ND\"],\"xaxis\":\"x\",\"y\":[1971.8],\"yaxis\":\"y\",\"type\":\"bar\"},{\"alignmentgroup\":\"True\",\"hovertemplate\":\"State=%{x}\\u003cbr\\u003eEnergy Expenditures=%{y}\\u003cextra\\u003e\\u003c\\u002fextra\\u003e\",\"legendgroup\":\"NE\",\"marker\":{\"color\":\"#FECB52\",\"pattern\":{\"shape\":\"\"}},\"name\":\"NE\",\"offsetgroup\":\"NE\",\"orientation\":\"v\",\"showlegend\":true,\"textposition\":\"auto\",\"x\":[\"NE\"],\"xaxis\":\"x\",\"y\":[4382.1],\"yaxis\":\"y\",\"type\":\"bar\"},{\"alignmentgroup\":\"True\",\"hovertemplate\":\"State=%{x}\\u003cbr\\u003eEnergy Expenditures=%{y}\\u003cextra\\u003e\\u003c\\u002fextra\\u003e\",\"legendgroup\":\"NH\",\"marker\":{\"color\":\"#636efa\",\"pattern\":{\"shape\":\"\"}},\"name\":\"NH\",\"offsetgroup\":\"NH\",\"orientation\":\"v\",\"showlegend\":true,\"textposition\":\"auto\",\"x\":[\"NH\"],\"xaxis\":\"x\",\"y\":[3135.7],\"yaxis\":\"y\",\"type\":\"bar\"},{\"alignmentgroup\":\"True\",\"hovertemplate\":\"State=%{x}\\u003cbr\\u003eEnergy Expenditures=%{y}\\u003cextra\\u003e\\u003c\\u002fextra\\u003e\",\"legendgroup\":\"NJ\",\"marker\":{\"color\":\"#EF553B\",\"pattern\":{\"shape\":\"\"}},\"name\":\"NJ\",\"offsetgroup\":\"NJ\",\"orientation\":\"v\",\"showlegend\":true,\"textposition\":\"auto\",\"x\":[\"NJ\"],\"xaxis\":\"x\",\"y\":[20409.1],\"yaxis\":\"y\",\"type\":\"bar\"},{\"alignmentgroup\":\"True\",\"hovertemplate\":\"State=%{x}\\u003cbr\\u003eEnergy Expenditures=%{y}\\u003cextra\\u003e\\u003c\\u002fextra\\u003e\",\"legendgroup\":\"NM\",\"marker\":{\"color\":\"#00cc96\",\"pattern\":{\"shape\":\"\"}},\"name\":\"NM\",\"offsetgroup\":\"NM\",\"orientation\":\"v\",\"showlegend\":true,\"textposition\":\"auto\",\"x\":[\"NM\"],\"xaxis\":\"x\",\"y\":[4025.1],\"yaxis\":\"y\",\"type\":\"bar\"},{\"alignmentgroup\":\"True\",\"hovertemplate\":\"State=%{x}\\u003cbr\\u003eEnergy Expenditures=%{y}\\u003cextra\\u003e\\u003c\\u002fextra\\u003e\",\"legendgroup\":\"NV\",\"marker\":{\"color\":\"#ab63fa\",\"pattern\":{\"shape\":\"\"}},\"name\":\"NV\",\"offsetgroup\":\"NV\",\"orientation\":\"v\",\"showlegend\":true,\"textposition\":\"auto\",\"x\":[\"NV\"],\"xaxis\":\"x\",\"y\":[4733.1],\"yaxis\":\"y\",\"type\":\"bar\"},{\"alignmentgroup\":\"True\",\"hovertemplate\":\"State=%{x}\\u003cbr\\u003eEnergy Expenditures=%{y}\\u003cextra\\u003e\\u003c\\u002fextra\\u003e\",\"legendgroup\":\"NY\",\"marker\":{\"color\":\"#FFA15A\",\"pattern\":{\"shape\":\"\"}},\"name\":\"NY\",\"offsetgroup\":\"NY\",\"orientation\":\"v\",\"showlegend\":true,\"textposition\":\"auto\",\"x\":[\"NY\"],\"xaxis\":\"x\",\"y\":[39216.8],\"yaxis\":\"y\",\"type\":\"bar\"},{\"alignmentgroup\":\"True\",\"hovertemplate\":\"State=%{x}\\u003cbr\\u003eEnergy Expenditures=%{y}\\u003cextra\\u003e\\u003c\\u002fextra\\u003e\",\"legendgroup\":\"OH\",\"marker\":{\"color\":\"#19d3f3\",\"pattern\":{\"shape\":\"\"}},\"name\":\"OH\",\"offsetgroup\":\"OH\",\"orientation\":\"v\",\"showlegend\":true,\"textposition\":\"auto\",\"x\":[\"OH\"],\"xaxis\":\"x\",\"y\":[29343.5],\"yaxis\":\"y\",\"type\":\"bar\"},{\"alignmentgroup\":\"True\",\"hovertemplate\":\"State=%{x}\\u003cbr\\u003eEnergy Expenditures=%{y}\\u003cextra\\u003e\\u003c\\u002fextra\\u003e\",\"legendgroup\":\"OK\",\"marker\":{\"color\":\"#FF6692\",\"pattern\":{\"shape\":\"\"}},\"name\":\"OK\",\"offsetgroup\":\"OK\",\"orientation\":\"v\",\"showlegend\":true,\"textposition\":\"auto\",\"x\":[\"OK\"],\"xaxis\":\"x\",\"y\":[9290.6],\"yaxis\":\"y\",\"type\":\"bar\"},{\"alignmentgroup\":\"True\",\"hovertemplate\":\"State=%{x}\\u003cbr\\u003eEnergy Expenditures=%{y}\\u003cextra\\u003e\\u003c\\u002fextra\\u003e\",\"legendgroup\":\"OR\",\"marker\":{\"color\":\"#B6E880\",\"pattern\":{\"shape\":\"\"}},\"name\":\"OR\",\"offsetgroup\":\"OR\",\"orientation\":\"v\",\"showlegend\":true,\"textposition\":\"auto\",\"x\":[\"OR\"],\"xaxis\":\"x\",\"y\":[7581.3],\"yaxis\":\"y\",\"type\":\"bar\"},{\"alignmentgroup\":\"True\",\"hovertemplate\":\"State=%{x}\\u003cbr\\u003eEnergy Expenditures=%{y}\\u003cextra\\u003e\\u003c\\u002fextra\\u003e\",\"legendgroup\":\"PA\",\"marker\":{\"color\":\"#FF97FF\",\"pattern\":{\"shape\":\"\"}},\"name\":\"PA\",\"offsetgroup\":\"PA\",\"orientation\":\"v\",\"showlegend\":true,\"textposition\":\"auto\",\"x\":[\"PA\"],\"xaxis\":\"x\",\"y\":[28948.6],\"yaxis\":\"y\",\"type\":\"bar\"},{\"alignmentgroup\":\"True\",\"hovertemplate\":\"State=%{x}\\u003cbr\\u003eEnergy Expenditures=%{y}\\u003cextra\\u003e\\u003c\\u002fextra\\u003e\",\"legendgroup\":\"RI\",\"marker\":{\"color\":\"#FECB52\",\"pattern\":{\"shape\":\"\"}},\"name\":\"RI\",\"offsetgroup\":\"RI\",\"orientation\":\"v\",\"showlegend\":true,\"textposition\":\"auto\",\"x\":[\"RI\"],\"xaxis\":\"x\",\"y\":[2170.9],\"yaxis\":\"y\",\"type\":\"bar\"},{\"alignmentgroup\":\"True\",\"hovertemplate\":\"State=%{x}\\u003cbr\\u003eEnergy Expenditures=%{y}\\u003cextra\\u003e\\u003c\\u002fextra\\u003e\",\"legendgroup\":\"SC\",\"marker\":{\"color\":\"#636efa\",\"pattern\":{\"shape\":\"\"}},\"name\":\"SC\",\"offsetgroup\":\"SC\",\"orientation\":\"v\",\"showlegend\":true,\"textposition\":\"auto\",\"x\":[\"SC\"],\"xaxis\":\"x\",\"y\":[10141.8],\"yaxis\":\"y\",\"type\":\"bar\"},{\"alignmentgroup\":\"True\",\"hovertemplate\":\"State=%{x}\\u003cbr\\u003eEnergy Expenditures=%{y}\\u003cextra\\u003e\\u003c\\u002fextra\\u003e\",\"legendgroup\":\"SD\",\"marker\":{\"color\":\"#EF553B\",\"pattern\":{\"shape\":\"\"}},\"name\":\"SD\",\"offsetgroup\":\"SD\",\"orientation\":\"v\",\"showlegend\":true,\"textposition\":\"auto\",\"x\":[\"SD\"],\"xaxis\":\"x\",\"y\":[1956.9],\"yaxis\":\"y\",\"type\":\"bar\"},{\"alignmentgroup\":\"True\",\"hovertemplate\":\"State=%{x}\\u003cbr\\u003eEnergy Expenditures=%{y}\\u003cextra\\u003e\\u003c\\u002fextra\\u003e\",\"legendgroup\":\"TN\",\"marker\":{\"color\":\"#00cc96\",\"pattern\":{\"shape\":\"\"}},\"name\":\"TN\",\"offsetgroup\":\"TN\",\"orientation\":\"v\",\"showlegend\":true,\"textposition\":\"auto\",\"x\":[\"TN\"],\"xaxis\":\"x\",\"y\":[13759.2],\"yaxis\":\"y\",\"type\":\"bar\"},{\"alignmentgroup\":\"True\",\"hovertemplate\":\"State=%{x}\\u003cbr\\u003eEnergy Expenditures=%{y}\\u003cextra\\u003e\\u003c\\u002fextra\\u003e\",\"legendgroup\":\"TX\",\"marker\":{\"color\":\"#ab63fa\",\"pattern\":{\"shape\":\"\"}},\"name\":\"TX\",\"offsetgroup\":\"TX\",\"orientation\":\"v\",\"showlegend\":true,\"textposition\":\"auto\",\"x\":[\"TX\"],\"xaxis\":\"x\",\"y\":[74551.2],\"yaxis\":\"y\",\"type\":\"bar\"},{\"alignmentgroup\":\"True\",\"hovertemplate\":\"State=%{x}\\u003cbr\\u003eEnergy Expenditures=%{y}\\u003cextra\\u003e\\u003c\\u002fextra\\u003e\",\"legendgroup\":\"UT\",\"marker\":{\"color\":\"#FFA15A\",\"pattern\":{\"shape\":\"\"}},\"name\":\"UT\",\"offsetgroup\":\"UT\",\"orientation\":\"v\",\"showlegend\":true,\"textposition\":\"auto\",\"x\":[\"UT\"],\"xaxis\":\"x\",\"y\":[4509.1],\"yaxis\":\"y\",\"type\":\"bar\"},{\"alignmentgroup\":\"True\",\"hovertemplate\":\"State=%{x}\\u003cbr\\u003eEnergy Expenditures=%{y}\\u003cextra\\u003e\\u003c\\u002fextra\\u003e\",\"legendgroup\":\"VA\",\"marker\":{\"color\":\"#19d3f3\",\"pattern\":{\"shape\":\"\"}},\"name\":\"VA\",\"offsetgroup\":\"VA\",\"orientation\":\"v\",\"showlegend\":true,\"textposition\":\"auto\",\"x\":[\"VA\"],\"xaxis\":\"x\",\"y\":[16203.1],\"yaxis\":\"y\",\"type\":\"bar\"},{\"alignmentgroup\":\"True\",\"hovertemplate\":\"State=%{x}\\u003cbr\\u003eEnergy Expenditures=%{y}\\u003cextra\\u003e\\u003c\\u002fextra\\u003e\",\"legendgroup\":\"VT\",\"marker\":{\"color\":\"#FF6692\",\"pattern\":{\"shape\":\"\"}},\"name\":\"VT\",\"offsetgroup\":\"VT\",\"orientation\":\"v\",\"showlegend\":true,\"textposition\":\"auto\",\"x\":[\"VT\"],\"xaxis\":\"x\",\"y\":[1613.4],\"yaxis\":\"y\",\"type\":\"bar\"},{\"alignmentgroup\":\"True\",\"hovertemplate\":\"State=%{x}\\u003cbr\\u003eEnergy Expenditures=%{y}\\u003cextra\\u003e\\u003c\\u002fextra\\u003e\",\"legendgroup\":\"WA\",\"marker\":{\"color\":\"#B6E880\",\"pattern\":{\"shape\":\"\"}},\"name\":\"WA\",\"offsetgroup\":\"WA\",\"orientation\":\"v\",\"showlegend\":true,\"textposition\":\"auto\",\"x\":[\"WA\"],\"xaxis\":\"x\",\"y\":[12958.4],\"yaxis\":\"y\",\"type\":\"bar\"},{\"alignmentgroup\":\"True\",\"hovertemplate\":\"State=%{x}\\u003cbr\\u003eEnergy Expenditures=%{y}\\u003cextra\\u003e\\u003c\\u002fextra\\u003e\",\"legendgroup\":\"WI\",\"marker\":{\"color\":\"#FF97FF\",\"pattern\":{\"shape\":\"\"}},\"name\":\"WI\",\"offsetgroup\":\"WI\",\"orientation\":\"v\",\"showlegend\":true,\"textposition\":\"auto\",\"x\":[\"WI\"],\"xaxis\":\"x\",\"y\":[12642.9],\"yaxis\":\"y\",\"type\":\"bar\"},{\"alignmentgroup\":\"True\",\"hovertemplate\":\"State=%{x}\\u003cbr\\u003eEnergy Expenditures=%{y}\\u003cextra\\u003e\\u003c\\u002fextra\\u003e\",\"legendgroup\":\"WV\",\"marker\":{\"color\":\"#FECB52\",\"pattern\":{\"shape\":\"\"}},\"name\":\"WV\",\"offsetgroup\":\"WV\",\"orientation\":\"v\",\"showlegend\":true,\"textposition\":\"auto\",\"x\":[\"WV\"],\"xaxis\":\"x\",\"y\":[4323.5],\"yaxis\":\"y\",\"type\":\"bar\"},{\"alignmentgroup\":\"True\",\"hovertemplate\":\"State=%{x}\\u003cbr\\u003eEnergy Expenditures=%{y}\\u003cextra\\u003e\\u003c\\u002fextra\\u003e\",\"legendgroup\":\"WY\",\"marker\":{\"color\":\"#636efa\",\"pattern\":{\"shape\":\"\"}},\"name\":\"WY\",\"offsetgroup\":\"WY\",\"orientation\":\"v\",\"showlegend\":true,\"textposition\":\"auto\",\"x\":[\"WY\"],\"xaxis\":\"x\",\"y\":[2174.2],\"yaxis\":\"y\",\"type\":\"bar\"}],                        {\"template\":{\"data\":{\"histogram2dcontour\":[{\"type\":\"histogram2dcontour\",\"colorbar\":{\"outlinewidth\":0,\"ticks\":\"\"},\"colorscale\":[[0.0,\"#0d0887\"],[0.1111111111111111,\"#46039f\"],[0.2222222222222222,\"#7201a8\"],[0.3333333333333333,\"#9c179e\"],[0.4444444444444444,\"#bd3786\"],[0.5555555555555556,\"#d8576b\"],[0.6666666666666666,\"#ed7953\"],[0.7777777777777778,\"#fb9f3a\"],[0.8888888888888888,\"#fdca26\"],[1.0,\"#f0f921\"]]}],\"choropleth\":[{\"type\":\"choropleth\",\"colorbar\":{\"outlinewidth\":0,\"ticks\":\"\"}}],\"histogram2d\":[{\"type\":\"histogram2d\",\"colorbar\":{\"outlinewidth\":0,\"ticks\":\"\"},\"colorscale\":[[0.0,\"#0d0887\"],[0.1111111111111111,\"#46039f\"],[0.2222222222222222,\"#7201a8\"],[0.3333333333333333,\"#9c179e\"],[0.4444444444444444,\"#bd3786\"],[0.5555555555555556,\"#d8576b\"],[0.6666666666666666,\"#ed7953\"],[0.7777777777777778,\"#fb9f3a\"],[0.8888888888888888,\"#fdca26\"],[1.0,\"#f0f921\"]]}],\"heatmap\":[{\"type\":\"heatmap\",\"colorbar\":{\"outlinewidth\":0,\"ticks\":\"\"},\"colorscale\":[[0.0,\"#0d0887\"],[0.1111111111111111,\"#46039f\"],[0.2222222222222222,\"#7201a8\"],[0.3333333333333333,\"#9c179e\"],[0.4444444444444444,\"#bd3786\"],[0.5555555555555556,\"#d8576b\"],[0.6666666666666666,\"#ed7953\"],[0.7777777777777778,\"#fb9f3a\"],[0.8888888888888888,\"#fdca26\"],[1.0,\"#f0f921\"]]}],\"heatmapgl\":[{\"type\":\"heatmapgl\",\"colorbar\":{\"outlinewidth\":0,\"ticks\":\"\"},\"colorscale\":[[0.0,\"#0d0887\"],[0.1111111111111111,\"#46039f\"],[0.2222222222222222,\"#7201a8\"],[0.3333333333333333,\"#9c179e\"],[0.4444444444444444,\"#bd3786\"],[0.5555555555555556,\"#d8576b\"],[0.6666666666666666,\"#ed7953\"],[0.7777777777777778,\"#fb9f3a\"],[0.8888888888888888,\"#fdca26\"],[1.0,\"#f0f921\"]]}],\"contourcarpet\":[{\"type\":\"contourcarpet\",\"colorbar\":{\"outlinewidth\":0,\"ticks\":\"\"}}],\"contour\":[{\"type\":\"contour\",\"colorbar\":{\"outlinewidth\":0,\"ticks\":\"\"},\"colorscale\":[[0.0,\"#0d0887\"],[0.1111111111111111,\"#46039f\"],[0.2222222222222222,\"#7201a8\"],[0.3333333333333333,\"#9c179e\"],[0.4444444444444444,\"#bd3786\"],[0.5555555555555556,\"#d8576b\"],[0.6666666666666666,\"#ed7953\"],[0.7777777777777778,\"#fb9f3a\"],[0.8888888888888888,\"#fdca26\"],[1.0,\"#f0f921\"]]}],\"surface\":[{\"type\":\"surface\",\"colorbar\":{\"outlinewidth\":0,\"ticks\":\"\"},\"colorscale\":[[0.0,\"#0d0887\"],[0.1111111111111111,\"#46039f\"],[0.2222222222222222,\"#7201a8\"],[0.3333333333333333,\"#9c179e\"],[0.4444444444444444,\"#bd3786\"],[0.5555555555555556,\"#d8576b\"],[0.6666666666666666,\"#ed7953\"],[0.7777777777777778,\"#fb9f3a\"],[0.8888888888888888,\"#fdca26\"],[1.0,\"#f0f921\"]]}],\"mesh3d\":[{\"type\":\"mesh3d\",\"colorbar\":{\"outlinewidth\":0,\"ticks\":\"\"}}],\"scatter\":[{\"fillpattern\":{\"fillmode\":\"overlay\",\"size\":10,\"solidity\":0.2},\"type\":\"scatter\"}],\"parcoords\":[{\"type\":\"parcoords\",\"line\":{\"colorbar\":{\"outlinewidth\":0,\"ticks\":\"\"}}}],\"scatterpolargl\":[{\"type\":\"scatterpolargl\",\"marker\":{\"colorbar\":{\"outlinewidth\":0,\"ticks\":\"\"}}}],\"bar\":[{\"error_x\":{\"color\":\"#2a3f5f\"},\"error_y\":{\"color\":\"#2a3f5f\"},\"marker\":{\"line\":{\"color\":\"#E5ECF6\",\"width\":0.5},\"pattern\":{\"fillmode\":\"overlay\",\"size\":10,\"solidity\":0.2}},\"type\":\"bar\"}],\"scattergeo\":[{\"type\":\"scattergeo\",\"marker\":{\"colorbar\":{\"outlinewidth\":0,\"ticks\":\"\"}}}],\"scatterpolar\":[{\"type\":\"scatterpolar\",\"marker\":{\"colorbar\":{\"outlinewidth\":0,\"ticks\":\"\"}}}],\"histogram\":[{\"marker\":{\"pattern\":{\"fillmode\":\"overlay\",\"size\":10,\"solidity\":0.2}},\"type\":\"histogram\"}],\"scattergl\":[{\"type\":\"scattergl\",\"marker\":{\"colorbar\":{\"outlinewidth\":0,\"ticks\":\"\"}}}],\"scatter3d\":[{\"type\":\"scatter3d\",\"line\":{\"colorbar\":{\"outlinewidth\":0,\"ticks\":\"\"}},\"marker\":{\"colorbar\":{\"outlinewidth\":0,\"ticks\":\"\"}}}],\"scattermapbox\":[{\"type\":\"scattermapbox\",\"marker\":{\"colorbar\":{\"outlinewidth\":0,\"ticks\":\"\"}}}],\"scatterternary\":[{\"type\":\"scatterternary\",\"marker\":{\"colorbar\":{\"outlinewidth\":0,\"ticks\":\"\"}}}],\"scattercarpet\":[{\"type\":\"scattercarpet\",\"marker\":{\"colorbar\":{\"outlinewidth\":0,\"ticks\":\"\"}}}],\"carpet\":[{\"aaxis\":{\"endlinecolor\":\"#2a3f5f\",\"gridcolor\":\"white\",\"linecolor\":\"white\",\"minorgridcolor\":\"white\",\"startlinecolor\":\"#2a3f5f\"},\"baxis\":{\"endlinecolor\":\"#2a3f5f\",\"gridcolor\":\"white\",\"linecolor\":\"white\",\"minorgridcolor\":\"white\",\"startlinecolor\":\"#2a3f5f\"},\"type\":\"carpet\"}],\"table\":[{\"cells\":{\"fill\":{\"color\":\"#EBF0F8\"},\"line\":{\"color\":\"white\"}},\"header\":{\"fill\":{\"color\":\"#C8D4E3\"},\"line\":{\"color\":\"white\"}},\"type\":\"table\"}],\"barpolar\":[{\"marker\":{\"line\":{\"color\":\"#E5ECF6\",\"width\":0.5},\"pattern\":{\"fillmode\":\"overlay\",\"size\":10,\"solidity\":0.2}},\"type\":\"barpolar\"}],\"pie\":[{\"automargin\":true,\"type\":\"pie\"}]},\"layout\":{\"autotypenumbers\":\"strict\",\"colorway\":[\"#636efa\",\"#EF553B\",\"#00cc96\",\"#ab63fa\",\"#FFA15A\",\"#19d3f3\",\"#FF6692\",\"#B6E880\",\"#FF97FF\",\"#FECB52\"],\"font\":{\"color\":\"#2a3f5f\"},\"hovermode\":\"closest\",\"hoverlabel\":{\"align\":\"left\"},\"paper_bgcolor\":\"white\",\"plot_bgcolor\":\"#E5ECF6\",\"polar\":{\"bgcolor\":\"#E5ECF6\",\"angularaxis\":{\"gridcolor\":\"white\",\"linecolor\":\"white\",\"ticks\":\"\"},\"radialaxis\":{\"gridcolor\":\"white\",\"linecolor\":\"white\",\"ticks\":\"\"}},\"ternary\":{\"bgcolor\":\"#E5ECF6\",\"aaxis\":{\"gridcolor\":\"white\",\"linecolor\":\"white\",\"ticks\":\"\"},\"baxis\":{\"gridcolor\":\"white\",\"linecolor\":\"white\",\"ticks\":\"\"},\"caxis\":{\"gridcolor\":\"white\",\"linecolor\":\"white\",\"ticks\":\"\"}},\"coloraxis\":{\"colorbar\":{\"outlinewidth\":0,\"ticks\":\"\"}},\"colorscale\":{\"sequential\":[[0.0,\"#0d0887\"],[0.1111111111111111,\"#46039f\"],[0.2222222222222222,\"#7201a8\"],[0.3333333333333333,\"#9c179e\"],[0.4444444444444444,\"#bd3786\"],[0.5555555555555556,\"#d8576b\"],[0.6666666666666666,\"#ed7953\"],[0.7777777777777778,\"#fb9f3a\"],[0.8888888888888888,\"#fdca26\"],[1.0,\"#f0f921\"]],\"sequentialminus\":[[0.0,\"#0d0887\"],[0.1111111111111111,\"#46039f\"],[0.2222222222222222,\"#7201a8\"],[0.3333333333333333,\"#9c179e\"],[0.4444444444444444,\"#bd3786\"],[0.5555555555555556,\"#d8576b\"],[0.6666666666666666,\"#ed7953\"],[0.7777777777777778,\"#fb9f3a\"],[0.8888888888888888,\"#fdca26\"],[1.0,\"#f0f921\"]],\"diverging\":[[0,\"#8e0152\"],[0.1,\"#c51b7d\"],[0.2,\"#de77ae\"],[0.3,\"#f1b6da\"],[0.4,\"#fde0ef\"],[0.5,\"#f7f7f7\"],[0.6,\"#e6f5d0\"],[0.7,\"#b8e186\"],[0.8,\"#7fbc41\"],[0.9,\"#4d9221\"],[1,\"#276419\"]]},\"xaxis\":{\"gridcolor\":\"white\",\"linecolor\":\"white\",\"ticks\":\"\",\"title\":{\"standoff\":15},\"zerolinecolor\":\"white\",\"automargin\":true,\"zerolinewidth\":2},\"yaxis\":{\"gridcolor\":\"white\",\"linecolor\":\"white\",\"ticks\":\"\",\"title\":{\"standoff\":15},\"zerolinecolor\":\"white\",\"automargin\":true,\"zerolinewidth\":2},\"scene\":{\"xaxis\":{\"backgroundcolor\":\"#E5ECF6\",\"gridcolor\":\"white\",\"linecolor\":\"white\",\"showbackground\":true,\"ticks\":\"\",\"zerolinecolor\":\"white\",\"gridwidth\":2},\"yaxis\":{\"backgroundcolor\":\"#E5ECF6\",\"gridcolor\":\"white\",\"linecolor\":\"white\",\"showbackground\":true,\"ticks\":\"\",\"zerolinecolor\":\"white\",\"gridwidth\":2},\"zaxis\":{\"backgroundcolor\":\"#E5ECF6\",\"gridcolor\":\"white\",\"linecolor\":\"white\",\"showbackground\":true,\"ticks\":\"\",\"zerolinecolor\":\"white\",\"gridwidth\":2}},\"shapedefaults\":{\"line\":{\"color\":\"#2a3f5f\"}},\"annotationdefaults\":{\"arrowcolor\":\"#2a3f5f\",\"arrowhead\":0,\"arrowwidth\":1},\"geo\":{\"bgcolor\":\"white\",\"landcolor\":\"#E5ECF6\",\"subunitcolor\":\"white\",\"showland\":true,\"showlakes\":true,\"lakecolor\":\"white\"},\"title\":{\"x\":0.05},\"mapbox\":{\"style\":\"light\"}}},\"xaxis\":{\"anchor\":\"y\",\"domain\":[0.0,1.0],\"title\":{\"text\":\"State\"},\"categoryorder\":\"array\",\"categoryarray\":[\"AK\",\"AL\",\"AR\",\"AZ\",\"CA\",\"CO\",\"CT\",\"DC\",\"DE\",\"FL\",\"GA\",\"HI\",\"IA\",\"ID\",\"IL\",\"IN\",\"KS\",\"KY\",\"LA\",\"MA\",\"MD\",\"ME\",\"MI\",\"MN\",\"MO\",\"MS\",\"MT\",\"NC\",\"ND\",\"NE\",\"NH\",\"NJ\",\"NM\",\"NV\",\"NY\",\"OH\",\"OK\",\"OR\",\"PA\",\"RI\",\"SC\",\"SD\",\"TN\",\"TX\",\"UT\",\"VA\",\"VT\",\"WA\",\"WI\",\"WV\",\"WY\"]},\"yaxis\":{\"anchor\":\"x\",\"domain\":[0.0,1.0],\"title\":{\"text\":\"Energy Expenditures\"}},\"legend\":{\"title\":{\"text\":\"State\"},\"tracegroupgap\":0},\"title\":{\"text\":\"Energy Expenditures by State in 2000\"},\"barmode\":\"relative\"},                        {\"responsive\": true}                    ).then(function(){\n",
       "                            \n",
       "var gd = document.getElementById('a0193c0f-a793-43dc-a06b-01ee3170be5b');\n",
       "var x = new MutationObserver(function (mutations, observer) {{\n",
       "        var display = window.getComputedStyle(gd).display;\n",
       "        if (!display || display === 'none') {{\n",
       "            console.log([gd, 'removed!']);\n",
       "            Plotly.purge(gd);\n",
       "            observer.disconnect();\n",
       "        }}\n",
       "}});\n",
       "\n",
       "// Listen for the removal of the full notebook cells\n",
       "var notebookContainer = gd.closest('#notebook-container');\n",
       "if (notebookContainer) {{\n",
       "    x.observe(notebookContainer, {childList: true});\n",
       "}}\n",
       "\n",
       "// Listen for the clearing of the current output cell\n",
       "var outputEl = gd.closest('.output');\n",
       "if (outputEl) {{\n",
       "    x.observe(outputEl, {childList: true});\n",
       "}}\n",
       "\n",
       "                        })                };                });            </script>        </div>"
      ]
     },
     "metadata": {},
     "output_type": "display_data"
    }
   ],
   "source": [
    "data_2000_bar = merged_all_data[merged_all_data['Year'] == 2000]\n",
    "data_2000_bar = data_2000[data_2000[\"State\"] != \"US\"]\n",
    "# Bar chart for energy expenditures in 2022 across states\n",
    "fig_bar_2 = px.bar(data_2000_bar, \n",
    "             x='State', \n",
    "             y='Expenditures', \n",
    "             title=\"Energy Expenditures by State in 2000\",\n",
    "             labels={'Expenditures': 'Energy Expenditures', 'State': 'State'},\n",
    "             color='State')\n",
    "fig_bar_2.show()"
   ]
  },
  {
   "cell_type": "markdown",
   "id": "6a2b8f78-9b00-4f02-9944-0d2bdcabebba",
   "metadata": {},
   "source": [
    "From the bar charts, we dont see much difference in the way the states have been spending on energy from 2000 and 2022"
   ]
  },
  {
   "cell_type": "markdown",
   "id": "5bd36340-1553-45fe-95ac-f41d660a1ae7",
   "metadata": {},
   "source": [
    "#### Now lets look at the relationship between energy expenditure's share of gdp and renewable energy consumption for the top 5 spenders of energy in 2000 to understand the difference"
   ]
  },
  {
   "cell_type": "code",
   "execution_count": 38,
   "id": "c732d2dd-1740-402c-acfe-a6cae13d4445",
   "metadata": {},
   "outputs": [
    {
     "data": {
      "application/vnd.plotly.v1+json": {
       "config": {
        "plotlyServerURL": "https://plot.ly"
       },
       "data": [
        {
         "hovertemplate": "Exp_GDP_%=%{x}<br>Total BTU Consumption=%{y}<br>State=%{text}<extra></extra>",
         "legendgroup": "",
         "marker": {
          "color": "#636efa",
          "symbol": "circle"
         },
         "mode": "markers+text",
         "name": "",
         "orientation": "v",
         "showlegend": false,
         "text": [
          "TX",
          "CA",
          "FL",
          "NY",
          "PA"
         ],
         "type": "scatter",
         "x": [
          8.44,
          5.49,
          6.2,
          3.94,
          6.9
         ],
         "xaxis": "x",
         "y": [
          351106,
          832035,
          300693,
          255100,
          172620
         ],
         "yaxis": "y"
        }
       ],
       "layout": {
        "legend": {
         "tracegroupgap": 0
        },
        "template": {
         "data": {
          "bar": [
           {
            "error_x": {
             "color": "#2a3f5f"
            },
            "error_y": {
             "color": "#2a3f5f"
            },
            "marker": {
             "line": {
              "color": "#E5ECF6",
              "width": 0.5
             },
             "pattern": {
              "fillmode": "overlay",
              "size": 10,
              "solidity": 0.2
             }
            },
            "type": "bar"
           }
          ],
          "barpolar": [
           {
            "marker": {
             "line": {
              "color": "#E5ECF6",
              "width": 0.5
             },
             "pattern": {
              "fillmode": "overlay",
              "size": 10,
              "solidity": 0.2
             }
            },
            "type": "barpolar"
           }
          ],
          "carpet": [
           {
            "aaxis": {
             "endlinecolor": "#2a3f5f",
             "gridcolor": "white",
             "linecolor": "white",
             "minorgridcolor": "white",
             "startlinecolor": "#2a3f5f"
            },
            "baxis": {
             "endlinecolor": "#2a3f5f",
             "gridcolor": "white",
             "linecolor": "white",
             "minorgridcolor": "white",
             "startlinecolor": "#2a3f5f"
            },
            "type": "carpet"
           }
          ],
          "choropleth": [
           {
            "colorbar": {
             "outlinewidth": 0,
             "ticks": ""
            },
            "type": "choropleth"
           }
          ],
          "contour": [
           {
            "colorbar": {
             "outlinewidth": 0,
             "ticks": ""
            },
            "colorscale": [
             [
              0,
              "#0d0887"
             ],
             [
              0.1111111111111111,
              "#46039f"
             ],
             [
              0.2222222222222222,
              "#7201a8"
             ],
             [
              0.3333333333333333,
              "#9c179e"
             ],
             [
              0.4444444444444444,
              "#bd3786"
             ],
             [
              0.5555555555555556,
              "#d8576b"
             ],
             [
              0.6666666666666666,
              "#ed7953"
             ],
             [
              0.7777777777777778,
              "#fb9f3a"
             ],
             [
              0.8888888888888888,
              "#fdca26"
             ],
             [
              1,
              "#f0f921"
             ]
            ],
            "type": "contour"
           }
          ],
          "contourcarpet": [
           {
            "colorbar": {
             "outlinewidth": 0,
             "ticks": ""
            },
            "type": "contourcarpet"
           }
          ],
          "heatmap": [
           {
            "colorbar": {
             "outlinewidth": 0,
             "ticks": ""
            },
            "colorscale": [
             [
              0,
              "#0d0887"
             ],
             [
              0.1111111111111111,
              "#46039f"
             ],
             [
              0.2222222222222222,
              "#7201a8"
             ],
             [
              0.3333333333333333,
              "#9c179e"
             ],
             [
              0.4444444444444444,
              "#bd3786"
             ],
             [
              0.5555555555555556,
              "#d8576b"
             ],
             [
              0.6666666666666666,
              "#ed7953"
             ],
             [
              0.7777777777777778,
              "#fb9f3a"
             ],
             [
              0.8888888888888888,
              "#fdca26"
             ],
             [
              1,
              "#f0f921"
             ]
            ],
            "type": "heatmap"
           }
          ],
          "heatmapgl": [
           {
            "colorbar": {
             "outlinewidth": 0,
             "ticks": ""
            },
            "colorscale": [
             [
              0,
              "#0d0887"
             ],
             [
              0.1111111111111111,
              "#46039f"
             ],
             [
              0.2222222222222222,
              "#7201a8"
             ],
             [
              0.3333333333333333,
              "#9c179e"
             ],
             [
              0.4444444444444444,
              "#bd3786"
             ],
             [
              0.5555555555555556,
              "#d8576b"
             ],
             [
              0.6666666666666666,
              "#ed7953"
             ],
             [
              0.7777777777777778,
              "#fb9f3a"
             ],
             [
              0.8888888888888888,
              "#fdca26"
             ],
             [
              1,
              "#f0f921"
             ]
            ],
            "type": "heatmapgl"
           }
          ],
          "histogram": [
           {
            "marker": {
             "pattern": {
              "fillmode": "overlay",
              "size": 10,
              "solidity": 0.2
             }
            },
            "type": "histogram"
           }
          ],
          "histogram2d": [
           {
            "colorbar": {
             "outlinewidth": 0,
             "ticks": ""
            },
            "colorscale": [
             [
              0,
              "#0d0887"
             ],
             [
              0.1111111111111111,
              "#46039f"
             ],
             [
              0.2222222222222222,
              "#7201a8"
             ],
             [
              0.3333333333333333,
              "#9c179e"
             ],
             [
              0.4444444444444444,
              "#bd3786"
             ],
             [
              0.5555555555555556,
              "#d8576b"
             ],
             [
              0.6666666666666666,
              "#ed7953"
             ],
             [
              0.7777777777777778,
              "#fb9f3a"
             ],
             [
              0.8888888888888888,
              "#fdca26"
             ],
             [
              1,
              "#f0f921"
             ]
            ],
            "type": "histogram2d"
           }
          ],
          "histogram2dcontour": [
           {
            "colorbar": {
             "outlinewidth": 0,
             "ticks": ""
            },
            "colorscale": [
             [
              0,
              "#0d0887"
             ],
             [
              0.1111111111111111,
              "#46039f"
             ],
             [
              0.2222222222222222,
              "#7201a8"
             ],
             [
              0.3333333333333333,
              "#9c179e"
             ],
             [
              0.4444444444444444,
              "#bd3786"
             ],
             [
              0.5555555555555556,
              "#d8576b"
             ],
             [
              0.6666666666666666,
              "#ed7953"
             ],
             [
              0.7777777777777778,
              "#fb9f3a"
             ],
             [
              0.8888888888888888,
              "#fdca26"
             ],
             [
              1,
              "#f0f921"
             ]
            ],
            "type": "histogram2dcontour"
           }
          ],
          "mesh3d": [
           {
            "colorbar": {
             "outlinewidth": 0,
             "ticks": ""
            },
            "type": "mesh3d"
           }
          ],
          "parcoords": [
           {
            "line": {
             "colorbar": {
              "outlinewidth": 0,
              "ticks": ""
             }
            },
            "type": "parcoords"
           }
          ],
          "pie": [
           {
            "automargin": true,
            "type": "pie"
           }
          ],
          "scatter": [
           {
            "fillpattern": {
             "fillmode": "overlay",
             "size": 10,
             "solidity": 0.2
            },
            "type": "scatter"
           }
          ],
          "scatter3d": [
           {
            "line": {
             "colorbar": {
              "outlinewidth": 0,
              "ticks": ""
             }
            },
            "marker": {
             "colorbar": {
              "outlinewidth": 0,
              "ticks": ""
             }
            },
            "type": "scatter3d"
           }
          ],
          "scattercarpet": [
           {
            "marker": {
             "colorbar": {
              "outlinewidth": 0,
              "ticks": ""
             }
            },
            "type": "scattercarpet"
           }
          ],
          "scattergeo": [
           {
            "marker": {
             "colorbar": {
              "outlinewidth": 0,
              "ticks": ""
             }
            },
            "type": "scattergeo"
           }
          ],
          "scattergl": [
           {
            "marker": {
             "colorbar": {
              "outlinewidth": 0,
              "ticks": ""
             }
            },
            "type": "scattergl"
           }
          ],
          "scattermapbox": [
           {
            "marker": {
             "colorbar": {
              "outlinewidth": 0,
              "ticks": ""
             }
            },
            "type": "scattermapbox"
           }
          ],
          "scatterpolar": [
           {
            "marker": {
             "colorbar": {
              "outlinewidth": 0,
              "ticks": ""
             }
            },
            "type": "scatterpolar"
           }
          ],
          "scatterpolargl": [
           {
            "marker": {
             "colorbar": {
              "outlinewidth": 0,
              "ticks": ""
             }
            },
            "type": "scatterpolargl"
           }
          ],
          "scatterternary": [
           {
            "marker": {
             "colorbar": {
              "outlinewidth": 0,
              "ticks": ""
             }
            },
            "type": "scatterternary"
           }
          ],
          "surface": [
           {
            "colorbar": {
             "outlinewidth": 0,
             "ticks": ""
            },
            "colorscale": [
             [
              0,
              "#0d0887"
             ],
             [
              0.1111111111111111,
              "#46039f"
             ],
             [
              0.2222222222222222,
              "#7201a8"
             ],
             [
              0.3333333333333333,
              "#9c179e"
             ],
             [
              0.4444444444444444,
              "#bd3786"
             ],
             [
              0.5555555555555556,
              "#d8576b"
             ],
             [
              0.6666666666666666,
              "#ed7953"
             ],
             [
              0.7777777777777778,
              "#fb9f3a"
             ],
             [
              0.8888888888888888,
              "#fdca26"
             ],
             [
              1,
              "#f0f921"
             ]
            ],
            "type": "surface"
           }
          ],
          "table": [
           {
            "cells": {
             "fill": {
              "color": "#EBF0F8"
             },
             "line": {
              "color": "white"
             }
            },
            "header": {
             "fill": {
              "color": "#C8D4E3"
             },
             "line": {
              "color": "white"
             }
            },
            "type": "table"
           }
          ]
         },
         "layout": {
          "annotationdefaults": {
           "arrowcolor": "#2a3f5f",
           "arrowhead": 0,
           "arrowwidth": 1
          },
          "autotypenumbers": "strict",
          "coloraxis": {
           "colorbar": {
            "outlinewidth": 0,
            "ticks": ""
           }
          },
          "colorscale": {
           "diverging": [
            [
             0,
             "#8e0152"
            ],
            [
             0.1,
             "#c51b7d"
            ],
            [
             0.2,
             "#de77ae"
            ],
            [
             0.3,
             "#f1b6da"
            ],
            [
             0.4,
             "#fde0ef"
            ],
            [
             0.5,
             "#f7f7f7"
            ],
            [
             0.6,
             "#e6f5d0"
            ],
            [
             0.7,
             "#b8e186"
            ],
            [
             0.8,
             "#7fbc41"
            ],
            [
             0.9,
             "#4d9221"
            ],
            [
             1,
             "#276419"
            ]
           ],
           "sequential": [
            [
             0,
             "#0d0887"
            ],
            [
             0.1111111111111111,
             "#46039f"
            ],
            [
             0.2222222222222222,
             "#7201a8"
            ],
            [
             0.3333333333333333,
             "#9c179e"
            ],
            [
             0.4444444444444444,
             "#bd3786"
            ],
            [
             0.5555555555555556,
             "#d8576b"
            ],
            [
             0.6666666666666666,
             "#ed7953"
            ],
            [
             0.7777777777777778,
             "#fb9f3a"
            ],
            [
             0.8888888888888888,
             "#fdca26"
            ],
            [
             1,
             "#f0f921"
            ]
           ],
           "sequentialminus": [
            [
             0,
             "#0d0887"
            ],
            [
             0.1111111111111111,
             "#46039f"
            ],
            [
             0.2222222222222222,
             "#7201a8"
            ],
            [
             0.3333333333333333,
             "#9c179e"
            ],
            [
             0.4444444444444444,
             "#bd3786"
            ],
            [
             0.5555555555555556,
             "#d8576b"
            ],
            [
             0.6666666666666666,
             "#ed7953"
            ],
            [
             0.7777777777777778,
             "#fb9f3a"
            ],
            [
             0.8888888888888888,
             "#fdca26"
            ],
            [
             1,
             "#f0f921"
            ]
           ]
          },
          "colorway": [
           "#636efa",
           "#EF553B",
           "#00cc96",
           "#ab63fa",
           "#FFA15A",
           "#19d3f3",
           "#FF6692",
           "#B6E880",
           "#FF97FF",
           "#FECB52"
          ],
          "font": {
           "color": "#2a3f5f"
          },
          "geo": {
           "bgcolor": "white",
           "lakecolor": "white",
           "landcolor": "#E5ECF6",
           "showlakes": true,
           "showland": true,
           "subunitcolor": "white"
          },
          "hoverlabel": {
           "align": "left"
          },
          "hovermode": "closest",
          "mapbox": {
           "style": "light"
          },
          "paper_bgcolor": "white",
          "plot_bgcolor": "#E5ECF6",
          "polar": {
           "angularaxis": {
            "gridcolor": "white",
            "linecolor": "white",
            "ticks": ""
           },
           "bgcolor": "#E5ECF6",
           "radialaxis": {
            "gridcolor": "white",
            "linecolor": "white",
            "ticks": ""
           }
          },
          "scene": {
           "xaxis": {
            "backgroundcolor": "#E5ECF6",
            "gridcolor": "white",
            "gridwidth": 2,
            "linecolor": "white",
            "showbackground": true,
            "ticks": "",
            "zerolinecolor": "white"
           },
           "yaxis": {
            "backgroundcolor": "#E5ECF6",
            "gridcolor": "white",
            "gridwidth": 2,
            "linecolor": "white",
            "showbackground": true,
            "ticks": "",
            "zerolinecolor": "white"
           },
           "zaxis": {
            "backgroundcolor": "#E5ECF6",
            "gridcolor": "white",
            "gridwidth": 2,
            "linecolor": "white",
            "showbackground": true,
            "ticks": "",
            "zerolinecolor": "white"
           }
          },
          "shapedefaults": {
           "line": {
            "color": "#2a3f5f"
           }
          },
          "ternary": {
           "aaxis": {
            "gridcolor": "white",
            "linecolor": "white",
            "ticks": ""
           },
           "baxis": {
            "gridcolor": "white",
            "linecolor": "white",
            "ticks": ""
           },
           "bgcolor": "#E5ECF6",
           "caxis": {
            "gridcolor": "white",
            "linecolor": "white",
            "ticks": ""
           }
          },
          "title": {
           "x": 0.05
          },
          "xaxis": {
           "automargin": true,
           "gridcolor": "white",
           "linecolor": "white",
           "ticks": "",
           "title": {
            "standoff": 15
           },
           "zerolinecolor": "white",
           "zerolinewidth": 2
          },
          "yaxis": {
           "automargin": true,
           "gridcolor": "white",
           "linecolor": "white",
           "ticks": "",
           "title": {
            "standoff": 15
           },
           "zerolinecolor": "white",
           "zerolinewidth": 2
          }
         }
        },
        "title": {
         "text": "Share of Energy as a % of GDP vs Total BTU for Top 5 States in 2022"
        },
        "xaxis": {
         "anchor": "y",
         "domain": [
          0,
          1
         ],
         "title": {
          "text": "Exp_GDP_%"
         }
        },
        "yaxis": {
         "anchor": "x",
         "domain": [
          0,
          1
         ],
         "title": {
          "text": "Total BTU Consumption"
         }
        }
       }
      },
      "text/html": [
       "<div>                            <div id=\"dd25ebec-9904-4f59-9810-ad81c3d96d63\" class=\"plotly-graph-div\" style=\"height:525px; width:100%;\"></div>            <script type=\"text/javascript\">                require([\"plotly\"], function(Plotly) {                    window.PLOTLYENV=window.PLOTLYENV || {};                                    if (document.getElementById(\"dd25ebec-9904-4f59-9810-ad81c3d96d63\")) {                    Plotly.newPlot(                        \"dd25ebec-9904-4f59-9810-ad81c3d96d63\",                        [{\"hovertemplate\":\"Exp_GDP_%=%{x}\\u003cbr\\u003eTotal BTU Consumption=%{y}\\u003cbr\\u003eState=%{text}\\u003cextra\\u003e\\u003c\\u002fextra\\u003e\",\"legendgroup\":\"\",\"marker\":{\"color\":\"#636efa\",\"symbol\":\"circle\"},\"mode\":\"markers+text\",\"name\":\"\",\"orientation\":\"v\",\"showlegend\":false,\"text\":[\"TX\",\"CA\",\"FL\",\"NY\",\"PA\"],\"x\":[8.44,5.49,6.2,3.94,6.9],\"xaxis\":\"x\",\"y\":[351106,832035,300693,255100,172620],\"yaxis\":\"y\",\"type\":\"scatter\"}],                        {\"template\":{\"data\":{\"histogram2dcontour\":[{\"type\":\"histogram2dcontour\",\"colorbar\":{\"outlinewidth\":0,\"ticks\":\"\"},\"colorscale\":[[0.0,\"#0d0887\"],[0.1111111111111111,\"#46039f\"],[0.2222222222222222,\"#7201a8\"],[0.3333333333333333,\"#9c179e\"],[0.4444444444444444,\"#bd3786\"],[0.5555555555555556,\"#d8576b\"],[0.6666666666666666,\"#ed7953\"],[0.7777777777777778,\"#fb9f3a\"],[0.8888888888888888,\"#fdca26\"],[1.0,\"#f0f921\"]]}],\"choropleth\":[{\"type\":\"choropleth\",\"colorbar\":{\"outlinewidth\":0,\"ticks\":\"\"}}],\"histogram2d\":[{\"type\":\"histogram2d\",\"colorbar\":{\"outlinewidth\":0,\"ticks\":\"\"},\"colorscale\":[[0.0,\"#0d0887\"],[0.1111111111111111,\"#46039f\"],[0.2222222222222222,\"#7201a8\"],[0.3333333333333333,\"#9c179e\"],[0.4444444444444444,\"#bd3786\"],[0.5555555555555556,\"#d8576b\"],[0.6666666666666666,\"#ed7953\"],[0.7777777777777778,\"#fb9f3a\"],[0.8888888888888888,\"#fdca26\"],[1.0,\"#f0f921\"]]}],\"heatmap\":[{\"type\":\"heatmap\",\"colorbar\":{\"outlinewidth\":0,\"ticks\":\"\"},\"colorscale\":[[0.0,\"#0d0887\"],[0.1111111111111111,\"#46039f\"],[0.2222222222222222,\"#7201a8\"],[0.3333333333333333,\"#9c179e\"],[0.4444444444444444,\"#bd3786\"],[0.5555555555555556,\"#d8576b\"],[0.6666666666666666,\"#ed7953\"],[0.7777777777777778,\"#fb9f3a\"],[0.8888888888888888,\"#fdca26\"],[1.0,\"#f0f921\"]]}],\"heatmapgl\":[{\"type\":\"heatmapgl\",\"colorbar\":{\"outlinewidth\":0,\"ticks\":\"\"},\"colorscale\":[[0.0,\"#0d0887\"],[0.1111111111111111,\"#46039f\"],[0.2222222222222222,\"#7201a8\"],[0.3333333333333333,\"#9c179e\"],[0.4444444444444444,\"#bd3786\"],[0.5555555555555556,\"#d8576b\"],[0.6666666666666666,\"#ed7953\"],[0.7777777777777778,\"#fb9f3a\"],[0.8888888888888888,\"#fdca26\"],[1.0,\"#f0f921\"]]}],\"contourcarpet\":[{\"type\":\"contourcarpet\",\"colorbar\":{\"outlinewidth\":0,\"ticks\":\"\"}}],\"contour\":[{\"type\":\"contour\",\"colorbar\":{\"outlinewidth\":0,\"ticks\":\"\"},\"colorscale\":[[0.0,\"#0d0887\"],[0.1111111111111111,\"#46039f\"],[0.2222222222222222,\"#7201a8\"],[0.3333333333333333,\"#9c179e\"],[0.4444444444444444,\"#bd3786\"],[0.5555555555555556,\"#d8576b\"],[0.6666666666666666,\"#ed7953\"],[0.7777777777777778,\"#fb9f3a\"],[0.8888888888888888,\"#fdca26\"],[1.0,\"#f0f921\"]]}],\"surface\":[{\"type\":\"surface\",\"colorbar\":{\"outlinewidth\":0,\"ticks\":\"\"},\"colorscale\":[[0.0,\"#0d0887\"],[0.1111111111111111,\"#46039f\"],[0.2222222222222222,\"#7201a8\"],[0.3333333333333333,\"#9c179e\"],[0.4444444444444444,\"#bd3786\"],[0.5555555555555556,\"#d8576b\"],[0.6666666666666666,\"#ed7953\"],[0.7777777777777778,\"#fb9f3a\"],[0.8888888888888888,\"#fdca26\"],[1.0,\"#f0f921\"]]}],\"mesh3d\":[{\"type\":\"mesh3d\",\"colorbar\":{\"outlinewidth\":0,\"ticks\":\"\"}}],\"scatter\":[{\"fillpattern\":{\"fillmode\":\"overlay\",\"size\":10,\"solidity\":0.2},\"type\":\"scatter\"}],\"parcoords\":[{\"type\":\"parcoords\",\"line\":{\"colorbar\":{\"outlinewidth\":0,\"ticks\":\"\"}}}],\"scatterpolargl\":[{\"type\":\"scatterpolargl\",\"marker\":{\"colorbar\":{\"outlinewidth\":0,\"ticks\":\"\"}}}],\"bar\":[{\"error_x\":{\"color\":\"#2a3f5f\"},\"error_y\":{\"color\":\"#2a3f5f\"},\"marker\":{\"line\":{\"color\":\"#E5ECF6\",\"width\":0.5},\"pattern\":{\"fillmode\":\"overlay\",\"size\":10,\"solidity\":0.2}},\"type\":\"bar\"}],\"scattergeo\":[{\"type\":\"scattergeo\",\"marker\":{\"colorbar\":{\"outlinewidth\":0,\"ticks\":\"\"}}}],\"scatterpolar\":[{\"type\":\"scatterpolar\",\"marker\":{\"colorbar\":{\"outlinewidth\":0,\"ticks\":\"\"}}}],\"histogram\":[{\"marker\":{\"pattern\":{\"fillmode\":\"overlay\",\"size\":10,\"solidity\":0.2}},\"type\":\"histogram\"}],\"scattergl\":[{\"type\":\"scattergl\",\"marker\":{\"colorbar\":{\"outlinewidth\":0,\"ticks\":\"\"}}}],\"scatter3d\":[{\"type\":\"scatter3d\",\"line\":{\"colorbar\":{\"outlinewidth\":0,\"ticks\":\"\"}},\"marker\":{\"colorbar\":{\"outlinewidth\":0,\"ticks\":\"\"}}}],\"scattermapbox\":[{\"type\":\"scattermapbox\",\"marker\":{\"colorbar\":{\"outlinewidth\":0,\"ticks\":\"\"}}}],\"scatterternary\":[{\"type\":\"scatterternary\",\"marker\":{\"colorbar\":{\"outlinewidth\":0,\"ticks\":\"\"}}}],\"scattercarpet\":[{\"type\":\"scattercarpet\",\"marker\":{\"colorbar\":{\"outlinewidth\":0,\"ticks\":\"\"}}}],\"carpet\":[{\"aaxis\":{\"endlinecolor\":\"#2a3f5f\",\"gridcolor\":\"white\",\"linecolor\":\"white\",\"minorgridcolor\":\"white\",\"startlinecolor\":\"#2a3f5f\"},\"baxis\":{\"endlinecolor\":\"#2a3f5f\",\"gridcolor\":\"white\",\"linecolor\":\"white\",\"minorgridcolor\":\"white\",\"startlinecolor\":\"#2a3f5f\"},\"type\":\"carpet\"}],\"table\":[{\"cells\":{\"fill\":{\"color\":\"#EBF0F8\"},\"line\":{\"color\":\"white\"}},\"header\":{\"fill\":{\"color\":\"#C8D4E3\"},\"line\":{\"color\":\"white\"}},\"type\":\"table\"}],\"barpolar\":[{\"marker\":{\"line\":{\"color\":\"#E5ECF6\",\"width\":0.5},\"pattern\":{\"fillmode\":\"overlay\",\"size\":10,\"solidity\":0.2}},\"type\":\"barpolar\"}],\"pie\":[{\"automargin\":true,\"type\":\"pie\"}]},\"layout\":{\"autotypenumbers\":\"strict\",\"colorway\":[\"#636efa\",\"#EF553B\",\"#00cc96\",\"#ab63fa\",\"#FFA15A\",\"#19d3f3\",\"#FF6692\",\"#B6E880\",\"#FF97FF\",\"#FECB52\"],\"font\":{\"color\":\"#2a3f5f\"},\"hovermode\":\"closest\",\"hoverlabel\":{\"align\":\"left\"},\"paper_bgcolor\":\"white\",\"plot_bgcolor\":\"#E5ECF6\",\"polar\":{\"bgcolor\":\"#E5ECF6\",\"angularaxis\":{\"gridcolor\":\"white\",\"linecolor\":\"white\",\"ticks\":\"\"},\"radialaxis\":{\"gridcolor\":\"white\",\"linecolor\":\"white\",\"ticks\":\"\"}},\"ternary\":{\"bgcolor\":\"#E5ECF6\",\"aaxis\":{\"gridcolor\":\"white\",\"linecolor\":\"white\",\"ticks\":\"\"},\"baxis\":{\"gridcolor\":\"white\",\"linecolor\":\"white\",\"ticks\":\"\"},\"caxis\":{\"gridcolor\":\"white\",\"linecolor\":\"white\",\"ticks\":\"\"}},\"coloraxis\":{\"colorbar\":{\"outlinewidth\":0,\"ticks\":\"\"}},\"colorscale\":{\"sequential\":[[0.0,\"#0d0887\"],[0.1111111111111111,\"#46039f\"],[0.2222222222222222,\"#7201a8\"],[0.3333333333333333,\"#9c179e\"],[0.4444444444444444,\"#bd3786\"],[0.5555555555555556,\"#d8576b\"],[0.6666666666666666,\"#ed7953\"],[0.7777777777777778,\"#fb9f3a\"],[0.8888888888888888,\"#fdca26\"],[1.0,\"#f0f921\"]],\"sequentialminus\":[[0.0,\"#0d0887\"],[0.1111111111111111,\"#46039f\"],[0.2222222222222222,\"#7201a8\"],[0.3333333333333333,\"#9c179e\"],[0.4444444444444444,\"#bd3786\"],[0.5555555555555556,\"#d8576b\"],[0.6666666666666666,\"#ed7953\"],[0.7777777777777778,\"#fb9f3a\"],[0.8888888888888888,\"#fdca26\"],[1.0,\"#f0f921\"]],\"diverging\":[[0,\"#8e0152\"],[0.1,\"#c51b7d\"],[0.2,\"#de77ae\"],[0.3,\"#f1b6da\"],[0.4,\"#fde0ef\"],[0.5,\"#f7f7f7\"],[0.6,\"#e6f5d0\"],[0.7,\"#b8e186\"],[0.8,\"#7fbc41\"],[0.9,\"#4d9221\"],[1,\"#276419\"]]},\"xaxis\":{\"gridcolor\":\"white\",\"linecolor\":\"white\",\"ticks\":\"\",\"title\":{\"standoff\":15},\"zerolinecolor\":\"white\",\"automargin\":true,\"zerolinewidth\":2},\"yaxis\":{\"gridcolor\":\"white\",\"linecolor\":\"white\",\"ticks\":\"\",\"title\":{\"standoff\":15},\"zerolinecolor\":\"white\",\"automargin\":true,\"zerolinewidth\":2},\"scene\":{\"xaxis\":{\"backgroundcolor\":\"#E5ECF6\",\"gridcolor\":\"white\",\"linecolor\":\"white\",\"showbackground\":true,\"ticks\":\"\",\"zerolinecolor\":\"white\",\"gridwidth\":2},\"yaxis\":{\"backgroundcolor\":\"#E5ECF6\",\"gridcolor\":\"white\",\"linecolor\":\"white\",\"showbackground\":true,\"ticks\":\"\",\"zerolinecolor\":\"white\",\"gridwidth\":2},\"zaxis\":{\"backgroundcolor\":\"#E5ECF6\",\"gridcolor\":\"white\",\"linecolor\":\"white\",\"showbackground\":true,\"ticks\":\"\",\"zerolinecolor\":\"white\",\"gridwidth\":2}},\"shapedefaults\":{\"line\":{\"color\":\"#2a3f5f\"}},\"annotationdefaults\":{\"arrowcolor\":\"#2a3f5f\",\"arrowhead\":0,\"arrowwidth\":1},\"geo\":{\"bgcolor\":\"white\",\"landcolor\":\"#E5ECF6\",\"subunitcolor\":\"white\",\"showland\":true,\"showlakes\":true,\"lakecolor\":\"white\"},\"title\":{\"x\":0.05},\"mapbox\":{\"style\":\"light\"}}},\"xaxis\":{\"anchor\":\"y\",\"domain\":[0.0,1.0],\"title\":{\"text\":\"Exp_GDP_%\"}},\"yaxis\":{\"anchor\":\"x\",\"domain\":[0.0,1.0],\"title\":{\"text\":\"Total BTU Consumption\"}},\"legend\":{\"tracegroupgap\":0},\"title\":{\"text\":\"Share of Energy as a % of GDP vs Total BTU for Top 5 States in 2022\"}},                        {\"responsive\": true}                    ).then(function(){\n",
       "                            \n",
       "var gd = document.getElementById('dd25ebec-9904-4f59-9810-ad81c3d96d63');\n",
       "var x = new MutationObserver(function (mutations, observer) {{\n",
       "        var display = window.getComputedStyle(gd).display;\n",
       "        if (!display || display === 'none') {{\n",
       "            console.log([gd, 'removed!']);\n",
       "            Plotly.purge(gd);\n",
       "            observer.disconnect();\n",
       "        }}\n",
       "}});\n",
       "\n",
       "// Listen for the removal of the full notebook cells\n",
       "var notebookContainer = gd.closest('#notebook-container');\n",
       "if (notebookContainer) {{\n",
       "    x.observe(notebookContainer, {childList: true});\n",
       "}}\n",
       "\n",
       "// Listen for the clearing of the current output cell\n",
       "var outputEl = gd.closest('.output');\n",
       "if (outputEl) {{\n",
       "    x.observe(outputEl, {childList: true});\n",
       "}}\n",
       "\n",
       "                        })                };                });            </script>        </div>"
      ]
     },
     "metadata": {},
     "output_type": "display_data"
    }
   ],
   "source": [
    "data_2022_share = merged_all_data[merged_all_data['Year'] == 2022]\n",
    "\n",
    "# Remove the \"US\" row from the data\n",
    "data_no_us_2022_share = data_2022_share[data_2022_share[\"State\"] != \"US\"]\n",
    "\n",
    "# only top 5 states in 2022\n",
    "top_5_share_2022 = data_no_us_2022_share.nlargest(5, 'Expenditures')\n",
    "\n",
    "fig_top5_share_scatter = px.scatter(top_5_share_2022, \n",
    "                              x='Exp_GDP_%', \n",
    "                              y='Total_BTU', \n",
    "                              title=\"Share of Energy as a % of GDP vs Total BTU for Top 5 States in 2022\", \n",
    "                              labels={'Expenditures': 'Energy Share', 'Total_BTU': 'Total BTU Consumption'},\n",
    "                              text='State')\n",
    "\n",
    "# Show the scatter plot\n",
    "fig_top5_share_scatter.show()"
   ]
  },
  {
   "cell_type": "markdown",
   "id": "d454a913-ada8-4371-9dbf-040930630a24",
   "metadata": {},
   "source": [
    "Now this graph shows interesting insights. We saw california and Texas had the highest expenditure in energy but California's renewable energy consumption is highest and share of energy expense as a percentage of GDP is lower than most of the top 5 spending states in energy sector."
   ]
  },
  {
   "cell_type": "code",
   "execution_count": null,
   "id": "6efd5bc9-1b49-414d-ad3c-832b00a9bc1d",
   "metadata": {},
   "outputs": [],
   "source": []
  }
 ],
 "metadata": {
  "kernelspec": {
   "display_name": "base",
   "language": "python",
   "name": "python3"
  },
  "language_info": {
   "codemirror_mode": {
    "name": "ipython",
    "version": 3
   },
   "file_extension": ".py",
   "mimetype": "text/x-python",
   "name": "python",
   "nbconvert_exporter": "python",
   "pygments_lexer": "ipython3",
   "version": "3.12.3"
  }
 },
 "nbformat": 4,
 "nbformat_minor": 5
}
